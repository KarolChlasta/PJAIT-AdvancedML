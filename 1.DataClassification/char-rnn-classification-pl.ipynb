{
  "nbformat": 4,
  "nbformat_minor": 0,
  "metadata": {
    "colab": {
      "name": "char-rnn-classification-pl.ipynb",
      "provenance": [],
      "collapsed_sections": [],
      "toc_visible": true,
      "include_colab_link": true
    },
    "kernelspec": {
      "name": "python3",
      "display_name": "Python 3"
    },
    "accelerator": "GPU"
  },
  "cells": [
    {
      "cell_type": "markdown",
      "metadata": {
        "id": "view-in-github",
        "colab_type": "text"
      },
      "source": [
        "<a href=\"https://colab.research.google.com/github/KarolChlasta/PJAIT-AdvancedML/blob/master/1.DataClassification/char-rnn-classification-pl.ipynb\" target=\"_parent\"><img src=\"https://colab.research.google.com/assets/colab-badge.svg\" alt=\"Open In Colab\"/></a>"
      ]
    },
    {
      "cell_type": "markdown",
      "metadata": {
        "id": "p8R8cWSlrBRK",
        "colab_type": "text"
      },
      "source": [
        "![](https://i.imgur.com/eBRPvWB.png)\n",
        "\n",
        "# Klasyfikacja nazwisk z użyciem sieci rekurencyjnych przetwarzających litery\n",
        "\n",
        "Będziemy budować i trenować klasyfikator RNN przetwarzający znaki, aby klasyfikował słowa. Znakowy RNN odczytuje słowa jako serię znaków - wyprowadzając prognozę i \"stan ukryty\" na każdym kroku, wprowadzając swój poprzedni stan ukryty do każdego kolejnego kroku. Końcową prognozę potraktujemy jako wynik, tj. klasę, do należy dane słowo.\n",
        "\n",
        "Mówiąc dokładniej, przeprowadzimy trening sieci na kilku tysiącach nazwisk pochodzących z 18 języków, i będziemy rozpoznawać język z którego nazwisko pochodzi:\n",
        "\n",
        "```\n",
        "> Czarnowski\n",
        "(79.13%) Polish\n",
        "( 6.21%) Russian\n",
        "( 6.04%) Czech\n",
        "\n",
        "> Satoshi\n",
        "(47.51%) Japanese\n",
        "(26.99%) Arabic\n",
        "(10.29%) Polish\n",
        "```"
      ]
    },
    {
      "cell_type": "markdown",
      "metadata": {
        "id": "CVuGznp_rBRM",
        "colab_type": "text"
      },
      "source": [
        "# Polecana lektura\n",
        "\n",
        "Zakładam że jest już zainstalowany PyTorch, znasz Python'a, oraz znasz pojęcie Tensor'ów:\n",
        "\n",
        "* http://pytorch.org/ - instalacja PyTorch\n",
        "* [Deep Learning with PyTorch: A 60-minute Blitz](http://pytorch.org/tutorials/beginner/deep_learning_60min_blitz.html) - Podstawy PyTorch\n",
        "* [jcjohnson's PyTorch examples](https://github.com/jcjohnson/pytorch-examples) przykłady wykorzystania PyTorch\n",
        "* [Introduction to PyTorch for former Torchies](https://github.com/pytorch/tutorials/blob/master/Introduction%20to%20PyTorch%20for%20former%20Torchies.ipynb) jeżeli znasz Lua Torch\n",
        "\n",
        "Trochę wiedzy o RNN:\n",
        "\n",
        "* [The Unreasonable Effectiveness of Recurrent Neural Networks](http://karpathy.github.io/2015/05/21/rnn-effectiveness/) przykłady z życia wzięte\n",
        "* [Understanding LSTM Networks](http://colah.github.io/posts/2015-08-Understanding-LSTMs/) RNN i LSTM w pigułce"
      ]
    },
    {
      "cell_type": "markdown",
      "metadata": {
        "id": "2XvpHIyOwjUn",
        "colab_type": "text"
      },
      "source": [
        "# Ustawianie środowiska pod RNN-classification"
      ]
    },
    {
      "cell_type": "markdown",
      "metadata": {
        "id": "71gU7PngExlh",
        "colab_type": "text"
      },
      "source": [
        "## Instalacja PyTorch"
      ]
    },
    {
      "cell_type": "code",
      "metadata": {
        "id": "NTQYNZFKG_a5",
        "colab_type": "code",
        "colab": {
          "base_uri": "https://localhost:8080/",
          "height": 68
        },
        "outputId": "41298f52-ba1f-462e-8d67-4cf14c7b2901"
      },
      "source": [
        "# http://pytorch.org/\n",
        "from os import path\n",
        "from wheel.pep425tags import get_abbr_impl, get_impl_ver, get_abi_tag\n",
        "platform = '{}{}-{}'.format(get_abbr_impl(), get_impl_ver(), get_abi_tag())\n",
        "\n",
        "accelerator = 'cu80' if path.exists('/opt/bin/nvidia-smi') else 'cpu'\n",
        "\n",
        "!pip install -q http://download.pytorch.org/whl/{accelerator}/torch-0.4.0-{platform}-linux_x86_64.whl torchvision\n",
        "\n",
        "import torch"
      ],
      "execution_count": 1,
      "outputs": [
        {
          "output_type": "stream",
          "text": [
            "\u001b[K     |████████████████████████████████| 484.0MB 1.1MB/s \n",
            "\u001b[31mERROR: torchvision 0.4.2 has requirement torch==1.3.1, but you'll have torch 0.4.0 which is incompatible.\u001b[0m\n",
            "\u001b[31mERROR: fastai 1.0.59 has requirement torch>=1.0.0, but you'll have torch 0.4.0 which is incompatible.\u001b[0m\n",
            "\u001b[?25h"
          ],
          "name": "stdout"
        }
      ]
    },
    {
      "cell_type": "markdown",
      "metadata": {
        "id": "cdLsetH6JBes",
        "colab_type": "text"
      },
      "source": [
        "## Instalacja bibliotek"
      ]
    },
    {
      "cell_type": "code",
      "metadata": {
        "id": "HNwsxvdnJDw5",
        "colab_type": "code",
        "colab": {
          "base_uri": "https://localhost:8080/",
          "height": 68
        },
        "outputId": "77cab3be-03b7-4c99-8005-50e0de25868f"
      },
      "source": [
        "!pip install -q unidecode tqdm pysmi"
      ],
      "execution_count": 2,
      "outputs": [
        {
          "output_type": "stream",
          "text": [
            "\u001b[K     |████████████████████████████████| 245kB 5.0MB/s \n",
            "\u001b[K     |████████████████████████████████| 81kB 13.1MB/s \n",
            "\u001b[K     |████████████████████████████████| 51kB 8.8MB/s \n",
            "\u001b[?25h"
          ],
          "name": "stdout"
        }
      ]
    },
    {
      "cell_type": "markdown",
      "metadata": {
        "id": "1Kk5FdvHFDeu",
        "colab_type": "text"
      },
      "source": [
        "## Instalacja biblioteki PyDrive wrapper & import "
      ]
    },
    {
      "cell_type": "code",
      "metadata": {
        "id": "AmbL-sxAFERR",
        "colab_type": "code",
        "colab": {}
      },
      "source": [
        "# This only needs to be done once per notebook.\n",
        "!pip install -U -q PyDrive\n",
        "\n",
        "from pydrive.auth import GoogleAuth\n",
        "from pydrive.drive import GoogleDrive\n",
        "from google.colab import auth\n",
        "from oauth2client.client import GoogleCredentials\n",
        "\n",
        "# Authenticate and create the PyDrive client.\n",
        "# This only needs to be done once per notebook.\n",
        "auth.authenticate_user()\n",
        "gauth = GoogleAuth()\n",
        "gauth.credentials = GoogleCredentials.get_application_default()\n",
        "drive = GoogleDrive(gauth)\n",
        "\n",
        "from pathlib import Path\n",
        "import os\n",
        "\n",
        "def download_and_save(file_name, file_id):\n",
        "  downloaded = drive.CreateFile({'id': file_id})\n",
        "  # fetch file\n",
        "  downloaded.FetchContent()\n",
        "  # write file\n",
        "  with open(file_name,'wb') as f:\n",
        "       f.write(downloaded.content.read())\n",
        "      \n",
        "  print(f'Saved {file_name}')\n",
        "  \n",
        "FILE_NAME, FILE_ID = ['file_name', 'file_id']"
      ],
      "execution_count": 0,
      "outputs": []
    },
    {
      "cell_type": "markdown",
      "metadata": {
        "id": "6a-q1f8LFI5y",
        "colab_type": "text"
      },
      "source": [
        "# Pobranie danych"
      ]
    },
    {
      "cell_type": "code",
      "metadata": {
        "id": "YLHSxEQmFe_u",
        "colab_type": "code",
        "colab": {
          "base_uri": "https://localhost:8080/",
          "height": 85
        },
        "outputId": "5b1e900e-4115-4410-9633-981a5509cb7f"
      },
      "source": [
        "from pathlib import Path\n",
        "dataset_path = Path('/content/')\n",
        "!ls -lh $dataset_path/\n",
        "!pwd"
      ],
      "execution_count": 4,
      "outputs": [
        {
          "output_type": "stream",
          "text": [
            "total 8.0K\n",
            "-rw-r--r-- 1 root root 2.7K Nov 22 20:31 adc.json\n",
            "drwxr-xr-x 1 root root 4.0K Nov 21 16:30 sample_data\n",
            "/content\n"
          ],
          "name": "stdout"
        }
      ]
    },
    {
      "cell_type": "markdown",
      "metadata": {
        "id": "ihRsb3C_FeG0",
        "colab_type": "text"
      },
      "source": [
        "## Pobranie datasetu data-names"
      ]
    },
    {
      "cell_type": "code",
      "metadata": {
        "id": "f-ovnDNe0wO8",
        "colab_type": "code",
        "colab": {
          "base_uri": "https://localhost:8080/",
          "height": 34
        },
        "outputId": "8305737d-dcf9-4557-ff70-e72745acab80"
      },
      "source": [
        "# data-names.tgz, https://drive.google.com/file/d/17tzhbLwlfdIsimJDTNghFfx22cT9n7OB\n",
        "names = {FILE_NAME: 'data-names.tgz', FILE_ID: '17tzhbLwlfdIsimJDTNghFfx22cT9n7OB'}\n",
        "names_path = dataset_path / names[FILE_NAME]\n",
        "\n",
        "download_and_save(names_path, names[FILE_ID])"
      ],
      "execution_count": 5,
      "outputs": [
        {
          "output_type": "stream",
          "text": [
            "Saved /content/data-names.tgz\n"
          ],
          "name": "stdout"
        }
      ]
    },
    {
      "cell_type": "code",
      "metadata": {
        "id": "Zl_zASTIF9KN",
        "colab_type": "code",
        "colab": {}
      },
      "source": [
        "# unpack\n",
        "\n",
        "!tar -xf $names_path -C $dataset_path"
      ],
      "execution_count": 0,
      "outputs": []
    },
    {
      "cell_type": "code",
      "metadata": {
        "id": "LBjvOVCPmWwn",
        "colab_type": "code",
        "colab": {
          "base_uri": "https://localhost:8080/",
          "height": 340
        },
        "outputId": "35d1a142-95b3-4649-928f-2a112fa03151"
      },
      "source": [
        "!ls -lh $dataset_path/data/names"
      ],
      "execution_count": 7,
      "outputs": [
        {
          "output_type": "stream",
          "text": [
            "total 200K\n",
            "-rw-r--r-- 1 501 staff  13K Apr 20  2018 Arabic.txt\n",
            "-rw-r--r-- 1 501 staff 1.3K Apr 20  2018 Chinese.txt\n",
            "-rw-r--r-- 1 501 staff 3.9K Apr 20  2018 Czech.txt\n",
            "-rw-r--r-- 1 501 staff 2.3K Apr 20  2018 Dutch.txt\n",
            "-rw-r--r-- 1 501 staff  27K Apr 20  2018 English.txt\n",
            "-rw-r--r-- 1 501 staff 2.2K Apr 20  2018 French.txt\n",
            "-rw-r--r-- 1 501 staff 5.5K Apr 20  2018 German.txt\n",
            "-rw-r--r-- 1 501 staff 2.0K Apr 20  2018 Greek.txt\n",
            "-rw-r--r-- 1 501 staff 1.9K Apr 20  2018 Irish.txt\n",
            "-rw-r--r-- 1 501 staff 5.6K Apr 20  2018 Italian.txt\n",
            "-rw-r--r-- 1 501 staff 7.5K Apr 20  2018 Japanese.txt\n",
            "-rw-r--r-- 1 501 staff  423 Apr 20  2018 Korean.txt\n",
            "-rw-r--r-- 1 501 staff 1.2K Apr 20  2018 Polish.txt\n",
            "-rw-r--r-- 1 501 staff  554 Apr 20  2018 Portuguese.txt\n",
            "-rw-r--r-- 1 501 staff  84K Apr 20  2018 Russian.txt\n",
            "-rw-r--r-- 1 501 staff  752 Apr 20  2018 Scottish.txt\n",
            "-rw-r--r-- 1 501 staff 2.3K Apr 20  2018 Spanish.txt\n",
            "-rw-r--r-- 1 501 staff  339 Apr 20  2018 Vietnamese.txt\n"
          ],
          "name": "stdout"
        }
      ]
    },
    {
      "cell_type": "markdown",
      "metadata": {
        "id": "pvNsvobjFNKz",
        "colab_type": "text"
      },
      "source": [
        "# Opcjonalna integracja z Dyskiem Google\n",
        "\n"
      ]
    },
    {
      "cell_type": "code",
      "metadata": {
        "id": "PZlXy_NvFN9i",
        "colab_type": "code",
        "colab": {
          "base_uri": "https://localhost:8080/",
          "height": 224
        },
        "outputId": "a8aff568-54a1-4495-c9a3-8ca27cb82e61"
      },
      "source": [
        "!apt-get install -y -qq software-properties-common python-software-properties module-init-tools\n",
        "!add-apt-repository -y ppa:alessandro-strada/ppa 2>&1 > /dev/null\n",
        "!apt-get update -qq 2>&1 > /dev/null\n",
        "!apt-get -y install -qq google-drive-ocamlfuse fuse\n",
        "from google.colab import auth\n",
        "auth.authenticate_user()\n",
        "from oauth2client.client import GoogleCredentials\n",
        "creds = GoogleCredentials.get_application_default()\n",
        "import getpass\n",
        "!google-drive-ocamlfuse -headless -id={creds.client_id} -secret={creds.client_secret} < /dev/null 2>&1 | grep URL\n",
        "vcode = getpass.getpass()\n",
        "!echo {vcode} | google-drive-ocamlfuse -headless -id={creds.client_id} -secret={creds.client_secret}\n",
        "\n",
        "!mkdir -p drive\n",
        "!google-drive-ocamlfuse drive -o nonempty"
      ],
      "execution_count": 8,
      "outputs": [
        {
          "output_type": "stream",
          "text": [
            "E: Package 'python-software-properties' has no installation candidate\n",
            "Selecting previously unselected package google-drive-ocamlfuse.\n",
            "(Reading database ... 145605 files and directories currently installed.)\n",
            "Preparing to unpack .../google-drive-ocamlfuse_0.7.13-0ubuntu1~ubuntu18.04.1_amd64.deb ...\n",
            "Unpacking google-drive-ocamlfuse (0.7.13-0ubuntu1~ubuntu18.04.1) ...\n",
            "Setting up google-drive-ocamlfuse (0.7.13-0ubuntu1~ubuntu18.04.1) ...\n",
            "Processing triggers for man-db (2.8.3-2ubuntu0.1) ...\n",
            "Please, open the following URL in a web browser: https://accounts.google.com/o/oauth2/auth?client_id=32555940559.apps.googleusercontent.com&redirect_uri=urn%3Aietf%3Awg%3Aoauth%3A2.0%3Aoob&scope=https%3A%2F%2Fwww.googleapis.com%2Fauth%2Fdrive&response_type=code&access_type=offline&approval_prompt=force\n",
            "··········\n",
            "Please, open the following URL in a web browser: https://accounts.google.com/o/oauth2/auth?client_id=32555940559.apps.googleusercontent.com&redirect_uri=urn%3Aietf%3Awg%3Aoauth%3A2.0%3Aoob&scope=https%3A%2F%2Fwww.googleapis.com%2Fauth%2Fdrive&response_type=code&access_type=offline&approval_prompt=force\n",
            "Please enter the verification code: Access token retrieved correctly.\n"
          ],
          "name": "stdout"
        }
      ]
    },
    {
      "cell_type": "markdown",
      "metadata": {
        "id": "USMDLfIuo6Fd",
        "colab_type": "text"
      },
      "source": [
        "# Monitorowanie maszyny wirtualnej"
      ]
    },
    {
      "cell_type": "code",
      "metadata": {
        "id": "fPB9Yk66qHtz",
        "colab_type": "code",
        "colab": {
          "base_uri": "https://localhost:8080/",
          "height": 34
        },
        "outputId": "00fd23ee-fb3a-4532-cd73-7a4914be8209"
      },
      "source": [
        "!uptime"
      ],
      "execution_count": 9,
      "outputs": [
        {
          "output_type": "stream",
          "text": [
            " 20:32:59 up 3 min,  0 users,  load average: 0.42, 0.36, 0.16\n"
          ],
          "name": "stdout"
        }
      ]
    },
    {
      "cell_type": "markdown",
      "metadata": {
        "id": "V6C-QlCarBRN",
        "colab_type": "text"
      },
      "source": [
        "# Przygotowanie danych\n",
        "\n",
        "Dane znajdują się w folderze `data/names` są podzielone na 18 plików tekstowych nazwanych wg schematu \"[Language].txt\". Każdy plik zawiera wiele nazwisk, po 1 w każdej linii w losowej kolejności, w większości zapisanych alfabetem łacińskim.\n",
        "\n",
        "Otrzymamy coś w rodzaju słownika (python dictionary) składającego się z list nazwisk dla każdego z języków, `{language: [names ...]}`. Ogólne zmienne \"category\" oraz \"line\" (dla języka i nazwiska w naszym przypadku) są używane dla zapewnienia przyszłej rozszerzalności."
      ]
    },
    {
      "cell_type": "code",
      "metadata": {
        "id": "a71GOs1JrBRO",
        "colab_type": "code",
        "outputId": "53fc8a6d-43bd-4fc5-bda5-1cef3e58d6fa",
        "colab": {
          "base_uri": "https://localhost:8080/",
          "height": 54
        }
      },
      "source": [
        "import glob\n",
        "\n",
        "all_filenames = glob.glob('data/names/*.txt')\n",
        "print(all_filenames)"
      ],
      "execution_count": 10,
      "outputs": [
        {
          "output_type": "stream",
          "text": [
            "['data/names/Polish.txt', 'data/names/Italian.txt', 'data/names/Vietnamese.txt', 'data/names/Scottish.txt', 'data/names/Arabic.txt', 'data/names/Greek.txt', 'data/names/Dutch.txt', 'data/names/Korean.txt', 'data/names/French.txt', 'data/names/English.txt', 'data/names/German.txt', 'data/names/Portuguese.txt', 'data/names/Japanese.txt', 'data/names/Czech.txt', 'data/names/Irish.txt', 'data/names/Russian.txt', 'data/names/Spanish.txt', 'data/names/Chinese.txt']\n"
          ],
          "name": "stdout"
        }
      ]
    },
    {
      "cell_type": "code",
      "metadata": {
        "id": "2vKAFyRurBRX",
        "colab_type": "code",
        "outputId": "b049bd6f-8c57-4364-df33-ab2efbdeda1e",
        "colab": {
          "base_uri": "https://localhost:8080/",
          "height": 34
        }
      },
      "source": [
        "# Build the category_lines dictionary, a list of names per language\n",
        "category_lines = {}\n",
        "all_categories = []\n",
        "\n",
        "# Read a file and split into lines\n",
        "def readLines(filename):\n",
        "    lines = open(filename).read().strip().split('\\n')\n",
        "    return lines\n",
        "\n",
        "for filename in all_filenames:\n",
        "    category = filename.split('/')[-1].split('.')[0]\n",
        "    all_categories.append(category)\n",
        "    lines = readLines(filename)\n",
        "    category_lines[category] = lines\n",
        "\n",
        "n_categories = len(all_categories)\n",
        "print('n_categories =', n_categories)"
      ],
      "execution_count": 11,
      "outputs": [
        {
          "output_type": "stream",
          "text": [
            "n_categories = 18\n"
          ],
          "name": "stdout"
        }
      ]
    },
    {
      "cell_type": "code",
      "metadata": {
        "id": "lYmQPq5m-BJZ",
        "colab_type": "code",
        "outputId": "9a08b5b9-2a1c-41a0-afbf-75bc17521ea9",
        "colab": {
          "base_uri": "https://localhost:8080/",
          "height": 51
        }
      },
      "source": [
        "all_letters = ''.join(sorted(list(set(''.join([''.join(v) for k,v in category_lines.items()])))))\n",
        "n_letters = len(all_letters)\n",
        "\n",
        "print(f'all_letters = {all_letters}')\n",
        "print(f'n_letters = {n_letters}')"
      ],
      "execution_count": 12,
      "outputs": [
        {
          "output_type": "stream",
          "text": [
            "all_letters =  ',-/1:ABCDEFGHIJKLMNOPQRSTUVWXYZabcdefghijklmnopqrstuvwxyz ÁÉßàáãäçèéêìíñòóõöùúüąłńŚŻż\n",
            "n_letters = 87\n"
          ],
          "name": "stdout"
        }
      ]
    },
    {
      "cell_type": "markdown",
      "metadata": {
        "id": "rEuKRvtfrBRa",
        "colab_type": "text"
      },
      "source": [
        "Teraz mamy \"category_lines\", słownik mapujący każdą kategorię (język) do listy nazwisk. Przechowujemy także \"all_categories\" (po prostu lsitę języków) oraz \"n_categories\" dla przyszłego użytku."
      ]
    },
    {
      "cell_type": "code",
      "metadata": {
        "id": "kW_eF9IMrBRb",
        "colab_type": "code",
        "outputId": "57e8a0e1-5f78-4fb4-a4aa-3cca87a08d7d",
        "colab": {
          "base_uri": "https://localhost:8080/",
          "height": 51
        }
      },
      "source": [
        "c = category_lines['Polish']; print(len(c))\n",
        "print(c[:5])"
      ],
      "execution_count": 13,
      "outputs": [
        {
          "output_type": "stream",
          "text": [
            "139\n",
            "['Adamczak', 'Adamczyk', 'Andrysiak', 'Auttenberg', 'Bartosz']\n"
          ],
          "name": "stdout"
        }
      ]
    },
    {
      "cell_type": "markdown",
      "metadata": {
        "id": "NQkKmBA1rBRe",
        "colab_type": "text"
      },
      "source": [
        "# Konwersja nazwisk na tensory\n",
        "\n",
        "Teraz jak już wszystkie nazwiska są poukładane, musimy je przekonwertować na tensory.\n",
        "\n",
        "Do reprezentacji pojedynczej litery używamy kodowania 1-z-n (ang. one-hot vector) o rozmiarze <1 x n_letters>. Wektor 1-z-n jest wypełniony zerami za wyjątkiem 1 znajdującej w miejscu przynależnym do pożądanej litery np. `\"b\" = <0 1 0 0 0 ...>`.\n",
        "\n",
        "Aby zbudować słowo łączymy kilka takich wektorów w pojedynczą macierz o wymiarach: `<line_length x 1 x n_letters>`.\n",
        "\n",
        "Dodatkowy wymiar oznaczony 1 jest potrzebny ponieważ PyTorch zakłada że wszystko jest ładowane porcjami (ang. batch) - my tu używamy porcji o rozmiarze równym 1.\n"
      ]
    },
    {
      "cell_type": "code",
      "metadata": {
        "id": "vRuqxAfdrBRf",
        "colab_type": "code",
        "colab": {}
      },
      "source": [
        "import torch\n",
        "\n",
        "# Just for demonstration, turn a letter into a <1 x n_letters> Tensor\n",
        "def letter_to_tensor(letter):\n",
        "    tensor = torch.zeros(1, n_letters)\n",
        "    letter_index = all_letters.find(letter)\n",
        "    tensor[0][letter_index] = 1\n",
        "    return tensor\n",
        "\n",
        "# Turn a line into a <line_length x 1 x n_letters>,\n",
        "# or an array of one-hot letter vectors\n",
        "def line_to_tensor(line):\n",
        "    tensor = torch.zeros(len(line), 1, n_letters)\n",
        "    for li, letter in enumerate(line):\n",
        "        letter_index = all_letters.find(letter)\n",
        "        tensor[li][0][letter_index] = 1\n",
        "    return tensor"
      ],
      "execution_count": 0,
      "outputs": []
    },
    {
      "cell_type": "code",
      "metadata": {
        "id": "AmbVgnZRrBRh",
        "colab_type": "code",
        "colab": {
          "base_uri": "https://localhost:8080/",
          "height": 153
        },
        "outputId": "c1284d2f-9450-4861-ee9a-639e2e92c741"
      },
      "source": [
        "print(letter_to_tensor('c'))"
      ],
      "execution_count": 15,
      "outputs": [
        {
          "output_type": "stream",
          "text": [
            "tensor([[ 0.,  0.,  0.,  0.,  0.,  0.,  0.,  0.,  0.,  0.,  0.,  0.,\n",
            "          0.,  0.,  0.,  0.,  0.,  0.,  0.,  0.,  0.,  0.,  0.,  0.,\n",
            "          0.,  0.,  0.,  0.,  0.,  0.,  0.,  0.,  0.,  0.,  0.,  1.,\n",
            "          0.,  0.,  0.,  0.,  0.,  0.,  0.,  0.,  0.,  0.,  0.,  0.,\n",
            "          0.,  0.,  0.,  0.,  0.,  0.,  0.,  0.,  0.,  0.,  0.,  0.,\n",
            "          0.,  0.,  0.,  0.,  0.,  0.,  0.,  0.,  0.,  0.,  0.,  0.,\n",
            "          0.,  0.,  0.,  0.,  0.,  0.,  0.,  0.,  0.,  0.,  0.,  0.,\n",
            "          0.,  0.,  0.]])\n"
          ],
          "name": "stdout"
        }
      ]
    },
    {
      "cell_type": "code",
      "metadata": {
        "id": "UlM0VMsHrBRk",
        "colab_type": "code",
        "colab": {
          "base_uri": "https://localhost:8080/",
          "height": 34
        },
        "outputId": "5e324405-8116-4338-9167-68e8b06f003e"
      },
      "source": [
        "print(line_to_tensor('Jones').size())"
      ],
      "execution_count": 16,
      "outputs": [
        {
          "output_type": "stream",
          "text": [
            "torch.Size([5, 1, 87])\n"
          ],
          "name": "stdout"
        }
      ]
    },
    {
      "cell_type": "markdown",
      "metadata": {
        "id": "sKEVhPdqrBRn",
        "colab_type": "text"
      },
      "source": [
        "# Budowa sieci rekurencyjnej\n",
        "\n",
        "Przed zastosowaniem metody autograd, stworzenie RNN w Torchu wiązało się z klonowaniem parametrów warstwy dla kolejnych kroków. Warstwy przechowywały stany ukryte oraz gradienty, które obecnie są całkowicie obsługiwane przez graf. Oznaczna to że możesz zaimplementować RNN w bardzo przystępnej formie podobnie jak zwyczajne wartwy feed-forward.\n",
        "\n",
        "Ten moduł RNN (zainspirowany [the PyTorch for Torch users tutorial](https://pytorch.org/tutorials/beginner/former_torchies/nn_tutorial.html#example-2-recurrent-net)) to tylko 2 linearne warstwy, które operują na wejściu oraz stanie ukrytym, a także aplikują warstwę LogSoftmax na wyjściu.\n",
        "\n",
        "![](https://i.imgur.com/Z2xbySO.png)"
      ]
    },
    {
      "cell_type": "code",
      "metadata": {
        "id": "-H_F5WHwrBRo",
        "colab_type": "code",
        "colab": {}
      },
      "source": [
        "import torch.nn as nn\n",
        "from torch.autograd import Variable\n",
        "\n",
        "class RNN(nn.Module):\n",
        "    def __init__(self, input_size, hidden_size, output_size):\n",
        "        super(RNN, self).__init__()\n",
        "        \n",
        "        self.input_size = input_size\n",
        "        self.hidden_size = hidden_size\n",
        "        self.output_size = output_size\n",
        "        \n",
        "        self.i2h = nn.Linear(input_size + hidden_size, hidden_size)\n",
        "        self.i2o = nn.Linear(input_size + hidden_size, output_size)\n",
        "        self.softmax = nn.LogSoftmax(dim=-1)\n",
        "    \n",
        "    def forward(self, input, hidden):\n",
        "        combined = torch.cat((input, hidden), 1)\n",
        "        hidden = self.i2h(combined)\n",
        "        output = self.i2o(combined)\n",
        "        output = self.softmax(output)\n",
        "        return output, hidden\n",
        "\n",
        "    def init_hidden(self):\n",
        "        return Variable(torch.zeros(1, self.hidden_size))"
      ],
      "execution_count": 0,
      "outputs": []
    },
    {
      "cell_type": "markdown",
      "metadata": {
        "id": "oO72znMkrBRq",
        "colab_type": "text"
      },
      "source": [
        "## Ręczne testowanie sieci\n",
        "\n",
        "Mając zdefiniowaną naszą klasę `RNN`, stwórzmy jej nową instancję:"
      ]
    },
    {
      "cell_type": "code",
      "metadata": {
        "id": "5CbBFv3LrBRq",
        "colab_type": "code",
        "colab": {
          "base_uri": "https://localhost:8080/",
          "height": 102
        },
        "outputId": "d3d20e01-71be-421a-f2aa-49cb525d860c"
      },
      "source": [
        "n_hidden = 128\n",
        "rnn = RNN(n_letters, n_hidden, n_categories)\n",
        "print(rnn)"
      ],
      "execution_count": 18,
      "outputs": [
        {
          "output_type": "stream",
          "text": [
            "RNN(\n",
            "  (i2h): Linear(in_features=215, out_features=128, bias=True)\n",
            "  (i2o): Linear(in_features=215, out_features=18, bias=True)\n",
            "  (softmax): LogSoftmax()\n",
            ")\n"
          ],
          "name": "stdout"
        }
      ]
    },
    {
      "cell_type": "markdown",
      "metadata": {
        "id": "m5D65D12rBRr",
        "colab_type": "text"
      },
      "source": [
        "Aby uruchomić jakiś krok naszej sieci, musimy najpierw przekazać jakieś dane wejściowe (w tym przypadku Tensor bieżącej litery) oraz poprzedni stan ukryty (który inicjalizujemy na początku zerami). W taki sposób otrzymamy wynik (prawdopodobieństwo każdego języka) oraz następny stan ukryty (niezbędny w kolejnym kroku).\n",
        "\n",
        "Pamiętaj że moduły PyTorch operują na Zmiennych (Variables), a nie bezpośrednio na Tensorach.\n"
      ]
    },
    {
      "cell_type": "code",
      "metadata": {
        "id": "0VztWCSkrBRs",
        "colab_type": "code",
        "colab": {
          "base_uri": "https://localhost:8080/",
          "height": 34
        },
        "outputId": "43b0b834-3603-4fc9-a037-23f1eff60455"
      },
      "source": [
        "input = Variable(letter_to_tensor('A'))\n",
        "hidden = rnn.init_hidden()\n",
        "\n",
        "output, next_hidden = rnn(input, hidden)\n",
        "print('output.size =', output.size())"
      ],
      "execution_count": 19,
      "outputs": [
        {
          "output_type": "stream",
          "text": [
            "output.size = torch.Size([1, 18])\n"
          ],
          "name": "stdout"
        }
      ]
    },
    {
      "cell_type": "markdown",
      "metadata": {
        "id": "7V3WjmyyrBRu",
        "colab_type": "text"
      },
      "source": [
        "Na potrzeby wydajności nie chcemy tworzyć nowego Tensora dla każdego kroku, więc używamy metody `line_to_tensor` zamiast `letter_to_tensor` a także tzw. wycinków (slices). Można to jeszcze zoptymalizować obliczając wcześniej porcje (batches) Tensorów."
      ]
    },
    {
      "cell_type": "code",
      "metadata": {
        "id": "e225Ggi8rBRu",
        "colab_type": "code",
        "colab": {
          "base_uri": "https://localhost:8080/",
          "height": 68
        },
        "outputId": "e69b9db3-a8a3-4890-f56f-751cf28a5973"
      },
      "source": [
        "input = Variable(line_to_tensor('Albert'))\n",
        "hidden = Variable(torch.zeros(1, n_hidden))\n",
        "\n",
        "output, next_hidden = rnn(input[0], hidden)\n",
        "output"
      ],
      "execution_count": 20,
      "outputs": [
        {
          "output_type": "execute_result",
          "data": {
            "text/plain": [
              "tensor([[-3.0170, -2.9118, -2.9070, -2.8532, -2.8450, -3.0084, -2.7909,\n",
              "         -2.9085, -2.7988, -2.9048, -2.8822, -2.8245, -2.8434, -2.9334,\n",
              "         -2.9157, -2.8700, -2.9039, -2.9406]])"
            ]
          },
          "metadata": {
            "tags": []
          },
          "execution_count": 20
        }
      ]
    },
    {
      "cell_type": "markdown",
      "metadata": {
        "id": "1_m-H2UxrBRw",
        "colab_type": "text"
      },
      "source": [
        "Tak jak widać wynikiem jest Tensor `<1 x n_categories>`, gdzie każdy element jest prawdopodobieństwem danej kategorii."
      ]
    },
    {
      "cell_type": "markdown",
      "metadata": {
        "id": "7YnU8U1vrBRw",
        "colab_type": "text"
      },
      "source": [
        "# Przygotowanie do treningu sieci\n",
        "\n",
        "Zanim rozpoczeniemy trening musimy zaimplementować kilka funkcji pomocniczych.\n",
        "Pierwsza to interpreter wyjść naszej sieci. Użyjemy tu `Tensor.topk` aby uzyskać indeks największej wartości:"
      ]
    },
    {
      "cell_type": "code",
      "metadata": {
        "id": "Hwu8mcP7rBRx",
        "colab_type": "code",
        "colab": {
          "base_uri": "https://localhost:8080/",
          "height": 34
        },
        "outputId": "5d4bc486-9664-4d79-a33e-5a34cd92c642"
      },
      "source": [
        "def category_from_output(output):\n",
        "    top_n, top_i = output.data.topk(1) # Tensor out of Variable with .data\n",
        "    category_i = top_i[0][0]\n",
        "    return all_categories[category_i], category_i\n",
        "\n",
        "print(category_from_output(output))"
      ],
      "execution_count": 21,
      "outputs": [
        {
          "output_type": "stream",
          "text": [
            "('Dutch', tensor(6))\n"
          ],
          "name": "stdout"
        }
      ]
    },
    {
      "cell_type": "markdown",
      "metadata": {
        "id": "5vMB6vperBRz",
        "colab_type": "text"
      },
      "source": [
        "Potrzebna będzie także metoda otrzymywania przykładów treningowych (nazwisko oraz język):\n"
      ]
    },
    {
      "cell_type": "code",
      "metadata": {
        "id": "yrRTTzbyrBRz",
        "colab_type": "code",
        "colab": {
          "base_uri": "https://localhost:8080/",
          "height": 187
        },
        "outputId": "b75e2eec-886a-43be-d838-3baf2ef81a50"
      },
      "source": [
        "import random\n",
        "\n",
        "def random_training_pair():                                                                                                               \n",
        "    category = random.choice(all_categories)\n",
        "    line = random.choice(category_lines[category])\n",
        "    category_tensor = Variable(torch.LongTensor([all_categories.index(category)]))\n",
        "    line_tensor = Variable(line_to_tensor(line))\n",
        "    return category, line, category_tensor, line_tensor\n",
        "\n",
        "for i in range(10):\n",
        "    category, line, category_tensor, line_tensor = random_training_pair()\n",
        "    print('category =', category, '/ line =', line)"
      ],
      "execution_count": 22,
      "outputs": [
        {
          "output_type": "stream",
          "text": [
            "category = German / line = Kraemer\n",
            "category = Irish / line = Quinn\n",
            "category = Polish / line = Dunajski\n",
            "category = Russian / line = Murylev\n",
            "category = Czech / line = Plisko\n",
            "category = Korean / line = Rhee\n",
            "category = Italian / line = Albrici\n",
            "category = Korean / line = Ngai\n",
            "category = Dutch / line = Alphen\n",
            "category = Spanish / line = Robledo\n"
          ],
          "name": "stdout"
        }
      ]
    },
    {
      "cell_type": "markdown",
      "metadata": {
        "id": "DOyloI9erBR1",
        "colab_type": "text"
      },
      "source": [
        "# Trening sieci\n",
        "\n",
        "Aby wytrenować sieć musimy jej \"pokazać\" wiele przykładów, pozwolić jej zgadywać i powiedzieć jej, kiedy się myli.\n",
        "\n",
        "Na funkcję straty nadaje się metoda: [`nn.NLLLoss`](http://pytorch.org/docs/nn.html#nllloss), ponieważ ostatnia wartwa RNN to `nn.LogSoftmax`."
      ]
    },
    {
      "cell_type": "code",
      "metadata": {
        "id": "8A9iRTXNrBR1",
        "colab_type": "code",
        "colab": {}
      },
      "source": [
        "criterion = nn.NLLLoss()"
      ],
      "execution_count": 0,
      "outputs": []
    },
    {
      "cell_type": "markdown",
      "metadata": {
        "id": "in9q2gr8rBR2",
        "colab_type": "text"
      },
      "source": [
        "Dodatkowo tworzymy 'optimizer', który będzie aktualizował parametry naszego modelu zależnie od gradientów. Wykorzystujemy tu zwykły algorytm SGD z małym tempem uczenia."
      ]
    },
    {
      "cell_type": "code",
      "metadata": {
        "id": "2lhQHB5-rBR2",
        "colab_type": "code",
        "colab": {}
      },
      "source": [
        "learning_rate = 0.005 # If you set this too high, it might explode. If too low, it might not learn\n",
        "optimizer = torch.optim.SGD(rnn.parameters(), lr=learning_rate)"
      ],
      "execution_count": 0,
      "outputs": []
    },
    {
      "cell_type": "markdown",
      "metadata": {
        "id": "wXH_ipl2rBR4",
        "colab_type": "text"
      },
      "source": [
        "W każdej pętli treningu:\n",
        "\n",
        "* Tworzymy wejściowe i oczekiwane tensory\n",
        "* Tworzymy zerowy stan wejściowy\n",
        "* Odczytujemy każdą literę\n",
        "    * przechowujemy stan ukryty dla następnej litery\n",
        "* Porównujemy otrzymany wynik z wartością oczekiwaną\n",
        "* Robimy wsteczną propagację\n",
        "* Zwracamy wynik i stratę"
      ]
    },
    {
      "cell_type": "code",
      "metadata": {
        "id": "CkoFAE12rBR4",
        "colab_type": "code",
        "colab": {}
      },
      "source": [
        "def train(category_tensor, line_tensor):\n",
        "    rnn.zero_grad()\n",
        "    hidden = rnn.init_hidden()\n",
        "    \n",
        "    for i in range(line_tensor.size()[0]):\n",
        "        output, hidden = rnn(line_tensor[i], hidden)\n",
        "\n",
        "    loss = criterion(output, category_tensor)\n",
        "    loss.backward()\n",
        "\n",
        "    optimizer.step()\n",
        "\n",
        "    return output, loss.item()"
      ],
      "execution_count": 0,
      "outputs": []
    },
    {
      "cell_type": "markdown",
      "metadata": {
        "id": "2vtXC_N6rBR5",
        "colab_type": "text"
      },
      "source": [
        "Teraz wystarczy to powtórzyć dla wielu próbek. Skoro funkcja `train` zwraca wynik i stratę można wypisać jej predykcje i śledzić wartości straty. Ponieważ mamy tysiące próbek wyświetlamy wyniki tylko co `print_every` kroków i liczymy średnią stratę.\n"
      ]
    },
    {
      "cell_type": "code",
      "metadata": {
        "id": "BYBA0bxYrBR6",
        "colab_type": "code",
        "colab": {
          "base_uri": "https://localhost:8080/",
          "height": 357
        },
        "outputId": "480beb75-10da-4622-b3c4-4073dbbaab4f"
      },
      "source": [
        "import time\n",
        "import math\n",
        "\n",
        "n_epochs = 100000\n",
        "print_every = 5000\n",
        "plot_every = 1000\n",
        "\n",
        "# Keep track of losses for plotting\n",
        "current_loss = 0\n",
        "all_losses = []\n",
        "\n",
        "def time_since(since):\n",
        "    now = time.time()\n",
        "    s = now - since\n",
        "    m = math.floor(s / 60)\n",
        "    s -= m * 60\n",
        "    return '%dm %ds' % (m, s)\n",
        "\n",
        "start = time.time()\n",
        "\n",
        "for epoch in range(1, n_epochs + 1):\n",
        "    # Get a random training input and target\n",
        "    category, line, category_tensor, line_tensor = random_training_pair()\n",
        "    output, loss = train(category_tensor, line_tensor)\n",
        "    current_loss += loss\n",
        "    \n",
        "    # Print epoch number, loss, name and guess\n",
        "    if epoch % print_every == 0:\n",
        "        guess, guess_i = category_from_output(output)\n",
        "        correct = '✓' if guess == category else '✗ (%s)' % category\n",
        "        print('%d %d%% (%s) %.4f %s / %s %s' % (epoch, epoch / n_epochs * 100, time_since(start), loss, line, guess, correct))\n",
        "\n",
        "    # Add current loss avg to list of losses\n",
        "    if epoch % plot_every == 0:\n",
        "        all_losses.append(current_loss / plot_every)\n",
        "        current_loss = 0"
      ],
      "execution_count": 26,
      "outputs": [
        {
          "output_type": "stream",
          "text": [
            "5000 5% (0m 3s) 2.4699 Bueren / Dutch ✓\n",
            "10000 10% (0m 7s) 2.4325 Lindsay / Arabic ✗ (Scottish)\n",
            "15000 15% (0m 11s) 1.1720 Maslanka / Polish ✓\n",
            "20000 20% (0m 15s) 0.7504 Tiraboschi / Italian ✓\n",
            "25000 25% (0m 19s) 3.4748 Fux / Chinese ✗ (German)\n",
            "30000 30% (0m 23s) 1.6798 Tremblay / Irish ✗ (French)\n",
            "35000 35% (0m 27s) 0.8331 Hong / Chinese ✓\n",
            "40000 40% (0m 31s) 0.5466 Assaf / Arabic ✓\n",
            "45000 45% (0m 35s) 1.8275 Guidi / Vietnamese ✗ (Italian)\n",
            "50000 50% (0m 38s) 0.6516 Que / Chinese ✓\n",
            "55000 55% (0m 42s) 1.5319 You / Korean ✗ (Chinese)\n",
            "60000 60% (0m 46s) 1.6491 Lord / English ✓\n",
            "65000 65% (0m 50s) 0.6998 Wang / Korean ✓\n",
            "70000 70% (0m 54s) 0.3408 Mui / Chinese ✓\n",
            "75000 75% (0m 58s) 1.3530 Kappel / Dutch ✓\n",
            "80000 80% (1m 2s) 0.7753 Chau / Vietnamese ✓\n",
            "85000 85% (1m 5s) 1.6990 Brose / French ✗ (German)\n",
            "90000 90% (1m 9s) 0.7665 Teagan / Irish ✓\n",
            "95000 95% (1m 13s) 0.7255 Cabello / Spanish ✓\n",
            "100000 100% (1m 17s) 0.1481 Karnoupakis / Greek ✓\n"
          ],
          "name": "stdout"
        }
      ]
    },
    {
      "cell_type": "markdown",
      "metadata": {
        "id": "s-KyWZH7rBR7",
        "colab_type": "text"
      },
      "source": [
        "# Kreślenie wyników\n",
        "\n",
        "Kreślenie historii straty z funkcji `all_losses` pokazuje przebieg uczenia sieci:"
      ]
    },
    {
      "cell_type": "code",
      "metadata": {
        "id": "_nEE9-iyrBR7",
        "colab_type": "code",
        "colab": {
          "base_uri": "https://localhost:8080/",
          "height": 347
        },
        "outputId": "7e2fefc2-3256-4179-f097-3376de571564"
      },
      "source": [
        "import matplotlib.pyplot as plt\n",
        "import matplotlib.ticker as ticker\n",
        "%matplotlib inline\n",
        "\n",
        "import matplotlib.style\n",
        "import matplotlib as mpl\n",
        "mpl.style.use('seaborn')\n",
        "\n",
        "fig=plt.figure()\n",
        "aaa = plt.plot(all_losses)"
      ],
      "execution_count": 27,
      "outputs": [
        {
          "output_type": "display_data",
          "data": {
            "image/png": "[encoded data removed]",
            "text/plain": [
              "<Figure size 576x396 with 1 Axes>"
            ]
          },
          "metadata": {
            "tags": []
          }
        }
      ]
    },
    {
      "cell_type": "code",
      "metadata": {
        "id": "aKYxf_5FYVcd",
        "colab_type": "code",
        "colab": {}
      },
      "source": [
        "y = all_losses\n",
        "n = 10\n",
        "averages = []\n",
        "for i in range(len(y) - n):\n",
        "    window = y[i:i+n]\n",
        "    avg = sum(window) / n\n",
        "    # print(window, avg)\n",
        "    averages.append(avg)"
      ],
      "execution_count": 0,
      "outputs": []
    },
    {
      "cell_type": "code",
      "metadata": {
        "id": "xY5cCyaxYVj8",
        "colab_type": "code",
        "colab": {
          "base_uri": "https://localhost:8080/",
          "height": 34
        },
        "outputId": "26dff18c-328a-4d65-9d98-b9b2ef61489f"
      },
      "source": [
        "len(all_losses), len(averages)"
      ],
      "execution_count": 29,
      "outputs": [
        {
          "output_type": "execute_result",
          "data": {
            "text/plain": [
              "(100, 90)"
            ]
          },
          "metadata": {
            "tags": []
          },
          "execution_count": 29
        }
      ]
    },
    {
      "cell_type": "code",
      "metadata": {
        "id": "QSKtEbz4YVmd",
        "colab_type": "code",
        "colab": {
          "base_uri": "https://localhost:8080/",
          "height": 347
        },
        "outputId": "2a09e246-e68d-4949-983d-69ad3484508a"
      },
      "source": [
        "fig=plt.figure()\n",
        "plt.plot(averages);"
      ],
      "execution_count": 30,
      "outputs": [
        {
          "output_type": "display_data",
          "data": {
            "image/png": "[encoded data removed]",
            "text/plain": [
              "<Figure size 576x396 with 1 Axes>"
            ]
          },
          "metadata": {
            "tags": []
          }
        }
      ]
    },
    {
      "cell_type": "markdown",
      "metadata": {
        "id": "A3m-_xnWrBR9",
        "colab_type": "text"
      },
      "source": [
        "# Ocenianie wyników\n",
        "\n",
        "Aby sprawdzić jak dobrze sieć radzi sobie z różnymi kategoriami tworzymy tablicę pomyłek, w której dla każdego języka (wiersz) pokazane są wyniki predykcji (kolumny). Aby wyliczyć tablicę pomyłek przepuszczamy serię próbek przez sieć funkcją  `evaluate()`,  która robie to samo co  `train()` za wyjątkiem wstecznej propagacji."
      ]
    },
    {
      "cell_type": "code",
      "metadata": {
        "id": "nqJksaTmrBR-",
        "colab_type": "code",
        "colab": {}
      },
      "source": [
        "# Keep track of correct guesses in a confusion matrix\n",
        "confusion = torch.zeros(n_categories, n_categories)\n",
        "n_confusion = 10000\n",
        "\n",
        "# Just return an output given a line\n",
        "def evaluate(line_tensor):\n",
        "    hidden = rnn.init_hidden()\n",
        "    \n",
        "    for i in range(line_tensor.size()[0]):\n",
        "        output, hidden = rnn(line_tensor[i], hidden)\n",
        "    \n",
        "    return output\n",
        "\n",
        "# Go through a bunch of examples and record which are correctly guessed\n",
        "for i in range(n_confusion):\n",
        "    category, line, category_tensor, line_tensor = random_training_pair()\n",
        "    output = evaluate(line_tensor)\n",
        "    guess, guess_i = category_from_output(output)\n",
        "    category_i = all_categories.index(category)\n",
        "    confusion[category_i][guess_i] += 1\n",
        "    \n",
        "# Normalize by dividing every row by its sum\n",
        "for i in range(n_categories):\n",
        "    confusion[i] = confusion[i] / confusion[i].sum()"
      ],
      "execution_count": 0,
      "outputs": []
    },
    {
      "cell_type": "code",
      "metadata": {
        "id": "o_Xi2OlygdrL",
        "colab_type": "code",
        "colab": {
          "base_uri": "https://localhost:8080/",
          "height": 518
        },
        "outputId": "35cbf05e-988c-4305-f000-e79ce015b332"
      },
      "source": [
        "mpl.style.use('default')\n",
        "mpl.style.use('seaborn-ticks')\n",
        "\n",
        "mpl.pyplot.set_cmap('hot_r')\n",
        "\n",
        "# Set up plot\n",
        "fig = plt.figure()\n",
        "ax = fig.add_subplot(111)\n",
        "cax = ax.matshow(confusion.numpy())\n",
        "fig.colorbar(cax)\n",
        "\n",
        "# Set up axes\n",
        "ax.set_xticklabels([''] + all_categories, rotation=90)\n",
        "ax.set_yticklabels([''] + all_categories)\n",
        "\n",
        "# Force label at every tick\n",
        "ax.xaxis.set_major_locator(ticker.MultipleLocator(1))\n",
        "ax.yaxis.set_major_locator(ticker.MultipleLocator(1))\n",
        "\n",
        "plt.show()"
      ],
      "execution_count": 32,
      "outputs": [
        {
          "output_type": "display_data",
          "data": {
            "text/plain": [
              "<Figure size 640x480 with 0 Axes>"
            ]
          },
          "metadata": {
            "tags": []
          }
        },
        {
          "output_type": "display_data",
          "data": {
            "image/png": "[encoded data removed]",
            "text/plain": [
              "<Figure size 640x480 with 2 Axes>"
            ]
          },
          "metadata": {
            "tags": []
          }
        }
      ]
    },
    {
      "cell_type": "markdown",
      "metadata": {
        "id": "-0cYQCsRrBR_",
        "colab_type": "text"
      },
      "source": [
        "Wybierz widoczne kwadraciki poza główną przekątną aby zobaczyć, które przewidywania nie są prawidłowe, np. chiński zamiast koreańskiego czy hiszpański zamiast włoskiego. Widać, że klasyfikuje dobrze grecki, a słabo angielski (prawdopodobnie z powodu nakładania się z innymi językami).\n"
      ]
    },
    {
      "cell_type": "markdown",
      "metadata": {
        "id": "n4Q4jXBOrBSA",
        "colab_type": "text"
      },
      "source": [
        "# Klasyfikacja podanych nazwisk"
      ]
    },
    {
      "cell_type": "code",
      "metadata": {
        "id": "TgYOUqrjrBSA",
        "colab_type": "code",
        "colab": {
          "base_uri": "https://localhost:8080/",
          "height": 527
        },
        "outputId": "1e30fe77-0b5d-4872-a343-f8e5ffc37149"
      },
      "source": [
        "import numpy as np\n",
        "\n",
        "def predict(input_line, n_predictions=3):\n",
        "    print('\\n> %s' % input_line)\n",
        "    output = evaluate(Variable(line_to_tensor(input_line)))\n",
        "\n",
        "    # Get top N categories\n",
        "    topv, topi = output.data.topk(n_predictions, 1, True)\n",
        "    predictions = []\n",
        "\n",
        "    for i in range(n_predictions):\n",
        "        value = topv[0][i]\n",
        "        category_index = topi[0][i]\n",
        "        pred = np.exp(value)\n",
        "        print('(%.2f%%) %s' % (pred*100, all_categories[category_index]))\n",
        "        # print('(%.2f) %s' % (value, all_categories[category_index]))\n",
        "        predictions.append([value, all_categories[category_index]])\n",
        "\n",
        "predict('Dovesky')\n",
        "predict('Jackson')\n",
        "predict('Satoshi')\n",
        "predict('Czarnowski')\n",
        "predict('Kazimierczak')\n",
        "predict('Wołk')"
      ],
      "execution_count": 33,
      "outputs": [
        {
          "output_type": "stream",
          "text": [
            "\n",
            "> Dovesky\n",
            "(48.85%) Czech\n",
            "(23.11%) Polish\n",
            "(16.00%) Russian\n",
            "\n",
            "> Jackson\n",
            "(76.08%) Scottish\n",
            "(12.70%) English\n",
            "(4.72%) Russian\n",
            "\n",
            "> Satoshi\n",
            "(38.23%) Portuguese\n",
            "(14.99%) Italian\n",
            "(13.76%) Japanese\n",
            "\n",
            "> Czarnowski\n",
            "(99.12%) Polish\n",
            "(0.38%) Czech\n",
            "(0.28%) English\n",
            "\n",
            "> Kazimierczak\n",
            "(99.14%) Polish\n",
            "(0.29%) Czech\n",
            "(0.21%) Spanish\n",
            "\n",
            "> Wołk\n",
            "(27.38%) Czech\n",
            "(26.06%) Polish\n",
            "(16.27%) Korean\n"
          ],
          "name": "stdout"
        }
      ]
    },
    {
      "cell_type": "markdown",
      "metadata": {
        "id": "M6kOTILyrBSC",
        "colab_type": "text"
      },
      "source": [
        "# Ćwiczenia\n",
        "\n",
        "* Wypróbuj inny zbiór danych typu linia -> kategoria, np.:\n",
        "    * słowo -> język\n",
        "    * imię -> płeć\n",
        "    * bohater -> pisarz\n",
        "   \n",
        "* Popraw wyniki tworząc większą sieć i/lub sieć o lepszej strukturze\n",
        "    * Więcej linearnych warstw\n",
        "    * Wypróbuj warstwy `nn.LSTM` oraz `nn.GRU` \n",
        "    * Połącz wiele takich sieci RNN w sieć wyższego rzędu"
      ]
    }
  ]
}