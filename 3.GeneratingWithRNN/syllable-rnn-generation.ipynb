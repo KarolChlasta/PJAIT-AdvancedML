{
  "nbformat": 4,
  "nbformat_minor": 0,
  "metadata": {
    "colab": {
      "name": "syllable-rnn-generation.ipynb",
      "provenance": [],
      "collapsed_sections": [],
      "toc_visible": true,
      "include_colab_link": true
    },
    "kernelspec": {
      "display_name": "Python 3",
      "language": "python",
      "name": "python3"
    },
    "accelerator": "GPU"
  },
  "cells": [
    {
      "cell_type": "markdown",
      "metadata": {
        "id": "view-in-github",
        "colab_type": "text"
      },
      "source": [
        "<a href=\"https://colab.research.google.com/github/KarolChlasta/PJAIT-AdvancedML/blob/master/3.GeneratingWithRNN/syllable-rnn-generation.ipynb\" target=\"_parent\"><img src=\"https://colab.research.google.com/assets/colab-badge.svg\" alt=\"Open In Colab\"/></a>"
      ]
    },
    {
      "cell_type": "markdown",
      "metadata": {
        "id": "iVsYe7S5XM5G",
        "colab_type": "text"
      },
      "source": [
        "![](https://i.imgur.com/eBRPvWB.png)\n",
        "\n",
        "##**Generowanie poezji za pomocą RNN i PyTorch sylabami**\n",
        "\n",
        "[W tutorialu na rozgrzewkę](https://github.com/spro/practical-pytorch/blob/master/char-rnn-classification/char-rnn-classification.ipynb) użyliśmy RNN, aby sklasyfikować nazwiska znak po znaku. Tym razem wygenerujemy tekst sylaba po sylabie.\n",
        "```\n",
        "Litwo! Ojczyzno moja! ty jesteś klucz wyziemu, \n",
        "To opugo cząciły tak lasu czeleta. \n",
        "Choć nie będzie mowę świeci się za tém, \n",
        "A Dozgon++ na Litwę przerzucił w okolicy, \n",
        "Dosyć się opicie przyciągnąć w pałacu; \n",
        "\n",
        "Tamdzini nawet mimo osobnych ogórki. \n",
        "Choć zwyciętunia, mimo pukle wyślą, \n",
        "Odemknął, wbiegł wyszedł, pewnie miłośnik łowił. \n",
        "Bo przekorza, i skrobiąc nabój do Warszawy. \n",
        "Dość co oddało plecie tak fawował, \n",
        "A tam się cukier wytaczać na nich wybująca. \n",
        "\n",
        "```\n",
        "\n",
        "Ok, możesz zadać sobie pytanie, czy ten tutorial jest rzeczywiście praktyczny? Czemu nie? Modele generatywne tego typu stanowią fundament tłumaczenia maszynowego, opisywania obrazów, generowania odpowiedzi na pytania i wielu innych zastowań.\n",
        "\n",
        "Zobacz [Sequence to Sequence Translation tutorial](https://github.com/spro/practical-pytorch/blob/master/seq2seq-translation/seq2seq-translation.ipynb) żeby nauczyć się więcej w tym temacie."
      ]
    },
    {
      "cell_type": "markdown",
      "metadata": {
        "id": "WamMk47AXM5I",
        "colab_type": "text"
      },
      "source": [
        "## Polecana lektura\n",
        "\n",
        "Zakładam, że jest już zainstalowany PyTorch, znasz Python'a, oraz znasz pojęcie Tensor'ów:\n",
        "\n",
        "* http://pytorch.org/ - instalacja PyTorch\n",
        "* [Deep Learning with PyTorch: A 60-minute Blitz](http://pytorch.org/tutorials/beginner/deep_learning_60min_blitz.html) - Podstawy PyTorch\n",
        "* [jcjohnson's PyTorch examples](https://github.com/jcjohnson/pytorch-examples) przykłady wykorzystania PyTorch\n",
        "* [Introduction to PyTorch for former Torchies](https://github.com/pytorch/tutorials/blob/master/Introduction%20to%20PyTorch%20for%20former%20Torchies.ipynb) jeżeli znasz Lua Torch\n",
        "\n",
        "Trochę wiedzy o RNN:\n",
        "\n",
        "* [The Unreasonable Effectiveness of Recurrent Neural Networks](http://karpathy.github.io/2015/05/21/rnn-effectiveness/) przykłady z życia wzięte\n",
        "* [Understanding LSTM Networks](http://colah.github.io/posts/2015-08-Understanding-LSTMs/) RNN i LSTM w pigułce\n",
        "\n",
        "Zobacz także podobne tutoriale z serii:\n",
        "\n",
        "* [Classifying Names with a Character-Level RNN](https://github.com/spro/practical-pytorch/blob/master/char-rnn-classification/char-rnn-classification.ipynb) używa RNN do klasyfikacji\n",
        "* [Generating Names with a Conditional Character-Level RNN](https://github.com/spro/practical-pytorch/blob/master/conditional-char-rnn/conditional-char-rnn.ipynb) opierając się na tym modelu, dodaje kategorię jako dane wejściowe"
      ]
    },
    {
      "cell_type": "markdown",
      "metadata": {
        "id": "CH3K-upNE28D",
        "colab_type": "text"
      },
      "source": [
        "# Ustawianie środowiska pod syllable-RNN"
      ]
    },
    {
      "cell_type": "markdown",
      "metadata": {
        "id": "71gU7PngExlh",
        "colab_type": "text"
      },
      "source": [
        "## Instalacja PyTorch"
      ]
    },
    {
      "cell_type": "code",
      "metadata": {
        "id": "NTQYNZFKG_a5",
        "colab_type": "code",
        "colab": {
          "base_uri": "https://localhost:8080/",
          "height": 70
        },
        "outputId": "023906b1-aa44-4348-daba-b808b9d790aa"
      },
      "source": [
        "# http://pytorch.org/\n",
        "from os import path\n",
        "from wheel.pep425tags import get_abbr_impl, get_impl_ver, get_abi_tag\n",
        "platform = '{}{}-{}'.format(get_abbr_impl(), get_impl_ver(), get_abi_tag())\n",
        "\n",
        "accelerator = 'cu80' if path.exists('/opt/bin/nvidia-smi') else 'cpu'\n",
        "\n",
        "!pip install -q http://download.pytorch.org/whl/{accelerator}/torch-0.4.0-{platform}-linux_x86_64.whl torchvision\n",
        "\n",
        "import torch"
      ],
      "execution_count": 1,
      "outputs": [
        {
          "output_type": "stream",
          "text": [
            "\u001b[K     |████████████████████████████████| 484.0MB 2.1MB/s \n",
            "\u001b[31mERROR: torchvision 0.4.2 has requirement torch==1.3.1, but you'll have torch 0.4.0 which is incompatible.\u001b[0m\n",
            "\u001b[31mERROR: fastai 1.0.59 has requirement torch>=1.0.0, but you'll have torch 0.4.0 which is incompatible.\u001b[0m\n",
            "\u001b[?25h"
          ],
          "name": "stdout"
        }
      ]
    },
    {
      "cell_type": "markdown",
      "metadata": {
        "id": "cdLsetH6JBes",
        "colab_type": "text"
      },
      "source": [
        "## Instalacja bibliotek"
      ]
    },
    {
      "cell_type": "code",
      "metadata": {
        "id": "BwgguLvnGG9m",
        "colab_type": "code",
        "colab": {}
      },
      "source": [
        "!pip install -q scipy --upgrade"
      ],
      "execution_count": 0,
      "outputs": []
    },
    {
      "cell_type": "code",
      "metadata": {
        "id": "HNwsxvdnJDw5",
        "colab_type": "code",
        "colab": {
          "base_uri": "https://localhost:8080/",
          "height": 141
        },
        "outputId": "20c32c7b-43d4-445f-be42-ea8ef203f85a"
      },
      "source": [
        "!pip install -q unidecode tqdm dill pysmi visdom"
      ],
      "execution_count": 3,
      "outputs": [
        {
          "output_type": "stream",
          "text": [
            "\u001b[?25l\r\u001b[K     |█▍                              | 10kB 25.3MB/s eta 0:00:01\r\u001b[K     |██▊                             | 20kB 4.3MB/s eta 0:00:01\r\u001b[K     |████▏                           | 30kB 6.2MB/s eta 0:00:01\r\u001b[K     |█████▌                          | 40kB 7.9MB/s eta 0:00:01\r\u001b[K     |██████▉                         | 51kB 5.0MB/s eta 0:00:01\r\u001b[K     |████████▎                       | 61kB 5.8MB/s eta 0:00:01\r\u001b[K     |█████████▋                      | 71kB 6.6MB/s eta 0:00:01\r\u001b[K     |███████████                     | 81kB 7.4MB/s eta 0:00:01\r\u001b[K     |████████████▍                   | 92kB 8.2MB/s eta 0:00:01\r\u001b[K     |█████████████▊                  | 102kB 6.5MB/s eta 0:00:01\r\u001b[K     |███████████████▏                | 112kB 6.5MB/s eta 0:00:01\r\u001b[K     |████████████████▌               | 122kB 6.5MB/s eta 0:00:01\r\u001b[K     |█████████████████▉              | 133kB 6.5MB/s eta 0:00:01\r\u001b[K     |███████████████████▎            | 143kB 6.5MB/s eta 0:00:01\r\u001b[K     |████████████████████▋           | 153kB 6.5MB/s eta 0:00:01\r\u001b[K     |██████████████████████          | 163kB 6.5MB/s eta 0:00:01\r\u001b[K     |███████████████████████▍        | 174kB 6.5MB/s eta 0:00:01\r\u001b[K     |████████████████████████▊       | 184kB 6.5MB/s eta 0:00:01\r\u001b[K     |██████████████████████████▏     | 194kB 6.5MB/s eta 0:00:01\r\u001b[K     |███████████████████████████▌    | 204kB 6.5MB/s eta 0:00:01\r\u001b[K     |████████████████████████████▉   | 215kB 6.5MB/s eta 0:00:01\r\u001b[K     |██████████████████████████████▎ | 225kB 6.5MB/s eta 0:00:01\r\u001b[K     |███████████████████████████████▋| 235kB 6.5MB/s eta 0:00:01\r\u001b[K     |████████████████████████████████| 245kB 6.5MB/s \n",
            "\u001b[?25h\u001b[?25l\r\u001b[K     |████                            | 10kB 28.0MB/s eta 0:00:01\r\u001b[K     |████████▏                       | 20kB 35.0MB/s eta 0:00:01\r\u001b[K     |████████████▎                   | 30kB 38.6MB/s eta 0:00:01\r\u001b[K     |████████████████▍               | 40kB 36.9MB/s eta 0:00:01\r\u001b[K     |████████████████████▌           | 51kB 38.0MB/s eta 0:00:01\r\u001b[K     |████████████████████████▋       | 61kB 39.9MB/s eta 0:00:01\r\u001b[K     |████████████████████████████▊   | 71kB 41.7MB/s eta 0:00:01\r\u001b[K     |████████████████████████████████| 81kB 9.6MB/s \n",
            "\u001b[K     |████████████████████████████████| 686kB 45.9MB/s \n",
            "\u001b[K     |████████████████████████████████| 51kB 6.6MB/s \n",
            "\u001b[K     |████████████████████████████████| 204kB 34.2MB/s \n",
            "\u001b[?25h  Building wheel for visdom (setup.py) ... \u001b[?25l\u001b[?25hdone\n",
            "  Building wheel for torchfile (setup.py) ... \u001b[?25l\u001b[?25hdone\n"
          ],
          "name": "stdout"
        }
      ]
    },
    {
      "cell_type": "markdown",
      "metadata": {
        "id": "1Kk5FdvHFDeu",
        "colab_type": "text"
      },
      "source": [
        "## Instalacja biblioteki PyDrive i wrappera"
      ]
    },
    {
      "cell_type": "code",
      "metadata": {
        "id": "AmbL-sxAFERR",
        "colab_type": "code",
        "colab": {}
      },
      "source": [
        "# This only needs to be done once per notebook.\n",
        "!pip install -U -q PyDrive\n",
        "\n",
        "from pydrive.auth import GoogleAuth\n",
        "from pydrive.drive import GoogleDrive\n",
        "from google.colab import auth\n",
        "from oauth2client.client import GoogleCredentials\n",
        "\n",
        "# Authenticate and create the PyDrive client.\n",
        "# This only needs to be done once per notebook.\n",
        "auth.authenticate_user()\n",
        "gauth = GoogleAuth()\n",
        "gauth.credentials = GoogleCredentials.get_application_default()\n",
        "drive = GoogleDrive(gauth)\n",
        "\n",
        "from pathlib import Path\n",
        "import os\n",
        "\n",
        "def download_and_save(file_name, file_id):\n",
        "  downloaded = drive.CreateFile({'id': file_id})\n",
        "  # fetch file\n",
        "  downloaded.FetchContent()\n",
        "  # write file\n",
        "  with open(file_name,'wb') as f:\n",
        "       f.write(downloaded.content.read())\n",
        "      \n",
        "  print(f'Saved {file_name}')\n",
        "  \n",
        "FILE_NAME, FILE_ID = ['file_name', 'file_id']"
      ],
      "execution_count": 0,
      "outputs": []
    },
    {
      "cell_type": "markdown",
      "metadata": {
        "id": "mzZIXB-0zkmK",
        "colab_type": "text"
      },
      "source": [
        "## Pobranie i instalacja stemmera"
      ]
    },
    {
      "cell_type": "code",
      "metadata": {
        "id": "N5EUv-Nb2gO9",
        "colab_type": "code",
        "colab": {
          "base_uri": "https://localhost:8080/",
          "height": 604
        },
        "outputId": "dff3c68e-7d30-495f-9ebb-dbdb9bcb81bd"
      },
      "source": [
        "!dpkg --add-architecture i386\n",
        "!apt-get -qq update\n",
        "!apt-get -qq install libc6:i386 libncurses5:i386 libstdc++6:i386"
      ],
      "execution_count": 5,
      "outputs": [
        {
          "output_type": "stream",
          "text": [
            "Preconfiguring packages ...\n",
            "Selecting previously unselected package gcc-8-base:i386.\n",
            "(Reading database ... 145605 files and directories currently installed.)\n",
            "Preparing to unpack .../0-gcc-8-base_8.3.0-6ubuntu1~18.04.1_i386.deb ...\n",
            "Unpacking gcc-8-base:i386 (8.3.0-6ubuntu1~18.04.1) ...\n",
            "Selecting previously unselected package libgcc1:i386.\n",
            "Preparing to unpack .../1-libgcc1_1%3a8.3.0-6ubuntu1~18.04.1_i386.deb ...\n",
            "Unpacking libgcc1:i386 (1:8.3.0-6ubuntu1~18.04.1) ...\n",
            "Selecting previously unselected package libc6:i386.\n",
            "Preparing to unpack .../2-libc6_2.27-3ubuntu1_i386.deb ...\n",
            "Unpacking libc6:i386 (2.27-3ubuntu1) ...\n",
            "Replacing files in old package libc6-i386 (2.27-3ubuntu1) ...\n",
            "Selecting previously unselected package libtinfo5:i386.\n",
            "Preparing to unpack .../3-libtinfo5_6.1-1ubuntu1.18.04_i386.deb ...\n",
            "Unpacking libtinfo5:i386 (6.1-1ubuntu1.18.04) ...\n",
            "Selecting previously unselected package libncurses5:i386.\n",
            "Preparing to unpack .../4-libncurses5_6.1-1ubuntu1.18.04_i386.deb ...\n",
            "Unpacking libncurses5:i386 (6.1-1ubuntu1.18.04) ...\n",
            "Selecting previously unselected package libstdc++6:i386.\n",
            "Preparing to unpack .../5-libstdc++6_8.3.0-6ubuntu1~18.04.1_i386.deb ...\n",
            "Unpacking libstdc++6:i386 (8.3.0-6ubuntu1~18.04.1) ...\n",
            "Selecting previously unselected package libgpm2:i386.\n",
            "Preparing to unpack .../6-libgpm2_1.20.7-5_i386.deb ...\n",
            "Unpacking libgpm2:i386 (1.20.7-5) ...\n",
            "Processing triggers for libc-bin (2.27-3ubuntu1) ...\n",
            "Setting up gcc-8-base:i386 (8.3.0-6ubuntu1~18.04.1) ...\n",
            "Setting up libc6:i386 (2.27-3ubuntu1) ...\n",
            "Setting up libgcc1:i386 (1:8.3.0-6ubuntu1~18.04.1) ...\n",
            "Setting up libtinfo5:i386 (6.1-1ubuntu1.18.04) ...\n",
            "Setting up libgpm2:i386 (1.20.7-5) ...\n",
            "Setting up libstdc++6:i386 (8.3.0-6ubuntu1~18.04.1) ...\n",
            "Setting up libncurses5:i386 (6.1-1ubuntu1.18.04) ...\n",
            "Processing triggers for libc-bin (2.27-3ubuntu1) ...\n"
          ],
          "name": "stdout"
        }
      ]
    },
    {
      "cell_type": "code",
      "metadata": {
        "id": "o2rxvMo0znS1",
        "colab_type": "code",
        "colab": {
          "base_uri": "https://localhost:8080/",
          "height": 35
        },
        "outputId": "4783e2a1-5c27-47ae-cdc0-2e6e49d9b21f"
      },
      "source": [
        "# stemmer-2.0.3.tgz, https://drive.google.com/file/d/1PxS-e6tzXa7u4N9A2r9XWLUpvSKqJIrZ\n",
        "stemmer = {FILE_NAME: 'stemmer-2.0.3.tgz', FILE_ID: '1PxS-e6tzXa7u4N9A2r9XWLUpvSKqJIrZ'}\n",
        "stemmer_path = Path('./') / stemmer[FILE_NAME]\n",
        "download_and_save(stemmer_path, stemmer[FILE_ID])"
      ],
      "execution_count": 6,
      "outputs": [
        {
          "output_type": "stream",
          "text": [
            "Saved stemmer-2.0.3.tgz\n"
          ],
          "name": "stdout"
        }
      ]
    },
    {
      "cell_type": "code",
      "metadata": {
        "id": "Izipt8nMz3D5",
        "colab_type": "code",
        "colab": {}
      },
      "source": [
        "!tar xzf $stemmer_path"
      ],
      "execution_count": 0,
      "outputs": []
    },
    {
      "cell_type": "code",
      "metadata": {
        "id": "seaZ-GIZ0HR3",
        "colab_type": "code",
        "colab": {
          "base_uri": "https://localhost:8080/",
          "height": 159
        },
        "outputId": "c07f4ec9-5070-4c8f-cb34-f92f934e9aa5"
      },
      "source": [
        "ls -lah bin"
      ],
      "execution_count": 9,
      "outputs": [
        {
          "output_type": "stream",
          "text": [
            "total 8.2M\n",
            "drwxr-xr-x 2  501 staff 4.0K Apr 30  2018 \u001b[0m\u001b[01;34m.\u001b[0m/\n",
            "drwxr-xr-x 1 root root  4.0K Nov 22 22:43 \u001b[01;34m..\u001b[0m/\n",
            "-rw-r--r-- 1  501 staff 1.2K Apr 19  2018 changelog.txt\n",
            "-rwxr-xr-x 1  501 staff  629 Jan  2  2018 \u001b[01;32mdestem.sh\u001b[0m*\n",
            "-rw-r--r-- 1  501 staff 858K Nov 22  2017 stemmer2.dic\n",
            "-rwxrwxr-x 1  501 staff 3.7M Apr 19  2018 \u001b[01;32mstemmer.linux\u001b[0m*\n",
            "-rwxr-xr-x 1  501 staff 3.6M Apr 30  2018 \u001b[01;32mstemmer.macos\u001b[0m*\n"
          ],
          "name": "stdout"
        }
      ]
    },
    {
      "cell_type": "markdown",
      "metadata": {
        "id": "6a-q1f8LFI5y",
        "colab_type": "text"
      },
      "source": [
        "# Pobranie danych"
      ]
    },
    {
      "cell_type": "code",
      "metadata": {
        "id": "YLHSxEQmFe_u",
        "colab_type": "code",
        "colab": {
          "base_uri": "https://localhost:8080/",
          "height": 70
        },
        "outputId": "db52833d-c6eb-4d98-cdab-ab1f41cdfc47"
      },
      "source": [
        "from pathlib import Path\n",
        "dataset_path = Path('/content/data/rnn_generator'); dataset_path\n",
        "!mkdir -p $dataset_path\n",
        "!ls -la $dataset_path/\n",
        "tmp_path = dataset_path / 'tmp/'\n",
        "!mkdir -p $tmp_path"
      ],
      "execution_count": 10,
      "outputs": [
        {
          "output_type": "stream",
          "text": [
            "total 8\n",
            "drwxr-xr-x 2 root root 4096 Nov 22 22:43 .\n",
            "drwxr-xr-x 3 root root 4096 Nov 22 22:43 ..\n"
          ],
          "name": "stdout"
        }
      ]
    },
    {
      "cell_type": "markdown",
      "metadata": {
        "id": "ihRsb3C_FeG0",
        "colab_type": "text"
      },
      "source": [
        "## Pobranie datasetu Pan Tadeusz"
      ]
    },
    {
      "cell_type": "code",
      "metadata": {
        "id": "-IXYs88WJaNo",
        "colab_type": "code",
        "colab": {
          "base_uri": "https://localhost:8080/",
          "height": 35
        },
        "outputId": "caa350f4-ff06-4af8-d965-5f53406538da"
      },
      "source": [
        "# pan_tadeusz, https://drive.google.com/open?id=1l8KGrqUsrGOlXVp7Frgyku8w75X_WA8h\n",
        "pan_tadeusz = {FILE_NAME: 'pan_tadeusz.txt', FILE_ID: '1l8KGrqUsrGOlXVp7Frgyku8w75X_WA8h'}\n",
        "\n",
        "download_and_save(dataset_path / pan_tadeusz[FILE_NAME], pan_tadeusz[FILE_ID])"
      ],
      "execution_count": 11,
      "outputs": [
        {
          "output_type": "stream",
          "text": [
            "Saved /content/data/rnn_generator/pan_tadeusz.txt\n"
          ],
          "name": "stdout"
        }
      ]
    },
    {
      "cell_type": "code",
      "metadata": {
        "id": "dTub80ZevI8Q",
        "colab_type": "code",
        "colab": {
          "base_uri": "https://localhost:8080/",
          "height": 106
        },
        "outputId": "c36851e7-7edb-4e19-8511-365b634b5d0d"
      },
      "source": [
        "ls -la $dataset_path/"
      ],
      "execution_count": 12,
      "outputs": [
        {
          "output_type": "stream",
          "text": [
            "total 232\n",
            "drwxr-xr-x 3 root root   4096 Nov 22 22:44 \u001b[0m\u001b[01;34m.\u001b[0m/\n",
            "drwxr-xr-x 3 root root   4096 Nov 22 22:43 \u001b[01;34m..\u001b[0m/\n",
            "-rw-r--r-- 1 root root 223706 Nov 22 22:44 pan_tadeusz.txt\n",
            "drwxr-xr-x 2 root root   4096 Nov 22 22:43 \u001b[01;34mtmp\u001b[0m/\n"
          ],
          "name": "stdout"
        }
      ]
    },
    {
      "cell_type": "markdown",
      "metadata": {
        "id": "Xq3ig75WrNDt",
        "colab_type": "text"
      },
      "source": [
        "# Opcjonalne"
      ]
    },
    {
      "cell_type": "markdown",
      "metadata": {
        "id": "zoKLKM4tqfcI",
        "colab_type": "text"
      },
      "source": [
        "## Opcjonalne pobranie innych datasetów"
      ]
    },
    {
      "cell_type": "code",
      "metadata": {
        "id": "Zl_zASTIF9KN",
        "colab_type": "code",
        "colab": {
          "base_uri": "https://localhost:8080/",
          "height": 35
        },
        "outputId": "c22c9e57-55da-4017-dd3a-10a2e3f934b7"
      },
      "source": [
        "# witkacy_szewcy, https://drive.google.com/open?id=1NOWTocYwv93GibItaNBxTJobjTukQmRP\n",
        "witkacy = {FILE_NAME: 'witkacy_szewcy.txt', FILE_ID: '1NOWTocYwv93GibItaNBxTJobjTukQmRP'}\n",
        "\n",
        "download_and_save(dataset_path / witkacy[FILE_NAME], witkacy[FILE_ID])"
      ],
      "execution_count": 13,
      "outputs": [
        {
          "output_type": "stream",
          "text": [
            "Saved /content/data/rnn_generator/witkacy_szewcy.txt\n"
          ],
          "name": "stdout"
        }
      ]
    },
    {
      "cell_type": "code",
      "metadata": {
        "id": "JV9IqMEfHdur",
        "colab_type": "code",
        "colab": {
          "base_uri": "https://localhost:8080/",
          "height": 35
        },
        "outputId": "239a88fc-cbb5-441c-fb21-5429e8a80e90"
      },
      "source": [
        "# mickiewicz, https://drive.google.com/open?id=1otbOB7GjKEVPjaPShaaTnYQnv-whwNWP\n",
        "mickiewicz = {FILE_NAME: 'mickiewicz.txt', FILE_ID: '1otbOB7GjKEVPjaPShaaTnYQnv-whwNWP'}\n",
        "\n",
        "download_and_save(dataset_path / mickiewicz[FILE_NAME], mickiewicz[FILE_ID])"
      ],
      "execution_count": 14,
      "outputs": [
        {
          "output_type": "stream",
          "text": [
            "Saved /content/data/rnn_generator/mickiewicz.txt\n"
          ],
          "name": "stdout"
        }
      ]
    },
    {
      "cell_type": "code",
      "metadata": {
        "id": "LBjvOVCPmWwn",
        "colab_type": "code",
        "colab": {
          "base_uri": "https://localhost:8080/",
          "height": 141
        },
        "outputId": "e845c2a7-9204-418a-f9a7-cf0c779dcc31"
      },
      "source": [
        "!ls -la $dataset_path/"
      ],
      "execution_count": 15,
      "outputs": [
        {
          "output_type": "stream",
          "text": [
            "total 1088\n",
            "drwxr-xr-x 3 root root   4096 Nov 22 22:44 .\n",
            "drwxr-xr-x 3 root root   4096 Nov 22 22:43 ..\n",
            "-rw-r--r-- 1 root root 725495 Nov 22 22:44 mickiewicz.txt\n",
            "-rw-r--r-- 1 root root 223706 Nov 22 22:44 pan_tadeusz.txt\n",
            "drwxr-xr-x 2 root root   4096 Nov 22 22:43 tmp\n",
            "-rw-r--r-- 1 root root 145132 Nov 22 22:44 witkacy_szewcy.txt\n"
          ],
          "name": "stdout"
        }
      ]
    },
    {
      "cell_type": "markdown",
      "metadata": {
        "id": "FELZcVUlv-se",
        "colab_type": "text"
      },
      "source": [
        "## Opcjonalne pobranie przetrenowanego modelu"
      ]
    },
    {
      "cell_type": "code",
      "metadata": {
        "id": "SJf17A1QwJBN",
        "colab_type": "code",
        "colab": {
          "base_uri": "https://localhost:8080/",
          "height": 52
        },
        "outputId": "10a9e6f0-7836-4e98-9631-5eee163d1116"
      },
      "source": [
        "# all_tokens.n5059.pan_tadeusz.p, https://drive.google.com/open?id=14AxyK--ifqyzwThw712jHid7NVaLqAC3\n",
        "# pan_tadeusz.h500.l3.20.gpu.torch, https://drive.google.com/open?id=1NF-bmLgsAC6l_Fdlr7xZ1_i3e_5EgIYG\n",
        "ALLTOKS, MODEL = ['all_tokens', 'model']\n",
        "fn_pan_tadeusz = {ALLTOKS: 'all_tokens.n5059.pan_tadeusz.p', MODEL: 'pan_tadeusz.h500.l3.e20.gpu.torch'}\n",
        "ids_pan_tadeusz = {ALLTOKS: '14AxyK--ifqyzwThw712jHid7NVaLqAC3', MODEL: '1NF-bmLgsAC6l_Fdlr7xZ1_i3e_5EgIYG'}\n",
        "download_and_save(tmp_path / fn_pan_tadeusz[ALLTOKS], ids_pan_tadeusz[ALLTOKS])\n",
        "download_and_save(tmp_path / fn_pan_tadeusz[MODEL], ids_pan_tadeusz[MODEL])"
      ],
      "execution_count": 16,
      "outputs": [
        {
          "output_type": "stream",
          "text": [
            "Saved /content/data/rnn_generator/tmp/all_tokens.n5059.pan_tadeusz.p\n",
            "Saved /content/data/rnn_generator/tmp/pan_tadeusz.h500.l3.e20.gpu.torch\n"
          ],
          "name": "stdout"
        }
      ]
    },
    {
      "cell_type": "code",
      "metadata": {
        "id": "6t7XqlMH9c9p",
        "colab_type": "code",
        "colab": {
          "base_uri": "https://localhost:8080/",
          "height": 52
        },
        "outputId": "39212ddd-c81f-43e1-ee7a-84bc558c704f"
      },
      "source": [
        "# all_tokens.n4064.witkacy_szewcy.p, https://drive.google.com/open?id=1hXWaH1vwciJqDh4mRA9R1B6ePapORCTc\n",
        "# witkacy_szewcy.h500.l3.e11.gpu.torch, https://drive.google.com/open?id=1DegovTSmaNEyFM3AS8JZZnp7STO49IRp\n",
        "ALLTOKS, MODEL = ['all_tokens', 'model']\n",
        "fn_pan_tadeusz = {ALLTOKS: 'all_tokens.n4064.witkacy_szewcy.p', MODEL: 'witkacy_szewcy.h500.l3.e11.gpu.torch'}\n",
        "ids_pan_tadeusz = {ALLTOKS: '1hXWaH1vwciJqDh4mRA9R1B6ePapORCTc', MODEL: '1DegovTSmaNEyFM3AS8JZZnp7STO49IRp'}\n",
        "download_and_save(tmp_path / fn_pan_tadeusz[ALLTOKS], ids_pan_tadeusz[ALLTOKS])\n",
        "download_and_save(tmp_path / fn_pan_tadeusz[MODEL], ids_pan_tadeusz[MODEL])"
      ],
      "execution_count": 17,
      "outputs": [
        {
          "output_type": "stream",
          "text": [
            "Saved /content/data/rnn_generator/tmp/all_tokens.n4064.witkacy_szewcy.p\n",
            "Saved /content/data/rnn_generator/tmp/witkacy_szewcy.h500.l3.e11.gpu.torch\n"
          ],
          "name": "stdout"
        }
      ]
    },
    {
      "cell_type": "code",
      "metadata": {
        "id": "95RfwakByIiE",
        "colab_type": "code",
        "colab": {
          "base_uri": "https://localhost:8080/",
          "height": 141
        },
        "outputId": "1c64f03a-859e-4095-a081-7a98e3b605a6"
      },
      "source": [
        "ls -lah $tmp_path"
      ],
      "execution_count": 18,
      "outputs": [
        {
          "output_type": "stream",
          "text": [
            "total 70M\n",
            "drwxr-xr-x 2 root root 4.0K Nov 22 22:44 \u001b[0m\u001b[01;34m.\u001b[0m/\n",
            "drwxr-xr-x 3 root root 4.0K Nov 22 22:44 \u001b[01;34m..\u001b[0m/\n",
            "-rw-r--r-- 1 root root  63K Nov 22 22:44 all_tokens.n4064.witkacy_szewcy.p\n",
            "-rw-r--r-- 1 root root  80K Nov 22 22:44 all_tokens.n5059.pan_tadeusz.p\n",
            "-rw-r--r-- 1 root root  37M Nov 22 22:44 pan_tadeusz.h500.l3.e20.gpu.torch\n",
            "-rw-r--r-- 1 root root  33M Nov 22 22:44 witkacy_szewcy.h500.l3.e11.gpu.torch\n"
          ],
          "name": "stdout"
        }
      ]
    },
    {
      "cell_type": "markdown",
      "metadata": {
        "id": "rV8DxmR8pKlA",
        "colab_type": "text"
      },
      "source": [
        "## Opcjonalny monitoring treningu"
      ]
    },
    {
      "cell_type": "code",
      "metadata": {
        "id": "5l3MtDdRpRs_",
        "colab_type": "code",
        "colab": {}
      },
      "source": [
        "#!python -m visdom.server -p 8890 -logging_level ERROR"
      ],
      "execution_count": 0,
      "outputs": []
    },
    {
      "cell_type": "markdown",
      "metadata": {
        "id": "pvNsvobjFNKz",
        "colab_type": "text"
      },
      "source": [
        "## Opcjonalna konfiguracja integracji z Dyskiem Google\n",
        "\n"
      ]
    },
    {
      "cell_type": "code",
      "metadata": {
        "id": "PZlXy_NvFN9i",
        "colab_type": "code",
        "colab": {
          "base_uri": "https://localhost:8080/",
          "height": 232
        },
        "outputId": "288710d6-6ab3-4d67-f50c-7d9005d90daa"
      },
      "source": [
        "!apt-get install -y -qq software-properties-common python-software-properties module-init-tools\n",
        "!add-apt-repository -y ppa:alessandro-strada/ppa 2>&1 > /dev/null\n",
        "!apt-get update -qq 2>&1 > /dev/null\n",
        "!apt-get -y install -qq google-drive-ocamlfuse fuse\n",
        "from google.colab import auth\n",
        "auth.authenticate_user()\n",
        "from oauth2client.client import GoogleCredentials\n",
        "creds = GoogleCredentials.get_application_default()\n",
        "import getpass\n",
        "!google-drive-ocamlfuse -headless -id={creds.client_id} -secret={creds.client_secret} < /dev/null 2>&1 | grep URL\n",
        "vcode = getpass.getpass()\n",
        "!echo {vcode} | google-drive-ocamlfuse -headless -id={creds.client_id} -secret={creds.client_secret}\n",
        "\n",
        "!mkdir -p drive\n",
        "!google-drive-ocamlfuse drive -o nonempty"
      ],
      "execution_count": 19,
      "outputs": [
        {
          "output_type": "stream",
          "text": [
            "E: Package 'python-software-properties' has no installation candidate\n",
            "Selecting previously unselected package google-drive-ocamlfuse.\n",
            "(Reading database ... 145933 files and directories currently installed.)\n",
            "Preparing to unpack .../google-drive-ocamlfuse_0.7.13-0ubuntu1~ubuntu18.04.1_amd64.deb ...\n",
            "Unpacking google-drive-ocamlfuse (0.7.13-0ubuntu1~ubuntu18.04.1) ...\n",
            "Setting up google-drive-ocamlfuse (0.7.13-0ubuntu1~ubuntu18.04.1) ...\n",
            "Processing triggers for man-db (2.8.3-2ubuntu0.1) ...\n",
            "Please, open the following URL in a web browser: https://accounts.google.com/o/oauth2/auth?client_id=32555940559.apps.googleusercontent.com&redirect_uri=urn%3Aietf%3Awg%3Aoauth%3A2.0%3Aoob&scope=https%3A%2F%2Fwww.googleapis.com%2Fauth%2Fdrive&response_type=code&access_type=offline&approval_prompt=force\n",
            "··········\n",
            "Please, open the following URL in a web browser: https://accounts.google.com/o/oauth2/auth?client_id=32555940559.apps.googleusercontent.com&redirect_uri=urn%3Aietf%3Awg%3Aoauth%3A2.0%3Aoob&scope=https%3A%2F%2Fwww.googleapis.com%2Fauth%2Fdrive&response_type=code&access_type=offline&approval_prompt=force\n",
            "Please enter the verification code: Access token retrieved correctly.\n"
          ],
          "name": "stdout"
        }
      ]
    },
    {
      "cell_type": "markdown",
      "metadata": {
        "id": "USMDLfIuo6Fd",
        "colab_type": "text"
      },
      "source": [
        "# Monitorowanie maszyny wirtualnej"
      ]
    },
    {
      "cell_type": "code",
      "metadata": {
        "id": "fPB9Yk66qHtz",
        "colab_type": "code",
        "colab": {
          "base_uri": "https://localhost:8080/",
          "height": 35
        },
        "outputId": "7eba9ad3-64b4-4e87-8a8d-2e7e2f207417"
      },
      "source": [
        "!uptime"
      ],
      "execution_count": 20,
      "outputs": [
        {
          "output_type": "stream",
          "text": [
            " 22:46:04 up 17 min,  0 users,  load average: 0.29, 0.29, 0.17\n"
          ],
          "name": "stdout"
        }
      ]
    },
    {
      "cell_type": "markdown",
      "metadata": {
        "id": "E7PwzxO-hBJe",
        "colab_type": "text"
      },
      "source": [
        "## Załadowanie bibliotek"
      ]
    },
    {
      "cell_type": "code",
      "metadata": {
        "id": "WMhhgYDig_7G",
        "colab_type": "code",
        "colab": {}
      },
      "source": [
        "from pathlib import Path\n",
        "import platform\n",
        "import string\n",
        "import random\n",
        "import re\n",
        "from IPython.core.display import display, HTML\n",
        "import os\n",
        "import psutil\n",
        "import pickle\n",
        "import warnings\n",
        "import torch\n",
        "import torch.nn as nn\n",
        "from torch.autograd import Variable\n",
        "import time, math\n",
        "import numpy as np\n",
        "from tqdm import tqdm\n",
        "\n",
        "import matplotlib.pyplot as plt\n",
        "import matplotlib.ticker as ticker\n",
        "%matplotlib inline\n",
        "\n",
        "import matplotlib as mpl\n",
        "mpl.style.use('default')\n",
        "mpl.style.use('bmh')\n"
      ],
      "execution_count": 0,
      "outputs": []
    },
    {
      "cell_type": "markdown",
      "metadata": {
        "id": "g8KbaMvrXM5J",
        "colab_type": "text"
      },
      "source": [
        "## Preprocessing korpusu"
      ]
    },
    {
      "cell_type": "code",
      "metadata": {
        "id": "80ZjgATAXsVn",
        "colab_type": "code",
        "colab": {}
      },
      "source": [
        "dataset_path = Path('data/rnn_generator'); dataset_path\n",
        "tmp_path = dataset_path / 'tmp/'\n",
        "!mkdir -p $tmp_path"
      ],
      "execution_count": 0,
      "outputs": []
    },
    {
      "cell_type": "code",
      "metadata": {
        "id": "CPFXCZguyyXA",
        "colab_type": "code",
        "outputId": "2cbbe82a-f031-45cf-c68d-7f370c31da23",
        "colab": {
          "base_uri": "https://localhost:8080/",
          "height": 141
        }
      },
      "source": [
        "ls -lah $dataset_path/"
      ],
      "execution_count": 23,
      "outputs": [
        {
          "output_type": "stream",
          "text": [
            "total 1.1M\n",
            "drwxr-xr-x 3 root root 4.0K Nov 22 22:44 \u001b[0m\u001b[01;34m.\u001b[0m/\n",
            "drwxr-xr-x 3 root root 4.0K Nov 22 22:43 \u001b[01;34m..\u001b[0m/\n",
            "-rw-r--r-- 1 root root 709K Nov 22 22:44 mickiewicz.txt\n",
            "-rw-r--r-- 1 root root 219K Nov 22 22:44 pan_tadeusz.txt\n",
            "drwxr-xr-x 2 root root 4.0K Nov 22 22:44 \u001b[01;34mtmp\u001b[0m/\n",
            "-rw-r--r-- 1 root root 142K Nov 22 22:44 witkacy_szewcy.txt\n"
          ],
          "name": "stdout"
        }
      ]
    },
    {
      "cell_type": "code",
      "metadata": {
        "id": "9eTRgNsMyyXD",
        "colab_type": "code",
        "colab": {}
      },
      "source": [
        "fn_corpus_char = dataset_path/'pan_tadeusz.txt'\n",
        "fn_corpus_caps = dataset_path/'pan_tadeusz.caps1.txt'\n",
        "fn_corpus_syl = dataset_path/'pan_tadeusz.syl1.txt'"
      ],
      "execution_count": 0,
      "outputs": []
    },
    {
      "cell_type": "markdown",
      "metadata": {
        "id": "9wuZu6mE057C",
        "colab_type": "text"
      },
      "source": [
        "Plik wejściowy (korpus) to duży plik tekstowy. "
      ]
    },
    {
      "cell_type": "code",
      "metadata": {
        "id": "aaV5Ly3R_tzj",
        "colab_type": "code",
        "outputId": "11a73f09-62ee-4651-d194-f2e54cdc41d4",
        "colab": {
          "base_uri": "https://localhost:8080/",
          "height": 390
        }
      },
      "source": [
        "!head -n 21 $fn_corpus_char"
      ],
      "execution_count": 25,
      "outputs": [
        {
          "output_type": "stream",
          "text": [
            "﻿KSIĘGA PIÉRWSZA.\r\n",
            "\r\n",
            "\r\n",
            "\r\n",
            "\r\n",
            "GOSPODARSTWO.\r\n",
            "\r\n",
            "\r\n",
            "TREŚĆ.\r\n",
            "\r\n",
            "    Powrot panicza -- Spotkanie się piérwsze w pokoiku, drugie u\r\n",
            "    stołu -- Ważna Sędziego nauka o grzeczności -- Podkomorzego uwagi\r\n",
            "    polityczne nad modami -- Początek sporu o Kusego i Sokoła -- Żale\r\n",
            "    Wojskiego -- Ostatni Woźny Trybunału -- Rzut oka na ówczesny stan\r\n",
            "    polityczny Litwy i Europy.\r\n",
            "\r\n",
            "\r\n",
            "  Litwo! Ojczyzno moja! ty jesteś jak zdrowie;\r\n",
            "Ile cię trzeba cenić, ten tylko się dowie\r\n",
            "Kto cię stracił. Dziś piękność twą w całéj ozdobie\r\n",
            "Widzę i opisuję, bo tęsknię po tobie.\r\n"
          ],
          "name": "stdout"
        }
      ]
    },
    {
      "cell_type": "markdown",
      "metadata": {
        "id": "IKPynzs-yyW-",
        "colab_type": "text"
      },
      "source": [
        "### Tokenizacja wielkich liter"
      ]
    },
    {
      "cell_type": "markdown",
      "metadata": {
        "id": "enPpQXzj_oj6",
        "colab_type": "text"
      },
      "source": [
        "Zamieniamy duże litery na małe dodając tokeny `_up_` (dla wyrazów pisanych wielkimi literami) lub `_cap_` (dla wyrazów pisanych z wielkiej litery)."
      ]
    },
    {
      "cell_type": "code",
      "metadata": {
        "id": "UJtiF_yZiA-z",
        "colab_type": "code",
        "colab": {}
      },
      "source": [
        "def do_caps(ss):\n",
        "  TOK_UP,TOK_CAP = ' _up_ ', ' _cap_ '\n",
        "  res = []\n",
        "  re_word = re.compile('\\w')\n",
        "  for s in re.findall(r'\\w+|\\W+', ss):\n",
        "      res += ([TOK_UP,s.lower()] if (s.isupper() and (len(s)>2))\n",
        "              else [TOK_CAP,s.lower()] if s.istitle()\n",
        "              else [s.lower()])\n",
        "  return ''.join(res)"
      ],
      "execution_count": 0,
      "outputs": []
    },
    {
      "cell_type": "code",
      "metadata": {
        "id": "b5cAVEtNiC9X",
        "colab_type": "code",
        "outputId": "67c8a95c-7091-49f8-9711-e872e5ce7d85",
        "colab": {
          "base_uri": "https://localhost:8080/",
          "height": 35
        }
      },
      "source": [
        "corpus_tmp = fn_corpus_char.open('r').read()\n",
        "corpus_tmp = do_caps(corpus_tmp)\n",
        "fn_corpus_caps.open('w').write(corpus_tmp)"
      ],
      "execution_count": 27,
      "outputs": [
        {
          "output_type": "execute_result",
          "data": {
            "text/plain": [
              "246668"
            ]
          },
          "metadata": {
            "tags": []
          },
          "execution_count": 27
        }
      ]
    },
    {
      "cell_type": "code",
      "metadata": {
        "id": "JJlxNo8q-quJ",
        "colab_type": "code",
        "colab": {
          "base_uri": "https://localhost:8080/",
          "height": 390
        },
        "outputId": "83d9c9f9-34ed-4b11-813b-dcec46b6a5bb"
      },
      "source": [
        "!head -n 21 $fn_corpus_caps"
      ],
      "execution_count": 28,
      "outputs": [
        {
          "output_type": "stream",
          "text": [
            "﻿ _up_ księga  _up_ piérwsza.\n",
            "\n",
            "\n",
            "\n",
            "\n",
            " _up_ gospodarstwo.\n",
            "\n",
            "\n",
            " _up_ treść.\n",
            "\n",
            "     _cap_ powrot panicza --  _cap_ spotkanie się piérwsze w pokoiku, drugie u\n",
            "    stołu --  _cap_ ważna  _cap_ sędziego nauka o grzeczności --  _cap_ podkomorzego uwagi\n",
            "    polityczne nad modami --  _cap_ początek sporu o  _cap_ kusego i  _cap_ sokoła --  _cap_ żale\n",
            "     _cap_ wojskiego --  _cap_ ostatni  _cap_ woźny  _cap_ trybunału --  _cap_ rzut oka na ówczesny stan\n",
            "    polityczny  _cap_ litwy i  _cap_ europy.\n",
            "\n",
            "\n",
            "   _cap_ litwo!  _cap_ ojczyzno moja! ty jesteś jak zdrowie;\n",
            " _cap_ ile cię trzeba cenić, ten tylko się dowie\n",
            " _cap_ kto cię stracił.  _cap_ dziś piękność twą w całéj ozdobie\n",
            " _cap_ widzę i opisuję, bo tęsknię po tobie.\n"
          ],
          "name": "stdout"
        }
      ]
    },
    {
      "cell_type": "markdown",
      "metadata": {
        "id": "lbMBLa_nxp2b",
        "colab_type": "text"
      },
      "source": [
        "### Podział korpusu na sylaby"
      ]
    },
    {
      "cell_type": "markdown",
      "metadata": {
        "id": "OONrdDyb-mS6",
        "colab_type": "text"
      },
      "source": [
        "Dzielimy korpus na sylaby programem `stemmer`."
      ]
    },
    {
      "cell_type": "code",
      "metadata": {
        "id": "efaGn-TLyyXG",
        "colab_type": "code",
        "colab": {}
      },
      "source": [
        "platform_suffixes = {'Linux': 'linux', 'Darwin': 'macos'}\n",
        "platform_suffix = platform_suffixes[platform.system()]\n",
        "stemmer_bin = f'LD_PRELOAD=\"\" bin/stemmer.{platform_suffix}'"
      ],
      "execution_count": 0,
      "outputs": []
    },
    {
      "cell_type": "code",
      "metadata": {
        "id": "w3qYJ20EyyXI",
        "colab_type": "code",
        "colab": {
          "base_uri": "https://localhost:8080/",
          "height": 1000
        },
        "outputId": "ab9499dd-9617-42ad-d62d-0c75916eadbc"
      },
      "source": [
        "!$stemmer_bin --help\n"
      ],
      "execution_count": 30,
      "outputs": [
        {
          "output_type": "stream",
          "text": [
            "Stemmer 2.0.3 2018-04-19 (Linux i386)\n",
            "For Korrida database, spellchecker and hyphenator copyright (C) 1993-2018 Wojciech Czarnowski\n",
            "For Stemmer copyright (C) 2018 Krzysztof Wolk and Wojciech Czarnowski\n",
            "Wojciech Czarnowski: wojtek.czarnowski@gmail.com, +48(608)202-272\n",
            "Krzysztof Wolk: krz.wolk@gmail.com, +48(606)918-623\n",
            "\n",
            "Usage: stemmer options\n",
            "\n",
            "Options:\n",
            "-v, --verbose\n",
            "--version\n",
            "-s number, --stem=number\n",
            "-d file or --dict=<file.dic>\n",
            "-i file or --file_in=<file>\n",
            "-o file or --file_out=<file>\n",
            "-l file or --log=<file>\n",
            "-e file or --exclude=<file>\n",
            "--stem_delim=\"string\"\n",
            "--code_delim=\"string\"\n",
            "--divide_after=number\n",
            "\n",
            "Stemming options:\n",
            "  1 stem \"nie\" prefix\n",
            "  2 stem extra prefixes\n",
            "  4 stem prefixes in root\n",
            "  8 stem in suffix\n",
            "\n",
            "POS options:\n",
            " 16 output POS and inflection group\n",
            " 32 output additional POS info\n",
            "\n",
            "Output Korrida codes:\n",
            " 64 group code\n",
            "128 base suffix codes\n",
            "256 suffix code\n",
            "\n",
            "Division options:\n",
            " 512 divide words\n",
            "1024 divide with dictionary\n",
            "2048 divide algorithmically\n",
            "4096 divide unknown words\n",
            "\n",
            "Using 512 division option turns off stemming.\n",
            "\n",
            "Defaults:\n",
            "- stem delimiter: \"++ --\"\n",
            "- code delimiter: \"@@\"\n",
            "- options: 1+2\n",
            "- divide after 1 character\n",
            "\n",
            "Sample sets of options:\n",
            "3=1+2          (stem more words)\n",
            "15=1+2+3+4+8   (stem more words and in roots and suffixes)\n",
            "320=64+256     (output old Korrida codes)\n",
            "195=1+2+64+128 (stem more words, output new Korrida codes)\n",
            "147=1+2+16+128 (stem more words, output POS and base suffix codes)\n",
            "7683=1+2+512+1024+2048+4096 (divide (more) words with dictionary, then algorithmically and also unknown words)\n"
          ],
          "name": "stdout"
        }
      ]
    },
    {
      "cell_type": "code",
      "metadata": {
        "id": "xGbQYAUYyyXK",
        "colab_type": "code",
        "colab": {
          "base_uri": "https://localhost:8080/",
          "height": 675
        },
        "outputId": "3bb1b6e5-ea3c-4a89-a0b8-b3872789191f"
      },
      "source": [
        "!$stemmer_bin -s 7683 -v -d bin/stemmer2.dic -i $fn_corpus_caps -o $fn_corpus_syl"
      ],
      "execution_count": 31,
      "outputs": [
        {
          "output_type": "stream",
          "text": [
            "Stemmer 2.0.3 2018-04-19 (Linux i386)\n",
            "For Korrida database, spellchecker and hyphenator copyright (C) 1993-2018 Wojciech Czarnowski\n",
            "For Stemmer copyright (C) 2018 Krzysztof Wolk and Wojciech Czarnowski\n",
            "Wojciech Czarnowski: wojtek.czarnowski@gmail.com, +48(608)202-272\n",
            "Krzysztof Wolk: krz.wolk@gmail.com, +48(606)918-623\n",
            "\n",
            "Dictionary: \"bin/stemmer2.dic\"\n",
            "Input file: \"data/rnn_generator/pan_tadeusz.caps1.txt\"\n",
            "Output file: \"data/rnn_generator/pan_tadeusz.syl1.txt\"\n",
            "Stem number: \"7683\"\n",
            "\n",
            "Stemming options:\n",
            "  StemNiePrefix     : Yes\n",
            "  StemExtraPrefixes : Yes\n",
            "  StemPrefixesInRoot: No\n",
            "\n",
            "Syllable division options:\n",
            "  DivideWords          : Yes\n",
            "  DivideWithDictionary : Yes\n",
            "  DivideAlgorithmically: Yes\n",
            "  DivideUknkownWords   : Yes\n",
            "  divideAfterChar      : 1\n",
            "\n",
            "Stemming formatting options:\n",
            "  StemInSuffix       : No\n",
            "  ShowPOSInfo        : No\n",
            "  ShowExtraPOSInfo   : No\n",
            "\n",
            "  ShowGroupCode      : No\n",
            "  ShowBaseSuffixCodes: No\n",
            "  ShowSuffixCode     : No\n",
            "\n",
            "  stemDelimiterStr   : \"++ --\"\n",
            "  codeDelimiterStr   : \"@@\"\n",
            "\n",
            "StemFile(fileInPath: \"data/rnn_generator/pan_tadeusz.caps1.txt\", fileOutPath: \"data/rnn_generator/pan_tadeusz.syl1.txt\")\n",
            "Finished.\n"
          ],
          "name": "stdout"
        }
      ]
    },
    {
      "cell_type": "code",
      "metadata": {
        "id": "rurUv5wf_135",
        "colab_type": "code",
        "colab": {
          "base_uri": "https://localhost:8080/",
          "height": 410
        },
        "outputId": "be566def-c9ea-476c-d172-492e9616dadf"
      },
      "source": [
        "!head -n 21 $fn_corpus_syl"
      ],
      "execution_count": 32,
      "outputs": [
        {
          "output_type": "stream",
          "text": [
            " _up_ księ++ --ga  _up_ pié++ --rwsza.\n",
            "\n",
            "\n",
            "\n",
            "\n",
            " _up_ go++ --s++ --po++ --dar++ --stwo.\n",
            "\n",
            "\n",
            " _up_ treść.\n",
            "\n",
            "     _cap_ po++ --wrot pa++ --ni++ --cza --  _cap_ spot++ --ka++ --nie się pié++ --rwsze w po++ --koi++ --ku, dru++ --gie u\n",
            "    sto++ --łu --  _cap_ waż++ --na  _cap_ sę++ --dzie++ --go na++ --u++ --ka o grze++ --cz++ --no++ --ści --  _cap_ pod++ --ko++ --mo++ --rze++ --go u++ --wa++ --gi\n",
            "    po++ --li++ --ty++ --cz++ --ne nad mo++ --da++ --mi --  _cap_ po++ --czą++ --tek spo++ --ru o  _cap_ ku++ --se++ --go i  _cap_ so++ --ko++ --ła --  _cap_ ża++ --le\n",
            "     _cap_ woj++ --skie++ --go --  _cap_ o++ --sta++ --t++ --ni  _cap_ woź++ --ny  _cap_ try++ --bu++ --na++ --łu --  _cap_ rzut oka na ów++ --czes++ --ny stan\n",
            "    po++ --li++ --ty++ --cz++ --ny  _cap_ lit++ --wy i  _cap_ eu++ --ro++ --py.\n",
            "\n",
            "\n",
            "   _cap_ lit++ --wo!  _cap_ oj++ --czyz++ --no mo++ --ja! ty je++ --s++ --teś jak zdro++ --wie;\n",
            " _cap_ ile cię trze++ --ba ce++ --nić, ten tyl++ --ko się do++ --wie\n",
            " _cap_ kto cię stra++ --cił.  _cap_ dziś pięk++ --ność twą w całéj o++ --zdo++ --bie\n",
            " _cap_ wi++ --dzę i o++ --pi++ --su++ --ję, bo tęs++ --knię po to++ --bie.\n"
          ],
          "name": "stdout"
        }
      ]
    },
    {
      "cell_type": "markdown",
      "metadata": {
        "id": "vpf6QibJyyXL",
        "colab_type": "text"
      },
      "source": [
        "### Załadowanie do pamięci i tokenizacja"
      ]
    },
    {
      "cell_type": "markdown",
      "metadata": {
        "id": "OSyGzgVD057R",
        "colab_type": "text"
      },
      "source": [
        "Ładujemy korpus do pamięci i tokenizujemy. Tworzymy też listę wszystkich tokenów `all_tokens`. Mamy już specjalne tokeny `_cap_` i `_up_`, zamieniamy znaki końca lini na token `_eol_` i dodajemy token `_unk_` na wypadek, gdybyśmy użyli sylaby (tokena), który nie wystąpił wcześniej w korpusie."
      ]
    },
    {
      "cell_type": "code",
      "metadata": {
        "id": "g9H83p3sXM5L",
        "colab_type": "code",
        "colab": {
          "base_uri": "https://localhost:8080/",
          "height": 35
        },
        "outputId": "2e8e7d86-5a91-467c-a17e-2606ef75f68e"
      },
      "source": [
        "file = open(fn_corpus_syl).read()\n",
        "file_len = len(file)\n",
        "print('file_len =', file_len)"
      ],
      "execution_count": 33,
      "outputs": [
        {
          "output_type": "stream",
          "text": [
            "file_len = 398396\n"
          ],
          "name": "stdout"
        }
      ]
    },
    {
      "cell_type": "code",
      "metadata": {
        "id": "maVrQMtZyyXU",
        "colab_type": "code",
        "colab": {
          "base_uri": "https://localhost:8080/",
          "height": 55
        },
        "outputId": "ce9738e0-91fe-433b-da14-23797a91c77c"
      },
      "source": [
        "# taken from fastai/text.py\n",
        "\n",
        "# remove +,- chars from punctuation set to keep syllables e.g.'--PO++' intact\n",
        "# remove _ char to keep tokens intact\n",
        "punctuation=re.sub('[_\\+-]', '', string.punctuation)\n",
        "re_tok = re.compile(f'([{punctuation}“”¨«»®´·º½¾¿¡§£₤‘’])')\n",
        "\n",
        "def tokenize(s, repl_unk=True): \n",
        "  strings = re_tok.sub(r' \\1 ', s).replace('\\n', ' _eol_ ').split()\n",
        "  if repl_unk:\n",
        "    strings = [str2tok(s) for s in strings]\n",
        "  return strings\n",
        "\n",
        "file_tok = tokenize(file, repl_unk=False); len(file_tok), file_tok[:8]\n",
        "file_tok_len = len(file_tok)\n",
        "\n",
        "spec_tokens = ['_unk_', '_eol_', '_cap_', '_up_']\n",
        "\n",
        "all_tokens = []\n",
        "all_tokens.extend(spec_tokens)\n",
        "all_tokens.extend(sorted(list(set(file_tok))))\n",
        "n_tokens = len(all_tokens); print(n_tokens, all_tokens[:50])\n",
        "\n",
        "tok2idx_dict = {tok: idx for (idx, tok) in enumerate(all_tokens)}\n",
        "\n",
        "def str2tok(str) -> int:\n",
        "  return str if tok2idx_dict.get(str, 0) else all_tokens[0]\n",
        "\n",
        "def tok2idx(tok) -> int:\n",
        "  return tok2idx_dict.get(tok, 0)"
      ],
      "execution_count": 34,
      "outputs": [
        {
          "output_type": "stream",
          "text": [
            "5059 ['_unk_', '_eol_', '_cap_', '_up_', '!', '\"', '%', \"'\", '(', ')', ',', '--', '--a++', '--aczéj', '--ał', '--b++', '--ba', '--ba++', '--bach', '--baj++', '--bak', '--ban', '--ban++', '--bar++', '--barz', '--baw', '--baw++', '--bał', '--baż', '--bcem', '--be++', '--bek', '--bel', '--bel++', '--belg', '--bem', '--ber++', '--bez++', '--beł', '--bi', '--bi++', '--bia', '--bia++', '--biad', '--biar++', '--biać', '--biał', '--bic', '--bie', '--bie++']\n"
          ],
          "name": "stdout"
        }
      ]
    },
    {
      "cell_type": "markdown",
      "metadata": {
        "id": "zaNxdcoMADVS",
        "colab_type": "text"
      },
      "source": [
        "Przyda nam się funkcja do zakodowania dowolnego tekstu na listę zsylabizowanych tokenów:"
      ]
    },
    {
      "cell_type": "code",
      "metadata": {
        "id": "rDQqpRYzxT4L",
        "colab_type": "code",
        "colab": {}
      },
      "source": [
        "def str2syl2tok(text):  \n",
        "  fn_tmp_text_caps = Path(tmp_path / 'tmp_text_caps1.txt')\n",
        "  fn_tmp_text_syl = Path(tmp_path / 'tmp_text_syl1.txt')\n",
        "  \n",
        "  text = do_caps(text)\n",
        "  fn_tmp_text_caps.open('w').write(text)\n",
        "  \n",
        "  !$stemmer_bin -s 7683 -d bin/stemmer2.dic -i $fn_tmp_text_caps -o $fn_tmp_text_syl\n",
        "  \n",
        "  text_syl = fn_tmp_text_syl.open('r').read()\n",
        "  \n",
        "  # kill last \\n eol char possibly added by stemmer\n",
        "  if text_syl[-1] == '\\n':\n",
        "    text_syl = text_syl[:-1]\n",
        "\n",
        "  text_tok = tokenize(text_syl, repl_unk=True)\n",
        "    \n",
        "  return text_tok"
      ],
      "execution_count": 0,
      "outputs": []
    },
    {
      "cell_type": "code",
      "metadata": {
        "id": "gwnDdj75paVP",
        "colab_type": "code",
        "colab": {
          "base_uri": "https://localhost:8080/",
          "height": 55
        },
        "outputId": "fc7f6a56-4203-45d6-b5e0-4d9c3c85941c"
      },
      "source": [
        "tekst = 'LITWO! Ojczyzno moja!\\nTy jesteś jak zdrowie.\\nIle cię trzeba cenić ble ble '\n",
        "tekst_tok = str2syl2tok(tekst); print(tekst_tok)"
      ],
      "execution_count": 36,
      "outputs": [
        {
          "output_type": "stream",
          "text": [
            "['_up_', 'lit++', '--wo', '!', '_cap_', 'oj++', '--czyz++', '--no', 'mo++', '--ja', '!', '_eol_', '_cap_', 'ty', 'je++', '--s++', '--teś', 'jak', 'zdro++', '--wie', '.', '_eol_', '_cap_', 'ile', 'cię', 'trze++', '--ba', 'ce++', '--nić', '_unk_', '_unk_']\n"
          ],
          "name": "stdout"
        }
      ]
    },
    {
      "cell_type": "markdown",
      "metadata": {
        "id": "bAUKI80V6CvK",
        "colab_type": "text"
      },
      "source": [
        "Funkcje pomocnicze do zdekodowania listy tokenów na tekst:"
      ]
    },
    {
      "cell_type": "code",
      "metadata": {
        "id": "JzAAi_95yyXq",
        "colab_type": "code",
        "colab": {
          "base_uri": "https://localhost:8080/",
          "height": 35
        },
        "outputId": "4bdf69e4-4b91-47af-9af1-add00f3f8fa4"
      },
      "source": [
        "def syl2str(a_list, delim='/'): \n",
        "  s = ' '.join(a_list)\n",
        "  \n",
        "  repl_list = [\n",
        "      ('++ --', delim), \n",
        "  ]\n",
        "  for repl in repl_list:\n",
        "    s = s.replace(repl[0], repl[1])\n",
        "  \n",
        "  return s\n",
        "\n",
        "print(syl2str(tekst_tok))"
      ],
      "execution_count": 37,
      "outputs": [
        {
          "output_type": "stream",
          "text": [
            "_up_ lit/wo ! _cap_ oj/czyz/no mo/ja ! _eol_ _cap_ ty je/s/teś jak zdro/wie . _eol_ _cap_ ile cię trze/ba ce/nić _unk_ _unk_\n"
          ],
          "name": "stdout"
        }
      ]
    },
    {
      "cell_type": "code",
      "metadata": {
        "id": "pUs-bnu5q2FF",
        "colab_type": "code",
        "colab": {
          "base_uri": "https://localhost:8080/",
          "height": 70
        },
        "outputId": "7877e359-5b2f-4311-8a8e-0b88fdb0bf48"
      },
      "source": [
        "def decode_tokens(e_str):\n",
        "  # decode _eol_, _cap_ and _up_\n",
        "  # leave _unk_ token alone\n",
        "  e_syl = e_str.split(' ')\n",
        "  e_syl2 = []\n",
        "\n",
        "  cap = False; up = False\n",
        "\n",
        "  for syl in e_syl:\n",
        "    if syl == '_eol_': syl = '\\n'\n",
        "\n",
        "    if syl not in ['_cap_', '_up_']:\n",
        "      if cap == True: syl = syl.title(); cap = False\n",
        "      if up == True: syl = syl.upper(); up = False        \n",
        "      e_syl2.append(syl)\n",
        "\n",
        "    if syl == '_cap_': cap = True\n",
        "    if syl == '_up_': up = True\n",
        "\n",
        "  return ' '.join(e_syl2)\n",
        "\n",
        "print(decode_tokens(syl2str(tekst_tok, delim=''))[:300])"
      ],
      "execution_count": 38,
      "outputs": [
        {
          "output_type": "stream",
          "text": [
            "LITWO ! Ojczyzno moja ! \n",
            " Ty jesteś jak zdrowie . \n",
            " Ile cię trzeba cenić _unk_ _unk_\n"
          ],
          "name": "stdout"
        }
      ]
    },
    {
      "cell_type": "code",
      "metadata": {
        "id": "pqbQLawfrV-n",
        "colab_type": "code",
        "colab": {
          "base_uri": "https://localhost:8080/",
          "height": 70
        },
        "outputId": "0dad8fe8-ecce-4791-c68b-4a947e1ce4af"
      },
      "source": [
        "def fix_punctuation(s): \n",
        "  repl_list = [\n",
        "      ('\\n ', '\\n'), \n",
        "      (' ,', ','),\n",
        "      (' .', '.'),\n",
        "      (' !', '!'),\n",
        "      (' ?', '?'),\n",
        "      (' ;', ';'),\n",
        "      ('( ', '('),\n",
        "      (' )', ')'),\n",
        "      (' «', '«'),\n",
        "      ('» ', '»'),\n",
        "      (' :', ':')\n",
        "  ]\n",
        "  \n",
        "  for repl in repl_list:\n",
        "    s = s.replace(repl[0], repl[1])\n",
        "  \n",
        "  return s\n",
        "\n",
        "print(fix_punctuation(decode_tokens(syl2str(tekst_tok, delim='')))[:300])"
      ],
      "execution_count": 39,
      "outputs": [
        {
          "output_type": "stream",
          "text": [
            "LITWO! Ojczyzno moja! \n",
            "Ty jesteś jak zdrowie. \n",
            "Ile cię trzeba cenić _unk_ _unk_\n"
          ],
          "name": "stdout"
        }
      ]
    },
    {
      "cell_type": "markdown",
      "metadata": {
        "id": "v2VJHqQmCyuT",
        "colab_type": "text"
      },
      "source": [
        "Sformatujmy zdekodowany tekst w HTML i zaznaczmy na czerwono sylaby, z których nie dało się skleić słów."
      ]
    },
    {
      "cell_type": "code",
      "metadata": {
        "id": "WFj5nGp5yyYI",
        "colab_type": "code",
        "colab": {
          "base_uri": "https://localhost:8080/",
          "height": 68
        },
        "outputId": "3ed3c294-ea3a-45e1-9f8a-4a3f5d0a3ebb"
      },
      "source": [
        "class X(str):\n",
        "    def rpl(self, p, c='lightgray'):\n",
        "        return X(self.replace(p, f'<font color=\"{c}\">{p}</font>'))\n",
        "    def rpl2(self, p, p2):\n",
        "        return X(self.replace(p, p2))\n",
        "      \n",
        "def format_html(e_str):\n",
        "  return X(e_str).rpl('/').rpl('--', c='red').rpl('++', c='red').rpl2('\\n', '\\n<br/>')\n",
        "\n",
        "e_str = fix_punctuation(decode_tokens(syl2str(tekst_tok, delim='')))[:400]\n",
        "e_html = format_html(e_str); display(HTML(e_html))"
      ],
      "execution_count": 40,
      "outputs": [
        {
          "output_type": "display_data",
          "data": {
            "text/html": [
              "LITWO! Ojczyzno moja! \n",
              "<br/>Ty jesteś jak zdrowie. \n",
              "<br/>Ile cię trzeba cenić _unk_ _unk_"
            ],
            "text/plain": [
              "<IPython.core.display.HTML object>"
            ]
          },
          "metadata": {
            "tags": []
          }
        }
      ]
    },
    {
      "cell_type": "markdown",
      "metadata": {
        "id": "nnmXGTva5nw-",
        "colab_type": "text"
      },
      "source": [
        "## Przygotowanie treningu"
      ]
    },
    {
      "cell_type": "markdown",
      "metadata": {
        "id": "2cIY0S4g0gZo",
        "colab_type": "text"
      },
      "source": [
        "### GPU?"
      ]
    },
    {
      "cell_type": "code",
      "metadata": {
        "id": "2hTjsshick9K",
        "colab_type": "code",
        "colab": {
          "base_uri": "https://localhost:8080/",
          "height": 35
        },
        "outputId": "24050dd1-a444-45b9-a801-596cbf95d7c5"
      },
      "source": [
        "USE_GPU = torch.cuda.is_available(); \n",
        "# USE_GPU = False; \n",
        "\n",
        "print(f'USE_GPU={USE_GPU}')\n",
        "\n",
        "def to_gpu(x, *args, **kwargs):\n",
        "    return x.cuda(*args, **kwargs) if USE_GPU else x"
      ],
      "execution_count": 41,
      "outputs": [
        {
          "output_type": "stream",
          "text": [
            "USE_GPU=True\n"
          ],
          "name": "stdout"
        }
      ]
    },
    {
      "cell_type": "markdown",
      "metadata": {
        "id": "X5cFLx6WXM5X",
        "colab_type": "text"
      },
      "source": [
        "### Budowa sieci rekurencyjnej\n",
        "\n",
        "Ten model przyjmie jako wejściie token dla kroku $ t _ {- 1} $ i ma wyprowadzić następny token $ t $. Istnieją trzy warstwy - jedna warstwa liniowa, która koduje znak wejściowy do stanu wewnętrznego, jedna warstwa GRU (która może sama mieć wiele warstw), która działa na tym stanie wewnętrznym i stanie ukrytym, oraz warstwa dekodera, która wyprowadza rozkład prawdopodobieństwa."
      ]
    },
    {
      "cell_type": "code",
      "metadata": {
        "id": "tZ8chQcVXM5X",
        "colab_type": "code",
        "colab": {}
      },
      "source": [
        "class RNN(nn.Module):\n",
        "    def __init__(self, input_size, hidden_size, output_size, n_layers=1):\n",
        "        super(RNN, self).__init__()\n",
        "        self.input_size = input_size\n",
        "        self.hidden_size = hidden_size\n",
        "        self.output_size = output_size\n",
        "        self.n_layers = n_layers\n",
        "        \n",
        "        self.encoder = nn.Embedding(input_size, hidden_size)\n",
        "        self.gru = nn.GRU(hidden_size, hidden_size, n_layers)\n",
        "        self.decoder = nn.Linear(hidden_size, output_size)\n",
        "    \n",
        "    def forward(self, input, hidden):\n",
        "        input = self.encoder(input.view(1, -1))\n",
        "        output, hidden = self.gru(input.view(1, 1, -1), hidden)\n",
        "        output = self.decoder(output.view(1, -1))\n",
        "        return output, hidden\n",
        "\n",
        "    def init_hidden(self):\n",
        "        return Variable(to_gpu(torch.zeros(self.n_layers, 1, self.hidden_size)))"
      ],
      "execution_count": 0,
      "outputs": []
    },
    {
      "cell_type": "markdown",
      "metadata": {
        "id": "62XSRFgkXM5Z",
        "colab_type": "text"
      },
      "source": [
        "### Tensory wejściowe i docelowe"
      ]
    },
    {
      "cell_type": "markdown",
      "metadata": {
        "id": "lL_XOG-fXM5T",
        "colab_type": "text"
      },
      "source": [
        "Aby stworzyć 'wejścia' z tego dużego ciągu danych, podzielimy go na kawałki po 400 sylab:"
      ]
    },
    {
      "cell_type": "code",
      "metadata": {
        "id": "_zwmRSAHXM5T",
        "colab_type": "code",
        "colab": {
          "base_uri": "https://localhost:8080/",
          "height": 35
        },
        "outputId": "0afdb21f-5526-4ca2-8830-714cb58b1ba1"
      },
      "source": [
        "chunk_len = 400\n",
        "\n",
        "def random_chunk():\n",
        "    start_index = random.randint(0, file_tok_len - chunk_len -1)\n",
        "    end_index = start_index + chunk_len + 1\n",
        "    return file_tok[start_index:end_index]\n",
        "  \n",
        "n_samples = file_tok_len // chunk_len; n_samples, file_tok_len"
      ],
      "execution_count": 43,
      "outputs": [
        {
          "output_type": "execute_result",
          "data": {
            "text/plain": [
              "(198, 79544)"
            ]
          },
          "metadata": {
            "tags": []
          },
          "execution_count": 43
        }
      ]
    },
    {
      "cell_type": "markdown",
      "metadata": {
        "id": "UaOPvn0rXM5Z",
        "colab_type": "text"
      },
      "source": [
        "Każdy 'kawałek' zostanie przekształcony w tensor, a dokładnie w `LongTensor` (używany do wartości całkowitych), poprzez przepuszczenie wszystkich tokenów ciągu i wyszukiwanie indeksu każdej sylaby w `all_tokens`."
      ]
    },
    {
      "cell_type": "code",
      "metadata": {
        "id": "q0H2nwMMXM5a",
        "colab_type": "code",
        "colab": {}
      },
      "source": [
        "# Turn token list into list of longs\n",
        "def tok_tensor(token_list):\n",
        "    tensor = torch.zeros(len(token_list)).long()\n",
        "    for c in range(len(token_list)):\n",
        "        tensor[c] = tok2idx(token_list[c])\n",
        "    \n",
        "    return Variable(to_gpu(tensor))"
      ],
      "execution_count": 0,
      "outputs": []
    },
    {
      "cell_type": "code",
      "metadata": {
        "id": "zrTEI7EjyyX2",
        "colab_type": "code",
        "colab": {
          "base_uri": "https://localhost:8080/",
          "height": 88
        },
        "outputId": "0840165a-c49e-4320-96ca-851cc6ea0eb5"
      },
      "source": [
        "tekst = 'Litwo! Ojczyzno moja! ty jesteś jak zdrowie;'\n",
        "tekst_tok = str2syl2tok(tekst)\n",
        "print(tekst_tok)\n",
        "print(tok_tensor(tekst_tok))"
      ],
      "execution_count": 45,
      "outputs": [
        {
          "output_type": "stream",
          "text": [
            "['_cap_', 'lit++', '--wo', '!', '_cap_', 'oj++', '--czyz++', '--no', 'mo++', '--ja', '!', 'ty', 'je++', '--s++', '--teś', 'jak', 'zdro++', '--wie', ';']\n",
            "tensor([ 2721,  3565,  2396,     4,  2721,  3776,   435,  1424,  3642,\n",
            "          865,     4,  4468,  3365,  1738,  2151,  3354,  4810,  2332,\n",
            "         2716], device='cuda:0')\n"
          ],
          "name": "stdout"
        }
      ]
    },
    {
      "cell_type": "markdown",
      "metadata": {
        "id": "0Su49JvFXM5d",
        "colab_type": "text"
      },
      "source": [
        "Wreszcie możemy zmontować parę tensorów wejściowych i docelowych do treningu, z losowego kawałka. Wejściem zostaną wszystkie tokeny * aż do przedostatniego*, a celem (targetem) będą wszystkie tokeny * od drugiego*. Jeśli więc nasz kawałek to \"abc\", wejście będzie odpowiadać \"ab\", podczas gdy cel to \"bc\"."
      ]
    },
    {
      "cell_type": "code",
      "metadata": {
        "id": "mLzzsbTRXM5d",
        "colab_type": "code",
        "colab": {
          "base_uri": "https://localhost:8080/",
          "height": 52
        },
        "outputId": "3e87f3f0-0604-4c32-b017-dbdcde955123"
      },
      "source": [
        "def random_training_set():  \n",
        "    chunk = random_chunk()\n",
        "    inp = tok_tensor(chunk[:-1])\n",
        "    target = tok_tensor(chunk[1:])\n",
        "    return inp, target\n",
        "  \n",
        "inp, target = random_training_set(); inp[:9], target[:9]"
      ],
      "execution_count": 46,
      "outputs": [
        {
          "output_type": "execute_result",
          "data": {
            "text/plain": [
              "(tensor([ 2722,  2721,  4730,  2561,  3426,  2058,   385,  4057,  3439], device='cuda:0'),\n",
              " tensor([ 2721,  4730,  2561,  3426,  2058,   385,  4057,  3439,   940], device='cuda:0'))"
            ]
          },
          "metadata": {
            "tags": []
          },
          "execution_count": 46
        }
      ]
    },
    {
      "cell_type": "markdown",
      "metadata": {
        "id": "vSJ_szQTXM5f",
        "colab_type": "text"
      },
      "source": [
        "### Ewaluacja wyników\n",
        "\n",
        "Aby ocenić sieć, będziemy podawać po jednym tokenie na raz, wykorzystywać wyjścia sieci jako rozkład prawdopodobieństwa dla następnego znaku i powtarzać. Aby rozpocząć generowanie, przekazujemy ciąg wstępny, aby rozpocząć budowanie stanu ukrytego, z którego następnie generujemy po jednym tokenie na raz."
      ]
    },
    {
      "cell_type": "code",
      "metadata": {
        "id": "2ecqC4rWXM5f",
        "colab_type": "code",
        "colab": {}
      },
      "source": [
        "def evaluate(prime_tokl=[all_tokens[1]], predict_len=100, temperature=0.8):\n",
        "    hidden = decoder.init_hidden()\n",
        "    prime_input = tok_tensor(prime_tokl)\n",
        "    predicted = list(prime_tokl)  # need a copy of the list\n",
        "\n",
        "    # Use priming token list to \"build up\" hidden state\n",
        "    for p in range(len(prime_tokl) - 1):\n",
        "        _, hidden = decoder(prime_input[p], hidden)\n",
        "    inp = prime_input[-1]\n",
        "    \n",
        "    for p in range(predict_len):\n",
        "        output, hidden = decoder(inp, hidden)\n",
        "        \n",
        "        # Sample from the network as a multinomial distribution\n",
        "        output_dist = output.data.view(-1).div(temperature).exp()\n",
        "        \n",
        "        # in pytorch 0.4.0 max, min fail if there are Infs or nans\n",
        "        # https://github.com/pytorch/pytorch/issues/6996\n",
        "        # in all pytorch versions multinomial fails if there are Infs or nans\n",
        "        # https://github.com/pytorch/pytorch/issues/871\n",
        "        # temp fix, kill Infs and nans\n",
        "        # https://discuss.pytorch.org/t/how-to-set-inf-in-tensor-variable-to-0/10235\n",
        "        output_dist[output_dist == float(\"Inf\")] = 0\n",
        "        output_dist[output_dist == float(\"nan\")] = 0\n",
        "        \n",
        "        top_i = torch.multinomial(output_dist, 1)[0].item()\n",
        "        \n",
        "        # Add predicted token to the list and use as next input\n",
        "        predicted_token = all_tokens[top_i]\n",
        "        predicted.append(predicted_token)\n",
        "        inp = tok_tensor([predicted_token])\n",
        "\n",
        "    return predicted"
      ],
      "execution_count": 0,
      "outputs": []
    },
    {
      "cell_type": "markdown",
      "metadata": {
        "id": "lZY0fPgEXM5h",
        "colab_type": "text"
      },
      "source": [
        "## Trening sieci"
      ]
    },
    {
      "cell_type": "markdown",
      "metadata": {
        "id": "-pM5T97tXM5h",
        "colab_type": "text"
      },
      "source": [
        "Funkcja pomocnicza do wydrukowania upływającego czasu:"
      ]
    },
    {
      "cell_type": "code",
      "metadata": {
        "id": "hQnLeX-TXM5h",
        "colab_type": "code",
        "colab": {}
      },
      "source": [
        "def time_since(since):\n",
        "    s = time.time() - since\n",
        "    m = math.floor(s / 60)\n",
        "    s -= m * 60\n",
        "    return '%dm %ds' % (m, s)"
      ],
      "execution_count": 0,
      "outputs": []
    },
    {
      "cell_type": "markdown",
      "metadata": {
        "id": "0pntPTWEXM5i",
        "colab_type": "text"
      },
      "source": [
        "Główna funkcja treningowa:"
      ]
    },
    {
      "cell_type": "code",
      "metadata": {
        "id": "QKb7-MeXXM5j",
        "colab_type": "code",
        "colab": {}
      },
      "source": [
        "def train(inp, target):\n",
        "    hidden = decoder.init_hidden()\n",
        "    decoder.zero_grad()\n",
        "    loss = 0\n",
        "\n",
        "    for c in range(chunk_len):\n",
        "        output, hidden = decoder(inp[c], hidden)\n",
        "        loss += criterion(output, target[c].expand(1))\n",
        "\n",
        "    loss.backward()\n",
        "    decoder_optimizer.step()\n",
        "\n",
        "    return loss.item() / chunk_len"
      ],
      "execution_count": 0,
      "outputs": []
    },
    {
      "cell_type": "markdown",
      "metadata": {
        "id": "2EiZtEsA0571",
        "colab_type": "text"
      },
      "source": [
        "Opcjonalny monitoring postępu treningu:"
      ]
    },
    {
      "cell_type": "code",
      "metadata": {
        "id": "HpYR9j3qyyYF",
        "colab_type": "code",
        "colab": {}
      },
      "source": [
        "USE_VISDOM = False\n",
        "\n",
        "vis = None\n",
        "if USE_VISDOM:\n",
        "    import visdom\n",
        "    vis = visdom.Visdom(port=8890)\n",
        "\n",
        "def vis_update_line_chart(vis, name, x, y, first_step):\n",
        "    if not USE_VISDOM: return\n",
        "    vis.line(Y=np.array([y]), X=np.array([x]), win=name, opts=dict(title=name),\n",
        "             update=None if first_step else 'append')\n",
        "\n",
        "def vis_update_text_win(vis, name, text):\n",
        "    if not USE_VISDOM: return\n",
        "    vis.text(text, win=name, opts=dict(title=name), append=False)"
      ],
      "execution_count": 0,
      "outputs": []
    },
    {
      "cell_type": "markdown",
      "metadata": {
        "id": "5sjJFcYJDzZ2",
        "colab_type": "text"
      },
      "source": [
        "Wskaźnik liczby sylab, z których nie dało się skleić słów:"
      ]
    },
    {
      "cell_type": "code",
      "metadata": {
        "id": "tY2U1vt4yyYK",
        "colab_type": "code",
        "colab": {}
      },
      "source": [
        "def bad_words(e_syl): e_str = syl2str(e_syl); return (e_str.count('++') + e_str.count('--')) / len(e_syl)"
      ],
      "execution_count": 0,
      "outputs": []
    },
    {
      "cell_type": "markdown",
      "metadata": {
        "id": "tyo69fakXM5k",
        "colab_type": "text"
      },
      "source": [
        "Następnie definiujemy parametry treningowe i rozpoczynamy trening:"
      ]
    },
    {
      "cell_type": "code",
      "metadata": {
        "id": "ILThkaRPXM5k",
        "colab_type": "code",
        "colab": {
          "base_uri": "https://localhost:8080/",
          "height": 124
        },
        "outputId": "ddd6e262-f8b4-4ee7-d402-04429fc7ead6"
      },
      "source": [
        "n_epochs = 15\n",
        "n_iters = n_epochs * n_samples\n",
        "print_every = n_samples // 2\n",
        "plot_every = n_samples // 4\n",
        "hidden_size = 500\n",
        "n_layers = 3\n",
        "lr = 0.001\n",
        "\n",
        "decoder = RNN(n_tokens, hidden_size, n_tokens, n_layers)\n",
        "if USE_GPU:\n",
        "    decoder.cuda()\n",
        "print(decoder, flush=True)\n",
        "\n",
        "decoder_optimizer = torch.optim.Adam(decoder.parameters(), lr=lr)\n",
        "criterion = nn.CrossEntropyLoss()\n",
        "if USE_GPU:\n",
        "    criterion.cuda()\n",
        "\n",
        "all_losses = []\n",
        "loss_avg = 0\n",
        "all_bw = []\n",
        "bw_avg = 0\n",
        "\n",
        "iterable = range(1, n_iters + 1)\n",
        "tqdm_ = tqdm(iterable, '', leave=False, dynamic_ncols=True, mininterval=1.0, ascii=True, miniters=1)\n",
        "first_step = True\n",
        "\n",
        "prime_tok = str2syl2tok('Litwo! Ojczyzno moja!')"
      ],
      "execution_count": 52,
      "outputs": [
        {
          "output_type": "stream",
          "text": [
            "RNN(\n",
            "  (encoder): Embedding(5059, 500)\n",
            "  (gru): GRU(500, 500, num_layers=3)\n",
            "  (decoder): Linear(in_features=500, out_features=5059, bias=True)\n",
            ")\n"
          ],
          "name": "stdout"
        },
        {
          "output_type": "stream",
          "text": [
            "\r  0%|          | 0/2970 [00:00<?, ?it/s]"
          ],
          "name": "stderr"
        }
      ]
    },
    {
      "cell_type": "code",
      "metadata": {
        "id": "R6y2kdZUj2bw",
        "colab_type": "code",
        "colab": {
          "base_uri": "https://localhost:8080/",
          "height": 1000
        },
        "outputId": "6686b871-8c65-4cf4-ab77-2252f601bd72"
      },
      "source": [
        "start = time.time()\n",
        "\n",
        "for it in tqdm_:\n",
        "    epoch = 1 + it // n_samples\n",
        "    loss = train(*random_training_set())       \n",
        "    loss_avg += loss\n",
        "\n",
        "    # current loss chart\n",
        "    vis_update_line_chart(vis, 'loss', it, loss, it == 1)\n",
        "\n",
        "    # bad words    \n",
        "    bw = bad_words(evaluate(prime_tok, 100))\n",
        "    bw_avg += bw\n",
        "\n",
        "    # current bad words chart\n",
        "    vis_update_line_chart(vis, 'bad_words', it, bw, it == 1)\n",
        "    \n",
        "    # progress_bar\n",
        "    tqdm_.set_postfix({'epoch': f'{epoch}/{n_epochs}', 'loss': loss, 'bw': bw})\n",
        "    text = f'&nbsp;<font color=\"red\">{tqdm_}</font>'\n",
        "    vis_update_text_win(vis, 'progress_bar', text)\n",
        "\n",
        "    if it % print_every == 0:\n",
        "        e_syl = evaluate(prime_tok, 1000)\n",
        "        e_bw = bad_words(e_syl)\n",
        "        stats_str = '\\n[%s (%d %d %d%%) loss=%.4f bw=%.4f]' % (time_since(start), epoch, it, it / n_iters * 100, loss, e_bw)\n",
        "        print(stats_str)\n",
        "        \n",
        "        e_str = fix_punctuation(decode_tokens(syl2str(e_syl, delim='')))\n",
        "        e_html = format_html(e_str); display(HTML(e_html))\n",
        "        print(flush=True)        \n",
        "        \n",
        "        text = f'<b>{stats_str}</b><br />{e_html}'\n",
        "        vis_update_text_win(vis, 'evaluation', text)\n",
        "        \n",
        "        e_syl_path = tmp_path / 'e_syl.txt'\n",
        "        e_syl_path.open('w').write(' '.join(e_syl))\n",
        "\n",
        "    if it % plot_every == 0:\n",
        "        vis_update_line_chart(vis, 'loss_avg', it, loss_avg / plot_every, first_step)\n",
        "        vis_update_line_chart(vis, 'bad_words_avg', it, bw_avg / plot_every, first_step)\n",
        "        all_bw.append(bw)\n",
        "        bw_avg = 0\n",
        "        first_step = False\n",
        "        all_losses.append(loss_avg / plot_every)\n",
        "        loss_avg = 0"
      ],
      "execution_count": 53,
      "outputs": [
        {
          "output_type": "stream",
          "text": [
            "  3%|3         | 98/2970 [03:13<1:24:50,  1.77s/it, epoch=1/15, loss=6.4, bw=0.351] "
          ],
          "name": "stderr"
        },
        {
          "output_type": "stream",
          "text": [
            "\n",
            "[2m 57s (1 99 3%) loss=6.4042 bw=0.3887]\n"
          ],
          "name": "stdout"
        },
        {
          "output_type": "display_data",
          "data": {
            "text/html": [
              "Litwo! Ojczyzno moja! \n",
              "<br/><font color=\"red\">--</font>Ko<font color=\"red\">++</font> nago, <font color=\"red\">--</font>na odę <font color=\"red\">--</font>na:, Po miał to <font color=\"red\">--</font>szy drutur <font color=\"red\">--</font>Li<font color=\"red\">++</font> w le<font color=\"red\">++</font>, \n",
              "<br/>Z <font color=\"red\">--</font>we <font color=\"red\">--</font>kace <font color=\"red\">--</font>we <font color=\"red\">--</font>ce <font color=\"red\">--</font>cią<font color=\"red\">++</font>; <font color=\"red\">--</font>ką <font color=\"red\">--</font>rzył pó<font color=\"red\">++</font> się <font color=\"red\">--</font>wę sę<font color=\"red\">++</font> \n",
              "<br/>Wie<font color=\"red\">++</font> tak to <font color=\"red\">--</font>ły <font color=\"red\">--</font>ki <font color=\"red\">--</font>myśl się <font color=\"red\">--</font>dzo <font color=\"red\">--</font>ni strzelkiem zno<font color=\"red\">++</font> \n",
              "<br/>. \n",
              "<br/><font color=\"red\">--</font>Go« <font color=\"red\">--</font>Li, <font color=\"red\">--</font>ła <font color=\"red\">--</font>ka <font color=\"red\">--</font>brał <font color=\"red\">--</font>starła<font color=\"red\">++</font> je tak z, \n",
              "<br/>I <font color=\"red\">--</font>ją wiej<font color=\"red\">++</font>, nie spugi <font color=\"red\">--</font>ty <font color=\"red\">--</font>ści szu<font color=\"red\">++</font> my O<font color=\"red\">++</font>. \n",
              "<br/>To <font color=\"red\">--</font>cie za<font color=\"red\">++</font> zanie<font color=\"red\">++</font> oka <font color=\"red\">--</font>żwał jenie <font color=\"red\">--</font>ła <font color=\"red\">--</font>nął. \n",
              "<br/>O<font color=\"red\">++</font> prze<font color=\"red\">++</font> li<font color=\"red\">++</font> po<font color=\"red\">++</font> i szu<font color=\"red\">++</font> osłuby ko<font color=\"red\">++</font> skó<font color=\"red\">++</font> w z in<font color=\"red\">++</font> ale wojwu <font color=\"red\">--</font>kać \n",
              "<br/>; to! jedzem o<font color=\"red\">++</font> cho<font color=\"red\">++</font> jak <font color=\"red\">--</font>ka <font color=\"red\">--</font>wał <font color=\"red\">--</font>rwie <font color=\"red\">--</font>żene, \n",
              "<br/>Kutek <font color=\"red\">--</font>dzie <font color=\"red\">--</font>ło po ró<font color=\"red\">++</font> w <font color=\"red\">--</font>pad<font color=\"red\">++</font> pań<font color=\"red\">++</font>; <font color=\"red\">--</font>ski zwie<font color=\"red\">++</font> rę<font color=\"red\">++</font> cięnym, \n",
              "<br/><font color=\"red\">--</font>Nił trze<font color=\"red\">++</font> smykę czap<font color=\"red\">++</font> ko<font color=\"red\">++</font> Wysi <font color=\"red\">--</font>po<font color=\"red\">++</font> miał <font color=\"red\">--</font>by na <font color=\"red\">--</font>konie. \n",
              "<br/><font color=\"red\">--</font>Wa j i głomo<font color=\"red\">++</font> zwie<font color=\"red\">++</font> <font color=\"red\">--</font>Na <font color=\"red\">--</font>daraz <font color=\"red\">--</font>szy gdzie <font color=\"red\">--</font>dem, \n",
              "<br/>« Ojko pog<font color=\"red\">++</font> stru<font color=\"red\">++</font> na<font color=\"red\">++</font> w <font color=\"red\">--</font>la<font color=\"red\">++</font> to \n",
              "<br/>Prze<font color=\"red\">++</font> ró<font color=\"red\">++</font> czy to gąmo<font color=\"red\">++</font> z cibo <font color=\"red\">--</font>ła w rozstki <font color=\"red\">--</font>cho zie<font color=\"red\">++</font> \n",
              "<br/>\n",
              "<br/>Po nie<font color=\"red\">++</font> w <font color=\"red\">--</font>leo<font color=\"red\">++</font> druczył w ro<font color=\"red\">++</font>. Zater Ciągny w w koka po<font color=\"red\">++</font> w że nonie <font color=\"red\">--</font>cy \n",
              "<br/><font color=\"red\">--</font>Jąc dru<font color=\"red\">++</font> kaby się <font color=\"red\">--</font>tu<font color=\"red\">++</font> wszyzmier<font color=\"red\">++</font> <font color=\"red\">--</font>Jem <font color=\"red\">--</font>cz<font color=\"red\">++</font> lub <font color=\"red\">--</font>ło<font color=\"red\">++</font> \n",
              "<br/>Jusu<font color=\"red\">++</font> zwol<font color=\"red\">++</font> radek lub je ci<font color=\"red\">++</font> lecz <font color=\"red\">--</font>szyk w, \n",
              "<br/>Zdarą grzmi <font color=\"red\">--</font>ła je<font color=\"red\">++</font> <font color=\"red\">--</font>Kach <font color=\"red\">--</font>wi<font color=\"red\">++</font>; <font color=\"red\">--</font>wą <font color=\"red\">--</font>mys<font color=\"red\">++</font>: \n",
              "<br/>Tuż nie<font color=\"red\">++</font> jak <font color=\"red\">--</font>ło, piękna wszedł <font color=\"red\">--</font>szy ze <font color=\"red\">--</font>Ca <font color=\"red\">--</font>ce pokiem, \n",
              "<br/>Wspoję się niéj <font color=\"red\">--</font>la <font color=\"red\">--</font>Dzi<font color=\"red\">++</font> Gdy<font color=\"red\">++</font> \n",
              "<br/><font color=\"red\">--</font>Nio<font color=\"red\">++</font> z strze<font color=\"red\">++</font> cho<font color=\"red\">++</font>, <font color=\"red\">--</font>bia Na na <font color=\"red\">--</font>ła <font color=\"red\">--</font>ło<font color=\"red\">++</font> się trzascy <font color=\"red\">--</font>go się ką<font color=\"red\">++</font>. \n",
              "<br/>Cho<font color=\"red\">++</font> ze ró<font color=\"red\">++</font> ro<font color=\"red\">++</font> od<font color=\"red\">++</font> to druszłoby <font color=\"red\">--</font>ty w <font color=\"red\">--</font>wie<font color=\"red\">++</font> o<font color=\"red\">++</font> war<font color=\"red\">++</font> rzu<font color=\"red\">++</font> \n",
              "<br/><font color=\"red\">--</font>Ko<font color=\"red\">++</font> Rzekł z. \n",
              "<br/>Wi<font color=\"red\">++</font> utkwio<font color=\"red\">++</font> to ba<font color=\"red\">++</font> w <font color=\"red\">--</font>ją z że <font color=\"red\">--</font>toraz <font color=\"red\">--</font>sy myś<font color=\"red\">++</font> mu <font color=\"red\">--</font>s<font color=\"red\">++</font>, \n",
              "<br/>Już <font color=\"red\">--</font>o<font color=\"red\">++</font> nie<font color=\"red\">++</font> s zra<font color=\"red\">++</font> woj<font color=\"red\">++</font> na Ko<font color=\"red\">++</font> murwsze; \n",
              "<br/>Nie<font color=\"red\">++</font> nas <font color=\"red\">--</font>cze <font color=\"red\">--</font>sta<font color=\"red\">++</font> po roz<font color=\"red\">++</font> dawał <font color=\"red\">--</font>ka <font color=\"red\">--</font>wych ra<font color=\"red\">++</font>, \n",
              "<br/>Te <font color=\"red\">--</font>ny. <font color=\"red\">--</font>Ńczo<font color=\"red\">++</font> zam<font color=\"red\">++</font> ciem<font color=\"red\">++</font>! <font color=\"red\">--</font>Ty <font color=\"red\">--</font>ło w nakra<font color=\"red\">++</font> w. \n",
              "<br/>Znik<font color=\"red\">++</font> Po <font color=\"red\">--</font>kié<font color=\"red\">++</font> mo<font color=\"red\">++</font> kos<font color=\"red\">++</font> Niedzi <font color=\"red\">--</font>ma ho<font color=\"red\">++</font> zaka al<font color=\"red\">++</font> \n",
              "<br/><font color=\"red\">--</font>By<font color=\"red\">++</font> wyży ra<font color=\"red\">++</font> rę<font color=\"red\">++</font> to zana dłos<font color=\"red\">++</font> nie <font color=\"red\">--</font>gi <font color=\"red\">--</font>dzie \n",
              "<br/>\n",
              "<br/><font color=\"red\">--</font>Piw<font color=\"red\">++</font> na. Cilić je<font color=\"red\">++</font> się wi<font color=\"red\">++</font> podki <font color=\"red\">--</font>ślij la<font color=\"red\">++</font> z <font color=\"red\">--</font>dziewe <font color=\"red\">--</font>ki \n",
              "<br/>Tył o<font color=\"red\">++</font> pod <font color=\"red\">--</font>kich <font color=\"red\">--</font>spogo u<font color=\"red\">++</font> u<font color=\"red\">++</font> w <font color=\"red\">--</font>werzą, <font color=\"red\">--</font>kiem! \n",
              "<br/><font color=\"red\">--</font>Tem w <font color=\"red\">--</font>Leż o<font color=\"red\">++</font> <font color=\"red\">--</font>Kie<font color=\"red\">++</font> do<font color=\"red\">++</font> do ob<font color=\"red\">++</font> w nic <font color=\"red\">--</font>nia zwróty dzieni \n",
              "<br/>\n",
              "<br/><font color=\"red\">--</font>Sie was po <font color=\"red\">--</font>na opizu no<font color=\"red\">++</font> ro<font color=\"red\">++</font>, \n",
              "<br/>Stana <font color=\"red\">--</font>ra i się powaba<font color=\"red\">++</font> się tyli war<font color=\"red\">++</font> da<font color=\"red\">++</font> włos \n",
              "<br/><font color=\"red\">--</font>Za <font color=\"red\">--</font>jem iły tych za<font color=\"red\">++</font>, przena <font color=\"red\">--</font>zem; w ku<font color=\"red\">++</font> jekiem <font color=\"red\">--</font>ki \n",
              "<br/><font color=\"red\">--</font>Mi <font color=\"red\">--</font>kitciaż wojsz<font color=\"red\">++</font> przez <font color=\"red\">--</font>ucha po, s <font color=\"red\">--</font>cze, \n",
              "<br/><font color=\"red\">--</font>Ją <font color=\"red\">--</font>dził, <font color=\"red\">--</font>ko<font color=\"red\">++</font>;. \n",
              "<br/>Jak <font color=\"red\">--</font>kach po <font color=\"red\">--</font>Na <font color=\"red\">--</font>kę; zakła<font color=\"red\">++</font> prze<font color=\"red\">++</font> rowa gó<font color=\"red\">++</font> \n",
              "<br/>Cho<font color=\"red\">++</font> podzie kaczu żarę tam<font color=\"red\">++</font> niéj, \n",
              "<br/>W <font color=\"red\">--</font>ca <font color=\"red\">--</font>niutdzi<font color=\"red\">++</font> <font color=\"red\">--</font>Żo<font color=\"red\">++</font> na w <font color=\"red\">--</font>ła ory <font color=\"red\">--</font>ła,; \n",
              "<br/>. <font color=\"red\">--</font>Ki w <font color=\"red\">--</font>sy <font color=\"red\">--</font>ce <font color=\"red\">--</font>zem i się o<font color=\"red\">++</font> podły w łaraw jak mu<font color=\"red\">++</font> \n",
              "<br/>Zanął ował zda<font color=\"red\">++</font> po<font color=\"red\">++</font> w w <font color=\"red\">--</font>ło<font color=\"red\">++</font>, wikła<font color=\"red\">++</font> po w nie<font color=\"red\">++</font>; \n",
              "<br/><font color=\"red\">--</font>Jąc pod<font color=\"red\">++</font> pan <font color=\"red\">--</font>pie ale, ni<font color=\"red\">++</font> i. \n",
              "<br/>I <font color=\"red\">--</font>Ka <font color=\"red\">--</font>tent <font color=\"red\">--</font>by wiel<font color=\"red\">++</font> ka<font color=\"red\">++</font> w <font color=\"red\">--</font>kotą. \n",
              "<br/>Okę roka zło<font color=\"red\">++</font> ra<font color=\"red\">++</font> i je; so<font color=\"red\">++</font> i, \n",
              "<br/><font color=\"red\">--</font>Try<font color=\"red\">++</font> to pod<font color=\"red\">++</font> psy i po<font color=\"red\">++</font> bo<font color=\"red\">++</font> z ro<font color=\"red\">++</font> w; lecz prze<font color=\"red\">++</font> po<font color=\"red\">++</font> zda<font color=\"red\">++</font> u<font color=\"red\">++</font> zło<font color=\"red\">++</font> \n",
              "<br/>Po ma<font color=\"red\">++</font> grząd <font color=\"red\">--</font>tne<font color=\"red\">++</font> s bia<font color=\"red\">++</font> pro<font color=\"red\">++</font> s <font color=\"red\">--</font>ca \n",
              "<br/>! ma, <font color=\"red\">--</font>tem w <font color=\"red\">--</font>sz<font color=\"red\">++</font>, \n",
              "<br/>Co <font color=\"red\">--</font>bo<font color=\"red\">++</font> w dłu<font color=\"red\">++</font>, się o<font color=\"red\">++</font> Po<font color=\"red\">++</font> \n",
              "<br/><font color=\"red\">--</font>Gładzi o<font color=\"red\">++</font> strzelgi nie że wywał po ro<font color=\"red\">++</font> hrawa \n",
              "<br/>Dla Druza<font color=\"red\">++</font> w. \n",
              "<br/><font color=\"red\">--</font>Żem u<font color=\"red\">++</font> smy<font color=\"red\">++</font> zdadek o<font color=\"red\">++</font>, no<font color=\"red\">++</font> aby <font color=\"red\">--</font>ny miał <font color=\"red\">--</font>sach milków <font color=\"red\">--</font>ki \n",
              "<br/>Sta<font color=\"red\">++</font>, to z zary <font color=\"red\">--</font>fekt porach <font color=\"red\">--</font>jął miał <font color=\"red\">--</font>kę zda<font color=\"red\">++</font>, \n",
              "<br/>W pamia<font color=\"red\">++</font> w <font color=\"red\">--</font>kać na rzu<font color=\"red\">++</font> rokroć mo<font color=\"red\">++</font> w <font color=\"red\">--</font>ko w u<font color=\"red\">++</font> ot<font color=\"red\">++</font> jest <font color=\"red\">--</font>ce; \n",
              "<br/>Mia<font color=\"red\">++</font> ja<font color=\"red\">++</font> Jakcze<font color=\"red\">++</font> u<font color=\"red\">++</font> pod<font color=\"red\">++</font>, i <font color=\"red\">--</font>siaj nieła hra<font color=\"red\">++</font> to <font color=\"red\">--</font>ki \n",
              "<br/>Jak wi<font color=\"red\">++</font>, <font color=\"red\">--</font>le <font color=\"red\">--</font>gą: <font color=\"red\">--</font>warę <font color=\"red\">--</font>ra co<font color=\"red\">++</font>; pro<font color=\"red\">++</font> wonném <font color=\"red\">--</font>ta; \n",
              "<br/><font color=\"red\">--</font>Na stra<font color=\"red\">++</font> od <font color=\"red\">--</font>połać koko o<font color=\"red\">++</font> umoż<font color=\"red\">++</font> wojneni <font color=\"red\">--</font>sy pali w do wicił. \n",
              "<br/>\n",
              "<br/>Kła<font color=\"red\">++</font> i <font color=\"red\">--</font>ki <font color=\"red\">--</font>na <font color=\"red\">--</font>braczéy za jak z bo<font color=\"red\">++</font>, \n",
              "<br/>, mos<font color=\"red\">++</font> pe<font color=\"red\">++</font>« <font color=\"red\">--</font>wą W po o<font color=\"red\">++</font> na <font color=\"red\">--</font>Ski <font color=\"red\">--</font>jąc <font color=\"red\">--</font>bi<font color=\"red\">++</font> ko<font color=\"red\">++</font> ku na <font color=\"red\">--</font>watraz słu<font color=\"red\">++</font> w \n",
              "<br/><font color=\"red\">--</font>Giéj brzery <font color=\"red\">--</font>ni na <font color=\"red\">--</font>wała; <font color=\"red\">--</font>wał. \n",
              "<br/>Czar<font color=\"red\">++</font> tenów szczęko<font color=\"red\">++</font> s ta<font color=\"red\">++</font> za<font color=\"red\">++</font> ciezem \n",
              "<br/><font color=\"red\">--</font>Ra Ko<font color=\"red\">++</font> są<font color=\"red\">++</font>:: Stralusz pan Jak pra<font color=\"red\">++</font> po nadzy <font color=\"red\">--</font>Cił <font color=\"red\">--</font>wał dru<font color=\"red\">++</font>, \n",
              "<br/>Wszydzy baś<font color=\"red\">++</font> pan <font color=\"red\">--</font>Ło sę<font color=\"red\">++</font> zwa<font color=\"red\">++</font> z stał"
            ],
            "text/plain": [
              "<IPython.core.display.HTML object>"
            ]
          },
          "metadata": {
            "tags": []
          }
        },
        {
          "output_type": "stream",
          "text": [
            "\n"
          ],
          "name": "stdout"
        },
        {
          "output_type": "stream",
          "text": [
            "  7%|6         | 197/2970 [06:10<1:22:24,  1.78s/it, epoch=2/15, loss=6.04, bw=0.315]"
          ],
          "name": "stderr"
        },
        {
          "output_type": "stream",
          "text": [
            "\n",
            "[5m 54s (2 198 6%) loss=6.0395 bw=0.3027]\n"
          ],
          "name": "stdout"
        },
        {
          "output_type": "display_data",
          "data": {
            "text/html": [
              "Litwo! Ojczyzno moja! \n",
              "<br/>Wenetgród. <font color=\"red\">--</font>Pom<font color=\"red\">++</font> pałem \n",
              "<br/>Nie<font color=\"red\">++</font> odli<font color=\"red\">++</font>, <font color=\"red\">--</font>dziach <font color=\"red\">--</font>ła sęmowić, Choć pan Gerjąc i sam zwró<font color=\"red\">++</font>, \n",
              "<br/>Jakni<font color=\"red\">++</font> się i i z no<font color=\"red\">++</font> ka<font color=\"red\">++</font>, strzel<font color=\"red\">++</font> przez z wy<font color=\"red\">++</font>, \n",
              "<br/>Na lecz pole<font color=\"red\">++</font> na je<font color=\"red\">++</font> i pa<font color=\"red\">++</font> do Każdéj <font color=\"red\">--</font>bie nas <font color=\"red\">--</font>ły <font color=\"red\">--</font>szy \n",
              "<br/>Ja <font color=\"red\">--</font>ne <font color=\"red\">--</font>ne <font color=\"red\">--</font>gdzie hraka<font color=\"red\">++</font> klu<font color=\"red\">++</font> w <font color=\"red\">--</font>loczągą <font color=\"red\">--</font>wali porzyn <font color=\"red\">--</font>wy. \n",
              "<br/>Ro<font color=\"red\">++</font> cień w On A z poka lecz na gocie <font color=\"red\">--</font>kiego rozły. \n",
              "<br/>Za<font color=\"red\">++</font> któ<font color=\"red\">++</font> s O Wspo<font color=\"red\">++</font> róle<font color=\"red\">++</font> ta<font color=\"red\">++</font> w poby nas W w krzykno \n",
              "<br/>Ger<font color=\"red\">++</font> w dru<font color=\"red\">++</font> na <font color=\"red\">--</font>wie dla wilewiena <font color=\"red\">--</font>dy <font color=\"red\">--</font>kiem <font color=\"red\">--</font>mi <font color=\"red\">--</font>worał <font color=\"red\">--</font>le, \n",
              "<br/>O<font color=\"red\">++</font> na ja<font color=\"red\">++</font> ten <font color=\"red\">--</font>te <font color=\"red\">--</font>ce się Tak one<font color=\"red\">++</font> przyłał a wi<font color=\"red\">++</font> wycy; \n",
              "<br/>W ubieczko <font color=\"red\">--</font>nęwaczą ka<font color=\"red\">++</font> się i któce; \n",
              "<br/>Kacho<font color=\"red\">++</font>, za<font color=\"red\">++</font> niece ro<font color=\"red\">++</font> uki <font color=\"red\">--</font>go do<font color=\"red\">++</font> spo<font color=\"red\">++</font>, \n",
              "<br/>Pomek Podytacz<font color=\"red\">++</font>. <font color=\"red\">--</font>Ki i wszy<font color=\"red\">++</font> spotnym po, \n",
              "<br/>Z <font color=\"red\">--</font>sdziedszy <font color=\"red\">--</font>bia smak prze<font color=\"red\">++</font>,? w <font color=\"red\">--</font>ją <font color=\"red\">--</font>ko dla I wstrzycy; \n",
              "<br/>To do<font color=\"red\">++</font> przeku <font color=\"red\">--</font>sta <font color=\"red\">--</font>ja <font color=\"red\">--</font>miena<font color=\"red\">++</font> mia<font color=\"red\">++</font> za <font color=\"red\">--</font>ków \n",
              "<br/>Wiel<font color=\"red\">++</font> Myśgo wa<font color=\"red\">++</font>, do<font color=\"red\">++</font> spozego w pomu, po<font color=\"red\">++</font> zgi<font color=\"red\">++</font>, \n",
              "<br/>Hra<font color=\"red\">++</font>« I Się pod <font color=\"red\">--</font>cha wyprzód <font color=\"red\">--</font>Wa <font color=\"red\">--</font>do<font color=\"red\">++</font>. \n",
              "<br/>Podyncy <font color=\"red\">--</font>ny i drościem w tylków, pa a Swych gło<font color=\"red\">++</font>, \n",
              "<br/><font color=\"red\">--</font>Ła o<font color=\"red\">++</font> w na<font color=\"red\">++</font> ole<font color=\"red\">++</font> pan <font color=\"red\">--</font>Wi<font color=\"red\">++</font> s na<font color=\"red\">++</font> najrzyn <font color=\"red\">--</font>dtów, \n",
              "<br/><font color=\"red\">--</font>Cy <font color=\"red\">--</font>czy zachoméj, a Za<font color=\"red\">++</font> na za<font color=\"red\">++</font> gerło, \n",
              "<br/>I wie<font color=\"red\">++</font> u <font color=\"red\">--</font>to <font color=\"red\">--</font>żo<font color=\"red\">++</font> koń<font color=\"red\">++</font>; sowaniłał al<font color=\"red\">++</font> os<font color=\"red\">++</font>, \n",
              "<br/>Te<font color=\"red\">++</font> woź<font color=\"red\">++</font> jadł Jaczki woj<font color=\"red\">++</font> gwałt dojem<font color=\"red\">++</font> z <font color=\"red\">--</font>do<font color=\"red\">++</font> głomi, \n",
              "<br/><font color=\"red\">--</font>Ło<font color=\"red\">++</font> téj <font color=\"red\">--</font>doce<font color=\"red\">++</font> po<font color=\"red\">++</font> onych <font color=\"red\">--</font>by kodukli pta<font color=\"red\">++</font> czy w i i, \n",
              "<br/><font color=\"red\">--</font>Moż<font color=\"red\">++</font> Ko<font color=\"red\">++</font> kob<font color=\"red\">++</font> zafal<font color=\"red\">++</font> ma u<font color=\"red\">++</font>, Brzebiery, \n",
              "<br/><font color=\"red\">--</font>Docza<font color=\"red\">++</font> im <font color=\"red\">--</font>za<font color=\"red\">++</font> w Że byszku rozte <font color=\"red\">--</font>ne <font color=\"red\">--</font>cał służ<font color=\"red\">++</font> \n",
              "<br/>I Ta<font color=\"red\">++</font> w sam <font color=\"red\">--</font> Sę<font color=\"red\">++</font> i I dru<font color=\"red\">++</font>, polecianie. \n",
              "<br/>Pawiąc poli <font color=\"red\">--</font>go! Wielta <font color=\"red\">--</font>ny spo<font color=\"red\">++</font> roz<font color=\"red\">++</font> naby, \n",
              "<br/>Nie<font color=\"red\">++</font> się te<font color=\"red\">++</font> uda oj czy wocy; szwata<font color=\"red\">++</font> żała<font color=\"red\">++</font>, \n",
              "<br/><font color=\"red\">--</font>Wu s wiel<font color=\"red\">++</font>: Jest wbi<font color=\"red\">++</font> na<font color=\"red\">++</font> hrare<font color=\"red\">++</font> li<font color=\"red\">++</font> ojazd, \n",
              "<br/><font color=\"red\">--</font>Tany w Któ<font color=\"red\">++</font> ja<font color=\"red\">++</font> Hra<font color=\"red\">++</font> <font color=\"red\">--</font>Wy Hra<font color=\"red\">++</font> w <font color=\"red\">--</font>czkiem <font color=\"red\">--</font>we <font color=\"red\">--</font>nach <font color=\"red\">--</font>lego mil<font color=\"red\">++</font>, \n",
              "<br/>Na bez dorek <font color=\"red\">--</font>lewię O<font color=\"red\">++</font> rzekł Wszysdać rę<font color=\"red\">++</font> mamo. \n",
              "<br/>Do<font color=\"red\">++</font> jezy<font color=\"red\">++</font> dydzie księ<font color=\"red\">++</font>, <font color=\"red\">--</font>syą <font color=\"red\">--</font>cy <font color=\"red\">--</font>wa<font color=\"red\">++</font> zwierlik, \n",
              "<br/>Da<font color=\"red\">++</font> cza<font color=\"red\">++</font> jakdaszy a jak S pami, po<font color=\"red\">++</font> się na a sę<font color=\"red\">++</font>, \n",
              "<br/>Ro<font color=\"red\">++</font> ostoną <font color=\"red\">--</font>ny niech Pierdawem <font color=\"red\">--</font>t<font color=\"red\">++</font>. \n",
              "<br/>Potém <font color=\"red\">--</font>no wywę <font color=\"red\">--</font>ki po<font color=\"red\">++</font> pojąc poło <font color=\"red\">--</font>szy sam <font color=\"red\">--</font>menrze, \n",
              "<br/>Po<font color=\"red\">++</font> nu<font color=\"red\">++</font>. \n",
              "<br/>A Jak <font color=\"red\">--</font>cę <font color=\"red\">--</font>jeż<font color=\"red\">++</font> się do<font color=\"red\">++</font> u <font color=\"red\">--</font>biegł Kostość. \n",
              "<br/>Po<font color=\"red\">++</font> do<font color=\"red\">++</font> wy<font color=\"red\">++</font> ci<font color=\"red\">++</font> w ry<font color=\"red\">++</font> nich hra<font color=\"red\">++</font> sęwią<font color=\"red\">++</font> pościł i gdzie z <font color=\"red\">--</font>deusz. \n",
              "<br/>Poły zanie z, <font color=\"red\">--</font>deusz, w czę<font color=\"red\">++</font> nietago <font color=\"red\">--</font>dy ka<font color=\"red\">++</font> go hra<font color=\"red\">++</font> hra<font color=\"red\">++</font> na na rzekł, \n",
              "<br/>Wie<font color=\"red\">++</font> wylireco<font color=\"red\">++</font>, ku<font color=\"red\">++</font> po<font color=\"red\">++</font> pan \n",
              "<br/>Wie<font color=\"red\">++</font> jak z na i ocy zie<font color=\"red\">++</font> grzyjąc za<font color=\"red\">++</font> je<font color=\"red\">++</font> ścia<font color=\"red\">++</font>, \n",
              "<br/>Ta<font color=\"red\">++</font> dy<font color=\"red\">++</font> w koda wydząc <font color=\"red\">--</font>nu<font color=\"red\">++</font> w wy<font color=\"red\">++</font> ziewacę, \n",
              "<br/>Pokła ca<font color=\"red\">++</font> stoto <font color=\"red\">--</font>kona bocy <font color=\"red\">--</font>gi, \n",
              "<br/>Bo<font color=\"red\">++</font> śnieg <font color=\"red\">--</font>kika do lecz i pla<font color=\"red\">++</font> Uchosem ziar<font color=\"red\">++</font>, \n",
              "<br/>Poby nas on go<font color=\"red\">++</font> ko<font color=\"red\">++</font> dzi<font color=\"red\">++</font>, <font color=\"red\">--</font>chty <font color=\"red\">--</font>ka<font color=\"red\">++</font> w ukiesz<font color=\"red\">++</font> by<font color=\"red\">++</font>, \n",
              "<br/>Hra<font color=\"red\">++</font> Sęmu kamor<font color=\"red\">++</font>, po<font color=\"red\">++</font> dona <font color=\"red\">--</font>cił w zaców, \n",
              "<br/>Sę<font color=\"red\">++</font> na<font color=\"red\">++</font>, w pod Uś<font color=\"red\">++</font>, pod<font color=\"red\">++</font> poniéj Najra, \n",
              "<br/>Każdéj w wzdy<font color=\"red\">++</font> dy<font color=\"red\">++</font> w pananął; <font color=\"red\">--</font>dzia <font color=\"red\">--</font>katlej Aby de<font color=\"red\">++</font> gory. \n",
              "<br/>Roz<font color=\"red\">++</font> wiemi <font color=\"red\">--</font>go <font color=\"red\">--</font>raz wy<font color=\"red\">++</font> po <font color=\"red\">--</font>nali <font color=\"red\">--</font>dził u<font color=\"red\">++</font> przez <font color=\"red\">--</font>li. \n",
              "<br/>Lub, pan Tena<font color=\"red\">++</font>, w <font color=\"red\">--</font>bi<font color=\"red\">++</font> się <font color=\"red\">--</font>ne<font color=\"red\">++</font> rad, <font color=\"red\">--</font>łem uwał, \n",
              "<br/>Młodać <font color=\"red\">--</font>be<font color=\"red\">++</font> ku<font color=\"red\">++</font> za<font color=\"red\">++</font> w <font color=\"red\">--</font>dwie <font color=\"red\">--</font>że zo<font color=\"red\">++</font> tyl<font color=\"red\">++</font>, i w sopnych, \n",
              "<br/>Pa<font color=\"red\">++</font> w jak<font color=\"red\">++</font> wszys<font color=\"red\">++</font> Saki, po<font color=\"red\">++</font> stał <font color=\"red\">--</font>ni<font color=\"red\">++</font> spoje <font color=\"red\">--</font>dać <font color=\"red\">--</font>ró<font color=\"red\">++</font>. \n",
              "<br/>\n",
              "<br/>Przykroć Sop<font color=\"red\">++</font> has<font color=\"red\">++</font>, <font color=\"red\">--</font>bia <font color=\"red\">--</font>ce Żyrzył, tym o<font color=\"red\">++</font> z ra<font color=\"red\">++</font> księ<font color=\"red\">++</font> ranenie, \n",
              "<br/>Sęlę <font color=\"red\">--</font>nidać <font color=\"red\">--</font>zem <font color=\"red\">--</font>we <font color=\"red\">--</font>myś<font color=\"red\">++</font> kamu <font color=\"red\">--</font>za <font color=\"red\">--</font>brysty <font color=\"red\">--</font>rze, \n",
              "<br/>I do to <font color=\"red\">--</font>dzieszy rę<font color=\"red\">++</font> wo<font color=\"red\">++</font> dar <font color=\"red\">--</font>nia na hra<font color=\"red\">++</font> Zło<font color=\"red\">++</font>, \n",
              "<br/>Rzekł na po<font color=\"red\">++</font> znikdoli <font color=\"red\">--</font>ne <font color=\"red\">--</font>gi <font color=\"red\">--</font>wą. \n",
              "<br/>Na I W kastwa pa<font color=\"red\">++</font> się pan hra<font color=\"red\">++</font> i og<font color=\"red\">++</font>, \n",
              "<br/>Z sam Pol<font color=\"red\">++</font> u lecz Nich <font color=\"red\">--</font>dy kawet do podzo<font color=\"red\">++</font>, \n",
              "<br/>I warno i <font color=\"red\">--</font>Strzej<font color=\"red\">++</font>"
            ],
            "text/plain": [
              "<IPython.core.display.HTML object>"
            ]
          },
          "metadata": {
            "tags": []
          }
        },
        {
          "output_type": "stream",
          "text": [
            "\n"
          ],
          "name": "stdout"
        },
        {
          "output_type": "stream",
          "text": [
            " 10%|9         | 296/2970 [09:07<1:19:54,  1.79s/it, epoch=2/15, loss=5.28, bw=0.126]"
          ],
          "name": "stderr"
        },
        {
          "output_type": "stream",
          "text": [
            "\n",
            "[8m 52s (2 297 10%) loss=5.2756 bw=0.0900]\n"
          ],
          "name": "stdout"
        },
        {
          "output_type": "display_data",
          "data": {
            "text/html": [
              "Litwo! Ojczyzno moja! \n",
              "<br/>Mniéj <font color=\"red\">--</font>cząc się już i włole na nie głomieli! \n",
              "<br/>Mniéj na służ<font color=\"red\">++</font> syno wardy na lisznów odbieko, \n",
              "<br/>Niegace za<font color=\"red\">++</font> pala<font color=\"red\">++</font>, przydąc, mawieczabie \n",
              "<br/>I bitty w Pa<font color=\"red\">++</font> zgi<font color=\"red\">++</font>, ta<font color=\"red\">++</font> się o<font color=\"red\">++</font> wojgroły, \n",
              "<br/>Ta<font color=\"red\">++</font> na<font color=\"red\">++</font> nich na boza dwoły, w odskieła, \n",
              "<br/>O<font color=\"red\">++</font> zno<font color=\"red\">++</font> ku<font color=\"red\">++</font> na jewę barsy wini, piękrzyty, \n",
              "<br/>Z bodziwić poroczygo radzie, momców <font color=\"red\">--</font>ło. \n",
              "<br/>Ta<font color=\"red\">++</font> na niejezny Drzezyty oni <font color=\"red\">--</font>nych wciąż <font color=\"red\">--</font>ny. \n",
              "<br/>Ten <font color=\"red\">--</font>by zwierz <font color=\"red\">--</font>ko zachcian<font color=\"red\">++</font>, czyszli, nieko<font color=\"red\">++</font> wzbro<font color=\"red\">++</font>, jemi na wyzu, \n",
              "<br/>Gdy wiawia<font color=\"red\">++</font> zarę z lecz na nie czarnął, i rawzem w niézem, \n",
              "<br/>Berchota, na meli, kródy, że dzierstym, \n",
              "<br/>Makoki, na <font color=\"red\">--</font>łem go w wieki na zachoków, \n",
              "<br/>Psów mudwie <font color=\"red\">--</font>mienych, i lawy się; zachu <font color=\"red\">--</font>ny, \n",
              "<br/>Przestre <font color=\"red\">--</font>stwo; na że polamieby za<font color=\"red\">++</font> tynych; \n",
              "<br/>Zamyś<font color=\"red\">++</font> ma zatewnę <font color=\"red\">--</font>stwa myśl, otów. Kuła, \n",
              "<br/>Zapomokać się od mar<font color=\"red\">++</font> im, to strzelkie, \n",
              "<br/>Wyra<font color=\"red\">++</font> tamgo, drumku, al<font color=\"red\">++</font> s czteszedł <font color=\"red\">--</font>nia myśsza, \n",
              "<br/>Uczzaka zno<font color=\"red\">++</font> Remiał <font color=\"red\">--</font>kowi zabiekiem \n",
              "<br/>Lini u zwierdzia sweniany, zwy<font color=\"red\">++</font> dziatli, \n",
              "<br/>Wi<font color=\"red\">++</font> tyły ponych się, skle<font color=\"red\">++</font>, mobiegł z i, jak dziekie<font color=\"red\">++</font> skrzydzi, \n",
              "<br/>Powana <font color=\"red\">--</font>du, przydarca w stropyręż, \n",
              "<br/>I się mój oddzić źwierzeł, w ronym rozszmierę: \n",
              "<br/>Palnych, piękne, powié, wiełoniach <font color=\"red\">--</font>ciaż <font color=\"red\">--</font>chawić, \n",
              "<br/>Któty, mój <font color=\"red\">--</font>deusz przysor zastadzią się do spór, \n",
              "<br/>I pranów amoją od owe char<font color=\"red\">++</font> iść <font color=\"red\">--</font>nych się szecie, \n",
              "<br/>Alkrory i na o<font color=\"red\">++</font> po ówdzą, kto iliwał; \n",
              "<br/>Do ręle, u<font color=\"red\">++</font> rok stowić, zdana, za<font color=\"red\">++</font> strzelje spaddy. \n",
              "<br/>Raz po<font color=\"red\">++</font> strażni przeryt<font color=\"red\">++</font> i połem na do<font color=\"red\">++</font> blizni, \n",
              "<br/>Podbie zbodarsuną na remięnie <font color=\"red\">--</font>jąc ochość, \n",
              "<br/>Za<font color=\"red\">++</font> parace Rorodachyki, w <font color=\"red\">--</font>rzkim <font color=\"red\">--</font>dy, \n",
              "<br/>Nim alsy, dachu Padał to rocież zawierzyki, \n",
              "<br/>I Dłuły gorwie bałą: bez nim <font color=\"red\">--</font>ki spogrzać, \n",
              "<br/>Na biele stronął w hra<font color=\"red\">++</font> odchołłośku, do <font color=\"red\">--</font>bre się niedwie <font color=\"red\">--</font>mę, \n",
              "<br/>Ale nakształt <font color=\"red\">--</font>starstała! ją <font color=\"red\">--</font>wni, przemy bapiesiacy; \n",
              "<br/>Kształchoce, gonów bietów, od dodzewe<font color=\"red\">++</font>, \n",
              "<br/>Odłojenna, na przewiełó<font color=\"red\">++</font>, kobieka w cyła, \n",
              "<br/>Nostwo za<font color=\"red\">++</font> gniazna, od obietniamaczyć i party. \n",
              "<br/>\n",
              "<br/>Domolotana, a uców, krzykno, linia<font color=\"red\">++</font> być <font color=\"red\">--</font>li \n",
              "<br/>Wziął zaznać <font color=\"red\">--</font>ciki; piękleta! z kręrza jewy, \n",
              "<br/>Róziła słumiochnie <font color=\"red\">--</font>dzić się nam <font color=\"red\">--</font>mażywli, \n",
              "<br/>Doreli zje<font color=\"red\">++</font> w sąmi wyśmiewy Lecz młomu, \n",
              "<br/>Ta<font color=\"red\">++</font> soli <font color=\"red\">--</font>wach <font color=\"red\">--</font>ku, niega<font color=\"red\">++</font> przez Męle się osku,! \n",
              "<br/>Przybinili w w jak dołoli, odpranie rozwie<font color=\"red\">++</font> stać. \n",
              "<br/>Jechem ozawa się na ksiądz wszylił, czy to hra<font color=\"red\">++</font> w pośmieniał, \n",
              "<br/>Uroła, on z powo się pod wbiegnym remołu. \n",
              "<br/>Sako wyne, włos <font color=\"red\">--</font>tem ten koła wedma<font color=\"red\">++</font> w rojta<font color=\"red\">++</font>, \n",
              "<br/>Donia, kródy, obiegł, wiebie w podsi laty \n",
              "<br/>Że kole jachu na lity, wodzie, mój uczył <font color=\"red\">--</font>ci \n",
              "<br/>To odgom wymie<font color=\"red\">++</font> był za<font color=\"red\">++</font> wedgu, sieleszny, \n",
              "<br/>Roby z nie <font color=\"red\">--</font>nie <font color=\"red\">--</font>wsze z więc to rody, \n",
              "<br/>Od nie<font color=\"red\">++</font> pan zaczli kabienemi, tyl<font color=\"red\">++</font> tłuwy, \n",
              "<br/>Ołoli, reprali, na pechyszczyt, raz kawo <font color=\"red\">--</font>li, \n",
              "<br/>Rzekmu do jetła panku! drzwi przyczady \n",
              "<br/>Jełocie po na odwienych koły na stowi, \n",
              "<br/>Potchnęsznik nieszawtów ogo, <font color=\"red\">--</font>leła jany, \n",
              "<br/>Strzeljenka, tak jaguli, powku, w <font color=\"red\">--</font>prócz nadą, \n",
              "<br/>Noli, podruło boki, z się trwał, że u<font color=\"red\">++</font>"
            ],
            "text/plain": [
              "<IPython.core.display.HTML object>"
            ]
          },
          "metadata": {
            "tags": []
          }
        },
        {
          "output_type": "stream",
          "text": [
            "\n"
          ],
          "name": "stdout"
        },
        {
          "output_type": "stream",
          "text": [
            " 13%|#3        | 395/2970 [12:05<1:16:17,  1.78s/it, epoch=3/15, loss=5.55, bw=0.0901]"
          ],
          "name": "stderr"
        },
        {
          "output_type": "stream",
          "text": [
            "\n",
            "[11m 50s (3 396 13%) loss=5.5543 bw=0.0475]\n"
          ],
          "name": "stdout"
        },
        {
          "output_type": "display_data",
          "data": {
            "text/html": [
              "Litwo! Ojczyzno moja! \n",
              "<br/>Niebia, Dogromnéj, Żu<font color=\"red\">++</font> stacze, Róła pogo, \n",
              "<br/>Paleć <font color=\"red\">--</font>kę Tadeuści, stracho, <font color=\"red\">--</font>Pombiewa \n",
              "<br/>Ale jak gładź dwoka dumomowaka; \n",
              "<br/><font color=\"red\">--</font>Sto z albia s Reśmi, z zakoła go rędze, \n",
              "<br/>Księśli potnie, chciał nie womał, a niemobić, \n",
              "<br/>Wielkiem cumać, niwę; Hrabia w i już i ten wszęku. \n",
              "<br/>Tyldzie Koczyk, nie <font color=\"red\">--</font>re obja w <font color=\"red\">--</font>szydzy, \n",
              "<br/>Scymosarze, sztu<font color=\"red\">++</font> księki; na rakiem <font color=\"red\">--</font>dzom <font color=\"red\">--</font>ści; \n",
              "<br/>Że póno dośny Pan trzesi, Hrabia, \n",
              "<br/>Roców się na leżesząc i dotje owicz <font color=\"red\">--</font>nie; \n",
              "<br/>Bo tylwe darąli, nie jeroniensów; \n",
              "<br/>Zaszśna? odasz przebia, nie<font color=\"red\">++</font> zielmu do choni, \n",
              "<br/>Panny, moła hadał zabrugo, niebabie; \n",
              "<br/>Ale tam trono Jeczyk! Konią jéj dał znała, \n",
              "<br/>I Mosdzi zakodzmy dwóch zabia, \n",
              "<br/>Ścisku palec zabrych, za zarosgo no<font color=\"red\">++</font>, \n",
              "<br/>To hanagał; na Wojliny, zajenby \n",
              "<br/><font color=\"red\">--</font>Stro<font color=\"red\">++</font> o <font color=\"red\">--</font>bia, po opoloty w <font color=\"red\">--</font>ses<font color=\"red\">++</font> wam w dowany \n",
              "<br/>Dosprysmenik wybina się wi<font color=\"red\">++</font> harna, \n",
              "<br/>Twaszły w <font color=\"red\">--</font>Babie szlaczywi, w swych przy Wojpiomi się, \n",
              "<br/>Nierzą, byny Hra<font color=\"red\">++</font> kluna aż się że wierszła \n",
              "<br/>I Wielw<font color=\"red\">++</font> \n",
              "<br/>Po Przewagaszy Padziegieni, \n",
              "<br/>Wojjach tam a zagrocne, pomo<font color=\"red\">++</font> da wy<font color=\"red\">++</font> stron, \n",
              "<br/>Niekoba Pan Redzieć się, trzedzi, czylena, \n",
              "<br/>Hre<font color=\"red\">++</font> zechowet <font color=\"red\">--</font>cięłem porząrze do Pan Paba. \n",
              "<br/>Któszę w dobić, kapgą tylnia na tryśłem \n",
              "<br/>W Pan Soprze dopali się w <font color=\"red\">--</font>chę <font color=\"red\">--</font>gnił, \n",
              "<br/>I Hrabia Obili, znacze, Gerszcha \n",
              "<br/>Dzieli pojrzał Pan Temy i tych ladrze<font color=\"red\">++</font> po <font color=\"red\">--</font> \n",
              "<br/>I tyszaci z Praku to nieleszmociec, »\n",
              "<br/>Zaśkę Hrabia Hopuli Hrabia, czy jak popomoca. \n",
              "<br/>\n",
              "<br/>Któdeuju; w ole<font color=\"red\">++</font>! Skrzydsmu Pan Klurym, \n",
              "<br/>Która gasie, już rzuści nie<font color=\"red\">++</font> mortę. \n",
              "<br/>\n",
              "<br/>Nic z Poprale jeczgo stanem orzcza; \n",
              "<br/>Dosyć <font color=\"red\">--</font>ki za<font color=\"red\">++</font> zoby tylmać: bliswie, żarw<font color=\"red\">++</font>: \n",
              "<br/>Ale kiesa, nie czasza zapamu. \n",
              "<br/>\n",
              "<br/>Zachwarze Hrabia, Hrabia na sopwnie oga, \n",
              "<br/>Na<font color=\"red\">++</font> przedze Hrabia, nie Więc Paszcach, \n",
              "<br/>Zarzęle w krew zawonił, \n",
              "<br/>Jednéj ściśwym wytki, rarzu dumy \n",
              "<br/>Nie Hra<font color=\"red\">++</font> kwiaszatynym i miał najtrawić, \n",
              "<br/>Wirecha! jemu jeszny; Stry<font color=\"red\">++</font>. Kaje nieponoju. \n",
              "<br/>W Pan Sienienno wśród, któłem z <font color=\"red\">--</font>bia, \n",
              "<br/>Spotny się dygnieła <font color=\"red\">--</font>Cił dwoni był muca. \n",
              "<br/>Dosza Dąbje się As<font color=\"red\">++</font> tam wiści Pago Sęnie, \n",
              "<br/>I Wszakcze, karman<font color=\"red\">++</font>, za uwsze drony \n",
              "<br/>Poczyła Sęszli z Tego Reśrago. \n",
              "<br/>I Hrabia Hra<font color=\"red\">++</font> micszy rowo wisza, \n",
              "<br/>Że Pan Ta<font color=\"red\">++</font> Pan Pan Hrabia zagroży znawicze, \n",
              "<br/>Zagromotragał, z Hrabia na wśród <font color=\"red\">--</font>bie, za polec; \n",
              "<br/>Do Pan Paszli, swych penomu to gony,? \n",
              "<br/>I Pan Pan Pan Szczęszoła się na alał, \n",
              "<br/>Uchowała zawsze się, tu, brole pan Dłużwne. \n",
              "<br/>Dwóch S poszedł, wyłoczeli, koszt <font color=\"red\">--</font>mołoczekich, \n",
              "<br/>Na cuny oremojał <font color=\"red\">--</font>nia? jak głowę, \n",
              "<br/>Laty to jedzci, Ta<font color=\"red\">++</font> Podżniendzie, \n",
              "<br/>Nadlego potąd, wilizy jena, wowoda zawa. \n",
              "<br/>Wten<font color=\"red\">++</font> Pan"
            ],
            "text/plain": [
              "<IPython.core.display.HTML object>"
            ]
          },
          "metadata": {
            "tags": []
          }
        },
        {
          "output_type": "stream",
          "text": [
            "\n"
          ],
          "name": "stdout"
        },
        {
          "output_type": "stream",
          "text": [
            " 17%|#6        | 494/2970 [15:02<1:13:17,  1.78s/it, epoch=3/15, loss=5.21, bw=0.036]"
          ],
          "name": "stderr"
        },
        {
          "output_type": "stream",
          "text": [
            "\n",
            "[14m 47s (3 495 16%) loss=5.2080 bw=0.0277]\n"
          ],
          "name": "stdout"
        },
        {
          "output_type": "display_data",
          "data": {
            "text/html": [
              "Litwo! Ojczyzno moja! \n",
              "<br/>Jedać znabie gdy i sąjent do komieni, \n",
              "<br/>Z wojwą na teligo, znarze nachilewał; \n",
              "<br/>Poczęcu drowych, naniosmi cylin, albia Wojma uwiecy, \n",
              "<br/>Stolira uwiewając ukrzykzy w tydłużéj, \n",
              "<br/><font color=\"red\">--</font>Rak <font color=\"red\">--</font>wo nioskiém niedzio, jasny barstne połęwał. \n",
              "<br/>Któdziejąc popawemi się nabazieni \n",
              "<br/>To poszedł ugnienie w tym kowa<font color=\"red\">++</font> w wylace \n",
              "<br/>Ta<font color=\"red\">++</font> \n",
              "<br/>Z odzieki ledził przez podejogo ciewa, \n",
              "<br/>I za wylaku w otże się dokozał, \n",
              "<br/>W niebiewę naczyna; jewy się o lały, \n",
              "<br/>Jak <font color=\"red\">--</font>bia, skosnia, Pulił po<font color=\"red\">++</font> warmadził \n",
              "<br/>Z Rekomi się; zawoc szamaczyć ją sęczło \n",
              "<br/>Pościem usyć na kole się w bez <font color=\"red\">--</font>szercę, \n",
              "<br/>Dziko umięnik gomi zawych zawowa \n",
              "<br/>I bez nas kody, wypełca wyżwie są pochonie, \n",
              "<br/>Bo wiwiego nacieczła unicałem nagrawy, \n",
              "<br/>W teszy się pralił poskła<font color=\"red\">++</font> do szerslu okda; \n",
              "<br/>I ja blisku rachowate w lasów, \n",
              "<br/>Któnę międzo rzątniło na mogtana spradzina, \n",
              "<br/>I to przechodzinie w dzień świewa, i na <font color=\"red\">--</font>szczyzchy \n",
              "<br/>I w woczą <font color=\"red\">--</font> Pan ja narago, i tym roczawano, \n",
              "<br/>I tam któréj w omomi, któski w czedziemi zadu, \n",
              "<br/>On barstaje dodnie ostacoła się ulono; \n",
              "<br/>Jak izmotli <font color=\"red\">--</font>kie strzeły i sam udarwaty. \n",
              "<br/>\n",
              "<br/>Tadeura się pocieło chywnie <font color=\"red\">--</font>ki się w niewino. \n",
              "<br/>Opochodziecu się oczęłszy, w powiemowia \n",
              "<br/>Przepojana się uraz końdano rzekgo uleka, \n",
              "<br/>Jako ze Zorzynym udy z Wojdzy oledzi, \n",
              "<br/>Tadeudziewa udnie w rurę był wykienwym, \n",
              "<br/>Pance w za czas <font color=\"red\">--</font>owsaca <font color=\"red\">--</font>li podemorzy słuły. \n",
              "<br/>Sanice Zozem; zajazd Sędło lidzy urzkim. \n",
              "<br/>\n",
              "<br/>Za kąże Robia pochowanym wywzięmu; \n",
              "<br/>Pod tylst<font color=\"red\">++</font> Hrabia upobowa nieco z w wiedy \n",
              "<br/>Że uciąsił wibli w ręnie się zdać na nieżucały \n",
              "<br/>I tam wiśne pan Tadeudziego zomakę, \n",
              "<br/>Dodzał uwiedo i gole Tadeugo domi, \n",
              "<br/>Pozyła sulej się i ruwami padzinie \n",
              "<br/>Ja ona nie kaniennie młonaru do utoru; \n",
              "<br/>Włoniec lat olszcze <font color=\"red\">--</font>za<font color=\"red\">++</font>? ja mócem zbiesznone przepój? \n",
              "<br/>Drurewadzy w kogu; ich raz Tewo w doduło, \n",
              "<br/>Zastolozy to jego na <font color=\"red\">--</font>tret, słońże lany \n",
              "<br/>I zbady się Wojsmi saby w uwolocę \n",
              "<br/>I taski Gerni Wojdzia umobie z wszynie. \n",
              "<br/>wie<font color=\"red\">++</font> Jedy; rzuła uwieszek owogo \n",
              "<br/>Ja mórzyła się w kora uchem, lecz krwaliko \n",
              "<br/>Hrabia, Sędzia się wsi kreny, nas nazżętéj ręce. \n",
              "<br/>Zazdrośkie po<font color=\"red\">++</font> jednéj Sęzadzy nawsze <font color=\"red\">--</font>żuwka, \n",
              "<br/>Bo zaczu i udziecze się w omorem \n",
              "<br/>Byko i donogo, jelała się olosty; \n",
              "<br/>Niech złym <font color=\"red\">--</font>stko uposzedł, w jera któsza w jedał, \n",
              "<br/>Pan Zakowo i <font color=\"red\">--</font>by wibie jak pan Gerliże \n",
              "<br/>Nie \n",
              "<br/>Potém wychociągkie w boszy, utnie tych pomiżył; \n",
              "<br/>Któłożywały, któbie porowił dziwał. \n",
              "<br/><font color=\"red\">--</font> Zaczął <font color=\"red\">--</font>ski As<font color=\"red\">++</font> zdana Teliczoko się ra<font color=\"red\">++</font> mój \n",
              "<br/>Ja kawawną uważłem jawaku? w stoszłem i te \n",
              "<br/>W udząc na wywiekowie i osojomorza \n",
              "<br/>Otułwali wibie czarzni<font color=\"red\">++</font> doszszy ugoszmi. \n",
              "<br/>"
            ],
            "text/plain": [
              "<IPython.core.display.HTML object>"
            ]
          },
          "metadata": {
            "tags": []
          }
        },
        {
          "output_type": "stream",
          "text": [
            "\n"
          ],
          "name": "stdout"
        },
        {
          "output_type": "stream",
          "text": [
            " 20%|#9        | 593/2970 [18:00<1:10:27,  1.78s/it, epoch=4/15, loss=4.93, bw=0.00901]"
          ],
          "name": "stderr"
        },
        {
          "output_type": "stream",
          "text": [
            "\n",
            "[17m 44s (4 594 20%) loss=4.9304 bw=0.0218]\n"
          ],
          "name": "stdout"
        },
        {
          "output_type": "display_data",
          "data": {
            "text/html": [
              "Litwo! Ojczyzno moja! \n",
              "<br/>A napiewazów na nory Znak Jeszgo zdroszni, \n",
              "<br/>Włatoscy się i niezworocę odledzeki, \n",
              "<br/>Podzili<font color=\"red\">++</font> się żyjogo pobożony, \n",
              "<br/>Widać że z kształnie się przed dobne wstętu. \n",
              "<br/>Zosiu, na Zdawy uwiego i roradoca, \n",
              "<br/>I odchada się pod ich i do kołał uliczém, \n",
              "<br/>W Reliwę orzewie widen śmie stolany \n",
              "<br/>Powejny, psy i stałem obuleon zamku, \n",
              "<br/>Od rama sam, niecny u lity i głości, \n",
              "<br/>Wiecząt<font color=\"red\">++</font> udodoły, i wizbroj<font color=\"red\">++</font> Telimeny, \n",
              "<br/>Rozaka jakczkiego, tych <font color=\"red\">--</font>mę, od nim szep<font color=\"red\">++</font>, \n",
              "<br/>Obgle <font color=\"red\">--</font> Rokodzi; jak Wojski, i Mosszanie; \n",
              "<br/>Trzeliko jako że zawiezy, ze zgoczy; \n",
              "<br/>Gęgiéj że w warskie; i dzietemi wybuje \n",
              "<br/>Podby odgowa; kto z Chcemoka się wiszlunie, \n",
              "<br/>Kumiąc <font color=\"red\">--</font>meczyzki Linia niedosoli, \n",
              "<br/>Zagle myśby przewiąski, że niedać pasu \n",
              "<br/>Powieża, zabicznie wszystlali parlusty; \n",
              "<br/>I ciszno druwy, z sadziego na pomek Pani \n",
              "<br/>I do był jarby przy lana, jas<font color=\"red\">++</font> zachyto \n",
              "<br/>I na zawoli, kiekien We nich Pan Ten tém, \n",
              "<br/>Tadeusz go go tysiąszy w otraczecze, \n",
              "<br/>Rozgona, Ojwne, głody i stajogo? \n",
              "<br/>Wysia blisko je racali; lecz dwie do Tewa \n",
              "<br/>Niebo wiczach się i biecumecze błęki. \n",
              "<br/>Rewna pogle Teligo do Wojski ukowę. \n",
              "<br/>Z Tadeuski, pod téj jejąc wy<font color=\"red\">++</font> swyny, \n",
              "<br/>Niebo wypotko masach, Hrabia, bo pogadlanie, \n",
              "<br/>Nieraz na Wojnęnie <font color=\"red\">--</font> Psy że przezdony Hra<font color=\"red\">++</font> komaje \n",
              "<br/>Rowa w obczyli; tawo, do By byrym zastrzelinie jace, \n",
              "<br/>W <font color=\"red\">--</font>sesmanła, bronie jaby od drzekiéj pobini, \n",
              "<br/>Zdasto! tam nawet zawiąta, w tych po tyle<font color=\"red\">++</font> \n",
              "<br/>Niebieszcie, się osorząne wybiór <font color=\"red\">--</font>ki) \n",
              "<br/>Bo grośją, a z tyrzył, <font color=\"red\">--</font>rzannął nie<font color=\"red\">++</font> tur <font color=\"red\">--</font>ni, \n",
              "<br/>Po poputrazane, brzuch przytrzygo niebina, \n",
              "<br/>Co z <font color=\"red\">--</font>Wiardola, i uśmiéczeni się małe, \n",
              "<br/>Nastawacali, że pochęna dygda. \n",
              "<br/>Gracz głona Strzelligo, świenął, pamięli \n",
              "<br/>I wiec od Dokowę gę<font color=\"red\">++</font> pryśnie gawe, \n",
              "<br/>Tak to, gdy padząc biana się że niedoczu, \n",
              "<br/>Byżemi się z koło i ją wielką się wyciw, \n",
              "<br/>Oddotnych spocząne, i strzakim miany \n",
              "<br/>Popieny pakały Patolów, \n",
              "<br/>W odźwiedzy, i w Nielina, lecz ledosto, \n",
              "<br/>W <font color=\"red\">--</font>bia go, a lecz te spodok, przytąd w pogarze. \n",
              "<br/>HRABIA Dzianie wiwiła padzi. \n",
              "<br/>Przydze nieleniu druszcze osoby ułową. \n",
              "<br/>Teski, podmamość się niewad owiąsiejskie wyrzyć; \n",
              "<br/>Nie gracz maczeła się się niestale i uba, \n",
              "<br/>Omek uwiewał, kłała żynie się z wierze. \n",
              "<br/>\n",
              "<br/>Obinie <font color=\"red\">--</font> Recali spomo się w Kolu. \n",
              "<br/>\n",
              "<br/>\n",
              "<br/>Widen Wojnina jak <font color=\"red\">--</font>skiéj wcześkie skrętach, \n",
              "<br/>Tak, co maktów i polanie od odna, \n",
              "<br/>Ma Twodem powiecznie, że wszyciaż warry \n",
              "<br/>Hrabia za cirewy, owa romanrze, \n",
              "<br/>Psy niemoganie kopu, widoce wyjoję \n",
              "<br/>Błysno na nim, i ostawinie i głogi. \n",
              "<br/>Dach się tu bęwa w czarki po niegle wiatawał \n",
              "<br/>Myślimecie, ręry uchotych niekaczy, \n",
              "<br/>"
            ],
            "text/plain": [
              "<IPython.core.display.HTML object>"
            ]
          },
          "metadata": {
            "tags": []
          }
        },
        {
          "output_type": "stream",
          "text": [
            "\n"
          ],
          "name": "stdout"
        },
        {
          "output_type": "stream",
          "text": [
            " 23%|##3       | 692/2970 [20:57<1:07:06,  1.77s/it, epoch=4/15, loss=4.43, bw=0.027]"
          ],
          "name": "stderr"
        },
        {
          "output_type": "stream",
          "text": [
            "\n",
            "[20m 41s (4 693 23%) loss=4.4277 bw=0.0208]\n"
          ],
          "name": "stdout"
        },
        {
          "output_type": "display_data",
          "data": {
            "text/html": [
              "Litwo! Ojczyzno moja! \n",
              "<br/>Przy ta<font color=\"red\">++</font>, Tagod <font color=\"red\">--</font>pak przy bok Dołochawy, \n",
              "<br/>Jedziemeli Panny i Lekstko daszno i dwołarze, \n",
              "<br/>Przystawami, a umowę zrowoczy \n",
              "<br/>Dolał, na nich <font color=\"red\">--</font>kiel dwieni, o tem dotodu \n",
              "<br/>Na tém trwatów, z zadewał ojadwę i podmomie \n",
              "<br/>Obok <font color=\"red\">--</font>tam Telimenie i powsze udemować \n",
              "<br/>Powiali skrzydła <font color=\"red\">--</font>kę, zdawają na <font color=\"red\">--</font>badowy; \n",
              "<br/>On zaśród ośmiemi szedł lemiago wiłojaka. \n",
              "<br/>\n",
              "<br/>I Pan Tadeusza i Wojnie z strokę Sęligo wądu \n",
              "<br/>Staca dla Rozbuzy Kosza, prodziania <font color=\"red\">--</font> bynął Poliwał, \n",
              "<br/>Spogich, Mawazy póła niedzy go pokochał, \n",
              "<br/>Ostrzegli wówskie, jak dłuby wymku Auterjewy; \n",
              "<br/>Jewy zatenkie kształdy sztusła Panów z Koszszy ubach, \n",
              "<br/>Okowana, ale po niéj rozstaramoju \n",
              "<br/>Ogromny możjąc, już prosiał zapoczy chobaca. \n",
              "<br/>Pan wróści i syt stronym stodnął, w środrzyli, \n",
              "<br/>Ze namnikogo, łomiwu co<font color=\"red\">++</font> micców i sklery, \n",
              "<br/>Ucóż się przywoda, ale zarzęszyzna \n",
              "<br/>Dwóch znokie, wsłaty i Ce<font color=\"red\">++</font> strwoliwić, \n",
              "<br/>Właców pierciaż tadzy Podkogo Ja jeszgo <font color=\"red\">--</font> Domu gowoma \n",
              "<br/>Klunie dago, to dawków z ręka lary \n",
              "<br/>Zamyną i wobnie wzglęrama do Pachem \n",
              "<br/>I w odeszmi szaciąszy rurę wyborny, \n",
              "<br/>W tém w wielku, i krwawa, młoliszek komwani \n",
              "<br/>A na tłuszmy, bo pobrła nieborchy, \n",
              "<br/>Wszyko zrołazał, syt <font color=\"red\">--</font>sesszłéj go nieprzykryka \n",
              "<br/>Jankiemi, przy łąk zwierz, widząc gedzgo ich odokoły, \n",
              "<br/>Hrabia biedzianie; bo przy prze <font color=\"red\">--</font>czas schychu po dwole<font color=\"red\">++</font>. \n",
              "<br/>S Klumałem to wszyska Sęlirzyniły miewy, \n",
              "<br/>Aby rogacie, potém był Tadeusz pogady, \n",
              "<br/>Słońrzyczka Tadeusza, ale u zbościku ładzie. \n",
              "<br/>Z w unut <font color=\"red\">--</font>cze, czedy dwieła kubadnowicz. \n",
              "<br/>Podkodym Gerwazy Soplimenym Koliwiadłość, \n",
              "<br/>I lustko posorze godzić, \n",
              "<br/>Po półducy zroruwaków szynność nieświadwe; \n",
              "<br/>Ukosztojoszgany, zaważloszy i zbodało; \n",
              "<br/>Daliby w uwowę na w lułach się kłomy dąbry. \n",
              "<br/>\n",
              "<br/>I nie Resowa dziekanym poramoru. \n",
              "<br/>Na nieblisskie Gerwazy; Pan Hrabia na ogoku; \n",
              "<br/>Dowalin na dale, syt w owad, miwania zazonu. \n",
              "<br/>Sęby Stol<font color=\"red\">++</font>. Nierego Hrabia Pabił w uradzie \n",
              "<br/>Mleł Hosor na <font color=\"red\">--</font>szczucy domy pałali był, \n",
              "<br/>Mosczał niedźwiegna, jaskę z głoka Podwet, \n",
              "<br/>W drurzan zawała Mosmona; zurwał dwiełym \n",
              "<br/>Że: Pan tak tam jak kudzy oko Zanokoił, \n",
              "<br/>Zakogo suszli, odani; jako rzekł dzielki \n",
              "<br/>, rzecz zachta z dostanie, i wnę<font color=\"red\">++</font> z Hra<font color=\"red\">++</font> taku, \n",
              "<br/>Na oczy śpiesztacza, gdy rzułe i s ruta, \n",
              "<br/>I naj<font color=\"red\">++</font> kłotją niesponowy; po okolinał, \n",
              "<br/>Przy te Ową Soplili Pan W stroligo mu maca \n",
              "<br/>W Janki zarzegła buła, pochcie gocy \n",
              "<br/>Oczycie. Aż jak poraźła <font color=\"red\">--</font>Biegł raści! \n",
              "<br/>Uważcy wyczuł Hrabia, jewnie z zamku; \n",
              "<br/>Złoniła woni piertem i uwował Rokoniły; \n",
              "<br/>Myśdzo <font color=\"red\">--</font>szy Korzy Stolnął Pan Tadeusz w hokogo już \n",
              "<br/>"
            ],
            "text/plain": [
              "<IPython.core.display.HTML object>"
            ]
          },
          "metadata": {
            "tags": []
          }
        },
        {
          "output_type": "stream",
          "text": [
            "\n"
          ],
          "name": "stdout"
        },
        {
          "output_type": "stream",
          "text": [
            " 27%|##6       | 791/2970 [23:54<1:04:49,  1.79s/it, epoch=5/15, loss=4.21, bw=0.018]"
          ],
          "name": "stderr"
        },
        {
          "output_type": "stream",
          "text": [
            "\n",
            "[23m 38s (5 792 26%) loss=4.2148 bw=0.0138]\n"
          ],
          "name": "stdout"
        },
        {
          "output_type": "display_data",
          "data": {
            "text/html": [
              "Litwo! Ojczyzno moja! \n",
              "<br/>Nawet Pan Sędzia i Hrabię postać, pobarącz i Komeyka \n",
              "<br/>Potém gwar s nieprzy<font color=\"red\">++</font> się, dawiejąc wychwawać, \n",
              "<br/>I żyże <font color=\"red\">--</font>dka <font color=\"red\">--</font>siadki jak zakrałą pańkie. \n",
              "<br/>\n",
              "<br/>Hrabia, już prajądyn; ma oczha nietchnioki, \n",
              "<br/>I w pawie zarodzką z somianym ruży, \n",
              "<br/>Już też na drzeczka, do rarzgo i rarze, \n",
              "<br/>Koła mu wąja, gdy dolukręby ku ich paju. \n",
              "<br/>\n",
              "<br/>Dąblimena pokrydniał; nieuli z oblej \n",
              "<br/>Ojsty uwieść bura, świeło jak się popranie. \n",
              "<br/>I nie niechaj niekształt droże jak rzulić otsonów \n",
              "<br/>I saciecza usząne i rudzchu, \n",
              "<br/>I nieraz dziejutrz <font color=\"red\">--</font>jąc dostać od bosie, \n",
              "<br/>, sapiéj w kardżąc, Hrabia i Domeyko podróżków, \n",
              "<br/>Gdy z niedźwiedzią o Litzem w zawzięknął w włojował; \n",
              "<br/>Zaraz Teliczne rotyła i doraniu, \n",
              "<br/>I móła mu w ojcu, dokiem kwia<font color=\"red\">++</font> bardzo i tém, \n",
              "<br/>A mowa w edziego praczce Stolnego spowachu, \n",
              "<br/>Tak s kogo zesorzacoli choczem wyprali, \n",
              "<br/>Powiedwie mają, chłociaż polonewać nabiedzić, \n",
              "<br/>Spraw stago nagle przewstać się w kunboczu \n",
              "<br/>Krup jak zapomdewiną się do niepierę, \n",
              "<br/>Popał marzyła, że się zawowek wodzi \n",
              "<br/>Kocze podasz i rądu potych<font color=\"red\">++</font> nie ałali. \n",
              "<br/>\n",
              "<br/>Namku Paści, Widząc i Hrabia nakształt dodochoga \n",
              "<br/>Któła krokie i ochoczeną do domowy, \n",
              "<br/>Pokoliczsze się, a Tadeusza posoniana \n",
              "<br/>Któczła wysmukki się, dowieżyją wyzdostry. \n",
              "<br/>\n",
              "<br/>Dobła Rejent, Tadeusza w Horeszca dopacinie. \n",
              "<br/>\n",
              "<br/>Hrabia i niewet dowiedziéć w telili <font color=\"red\">--</font> Podkomorzy <font color=\"red\">--</font> Rzut <font color=\"red\">--</font>sesgała \n",
              "<br/>Niemodwie z Pawą, już i Kobwina, \n",
              "<br/>I porodził, pomilpowiebny Hrabieli \n",
              "<br/>I jeśli dobny wolka, któżoją kracie, \n",
              "<br/>Pomody wyroli, a Sęnarszy po<font color=\"red\">++</font> ja pogląniu \n",
              "<br/>Niegoło i Pawała, s środka i nie kołwy. \n",
              "<br/>Ssiąść pełnie Wielki Hrabia, biazem i rabie \n",
              "<br/>Na któwa, jak w rarę znana, gdy się obrają, \n",
              "<br/>Którą w ich grobie jak pobszanego łossów, \n",
              "<br/>Na nią! I Hrabia nieściugo czaszano się, \n",
              "<br/>Tak pola się, u pochojenło, i Roboli \n",
              "<br/>Niewet już zamku, bo w umeyno w Litzy. \n",
              "<br/>Nieuszy w o<font color=\"red\">++</font> trwoki, lecz zawsze niegim kamek. \n",
              "<br/>Pakając wirzęwach, lecz w wiel<font color=\"red\">++</font> sprzęną i to wielki. \n",
              "<br/>Ja się szudny, i oni znowu: ja błyscy, \n",
              "<br/>I z niedzież sewą, a lecz w zadrzena, \n",
              "<br/>I cyczaj sam w kagu jakściem w nim źmidza, \n",
              "<br/>Czanie mu jest po kowych kowiwał do Domory, \n",
              "<br/>Lub przytężce: to jego Tadeusz jeśli \n",
              "<br/>Który było w doliniu, w pomu potrawić i socho, s poprowała \n",
              "<br/>Padząc, ale borową, i w wielku je żapował; \n",
              "<br/>I ja wywałniejwisnym nieprawał Kożył ptaka: \n",
              "<br/>Zmienie się krenałe czasierzyniu drery; \n",
              "<br/>A obraz baniebną w charru nienuwanie. \n",
              "<br/>A dwa ową uszczęstnik <font color=\"red\">--</font>kie, odróżnego Hrabiego do Mosdką \n",
              "<br/>I Sędziego to Robak, karchy mą bardzo Telimeny \n",
              "<br/>Poszedł <font color=\"red\">--</font>ku kłasta, w dogo powieść, ogoki \n",
              "<br/>Nieasor"
            ],
            "text/plain": [
              "<IPython.core.display.HTML object>"
            ]
          },
          "metadata": {
            "tags": []
          }
        },
        {
          "output_type": "stream",
          "text": [
            "\n"
          ],
          "name": "stdout"
        },
        {
          "output_type": "stream",
          "text": [
            " 30%|##9       | 890/2970 [26:51<1:01:31,  1.77s/it, epoch=5/15, loss=4.55, bw=0.018]"
          ],
          "name": "stderr"
        },
        {
          "output_type": "stream",
          "text": [
            "\n",
            "[26m 35s (5 891 30%) loss=4.5511 bw=0.0138]\n"
          ],
          "name": "stdout"
        },
        {
          "output_type": "display_data",
          "data": {
            "text/html": [
              "Litwo! Ojczyzno moja! \n",
              "<br/>Napraszcie Kluliców, niedźwiedź i eby znano. \n",
              "<br/>\n",
              "<br/>Biało podraz przeczuł. Niepoczął Horeszrzy; \n",
              "<br/>I kacieją woją nieraz! Mowy Pokogo. \n",
              "<br/>W Tadeusz ów wywrót \n",
              "<br/>A nie nagle Pan Panów rarocze, \n",
              "<br/>I kabie potuwaną wytrzedzież Wojski \n",
              "<br/>Naraz kurno i sełęzawia obrany, \n",
              "<br/>Na uremi! nieciwnéj niewiwy, aż szuła \n",
              "<br/>Zowne w wyjąw<font color=\"red\">++</font> ziemi, człek, bo nie chciał módów, \n",
              "<br/>Panna, upodała piekiem obliżona, \n",
              "<br/>Ani był tam nie dwokiem na kochu, \n",
              "<br/>To dziodzie szmenułem, to to szuło \n",
              "<br/>Uwidości, a ów klaskiem zaczyna; \n",
              "<br/>Nastyża się, jak po nim, pas ziemi, podali \n",
              "<br/>Obraty, czaczy i mowa, jak złość Wojski, \n",
              "<br/>Daléj i słarym <font color=\"red\">--</font>kiem lidą nabajemu, \n",
              "<br/>Jako umojesz, pod ich rutania, \n",
              "<br/>Które co <font color=\"red\">--</font>ten nierawą trawić, na dziry, \n",
              "<br/>I na któréj kalenił, korce, parsprału się głęwą \n",
              "<br/>Prawy, to są odbliwani! jest mam kroka, \n",
              "<br/>Był kłótły w ułaty. Posojąc na many \n",
              "<br/>Nikt na lujenna, lecz za Mosczon lata, \n",
              "<br/>Spiniją, albo o <font color=\"red\">--</font>gryzł <font color=\"red\">--</font>ku szywił; \n",
              "<br/>Popuszczonie nabo umają się laty; \n",
              "<br/>Pas za jego wieczeniu nieco, nie znały, \n",
              "<br/>Pomyśła tugłośnie, to nieraz z odle; \n",
              "<br/>I umiędzy kształdolony; bo namordzy. \n",
              "<br/>Tak wszysłe ze <font color=\"red\">--</font>mniecząc, lub zwiety w szaspału, \n",
              "<br/>Doże Dziś Sęski; i lesnął, utuł Likami; \n",
              "<br/>Obkoszcie _Spojtan mu ich zaznała wywieno. \n",
              "<br/>\n",
              "<br/>Nilimena, na co mu w ścianie, \n",
              "<br/>W komi, lecz się w niedźwieczaj, na wiewo z dwoni, \n",
              "<br/>Tak, a z na dwociu Tadeusza woła \n",
              "<br/>I jak choło się Marmalką w nich Tadeusz. \n",
              "<br/>Nabiewiw<font color=\"red\">++</font> dęsza w borze, jak niewibiory, \n",
              "<br/>Jako wydodają się wymoga dotoja, \n",
              "<br/>U szlachcic w rzekiem w sobie, podelanie skity, \n",
              "<br/>A koła bajka, zaprawa, wyszedł czasu. \n",
              "<br/>Tadeusz i nad wnę<font color=\"red\">++</font>. Reszdu, to nie z pochem, \n",
              "<br/>I czyły to się Sędzia z Zamotawał się, \n",
              "<br/>I połaszszy w mogu oczydane skroczę. \n",
              "<br/>\n",
              "<br/>Bo gaści w nim, zakryła do komi nietąd, \n",
              "<br/>Z ostawazy, w pałane, lub strzelno się su<font color=\"red\">++</font> księcę, \n",
              "<br/>A po wiety i ukał, i po zaleon, gdyż <font color=\"red\">--</font>ni, \n",
              "<br/>Udowawał, co w siebie i za orowa, \n",
              "<br/>Z Zodeusz s Wojskiego rosmawą młoczka, \n",
              "<br/>Tak <font color=\"red\">--</font>cą, do niéj nakało wyganki zadopuwał. \n",
              "<br/>\n",
              "<br/>Jakoż niedźwiedź Liburko zabaszały. \n",
              "<br/>Choć niebosiona, tu bynie ku zabiechu \n",
              "<br/>Nago porowami, ciąglołem, prarą <font color=\"red\">--</font>cy: \n",
              "<br/>Bo ludzie i trabie, udarszał módzie, \n",
              "<br/>Niestewają, ale z larę piezane \n",
              "<br/>Za tém się się nieczuł, w krzednie, od Moskania pogają, \n",
              "<br/>Na tymi s niejęte, i ze siesztosu, takiem; \n",
              "<br/>Gdy na wspobiał śród jebie, bo to siewo tyjawis<font color=\"red\">++</font> \n",
              "<br/>Gdy Obkomowi, a to Wojskiego Robak, \n",
              "<br/>A Gerwaku iż <font color=\"red\">--</font>by obożona, że kował \n",
              "<br/>Gdy jako Podkomował: Ewet dalista, \n",
              "<br/>I poznali ukojli wachu się ogota. \n",
              "<br/>\n",
              "<br/>Nabo jest droboką, to"
            ],
            "text/plain": [
              "<IPython.core.display.HTML object>"
            ]
          },
          "metadata": {
            "tags": []
          }
        },
        {
          "output_type": "stream",
          "text": [
            "\n"
          ],
          "name": "stdout"
        },
        {
          "output_type": "stream",
          "text": [
            " 33%|###3      | 989/2970 [29:48<59:00,  1.79s/it, epoch=6/15, loss=5.26, bw=0.045]"
          ],
          "name": "stderr"
        },
        {
          "output_type": "stream",
          "text": [
            "\n",
            "[29m 33s (6 990 33%) loss=5.2594 bw=0.0227]\n"
          ],
          "name": "stdout"
        },
        {
          "output_type": "display_data",
          "data": {
            "text/html": [
              "Litwo! Ojczyzno moja! \n",
              "<br/>Jako jawu po domowne, przystały od rosście, \n",
              "<br/>Szczyli się szczwatorzy, że przestarz danut słaków, \n",
              "<br/>Hrabia przymek już przyszedł, udazał się nogi \n",
              "<br/>Z Woźnie jak najsunną, że zaczął biedzi \n",
              "<br/>Trzegali szasztu<font color=\"red\">++</font>, owielor, że ogroga niebył, \n",
              "<br/>Opolskiéj kraj różku, ale ryl<font color=\"red\">++</font> po szkoście \n",
              "<br/>Sto <font color=\"red\">--</font>negmyśl się szule, i to do kłów <font color=\"red\">--</font>pie po obpaniu, \n",
              "<br/>Stał ścidzisz silków cowiek, jak gdyby w dami, \n",
              "<br/>Gdy chwysem z każzem się to przecież jak cuścimi. \n",
              "<br/>\n",
              "<br/>\n",
              "<br/>\n",
              "<br/><font color=\"red\">--</font>Chcic w liczdnika w poprapi, przez każzy Podkomorzy. \n",
              "<br/>Chciał ksiądz, oszedł rozstądnika jak na wieczetem \n",
              "<br/>Nauczaści przesyj iszek w koności do nas, \n",
              "<br/>Co przez każwania w podrótych stotawych niedoczu, \n",
              "<br/>Wynażoła w Franfikie i minego Germocie, \n",
              "<br/>Idzi<font color=\"red\">++</font> lek<font color=\"red\">++</font> się porwanie w oczyniu się, \n",
              "<br/>Jeszcze Robak, krzyknął od Kukie! <font color=\"red\">--</font> Uwazy z kamienia \n",
              "<br/>Nigdy jest Gerrelas Boga niewibał Nierody \n",
              "<br/>Jak bęchloby o Wojski mgły <font color=\"red\">--</font>ki na dzieleśku, \n",
              "<br/>Potém nad polu, aby codźwiedź nieba <font color=\"red\">--</font>deusz, \n",
              "<br/>Szkody to arbom, po tugu obrzęjętną czoło, \n",
              "<br/>Wrółując ostatny, wybudał się słyną bodzwa, \n",
              "<br/>I owa most zwierz; to znare w dół wylegkie krasta. \n",
              "<br/>Ten s obgo że krzykna, zniszmoda z głową maków, \n",
              "<br/>Człomógł wiłe, że jest z płorach i jadzie <font color=\"red\">--</font>giéj pańka; \n",
              "<br/>I krzykno jak w ponobuka_, koli ulida, \n",
              "<br/>Słytewszy się ojłe, i zaś obowny do Sopski, \n",
              "<br/>Niezżętéj kraj<font color=\"red\">++</font>, albo im znowu, umarzami nieba \n",
              "<br/>Jak po trzas<font color=\"red\">++</font> masz kaletylów się, dwa wspólno \n",
              "<br/>Janeńjąc wciąż gra poskości syści się na płory. \n",
              "<br/>\n",
              "<br/>Sęląc każwie o godzych sięsza dzita \n",
              "<br/>Z drugu mnich nię mieć przeplaty z bieszazy: \n",
              "<br/>Cechalski się i ogon, preściem, gdzie przez niebios dłona \n",
              "<br/>Do Sękobyś znikła, konując wyrzeksy \n",
              "<br/>Owad mu zamyśmoką twonała nad ruży \n",
              "<br/>Bo! \n",
              "<br/>Jak nazwisnioła, i moim drusprasaną, \n",
              "<br/>Spólnie ich saśli kochlowami chmiemiołem, \n",
              "<br/>Czas na rarenki_; aż wrówo zaśpiednął, że zrzadką \n",
              "<br/>Okrzyga z Rechał Horemocja <font color=\"red\">--</font> oddochał, \n",
              "<br/>Gdy głoda jak taki, i prożeby zoczynku \n",
              "<br/>Czy dwóch <font color=\"red\">--</font>szo <font color=\"red\">--</font>ca, w nich, bez cudnemi całe z ustaw, \n",
              "<br/>Zaczął zawsze ku podkocieknym obbiejem; \n",
              "<br/>W dre<font color=\"red\">++</font> ligich, gdy wilk nic rada, że się w chartych; \n",
              "<br/>Tu przecież na siku kwianą te robewiał, \n",
              "<br/>Popłyszy zda na wowie dla Horeszków; \n",
              "<br/>I ją tańka Strapgorzy i taksmi stoda, \n",
              "<br/>Który jadzo w niéj słuesnych krawiał oczyleno, \n",
              "<br/>Już szarspiąwka i opiewny jak owszekasz trwobotrzach \n",
              "<br/>Ugoją się, kilia po dłudziemu <font color=\"red\">--</font>ku po hale; \n",
              "<br/>Ciasném smyłorzycznie mocznego Górach: \n",
              "<br/>Siedy szczysiła, a ja zasze w gódzie, \n",
              "<br/>W solerych bez <font color=\"red\">--</font>kiéj, które zaczęło proparzymi \n",
              "<br/>Wskok, wilk ciostski, bez nas, i szywą po zasoga \n",
              "<br/>Jako o oko, wyszedł, rady zwicły muwa, \n",
              "<br/>Isiał z rału psy wei<font color=\"red\">++</font>: widziją zawszeta, \n",
              "<br/>\n",
              "<br/>Dzwon mszy jak łacdzie co basy, a z wiośsku kazuru; \n",
              "<br/>Taba<font color=\"red\">++</font>; zaczęło się farb <font color=\"red\">--</font>py, jak odany, zjad<font color=\"red\">++</font> \n",
              "<br/>Miana udetchnąwnował,"
            ],
            "text/plain": [
              "<IPython.core.display.HTML object>"
            ]
          },
          "metadata": {
            "tags": []
          }
        },
        {
          "output_type": "stream",
          "text": [
            "\n"
          ],
          "name": "stdout"
        },
        {
          "output_type": "stream",
          "text": [
            " 37%|###6      | 1088/2970 [32:45<55:54,  1.78s/it, epoch=6/15, loss=3.84, bw=0.027]  "
          ],
          "name": "stderr"
        },
        {
          "output_type": "stream",
          "text": [
            "\n",
            "[32m 30s (6 1089 36%) loss=3.8382 bw=0.0138]\n"
          ],
          "name": "stdout"
        },
        {
          "output_type": "display_data",
          "data": {
            "text/html": [
              "Litwo! Ojczyzno moja! \n",
              "<br/>Zakońca i muwy, będzie zaczął z bok na mużawać. \n",
              "<br/>Tyden Tadeusza. Padział w kowo! Pan Wielki Protazy \n",
              "<br/>Że Wojski nieutań; tak z <font color=\"red\">--</font>ski pochomonie \n",
              "<br/>Z domorzy i dotąd krewny słup <font color=\"red\">--</font>czy; \n",
              "<br/>Aż uwieść na wyrzęgim, aż tam nieśmiewować, \n",
              "<br/>Po ręku jeśli a niesor Wojski dogomy; \n",
              "<br/>Tesca do kobą o ludu mój Hrabia kucha \n",
              "<br/>Jako domu w lasu każcznych na wiecuchu, \n",
              "<br/>Słogdy w ogroskim domu Telimenę się. \n",
              "<br/>\n",
              "<br/>Tém akwu w jalei: Sędzia nie był za wiesie Tugubie czemał; \n",
              "<br/>Ani się e<font color=\"red\">++</font> złorem w nim i z Błysnije żarcimi, \n",
              "<br/>Powiesała się! prakroją się posępne, \n",
              "<br/>Bo nie gdym dziewwyka też długo zatlę obadek, \n",
              "<br/>I w których na taśrzkim bitgi Telimeny! \n",
              "<br/>Pochodadnie tewniczy, dowiesz z książkiem \n",
              "<br/>Zabiwił się z nią nie do zamku i przyczęki. \n",
              "<br/>\n",
              "<br/>Hogo, i nie coszli Podkomorzy dobli \n",
              "<br/>Ołulumę <font color=\"red\">--</font>ność, widem! gdy puszkom ołku \n",
              "<br/>Tradzą się rozbiéloste, lecz i domu z memu; \n",
              "<br/>I zając obkawała, ze gdy ruch był ranem. \n",
              "<br/>\n",
              "<br/>Pan Tadeusz na krzesnach do Assesbodza \n",
              "<br/>Na nim powiemaścia dosyć niebios ludzie; \n",
              "<br/>Wyśpi i nakształt uloes <font color=\"red\">--</font>no do rury, \n",
              "<br/>Ale dzioszy bardzo drzeda się s kolei s głoczewa. \n",
              "<br/>Chada znuniej im wygnionych dakroć! co się gotko, \n",
              "<br/>I już gil Telimena i do pozor<font color=\"red\">++</font> Soplica, \n",
              "<br/>I rzekł Sopliców i Tadeusza się ucha \n",
              "<br/>I że jest przez strzebem zabiszał się żyje; \n",
              "<br/>Czy tam słołem: co o Bochalskim zabiera \n",
              "<br/>W koniach, przerwał: mająca, już że nie zajęne \n",
              "<br/>Odemknął pojrzał w powroce do zaczy, \n",
              "<br/>Ojczyda ostatny mósa: Sche<font color=\"red\">++</font> Hrabia Pan Rodzia; \n",
              "<br/>Ale już chwało pańwu pogłos Wielki Soplinom ogłasi, \n",
              "<br/>Nielawa szczwatko, zapyda Zosi i Moskali, \n",
              "<br/>Pabie strzelła dłudna na konoczy \n",
              "<br/>To tam razem, witąd Telimeny Rad wonie. \n",
              "<br/>w Mótewnik gaje Tadeusza im do pewnie. \n",
              "<br/>\n",
              "<br/>I s pomu dolebne pociete nie w uparu; \n",
              "<br/>Jak ozwał do lekku dojeje, co my przypawy \n",
              "<br/>I na skocu strzedea<font color=\"red\">++</font> nieco z Horajem \n",
              "<br/>W któreż, będzie w koniu, ale lecz za<font color=\"red\">++</font> trzykład. \n",
              "<br/>\n",
              "<br/>Miał z drody obpyta się do Dokomach <font color=\"red\">--</font>ki, \n",
              "<br/>Ale przychop w głos puszczę poczciża pyci, \n",
              "<br/>Mu na smęcami gruzuszczy, ani szunie, \n",
              "<br/>Lub wyjastrzeno rarocą, krewny poszedł <font color=\"red\">--</font>ne, \n",
              "<br/>Pogłos od ducie, a przed ciergród naledzi; \n",
              "<br/>Chcije oczy nienadyda na nępie i po okosza, \n",
              "<br/>I przecież cyrogim z nas; powodzijąc \n",
              "<br/>Robić równie wyrzekł dobno człoba, chugi; \n",
              "<br/>Że z piękna jak widy jak przed boności Pamtazy, \n",
              "<br/>Lub wiedy że jest bileń<font color=\"red\">++</font>, w domu Tadeusz jak nieszsza: \n",
              "<br/>I do Zobotu Pan Hrabia <font color=\"red\">--</font>skim głową \n",
              "<br/>Pobić do nas twata, on. \n",
              "<br/>\n",
              "<br/><font color=\"red\">--</font> Ale Sędzia pokwiwne pojeszcie się, \n",
              "<br/>I on w Mosziemi, uwołał ptawu obcéj zesierze: \n",
              "<br/>W brału świat Telimeną o chłopce zawiądu, \n",
              "<br/>Na lirze upietewskim zamku nie zawiera"
            ],
            "text/plain": [
              "<IPython.core.display.HTML object>"
            ]
          },
          "metadata": {
            "tags": []
          }
        },
        {
          "output_type": "stream",
          "text": [
            "\n"
          ],
          "name": "stdout"
        },
        {
          "output_type": "stream",
          "text": [
            " 40%|###9      | 1187/2970 [35:42<52:50,  1.78s/it, epoch=7/15, loss=4.51, bw=0.018]  "
          ],
          "name": "stderr"
        },
        {
          "output_type": "stream",
          "text": [
            "\n",
            "[35m 26s (7 1188 40%) loss=4.5066 bw=0.0059]\n"
          ],
          "name": "stdout"
        },
        {
          "output_type": "display_data",
          "data": {
            "text/html": [
              "Litwo! Ojczyzno moja! \n",
              "<br/>Wielki wzrok może u Hrabia gaczeków zarodu, \n",
              "<br/>Nie nową szladate i wisząki przesomana, \n",
              "<br/>W nim na słońc luszcu onotała, trzeba napełsine, \n",
              "<br/>Zamek była biedzine, jak gdyby lirokową \n",
              "<br/>I niedźwiegły czuł chwamy, w widziłszy między stroty, \n",
              "<br/>Zawsze żajawka słowiła; a potém o somi \n",
              "<br/>Na cacu s ruju, a już odmaszy na biechu, \n",
              "<br/>Nieonostała, tu po pudności paciali: \n",
              "<br/>Przestrzewę na dzieści wszedł się i księmem nie na ruda. \n",
              "<br/>\n",
              "<br/>Ojstka, na wrót komczaj, wysywali ku <font color=\"red\">--</font>Kłana, \n",
              "<br/>Obok Strapkalowi, przez nim na podomochu; \n",
              "<br/>Tadeusz już a krzyknął nieostrożku i stroli, \n",
              "<br/>I dwa czas wiedomowę stały dotąd powiama, \n",
              "<br/>Na urząłać, gdzie go nieostrożne dzienek \n",
              "<br/>A już już przemień <font color=\"red\">--</font>łszy się sam Sanguszkówski, \n",
              "<br/>To porząte okosze ulowanych wszyku, \n",
              "<br/>A sławo żółsy się przywrócoli stronie: \n",
              "<br/>Hrabia prócz mało, też u on może się ra<font color=\"red\">++</font> psy, \n",
              "<br/>I drełszy na nim od jednéj nowy i uparzy, \n",
              "<br/>A mniéj stacznie słorą, co była kuzusolał; \n",
              "<br/>Wskok, nierociawszy wylowała z rozchem ogony; \n",
              "<br/>I więc otjalił z liwo harak w zamku zionie, \n",
              "<br/>I jakby że rozmodziała w kosięnemi. \n",
              "<br/>Zapęcie było jest na wzgókach, widzą z udało \n",
              "<br/>Nawet obżdzi strzelściąg<font color=\"red\">++</font>, a takszków daścili; \n",
              "<br/>Jakby kilki o drowy, prawno pośpietu, \n",
              "<br/>I ogroszać, tu głowa rurowy ucha; \n",
              "<br/>Krzyjawki wymkną <font color=\"red\">--</font>wniéj w owad trzeba się mieroję, \n",
              "<br/>Popolili, samodzełem, w znowu zgrycha odany, \n",
              "<br/>A na Hrabia z nim konkocie Podkokojszy, \n",
              "<br/>Co z nim i to gości s ruczecę polewaty, \n",
              "<br/>Kręciła się, lecz niejeszkiem zebyła pogoju, \n",
              "<br/>Syca pokrysem i na dygniach kamanych; \n",
              "<br/>Gerwazy, to ożynujący budanie \n",
              "<br/>Aż się w ociruncy s podasami o raniu, \n",
              "<br/>I krzykno dolołu. Ale trudli miłem, \n",
              "<br/>Na przyprodzenie parroki, i dwa łacie \n",
              "<br/>Pradzą że nie czekrotna na wiesu w tłumi. \n",
              "<br/>\n",
              "<br/>Trudnął Sanguszszy go jeszcze rorotę sirę, \n",
              "<br/>A ogrodniczki dziedzic całe półkami \n",
              "<br/>Dla taką polowały z głękoności <font color=\"red\">--</font> Petersburka \n",
              "<br/>Tylnie się wypadki, by otrzylał wypadką, \n",
              "<br/>I Assessor co Hrabiego okropki, gdzie i osodzi. \n",
              "<br/>Lecz Sędzia a krzyknął, prawie wszyscy postamało \n",
              "<br/>Na acie cała ucierz, i zjazrością sanek \n",
              "<br/>Na molu mieszkiem o szyb, czy u Kolikach, \n",
              "<br/>W cząsianiu już był kręstoków, a sunoty \n",
              "<br/>Psom w dziagoś, a Pan Palewy, że o umiennie, \n",
              "<br/>Na żacinku wygawił, ale chrawali ich dzieci, \n",
              "<br/>I słoli wybiegłali, że kalolał; \n",
              "<br/>Tasak niewyponodzeli storoli była, \n",
              "<br/>I onorywać bezwida na frandaniu, \n",
              "<br/>Jeszcze pociągły do okotymi stroni; \n",
              "<br/>Pszełszy na okoności, zawsze nieradziłem; \n",
              "<br/>Lecz sam polowała, lecz wadziwowiona \n",
              "<br/>, a nie w wieś lugi; s nas trzeba Sędziemu, \n",
              "<br/>I świemarszy się bez strony, na błochu rekadu \n",
              "<br/>Przewałki,"
            ],
            "text/plain": [
              "<IPython.core.display.HTML object>"
            ]
          },
          "metadata": {
            "tags": []
          }
        },
        {
          "output_type": "stream",
          "text": [
            "\n"
          ],
          "name": "stdout"
        },
        {
          "output_type": "stream",
          "text": [
            " 43%|####3     | 1286/2970 [38:39<50:00,  1.78s/it, epoch=7/15, loss=3.68, bw=0.018]"
          ],
          "name": "stderr"
        },
        {
          "output_type": "stream",
          "text": [
            "\n",
            "[38m 24s (7 1287 43%) loss=3.6766 bw=0.0129]\n"
          ],
          "name": "stdout"
        },
        {
          "output_type": "display_data",
          "data": {
            "text/html": [
              "Litwo! Ojczyzno moja! \n",
              "<br/>Podala pierwszy nieczuł ty, blisko skrzydły, \n",
              "<br/>Doławiw<font color=\"red\">++</font>, lecz o męszce nieniosły chmury, \n",
              "<br/>Każdy ziełarza, spoziete wzgardować, \n",
              "<br/>W tłukroć wiatr, w wskróś pięknéj młobił błyszczą, szkody. \n",
              "<br/>\n",
              "<br/>Tarkola, ten zieława, w <font color=\"red\">--</font>dźwiechu, za urzędu. »\n",
              "<br/>\n",
              "<br/>Brary swowoje z letania: niezbyt dziewrada? \n",
              "<br/>Umażył się, w których rumieńcy weźrawa, \n",
              "<br/>I przegon Hrabia, to wspomnienie że w nudy świszcie mału. \n",
              "<br/>Naledzidowawa gdy w ziewód <font color=\"red\">--</font>ko paltawa, \n",
              "<br/>Wiedział jeszcze się obwiełaniem cieśnochem? \n",
              "<br/>Ach wciąż, \n",
              "<br/>Teraz szczęściem krągło; puszcz omusknął się sko<font color=\"red\">++</font> mém, \n",
              "<br/>Noda miał zaklęcił, jak serta się na dłonie, \n",
              "<br/>I liłem powocszany; tylko że za postrzanie. \n",
              "<br/>Użbry mieszczano doszczę nietwy obradzi: \n",
              "<br/>« Dąbszta i Pan Hrabia i Pan Sędzia i lucie Pana, \n",
              "<br/>Aż jeszcze muże, popującém s bracząc s pokowa, \n",
              "<br/>Dale się w poradu rzeczy, co się pojął Bosewicz, \n",
              "<br/>Lub tam w któréj nodu z rarę, ogon nodzie na ceru. \n",
              "<br/>\n",
              "<br/>Ach że by widząc gocierz <font color=\"red\">--</font>ko do Litwie, \n",
              "<br/>Że co byli w boru, uszę straszniéj, oczy \n",
              "<br/>I gdy mówiąc, wyma i wszyscy Wanardyna \n",
              "<br/>Ledwie odsyj dla Pana takę <font color=\"red\">--</font> Pobrolił, »Tak też tylko w dzinał. \n",
              "<br/>W Ojcem z ogrodu krzyknął, setnia obaczawanie; \n",
              "<br/>Nowa strzemostwie karmnietów zobala i w zienych; \n",
              "<br/>W tycu Podmisza, rzekł ten s ludziego Pakowa! \n",
              "<br/>Ona w Litga Tadeusza <font color=\"red\">--</font> Co, jak tam stawiąc Półkoszczonemi. \n",
              "<br/>Nad raku kranię widać i lebna, srożéj. \n",
              "<br/>Zmieta Pabaskim Podkomocie <font color=\"red\">--</font> Popracił Pan Telimeny Zakowa \n",
              "<br/>Lecz raden Telimena? Więc Polsce Pascze z Nerowskim \n",
              "<br/>Miłaczny Bernardyn, rzekł Pan niebynomu, \n",
              "<br/>Peleza najwnątrz moc<font color=\"red\">++</font>, tak, rzekł Hrabia! <font color=\"red\">--</font> »\n",
              "<br/>\n",
              "<br/>Jako piękny i zadzwonęją! wszystko, a wstał upadnie. \n",
              "<br/>Moga Hrabia i Podkomorzy, \n",
              "<br/>Uwadzi się nad rogów i strawot z podane \n",
              "<br/>Obaczcież piękłem nigdy jako dolca gruwina, \n",
              "<br/>I częstosor, toalaty i narasciach znaty, \n",
              "<br/>Ogon się jeszcze zwykudziła bumagi, \n",
              "<br/>Oglądając się, co jest nauka, rzecz pagórku, \n",
              "<br/>Chart odcieczył się w dowód pagórku, ani się, srożéj \n",
              "<br/>I ręki roscięty cużyc <font color=\"red\">--</font>rurty pawawy, \n",
              "<br/>Z cię umyślec ku chwilę, aż się do rękę \n",
              "<br/>Do roskową, obwiądziéj, w koła zaklęty. \n",
              "<br/>Ach czaka zmóry, uwszerów się daleko, \n",
              "<br/>Zlały się pod umaidna krałe, rad obaków, \n",
              "<br/>Niesteło się i jako świeca w obławą \n",
              "<br/>Pana Woźny tam s Tym <font color=\"red\">--</font>czas do Horesztą <font color=\"red\">--</font>ty, \n",
              "<br/>Ostatnie wienienki, że zwolny kiewał z laty \n",
              "<br/>Którego nawet dużył, w końcu tak ziecząc obrawy, \n",
              "<br/>W téj gości przeziedza, i w upadcu zabama, \n",
              "<br/>Lecz malowili obralić jakiś karadały. \n",
              "<br/>Zapomniawki w pokręnił, tak, zachetnéj; tu w Turszawy? \n",
              "<br/>Tak tu uwieży s Pani Tadeusza ten Bonapart śpiewa, \n",
              "<br/>Widzi"
            ],
            "text/plain": [
              "<IPython.core.display.HTML object>"
            ]
          },
          "metadata": {
            "tags": []
          }
        },
        {
          "output_type": "stream",
          "text": [
            "\n"
          ],
          "name": "stdout"
        },
        {
          "output_type": "stream",
          "text": [
            " 47%|####6     | 1385/2970 [41:37<47:17,  1.79s/it, epoch=8/15, loss=3.78, bw=0.00901]"
          ],
          "name": "stderr"
        },
        {
          "output_type": "stream",
          "text": [
            "\n",
            "[41m 21s (8 1386 46%) loss=3.7808 bw=0.0129]\n"
          ],
          "name": "stdout"
        },
        {
          "output_type": "display_data",
          "data": {
            "text/html": [
              "Litwo! Ojczyzno moja! \n",
              "<br/>Ale to to przeszedł: \n",
              "<br/>Najazd do Pobrzyrzach, że odkrył narojętna, \n",
              "<br/>Gerwazewosem i Wielmożny o nim głosów; \n",
              "<br/>Rzekł, jako blisko na miejscu juk izgo lasu. \n",
              "<br/>Przycież nie gdzie, było i czy widział bez gości, \n",
              "<br/>I wiesterkiego urzędu makał barczko, \n",
              "<br/>Bo zaspał, rzekł, była nieznania w któdzie \n",
              "<br/>Woźny zatrucił z Pani, majątek krawona, \n",
              "<br/>A Panów myśliczka, już krzycy, i \n",
              "<br/>A pan Pan nie podawana: rękawkiewy, \n",
              "<br/>Upraniał i niby raz też to panna; \n",
              "<br/>Tak chcesz, że krzyk myśliwców, lecz w wownym Cesi, \n",
              "<br/>I niestraności, wyszedł Birty rzekiem. \n",
              "<br/>Ale znać widziała <font color=\"red\">--</font>by rotya jego coś próka. \n",
              "<br/>Staciu się. <font color=\"red\">--</font> Ustatrz<font color=\"red\">++</font>, te Dowejności, \n",
              "<br/>Towazy się oprócz Domeyką i ucha. \n",
              "<br/>\n",
              "<br/>Jego nie jeszcze we <font color=\"red\">--</font>jemniach strony zapadce, \n",
              "<br/>Że akcił mały, i dotknęli domu; \n",
              "<br/>Ostrzegła jebie, tej <font color=\"red\">--</font>keje na groźny szynia \n",
              "<br/>Dla cztery, tak widział że nie moszę się pale, \n",
              "<br/>I z wzgląd, ro<font color=\"red\">++</font> szpieje, że Woźny i Zosia. \n",
              "<br/>Jeśli spotkała się słuchała się dwory, \n",
              "<br/>Że Telimena towany w kunbo dowieść, \n",
              "<br/>Lecz Hrabia i Sędzia Panów, rozmogi, \n",
              "<br/>Przysiągne lazem, czy tak zajmować, \n",
              "<br/>Bo to płyncąc szystwa, coraz Telimeny, \n",
              "<br/>Jak szczupak, a drudziciu Ku<font color=\"red\">++</font> łzach sąstym, \n",
              "<br/>Bez Kiejstut zaczęło się, aż też Wilkach! \n",
              "<br/>Czy sługa że gust Sędzia, lecz przyprócz Zozaka \n",
              "<br/>I mateczki: to słuchał nie się mało; \n",
              "<br/>Porwałszy się Pan Wimeyki Łownów posłucili. \n",
              "<br/>Postałyczna wydarł, bo nie jéj fachnąwszy, \n",
              "<br/>Jedna w kapestrzynia <font color=\"red\">--</font>ność, lecz ujrzał Łowle, \n",
              "<br/>Uwazał w Dobrzynie, nawet nieprzysia rzędzi, \n",
              "<br/>A Wojski na wzgórek zawołał Minbanta, \n",
              "<br/>Sztukmistrz pierbwych niegdyś stucił <font color=\"red\">--</font>ło zroramniéj kowni<font color=\"red\">++</font>. \n",
              "<br/>\n",
              "<br/>Przerwanął Minki, lecz w tém dom zaklęcić, \n",
              "<br/>Dziady aż się nie rzekł, to sam Sopliców wniosku, \n",
              "<br/>Które cipańciwska, są, oskarkonaniem, \n",
              "<br/>I sztukmistrz gosto, że na tém szyb zajazd tém do lasu. \n",
              "<br/>W każdéj wiena Sopliców najwykownik trerzewana; \n",
              "<br/>Niejent, ja poszedł, <font color=\"red\">--</font> nie oburącz złewo, \n",
              "<br/>Chciała przemyśl znowu i tęsnardzianém skorza, \n",
              "<br/>Na owi, postada był był jest się pouty, \n",
              "<br/>I ziedał o uczcimalów i łogą, \n",
              "<br/>Dosyć stryczyją; że nic oprócz Hrabia rozmogi, \n",
              "<br/>Czwacy i nim między uwarca w święnił, \n",
              "<br/>Poprawił się uczciłów, nikt na pole postadomy. \n",
              "<br/>Ale mi krzyknął Hrabia i do Litczał, \n",
              "<br/>A zaczął winem Branem bupiła młodu, \n",
              "<br/>Jak głowy trwało się, ale niemowmiszy, \n",
              "<br/>I nie wiedziéć to już w sferze lasaja; \n",
              "<br/>Jak strzelściem, ojsto, dłuśni, że nie od dworze \n",
              "<br/>Na końcu swoich, puścił; tém to będzie się zamiana; \n",
              "<br/>Ale bez głoje lasem i uciemy, \n",
              "<br/>W oczach odtęzane skrzydcznie przybitych grałem, \n",
              "<br/>Postrzegli Przed Ochgą i Telimeny \n",
              "<br/>I od pusiom kraju, widząc i nieśmieczy, \n",
              "<br/>Wprzągczył się pubni, że do kraczetemi stroli <font color=\"red\">--</font>ty. \n",
              "<br/>Dowiesz jak tu<font color=\"red\">++</font>"
            ],
            "text/plain": [
              "<IPython.core.display.HTML object>"
            ]
          },
          "metadata": {
            "tags": []
          }
        },
        {
          "output_type": "stream",
          "text": [
            "\n"
          ],
          "name": "stdout"
        },
        {
          "output_type": "stream",
          "text": [
            " 50%|####9     | 1484/2970 [44:35<44:20,  1.79s/it, epoch=8/15, loss=2.65, bw=0.00901]"
          ],
          "name": "stderr"
        },
        {
          "output_type": "stream",
          "text": [
            "\n",
            "[44m 19s (8 1485 50%) loss=2.6459 bw=0.0099]\n"
          ],
          "name": "stdout"
        },
        {
          "output_type": "display_data",
          "data": {
            "text/html": [
              "Litwo! Ojczyzno moja! już się powinszał? tém już o spogórz tak ptastwem, ja za liczsze, lub pomielicą, \n",
              "<br/>Bóg Ojstosoli, starniéj na stół w moim łodzkach. \n",
              "<br/>Podkokol<font color=\"red\">++</font> w kielich Soplice; tymczyjący \n",
              "<br/>W dyby dziewczyno ze żniwo spadły w trop! \n",
              "<br/>Ach sągi, gdzie! tak się głory uciszczy, gdzie, \n",
              "<br/>Ostatna rozlewy: żeś tuż dłuwić koczy \n",
              "<br/>I toro odwodził orzątkę lasu jego dworu. \n",
              "<br/>« Głosem wytknęli postalili swojéj Franley<font color=\"red\">++</font> chlesza, \n",
              "<br/>Tak tęże się w dom Jakie machnął, ciszéj na rowa, \n",
              "<br/>I czasem indyk w posiedzki za <font color=\"red\">--</font>chu <font color=\"red\">--</font>ką, \n",
              "<br/>I świeczył całkiem zawsze w nieogary; \n",
              "<br/>Był ja z niém jednym ich nagłym włoskiéj świabasu. \n",
              "<br/>Bo Wojski się na stolicy i polate. \n",
              "<br/>Mrok zgęstniał, to Nie czcisz, człek w obłokach: \n",
              "<br/>Z rozmodziry głowę i w uwary \n",
              "<br/>Uchaszała się i goczą krzycząc jaskie pęwy; \n",
              "<br/>Jako ich w pośrodku; gabiły z obławy; \n",
              "<br/>Jakby w wierzchu, lecz okło i częcie żeggi, \n",
              "<br/>I wzrotem jest garczajne trażone ramionie, \n",
              "<br/>Pukły się s głowach gorące, gdzie i roratny; \n",
              "<br/>Telimełem gdy gdyby wisto z trary, zwaszary, \n",
              "<br/>W pośrodku mowy, jak na pierwo niestekać, \n",
              "<br/>Nawet mulice, pierdy należy; ma <font color=\"red\">--</font>dum wziąwnął, \n",
              "<br/>Uśmiewał się, i jest nabinia kronił, \n",
              "<br/>Idą tu podniosteli w siebie wsacił obławy, \n",
              "<br/>I tak kąszą się tyrolsza i inczem uwazy, \n",
              "<br/>I stały wrodzone, nie intane pewne. \n",
              "<br/>« Panna Podkomorzy, bo bęfiał którzy siwéj sity; \n",
              "<br/>W tłuchy przybiszały jak osoliły nowo, \n",
              "<br/>Stryły się pod sobą, dukroć się w podródy; \n",
              "<br/>Ocinne głowy. <font color=\"red\">--</font> Gdy Hrabia uzwoliryuz, \n",
              "<br/>I owa lękce ustał i obligla w grorową, \n",
              "<br/>I tymi o sztuki i Rzeczczadoczy. \n",
              "<br/>Tu odchwalszy się na tém, na tyle tabaków <font color=\"red\">--</font>ce, \n",
              "<br/>Konie się pociągnął na kart <font color=\"red\">--</font>ki; czasy, \n",
              "<br/>I na nią odmyśwania się w siebie hałaści, \n",
              "<br/>I na mszy, świat żeby się przez panny w boru. \n",
              "<br/>\n",
              "<br/>W którym tabakiery gdyby nakształt bystréj <font color=\"red\">--</font>cie. \n",
              "<br/>Pyty na Tadeusza otciągcy trzy burze? \n",
              "<br/>Tak tabaka, już sługi włoski pilny, \n",
              "<br/>I wpłyletę rozmową; lecz skryta się nisko \n",
              "<br/>I mały swe siebie; jesteś z ołoczu w parysności; \n",
              "<br/>W końcu, często, jak kowem, tu zwykją po słońcu, \n",
              "<br/>Ubrał że pierwszy serce, a spór jeszcze niebiowę \n",
              "<br/>Rospływawym się, wrzeszczą, że ów robi sparu. \n",
              "<br/>Znak chociaż że po łowach odbite nawodziałym \n",
              "<br/>Roreszka, a oni pobiegno w siedu; \n",
              "<br/>W nieczyncie środki, że dwa <font color=\"red\">--</font>talnikiem tłuszczą \n",
              "<br/>Nie czcisz, który podobny jaska srekwity, \n",
              "<br/>O jąstwa lat dziecinny, przejrzyra gawęga. \n",
              "<br/>W oniosłszy kurci krzyknęła, nie albo się w czasu \n",
              "<br/>I poprawiwne i wodział, przywotem nabieszczy; \n",
              "<br/>Bo nie cygdzie ich łąki, jak ogród na strzelłem, \n",
              "<br/>A wtém w którym której raz w radałem, o czerczeni. \n",
              "<br/>Gracz dzwonął, to już niedźwiedź z małej rasie; \n",
              "<br/>Nie co nauka widział, że już znały \n",
              "<br/>Cigu tuż że grzeli o Panienki, \n",
              "<br/>Należy się"
            ],
            "text/plain": [
              "<IPython.core.display.HTML object>"
            ]
          },
          "metadata": {
            "tags": []
          }
        },
        {
          "output_type": "stream",
          "text": [
            "\n"
          ],
          "name": "stdout"
        },
        {
          "output_type": "stream",
          "text": [
            " 53%|#####3    | 1583/2970 [47:32<40:56,  1.77s/it, epoch=9/15, loss=2.28, bw=0.00901]"
          ],
          "name": "stderr"
        },
        {
          "output_type": "stream",
          "text": [
            "\n",
            "[47m 16s (9 1584 53%) loss=2.2770 bw=0.0069]\n"
          ],
          "name": "stdout"
        },
        {
          "output_type": "display_data",
          "data": {
            "text/html": [
              "Litwo! Ojczyzno moja! \n",
              "<br/>Jeśli zbyt nią po każdym okolicy \n",
              "<br/>Czerwiły zbiedziłem usrebdzone drudzy, \n",
              "<br/>Płakoł śmierci się prakiewskiego śniadania: \n",
              "<br/>Zbuciaż miał chciał się w porządku, rzekał się śmierci; \n",
              "<br/>Hrabia krzesły i listek wdarowemu; \n",
              "<br/>Tadeusz jak w przową kto złosów na sioddna pośpiełu, \n",
              "<br/>Bezchaj Sędzia Pan Assessor krzyknął, jeśli dojęnie \n",
              "<br/>I młodszéj się zamiany: szła Aśćka się pochwadał \n",
              "<br/>Od dni miał drzew, lecz nie ów szumi ręką. \n",
              "<br/>Ach pastać pod<font color=\"red\">++</font> wasz nie jeszcze na przeprawy. \n",
              "<br/>\n",
              "<br/>Padział właśnia już groźna: co była pomu. \n",
              "<br/>\n",
              "<br/>Sędzia myśliłem łeb w głębokim ujeżdżali rale. \n",
              "<br/>Wedły się młodzież myśliwliwszy na stowienie, \n",
              "<br/>Usiadł przed Jakie w otmorzycznych <font color=\"red\">--</font>ckich Panów dworze; \n",
              "<br/>Zadziwić się Sędzia; zdaloczną imieście, \n",
              "<br/>Obok mniejszy pośród użytcza; ogromny głowę \n",
              "<br/>Gości? »krzeladź do koronnych dwosów, \n",
              "<br/>I stary od kąlumn się niespokojnie pańskie. \n",
              "<br/>Dobre stare na skarb powinny więcéj się przymiecił \n",
              "<br/>W górze, że go już wzgląd <font color=\"red\">--</font>szy cale też ugazy \n",
              "<br/>W szklanku ozwał oszli na Litwie pośpiedowy, \n",
              "<br/>I dodał którym Hrabią mody do twarz stania \n",
              "<br/>Upużono naślaciła się Sędzia młody, \n",
              "<br/>Że Pan Sędzia też że za Sędziemi o boru. \n",
              "<br/>Modząc szynkiem przeiki; kiedy »do pataju \n",
              "<br/>I ojcych mu nazaru stoją grosąniem, \n",
              "<br/>Na zwolnę natrzeć zimnie ważstkie dzika, \n",
              "<br/>Usiadłszy do siebie konkona mgła lon<font color=\"red\">++</font> pięści; \n",
              "<br/>Męszczyzno obok Podkomorzemu kwiaszele. \n",
              "<br/>Szczęściem rzekło się lub dwóch szlachcic zdałem po boru, \n",
              "<br/>Z każnem stołu, i owad już w łby wycieremna; \n",
              "<br/>Mszę go że słuchał nie szukać bożył niednijwał; \n",
              "<br/>Spadając w szklanku; pierwszy mu opiekun w koli \n",
              "<br/>Że Hrabia na Profie Woźny Panów Soplicem, \n",
              "<br/>I niedźwiedź w kaletów przytłunił na kołości; \n",
              "<br/>Jak słuwy lub rzekł:« Pan Sędzia jeśli ardełki \n",
              "<br/>I przepiękty chodził w las gadowe się bo<font color=\"red\">++</font>, \n",
              "<br/>Opowiewałem najwywiedy chuwiek rękę; \n",
              "<br/>Lecz Wojski w miejscu do siaszurki krótka, \n",
              "<br/>I wystrzeciel Podkomorzemu do urzęwy \n",
              "<br/>Albo urząszone Wojlimena się inłem; \n",
              "<br/>Jego rzekł W te śronić, Sędzia na Moskali, \n",
              "<br/>Zaczęła kogoś w Litwie ujazsze! tak płoci, roszego, potém powiewał; \n",
              "<br/>Kownął mu dosyć w całéj końcem naukę; \n",
              "<br/>Gdzie schylał w pasie mrusiejkę przywtórny milczy, \n",
              "<br/>Hasli siedział zawołał, wywiewał się bocha: \n",
              "<br/>Bo więc \n",
              "<br/>« Pan Hrabia na bedowy; a Wojski się ukryło \n",
              "<br/>Ustają się pod zamby; sam Sędzia i pilu, \n",
              "<br/>I kończył odmrukczyła, tak Pan Kielich kodna \n",
              "<br/>Podczął <font color=\"red\">--</font>szy wam myślicznych smyczy się cechał udesy. \n",
              "<br/>A Tadeusz pomować Gerwazy to na porządków, \n",
              "<br/>W krużganku szedzieli w Podkomorzy; »za potem Szwaśna wzglęja \n",
              "<br/>I korzywy wpadł przebałość? a Podkomorzy, \n",
              "<br/>A jeśli razem z liczne ręki \n",
              "<br/>Dawnego kożyć, te borzem spadło stołu, \n",
              "<br/>A Pan Sędzia miał chciał z jego kapelusz <font color=\"red\">--</font>cu nielagi \n",
              "<br/>Ledwie"
            ],
            "text/plain": [
              "<IPython.core.display.HTML object>"
            ]
          },
          "metadata": {
            "tags": []
          }
        },
        {
          "output_type": "stream",
          "text": [
            "\n"
          ],
          "name": "stdout"
        },
        {
          "output_type": "stream",
          "text": [
            " 57%|#####6    | 1682/2970 [50:30<38:22,  1.79s/it, epoch=9/15, loss=3.3, bw=0]      "
          ],
          "name": "stderr"
        },
        {
          "output_type": "stream",
          "text": [
            "\n",
            "[50m 14s (9 1683 56%) loss=3.2994 bw=0.0069]\n"
          ],
          "name": "stdout"
        },
        {
          "output_type": "display_data",
          "data": {
            "text/html": [
              "Litwo! Ojczyzno moja! \n",
              "<br/>Jeśli Tadeuszem, przodka tego cusztoni \n",
              "<br/>Krzywta Pawie, czy od Podkomorzy kłod, \n",
              "<br/>Podkomorzy umrzéć jak gwiazd <font color=\"red\">--</font>ciwną lub do skońtem \n",
              "<br/>Pujent z wieku drochę, orciaż gęzet w ust wybranie? \n",
              "<br/>Ach ciociu Robak, czy jak rodziłem za dowieta, \n",
              "<br/>Blisko choć co chciał w progu idzine we śnie. \n",
              "<br/>Ni ze inściem padnęły szczwała w zamian na gości; \n",
              "<br/>I musiał przeszłą każje nie w lastem srebnie. \n",
              "<br/>Może w Tadeusza nawet nie do Soplica, \n",
              "<br/>A zawsze sposób wyżykał w ludzie na złoty, \n",
              "<br/>O isdając, niech godni wocia \n",
              "<br/>Zdadyty się w sobie! wszyscy; a Assessora \n",
              "<br/>Ciąnarją się w Panów Wojskiego Panów konstwem, \n",
              "<br/>A Litsowie się o Moskami mu płyłem; \n",
              "<br/>Strzelcy na Pawie; i Wojski much nadobło \n",
              "<br/>Oddyzwał się Sztatyczna okropna góry. \n",
              "<br/>Zaczął na powiewie i one rypy słogi: \n",
              "<br/>Gabnie w astach sam roskazy:« chciałcy! \n",
              "<br/>Już w téj seytyczną Tadeusza podował: \n",
              "<br/>W ręku, już było i krzeszczyne sznur znacie, \n",
              "<br/>W cząstce wezjąca swe białe polowanie; \n",
              "<br/>Mnie tylko inność posrebcijąc w dału matki, \n",
              "<br/>Zapał drzwi go ku domu zagnietune, \n",
              "<br/>A choć, że tylko zgadule dawne na łocie. \n",
              "<br/>\n",
              "<br/>Wipeyno już nadobną i panna węwyczy; \n",
              "<br/>Aż tam nad głodniku się sala, rzekł, porzekł na bowy. \n",
              "<br/>« Tak moccąc <font color=\"red\">--</font>szych opiestwa pod dam nad wczorych; \n",
              "<br/>I przyjezliczną przerzekł jeszcze im zjamodu, \n",
              "<br/>Wy was nielaty skarszcza oprócz <font color=\"red\">--</font>sze wcale, \n",
              "<br/>A zaczął w koło, lecz niekłaliłem! \n",
              "<br/>A rzekł Hrabia, rzekł Hrabia, racz <font color=\"red\">--</font>czych się pomienne, \n",
              "<br/>Wymyśliłem, zrywa, w góre w téj dzicia. \n",
              "<br/><font color=\"red\">--</font> Wtém Wojski nieodstąpił, czy daléj znada. \n",
              "<br/>Czy kilki niewinno niemógł puszczy się ćmiło. \n",
              "<br/>\n",
              "<br/>Jeśli płycił Domeykę Wilbik na grole, \n",
              "<br/>Który gosto jak w obłosanych stroza rawy; \n",
              "<br/>Nie mi cypbuści sam za nim niż noża, \n",
              "<br/>Padział w jednym promie płyła: milzuwarzy, \n",
              "<br/>A sama nie niewykłem, na tyłu gości. \n",
              "<br/>Mówił w pończoszku? witrząc szerokiego! \n",
              "<br/>Sama były myślą, że byłem w milczeniu \n",
              "<br/>S lasu już w robone każszczę budzinie; \n",
              "<br/>Tadeusz jesteś fiszczy i krwi ziekało, \n",
              "<br/>I niemeciec w kłęszawszym rostargnionv; \n",
              "<br/>O pitach, to w ruchoméj, wspomnienie na ćwier<font color=\"red\">++</font> wsiadał, \n",
              "<br/>Ostatny że od lisa i ci nis<font color=\"red\">++</font> Panów, \n",
              "<br/>Trzeba że więc na gniazry \n",
              "<br/>Osobtyniczka dunek i w powiecie. \n",
              "<br/>Nidzia usłyczyli słudzy jak cudzindek; \n",
              "<br/>Rzuczył się na dawne książku morzyjoziewi, \n",
              "<br/>A to potém się w łozu całrza światy \n",
              "<br/>Mszę jak gwiazd, lino-błęca, ale bartewdejstwu; \n",
              "<br/>Jak na sklekale widział; chociaż niezmiernie \n",
              "<br/>Mury s środkach w pokuczach, w miejscu swém zbrojnie, \n",
              "<br/>Na włochę porządek, czyło słowa zioła, \n",
              "<br/>Pochwycąc żałośnie na ścianach i światy, \n",
              "<br/>Od Wojski że nakoliła świeci, właśnie. \n",
              "<br/>Zaczął je miał rostała, więc i właśnie \n",
              "<br/>Padając tuż, że czas w tych szkodyś czacie, \n",
              "<br/>I niespuszczałem już na koniach zwybo-brawino;"
            ],
            "text/plain": [
              "<IPython.core.display.HTML object>"
            ]
          },
          "metadata": {
            "tags": []
          }
        },
        {
          "output_type": "stream",
          "text": [
            "\n"
          ],
          "name": "stdout"
        },
        {
          "output_type": "stream",
          "text": [
            " 60%|#####9    | 1781/2970 [53:27<35:13,  1.78s/it, epoch=10/15, loss=2.19, bw=0.018] "
          ],
          "name": "stderr"
        },
        {
          "output_type": "stream",
          "text": [
            "\n",
            "[53m 12s (10 1782 60%) loss=2.1873 bw=0.0049]\n"
          ],
          "name": "stdout"
        },
        {
          "output_type": "display_data",
          "data": {
            "text/html": [
              "Litwo! Ojczyzno moja! w Mostecznik zwyczajno \n",
              "<br/>Przywodziła albo żyrzywi młosi! \n",
              "<br/>I w niefnach do włosu jak rówie s dworu, \n",
              "<br/>Zwane _poszych, jest ubrania, w nich mych rosgogu \n",
              "<br/>Błysnął, pod nim <font color=\"red\">--</font>gla jak tratry i owszem świąmienneło. \n",
              "<br/>Zgoda więc z taki, już psom, to nie będzie źmisy, \n",
              "<br/>Wysuwając na wierzchu i Kusego względem. \n",
              "<br/>Czasem do Moskami Państwo wypito \n",
              "<br/>W każdej dawnéj, i Sędzia że to czedziewał! \n",
              "<br/>Dokażał w dnie, i hec na pobliskiéj pół po dworze; \n",
              "<br/>Ochodać zdziwiona, bardzo na kaspaczy \n",
              "<br/>Trzciny w taliwia, ludzie w koło rozmowę, \n",
              "<br/>W której śpiewała po rękami wnichnął. \n",
              "<br/>\n",
              "<br/>I w miejsce, długo w kończył (po czarach! \n",
              "<br/>Rzekł tuż zaprodzenia, nie pozwali Aurysząc, \n",
              "<br/>Nawet to naprzód oczy wybukojną; \n",
              "<br/>Cóż prędka niewidział, oprócz Litewskich składa. \n",
              "<br/>\n",
              "<br/>Tadeusz mój Carski obyczaje nie głowy: \n",
              "<br/>Szanowała dobył nieco koruka, \n",
              "<br/>Jako ludzie w prawo, nieruchody w dworze \n",
              "<br/>Na wieczy, bawił się w ochoma oblicze. \n",
              "<br/>\n",
              "<br/>Wyszli na kaliluszem gałkę niestewne; \n",
              "<br/>Nóżkiel z ruto i Wojskiego prócz odbliżdywał, \n",
              "<br/>Oczyma ciszenownik, koły się nisko; \n",
              "<br/>Ja bynia, plac na cyngla oczy na lubię narudy, \n",
              "<br/>Pełka s zamku, tém tylko do o<font color=\"red\">++</font> soplicy. \n",
              "<br/>\n",
              "<br/>Telimena z niewiju, to dobrze na dworze, \n",
              "<br/>Niema dwa głowy, więc pochwał, s tyłu i sąlec. \n",
              "<br/>Trzeba była podróżnego porząte widzianiem; \n",
              "<br/>To sztuności lecino, w dni chart się strony \n",
              "<br/>Jéj przyparutem, u rzędy otśmiewnica; \n",
              "<br/>Kożał, w ustach, s całéj oczu nieruchoda, \n",
              "<br/>Wieść zbyt skrzytewszy niż u Jeger<font color=\"red\">++</font> wydepce, \n",
              "<br/>A Pani, zamianiło się za wowo Lifie; \n",
              "<br/>W spotycie oczy miała na ówrze jemo <font color=\"red\">--</font>nął: \n",
              "<br/>Ona do Polsce złego zmieszał, wychody wróta, \n",
              "<br/>Ale do niéj była nie przepsuniony koja, \n",
              "<br/>Wysuwają się i cogo nagodził \n",
              "<br/>Rostrzygciły po dwóch kołach, jako po kamieni \n",
              "<br/>Sarkała się w Litewskich Bernardyna \n",
              "<br/>Niżlicy, chociaż polter, i wrzask wymykało \n",
              "<br/>Do geczyzn; sam Sędzia, są z Moskało \n",
              "<br/>Prawo, ledwie nadzwygniono pogote głowy. \n",
              "<br/>Wiész? wié Hrabia, Lorlicom i Ciębak do Szwawie; \n",
              "<br/>Napochoty trzeba się ku <font color=\"red\">--</font>sza odkłabna do Warszawy, \n",
              "<br/>Niby mugu na starcami lub łudzkiemi; \n",
              "<br/>Kiedy że ogrogu wyrzurzał i drewnianych chmury. \n",
              "<br/>W każdej dawnéj, wyrzekł żynia, może naczyto \n",
              "<br/>Takim na tych wzgardziłem poczcidzie ostatni, \n",
              "<br/>A koło się musiał te łacha zasłonie \n",
              "<br/>Z nich powieku, na izby u wielkim psów łury. \n",
              "<br/>Wydawania, kosty, niech zemsta, bez pochodów. \n",
              "<br/>Z wieku się Szkownikiem mota grzybów w szypie, \n",
              "<br/>Niewidzialna, tyle w tudzieńcach, zwaka konie! \n",
              "<br/>Nieraz się na wojskiego wzgórką wilnym \n",
              "<br/>Anieby to nigdy niebo s grzydzież do stołu: \n",
              "<br/>Czy kilka kastalów, by w najrabiochu dwowa \n",
              "<br/>I wychodał się; w sercu, oczydzi się kłóca; \n",
              "<br/>Krzyknęła Carski nigdy to"
            ],
            "text/plain": [
              "<IPython.core.display.HTML object>"
            ]
          },
          "metadata": {
            "tags": []
          }
        },
        {
          "output_type": "stream",
          "text": [
            "\n"
          ],
          "name": "stdout"
        },
        {
          "output_type": "stream",
          "text": [
            " 63%|######3   | 1880/2970 [56:24<32:20,  1.78s/it, epoch=10/15, loss=2.96, bw=0.00901]"
          ],
          "name": "stderr"
        },
        {
          "output_type": "stream",
          "text": [
            "\n",
            "[56m 9s (10 1881 63%) loss=2.9597 bw=0.0099]\n"
          ],
          "name": "stdout"
        },
        {
          "output_type": "display_data",
          "data": {
            "text/html": [
              "Litwo! Ojczyzno moja! \n",
              "<br/>Oczyzną! widać w pochodu że włoczy \n",
              "<br/>Bruśka s prostéj kiebie naszych przodki juk łoję, \n",
              "<br/>Samoczyk na daléj: słychać wiczorna drzew, \n",
              "<br/>Nie wiedziéć że czeraz Hrabia, gdzie na tém. \n",
              "<br/>\n",
              "<br/>Tak było w naszéj owi, to ow szukać zawrocie, \n",
              "<br/>A Sędzia Podkomorzy Hrabia napełnione \n",
              "<br/>Mówiła go się moje ku cusem i stoło. \n",
              "<br/>\n",
              "<br/>Zosia spał <font color=\"red\">--</font>czania spirzy, którzy Pan uspomokiem \n",
              "<br/>I wraz zwiąże lugę i że wielca pani; \n",
              "<br/>Krótkie dawną w ogrodniwym spochomoka. \n",
              "<br/>\n",
              "<br/>Powiada że Pan za drzedy, Ponar Jegomotnéj <font color=\"red\">--</font>giel <font color=\"red\">--</font>ty \n",
              "<br/>Cipi, by na tém dwa strony porządka wydają; \n",
              "<br/>Bo Sędzia widząca na wierzch darunki Woszenie, \n",
              "<br/>Że wstrzymując na stola, jak się nie noczne! \n",
              "<br/>Skąże s Telimeną zbyt na łzach, liniemy, \n",
              "<br/>A saszkał Telimeny trwodzie, ten jego wierny \n",
              "<br/>Jak <font color=\"red\">--</font>bo się s tego wzgórku, teraz za komu, \n",
              "<br/>I ubiło w nię wpudnie, tubów Wedzieły im gorzéj. \n",
              "<br/>Gorzéj zdały się za nim; wszystkie pogrąwanie, \n",
              "<br/>Że Podkomorzy Pan Robak w ręce Telimenie; \n",
              "<br/>Kto długo, nie idzie widział s kaszeczaszyć \n",
              "<br/>Zawiewała się Bikal s kołności Driaca: \n",
              "<br/>On przecież głowę odsączyjąc w rozlicie. \n",
              "<br/>\n",
              "<br/>Może wracała Podkomorzy narody, \n",
              "<br/>Ale mówiąc i żywiony ze drzew; \n",
              "<br/>Niemało od nich ognia odrwaniły \n",
              "<br/>Żypieło się, który to siedziała rudywał, \n",
              "<br/>S także kroty<font color=\"red\">++</font> kłótnie Podkomorzy \n",
              "<br/>Jeźłu za wielkiéj, tudzież wzdymuczne biesy \n",
              "<br/>Pstręk z zadartą, czyjém był Pan Rejent się <font color=\"red\">--</font>mużbieli \n",
              "<br/>I Sędzia tam na Piotrowskim lasu prawić, \n",
              "<br/>Nie wielki znęcone zwrócone się swego razem, \n",
              "<br/>Ubrały sam powrócony dziewczyny, \n",
              "<br/>Rozmyśliłem Nakoniec, nie widzisz Hrabia, \n",
              "<br/>Zwłaszcza że hej dobrze na Wegrakowego; \n",
              "<br/>Zosia na młodzieży nieco uciewiał s pokałów, \n",
              "<br/>A więc dawnego szuła z ubrania Assessora \n",
              "<br/>To Pan z uwrowiał Jacek na tém, \n",
              "<br/>Ros<font color=\"red\">++</font> okno Robak na francusku Podkomorzy, \n",
              "<br/>I przyjaźnéj s pokazał Pan Rejent w Litwie matom \n",
              "<br/>Kustają go s kaszeli, niech znowu Jegermaj<font color=\"red\">++</font>! \n",
              "<br/>Tam skręcy, chociaż idzie, tu to grzędzie \n",
              "<br/>Jedna na skarb niedobnie w prawo wiłał Państwa. \n",
              "<br/>\n",
              "<br/>Tadeusz silno podał, tego twatecznika \n",
              "<br/>Jako licone dumika ku Podkomorzy, \n",
              "<br/>A Pan Sędzia wyciąg<font color=\"red\">++</font>, bo wié też Pomeyki \n",
              "<br/>I który klej<font color=\"red\">++</font> wielkę do ochrony ruciadniem, \n",
              "<br/>A bił się wkoło spitą, rzekł i tłuszcza skóry, \n",
              "<br/>Gdzie się Hrabiego dwie ławy tego budowy, \n",
              "<br/>A koło po wieku, jak na swoich wiota świadka. \n",
              "<br/>\n",
              "<br/>Téj ciony krzyknął Hrabia, a potém jadłem s podarunku, \n",
              "<br/>Odstawiony do nich; a Pan Assessor Gonów Gerwazy. \n",
              "<br/>\n",
              "<br/>Tadeusz krzyknęli z drugiemi ogonie \n",
              "<br/>Palce w górę promienie, wrzasny to szukali: \n",
              "<br/>Odwiązane lowie w pomroku był uciewania, \n",
              "<br/>Że oprócz Sędzia Bernardynie wszyscy s trwochu, \n",
              "<br/>Nie nować nieco, Tadeusz wojemo nudy. \n",
              "<br/>\n",
              "<br/>"
            ],
            "text/plain": [
              "<IPython.core.display.HTML object>"
            ]
          },
          "metadata": {
            "tags": []
          }
        },
        {
          "output_type": "stream",
          "text": [
            "\n"
          ],
          "name": "stdout"
        },
        {
          "output_type": "stream",
          "text": [
            " 67%|######6   | 1979/2970 [59:22<29:28,  1.78s/it, epoch=11/15, loss=3.24, bw=0.00901]"
          ],
          "name": "stderr"
        },
        {
          "output_type": "stream",
          "text": [
            "\n",
            "[59m 7s (11 1980 66%) loss=3.2380 bw=0.0059]\n"
          ],
          "name": "stdout"
        },
        {
          "output_type": "display_data",
          "data": {
            "text/html": [
              "Litwo! Ojczyzno moja! \n",
              "<br/>Już nie wiedział z nim, jako nos nie czeby względa \n",
              "<br/>Panny Pół, będzież Hrabiego z braciu Zosię! \n",
              "<br/>Więc w Palermo! Pewniéj niegdyś rzekł? Wy Rosztelsce; \n",
              "<br/>Hrabia (Sędzia tuż ciągnął nikt był młodzieście, \n",
              "<br/>Oba łagąc, oprócz Ruisdon i oczyszcza? \n",
              "<br/>Bez Kusię Gerwazy da w zamku nie chmury, \n",
              "<br/>« Czy miał <font color=\"red\">--</font>niewić Czy wielką wów<font color=\"red\">++</font> milczenie głowy \n",
              "<br/>I z Horeszków czego rosnorem mupieni, \n",
              "<br/>Poglądając dostał że jest zawabin<font color=\"red\">++</font> zawiącia, \n",
              "<br/>Obok Dobrodziewicz, w Dobrzynie, o oko narawić, \n",
              "<br/>Nie prześmieha, w prawo, póki myśliwi, \n",
              "<br/>Gdzie jedcy wielkie w domu Sędziego Gratazy. \n",
              "<br/>Rzekł Sędzia z taki wié młodziewą kowicy; \n",
              "<br/>Niepożdzino chłopcy już do siebie; \n",
              "<br/>Kustająca na ludziach jałowby po branął. \n",
              "<br/>\n",
              "<br/>Co sam za niém, Telimena pokryjomu, \n",
              "<br/>Ani towanił się stała po koliski, \n",
              "<br/>Ale kilkie razem s całéj Choć stanęli \n",
              "<br/>Ukryra z charta, same pomrok <font color=\"red\">--</font>szy. \n",
              "<br/>Czuję że ukląkł, sam Robak zapomnieno! \n",
              "<br/>Bo s porządku, s tyłu legionicze! \n",
              "<br/>I poglądowania, co mówię <font color=\"red\">--</font>Mysgomu, \n",
              "<br/>Które szczególnych jakieś tego ochodów, \n",
              "<br/>Wszystko się Tadeusza? Wielką odbić mało. \n",
              "<br/>Czuli krąto, tak szlachecki, widać s paście, \n",
              "<br/>(Tak znowu młodych, jako śnieg jak jak w rozmadowenia, \n",
              "<br/>Spojrzał na wiatr, jeśli Anszmożyle \n",
              "<br/>Niby uwosiadna jako jalisze tkwiali. \n",
              "<br/>Tak piękny i podają krącie w alkowy \n",
              "<br/>Uważasz na Sopliców, niesteno przebrata, \n",
              "<br/>Zapomniawki Hrabia, sam niepotrzebnie z zagonica, \n",
              "<br/>Drugie muz nad kniadziłem, jak pełnego rada. \n",
              "<br/>Dziewczyna dziewności wąski s pomiędzy zaramie, \n",
              "<br/>Tak jest słychać jak zadobniła na chmurę, \n",
              "<br/>Bo nabrała szczęców obrodniejduli? \n",
              "<br/>I Hrabia na siamą prawda powrószenia, \n",
              "<br/>Mizelu, to Soplica s lemienie, \n",
              "<br/>Obok Sopliców nawet szlachcica, \n",
              "<br/>Mające mu do Polskiéj kłótni, Sędzia do Zosemu, \n",
              "<br/>I w wsi, które w Soplica dusza, póką w pobrodzie? »\n",
              "<br/>Niedźwiedź i czeladź Sędziego nie podziegę, \n",
              "<br/>Każda. Podkomorzy s Polsce nie »»\n",
              "<br/>Ujrzał Moskalom. Choć z latem bioli \n",
              "<br/>S Jakim jessza! Pan Rożyccą Pani Jubaka! \n",
              "<br/>Dotąd Stolnika Horeszków, s szlachcic s przypadu. \n",
              "<br/>Hrabia Sędzia s Soplica, rzucił się sęba? \n",
              "<br/>\n",
              "<br/>Może niecne wielki mudzieniec Soplicy! \n",
              "<br/>Misiące młodzieżą? Bo to zabielał Pani! \n",
              "<br/>Chytrowski, Mopanku myśliwiec młodzieda, \n",
              "<br/>Słów Sędzia co do Puszego szedł i Zosią, \n",
              "<br/>Podkomorzy s słacą więcéj młódź i ówdzie psina, \n",
              "<br/>Ja namiany; wszystkie wody miał <font color=\"red\">--</font>ła na nochu. \n",
              "<br/>Bo nie ja był zawosy, lecz boszał niemoże! \n",
              "<br/>Tak brachę, że s tydając na tém mężno \n",
              "<br/>W las serce, w domu wieda, podbiegł i jéj głowę \n",
              "<br/>Jest pomiędzy świacąc juk miał na świecimi, \n",
              "<br/>Przystadnął się s wielkiéj, obyczaje"
            ],
            "text/plain": [
              "<IPython.core.display.HTML object>"
            ]
          },
          "metadata": {
            "tags": []
          }
        },
        {
          "output_type": "stream",
          "text": [
            "\n"
          ],
          "name": "stdout"
        },
        {
          "output_type": "stream",
          "text": [
            " 70%|######9   | 2078/2970 [1:02:20<26:37,  1.79s/it, epoch=11/15, loss=3.15, bw=0.00901]"
          ],
          "name": "stderr"
        },
        {
          "output_type": "stream",
          "text": [
            "\n",
            "[62m 5s (11 2079 70%) loss=3.1510 bw=0.0049]\n"
          ],
          "name": "stdout"
        },
        {
          "output_type": "display_data",
          "data": {
            "text/html": [
              "Litwo! Ojczyzno moja! \n",
              "<br/>Więc! krzyknął Stolnik, czyli wozem ukoje \n",
              "<br/>Ukłona ku mózże, z <font color=\"red\">--</font>skim Pańskim tydaniu \n",
              "<br/>Porząwy- Telimena, pomiędzy pabużymi \n",
              "<br/>J na świat czętożem, który śpiewała okiem. \n",
              "<br/>I miało po francusku lecz tyłąb stany; \n",
              "<br/>Milczenie na sejm szukał podróż jednych zazdrotosza, \n",
              "<br/>I oprawić pojąć u nas kilka dawał; \n",
              "<br/>Przewrócone wdzięka, nieco zawsze nazad w końcu \n",
              "<br/>Spuszcza się na dwóch znajchu. Tak, pobrawka z Trzy ciona \n",
              "<br/>Karczma i Hrabiego, właśnie to uszy, \n",
              "<br/>Pociągnął za pośrestwie, którym kołnierze, \n",
              "<br/>Wziąłem owa jego niebyło padnie mu młodzi. \n",
              "<br/>Assessor wesoł i tak było wpadło z opiekiem, \n",
              "<br/>A Hrabia patrząc przez domu zabłyśną i obie, \n",
              "<br/>Na polowanemi kapebelgo upienia \n",
              "<br/>Nakształt aby grzmianął w wzdłuż, podniósł; jak namyślał) \n",
              "<br/>Czy w Waszmodni, Tadeusz zażył potężnie, \n",
              "<br/>Lecz pańskie urzędnika, nawet Tadeusza. \n",
              "<br/>\n",
              "<br/>W goście w głędzierze zawsze zamek, w Soplicowie \n",
              "<br/>I wielką, ledwie niewiedział Panny wejrzenie, \n",
              "<br/>Gerwazy zbladnął, jakie niebo i gadzity, \n",
              "<br/>Że wszędą wiedzili wieczejąc nieszczęlone, \n",
              "<br/>Widać że cuczyniu wyrodać i milczenie; \n",
              "<br/>Wprawdzie podczy na pokodnym, a że pan nie znały, \n",
              "<br/>I widać było polowanie zwalacznych. \n",
              "<br/>Nie głoś<font color=\"red\">++</font>? jego mimo Dąbkal, Hrabia uciewał, \n",
              "<br/>Że zamknięcia Pan Sędzia; kocznie efsionosze \n",
              "<br/>I urząd, Sędzia było z Warszawy \n",
              "<br/>I znowu o Pana Bopanku, s domu dostali; \n",
              "<br/>Lecz nie wiedział że dodał Sędziego ni ramy, \n",
              "<br/>Przywykł usłyszał Podkomorzy zwrócona dunieniem, \n",
              "<br/>I sama nie rozwarłszy się powiada mokiem. \n",
              "<br/>Jak po wiesach ostatnie tudzież na francudzpieńnie.. \n",
              "<br/>Uczuł na tém rozmyśżeny duchownéj rozmowę, \n",
              "<br/>Że Pan Sędzia przeprudzili dowór swoje. \n",
              "<br/>Przemyśramy się, i z gęśgo Soplicowa! \n",
              "<br/>A spocha z silno, suwano było w darze \n",
              "<br/>Gotować się z gocze musi i poplączyniało. \n",
              "<br/>\n",
              "<br/>Wskok, szukać za starnoszu, a uśmiéchał, \n",
              "<br/>Chciałem dotąd wszystkie co mu s tyłu kamienia \n",
              "<br/>I sama ścisnęli; okulkawszy widać rosi. \n",
              "<br/>Tym utotam co się Tadeuszu. Goście z niemu raczy \n",
              "<br/>Wykrzyżoczali nachodzili pojemali czasu \n",
              "<br/>I na tych stronę nagle nieprzytę ucieknie, \n",
              "<br/>Wystrzeliłem jak pal<font color=\"red\">++</font> niż:« Doweyko się pejsyta \n",
              "<br/>Dla niewidział? czy to Pan Panny, o często z pemu; \n",
              "<br/>Więc Pan Pan Sędzia; rzekł Pan Skołuba, spodził »»»\n",
              "<br/>W strzelby nawet ten razem pydów i czada \n",
              "<br/>Szlachty nieraz ognia na których się dłuwo, \n",
              "<br/>Czy nie schyli się małą musząc wytłumała, \n",
              "<br/>Które niewidział z przerwy krwią Adnasczę; \n",
              "<br/>Nakoniec na ścianiach stotki i kichał powiecie, \n",
              "<br/>U nas jeśli przygaił: ten ten Robak uziewał. \n",
              "<br/>\n",
              "<br/>I oglądał zawsze oczy dale okiem, \n",
              "<br/>Jeśli dziob <font color=\"red\">--</font>ko musieczną czynkiem milczenie, \n",
              "<br/>Oba krzycząc pospólnikę małe pojedynki, \n",
              "<br/>Kraśniejsze po brajem; i mil<font color=\"red\">++</font>"
            ],
            "text/plain": [
              "<IPython.core.display.HTML object>"
            ]
          },
          "metadata": {
            "tags": []
          }
        },
        {
          "output_type": "stream",
          "text": [
            "\n"
          ],
          "name": "stdout"
        },
        {
          "output_type": "stream",
          "text": [
            " 73%|#######3  | 2177/2970 [1:05:18<23:35,  1.78s/it, epoch=12/15, loss=2.95, bw=0]"
          ],
          "name": "stderr"
        },
        {
          "output_type": "stream",
          "text": [
            "\n",
            "[65m 2s (12 2178 73%) loss=2.9520 bw=0.0089]\n"
          ],
          "name": "stdout"
        },
        {
          "output_type": "display_data",
          "data": {
            "text/html": [
              "Litwo! Ojczyzno moja! \n",
              "<br/>Za nim wiem, nie był razem uchwycony słynieli; \n",
              "<br/>Bo to Księszę Rzekł, Panowie rozraz używał \n",
              "<br/>Dobrze mój Horeszków pociągnął daléj sprawy, \n",
              "<br/>Ich każdy do nich w polowana miema; \n",
              "<br/>W Assessor Sędziu i Sędziemu w powiecie, \n",
              "<br/>Z dalszéj strony każdy na świętów i młodzieńcy; \n",
              "<br/>A Podkomorzy przerwał Tadeusz i Pan nie głowy, \n",
              "<br/>On nas chciał<font color=\"red\">++</font> się w Panów Sędzią i Rejtan pododział, \n",
              "<br/>Z każdziwi Horeszków płyno podobne do Szkocyi. \n",
              "<br/>\n",
              "<br/>Dobrze Pan Podkomorzy, Gerwazy po poluchą. \n",
              "<br/>Szkoda wszysło tylko sobie, jak rąby musi \n",
              "<br/>Papier i na nia puszczyk, a pierwo okryra \n",
              "<br/>Zamku Robak do złość, co mógł tyle pośpieżył. \n",
              "<br/>Ucieżał tylko stary, że się serce układzi? \n",
              "<br/>Tu nie wieda że powinność był jestem po kociołce; \n",
              "<br/>A w kozcu gadany w dłonach i zdrawy, \n",
              "<br/>Usiadłszy na wsi i wyżleli świadnął; \n",
              "<br/>Robak jak pispańskie i anioł i niebo granie! \n",
              "<br/>Póty Wojski wciąż gra może był tryum<font color=\"red\">++</font> dworze przyłożył, \n",
              "<br/>Tak schyli się zwolna, że chybił jednym pośpieszał \n",
              "<br/>I jastrząb zamek i cicho pojaźnéj rodzieńków, \n",
              "<br/>Rwał co było na końcu Sędziu i zając przeprawy, \n",
              "<br/>I tych rozgowiłem wzniesiono ochości i mały, \n",
              "<br/>I mudością wieldem niż w najpierwsze domu, \n",
              "<br/>W demu okiem muzy<font color=\"red\">++</font>, a cochnął blisko, \n",
              "<br/>Póta i Doweyki tu mniejszy krealazne, \n",
              "<br/>I lipa na świecie i kilkę wystaczył, \n",
              "<br/>Czach, by w koło kwie<font color=\"red\">++</font> w ziemy, dobiedz rąk i tyle; \n",
              "<br/>W którym ogród, jak w strony powtarzane w ziemi \n",
              "<br/>Domejki, to mam ów; uwiązane w biórnie, \n",
              "<br/>Ale ow tamtej bez złące zabłyśna trzeli, \n",
              "<br/>Czy do taką siedzi, popolski oblowa. \n",
              "<br/>Ulekroć Hreczerye ustaw i w powiecie, \n",
              "<br/>Czach, dodał Sędziemu jeszcze przy domu; \n",
              "<br/>Aż tam która się i bardzo nieraz do wyraźności \n",
              "<br/>Uwiązany w kielnie i dobra się bawił, \n",
              "<br/>Poszucie, na kolei Państwo, bez wielki i pana, \n",
              "<br/>Z oblijarzyją gromaniec i woń wyprowada. \n",
              "<br/>Upiekł się <font color=\"red\">--</font> Rejent i Rejent i chwiżeli \n",
              "<br/>Że Sędzia że jednym sobie geczy do boru. \n",
              "<br/>\n",
              "<br/>Były Niedzienomu, s obu widości rosniosnia, \n",
              "<br/>To on patem widziano powiązane mu jego ranem. \n",
              "<br/>Drzewa przerwał; Sędziego dotąd potrawy, \n",
              "<br/>Doszli z rękę podciął <font color=\"red\">--</font>stwa i nikt był Tak na ręki \n",
              "<br/>Rozmodzony, s dwie stronym oczy rozwiawać; \n",
              "<br/>Zaczął <font color=\"red\">--</font>szy głowy na karczmie, umada:! \n",
              "<br/>« Kiedy się Tadeusza! Waść to s Nakomu kieli <font color=\"red\">--</font> Bernardyna wzglęru, \n",
              "<br/>I wierzymi, która do nich, jako hurlera: \n",
              "<br/>Widzi siostra, Zosiu, żeś się nie rochał! \n",
              "<br/>Starzy jeszcze oczy; Assessor ludzi: \n",
              "<br/>Jeśli że Polaki i Bernardyna miewał. \n",
              "<br/>Tu pócy Tadeusza wyciągnąć s powejka, \n",
              "<br/>A Gerwazy wyraźnie Pan Sokół ogoni, \n",
              "<br/>I drudzie Tadeusza. Ile po Domeyko \n",
              "<br/>Życie niegdyś na ziemi; już w jednéj strony z boty, \n",
              "<br/>Pomięsza<font color=\"red\">++</font>"
            ],
            "text/plain": [
              "<IPython.core.display.HTML object>"
            ]
          },
          "metadata": {
            "tags": []
          }
        },
        {
          "output_type": "stream",
          "text": [
            "\n"
          ],
          "name": "stdout"
        },
        {
          "output_type": "stream",
          "text": [
            " 77%|#######6  | 2276/2970 [1:08:16<20:36,  1.78s/it, epoch=12/15, loss=2.58, bw=0]      "
          ],
          "name": "stderr"
        },
        {
          "output_type": "stream",
          "text": [
            "\n",
            "[68m 0s (12 2277 76%) loss=2.5828 bw=0.0119]\n"
          ],
          "name": "stdout"
        },
        {
          "output_type": "display_data",
          "data": {
            "text/html": [
              "Litwo! Ojczyzno moja! \n",
              "<br/>Tymczasem i Hrabia, gdy koszt ważnie kazuwał \n",
              "<br/>I patrząc na miejsce, jak welepszy kreawie; \n",
              "<br/>Do tych gości jak w koło szyty ukryte ścianie, \n",
              "<br/>Puszczałem, Gedymin, podawane z gory \n",
              "<br/>I stary z dna wzięło swoich, wara spirowane \n",
              "<br/>Rwał, wojby znałem już, potém w czas wybor rzucić. \n",
              "<br/>I z głową jak przez obliczem nie charty oczęty, \n",
              "<br/>A jak w każdéj wziąłem w środku naroszki pędzim. \n",
              "<br/>Gdy Wojski Wojskiego <font color=\"red\">--</font> Gadać za co z Rymnadzirzy \n",
              "<br/>I z łąk wiele; niech Pan nie służyć, nudzi się, zawsze \n",
              "<br/>Uszczuniłem wszyscy, ile z niepojętém dawał \n",
              "<br/>I s ręce zawsze toczy do broni obradzić, \n",
              "<br/>Z domu nora <font color=\"red\">--</font>rym do siebie nogą powiatowy. \n",
              "<br/>(Zawsze Hrabia s Sopliców; Hrabię mój Pan nie zniedzi? \n",
              "<br/>Upraniw<font color=\"red\">++</font>, to już Stolnik, to Grafie Peterburku, \n",
              "<br/>Coraz, będzie z lada sługą i w cętnicą, \n",
              "<br/>I kiedy szepne stało tylko w lasach siedzą. \n",
              "<br/>\n",
              "<br/>Wielki cichość, za szlachectwa pałożą lata. \n",
              "<br/>\n",
              "<br/>Pani Pru<font color=\"red\">++</font>, jadł szlachta? Ja Pan Bóg wy mecha \n",
              "<br/>I w domu Jacek Gerwazejąca trażowa; \n",
              "<br/>Dostałem między dwie świeków uciełował; \n",
              "<br/>Otoż na widzeno, było gościa męda; \n",
              "<br/>Na łyki zmienamy przed świesa i w dniu <font color=\"red\">--</font>gu siedząki; \n",
              "<br/>Pełen ze różna; lub kiedy siedział niepodoba. \n",
              "<br/>Widząc ją własno to najdnąć <font color=\"red\">--</font>nym świeżo maruwy. \n",
              "<br/>S Pareszku, to ten zawsze naprzód bernardyno) \n",
              "<br/>W Tadeusza nawet niemógł tylko przegrodzie. \n",
              "<br/>Niedźwiedziemy w milsach, że po niedźwiedziem skóra \n",
              "<br/>I skóra je<font color=\"red\">++</font> was na sklepieniu zagona, \n",
              "<br/>Z gęset jedną wropie jeszkać przez konarę; \n",
              "<br/>Robi się; tak kiedy pan Podkomorzy, \n",
              "<br/>Którą czuł poważnie postrzelę, jak w skórę słowie: \n",
              "<br/>Wszak wieku myślił; oni tu wszystkich odebrał zmóry, \n",
              "<br/>Dla pijawka, prawie i pięć <font color=\"red\">--</font>bo ułąga krwi ogrozie, \n",
              "<br/>Trafisz na krzycie Wojskiego, i Polskiego Pani, \n",
              "<br/>Które na seszłość i ryloty zaczynąć; \n",
              "<br/>Tonopi s górę ławę już puszczą zwierza zrobiła; \n",
              "<br/>Sewat Pan Wojski puszczyna widoczy roskrzyżował; \n",
              "<br/>Obronny trzęsamicą, i nie puszczy; \n",
              "<br/>Męszczyzni między dwie ławy na lereynym gości. \n",
              "<br/>Gości lekroć usta trawy w ręku niesrodzy; \n",
              "<br/>Męszczyzna, uparł szarak; a Grakal, tylko w robodnym \n",
              "<br/>Wacą, aż <font color=\"red\">--</font>rak <font color=\"red\">--</font>ki, ten wyobraźny przynajmniéj innéj. \n",
              "<br/>Tu potém w porządku przed lacy powiatowy, \n",
              "<br/>Wościcą się i słusząc wał <font color=\"red\">--</font>ków i indyki, \n",
              "<br/>Te padorów roskaza i strzelenie gości.) \n",
              "<br/>Stali. Wojskiego Zosi nadwira z latoju. \n",
              "<br/>Tu Wojski niepozwoba! to to trzyszkać w jéj psów szepty. \n",
              "<br/>Ach Pan Sędzia, róg był jeszcze nie widokać, \n",
              "<br/>Obmyśliłem że słuchał ukłonać obradzę. \n",
              "<br/>No, jako ludzie rozsądzić jego zucha \n",
              "<br/>Poleżył, że rozwira zawsze należy. \n",
              "<br/>Dość go miejsca wesoło gromaności świata. \n",
              "<br/>Urody było słuwił, s Panem Podkomorzy. \n",
              "<br/>Nakoli trochę s Pana Ber<font color=\"red\">++</font>"
            ],
            "text/plain": [
              "<IPython.core.display.HTML object>"
            ]
          },
          "metadata": {
            "tags": []
          }
        },
        {
          "output_type": "stream",
          "text": [
            "\n"
          ],
          "name": "stdout"
        },
        {
          "output_type": "stream",
          "text": [
            " 80%|#######9  | 2375/2970 [1:11:14<17:38,  1.78s/it, epoch=13/15, loss=2.29, bw=0.00901]"
          ],
          "name": "stderr"
        },
        {
          "output_type": "stream",
          "text": [
            "\n",
            "[70m 58s (13 2376 80%) loss=2.2922 bw=0.0099]\n"
          ],
          "name": "stdout"
        },
        {
          "output_type": "display_data",
          "data": {
            "text/html": [
              "Litwo! Ojczyzno moja! \n",
              "<br/>Wiedząc się na ten zaszedł, czy są się mury, \n",
              "<br/>A nie wiedząc krzyniemi zamiewił, lecz na małym \n",
              "<br/>Tadeusz była żywych, wąci się jak szkaki \n",
              "<br/>Powtarzano, nieznała, gdzie się cisi. \n",
              "<br/>Próżno napół do poranka <font color=\"red\">--</font> Hrabiego powiecie! \n",
              "<br/>Pragleść się, a co? oni myśli mała. \n",
              "<br/>\n",
              "<br/>W tém zapopuszcie; wszystkiemu przechowanie! \n",
              "<br/>Ja było upiękkają nie wypadto, \n",
              "<br/>Zakończony do nim strony jest powstala, \n",
              "<br/>Obadwa jadąc dniem dalekie osoby; \n",
              "<br/>Wszystko po nosie roskawym porządsami. \n",
              "<br/>\n",
              "<br/>Oba chwała Pan Hrabia webory biegł fajnicało \n",
              "<br/>Nawznak grząd mówię kilka przenoś jak kamieno. \n",
              "<br/>\n",
              "<br/>Takie było Tadeusza, Tadeusza: \n",
              "<br/>Czy podniosło rzuczyli, martwą ustąpi! \n",
              "<br/>Tak szła czego myśli, to wszystko do stolicy \n",
              "<br/>I w tym domu urządzenie, w szklanki ogary, \n",
              "<br/>Wymyśliły zaraz dęskiego i urodzą, \n",
              "<br/>A Tadeusz jeden iż <font color=\"red\">--</font>fu nalewał kowe; \n",
              "<br/>Widać że zaledwie dołostniną siedzę. \n",
              "<br/>\n",
              "<br/>Hrabia rozlety i przecież ogon w świąstwem. \n",
              "<br/>Wszystkie razem pacierz jak skalorzem <font color=\"red\">--</font>nik, \n",
              "<br/>Leżąc takie i gałępieńwych gości, \n",
              "<br/>W którze błyszczący herb Półkozic stary, \n",
              "<br/>Potém między szlachtą na świecie pociągnął drzwi.. \n",
              "<br/><font color=\"red\">--</font> Przerwał, krzyknął <font color=\"red\">--</font> wszystkim co się na lacie \n",
              "<br/>I przerwał się, krzykno łóżka i krzyk zabieza. \n",
              "<br/>Stryja, już nie mieć zamek nie należy cieli; \n",
              "<br/>Aby znajgą jakby kwiatów łalany otości, \n",
              "<br/>Jak w tém urząd, jak hułbyś gdy po porządku; \n",
              "<br/>Bez gorcu, ostatnie się swara po zbolą. \n",
              "<br/>Daléj Pańskiéj ziemi, że to był wygiął nowę! \n",
              "<br/>Udają. Pan Hrabia u<font color=\"red\">++</font> aczyją wymowach! \n",
              "<br/>Zamek, w nim spójczynia nadziei i rycha. \n",
              "<br/>Po którze pierwsze przerwała każdzi, to mówiąc; \n",
              "<br/>Nakoniec zgrowaną że marpy tak wierowy? \n",
              "<br/>\n",
              "<br/>Tak kiedy dzisiejsze <font color=\"red\">--</font> wywrócony nowy. \n",
              "<br/>\n",
              "<br/>Zamyrawirzyją zbyczów, karasta s pistolety; \n",
              "<br/>Hrabia na Hrabiego, w biegu zamek nie nogą \n",
              "<br/>Wyrwać <font color=\"red\">--</font>nął s powieka, nie we zbożowym założony. \n",
              "<br/>\n",
              "<br/>Wtém poglądają w spomie szukać, zdają się łysali, \n",
              "<br/>Nazywa mu stryli, przeprawię się sposoby \n",
              "<br/>I żegdzie wiatr parzyją w zasęchu kończą, \n",
              "<br/>Pragce wyciąpionąć s sobą poładano. \n",
              "<br/>Tadeusz mają lecz jak dziecko zajętą. \n",
              "<br/>Do młody izby przeszedł, a nie jest s placką pyli. \n",
              "<br/>Hrabia że z uła<font color=\"red\">++</font> dawnéj, na powiecie gości, \n",
              "<br/>Tadeusz że ku lasu niech ciągną bez nodze \n",
              "<br/>Która wszyscy od załowniku i zabaje. \n",
              "<br/>\n",
              "<br/>Wtém zajęliwie posłano nakształt ogrody; \n",
              "<br/>Wszystko szeroko, krewny w Bernardyna groszył, \n",
              "<br/>Wywyknie s ludzie, Tadeusz należy: \n",
              "<br/>Oba wiela? krzyknęli! ciągłoje dosyć; \n",
              "<br/>A Moskały czynownik, on miał gonią cieka, \n",
              "<br/>Zabali o nim, było wszyscy tak paleni, \n",
              "<br/>Wymyśliła kroka, potem s tych obrazów, \n",
              "<br/>Wszystkie razem ojechami wyprowadzę, \n",
              "<br/>Życie zabawił na miejscu; ciągło nie przepada. \n",
              "<br/>Pełen <font color=\"red\">--</font>czają kół surowie, saszył wschód s"
            ],
            "text/plain": [
              "<IPython.core.display.HTML object>"
            ]
          },
          "metadata": {
            "tags": []
          }
        },
        {
          "output_type": "stream",
          "text": [
            "\n"
          ],
          "name": "stdout"
        },
        {
          "output_type": "stream",
          "text": [
            " 83%|########3 | 2474/2970 [1:14:11<14:44,  1.78s/it, epoch=13/15, loss=1.94, bw=0.018] "
          ],
          "name": "stderr"
        },
        {
          "output_type": "stream",
          "text": [
            "\n",
            "[73m 56s (13 2475 83%) loss=1.9368 bw=0.0049]\n"
          ],
          "name": "stdout"
        },
        {
          "output_type": "display_data",
          "data": {
            "text/html": [
              "Litwo! Ojczyzno moja! \n",
              "<br/>Bo to sam Hrabiego Sędziego zakładził: Ciekalas Dąbrowski \n",
              "<br/>S Panie niemy, czy po téj robi z bota \n",
              "<br/>Hi<font color=\"red\">++</font> zmieny! co już z ciemnicy i mekaz usta, \n",
              "<br/>A w łorę domu pomiędzy myśliwych! \n",
              "<br/>Ile umyśkumykiem do koła spoparty, \n",
              "<br/>Gdzie zamyjała w kugu tramę świasy wyznania: \n",
              "<br/>I zaczął mu ujrzał opisałem <font color=\"red\">--</font> w nie słynął, \n",
              "<br/>I w niebytności towały się spoboru; \n",
              "<br/>Tylko skwary papier na wznak i drzwi z laty sinia, \n",
              "<br/>I objąwszy trzymał w pieczeniu odraty w wnuki \n",
              "<br/>Przez pukle, i w liczmarze, w nagłym gości siały, \n",
              "<br/>Z nim ledwie strzelców kroków i znajomość świata. \n",
              "<br/>Po łasem roskać, różną, w te upowieków, \n",
              "<br/>Podnosząc i frawie, jak len czerladków! \n",
              "<br/>Jak dwa czasu jak ludę co po francusku. \n",
              "<br/>Lecz okiem ludzi w albo Soplicowie przez stoca, \n",
              "<br/>Te szynkiem Baublis, a dosyć i rodzinie! \n",
              "<br/>Nabia ustąpi się, prawda i tak krwawa biegnie, \n",
              "<br/>Rumienił się, ciemna, i posępno w wszędzie; \n",
              "<br/>Widzi po ramion, i w tém uprowarzyno; \n",
              "<br/>Serce mu ważnych, i chwiwo wszystko się miejem \n",
              "<br/>Udal się przed niéj! i przymku maruwać! \n",
              "<br/>Teraz o tém udegę w pole i drzwi nie jadło; \n",
              "<br/>Znalazł się i jako umienia w błęków, \n",
              "<br/>Lub tyle w górę rozmową, nie ona! tak męgi \n",
              "<br/>I w jednéj łasem, ze szaszy trzykrotnym mucha \n",
              "<br/>W bie<font color=\"red\">++</font> draźku, w końcu odepchnął i z niéj rodu \n",
              "<br/>Wychokając na <font color=\"red\">--</font>dziwnéj gości zabaszcza o oczu; \n",
              "<br/>I znowu dom zaduwała; tak odmysza, \n",
              "<br/>Tylko coś wieczerzy okiem sam nie ma usza<font color=\"red\">++</font>; \n",
              "<br/>I niezarusza sęsi pojemala powieje, \n",
              "<br/>Jako pokazał obebieńtnéj traje, \n",
              "<br/>Dostrzega sęgie; ten dotychszy w ciemnicy \n",
              "<br/>Na tylu, czyni ona jak zamkomu, wpadło tak różki; \n",
              "<br/>I w tym wielkiéj rodziła, Cesi i nie w głowie, \n",
              "<br/>I strzelcy powieść do Sędzią i upienia: \n",
              "<br/>Ucili myślą w porządku i na jęki zbożowym, \n",
              "<br/>I znowu dom obojskich żółtają i laski; \n",
              "<br/>Tak obiewała rozmowni ładny ucaną, \n",
              "<br/>Z włoczewym jak ksiądz nie chciał o jaki wyniosca, \n",
              "<br/>Lecz sama gadał Zosi, jak ksiądz do Warszawy. \n",
              "<br/>\n",
              "<br/>Tak przerwał, lecz róg zrobić zostało ogórki; \n",
              "<br/>Już usta zromywał! z drzewa tłuszcza rozmowy; \n",
              "<br/>Dozał zginął w starach krótkie i unadością: \n",
              "<br/>Co też widząc wyrzekł z oczy Horeszków kontusza, \n",
              "<br/>Rzuca się po ciemnością, i miejsce po słońce. \n",
              "<br/>\n",
              "<br/>Teraz o utrzyrały groźnych wybranie; \n",
              "<br/>Lecz co był wczowa ptakiéj lub przemiety; \n",
              "<br/>Więc spokojszy kratów ogany od Hrabia schwywił, \n",
              "<br/>Każdy był z wiatrem i z łaski okrywia w buty. \n",
              "<br/>Choć na umaga gości do ust z okonanie, \n",
              "<br/>Słowem domu uchą, skoci dojrzałą wejrzenie. \n",
              "<br/>Tak Hrabia ramienia, znać się po téj gaje. \n",
              "<br/>A Hrabia widział w taki z ciemny i ciasnym! \n",
              "<br/>Już tyle mu urządzenia widziło wiele pyta: \n",
              "<br/>Grosz Hrabia w Dobrzynie, z ogród co się nowa: \n",
              "<br/>Głuże Podkomorzego, chociaż że jest uszy, \n",
              "<br/>"
            ],
            "text/plain": [
              "<IPython.core.display.HTML object>"
            ]
          },
          "metadata": {
            "tags": []
          }
        },
        {
          "output_type": "stream",
          "text": [
            "\n"
          ],
          "name": "stdout"
        },
        {
          "output_type": "stream",
          "text": [
            " 87%|########6 | 2573/2970 [1:17:09<11:45,  1.78s/it, epoch=14/15, loss=1.69, bw=0.027]"
          ],
          "name": "stderr"
        },
        {
          "output_type": "stream",
          "text": [
            "\n",
            "[76m 53s (14 2574 86%) loss=1.6889 bw=0.0099]\n"
          ],
          "name": "stdout"
        },
        {
          "output_type": "display_data",
          "data": {
            "text/html": [
              "Litwo! Ojczyzno moja! \n",
              "<br/>I że go tak i sługą nabył się z nieba \n",
              "<br/>Starą, lecz dotąd luga z mamencia zwoje \n",
              "<br/>Z wielki, jak na kolana i czarne filiżanki, \n",
              "<br/>Niekońjazał z nich melicy, gdy o tyle; \n",
              "<br/>Tylko rozmów o śmiersa, więc w kotlicy wywica: \n",
              "<br/>Bo ów człowiek wyczcicia, lecz przyrosł do noclicy, \n",
              "<br/>I vipuszczał, ma komedyę zapas saziorki, \n",
              "<br/>A małą mu usta wpółgłośne ręki białe, \n",
              "<br/>Korywasówskim nigdy na moim nowa rada, \n",
              "<br/>Tylko ramiona silny, lecz serca korować, \n",
              "<br/>Grzeliwcocznikę, jak kotłem że pies mawodu, \n",
              "<br/>Gdy Ropem strzelali: bo zwierz Hrabia z zabłysnął, \n",
              "<br/>I porcho wziął blażącéj nakształt ściany bodzy, \n",
              "<br/>Jeden drugiemu nie jest śmieszyć, jak wosiewy, \n",
              "<br/>Usta coś mugary jak wąż <font color=\"red\">--</font>fekrzynach. \n",
              "<br/>Jak Podkomorzy jak grzeczcę, ukląkł i ziemi \n",
              "<br/>I mniej mówił domem, pan go długi, \n",
              "<br/>Pod szlacheckiemi, jak gdyby szerokie lasy, \n",
              "<br/>Nie noje całe miejsca jak śnieg biegł puszkiem źwieką, \n",
              "<br/>I vi<font color=\"red\">++</font> ry<font color=\"red\">++</font> rąk i piepy jak kokita \n",
              "<br/>Z konych kędy liś<font color=\"red\">++</font> szyb, i kołkiem kołożyć; \n",
              "<br/>Ja za mną (jak zajazd, aż Wageczniej<font color=\"red\">++</font> drzew, \n",
              "<br/>W I nowa ralarska, w którym domyswnie wrozuna, \n",
              "<br/>Nawet grzeczność, i kręcił oczy szerokie nowy: \n",
              "<br/>W Nakoniec przyznaniu są go za to śmiecie, \n",
              "<br/>A potém go abić Sędzia; a kto należy zna się nieczynka \n",
              "<br/>Stawał się, bo na wilniach kraju, żem domu ni strona. \n",
              "<br/>Dobra z Grzeczność i waltem z gniecznym nowy: \n",
              "<br/>Kolor nową w koła spoziera, rozzał piekiem ryki, \n",
              "<br/>I pnie bursztyby świeciły sobie po koryru. \n",
              "<br/>Ukazał się zdziwiona osobna wychywała, \n",
              "<br/>A z nim żywo i w rozchody zabaszków, \n",
              "<br/>Jak drzew, lecz nagastnik jeszcze do przezwystwa. \n",
              "<br/>A potém rzamiają swe dotknąć niebodziany, \n",
              "<br/>Tyle pewna w koło ławy i urzędy; \n",
              "<br/>Nigdy na sobą poszczuła wody żoł<font color=\"red\">++</font> dziuna \n",
              "<br/>Wychowana, wyzwała z nim niemiał osobcem, \n",
              "<br/>A potém w pieszego dzika: kiedy po kądzieli. \n",
              "<br/>W tamtéj, już tylko jako woda zdale<font color=\"red\">++</font>, \n",
              "<br/>Dręnąwszy jeden każdego Tolicy »\n",
              "<br/>Po polowaniu są za drzewu ledwo nieco, \n",
              "<br/>Jak kot gdy ugłosy i skargi <font color=\"red\">--</font>ce: \n",
              "<br/>Jak ich strorzyny roschyliwnowym \n",
              "<br/>I inna po kąsy, stąd na pletego wnioski \n",
              "<br/>Ledwo na nich i grugany kocha się strzelło, \n",
              "<br/>Bo Sędzia krzyknął, czy jak rozmowny, igawary; \n",
              "<br/>Wymyśliła mu się daleki i uchem, \n",
              "<br/>Tylko wachali: Tadeusza do Podkomorzemu, \n",
              "<br/>Z nim było nazwawał, sobie jako odmieci \n",
              "<br/>Kosa, sam stadą źwiery, jak rzązów dla młorze, \n",
              "<br/>Jak kot z zagona czadzić i drzwi na dłonie, \n",
              "<br/>Nowa przy głos, Sędzia zaś z drugiéj do Warszawy. \n",
              "<br/>Sędziego oniegał i po gromie uśmiechem, \n",
              "<br/>Na drugą do kratą, ale są dalewi \n",
              "<br/>Rozeszła się na ziemi drodu <font color=\"red\">--</font> Doweyce, \n",
              "<br/>Tam na nich poszczuli, bo nagłym częcze żarcie \n",
              "<br/>W końcu? to mówiąc domu? Dla Domeybia; \n",
              "<br/>Lecz Tadeusz jeżeli nie polu; \n",
              "<br/>Teraz niewiém do Alpów przy Al<font color=\"red\">++</font>"
            ],
            "text/plain": [
              "<IPython.core.display.HTML object>"
            ]
          },
          "metadata": {
            "tags": []
          }
        },
        {
          "output_type": "stream",
          "text": [
            "\n"
          ],
          "name": "stdout"
        },
        {
          "output_type": "stream",
          "text": [
            " 90%|########9 | 2672/2970 [1:20:06<08:52,  1.79s/it, epoch=14/15, loss=0.915, bw=0.018]"
          ],
          "name": "stderr"
        },
        {
          "output_type": "stream",
          "text": [
            "\n",
            "[79m 51s (14 2673 90%) loss=0.9151 bw=0.0069]\n"
          ],
          "name": "stdout"
        },
        {
          "output_type": "display_data",
          "data": {
            "text/html": [
              "Litwo! Ojczyzno moja! \n",
              "<br/>Jako wozem s przewrót: Hrabia podkomorzy, \n",
              "<br/>« Pan Pan Sędzia; stare nielubił byłem \n",
              "<br/>Patrzą, zamek mówiąc, z oczy Sędziemu \n",
              "<br/>Których startrojąc na oko, podobne do lasu, \n",
              "<br/>(W brzegu niewypudę ścisnięwał; widać z laty, \n",
              "<br/>Rzekł Klucznik do siebie gromadę nowina, \n",
              "<br/>S której zielocemi ogród się dziedamy; \n",
              "<br/>Oboje goczeć swoje, wachlarz piebasowa \n",
              "<br/>Z ramion, dwógane jakimś krwawość którą czuło! \n",
              "<br/>Jakby płałością wdzię<font color=\"red\">++</font> spraża drzew i dubił. \n",
              "<br/>Bernardyn zmóżywka, że stryj z zamku chowił, \n",
              "<br/>Do pałamiast po cesarza, kręcimi wężowisk. \n",
              "<br/>Dwie sądzie robić, wyskoczył s tyłu cztery. \n",
              "<br/>Podkomorzy krąwą krótki z widok wysięliwne, \n",
              "<br/>A już skońcić, więc z oczu dowań nakole; \n",
              "<br/>Szczęściem bykać oważa posają okiem. \n",
              "<br/>\n",
              "<br/>Widać było że nam przyszłych nola z ogary, \n",
              "<br/>Podomowa <font color=\"red\">--</font> ci ptatycy zasłone wykrzyja, \n",
              "<br/>Idąc się na rochu, tylko dumika. \n",
              "<br/>Zaczęli po czasu główków słuchać w oczy; \n",
              "<br/>Opawano, z ziemi, pierwsze pawich <font color=\"red\">--</font>nych, \n",
              "<br/>Niby jutro złote, wybuływać częmiety, \n",
              "<br/>A strzelcy wysywanie króle s polu, \n",
              "<br/>Lub tylko wszęwa, hajrzała, tylko cały gospodarza. \n",
              "<br/>Niebododział Pan Rejent wiodł Tysterskim stołu. \n",
              "<br/>\n",
              "<br/>Niebyło wesdne na stołu, podróżnie w zamczyska, \n",
              "<br/>Że tak były coraz sroższych zaczęły wymoja. \n",
              "<br/>\n",
              "<br/>Weszli w obczasem konka i z drzwi wykazał wysoki, \n",
              "<br/>Na palcu, kwestarz, wynalany chmury; \n",
              "<br/>Zerwał się trąka, kitre się o rolene zdjęty \n",
              "<br/>Łachego, które na plac nauki do stoła \n",
              "<br/>Odezwały się trąbę. Robak s pochychu \n",
              "<br/>Na kogoś, często siaciała, tak tylko nalera. \n",
              "<br/>\n",
              "<br/>W ślad daście w miejscu nagle mowy, \n",
              "<br/>I pan Hrabia w krzescu rozlizany odkradta, \n",
              "<br/>Żeby się samową towania: czy to blisko, \n",
              "<br/>Ale trafił s pochygo doręczy? \n",
              "<br/>W sabie jak półcało, w Tadeusza Ryskich! \n",
              "<br/>Tylko usłyszał: lecz mu Pan Podkomorzym \n",
              "<br/>Wamiennym kapelużyt<font color=\"red\">++</font>, tubacemu rodzina \n",
              "<br/>Po prawéj rogały nowe, porządek wypad<font color=\"red\">++</font>, \n",
              "<br/>Lecz dostał wziął się przy ogród; aż za oczy \n",
              "<br/>Pokazał się Hrabię i Rejent, był ów myśli Ce<font color=\"red\">++</font> dwoniem, \n",
              "<br/>Dobrze młodzież, procesczał, jął śród ładu <font color=\"red\">--</font> \n",
              "<br/>Słychać co był myślą? szukać Telimena. \n",
              "<br/>Słuchając razem dumucę, lecz s Panów słorze \n",
              "<br/>Poligali szlachcica, cóż z resztę zabazy, \n",
              "<br/>Aż je wiatr i na palcami w góry psy pod dziechem, \n",
              "<br/>A wśrodki jak wąż jak rywitów, jak kolana \n",
              "<br/>Dla argiem rytutów, jak na kołach szybka. \n",
              "<br/>\n",
              "<br/>Nauczę ciebie pierwsza. Tak owa zwyknia \n",
              "<br/>Że Hrabia z razem, upewił się nie daje, \n",
              "<br/>Pierwszy raz na nich, był to myśliwi w powiecie, \n",
              "<br/>Ile słychać myśliwców herbosa: należy, \n",
              "<br/>A już ruch odmykaniem. Więc Rejent w gnieli \n",
              "<br/>Miłował przed nim i widzenia tak strzelecki, \n",
              "<br/>Często tywania karczmę, w lewo obławy, \n",
              "<br/>Rzekłbyś gdy jemów Panny,"
            ],
            "text/plain": [
              "<IPython.core.display.HTML object>"
            ]
          },
          "metadata": {
            "tags": []
          }
        },
        {
          "output_type": "stream",
          "text": [
            "\n"
          ],
          "name": "stdout"
        },
        {
          "output_type": "stream",
          "text": [
            " 93%|#########3| 2771/2970 [1:23:04<05:53,  1.78s/it, epoch=15/15, loss=1.83, bw=0.00901]"
          ],
          "name": "stderr"
        },
        {
          "output_type": "stream",
          "text": [
            "\n",
            "[82m 48s (15 2772 93%) loss=1.8254 bw=0.0040]\n"
          ],
          "name": "stdout"
        },
        {
          "output_type": "display_data",
          "data": {
            "text/html": [
              "Litwo! Ojczyzno moja! \n",
              "<br/>On jeszcze o wspiął, a wzdymili <font color=\"red\">--</font> do mszy krzepła: \n",
              "<br/>Dziawnież jeden człowiek dalecy powiaszył pono! \n",
              "<br/>Czy tabakierę; lecz to nie odpody! \n",
              "<br/>Bo nie tu do nas już powstać, lecz s Pańskim nodzie, \n",
              "<br/>Obronty, wylitą, lecz domo osoba; \n",
              "<br/>Już rąk zewnątrz, prawa i razem rodzinie \n",
              "<br/>Coś złotek słychać ku nim, tak jak na kolany. \n",
              "<br/>\n",
              "<br/>Tu myśliwi stała nad dwóch, w satyę ugania, \n",
              "<br/>Ów półk, co szlachty się niezapić widzą sługi. \n",
              "<br/>Darmo zaś obrzewy wchostym lata chletunu, \n",
              "<br/>Który ma sernęła, jak zwiesiny, daj w gaju \n",
              "<br/>Dojeżdżała często, jak śnieg i badylów \n",
              "<br/>I ząbki, leżą w las, jako citę grugania \n",
              "<br/>Jak się Horeszkowstwo i Hrabiego zmysza, \n",
              "<br/>I widać było ona o jastkiém głęboko \n",
              "<br/>I po szlacheckie, jak cała <font color=\"red\">--</font>trorady, \n",
              "<br/>W głowa późbę, bo ksiądz pozwoliwi z góry. \n",
              "<br/>Po chwili paw siedział, wiedząc było doświadczeni, \n",
              "<br/>Tylko to miała ukląkł, podobno z oczu, \n",
              "<br/>Ochozy i czuł nienaszpił twota na chmurę, \n",
              "<br/>Zbladł i Tadeusz rzekła:« to była rykku: \n",
              "<br/>Ja nie pomiędzy zmyli, na pomi jemi, \n",
              "<br/>Te małych! co zwierz sług poobi spuszcza spocha. \n",
              "<br/>\n",
              "<br/>Teraz sam będę okobia, ogon mu będę, \n",
              "<br/>Odniewiała nieco posłyszał zamnieli, \n",
              "<br/>Wstrzylisz w postach: to dokuwić, czy ma to wieczerzy, \n",
              "<br/>Bo to umyśzał, a to nazyje zagona, \n",
              "<br/>Tak byli po pudnym końcu grubę; z blanany. \n",
              "<br/>\n",
              "<br/>Krzyk ptaki lecz powiekała młodzieńca s protami. \n",
              "<br/>\n",
              "<br/>W nogi i s postrzeloném papier na stowaniu. \n",
              "<br/>Ogrodnili z groźny coraz <font color=\"red\">--</font>ki do czasu. \n",
              "<br/>\n",
              "<br/>Lecz za nim stała, to szukaniu dawną; \n",
              "<br/>Lecz pomiędzy wiwat Hrabia tym radonia, \n",
              "<br/>Wstrzysznej i Rejtan pierwsi z Horeszkiem przysłolą. \n",
              "<br/>\n",
              "<br/>Weszli w sień runi s <font color=\"red\">--</font>chciał, więc z Hrabia z uwagi. \n",
              "<br/>On Tadeusz przybiegła czy s tyłu radać, \n",
              "<br/>Pierwstawili była papier ze cztery tą ławą, \n",
              "<br/>Wstrzymali się; widać że tak swych stania potory, \n",
              "<br/>I przysięgli strzelać się w porządku pilli; \n",
              "<br/>On lubił porwał; nasze z kudni starowy; \n",
              "<br/>Ale w bitwie miał ochodził w las wychostrzeli. \n",
              "<br/>Potém Hrabia gażąkiem do ładu, obapiały! \n",
              "<br/>Gotorza się jak łuk s budowie i stoją po dworze, \n",
              "<br/>Ze zagniewany, oba wstydą s Panów włosem \n",
              "<br/>Utonął w całym tabakiery powiem śmiały. \n",
              "<br/>Po sercu, w czasach jak na cuku tak szyję, \n",
              "<br/>I Hrabia brali myśliwców niewydarnił. \n",
              "<br/>Rada wszystkich głowę sokuwać zasłoną; \n",
              "<br/>Szczęściem była zajętami odryje ukotociała, \n",
              "<br/>Te strony coraz ją o swych wypraw wymieści, \n",
              "<br/>Dostrzegła szczębaczom obrazów i gadatsza, \n",
              "<br/>Aż z rąk jak po chwicznofarbnych strzebne blada, \n",
              "<br/>Bo Hrabia pierwię tak okno, ale w ten starzy \n",
              "<br/>Miała bez wiamienia, często, w ręce panonikiem, \n",
              "<br/>I licone ramiona był okiem wzroku, \n",
              "<br/>Pierwszy raz przysłowia, oprócz Panów dwory, \n",
              "<br/>Odpadła tego papier i owad czasie! \n",
              "<br/>Ja była niezaciwne dostanie"
            ],
            "text/plain": [
              "<IPython.core.display.HTML object>"
            ]
          },
          "metadata": {
            "tags": []
          }
        },
        {
          "output_type": "stream",
          "text": [
            "\n"
          ],
          "name": "stdout"
        },
        {
          "output_type": "stream",
          "text": [
            " 97%|#########6| 2870/2970 [1:26:01<02:58,  1.78s/it, epoch=15/15, loss=1.76, bw=0.00901]"
          ],
          "name": "stderr"
        },
        {
          "output_type": "stream",
          "text": [
            "\n",
            "[85m 45s (15 2871 96%) loss=1.7586 bw=0.0079]\n"
          ],
          "name": "stdout"
        },
        {
          "output_type": "display_data",
          "data": {
            "text/html": [
              "Litwo! Ojczyzno moja! \n",
              "<br/>Tak ją usta tużebę! wszystkim wywasza. \n",
              "<br/>\n",
              "<br/>Wojski to sługą do Sędzia, miał jeszcze do góry \n",
              "<br/>Żuże i téj towarzystwo niespodnoczy \n",
              "<br/>Zlanych puszcz stołością, w butenemi wzglęry, \n",
              "<br/>Lecz znowu fajt niepowiedział niebęlicę <font color=\"red\">--</font> zwyżył, \n",
              "<br/>Ale gdzie umyśmorzy porządek swoim śmiela, \n",
              "<br/>Które podobne budował; zerwał się w nodze \n",
              "<br/>Jeden drugiemi okiem jakby był zdadocząc; \n",
              "<br/>Porwał, środkiem spotkać dawne rękała, \n",
              "<br/>Dodałem więc na pół przyrzekki na progu, \n",
              "<br/>A tak, krzyży do Podkomorzym miedzą, \n",
              "<br/>Niechaj Sędziego i nieruchomy wysone, \n",
              "<br/>Że niedźwiedź pana, bo stoło w posiedzi. \n",
              "<br/>Wiedziała się spome wybuści z nim było; \n",
              "<br/>A wtenczas pono mu był znacają się chronia, \n",
              "<br/>Dodząc drugą do niéj opapu tym paz<font color=\"red\">++</font> uszu. \n",
              "<br/>\n",
              "<br/>Sędzia rzecz sprawę nawodania będzie broń, \n",
              "<br/>Choć w śmielikach darocznych, ni szedł poglądał. \n",
              "<br/>Sam wojby inno powody zwierza wiebie że niebyły \n",
              "<br/>Pamiętam dosiarzony, chociaż że tak jeszcze sługi. \n",
              "<br/>Przerwał mu Rejentem wzmogłszy się i sąsiera. \n",
              "<br/>Wojski dojeżdżaczy i starych nosił ich miało! \n",
              "<br/>Oto niemodział stary, odsłużył s Kudowie, \n",
              "<br/>Dojeżdżawa, i czyje za szaby palkadnie? \n",
              "<br/>Więc do posiedu była zawodzić w przesób. \n",
              "<br/>\n",
              "<br/>Ja w zgrało strzelcy nie będzie do ogrodu, \n",
              "<br/>Ażeby mu przyłosi spotlony wystramania, \n",
              "<br/>Jak gdyby pomyśgał, obejdę do złoty; \n",
              "<br/>Więc do poranka Sędziego zawsze z nim skłónął, \n",
              "<br/>A co? prawo, s tyłu po nowoda; \n",
              "<br/>Więc Sędzia choć zakowiu. Że Pan nie gonił. \n",
              "<br/>Dobra młodzi, dziewreszków szaraki, \n",
              "<br/>A niemogą jakieś domy, domikają mirzynie, \n",
              "<br/>I umil<font color=\"red\">++</font> sędziego jasne Sokołowa. \n",
              "<br/>\n",
              "<br/><font color=\"red\">--</font>Ni, jako blisko <font color=\"red\">--</font>biaci i wieczerzą czeka. \n",
              "<br/>Dawniéj zamek krzycząc Pan Robak zgice na parkanie, \n",
              "<br/>Jako podoba do <font color=\"red\">--</font>bie. S Jankiela mieście: \n",
              "<br/>Budreli tylko spoczenie, niech się dowodza \n",
              "<br/>Dowodę pomiędzy gniazdomo się zamanił. \n",
              "<br/>Pazurze w dalekim krewnym się przemoru \n",
              "<br/>Stało i serce dawne toła widnym szyny, \n",
              "<br/>Czy jeśli tak? Pan Wojski zbierał _muchomory_. \n",
              "<br/>\n",
              "<br/>Wojski stary miał na płaszkowskiéj na polowanie, \n",
              "<br/>Wznoszą się w oczy Wojskiego młodzież do stolicy, \n",
              "<br/>Stara się spoczeda. Więc Rejent na stół pocacze \n",
              "<br/>Zginął Rejent, był też Panie, bo wychylał, \n",
              "<br/>Więc s tyłu tak, gdy już nie zniedząc do uboszu. \n",
              "<br/>\n",
              "<br/>Assessor zrobiła posłyszał Hrabia, \n",
              "<br/>Ale więc do biemienia, mawiał zakliciem, \n",
              "<br/>Lecz niesą trudni Mości Dobrodziéj, lecz głowy strzewał, \n",
              "<br/>Więc przerwa rozmów <font color=\"red\">--</font>ką dotąd domowi odznają; \n",
              "<br/>Docieno dwie ławę, szumy, dotąd wypana, \n",
              "<br/>Dobrze na dwóch łaty, już w karczmie, gdzie s swe mieszka \n",
              "<br/>Podobne wywieść, tam krzyczym s polu; \n",
              "<br/>A co między dwie ławę jego domu dole: \n",
              "<br/>Blisko myśliwiec miejsca między wieczetów świewił. \n",
              "<br/>We stolu oba siedział, zawsze aż do Wilry. \n",
              "<br/>Chłodził się strzelby, powody jako wie<font color=\"red\">++</font>"
            ],
            "text/plain": [
              "<IPython.core.display.HTML object>"
            ]
          },
          "metadata": {
            "tags": []
          }
        },
        {
          "output_type": "stream",
          "text": [
            "\n"
          ],
          "name": "stdout"
        },
        {
          "output_type": "stream",
          "text": [
            "100%|#########9| 2969/2970 [1:28:59<00:01,  1.78s/it, epoch=16/15, loss=1.02, bw=0.00901]"
          ],
          "name": "stderr"
        },
        {
          "output_type": "stream",
          "text": [
            "\n",
            "[88m 43s (16 2970 100%) loss=1.0152 bw=0.0020]\n"
          ],
          "name": "stdout"
        },
        {
          "output_type": "display_data",
          "data": {
            "text/html": [
              "Litwo! Ojczyzno moja! \n",
              "<br/>To miejsce, i zaraz, to korzywe wywiedzą. \n",
              "<br/>Tam derkacz wrzasnął za stolku pilnie się mało. \n",
              "<br/>Bo ja sam usływano w tarakach koło prosi, \n",
              "<br/>Usta przyszli pobuszony udzą się obodów, \n",
              "<br/>Nieśmieli młogą od ich pośmieszkami w boru, \n",
              "<br/>Idąc się i zawsze przyjechał na pomy; \n",
              "<br/>Poszli w tego stanął należy, nie ona przysłonił, \n",
              "<br/>Że się powszechnie lecz w domu się zagnieźwił. \n",
              "<br/>Sędzia tylko w domu: podbywając, gdzie na dawa \n",
              "<br/>Usnął się nabyło; wtém ogień niewisu \n",
              "<br/>Gocy rąk że czekami naprawił s Panem niema \n",
              "<br/>Gonią _bonicznego Woźny, już nie się w moim \n",
              "<br/>Serce dawnych usług sterczy tak na rypie, \n",
              "<br/>Strzelbę przecież do niéj idzie w krajomy oklasczył, \n",
              "<br/>Jeżsto co w pochody szklanty i ołopu; \n",
              "<br/>Van nich podnocznie rzucał się mości powieści, \n",
              "<br/>Każdy wieczerzy niech Hrabiego nie tarszą; \n",
              "<br/>Bo Sędzia dotąd słuchał było pomłócemu. \n",
              "<br/>Bo wracają mu stałem:« Pan niepotrzebna \n",
              "<br/>Starojadki_ swoje; bo nie nazyje kocha. \n",
              "<br/>Słudzy człowiek custwo w milczenie sługi. \n",
              "<br/>\n",
              "<br/>Już niejest! Wojski zbadał, od Soplica z ubotona, \n",
              "<br/>Kiedy myśliwych w zamczyskiéj kwiatek zapumano, \n",
              "<br/>Lecz to sługa na opieki, co go wyszedł narogadzić. \n",
              "<br/>To byłem stał że wszyscy zocuska chował; \n",
              "<br/>Tadeusz poglądał na rychu moskała \n",
              "<br/>Któremu po drogu drodzi: co to szukała; \n",
              "<br/>Lecz nie była tajemnicza wzrok narogi. \n",
              "<br/>\n",
              "<br/>« Ba, rzekłem, że my nie z jéj ciekami zwonia: \n",
              "<br/>Już nie było nawet mych przodki co był czasu. \n",
              "<br/>Podkomorzy i Hrabiemu odbiérać ciekaje! \n",
              "<br/>Rzekł! uznawać z ziemu, okiem nosił koło! \n",
              "<br/>A to nic nie słyszę, skoro uczuł że nabi cierać, \n",
              "<br/>Nawet niesą pierwsi nazad w lasach przystałość. \n",
              "<br/>Spojrzał za palcaszczajach i zwasa przebudzenie. \n",
              "<br/>On ludzi w ręku ogień wielki, do stołu pańbaków! \n",
              "<br/>Czy wyprawa do siebie. \n",
              "<br/>Podobny był człowiek! tu szakoro wieży; \n",
              "<br/>W próżni poczciżomy nudy nierodząc; \n",
              "<br/>Jeśli też przynajmniéj tajemnę majowość \n",
              "<br/>Stanie s pokowiali; co inna ochodzi. \n",
              "<br/>W mym domu wielicy <font color=\"red\">--</font> naraz z wielu konszy, \n",
              "<br/>I szła chwałopiony zgrzywolną ogrodu: \n",
              "<br/>Dziwna jéj przyrodziła oroine cieki, \n",
              "<br/>Polany wyglądają jak bajomi; \n",
              "<br/>Myśliłem że ach nie powstała na słońca. \n",
              "<br/>Jak ów też nieprzyjagi dla laty odmówił, \n",
              "<br/>Odgadnęła całe jakby nawodnym lasu. \n",
              "<br/>Tadeusz odwróciwszy się przez oboje. \n",
              "<br/>Żyd razem obróciwnych! tak się musy! \n",
              "<br/>Witał wchoje chyba, jakby pokryjomu nudem. \n",
              "<br/>Bo to szlachta uczcirać piożonem w końcu dwory. \n",
              "<br/>\n",
              "<br/>W nieczynności! żem Hrabia wpadli w piersie! \n",
              "<br/>Popuszcza w pośrodku, a nie surował! \n",
              "<br/>Umilkli mniejka, co też niezarzyli usta, \n",
              "<br/>Chart jak wysmukłego jeska; <font color=\"red\">--</font> tak zarętać piacze \n",
              "<br/>Takie i potętycznych? był to łamarki, \n",
              "<br/>To potém użyć światą. »W drugiéj zerwie Tadeusza \n",
              "<br/>Horeszków dawny i urządzić dwory."
            ],
            "text/plain": [
              "<IPython.core.display.HTML object>"
            ]
          },
          "metadata": {
            "tags": []
          }
        },
        {
          "output_type": "stream",
          "text": [
            "\n"
          ],
          "name": "stdout"
        },
        {
          "output_type": "stream",
          "text": [
            ""
          ],
          "name": "stderr"
        }
      ]
    },
    {
      "cell_type": "markdown",
      "metadata": {
        "id": "dXrPD94SXM5m",
        "colab_type": "text"
      },
      "source": [
        "### Kreślenie wartości straty\n",
        "\n",
        "Wykreślanie historii straty z `all_losses` pokazuje uczenie sieci:"
      ]
    },
    {
      "cell_type": "code",
      "metadata": {
        "id": "meKCxPo3XM5n",
        "colab_type": "code",
        "colab": {
          "base_uri": "https://localhost:8080/",
          "height": 443
        },
        "outputId": "39d389ad-2eae-42ec-df60-3c15105dd25d"
      },
      "source": [
        "plt.figure()\n",
        "plt.plot(all_losses)"
      ],
      "execution_count": 55,
      "outputs": [
        {
          "output_type": "execute_result",
          "data": {
            "text/plain": [
              "[<matplotlib.lines.Line2D at 0x7fe5b17abda0>]"
            ]
          },
          "metadata": {
            "tags": []
          },
          "execution_count": 55
        },
        {
          "output_type": "display_data",
          "data": {
            "image/png": "[encoded data removed]",
            "text/plain": [
              "<Figure size 640x480 with 1 Axes>"
            ]
          },
          "metadata": {
            "tags": []
          }
        }
      ]
    },
    {
      "cell_type": "markdown",
      "metadata": {
        "id": "WabkwPqZ5WlH",
        "colab_type": "text"
      },
      "source": [
        "### Zapis i odczyt sieci"
      ]
    },
    {
      "cell_type": "markdown",
      "metadata": {
        "id": "EtK-9BuuB-GX",
        "colab_type": "text"
      },
      "source": [
        "#### Zapisanie sieci"
      ]
    },
    {
      "cell_type": "code",
      "metadata": {
        "id": "aSA3Utpc6dXV",
        "colab_type": "code",
        "colab": {
          "base_uri": "https://localhost:8080/",
          "height": 52
        },
        "outputId": "51849e62-aa4f-4002-ee91-44c2ba331b3b"
      },
      "source": [
        "# n_epochs=15\n",
        "\n",
        "ALLTOKS, MODEL = ['all_tokens', 'model']\n",
        "fn_pan_tadeusz = {ALLTOKS: f'all_tokens.n{n_tokens}.pan_tadeusz.p', \n",
        "                  MODEL: f'pan_tadeusz.h{hidden_size}.l{n_layers}.e{n_epochs}.gpu.torch'}\n",
        "fn_dict = fn_pan_tadeusz; fn_dict"
      ],
      "execution_count": 56,
      "outputs": [
        {
          "output_type": "execute_result",
          "data": {
            "text/plain": [
              "{'all_tokens': 'all_tokens.n5059.pan_tadeusz.p',\n",
              " 'model': 'pan_tadeusz.h500.l3.e15.gpu.torch'}"
            ]
          },
          "metadata": {
            "tags": []
          },
          "execution_count": 56
        }
      ]
    },
    {
      "cell_type": "code",
      "metadata": {
        "id": "XJ-j5_4I6d0g",
        "colab_type": "code",
        "colab": {}
      },
      "source": [
        "# save all_tokens\n",
        "all_tokens_path = tmp_path / fn_dict[ALLTOKS]\n",
        "pickle.dump(all_tokens, open(all_tokens_path, 'wb'))\n",
        "\n",
        "warnings.filterwarnings('ignore')\n",
        "\n",
        "# save model\n",
        "model_path = tmp_path / fn_dict[MODEL]\n",
        "torch.save(decoder, model_path)"
      ],
      "execution_count": 0,
      "outputs": []
    },
    {
      "cell_type": "code",
      "metadata": {
        "id": "Dt8_7GshWi4M",
        "colab_type": "code",
        "colab": {
          "base_uri": "https://localhost:8080/",
          "height": 212
        },
        "outputId": "f48a5db1-fbda-43d8-f3e9-de7c94cdd5b1"
      },
      "source": [
        "ls -lah $tmp_path"
      ],
      "execution_count": 58,
      "outputs": [
        {
          "output_type": "stream",
          "text": [
            "total 106M\n",
            "drwxr-xr-x 2 root root 4.0K Nov 23 00:34 \u001b[0m\u001b[01;34m.\u001b[0m/\n",
            "drwxr-xr-x 3 root root 4.0K Nov 22 23:01 \u001b[01;34m..\u001b[0m/\n",
            "-rw-r--r-- 1 root root  63K Nov 22 22:44 all_tokens.n4064.witkacy_szewcy.p\n",
            "-rw-r--r-- 1 root root  80K Nov 23 00:34 all_tokens.n5059.pan_tadeusz.p\n",
            "-rw-r--r-- 1 root root 5.4K Nov 23 00:32 e_syl.txt\n",
            "-rw-r--r-- 1 root root  37M Nov 23 00:34 pan_tadeusz.h500.l3.e15.gpu.torch\n",
            "-rw-r--r-- 1 root root  37M Nov 22 22:44 pan_tadeusz.h500.l3.e20.gpu.torch\n",
            "-rw-r--r-- 1 root root   35 Nov 22 23:03 tmp_text_caps1.txt\n",
            "-rw-r--r-- 1 root root   56 Nov 22 23:03 tmp_text_syl1.txt\n",
            "-rw-r--r-- 1 root root  33M Nov 22 22:44 witkacy_szewcy.h500.l3.e11.gpu.torch\n"
          ],
          "name": "stdout"
        }
      ]
    },
    {
      "cell_type": "code",
      "metadata": {
        "id": "qHbGgVULB_cp",
        "colab_type": "code",
        "colab": {
          "base_uri": "https://localhost:8080/",
          "height": 106
        },
        "outputId": "4b902446-ca61-475e-befa-42ac17a765e1"
      },
      "source": [
        "decoder.state_dict"
      ],
      "execution_count": 59,
      "outputs": [
        {
          "output_type": "execute_result",
          "data": {
            "text/plain": [
              "<bound method Module.state_dict of RNN(\n",
              "  (encoder): Embedding(5059, 500)\n",
              "  (gru): GRU(500, 500, num_layers=3)\n",
              "  (decoder): Linear(in_features=500, out_features=5059, bias=True)\n",
              ")>"
            ]
          },
          "metadata": {
            "tags": []
          },
          "execution_count": 59
        }
      ]
    },
    {
      "cell_type": "markdown",
      "metadata": {
        "id": "BalhBXFKfErp",
        "colab_type": "text"
      },
      "source": [
        "#### Załadowanie sieci"
      ]
    },
    {
      "cell_type": "code",
      "metadata": {
        "id": "hk7EWQXmgfdB",
        "colab_type": "code",
        "colab": {
          "base_uri": "https://localhost:8080/",
          "height": 212
        },
        "outputId": "2214d665-013c-467f-935a-89cc14300ea6"
      },
      "source": [
        "ls -lah $tmp_path"
      ],
      "execution_count": 60,
      "outputs": [
        {
          "output_type": "stream",
          "text": [
            "total 106M\n",
            "drwxr-xr-x 2 root root 4.0K Nov 23 00:34 \u001b[0m\u001b[01;34m.\u001b[0m/\n",
            "drwxr-xr-x 3 root root 4.0K Nov 22 23:01 \u001b[01;34m..\u001b[0m/\n",
            "-rw-r--r-- 1 root root  63K Nov 22 22:44 all_tokens.n4064.witkacy_szewcy.p\n",
            "-rw-r--r-- 1 root root  80K Nov 23 00:34 all_tokens.n5059.pan_tadeusz.p\n",
            "-rw-r--r-- 1 root root 5.4K Nov 23 00:32 e_syl.txt\n",
            "-rw-r--r-- 1 root root  37M Nov 23 00:34 pan_tadeusz.h500.l3.e15.gpu.torch\n",
            "-rw-r--r-- 1 root root  37M Nov 22 22:44 pan_tadeusz.h500.l3.e20.gpu.torch\n",
            "-rw-r--r-- 1 root root   35 Nov 22 23:03 tmp_text_caps1.txt\n",
            "-rw-r--r-- 1 root root   56 Nov 22 23:03 tmp_text_syl1.txt\n",
            "-rw-r--r-- 1 root root  33M Nov 22 22:44 witkacy_szewcy.h500.l3.e11.gpu.torch\n"
          ],
          "name": "stdout"
        }
      ]
    },
    {
      "cell_type": "code",
      "metadata": {
        "id": "67lBaaQ1gg3B",
        "colab_type": "code",
        "colab": {
          "base_uri": "https://localhost:8080/",
          "height": 52
        },
        "outputId": "831b69ed-7a20-45a2-e67a-4cece4a2ebe5"
      },
      "source": [
        "n_epochs=20\n",
        "ALLTOKS, MODEL = ['all_tokens', 'model']\n",
        "fn_pan_tadeusz = {ALLTOKS: f'all_tokens.n{n_tokens}.pan_tadeusz.p', \n",
        "                  MODEL: f'pan_tadeusz.h{hidden_size}.l{n_layers}.e{n_epochs}.gpu.torch'}\n",
        "fn_dict = fn_pan_tadeusz; fn_dict"
      ],
      "execution_count": 61,
      "outputs": [
        {
          "output_type": "execute_result",
          "data": {
            "text/plain": [
              "{'all_tokens': 'all_tokens.n5059.pan_tadeusz.p',\n",
              " 'model': 'pan_tadeusz.h500.l3.e20.gpu.torch'}"
            ]
          },
          "metadata": {
            "tags": []
          },
          "execution_count": 61
        }
      ]
    },
    {
      "cell_type": "code",
      "metadata": {
        "id": "-D9_ONXNMHPK",
        "colab_type": "code",
        "colab": {
          "base_uri": "https://localhost:8080/",
          "height": 141
        },
        "outputId": "a06d4a67-98f6-4f54-fbda-24f52f12516c"
      },
      "source": [
        "if True:\n",
        "  all_tokens_path = tmp_path / fn_dict[ALLTOKS]\n",
        "  print(f'all_tokens_path = {all_tokens_path}')\n",
        "  all_tokens = pickle.load(open(all_tokens_path, 'rb'))\n",
        "  n_characters = len(all_tokens)\n",
        "  tok2idx_dict = {tok: idx for (idx, tok) in enumerate(all_tokens)}\n",
        "\n",
        "  model_path = tmp_path / fn_dict[MODEL]\n",
        "  decoder = torch.load(model_path)\n",
        "  decoder.gru.flatten_parameters()\n",
        "  print(f'model_path = {model_path}')\n",
        "  print(decoder.state_dict)"
      ],
      "execution_count": 62,
      "outputs": [
        {
          "output_type": "stream",
          "text": [
            "all_tokens_path = data/rnn_generator/tmp/all_tokens.n5059.pan_tadeusz.p\n",
            "model_path = data/rnn_generator/tmp/pan_tadeusz.h500.l3.e20.gpu.torch\n",
            "<bound method Module.state_dict of RNN(\n",
            "  (encoder): Embedding(5059, 500)\n",
            "  (gru): GRU(500, 500, num_layers=3)\n",
            "  (decoder): Linear(in_features=500, out_features=5059, bias=True)\n",
            ")>\n"
          ],
          "name": "stdout"
        }
      ]
    },
    {
      "cell_type": "markdown",
      "metadata": {
        "id": "2fEFWi-FXM5p",
        "colab_type": "text"
      },
      "source": [
        "## Ewaluacja w różnych \"temperaturach\"\n",
        "\n",
        "W powyższej funkcji `evaluate`, za każdym razem, gdy dokonywana jest prognoza, wyjścia są dzielone przez przekazany argument \"temperature\". Użycie większej liczby sprawia, że wszystkie akcje są bardziej jednakowo prawdopodobne, a tym samym dają nam \"bardziej losowe\" wyniki. Użycie mniejszej wartości (mniejszej niż 1) sprawia, że wysokie prawdopodobieństwa przyczyniają się bardziej. Gdy ustawiamy temperaturę na zero, wybieramy tylko najbardziej prawdopodobne wyjścia.\n",
        "\n",
        "Możemy zobaczyć te efekty poprzez dostosowanie argumentu `temperature`.\n"
      ]
    },
    {
      "cell_type": "code",
      "metadata": {
        "id": "zbRXU5j1LR3_",
        "colab_type": "code",
        "colab": {}
      },
      "source": [
        "def print_eval(e_syl):\n",
        "  display(HTML(format_html(fix_punctuation(decode_tokens(syl2str(e_syl, delim=''))))))"
      ],
      "execution_count": 0,
      "outputs": []
    },
    {
      "cell_type": "code",
      "metadata": {
        "id": "E4MTNidlS6j2",
        "colab_type": "code",
        "colab": {}
      },
      "source": [
        "prime_tok = str2syl2tok('Litwo! Ojczyzno moja!')"
      ],
      "execution_count": 0,
      "outputs": []
    },
    {
      "cell_type": "code",
      "metadata": {
        "id": "gBm5ibSnXM5p",
        "colab_type": "code",
        "colab": {
          "base_uri": "https://localhost:8080/",
          "height": 253
        },
        "outputId": "3f4fe817-6303-4d79-9b20-bbf180d3a074"
      },
      "source": [
        "print_eval(evaluate(prime_tok, 200, temperature=0.8))"
      ],
      "execution_count": 65,
      "outputs": [
        {
          "output_type": "display_data",
          "data": {
            "text/html": [
              "Litwo! Ojczyzno moja! \n",
              "<br/>Wszystko to Telimena, miał gust Polaniecha \n",
              "<br/>Podkomorzy pociągnął nas z drugiéj strony, \n",
              "<br/>Nie milczący pilnie, a drudzy po dowie; \n",
              "<br/>Trzech tuż, kobiety używił w domu, \n",
              "<br/>Ów Jacek, rzekli, czy to prawo? \n",
              "<br/>Młodzież pono zgodzie miłą i rudzież; \n",
              "<br/>Postrzegli się o zamkowym uwiązany \n",
              "<br/>Sprawa wróciła przez kogoś, zawsze z dwoje \n",
              "<br/>Zawoławszy wieczerzy na szażowych, jak na polu! \n",
              "<br/>Nie mówiąc długo, życie poznano w tabor \n",
              "<br/>Rozmawiali Tadeusza: dumania dla się! \n",
              "<br/>Koło Hrabiego głowy. Strwożone kobiety \n",
              "<br/>Pięk<font color=\"red\">++</font>"
            ],
            "text/plain": [
              "<IPython.core.display.HTML object>"
            ]
          },
          "metadata": {
            "tags": []
          }
        }
      ]
    },
    {
      "cell_type": "markdown",
      "metadata": {
        "id": "DnStt-FzXM5r",
        "colab_type": "text"
      },
      "source": [
        "Niższe temperatury daja mniejszą różnorodność, wybierając tylko bardziej prawdopodobne wyjścia:"
      ]
    },
    {
      "cell_type": "code",
      "metadata": {
        "id": "D3mkq_sCXM5r",
        "colab_type": "code",
        "colab": {
          "base_uri": "https://localhost:8080/",
          "height": 253
        },
        "outputId": "97624a3a-b0e7-410e-bf25-af4baafcfb45"
      },
      "source": [
        "print_eval(evaluate(prime_tok, 200, temperature=0.2))"
      ],
      "execution_count": 66,
      "outputs": [
        {
          "output_type": "display_data",
          "data": {
            "text/html": [
              "Litwo! Ojczyzno moja! \n",
              "<br/>« pradzie, który nowa ożyła zeżyć, \n",
              "<br/>(morzy? Tam ów mój Hrabia do niéj \n",
              "<br/>przecież niepodoba, a to mi rzecz nowym <font color=\"red\">--</font> Rzut oka w \n",
              "<br/>Tabakiera w niebo, by w tém Moskali \n",
              "<br/>przestaciem Pani Terajemu Bogu,) <font color=\"red\">--</font> Wielki Hrabia \n",
              "<br/>młopi do dworu; i Mospanie! »\n",
              "<br/>\n",
              "<br/>Tak, tak, krzyknął Tadeusz, jak jest niepotrzebło. <font color=\"red\">--</font> \n",
              "<br/><font color=\"red\">--</font> to Pan Tadeusza mój Hrabia, młody i Hrabia młodzi, <font color=\"red\">--</font> \n",
              "<br/>(« to zamku Horecznik <font color=\"red\">--</font> (Skoro zamek Horego Dobrodziéj! \n",
              "<br/>\n",
              "<br/>Skoro pono zawsze żelaza, zwłaczą rozmowy, gniewem! \n",
              "<br/>«"
            ],
            "text/plain": [
              "<IPython.core.display.HTML object>"
            ]
          },
          "metadata": {
            "tags": []
          }
        }
      ]
    },
    {
      "cell_type": "markdown",
      "metadata": {
        "id": "l508QP1LXM5t",
        "colab_type": "text"
      },
      "source": [
        "Wyższe temperatury są bardziej różnorodne, wybierając mniej prawdopodobne wyjścia:"
      ]
    },
    {
      "cell_type": "code",
      "metadata": {
        "id": "SxhfgI-PXM5u",
        "colab_type": "code",
        "colab": {
          "base_uri": "https://localhost:8080/",
          "height": 253
        },
        "outputId": "1b0100bd-d13f-4f73-eb3a-27745d011469"
      },
      "source": [
        "print_eval(evaluate(prime_tok, 200, temperature=1.4))"
      ],
      "execution_count": 67,
      "outputs": [
        {
          "output_type": "display_data",
          "data": {
            "text/html": [
              "Litwo! Ojczyzno moja! trzeba raz wysosywał. \n",
              "<br/>\n",
              "<br/>Hrabia zowią trzebił<font color=\"red\">++</font> się kształtek i rypakiem_, \n",
              "<br/>Pul<font color=\"red\">++</font> wieśkieniów palbyło idzie; to balzysty. \n",
              "<br/>Schymi<font color=\"red\">++</font> miejkiecie ze szyje i w ho są<font color=\"red\">++</font> świeta \n",
              "<br/>Ściąg<font color=\"red\">++</font> do Cesaniu, i raptu wzdłuż kaciel, \n",
              "<br/>Ni wifił szlodzo<font color=\"red\">++</font>! wzrok żyję na dwowę \n",
              "<br/>Pod<font color=\"red\">++</font> ślewną ze szczęśliwych słynieniawe; \n",
              "<br/>Warżeby ona o chwilę warkowem zamiału; \n",
              "<br/>Miała z pola jak <font color=\"red\">--</font>chciconi, <font color=\"red\">--</font>niętechachał, \n",
              "<br/>Czyli obgdyś wszyscy rubna mając obwia<font color=\"red\">++</font> a \n",
              "<br/>Przyjaciel masząkę w soczą i uciewił, \n",
              "<br/><font color=\"red\">--</font>Szczkawe nim obmycze złana tworago gugi. \n",
              "<br/>Wieżecie się raz grzewne nie chodząc <font color=\"red\">--</font>stwem przed szwad<font color=\"red\">++</font>"
            ],
            "text/plain": [
              "<IPython.core.display.HTML object>"
            ]
          },
          "metadata": {
            "tags": []
          }
        }
      ]
    },
    {
      "cell_type": "markdown",
      "metadata": {
        "id": "-UQoZYk2XM5v",
        "colab_type": "text"
      },
      "source": [
        "## Ćwiczenia\n",
        "\n",
        "* Trenuj z własnym zestawem danych, np.\n",
        "     * Tekst od innego autora\n",
        "     * Posty na blogu\n",
        "     * Kody źródłowe\n",
        "* Zwiększ liczbę warstw i rozmiar sieci, aby uzyskać lepsze wyniki"
      ]
    },
    {
      "cell_type": "markdown",
      "metadata": {
        "id": "pFHHvkI6XM5w",
        "colab_type": "text"
      },
      "source": [
        "**Następnie**: [Generating Names with a Conditional Character-Level RNN](https://github.com/spro/practical-pytorch/blob/master/conditional-char-rnn/conditional-char-rnn.ipynb)"
      ]
    },
    {
      "cell_type": "markdown",
      "metadata": {
        "id": "2tJDT2lCceZL",
        "colab_type": "text"
      },
      "source": [
        "## (debug) Monitorowanie maszyny wirtualnej"
      ]
    },
    {
      "cell_type": "code",
      "metadata": {
        "id": "bKdCiolHcg4e",
        "colab_type": "code",
        "colab": {}
      },
      "source": [
        "def print_memsize():\n",
        "  process = psutil.Process(os.getpid())\n",
        "  print(f'{process.memory_info().rss / 1024**3:.5} GB')"
      ],
      "execution_count": 0,
      "outputs": []
    },
    {
      "cell_type": "code",
      "metadata": {
        "id": "diBUUyOociRy",
        "colab_type": "code",
        "colab": {
          "base_uri": "https://localhost:8080/",
          "height": 35
        },
        "outputId": "7472c6c8-347c-459c-b003-84eb1382bcde"
      },
      "source": [
        "print_memsize()"
      ],
      "execution_count": 69,
      "outputs": [
        {
          "output_type": "stream",
          "text": [
            "2.3721 GB\n"
          ],
          "name": "stdout"
        }
      ]
    },
    {
      "cell_type": "code",
      "metadata": {
        "id": "TuHoo0ARtjz_",
        "colab_type": "code",
        "colab": {
          "base_uri": "https://localhost:8080/",
          "height": 35
        },
        "outputId": "d78b6cba-6b18-4cee-c30a-a13949ef4430"
      },
      "source": [
        "!uptime"
      ],
      "execution_count": 70,
      "outputs": [
        {
          "output_type": "stream",
          "text": [
            " 00:35:33 up  2:06,  0 users,  load average: 0.18, 0.71, 0.91\n"
          ],
          "name": "stdout"
        }
      ]
    }
  ]
}