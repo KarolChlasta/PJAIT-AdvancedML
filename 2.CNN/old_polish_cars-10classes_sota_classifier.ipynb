{
  "nbformat": 4,
  "nbformat_minor": 0,
  "metadata": {
    "colab": {
      "name": "old_polish_cars-10classes_sota_classifier.ipynb",
      "provenance": [],
      "collapsed_sections": [],
      "toc_visible": true,
      "include_colab_link": true
    },
    "kernelspec": {
      "display_name": "Python 3",
      "language": "python",
      "name": "python3"
    },
    "accelerator": "GPU"
  },
  "cells": [
    {
      "cell_type": "markdown",
      "metadata": {
        "id": "view-in-github",
        "colab_type": "text"
      },
      "source": [
        "<a href=\"https://colab.research.google.com/github/KarolChlasta/PJAIT-AdvancedML/blob/master/2.CNN/old_polish_cars-10classes_sota_classifier.ipynb\" target=\"_parent\"><img src=\"https://colab.research.google.com/assets/colab-badge.svg\" alt=\"Open In Colab\"/></a>"
      ]
    },
    {
      "cell_type": "markdown",
      "metadata": {
        "id": "7XM0PzwqN0KU",
        "colab_type": "text"
      },
      "source": [
        "# Klasyfikacja obrazu za pomocą konwolucyjnych sieci neuronowych"
      ]
    },
    {
      "cell_type": "markdown",
      "metadata": {
        "id": "KluF-OoH7j0m",
        "colab_type": "text"
      },
      "source": [
        "### Konfiguracja old_polish_cars 10 classes"
      ]
    },
    {
      "cell_type": "code",
      "metadata": {
        "id": "zkJdPBYFInML",
        "colab_type": "code",
        "colab": {}
      },
      "source": [
        "# Put these at the top of every notebook, to get automatic reloading and inline plotting\n",
        "%reload_ext autoreload\n",
        "%autoreload 2\n",
        "%matplotlib inline"
      ],
      "execution_count": 0,
      "outputs": []
    },
    {
      "cell_type": "code",
      "metadata": {
        "id": "5243IweeIJF1",
        "colab_type": "code",
        "colab": {
          "base_uri": "https://localhost:8080/",
          "height": 1000
        },
        "outputId": "a4f94ece-7e8b-4146-bc9e-3175ac39cf19"
      },
      "source": [
        "!pip install torchvision fastai==0.6"
      ],
      "execution_count": 2,
      "outputs": [
        {
          "output_type": "stream",
          "text": [
            "Requirement already satisfied: torchvision in /usr/local/lib/python3.6/dist-packages (0.4.2)\n",
            "Collecting fastai==0.6\n",
            "\u001b[?25l  Downloading https://files.pythonhosted.org/packages/fb/7e/047b29a6d769b343d00b52c120757a5f71e0ef353b08d8b857a2a8735ad0/fastai-0.6.tar.gz (429kB)\n",
            "\r\u001b[K     |▊                               | 10kB 21.9MB/s eta 0:00:01\r\u001b[K     |█▌                              | 20kB 7.0MB/s eta 0:00:01\r\u001b[K     |██▎                             | 30kB 7.9MB/s eta 0:00:01\r\u001b[K     |███                             | 40kB 6.2MB/s eta 0:00:01\r\u001b[K     |███▉                            | 51kB 6.5MB/s eta 0:00:01\r\u001b[K     |████▋                           | 61kB 7.6MB/s eta 0:00:01\r\u001b[K     |█████▍                          | 71kB 8.3MB/s eta 0:00:01\r\u001b[K     |██████                          | 81kB 7.8MB/s eta 0:00:01\r\u001b[K     |██████▉                         | 92kB 8.6MB/s eta 0:00:01\r\u001b[K     |███████▋                        | 102kB 9.1MB/s eta 0:00:01\r\u001b[K     |████████▍                       | 112kB 9.1MB/s eta 0:00:01\r\u001b[K     |█████████▏                      | 122kB 9.1MB/s eta 0:00:01\r\u001b[K     |██████████                      | 133kB 9.1MB/s eta 0:00:01\r\u001b[K     |██████████▊                     | 143kB 9.1MB/s eta 0:00:01\r\u001b[K     |███████████▌                    | 153kB 9.1MB/s eta 0:00:01\r\u001b[K     |████████████▏                   | 163kB 9.1MB/s eta 0:00:01\r\u001b[K     |█████████████                   | 174kB 9.1MB/s eta 0:00:01\r\u001b[K     |█████████████▊                  | 184kB 9.1MB/s eta 0:00:01\r\u001b[K     |██████████████▌                 | 194kB 9.1MB/s eta 0:00:01\r\u001b[K     |███████████████▎                | 204kB 9.1MB/s eta 0:00:01\r\u001b[K     |████████████████                | 215kB 9.1MB/s eta 0:00:01\r\u001b[K     |████████████████▉               | 225kB 9.1MB/s eta 0:00:01\r\u001b[K     |█████████████████▌              | 235kB 9.1MB/s eta 0:00:01\r\u001b[K     |██████████████████▎             | 245kB 9.1MB/s eta 0:00:01\r\u001b[K     |███████████████████             | 256kB 9.1MB/s eta 0:00:01\r\u001b[K     |███████████████████▉            | 266kB 9.1MB/s eta 0:00:01\r\u001b[K     |████████████████████▋           | 276kB 9.1MB/s eta 0:00:01\r\u001b[K     |█████████████████████▍          | 286kB 9.1MB/s eta 0:00:01\r\u001b[K     |██████████████████████▏         | 296kB 9.1MB/s eta 0:00:01\r\u001b[K     |███████████████████████         | 307kB 9.1MB/s eta 0:00:01\r\u001b[K     |███████████████████████▋        | 317kB 9.1MB/s eta 0:00:01\r\u001b[K     |████████████████████████▍       | 327kB 9.1MB/s eta 0:00:01\r\u001b[K     |█████████████████████████▏      | 337kB 9.1MB/s eta 0:00:01\r\u001b[K     |██████████████████████████      | 348kB 9.1MB/s eta 0:00:01\r\u001b[K     |██████████████████████████▊     | 358kB 9.1MB/s eta 0:00:01\r\u001b[K     |███████████████████████████▌    | 368kB 9.1MB/s eta 0:00:01\r\u001b[K     |████████████████████████████▎   | 378kB 9.1MB/s eta 0:00:01\r\u001b[K     |█████████████████████████████   | 389kB 9.1MB/s eta 0:00:01\r\u001b[K     |█████████████████████████████▊  | 399kB 9.1MB/s eta 0:00:01\r\u001b[K     |██████████████████████████████▌ | 409kB 9.1MB/s eta 0:00:01\r\u001b[K     |███████████████████████████████▎| 419kB 9.1MB/s eta 0:00:01\r\u001b[K     |████████████████████████████████| 430kB 9.1MB/s \n",
            "\u001b[?25hRequirement already satisfied: pillow>=4.1.1 in /usr/local/lib/python3.6/dist-packages (from torchvision) (4.3.0)\n",
            "Requirement already satisfied: six in /usr/local/lib/python3.6/dist-packages (from torchvision) (1.12.0)\n",
            "Requirement already satisfied: numpy in /usr/local/lib/python3.6/dist-packages (from torchvision) (1.17.4)\n",
            "Requirement already satisfied: torch==1.3.1 in /usr/local/lib/python3.6/dist-packages (from torchvision) (1.3.1)\n",
            "Collecting awscli\n",
            "\u001b[?25l  Downloading https://files.pythonhosted.org/packages/99/55/6c020e22f81b2b76a1295b07ac92aa4f9aaf44dcb9cead89a6a24a3d828c/awscli-1.16.309-py2.py3-none-any.whl (2.7MB)\n",
            "\u001b[K     |████████████████████████████████| 2.7MB 20.7MB/s \n",
            "\u001b[?25hCollecting bcolz\n",
            "\u001b[?25l  Downloading https://files.pythonhosted.org/packages/5c/4e/23942de9d5c0fb16f10335fa83e52b431bcb8c0d4a8419c9ac206268c279/bcolz-1.2.1.tar.gz (1.5MB)\n",
            "\u001b[K     |████████████████████████████████| 1.5MB 49.5MB/s \n",
            "\u001b[?25hRequirement already satisfied: bleach in /usr/local/lib/python3.6/dist-packages (from fastai==0.6) (3.1.0)\n",
            "Requirement already satisfied: certifi in /usr/local/lib/python3.6/dist-packages (from fastai==0.6) (2019.11.28)\n",
            "Requirement already satisfied: cycler in /usr/local/lib/python3.6/dist-packages (from fastai==0.6) (0.10.0)\n",
            "Requirement already satisfied: decorator in /usr/local/lib/python3.6/dist-packages (from fastai==0.6) (4.4.1)\n",
            "Requirement already satisfied: entrypoints in /usr/local/lib/python3.6/dist-packages (from fastai==0.6) (0.3)\n",
            "Requirement already satisfied: feather-format in /usr/local/lib/python3.6/dist-packages (from fastai==0.6) (0.4.0)\n",
            "Requirement already satisfied: graphviz in /usr/local/lib/python3.6/dist-packages (from fastai==0.6) (0.10.1)\n",
            "Requirement already satisfied: html5lib in /usr/local/lib/python3.6/dist-packages (from fastai==0.6) (1.0.1)\n",
            "Requirement already satisfied: ipykernel in /usr/local/lib/python3.6/dist-packages (from fastai==0.6) (4.6.1)\n",
            "Requirement already satisfied: ipython in /usr/local/lib/python3.6/dist-packages (from fastai==0.6) (5.5.0)\n",
            "Requirement already satisfied: ipython-genutils in /usr/local/lib/python3.6/dist-packages (from fastai==0.6) (0.2.0)\n",
            "Requirement already satisfied: ipywidgets in /usr/local/lib/python3.6/dist-packages (from fastai==0.6) (7.5.1)\n",
            "Collecting isoweek\n",
            "  Downloading https://files.pythonhosted.org/packages/c2/d4/fe7e2637975c476734fcbf53776e650a29680194eb0dd21dbdc020ca92de/isoweek-1.3.3-py2.py3-none-any.whl\n",
            "Requirement already satisfied: jedi in /usr/local/lib/python3.6/dist-packages (from fastai==0.6) (0.15.1)\n",
            "Requirement already satisfied: Jinja2 in /usr/local/lib/python3.6/dist-packages (from fastai==0.6) (2.10.3)\n",
            "Requirement already satisfied: jsonschema in /usr/local/lib/python3.6/dist-packages (from fastai==0.6) (2.6.0)\n",
            "Requirement already satisfied: jupyter in /usr/local/lib/python3.6/dist-packages (from fastai==0.6) (1.0.0)\n",
            "Requirement already satisfied: jupyter-client in /usr/local/lib/python3.6/dist-packages (from fastai==0.6) (5.3.4)\n",
            "Requirement already satisfied: jupyter-console in /usr/local/lib/python3.6/dist-packages (from fastai==0.6) (5.2.0)\n",
            "Collecting jupyter_contrib_nbextensions\n",
            "\u001b[?25l  Downloading https://files.pythonhosted.org/packages/33/f0/6e2c00afda860f655fbf0f795f7310bdbf12122846344dfdc803fc7455d5/jupyter_contrib_nbextensions-0.5.1-py2.py3-none-any.whl (20.9MB)\n",
            "\u001b[K     |████████████████████████████████| 20.9MB 118kB/s \n",
            "\u001b[?25hRequirement already satisfied: jupyter-core in /usr/local/lib/python3.6/dist-packages (from fastai==0.6) (4.6.1)\n",
            "Collecting kaggle-cli\n",
            "  Downloading https://files.pythonhosted.org/packages/67/61/710d02460bc4367ffd1f5e71cd9c031fb278f78aa0e8e32ca9dd99a2add8/kaggle-cli-0.12.13.tar.gz\n",
            "Requirement already satisfied: MarkupSafe in /usr/local/lib/python3.6/dist-packages (from fastai==0.6) (1.1.1)\n",
            "Requirement already satisfied: matplotlib in /usr/local/lib/python3.6/dist-packages (from fastai==0.6) (3.1.2)\n",
            "Requirement already satisfied: mistune in /usr/local/lib/python3.6/dist-packages (from fastai==0.6) (0.8.4)\n",
            "Requirement already satisfied: nbconvert in /usr/local/lib/python3.6/dist-packages (from fastai==0.6) (5.6.1)\n",
            "Requirement already satisfied: nbformat in /usr/local/lib/python3.6/dist-packages (from fastai==0.6) (4.4.0)\n",
            "Requirement already satisfied: notebook in /usr/local/lib/python3.6/dist-packages (from fastai==0.6) (5.2.2)\n",
            "Requirement already satisfied: olefile in /usr/local/lib/python3.6/dist-packages (from fastai==0.6) (0.46)\n",
            "Requirement already satisfied: opencv-python in /usr/local/lib/python3.6/dist-packages (from fastai==0.6) (4.1.2.30)\n",
            "Requirement already satisfied: pandas in /usr/local/lib/python3.6/dist-packages (from fastai==0.6) (0.25.3)\n",
            "Collecting pandas_summary\n",
            "  Downloading https://files.pythonhosted.org/packages/f5/20/865d4785f86e86f7ad7ebd52fc14810ef59ef13cd959f1363a2615d1c665/pandas_summary-0.0.7-py2.py3-none-any.whl\n",
            "Requirement already satisfied: pandocfilters in /usr/local/lib/python3.6/dist-packages (from fastai==0.6) (1.4.2)\n",
            "Requirement already satisfied: pexpect in /usr/local/lib/python3.6/dist-packages (from fastai==0.6) (4.7.0)\n",
            "Requirement already satisfied: pickleshare in /usr/local/lib/python3.6/dist-packages (from fastai==0.6) (0.7.5)\n",
            "Requirement already satisfied: plotnine in /usr/local/lib/python3.6/dist-packages (from fastai==0.6) (0.5.1)\n",
            "Requirement already satisfied: prompt-toolkit in /usr/local/lib/python3.6/dist-packages (from fastai==0.6) (1.0.18)\n",
            "Requirement already satisfied: ptyprocess in /usr/local/lib/python3.6/dist-packages (from fastai==0.6) (0.6.0)\n",
            "Requirement already satisfied: Pygments in /usr/local/lib/python3.6/dist-packages (from fastai==0.6) (2.1.3)\n",
            "Requirement already satisfied: pyparsing in /usr/local/lib/python3.6/dist-packages (from fastai==0.6) (2.4.5)\n",
            "Requirement already satisfied: python-dateutil in /usr/local/lib/python3.6/dist-packages (from fastai==0.6) (2.6.1)\n",
            "Requirement already satisfied: pytz in /usr/local/lib/python3.6/dist-packages (from fastai==0.6) (2018.9)\n",
            "Requirement already satisfied: PyYAML in /usr/local/lib/python3.6/dist-packages (from fastai==0.6) (3.13)\n",
            "Requirement already satisfied: pyzmq in /usr/local/lib/python3.6/dist-packages (from fastai==0.6) (17.0.0)\n",
            "Requirement already satisfied: qtconsole in /usr/local/lib/python3.6/dist-packages (from fastai==0.6) (4.6.0)\n",
            "Requirement already satisfied: scipy in /usr/local/lib/python3.6/dist-packages (from fastai==0.6) (1.3.3)\n",
            "Requirement already satisfied: seaborn in /usr/local/lib/python3.6/dist-packages (from fastai==0.6) (0.9.0)\n",
            "Requirement already satisfied: simplegeneric in /usr/local/lib/python3.6/dist-packages (from fastai==0.6) (0.8.1)\n",
            "Requirement already satisfied: sklearn_pandas in /usr/local/lib/python3.6/dist-packages (from fastai==0.6) (1.8.0)\n",
            "Requirement already satisfied: terminado in /usr/local/lib/python3.6/dist-packages (from fastai==0.6) (0.8.3)\n",
            "Requirement already satisfied: testpath in /usr/local/lib/python3.6/dist-packages (from fastai==0.6) (0.4.4)\n",
            "Requirement already satisfied: torchtext in /usr/local/lib/python3.6/dist-packages (from fastai==0.6) (0.3.1)\n",
            "Requirement already satisfied: tornado in /usr/local/lib/python3.6/dist-packages (from fastai==0.6) (4.5.3)\n",
            "Requirement already satisfied: tqdm in /usr/local/lib/python3.6/dist-packages (from fastai==0.6) (4.28.1)\n",
            "Requirement already satisfied: traitlets in /usr/local/lib/python3.6/dist-packages (from fastai==0.6) (4.3.3)\n",
            "Requirement already satisfied: wcwidth in /usr/local/lib/python3.6/dist-packages (from fastai==0.6) (0.1.7)\n",
            "Requirement already satisfied: webencodings in /usr/local/lib/python3.6/dist-packages (from fastai==0.6) (0.5.1)\n",
            "Requirement already satisfied: widgetsnbextension in /usr/local/lib/python3.6/dist-packages (from fastai==0.6) (3.5.1)\n",
            "Collecting rsa<=3.5.0,>=3.1.2\n",
            "\u001b[?25l  Downloading https://files.pythonhosted.org/packages/e1/ae/baedc9cb175552e95f3395c43055a6a5e125ae4d48a1d7a924baca83e92e/rsa-3.4.2-py2.py3-none-any.whl (46kB)\n",
            "\u001b[K     |████████████████████████████████| 51kB 8.4MB/s \n",
            "\u001b[?25hCollecting colorama<0.4.2,>=0.2.5; python_version != \"2.6\" and python_version != \"3.3\"\n",
            "  Downloading https://files.pythonhosted.org/packages/4f/a6/728666f39bfff1719fc94c481890b2106837da9318031f71a8424b662e12/colorama-0.4.1-py2.py3-none-any.whl\n",
            "Collecting botocore==1.13.45\n",
            "\u001b[?25l  Downloading https://files.pythonhosted.org/packages/96/22/9f8201d900956e57a9811e1b1c91c9f76c87487c76f636c2df1ce8379c38/botocore-1.13.45-py2.py3-none-any.whl (5.9MB)\n",
            "\u001b[K     |████████████████████████████████| 5.9MB 51.0MB/s \n",
            "\u001b[?25hRequirement already satisfied: s3transfer<0.3.0,>=0.2.0 in /usr/local/lib/python3.6/dist-packages (from awscli->fastai==0.6) (0.2.1)\n",
            "Requirement already satisfied: docutils<0.16,>=0.10 in /usr/local/lib/python3.6/dist-packages (from awscli->fastai==0.6) (0.15.2)\n",
            "Requirement already satisfied: pyarrow>=0.4.0 in /usr/local/lib/python3.6/dist-packages (from feather-format->fastai==0.6) (0.14.1)\n",
            "Requirement already satisfied: setuptools>=18.5 in /usr/local/lib/python3.6/dist-packages (from ipython->fastai==0.6) (42.0.2)\n",
            "Requirement already satisfied: parso>=0.5.0 in /usr/local/lib/python3.6/dist-packages (from jedi->fastai==0.6) (0.5.2)\n",
            "Collecting jupyter-latex-envs>=1.3.8\n",
            "\u001b[?25l  Downloading https://files.pythonhosted.org/packages/0e/15/55805de080d5542f76920364635e96e64d3b37f678befdfe3b16aa154205/jupyter_latex_envs-1.4.6.tar.gz (861kB)\n",
            "\u001b[K     |████████████████████████████████| 870kB 64.2MB/s \n",
            "\u001b[?25hCollecting jupyter-nbextensions-configurator>=0.4.0\n",
            "\u001b[?25l  Downloading https://files.pythonhosted.org/packages/51/a3/d72d5f2dc10c5ccf5a6f4c79f636bf071a5ce462dedd07af2f70384db6cb/jupyter_nbextensions_configurator-0.4.1.tar.gz (479kB)\n",
            "\u001b[K     |████████████████████████████████| 481kB 70.2MB/s \n",
            "\u001b[?25hCollecting jupyter-contrib-core>=0.3.3\n",
            "  Downloading https://files.pythonhosted.org/packages/e6/8f/04a752a8b66a66e7092c035e5d87d2502ac7ec07f9fb6059059b6c0dc272/jupyter_contrib_core-0.3.3-py2.py3-none-any.whl\n",
            "Requirement already satisfied: lxml in /usr/local/lib/python3.6/dist-packages (from jupyter_contrib_nbextensions->fastai==0.6) (4.2.6)\n",
            "Collecting jupyter-highlight-selected-word>=0.1.1\n",
            "  Downloading https://files.pythonhosted.org/packages/50/d7/19ab7cfd60bf268d2abbacc52d4295a40f52d74dfc0d938e4761ee5e598b/jupyter_highlight_selected_word-0.2.0-py2.py3-none-any.whl\n",
            "Collecting cliff<2.9,>=2.8.0\n",
            "\u001b[?25l  Downloading https://files.pythonhosted.org/packages/04/66/8a21911dd5f3369e75a6d5eb53802787e01d2f0fea01af8d6a83532d8397/cliff-2.8.3-py2.py3-none-any.whl (74kB)\n",
            "\u001b[K     |████████████████████████████████| 81kB 13.1MB/s \n",
            "\u001b[?25hCollecting MechanicalSoup<0.9,>=0.7.0\n",
            "  Downloading https://files.pythonhosted.org/packages/5c/2e/f63ed26b51e36efa4cc22cad18187fcb0a253f756d548c96bb931f13de98/MechanicalSoup-0.8.0-py2.py3-none-any.whl\n",
            "Collecting cssselect<1.1,>=1.0.1\n",
            "  Downloading https://files.pythonhosted.org/packages/7b/44/25b7283e50585f0b4156960691d951b05d061abf4a714078393e51929b30/cssselect-1.0.3-py2.py3-none-any.whl\n",
            "Collecting configparser\n",
            "  Downloading https://files.pythonhosted.org/packages/7a/2a/95ed0501cf5d8709490b1d3a3f9b5cf340da6c433f896bbe9ce08dbe6785/configparser-4.0.2-py2.py3-none-any.whl\n",
            "Collecting progressbar2<3.35,>=3.34.3\n",
            "  Downloading https://files.pythonhosted.org/packages/87/31/b984e17bcc7491c1baeda3906fe3abc14cb5cd5dbd046ab46d9fc7a2edfd/progressbar2-3.34.3-py2.py3-none-any.whl\n",
            "Requirement already satisfied: beautifulsoup4<4.7,>=4.6.0 in /usr/local/lib/python3.6/dist-packages (from kaggle-cli->fastai==0.6) (4.6.3)\n",
            "Requirement already satisfied: kiwisolver>=1.0.1 in /usr/local/lib/python3.6/dist-packages (from matplotlib->fastai==0.6) (1.1.0)\n",
            "Requirement already satisfied: defusedxml in /usr/local/lib/python3.6/dist-packages (from nbconvert->fastai==0.6) (0.6.0)\n",
            "Requirement already satisfied: descartes>=1.1.0 in /usr/local/lib/python3.6/dist-packages (from plotnine->fastai==0.6) (1.1.0)\n",
            "Requirement already satisfied: statsmodels>=0.8.0 in /usr/local/lib/python3.6/dist-packages (from plotnine->fastai==0.6) (0.10.2)\n",
            "Requirement already satisfied: mizani>=0.5.2 in /usr/local/lib/python3.6/dist-packages (from plotnine->fastai==0.6) (0.5.4)\n",
            "Requirement already satisfied: patsy>=0.4.1 in /usr/local/lib/python3.6/dist-packages (from plotnine->fastai==0.6) (0.5.1)\n",
            "Requirement already satisfied: scikit-learn>=0.15.0 in /usr/local/lib/python3.6/dist-packages (from sklearn_pandas->fastai==0.6) (0.21.3)\n",
            "Requirement already satisfied: requests in /usr/local/lib/python3.6/dist-packages (from torchtext->fastai==0.6) (2.21.0)\n",
            "Requirement already satisfied: pyasn1>=0.1.3 in /usr/local/lib/python3.6/dist-packages (from rsa<=3.5.0,>=3.1.2->awscli->fastai==0.6) (0.4.8)\n",
            "Requirement already satisfied: jmespath<1.0.0,>=0.7.1 in /usr/local/lib/python3.6/dist-packages (from botocore==1.13.45->awscli->fastai==0.6) (0.9.4)\n",
            "Requirement already satisfied: urllib3<1.26,>=1.20; python_version >= \"3.4\" in /usr/local/lib/python3.6/dist-packages (from botocore==1.13.45->awscli->fastai==0.6) (1.24.3)\n",
            "Requirement already satisfied: PrettyTable<0.8,>=0.7.1 in /usr/local/lib/python3.6/dist-packages (from cliff<2.9,>=2.8.0->kaggle-cli->fastai==0.6) (0.7.2)\n",
            "Collecting pbr!=2.1.0,>=2.0.0\n",
            "\u001b[?25l  Downloading https://files.pythonhosted.org/packages/7a/db/a968fd7beb9fe06901c1841cb25c9ccb666ca1b9a19b114d1bbedf1126fc/pbr-5.4.4-py2.py3-none-any.whl (110kB)\n",
            "\u001b[K     |████████████████████████████████| 112kB 57.4MB/s \n",
            "\u001b[?25hCollecting cmd2>=0.6.7; python_version >= \"3.0\"\n",
            "\u001b[?25l  Downloading https://files.pythonhosted.org/packages/97/0d/822f97a4c17a034629f8f9a9f1d293e08c94239e4673f1f52f855b586fae/cmd2-0.9.22-py3-none-any.whl (105kB)\n",
            "\u001b[K     |████████████████████████████████| 112kB 66.5MB/s \n",
            "\u001b[?25hCollecting stevedore>=1.20.0\n",
            "\u001b[?25l  Downloading https://files.pythonhosted.org/packages/b1/e1/f5ddbd83f60b03f522f173c03e406c1bff8343f0232a292ac96aa633b47a/stevedore-1.31.0-py2.py3-none-any.whl (43kB)\n",
            "\u001b[K     |████████████████████████████████| 51kB 9.2MB/s \n",
            "\u001b[?25hRequirement already satisfied: python-utils>=2.1.0 in /usr/local/lib/python3.6/dist-packages (from progressbar2<3.35,>=3.34.3->kaggle-cli->fastai==0.6) (2.3.0)\n",
            "Requirement already satisfied: palettable in /usr/local/lib/python3.6/dist-packages (from mizani>=0.5.2->plotnine->fastai==0.6) (3.3.0)\n",
            "Requirement already satisfied: joblib>=0.11 in /usr/local/lib/python3.6/dist-packages (from scikit-learn>=0.15.0->sklearn_pandas->fastai==0.6) (0.14.1)\n",
            "Requirement already satisfied: idna<2.9,>=2.5 in /usr/local/lib/python3.6/dist-packages (from requests->torchtext->fastai==0.6) (2.8)\n",
            "Requirement already satisfied: chardet<3.1.0,>=3.0.2 in /usr/local/lib/python3.6/dist-packages (from requests->torchtext->fastai==0.6) (3.0.4)\n",
            "Requirement already satisfied: attrs>=16.3.0 in /usr/local/lib/python3.6/dist-packages (from cmd2>=0.6.7; python_version >= \"3.0\"->cliff<2.9,>=2.8.0->kaggle-cli->fastai==0.6) (19.3.0)\n",
            "Collecting pyperclip>=1.6\n",
            "  Downloading https://files.pythonhosted.org/packages/2d/0f/4eda562dffd085945d57c2d9a5da745cfb5228c02bc90f2c74bbac746243/pyperclip-1.7.0.tar.gz\n",
            "Building wheels for collected packages: fastai, bcolz, kaggle-cli, jupyter-latex-envs, jupyter-nbextensions-configurator, pyperclip\n",
            "  Building wheel for fastai (setup.py) ... \u001b[?25l\u001b[?25hdone\n",
            "  Created wheel for fastai: filename=fastai-0.6-cp36-none-any.whl size=69788 sha256=fd9c24403597d54aa72e206e186b6e069a9c9591bbafbfb081048c24f5372a96\n",
            "  Stored in directory: /root/.cache/pip/wheels/98/2b/88/fe4cfe5bfa9cfea91cdfd2fe205f88746bf103f7b2994dffba\n",
            "  Building wheel for bcolz (setup.py) ... \u001b[?25l\u001b[?25hdone\n",
            "  Created wheel for bcolz: filename=bcolz-1.2.1-cp36-cp36m-linux_x86_64.whl size=2660819 sha256=7863798e6bb1922fe7982646ab440f3c09508d60fcaa6c34b9ef85c1c46521be\n",
            "  Stored in directory: /root/.cache/pip/wheels/9f/78/26/fb8c0acb91a100dc8914bf236c4eaa4b207cb876893c40b745\n",
            "  Building wheel for kaggle-cli (setup.py) ... \u001b[?25l\u001b[?25hdone\n",
            "  Created wheel for kaggle-cli: filename=kaggle_cli-0.12.13-cp36-none-any.whl size=9488 sha256=068d7dffc04a08be2237eafa51034928fe871232e3be24b4273895ad8194580d\n",
            "  Stored in directory: /root/.cache/pip/wheels/d5/bb/10/c1dd1b08c7433c943cb55c46367ae3f891415e8a37300ff8a7\n",
            "  Building wheel for jupyter-latex-envs (setup.py) ... \u001b[?25l\u001b[?25hdone\n",
            "  Created wheel for jupyter-latex-envs: filename=jupyter_latex_envs-1.4.6-py2.py3-none-any.whl size=963395 sha256=517cca3d1a5f15657ffd0089086e5d1ef290d413f969438ecaf3e4a69b2e7088\n",
            "  Stored in directory: /root/.cache/pip/wheels/0d/71/2a/164491997299b9f2479a251e254323fe35d946779e18f27956\n",
            "  Building wheel for jupyter-nbextensions-configurator (setup.py) ... \u001b[?25l\u001b[?25hdone\n",
            "  Created wheel for jupyter-nbextensions-configurator: filename=jupyter_nbextensions_configurator-0.4.1-py2.py3-none-any.whl size=465823 sha256=c89d8950134ba1b9d43c285a58d80a5e20c9e4e9f3e9c327874b11a5ace078af\n",
            "  Stored in directory: /root/.cache/pip/wheels/15/df/fe/2a74fe34709e7fdc5ae153a768675d9fda93cc7d5133ed1fb0\n",
            "  Building wheel for pyperclip (setup.py) ... \u001b[?25l\u001b[?25hdone\n",
            "  Created wheel for pyperclip: filename=pyperclip-1.7.0-cp36-none-any.whl size=8359 sha256=7bdb6ced5e177312084a40b91b909be5984156ed7735d5d5ccf8ebd73665157b\n",
            "  Stored in directory: /root/.cache/pip/wheels/92/f0/ac/2ba2972034e98971c3654ece337ac61e546bdeb34ca960dc8c\n",
            "Successfully built fastai bcolz kaggle-cli jupyter-latex-envs jupyter-nbextensions-configurator pyperclip\n",
            "\u001b[31mERROR: kaggle-cli 0.12.13 has requirement lxml<4.1,>=4.0.0, but you'll have lxml 4.2.6 which is incompatible.\u001b[0m\n",
            "Installing collected packages: rsa, colorama, botocore, awscli, bcolz, isoweek, jupyter-latex-envs, jupyter-contrib-core, jupyter-nbextensions-configurator, jupyter-highlight-selected-word, jupyter-contrib-nbextensions, pbr, pyperclip, cmd2, stevedore, cliff, MechanicalSoup, cssselect, configparser, progressbar2, kaggle-cli, pandas-summary, fastai\n",
            "  Found existing installation: rsa 4.0\n",
            "    Uninstalling rsa-4.0:\n",
            "      Successfully uninstalled rsa-4.0\n",
            "  Found existing installation: botocore 1.13.40\n",
            "    Uninstalling botocore-1.13.40:\n",
            "      Successfully uninstalled botocore-1.13.40\n",
            "  Found existing installation: progressbar2 3.38.0\n",
            "    Uninstalling progressbar2-3.38.0:\n",
            "      Successfully uninstalled progressbar2-3.38.0\n",
            "  Found existing installation: fastai 1.0.59\n",
            "    Uninstalling fastai-1.0.59:\n",
            "      Successfully uninstalled fastai-1.0.59\n",
            "Successfully installed MechanicalSoup-0.8.0 awscli-1.16.309 bcolz-1.2.1 botocore-1.13.45 cliff-2.8.3 cmd2-0.9.22 colorama-0.4.1 configparser-4.0.2 cssselect-1.0.3 fastai-0.6 isoweek-1.3.3 jupyter-contrib-core-0.3.3 jupyter-contrib-nbextensions-0.5.1 jupyter-highlight-selected-word-0.2.0 jupyter-latex-envs-1.4.6 jupyter-nbextensions-configurator-0.4.1 kaggle-cli-0.12.13 pandas-summary-0.0.7 pbr-5.4.4 progressbar2-3.34.3 pyperclip-1.7.0 rsa-3.4.2 stevedore-1.31.0\n"
          ],
          "name": "stdout"
        },
        {
          "output_type": "display_data",
          "data": {
            "application/vnd.colab-display-data+json": {
              "pip_warning": {
                "packages": [
                  "rsa"
                ]
              }
            }
          },
          "metadata": {
            "tags": []
          }
        }
      ]
    },
    {
      "cell_type": "code",
      "metadata": {
        "id": "45ki1h5GIMap",
        "colab_type": "code",
        "colab": {
          "base_uri": "https://localhost:8080/",
          "height": 1000
        },
        "outputId": "f0e1777f-20c2-4874-af1a-1296caae15f4"
      },
      "source": [
        "!pip install torch torchvision fastai==0.7.0"
      ],
      "execution_count": 1,
      "outputs": [
        {
          "output_type": "stream",
          "text": [
            "Requirement already satisfied: torch in /usr/local/lib/python3.6/dist-packages (1.3.1)\n",
            "Requirement already satisfied: torchvision in /usr/local/lib/python3.6/dist-packages (0.4.2)\n",
            "Collecting fastai==0.7.0\n",
            "\u001b[?25l  Downloading https://files.pythonhosted.org/packages/50/6d/9d0d6e17a78b0598d5e8c49a0d03ffc7ff265ae62eca3e2345fab14edb9b/fastai-0.7.0-py3-none-any.whl (112kB)\n",
            "\r\u001b[K     |███                             | 10kB 30.4MB/s eta 0:00:01\r\u001b[K     |█████▉                          | 20kB 6.4MB/s eta 0:00:01\r\u001b[K     |████████▊                       | 30kB 9.0MB/s eta 0:00:01\r\u001b[K     |███████████▋                    | 40kB 5.9MB/s eta 0:00:01\r\u001b[K     |██████████████▌                 | 51kB 7.2MB/s eta 0:00:01\r\u001b[K     |█████████████████▍              | 61kB 8.5MB/s eta 0:00:01\r\u001b[K     |████████████████████▍           | 71kB 9.7MB/s eta 0:00:01\r\u001b[K     |███████████████████████▎        | 81kB 10.8MB/s eta 0:00:01\r\u001b[K     |██████████████████████████▏     | 92kB 12.0MB/s eta 0:00:01\r\u001b[K     |█████████████████████████████   | 102kB 9.6MB/s eta 0:00:01\r\u001b[K     |████████████████████████████████| 112kB 9.6MB/s eta 0:00:01\r\u001b[K     |████████████████████████████████| 122kB 9.6MB/s \n",
            "\u001b[?25hRequirement already satisfied: numpy in /usr/local/lib/python3.6/dist-packages (from torch) (1.17.4)\n",
            "Requirement already satisfied: six in /usr/local/lib/python3.6/dist-packages (from torchvision) (1.12.0)\n",
            "Requirement already satisfied: pillow>=4.1.1 in /usr/local/lib/python3.6/dist-packages (from torchvision) (4.3.0)\n",
            "Requirement already satisfied: torchtext in /usr/local/lib/python3.6/dist-packages (from fastai==0.7.0) (0.3.1)\n",
            "Requirement already satisfied: matplotlib in /usr/local/lib/python3.6/dist-packages (from fastai==0.7.0) (3.1.2)\n",
            "Requirement already satisfied: pytz in /usr/local/lib/python3.6/dist-packages (from fastai==0.7.0) (2018.9)\n",
            "Requirement already satisfied: pandas in /usr/local/lib/python3.6/dist-packages (from fastai==0.7.0) (0.25.3)\n",
            "Requirement already satisfied: ipywidgets in /usr/local/lib/python3.6/dist-packages (from fastai==0.7.0) (7.5.1)\n",
            "Requirement already satisfied: pandas-summary in /usr/local/lib/python3.6/dist-packages (from fastai==0.7.0) (0.0.7)\n",
            "Requirement already satisfied: testpath in /usr/local/lib/python3.6/dist-packages (from fastai==0.7.0) (0.4.4)\n",
            "Requirement already satisfied: pyparsing in /usr/local/lib/python3.6/dist-packages (from fastai==0.7.0) (2.4.5)\n",
            "Requirement already satisfied: isoweek in /usr/local/lib/python3.6/dist-packages (from fastai==0.7.0) (1.3.3)\n",
            "Requirement already satisfied: MarkupSafe in /usr/local/lib/python3.6/dist-packages (from fastai==0.7.0) (1.1.1)\n",
            "Requirement already satisfied: bleach in /usr/local/lib/python3.6/dist-packages (from fastai==0.7.0) (3.1.0)\n",
            "Requirement already satisfied: scipy in /usr/local/lib/python3.6/dist-packages (from fastai==0.7.0) (1.3.3)\n",
            "Requirement already satisfied: plotnine in /usr/local/lib/python3.6/dist-packages (from fastai==0.7.0) (0.5.1)\n",
            "Requirement already satisfied: wcwidth in /usr/local/lib/python3.6/dist-packages (from fastai==0.7.0) (0.1.7)\n",
            "Requirement already satisfied: ipykernel in /usr/local/lib/python3.6/dist-packages (from fastai==0.7.0) (4.6.1)\n",
            "Requirement already satisfied: Pygments in /usr/local/lib/python3.6/dist-packages (from fastai==0.7.0) (2.1.3)\n",
            "Requirement already satisfied: certifi in /usr/local/lib/python3.6/dist-packages (from fastai==0.7.0) (2019.11.28)\n",
            "Requirement already satisfied: python-dateutil in /usr/local/lib/python3.6/dist-packages (from fastai==0.7.0) (2.6.1)\n",
            "Requirement already satisfied: ipython in /usr/local/lib/python3.6/dist-packages (from fastai==0.7.0) (5.5.0)\n",
            "Requirement already satisfied: widgetsnbextension in /usr/local/lib/python3.6/dist-packages (from fastai==0.7.0) (3.5.1)\n",
            "Requirement already satisfied: html5lib in /usr/local/lib/python3.6/dist-packages (from fastai==0.7.0) (1.0.1)\n",
            "Requirement already satisfied: jedi in /usr/local/lib/python3.6/dist-packages (from fastai==0.7.0) (0.15.1)\n",
            "Requirement already satisfied: traitlets in /usr/local/lib/python3.6/dist-packages (from fastai==0.7.0) (4.3.3)\n",
            "Requirement already satisfied: decorator in /usr/local/lib/python3.6/dist-packages (from fastai==0.7.0) (4.4.1)\n",
            "Requirement already satisfied: opencv-python in /usr/local/lib/python3.6/dist-packages (from fastai==0.7.0) (4.1.2.30)\n",
            "Requirement already satisfied: bcolz in /usr/local/lib/python3.6/dist-packages (from fastai==0.7.0) (1.2.1)\n",
            "Requirement already satisfied: entrypoints in /usr/local/lib/python3.6/dist-packages (from fastai==0.7.0) (0.3)\n",
            "Requirement already satisfied: feather-format in /usr/local/lib/python3.6/dist-packages (from fastai==0.7.0) (0.4.0)\n",
            "Requirement already satisfied: pickleshare in /usr/local/lib/python3.6/dist-packages (from fastai==0.7.0) (0.7.5)\n",
            "Requirement already satisfied: sklearn-pandas in /usr/local/lib/python3.6/dist-packages (from fastai==0.7.0) (1.8.0)\n",
            "Requirement already satisfied: pyzmq in /usr/local/lib/python3.6/dist-packages (from fastai==0.7.0) (17.0.0)\n",
            "Requirement already satisfied: ipython-genutils in /usr/local/lib/python3.6/dist-packages (from fastai==0.7.0) (0.2.0)\n",
            "Requirement already satisfied: PyYAML in /usr/local/lib/python3.6/dist-packages (from fastai==0.7.0) (3.13)\n",
            "Requirement already satisfied: ptyprocess in /usr/local/lib/python3.6/dist-packages (from fastai==0.7.0) (0.6.0)\n",
            "Requirement already satisfied: tornado in /usr/local/lib/python3.6/dist-packages (from fastai==0.7.0) (4.5.3)\n",
            "Requirement already satisfied: graphviz in /usr/local/lib/python3.6/dist-packages (from fastai==0.7.0) (0.10.1)\n",
            "Requirement already satisfied: webencodings in /usr/local/lib/python3.6/dist-packages (from fastai==0.7.0) (0.5.1)\n",
            "Requirement already satisfied: tqdm in /usr/local/lib/python3.6/dist-packages (from fastai==0.7.0) (4.28.1)\n",
            "Requirement already satisfied: jsonschema in /usr/local/lib/python3.6/dist-packages (from fastai==0.7.0) (2.6.0)\n",
            "Requirement already satisfied: Jinja2 in /usr/local/lib/python3.6/dist-packages (from fastai==0.7.0) (2.10.3)\n",
            "Requirement already satisfied: seaborn in /usr/local/lib/python3.6/dist-packages (from fastai==0.7.0) (0.9.0)\n",
            "Requirement already satisfied: jupyter in /usr/local/lib/python3.6/dist-packages (from fastai==0.7.0) (1.0.0)\n",
            "Requirement already satisfied: simplegeneric in /usr/local/lib/python3.6/dist-packages (from fastai==0.7.0) (0.8.1)\n",
            "Requirement already satisfied: cycler in /usr/local/lib/python3.6/dist-packages (from fastai==0.7.0) (0.10.0)\n",
            "Requirement already satisfied: olefile in /usr/local/lib/python3.6/dist-packages (from pillow>=4.1.1->torchvision) (0.46)\n",
            "Requirement already satisfied: requests in /usr/local/lib/python3.6/dist-packages (from torchtext->fastai==0.7.0) (2.21.0)\n",
            "Requirement already satisfied: kiwisolver>=1.0.1 in /usr/local/lib/python3.6/dist-packages (from matplotlib->fastai==0.7.0) (1.1.0)\n",
            "Requirement already satisfied: nbformat>=4.2.0 in /usr/local/lib/python3.6/dist-packages (from ipywidgets->fastai==0.7.0) (4.4.0)\n",
            "Requirement already satisfied: mizani>=0.5.2 in /usr/local/lib/python3.6/dist-packages (from plotnine->fastai==0.7.0) (0.5.4)\n",
            "Requirement already satisfied: statsmodels>=0.8.0 in /usr/local/lib/python3.6/dist-packages (from plotnine->fastai==0.7.0) (0.10.2)\n",
            "Requirement already satisfied: descartes>=1.1.0 in /usr/local/lib/python3.6/dist-packages (from plotnine->fastai==0.7.0) (1.1.0)\n",
            "Requirement already satisfied: patsy>=0.4.1 in /usr/local/lib/python3.6/dist-packages (from plotnine->fastai==0.7.0) (0.5.1)\n",
            "Requirement already satisfied: jupyter-client in /usr/local/lib/python3.6/dist-packages (from ipykernel->fastai==0.7.0) (5.3.4)\n",
            "Requirement already satisfied: setuptools>=18.5 in /usr/local/lib/python3.6/dist-packages (from ipython->fastai==0.7.0) (42.0.2)\n",
            "Requirement already satisfied: prompt-toolkit<2.0.0,>=1.0.4 in /usr/local/lib/python3.6/dist-packages (from ipython->fastai==0.7.0) (1.0.18)\n",
            "Requirement already satisfied: pexpect; sys_platform != \"win32\" in /usr/local/lib/python3.6/dist-packages (from ipython->fastai==0.7.0) (4.7.0)\n",
            "Requirement already satisfied: notebook>=4.4.1 in /usr/local/lib/python3.6/dist-packages (from widgetsnbextension->fastai==0.7.0) (5.2.2)\n",
            "Requirement already satisfied: parso>=0.5.0 in /usr/local/lib/python3.6/dist-packages (from jedi->fastai==0.7.0) (0.5.2)\n",
            "Requirement already satisfied: pyarrow>=0.4.0 in /usr/local/lib/python3.6/dist-packages (from feather-format->fastai==0.7.0) (0.14.1)\n",
            "Requirement already satisfied: scikit-learn>=0.15.0 in /usr/local/lib/python3.6/dist-packages (from sklearn-pandas->fastai==0.7.0) (0.21.3)\n",
            "Requirement already satisfied: jupyter-console in /usr/local/lib/python3.6/dist-packages (from jupyter->fastai==0.7.0) (5.2.0)\n",
            "Requirement already satisfied: nbconvert in /usr/local/lib/python3.6/dist-packages (from jupyter->fastai==0.7.0) (5.6.1)\n",
            "Requirement already satisfied: qtconsole in /usr/local/lib/python3.6/dist-packages (from jupyter->fastai==0.7.0) (4.6.0)\n",
            "Requirement already satisfied: chardet<3.1.0,>=3.0.2 in /usr/local/lib/python3.6/dist-packages (from requests->torchtext->fastai==0.7.0) (3.0.4)\n",
            "Requirement already satisfied: urllib3<1.25,>=1.21.1 in /usr/local/lib/python3.6/dist-packages (from requests->torchtext->fastai==0.7.0) (1.24.3)\n",
            "Requirement already satisfied: idna<2.9,>=2.5 in /usr/local/lib/python3.6/dist-packages (from requests->torchtext->fastai==0.7.0) (2.8)\n",
            "Requirement already satisfied: jupyter-core in /usr/local/lib/python3.6/dist-packages (from nbformat>=4.2.0->ipywidgets->fastai==0.7.0) (4.6.1)\n",
            "Requirement already satisfied: palettable in /usr/local/lib/python3.6/dist-packages (from mizani>=0.5.2->plotnine->fastai==0.7.0) (3.3.0)\n",
            "Requirement already satisfied: terminado>=0.3.3; sys_platform != \"win32\" in /usr/local/lib/python3.6/dist-packages (from notebook>=4.4.1->widgetsnbextension->fastai==0.7.0) (0.8.3)\n",
            "Requirement already satisfied: joblib>=0.11 in /usr/local/lib/python3.6/dist-packages (from scikit-learn>=0.15.0->sklearn-pandas->fastai==0.7.0) (0.14.1)\n",
            "Requirement already satisfied: pandocfilters>=1.4.1 in /usr/local/lib/python3.6/dist-packages (from nbconvert->jupyter->fastai==0.7.0) (1.4.2)\n",
            "Requirement already satisfied: defusedxml in /usr/local/lib/python3.6/dist-packages (from nbconvert->jupyter->fastai==0.7.0) (0.6.0)\n",
            "Requirement already satisfied: mistune<2,>=0.8.1 in /usr/local/lib/python3.6/dist-packages (from nbconvert->jupyter->fastai==0.7.0) (0.8.4)\n",
            "\u001b[31mERROR: fastai 0.7.0 has requirement torch<0.4, but you'll have torch 1.3.1 which is incompatible.\u001b[0m\n",
            "Installing collected packages: fastai\n",
            "  Found existing installation: fastai 0.6\n",
            "    Uninstalling fastai-0.6:\n",
            "      Successfully uninstalled fastai-0.6\n",
            "Successfully installed fastai-0.7.0\n"
          ],
          "name": "stdout"
        }
      ]
    },
    {
      "cell_type": "code",
      "metadata": {
        "id": "bEIqdkypPz2E",
        "colab_type": "code",
        "outputId": "e2e4000c-fb35-4662-b9d7-77f1c9c4c3f1",
        "colab": {
          "base_uri": "https://localhost:8080/",
          "height": 35
        }
      },
      "source": [
        "#!conda update conda"
      ],
      "execution_count": 0,
      "outputs": [
        {
          "output_type": "stream",
          "text": [
            "/bin/bash: conda: command not found\n"
          ],
          "name": "stdout"
        }
      ]
    },
    {
      "cell_type": "code",
      "metadata": {
        "id": "dUqlwxs27e_7",
        "colab_type": "code",
        "outputId": "b6806562-446d-4f85-a32d-3c1e9fc57225",
        "colab": {
          "base_uri": "https://localhost:8080/",
          "height": 35
        }
      },
      "source": [
        "#!pip install pip -U"
      ],
      "execution_count": 0,
      "outputs": [
        {
          "output_type": "stream",
          "text": [
            "Requirement already up-to-date: pip in /usr/local/lib/python3.6/dist-packages (19.3.1)\n"
          ],
          "name": "stdout"
        }
      ]
    },
    {
      "cell_type": "code",
      "metadata": {
        "id": "-SSriggY9-xA",
        "colab_type": "code",
        "outputId": "d1f7e905-dc0c-4433-e254-e3d1219af02e",
        "colab": {
          "base_uri": "https://localhost:8080/",
          "height": 1000
        }
      },
      "source": [
        "#!pip install fastai==0.7.0\n",
        "#!pip install torchtext==0.2.3"
      ],
      "execution_count": 0,
      "outputs": [
        {
          "output_type": "stream",
          "text": [
            "Requirement already satisfied: fastai==0.7.0 in /usr/local/lib/python3.6/dist-packages (0.7.0)\n",
            "Requirement already satisfied: wcwidth in /usr/local/lib/python3.6/dist-packages (from fastai==0.7.0) (0.1.7)\n",
            "Requirement already satisfied: seaborn in /usr/local/lib/python3.6/dist-packages (from fastai==0.7.0) (0.9.0)\n",
            "Requirement already satisfied: torchvision in /usr/local/lib/python3.6/dist-packages (from fastai==0.7.0) (0.4.0)\n",
            "Requirement already satisfied: cycler in /usr/local/lib/python3.6/dist-packages (from fastai==0.7.0) (0.10.0)\n",
            "Requirement already satisfied: plotnine in /usr/local/lib/python3.6/dist-packages (from fastai==0.7.0) (0.5.1)\n",
            "Requirement already satisfied: certifi in /usr/local/lib/python3.6/dist-packages (from fastai==0.7.0) (2019.9.11)\n",
            "Requirement already satisfied: isoweek in /usr/local/lib/python3.6/dist-packages (from fastai==0.7.0) (1.3.3)\n",
            "Requirement already satisfied: scipy in /usr/local/lib/python3.6/dist-packages (from fastai==0.7.0) (1.3.2)\n",
            "Requirement already satisfied: torch<0.4 in /usr/local/lib/python3.6/dist-packages (from fastai==0.7.0) (0.3.1)\n",
            "Requirement already satisfied: Jinja2 in /usr/local/lib/python3.6/dist-packages (from fastai==0.7.0) (2.10.3)\n",
            "Requirement already satisfied: bcolz in /usr/local/lib/python3.6/dist-packages (from fastai==0.7.0) (1.2.1)\n",
            "Requirement already satisfied: Pygments in /usr/local/lib/python3.6/dist-packages (from fastai==0.7.0) (2.1.3)\n",
            "Requirement already satisfied: pytz in /usr/local/lib/python3.6/dist-packages (from fastai==0.7.0) (2018.9)\n",
            "Requirement already satisfied: webencodings in /usr/local/lib/python3.6/dist-packages (from fastai==0.7.0) (0.5.1)\n",
            "Requirement already satisfied: widgetsnbextension in /usr/local/lib/python3.6/dist-packages (from fastai==0.7.0) (3.5.1)\n",
            "Requirement already satisfied: python-dateutil in /usr/local/lib/python3.6/dist-packages (from fastai==0.7.0) (2.6.1)\n",
            "Requirement already satisfied: jupyter in /usr/local/lib/python3.6/dist-packages (from fastai==0.7.0) (1.0.0)\n",
            "Requirement already satisfied: torchtext in /usr/local/lib/python3.6/dist-packages (from fastai==0.7.0) (0.3.1)\n",
            "Requirement already satisfied: ipython in /usr/local/lib/python3.6/dist-packages (from fastai==0.7.0) (5.5.0)\n",
            "Requirement already satisfied: pyparsing in /usr/local/lib/python3.6/dist-packages (from fastai==0.7.0) (2.4.5)\n",
            "Requirement already satisfied: feather-format in /usr/local/lib/python3.6/dist-packages (from fastai==0.7.0) (0.4.0)\n",
            "Requirement already satisfied: pandas-summary in /usr/local/lib/python3.6/dist-packages (from fastai==0.7.0) (0.0.7)\n",
            "Requirement already satisfied: simplegeneric in /usr/local/lib/python3.6/dist-packages (from fastai==0.7.0) (0.8.1)\n",
            "Requirement already satisfied: pickleshare in /usr/local/lib/python3.6/dist-packages (from fastai==0.7.0) (0.7.5)\n",
            "Requirement already satisfied: bleach in /usr/local/lib/python3.6/dist-packages (from fastai==0.7.0) (3.1.0)\n",
            "Requirement already satisfied: numpy in /usr/local/lib/python3.6/dist-packages (from fastai==0.7.0) (1.17.4)\n",
            "Requirement already satisfied: tqdm in /usr/local/lib/python3.6/dist-packages (from fastai==0.7.0) (4.28.1)\n",
            "Requirement already satisfied: sklearn-pandas in /usr/local/lib/python3.6/dist-packages (from fastai==0.7.0) (1.8.0)\n",
            "Requirement already satisfied: pyzmq in /usr/local/lib/python3.6/dist-packages (from fastai==0.7.0) (17.0.0)\n",
            "Requirement already satisfied: PyYAML in /usr/local/lib/python3.6/dist-packages (from fastai==0.7.0) (3.13)\n",
            "Requirement already satisfied: ipython-genutils in /usr/local/lib/python3.6/dist-packages (from fastai==0.7.0) (0.2.0)\n",
            "Requirement already satisfied: Pillow in /usr/local/lib/python3.6/dist-packages (from fastai==0.7.0) (4.3.0)\n",
            "Requirement already satisfied: testpath in /usr/local/lib/python3.6/dist-packages (from fastai==0.7.0) (0.4.4)\n",
            "Requirement already satisfied: decorator in /usr/local/lib/python3.6/dist-packages (from fastai==0.7.0) (4.4.1)\n",
            "Requirement already satisfied: entrypoints in /usr/local/lib/python3.6/dist-packages (from fastai==0.7.0) (0.3)\n",
            "Requirement already satisfied: html5lib in /usr/local/lib/python3.6/dist-packages (from fastai==0.7.0) (1.0.1)\n",
            "Requirement already satisfied: MarkupSafe in /usr/local/lib/python3.6/dist-packages (from fastai==0.7.0) (1.1.1)\n",
            "Requirement already satisfied: matplotlib in /usr/local/lib/python3.6/dist-packages (from fastai==0.7.0) (3.1.1)\n",
            "Requirement already satisfied: opencv-python in /usr/local/lib/python3.6/dist-packages (from fastai==0.7.0) (3.4.7.28)\n",
            "Requirement already satisfied: ipykernel in /usr/local/lib/python3.6/dist-packages (from fastai==0.7.0) (4.6.1)\n",
            "Requirement already satisfied: pandas in /usr/local/lib/python3.6/dist-packages (from fastai==0.7.0) (0.25.3)\n",
            "Requirement already satisfied: tornado in /usr/local/lib/python3.6/dist-packages (from fastai==0.7.0) (4.5.3)\n",
            "Requirement already satisfied: traitlets in /usr/local/lib/python3.6/dist-packages (from fastai==0.7.0) (4.3.3)\n",
            "Requirement already satisfied: jedi in /usr/local/lib/python3.6/dist-packages (from fastai==0.7.0) (0.15.1)\n",
            "Requirement already satisfied: jsonschema in /usr/local/lib/python3.6/dist-packages (from fastai==0.7.0) (2.6.0)\n",
            "Requirement already satisfied: graphviz in /usr/local/lib/python3.6/dist-packages (from fastai==0.7.0) (0.10.1)\n",
            "Requirement already satisfied: ptyprocess in /usr/local/lib/python3.6/dist-packages (from fastai==0.7.0) (0.6.0)\n",
            "Requirement already satisfied: ipywidgets in /usr/local/lib/python3.6/dist-packages (from fastai==0.7.0) (7.5.1)\n",
            "Requirement already satisfied: six in /usr/local/lib/python3.6/dist-packages (from torchvision->fastai==0.7.0) (1.12.0)\n",
            "Requirement already satisfied: patsy>=0.4.1 in /usr/local/lib/python3.6/dist-packages (from plotnine->fastai==0.7.0) (0.5.1)\n",
            "Requirement already satisfied: statsmodels>=0.8.0 in /usr/local/lib/python3.6/dist-packages (from plotnine->fastai==0.7.0) (0.10.1)\n",
            "Requirement already satisfied: descartes>=1.1.0 in /usr/local/lib/python3.6/dist-packages (from plotnine->fastai==0.7.0) (1.1.0)\n",
            "Requirement already satisfied: mizani>=0.5.2 in /usr/local/lib/python3.6/dist-packages (from plotnine->fastai==0.7.0) (0.5.4)\n",
            "Requirement already satisfied: notebook>=4.4.1 in /usr/local/lib/python3.6/dist-packages (from widgetsnbextension->fastai==0.7.0) (5.2.2)\n",
            "Requirement already satisfied: qtconsole in /usr/local/lib/python3.6/dist-packages (from jupyter->fastai==0.7.0) (4.6.0)\n",
            "Requirement already satisfied: nbconvert in /usr/local/lib/python3.6/dist-packages (from jupyter->fastai==0.7.0) (5.6.1)\n",
            "Requirement already satisfied: jupyter-console in /usr/local/lib/python3.6/dist-packages (from jupyter->fastai==0.7.0) (5.2.0)\n",
            "Requirement already satisfied: requests in /usr/local/lib/python3.6/dist-packages (from torchtext->fastai==0.7.0) (2.21.0)\n",
            "Requirement already satisfied: pexpect; sys_platform != \"win32\" in /usr/local/lib/python3.6/dist-packages (from ipython->fastai==0.7.0) (4.7.0)\n",
            "Requirement already satisfied: prompt-toolkit<2.0.0,>=1.0.4 in /usr/local/lib/python3.6/dist-packages (from ipython->fastai==0.7.0) (1.0.18)\n",
            "Requirement already satisfied: setuptools>=18.5 in /usr/local/lib/python3.6/dist-packages (from ipython->fastai==0.7.0) (41.6.0)\n",
            "Requirement already satisfied: pyarrow>=0.4.0 in /usr/local/lib/python3.6/dist-packages (from feather-format->fastai==0.7.0) (0.14.1)\n",
            "Requirement already satisfied: scikit-learn>=0.15.0 in /usr/local/lib/python3.6/dist-packages (from sklearn-pandas->fastai==0.7.0) (0.21.3)\n",
            "Requirement already satisfied: olefile in /usr/local/lib/python3.6/dist-packages (from Pillow->fastai==0.7.0) (0.46)\n",
            "Requirement already satisfied: kiwisolver>=1.0.1 in /usr/local/lib/python3.6/dist-packages (from matplotlib->fastai==0.7.0) (1.1.0)\n",
            "Requirement already satisfied: jupyter-client in /usr/local/lib/python3.6/dist-packages (from ipykernel->fastai==0.7.0) (5.3.4)\n",
            "Requirement already satisfied: parso>=0.5.0 in /usr/local/lib/python3.6/dist-packages (from jedi->fastai==0.7.0) (0.5.1)\n",
            "Requirement already satisfied: nbformat>=4.2.0 in /usr/local/lib/python3.6/dist-packages (from ipywidgets->fastai==0.7.0) (4.4.0)\n",
            "Requirement already satisfied: palettable in /usr/local/lib/python3.6/dist-packages (from mizani>=0.5.2->plotnine->fastai==0.7.0) (3.3.0)\n",
            "Requirement already satisfied: terminado>=0.3.3; sys_platform != \"win32\" in /usr/local/lib/python3.6/dist-packages (from notebook>=4.4.1->widgetsnbextension->fastai==0.7.0) (0.8.3)\n",
            "Requirement already satisfied: jupyter-core in /usr/local/lib/python3.6/dist-packages (from notebook>=4.4.1->widgetsnbextension->fastai==0.7.0) (4.6.1)\n",
            "Requirement already satisfied: pandocfilters>=1.4.1 in /usr/local/lib/python3.6/dist-packages (from nbconvert->jupyter->fastai==0.7.0) (1.4.2)\n",
            "Requirement already satisfied: defusedxml in /usr/local/lib/python3.6/dist-packages (from nbconvert->jupyter->fastai==0.7.0) (0.6.0)\n",
            "Requirement already satisfied: mistune<2,>=0.8.1 in /usr/local/lib/python3.6/dist-packages (from nbconvert->jupyter->fastai==0.7.0) (0.8.4)\n",
            "Requirement already satisfied: urllib3<1.25,>=1.21.1 in /usr/local/lib/python3.6/dist-packages (from requests->torchtext->fastai==0.7.0) (1.24.3)\n",
            "Requirement already satisfied: idna<2.9,>=2.5 in /usr/local/lib/python3.6/dist-packages (from requests->torchtext->fastai==0.7.0) (2.8)\n",
            "Requirement already satisfied: chardet<3.1.0,>=3.0.2 in /usr/local/lib/python3.6/dist-packages (from requests->torchtext->fastai==0.7.0) (3.0.4)\n",
            "Requirement already satisfied: joblib>=0.11 in /usr/local/lib/python3.6/dist-packages (from scikit-learn>=0.15.0->sklearn-pandas->fastai==0.7.0) (0.14.0)\n"
          ],
          "name": "stdout"
        }
      ]
    },
    {
      "cell_type": "code",
      "metadata": {
        "id": "11f1DY1i_htP",
        "colab_type": "code",
        "colab": {}
      },
      "source": [
        "#import sys\n",
        "#sys.path.insert(0, \"/usr/local/lib/python3.6/dist-packages/fastai/\")\n",
        "#import fastai"
      ],
      "execution_count": 0,
      "outputs": []
    },
    {
      "cell_type": "markdown",
      "metadata": {
        "id": "zVAenoU1GnVS",
        "colab_type": "text"
      },
      "source": [
        "### PyTorch\n",
        "http://pytorch.org/"
      ]
    },
    {
      "cell_type": "code",
      "metadata": {
        "id": "yaRSc_k_YmEm",
        "colab_type": "code",
        "outputId": "e4d86261-9d8e-4a38-c323-e3f699ce045c",
        "colab": {
          "base_uri": "https://localhost:8080/",
          "height": 35
        }
      },
      "source": [
        "#!pip install -q torchtext==0.4.0"
      ],
      "execution_count": 0,
      "outputs": [
        {
          "output_type": "stream",
          "text": [
            "\u001b[?25l\r\u001b[K     |██████▏                         | 10kB 21.7MB/s eta 0:00:01\r\u001b[K     |████████████▍                   | 20kB 1.8MB/s eta 0:00:01\r\u001b[K     |██████████████████▌             | 30kB 2.6MB/s eta 0:00:01\r\u001b[K     |████████████████████████▊       | 40kB 1.7MB/s eta 0:00:01\r\u001b[K     |██████████████████████████████▉ | 51kB 2.1MB/s eta 0:00:01\r\u001b[K     |████████████████████████████████| 61kB 2.0MB/s \n",
            "\u001b[?25h"
          ],
          "name": "stdout"
        }
      ]
    },
    {
      "cell_type": "code",
      "metadata": {
        "id": "-z_AZ7-rm0xd",
        "colab_type": "code",
        "outputId": "b1c915ac-6795-4bce-936f-20be26a9b059",
        "colab": {
          "base_uri": "https://localhost:8080/",
          "height": 35
        }
      },
      "source": [
        "#from os import path\n",
        "#from wheel.pep425tags import get_abbr_impl, get_impl_ver, get_abi_tag\n",
        "#platform = '{}{}-{}'.format(get_abbr_impl(), get_impl_ver(), get_abi_tag())\n",
        "\n",
        "#print(platform)\n",
        "\n",
        "#accelerator = 'cu100' if path.exists('/opt/bin/nvidia-smi') else 'cpu'\n",
        "\n",
        "#!pip install -q https://download.pytorch.org/whl/cu100/torchvision-0.4.0%2B{accelerator}-{platform}-linux_x86_64.whl\n",
        "#!pip install -q https://download.pytorch.org/whl/cpu/torch-0.3.1-cp36-cp36m-linux_x86_64.whl\n",
        "#import torch"
      ],
      "execution_count": 0,
      "outputs": [
        {
          "output_type": "stream",
          "text": [
            "cp36-cp36m\n"
          ],
          "name": "stdout"
        }
      ]
    },
    {
      "cell_type": "code",
      "metadata": {
        "id": "ndS4QS6d90Pn",
        "colab_type": "code",
        "outputId": "2963dc7e-7b1a-4554-a5f5-e78b15086743",
        "colab": {
          "base_uri": "https://localhost:8080/",
          "height": 1000
        }
      },
      "source": [
        "#!curl -O https://repo.anaconda.com/miniconda/Miniconda3-latest-Linux-x86_64.sh\n",
        "#!sh Miniconda3-latest-Linux-x86_64.sh"
      ],
      "execution_count": 0,
      "outputs": [
        {
          "output_type": "stream",
          "text": [
            "  % Total    % Received % Xferd  Average Speed   Time    Time     Time  Current\n",
            "                                 Dload  Upload   Total   Spent    Left  Speed\n",
            "\r  0     0    0     0    0     0      0      0 --:--:-- --:--:-- --:--:--     0\r  0     0    0     0    0     0      0      0 --:--:-- --:--:-- --:--:--     0\r100 68.4M  100 68.4M    0     0   132M      0 --:--:-- --:--:-- --:--:--  132M\n",
            "\n",
            "Welcome to Miniconda3 4.7.12\n",
            "\n",
            "In order to continue the installation process, please review the license\n",
            "agreement.\n",
            "Please, press ENTER to continue\n",
            ">>> \n",
            "===================================\n",
            "Miniconda End User License Agreement\n",
            "===================================\n",
            "\n",
            "Copyright 2015, Anaconda, Inc.\n",
            "\n",
            "All rights reserved under the 3-clause BSD License:\n",
            "\n",
            "Redistribution and use in source and binary forms, with or without modification,\n",
            " are permitted provided that the following conditions are met:\n",
            "\n",
            "  * Redistributions of source code must retain the above copyright notice, this \n",
            "list of conditions and the following disclaimer.\n",
            "  * Redistributions in binary form must reproduce the above copyright notice, th\n",
            "is list of conditions and the following disclaimer in the documentation and/or o\n",
            "ther materials provided with the distribution.\n",
            "  * Neither the name of Anaconda, Inc. (\"Anaconda, Inc.\") nor the names of its c\n",
            "ontributors may be used to endorse or promote products derived from this softwar\n",
            "e without specific prior written permission.\n",
            "\n",
            "THIS SOFTWARE IS PROVIDED BY THE COPYRIGHT HOLDERS AND CONTRIBUTORS \"AS IS\" AND \n",
            "ANY EXPRESS OR IMPLIED WARRANTIES, INCLUDING, BUT NOT LIMITED TO, THE IMPLIED WA\n",
            "RRANTIES OF MERCHANTABILITY AND FITNESS FOR A PARTICULAR PURPOSE ARE DISCLAIMED.\n",
            " IN NO EVENT SHALL ANACONDA, INC. BE LIABLE FOR ANY DIRECT, INDIRECT, INCIDENTAL\n",
            ", SPECIAL, EXEMPLARY, OR CONSEQUENTIAL DAMAGES (INCLUDING, BUT NOT LIMITED TO, P\n",
            "ROCUREMENT OF SUBSTITUTE GOODS OR SERVICES; LOSS OF USE, DATA, OR PROFITS; OR BU\n",
            "SINESS INTERRUPTION) HOWEVER CAUSED AND ON ANY THEORY OF LIABILITY, WHETHER IN C\n",
            "ONTRACT, STRICT LIABILITY, OR TORT (INCLUDING NEGLIGENCE OR OTHERWISE) ARISING I\n",
            "N ANY WAY OUT OF THE USE OF THIS SOFTWARE, EVEN IF ADVISED OF THE POSSIBILITY OF\n",
            " SUCH DAMAGE.\n",
            "\u001b[K\n",
            "Notice of Third Party Software Licenses\n",
            "=======================================\n",
            "\u001b[K\n",
            "Miniconda contains open source software packages from third parties. These are a\n",
            "vailable on an \"as is\" basis and subject to their individual license agreements.\n",
            " These licenses are available in Anaconda Distribution or at http://docs.anacond\n",
            "a.com/anaconda/pkg-docs. Any binary packages of these third party tools you obta\n",
            "in via Anaconda Distribution are subject to their individual licenses as well as\n",
            " the Anaconda license. Anaconda, Inc. reserves the right to change which third p\n",
            "arty tools are provided in Miniconda.\n",
            "\u001b[K\n",
            "Cryptography Notice\n",
            "===================\n",
            "\u001b[K\n",
            "This distribution includes cryptographic software. The country in which you curr\n",
            "ently reside may have restrictions on the import, possession, use, and/or re-exp\n",
            "ort to another country, of encryption software. BEFORE using any encryption soft\n",
            "ware, please check your country's laws, regulations and policies concerning the \n",
            "import, possession, or use, and re-export of encryption software, to see if this\n",
            " is permitted. See the Wassenaar Arrangement http://www.wassenaar.org/ for more \n",
            "information.\n",
            "\u001b[K\n",
            "Anaconda, Inc. has self-classified this software as Export Commodity Control Num\n",
            "ber (ECCN) 5D992b, which includes mass market information security software usin\n",
            "g or performing cryptographic functions with asymmetric algorithms. No license i\n",
            "s required for export of this software to non-embargoed countries. In addition, \n",
            "the Intel(TM) Math Kernel Library contained in Anaconda, Inc.'s software is clas\n",
            "sified by Intel(TM) as ECCN 5D992b with no license required for export to non-em\n",
            "bargoed countries.\n",
            "\u001b[K\n",
            "The following packages are included in this distribution that relate to cryptogr\n",
            "aphy:\u001b[K\n",
            "\u001b[K\n",
            "openssl\u001b[K\n",
            "    The OpenSSL Project is a collaborative effort to develop a robust, commercia\n",
            "l-grade, full-featured, and Open Source toolkit implementing the Transport Layer\n",
            " Security (TLS) and Secure Sockets Layer (SSL) protocols as well as a full-stren\n",
            "gth general purpose cryptography library.\n",
            "\u001b[K\n",
            "pycrypto\n",
            "    A collection of both secure hash functions (such as SHA256 and RIPEMD160), a\n",
            "nd various encryption algorithms (AES, DES, RSA, ElGamal, etc.).\n",
            "\u001b[K\n",
            "pyopenssl\n",
            "    A thin Python wrapper around (a subset of) the OpenSSL library.\n",
            "\u001b[K\n",
            "kerberos (krb5, non-Windows platforms)\n",
            "    A network authentication protocol designed to provide strong authentication \n",
            "for client/server applications by using secret-key cryptography.\n",
            "\u001b[K\n",
            "cryptography\n",
            "    A Python library which exposes cryptographic recipes and primitives.\n",
            "\u001b[K\n",
            "\n",
            "Do you accept the license terms? [yes|no]\n",
            "[no] >>> \n",
            "Please answer 'yes' or 'no':'\n",
            ">>> \n",
            "Please answer 'yes' or 'no':'\n",
            ">>> \n",
            "Please answer 'yes' or 'no':'\n",
            ">>> \n",
            "Please answer 'yes' or 'no':'\n",
            ">>> \n",
            "Please answer 'yes' or 'no':'\n",
            ">>> \n",
            "Please answer 'yes' or 'no':'\n",
            ">>> \n",
            "Please answer 'yes' or 'no':'\n",
            ">>> \n",
            "Please answer 'yes' or 'no':'\n",
            ">>> \n",
            "Please answer 'yes' or 'no':'\n",
            ">>> \n",
            "Please answer 'yes' or 'no':'\n",
            ">>> \n",
            "Please answer 'yes' or 'no':'\n",
            ">>> \n",
            "Please answer 'yes' or 'no':'\n",
            ">>> \n",
            "Please answer 'yes' or 'no':'\n",
            ">>> \n",
            "Please answer 'yes' or 'no':'\n",
            ">>> \n",
            "Please answer 'yes' or 'no':'\n",
            ">>> \n",
            "Please answer 'yes' or 'no':'\n",
            ">>> \n",
            "Please answer 'yes' or 'no':'\n",
            ">>> \n",
            "Please answer 'yes' or 'no':'\n",
            ">>> \n",
            "Please answer 'yes' or 'no':'\n",
            ">>> \n",
            "Please answer 'yes' or 'no':'\n",
            ">>> \n",
            "Please answer 'yes' or 'no':'\n",
            ">>> \n",
            "Please answer 'yes' or 'no':'\n",
            ">>> \n",
            "Please answer 'yes' or 'no':'\n",
            ">>> \n",
            "Please answer 'yes' or 'no':'\n",
            ">>> \n",
            "Please answer 'yes' or 'no':'\n",
            ">>> \n",
            "Please answer 'yes' or 'no':'\n",
            ">>> \n",
            "Please answer 'yes' or 'no':'\n",
            ">>> \n",
            "Please answer 'yes' or 'no':'\n",
            ">>> \n",
            "Please answer 'yes' or 'no':'\n",
            ">>> \n",
            "Please answer 'yes' or 'no':'\n",
            ">>> \n",
            "Please answer 'yes' or 'no':'\n",
            ">>> \n",
            "Please answer 'yes' or 'no':'\n",
            ">>> \n",
            "Please answer 'yes' or 'no':'\n",
            ">>> \n",
            "Please answer 'yes' or 'no':'\n",
            ">>> \n",
            "Please answer 'yes' or 'no':'\n",
            ">>> \n",
            "Please answer 'yes' or 'no':'\n",
            ">>> \n",
            "Please answer 'yes' or 'no':'\n",
            ">>> \n",
            "Please answer 'yes' or 'no':'\n",
            ">>> \n",
            "Please answer 'yes' or 'no':'\n",
            ">>> \n",
            "Please answer 'yes' or 'no':'\n",
            ">>> \n",
            "Please answer 'yes' or 'no':'\n",
            ">>> \n",
            "Please answer 'yes' or 'no':'\n",
            ">>> \n",
            "Please answer 'yes' or 'no':'\n",
            ">>> \n",
            "Please answer 'yes' or 'no':'\n",
            ">>> \n",
            "Please answer 'yes' or 'no':'\n",
            ">>> \n",
            "Please answer 'yes' or 'no':'\n",
            ">>> \n",
            "Please answer 'yes' or 'no':'\n",
            ">>> \n",
            "Please answer 'yes' or 'no':'\n",
            ">>> \n",
            "Please answer 'yes' or 'no':'\n",
            ">>> \n",
            "Please answer 'yes' or 'no':'\n",
            ">>> \n",
            "Please answer 'yes' or 'no':'\n",
            ">>> \n",
            "Please answer 'yes' or 'no':'\n",
            ">>> \n",
            "Please answer 'yes' or 'no':'\n",
            ">>> \n",
            "Please answer 'yes' or 'no':'\n",
            ">>> \n",
            "Please answer 'yes' or 'no':'\n",
            ">>> \n",
            "Please answer 'yes' or 'no':'\n",
            ">>> \n",
            "Please answer 'yes' or 'no':'\n",
            ">>> \n",
            "Please answer 'yes' or 'no':'\n",
            ">>> \n",
            "Please answer 'yes' or 'no':'\n",
            ">>> \n",
            "Please answer 'yes' or 'no':'\n",
            ">>> \n",
            "Please answer 'yes' or 'no':'\n",
            ">>> \n",
            "Please answer 'yes' or 'no':'\n",
            ">>> \n",
            "Please answer 'yes' or 'no':'\n",
            ">>> \n",
            "Please answer 'yes' or 'no':'\n",
            ">>> \n",
            "Please answer 'yes' or 'no':'\n",
            ">>> \n",
            "Please answer 'yes' or 'no':'\n",
            ">>> \n",
            "Please answer 'yes' or 'no':'\n",
            ">>> \n",
            "Please answer 'yes' or 'no':'\n",
            ">>> \n",
            "Please answer 'yes' or 'no':'\n",
            ">>> \n",
            "Please answer 'yes' or 'no':'\n",
            ">>> \n",
            "Please answer 'yes' or 'no':'\n",
            ">>> \n",
            "Please answer 'yes' or 'no':'\n",
            ">>> \n",
            "Please answer 'yes' or 'no':'\n",
            ">>> \n",
            "Please answer 'yes' or 'no':'\n",
            ">>> \n",
            "Please answer 'yes' or 'no':'\n",
            ">>> \n",
            "Please answer 'yes' or 'no':'\n",
            ">>> \n",
            "Please answer 'yes' or 'no':'\n",
            ">>> \n",
            "Please answer 'yes' or 'no':'\n",
            ">>> \n",
            "Please answer 'yes' or 'no':'\n",
            ">>> \n",
            "Please answer 'yes' or 'no':'\n",
            ">>> \n",
            "Please answer 'yes' or 'no':'\n",
            ">>> \n",
            "Please answer 'yes' or 'no':'\n",
            ">>> \n",
            "Please answer 'yes' or 'no':'\n",
            ">>> \n",
            "Please answer 'yes' or 'no':'\n",
            ">>> \n",
            "Please answer 'yes' or 'no':'\n",
            ">>> \n",
            "Please answer 'yes' or 'no':'\n",
            ">>> \n",
            "Please answer 'yes' or 'no':'\n",
            ">>> \n",
            "Please answer 'yes' or 'no':'\n",
            ">>> \n",
            "Please answer 'yes' or 'no':'\n",
            ">>> \n",
            "Please answer 'yes' or 'no':'\n",
            ">>> \n",
            "Please answer 'yes' or 'no':'\n",
            ">>> \n",
            "Please answer 'yes' or 'no':'\n",
            ">>> \n",
            "Please answer 'yes' or 'no':'\n",
            ">>> \n",
            "Please answer 'yes' or 'no':'\n",
            ">>> \n",
            "Please answer 'yes' or 'no':'\n",
            ">>> \n",
            "Please answer 'yes' or 'no':'\n",
            ">>> \n",
            "Please answer 'yes' or 'no':'\n",
            ">>> \n",
            "Please answer 'yes' or 'no':'\n",
            ">>> \n",
            "Please answer 'yes' or 'no':'\n",
            ">>> \n",
            "Please answer 'yes' or 'no':'\n",
            ">>> \n",
            "Please answer 'yes' or 'no':'\n",
            ">>> \n",
            "Please answer 'yes' or 'no':'\n",
            ">>> \n",
            "Please answer 'yes' or 'no':'\n",
            ">>> \n",
            "Please answer 'yes' or 'no':'\n",
            ">>> \n",
            "Please answer 'yes' or 'no':'\n",
            ">>> \n",
            "Please answer 'yes' or 'no':'\n",
            ">>> \n",
            "Please answer 'yes' or 'no':'\n",
            ">>> \n",
            "Please answer 'yes' or 'no':'\n",
            ">>> \n",
            "Please answer 'yes' or 'no':'\n",
            ">>> \n",
            "Please answer 'yes' or 'no':'\n",
            ">>> \n",
            "Please answer 'yes' or 'no':'\n",
            ">>> \n",
            "Please answer 'yes' or 'no':'\n",
            ">>> \n",
            "Please answer 'yes' or 'no':'\n",
            ">>> \n",
            "Please answer 'yes' or 'no':'\n",
            ">>> \n",
            "Please answer 'yes' or 'no':'\n",
            ">>> \n",
            "Please answer 'yes' or 'no':'\n",
            ">>> \n",
            "Please answer 'yes' or 'no':'\n",
            ">>> \n",
            "Please answer 'yes' or 'no':'\n",
            ">>> \n",
            "Please answer 'yes' or 'no':'\n",
            ">>> \n",
            "Please answer 'yes' or 'no':'\n",
            ">>> \n",
            "Please answer 'yes' or 'no':'\n",
            ">>> \n",
            "Please answer 'yes' or 'no':'\n",
            ">>> \n",
            "Please answer 'yes' or 'no':'\n",
            ">>> \n",
            "Please answer 'yes' or 'no':'\n",
            ">>> \n",
            "Please answer 'yes' or 'no':'\n",
            ">>> \n",
            "Please answer 'yes' or 'no':'\n",
            ">>> \n",
            "Please answer 'yes' or 'no':'\n",
            ">>> \n",
            "Please answer 'yes' or 'no':'\n",
            ">>> \n",
            "Please answer 'yes' or 'no':'\n",
            ">>> \n",
            "Please answer 'yes' or 'no':'\n",
            ">>> \n",
            "Please answer 'yes' or 'no':'\n",
            ">>> \n",
            "Please answer 'yes' or 'no':'\n",
            ">>> \n",
            "Please answer 'yes' or 'no':'\n",
            ">>> \n",
            "Please answer 'yes' or 'no':'\n",
            ">>> \n",
            "Please answer 'yes' or 'no':'\n",
            ">>> \n",
            "Please answer 'yes' or 'no':'\n",
            ">>> \n",
            "Please answer 'yes' or 'no':'\n",
            ">>> \n",
            "Please answer 'yes' or 'no':'\n",
            ">>> \n",
            "Please answer 'yes' or 'no':'\n",
            ">>> \n",
            "Please answer 'yes' or 'no':'\n",
            ">>> \n",
            "Please answer 'yes' or 'no':'\n",
            ">>> \n",
            "Please answer 'yes' or 'no':'\n",
            ">>> \n",
            "Please answer 'yes' or 'no':'\n",
            ">>> \n",
            "Please answer 'yes' or 'no':'\n",
            ">>> \n",
            "Please answer 'yes' or 'no':'\n",
            ">>> \n",
            "Please answer 'yes' or 'no':'\n",
            ">>> \n",
            "Please answer 'yes' or 'no':'\n",
            ">>> \n",
            "Please answer 'yes' or 'no':'\n",
            ">>> \n",
            "Please answer 'yes' or 'no':'\n",
            ">>> \n",
            "Please answer 'yes' or 'no':'\n",
            ">>> \n",
            "Please answer 'yes' or 'no':'\n",
            ">>> \n",
            "Please answer 'yes' or 'no':'\n",
            ">>> \n",
            "Please answer 'yes' or 'no':'\n",
            ">>> \n",
            "Please answer 'yes' or 'no':'\n",
            ">>> \n",
            "Please answer 'yes' or 'no':'\n",
            ">>> \n",
            "Please answer 'yes' or 'no':'\n",
            ">>> \n",
            "Please answer 'yes' or 'no':'\n",
            ">>> \n",
            "Please answer 'yes' or 'no':'\n",
            ">>> \n",
            "Please answer 'yes' or 'no':'\n",
            ">>> \n",
            "Please answer 'yes' or 'no':'\n",
            ">>> \n",
            "Please answer 'yes' or 'no':'\n",
            ">>> \n",
            "Please answer 'yes' or 'no':'\n",
            ">>> \n",
            "Please answer 'yes' or 'no':'\n",
            ">>> \n",
            "Please answer 'yes' or 'no':'\n",
            ">>> \n",
            "Please answer 'yes' or 'no':'\n",
            ">>> \n",
            "Please answer 'yes' or 'no':'\n",
            ">>> \n",
            "Please answer 'yes' or 'no':'\n",
            ">>> \n",
            "Please answer 'yes' or 'no':'\n",
            ">>> \n",
            "Please answer 'yes' or 'no':'\n",
            ">>> \n",
            "Please answer 'yes' or 'no':'\n",
            ">>> \n",
            "Please answer 'yes' or 'no':'\n",
            ">>> \n",
            "Please answer 'yes' or 'no':'\n",
            ">>> \n",
            "Please answer 'yes' or 'no':'\n",
            ">>> \n",
            "Please answer 'yes' or 'no':'\n",
            ">>> \n",
            "Please answer 'yes' or 'no':'\n",
            ">>> \n",
            "Please answer 'yes' or 'no':'\n",
            ">>> \n",
            "Please answer 'yes' or 'no':'\n",
            ">>> \n",
            "Please answer 'yes' or 'no':'\n",
            ">>> \n",
            "Please answer 'yes' or 'no':'\n",
            ">>> \n",
            "Please answer 'yes' or 'no':'\n",
            ">>> \n",
            "Please answer 'yes' or 'no':'\n",
            ">>> \n",
            "Please answer 'yes' or 'no':'\n",
            ">>> \n",
            "Please answer 'yes' or 'no':'\n",
            ">>> \n",
            "Please answer 'yes' or 'no':'\n",
            ">>> \n",
            "Please answer 'yes' or 'no':'\n",
            ">>> \n",
            "Please answer 'yes' or 'no':'\n",
            ">>> \n",
            "Please answer 'yes' or 'no':'\n",
            ">>> \n",
            "Please answer 'yes' or 'no':'\n",
            ">>> \n",
            "Please answer 'yes' or 'no':'\n",
            ">>> \n",
            "Please answer 'yes' or 'no':'\n",
            ">>> \n",
            "Please answer 'yes' or 'no':'\n",
            ">>> \n",
            "Please answer 'yes' or 'no':'\n",
            ">>> \n",
            "Please answer 'yes' or 'no':'\n",
            ">>> \n",
            "Please answer 'yes' or 'no':'\n",
            ">>> \n",
            "Please answer 'yes' or 'no':'\n",
            ">>> \n",
            "Please answer 'yes' or 'no':'\n",
            ">>> \n",
            "Please answer 'yes' or 'no':'\n",
            ">>> \n",
            "Please answer 'yes' or 'no':'\n",
            ">>> \n",
            "Please answer 'yes' or 'no':'\n",
            ">>> \n",
            "Please answer 'yes' or 'no':'\n",
            ">>> \n",
            "Please answer 'yes' or 'no':'\n",
            ">>> \n",
            "Please answer 'yes' or 'no':'\n",
            ">>> \n",
            "Please answer 'yes' or 'no':'\n",
            ">>> \n",
            "Please answer 'yes' or 'no':'\n",
            ">>> \n",
            "Please answer 'yes' or 'no':'\n",
            ">>> \n",
            "Please answer 'yes' or 'no':'\n",
            ">>> \n",
            "Please answer 'yes' or 'no':'\n",
            ">>> \n",
            "Please answer 'yes' or 'no':'\n",
            ">>> \n",
            "Please answer 'yes' or 'no':'\n",
            ">>> \n",
            "Please answer 'yes' or 'no':'\n",
            ">>> \n",
            "Please answer 'yes' or 'no':'\n",
            ">>> \n",
            "Please answer 'yes' or 'no':'\n",
            ">>> \n",
            "Please answer 'yes' or 'no':'\n",
            ">>> \n",
            "Please answer 'yes' or 'no':'\n",
            ">>> \n",
            "Please answer 'yes' or 'no':'\n",
            ">>> \n",
            "Please answer 'yes' or 'no':'\n",
            ">>> \n",
            "Please answer 'yes' or 'no':'\n",
            ">>> \n",
            "Please answer 'yes' or 'no':'\n",
            ">>> \n",
            "Please answer 'yes' or 'no':'\n",
            ">>> \n",
            "Please answer 'yes' or 'no':'\n",
            ">>> \n",
            "Please answer 'yes' or 'no':'\n",
            ">>> \n",
            "Please answer 'yes' or 'no':'\n",
            ">>> \n",
            "Please answer 'yes' or 'no':'\n",
            ">>> \n",
            "Please answer 'yes' or 'no':'\n",
            ">>> \n",
            "Please answer 'yes' or 'no':'\n",
            ">>> \n",
            "Please answer 'yes' or 'no':'\n",
            ">>> \n",
            "Please answer 'yes' or 'no':'\n",
            ">>> \n",
            "Please answer 'yes' or 'no':'\n",
            ">>> \n",
            "Please answer 'yes' or 'no':'\n",
            ">>> \n",
            "Please answer 'yes' or 'no':'\n",
            ">>> \n",
            "Please answer 'yes' or 'no':'\n",
            ">>> \n",
            "Please answer 'yes' or 'no':'\n",
            ">>> \n",
            "Please answer 'yes' or 'no':'\n",
            ">>> \n",
            "Please answer 'yes' or 'no':'\n",
            ">>> \n",
            "Please answer 'yes' or 'no':'\n",
            ">>> \n",
            "Please answer 'yes' or 'no':'\n",
            ">>> \n",
            "Please answer 'yes' or 'no':'\n",
            ">>> \n",
            "Please answer 'yes' or 'no':'\n",
            ">>> \n",
            "Please answer 'yes' or 'no':'\n",
            ">>> \n",
            "Please answer 'yes' or 'no':'\n",
            ">>> \n",
            "Please answer 'yes' or 'no':'\n",
            ">>> \n",
            "Please answer 'yes' or 'no':'\n",
            ">>> \n",
            "Please answer 'yes' or 'no':'\n",
            ">>> \n",
            "Please answer 'yes' or 'no':'\n",
            ">>> \n",
            "Please answer 'yes' or 'no':'\n",
            ">>> \n",
            "Please answer 'yes' or 'no':'\n",
            ">>> \n",
            "Please answer 'yes' or 'no':'\n",
            ">>> \n",
            "Please answer 'yes' or 'no':'\n",
            ">>> \n",
            "Please answer 'yes' or 'no':'\n",
            ">>> \n",
            "Please answer 'yes' or 'no':'\n",
            ">>> \n",
            "Please answer 'yes' or 'no':'\n",
            ">>> \n",
            "Please answer 'yes' or 'no':'\n",
            ">>> \n",
            "Please answer 'yes' or 'no':'\n",
            ">>> \n",
            "Please answer 'yes' or 'no':'\n",
            ">>> \n",
            "Please answer 'yes' or 'no':'\n",
            ">>> \n",
            "Please answer 'yes' or 'no':'\n",
            ">>> \n",
            "Please answer 'yes' or 'no':'\n",
            ">>> \n",
            "Please answer 'yes' or 'no':'\n",
            ">>> \n",
            "Please answer 'yes' or 'no':'\n",
            ">>> \n",
            "Please answer 'yes' or 'no':'\n",
            ">>> \n",
            "Please answer 'yes' or 'no':'\n",
            ">>> \n",
            "Please answer 'yes' or 'no':'\n",
            ">>> \n",
            "Please answer 'yes' or 'no':'\n",
            ">>> \n",
            "Please answer 'yes' or 'no':'\n",
            ">>> \n",
            "Please answer 'yes' or 'no':'\n",
            ">>> \n",
            "Please answer 'yes' or 'no':'\n",
            ">>> \n",
            "Please answer 'yes' or 'no':'\n",
            ">>> \n",
            "Please answer 'yes' or 'no':'\n",
            ">>> \n",
            "Please answer 'yes' or 'no':'\n",
            ">>> \n",
            "Please answer 'yes' or 'no':'\n",
            ">>> \n",
            "Please answer 'yes' or 'no':'\n",
            ">>> \n",
            "Please answer 'yes' or 'no':'\n",
            ">>> \n",
            "Please answer 'yes' or 'no':'\n",
            ">>> \n",
            "Please answer 'yes' or 'no':'\n",
            ">>> \n",
            "Please answer 'yes' or 'no':'\n",
            ">>> \n",
            "Please answer 'yes' or 'no':'\n",
            ">>> \n",
            "Please answer 'yes' or 'no':'\n",
            ">>> \n",
            "Please answer 'yes' or 'no':'\n",
            ">>> \n",
            "Please answer 'yes' or 'no':'\n",
            ">>> \n",
            "Please answer 'yes' or 'no':'\n",
            ">>> \n",
            "Please answer 'yes' or 'no':'\n",
            ">>> \n",
            "Please answer 'yes' or 'no':'\n",
            ">>> \n",
            "Please answer 'yes' or 'no':'\n",
            ">>> \n",
            "Please answer 'yes' or 'no':'\n",
            ">>> \n",
            "Please answer 'yes' or 'no':'\n",
            ">>> \n",
            "Please answer 'yes' or 'no':'\n",
            ">>> \n",
            "Please answer 'yes' or 'no':'\n",
            ">>> \n",
            "Please answer 'yes' or 'no':'\n",
            ">>> \n",
            "Please answer 'yes' or 'no':'\n",
            ">>> \n",
            "Please answer 'yes' or 'no':'\n",
            ">>> \n",
            "Please answer 'yes' or 'no':'\n",
            ">>> \n",
            "Please answer 'yes' or 'no':'\n",
            ">>> \n",
            "Please answer 'yes' or 'no':'\n",
            ">>> \n",
            "Please answer 'yes' or 'no':'\n",
            ">>> \n",
            "Please answer 'yes' or 'no':'\n",
            ">>> \n",
            "Please answer 'yes' or 'no':'\n",
            ">>> \n",
            "Please answer 'yes' or 'no':'\n",
            ">>> \n",
            "Please answer 'yes' or 'no':'\n",
            ">>> \n",
            "Please answer 'yes' or 'no':'\n",
            ">>> \n",
            "Please answer 'yes' or 'no':'\n",
            ">>> \n",
            "Please answer 'yes' or 'no':'\n",
            ">>> \n",
            "Please answer 'yes' or 'no':'\n",
            ">>> \n",
            "Please answer 'yes' or 'no':'\n",
            ">>> \n",
            "Please answer 'yes' or 'no':'\n",
            ">>> \n",
            "Please answer 'yes' or 'no':'\n",
            ">>> \n",
            "Please answer 'yes' or 'no':'\n",
            ">>> \n",
            "Please answer 'yes' or 'no':'\n",
            ">>> \n",
            "Please answer 'yes' or 'no':'\n",
            ">>> \n",
            "Please answer 'yes' or 'no':'\n",
            ">>> \n",
            "Please answer 'yes' or 'no':'\n",
            ">>> \n",
            "Please answer 'yes' or 'no':'\n",
            ">>> \n",
            "Please answer 'yes' or 'no':'\n",
            ">>> \n",
            "Please answer 'yes' or 'no':'\n",
            ">>> \n",
            "Please answer 'yes' or 'no':'\n",
            ">>> \n",
            "Please answer 'yes' or 'no':'\n",
            ">>> \n",
            "Please answer 'yes' or 'no':'\n",
            ">>> \n",
            "Please answer 'yes' or 'no':'\n",
            ">>> \n",
            "Please answer 'yes' or 'no':'\n",
            ">>> \n",
            "Please answer 'yes' or 'no':'\n",
            ">>> \n",
            "Please answer 'yes' or 'no':'\n",
            ">>> \n",
            "Please answer 'yes' or 'no':'\n",
            ">>> \n",
            "Please answer 'yes' or 'no':'\n",
            ">>> \n",
            "Please answer 'yes' or 'no':'\n",
            ">>> \n",
            "Please answer 'yes' or 'no':'\n",
            ">>> \n",
            "Please answer 'yes' or 'no':'\n",
            ">>> \n",
            "Please answer 'yes' or 'no':'\n",
            ">>> \n",
            "Please answer 'yes' or 'no':'\n",
            ">>> \n",
            "Please answer 'yes' or 'no':'\n",
            ">>> \n",
            "Please answer 'yes' or 'no':'\n",
            ">>> \n",
            "Please answer 'yes' or 'no':'\n",
            ">>> \n",
            "Please answer 'yes' or 'no':'\n",
            ">>> \n",
            "Please answer 'yes' or 'no':'\n",
            ">>> \n",
            "Please answer 'yes' or 'no':'\n",
            ">>> \n",
            "Please answer 'yes' or 'no':'\n",
            ">>> \n",
            "Please answer 'yes' or 'no':'\n",
            ">>> \n",
            "Please answer 'yes' or 'no':'\n",
            ">>> \n",
            "Please answer 'yes' or 'no':'\n",
            ">>> \n",
            "Please answer 'yes' or 'no':'\n",
            ">>> \n",
            "Please answer 'yes' or 'no':'\n",
            ">>> \n",
            "Please answer 'yes' or 'no':'\n",
            ">>> \n",
            "Please answer 'yes' or 'no':'\n",
            ">>> \n",
            "Please answer 'yes' or 'no':'\n",
            ">>> \n",
            "Please answer 'yes' or 'no':'\n",
            ">>> \n",
            "Please answer 'yes' or 'no':'\n",
            ">>> \n",
            "Please answer 'yes' or 'no':'\n",
            ">>> \n",
            "Please answer 'yes' or 'no':'\n",
            ">>> \n",
            "Please answer 'yes' or 'no':'\n",
            ">>> \n",
            "Please answer 'yes' or 'no':'\n",
            ">>> \n",
            "Please answer 'yes' or 'no':'\n",
            ">>> \n",
            "Please answer 'yes' or 'no':'\n",
            ">>> \n",
            "Please answer 'yes' or 'no':'\n",
            ">>> \n",
            "Please answer 'yes' or 'no':'\n",
            ">>> \n",
            "Please answer 'yes' or 'no':'\n",
            ">>> \n",
            "Please answer 'yes' or 'no':'\n",
            ">>> \n",
            "Please answer 'yes' or 'no':'\n",
            ">>> \n",
            "Please answer 'yes' or 'no':'\n",
            ">>> \n",
            "Please answer 'yes' or 'no':'\n",
            ">>> \n",
            "Please answer 'yes' or 'no':'\n",
            ">>> \n",
            "Please answer 'yes' or 'no':'\n",
            ">>> \n",
            "Please answer 'yes' or 'no':'\n",
            ">>> \n",
            "Please answer 'yes' or 'no':'\n",
            ">>> \n",
            "Please answer 'yes' or 'no':'\n",
            ">>> \n",
            "Please answer 'yes' or 'no':'\n",
            ">>> \n",
            "Please answer 'yes' or 'no':'\n",
            ">>> \n",
            "Please answer 'yes' or 'no':'\n",
            ">>> \n",
            "Please answer 'yes' or 'no':'\n",
            ">>> \n",
            "Please answer 'yes' or 'no':'\n",
            ">>> \n",
            "Please answer 'yes' or 'no':'\n",
            ">>> \n",
            "Please answer 'yes' or 'no':'\n",
            ">>> \n",
            "Please answer 'yes' or 'no':'\n",
            ">>> \n",
            "Please answer 'yes' or 'no':'\n",
            ">>> \n",
            "Please answer 'yes' or 'no':'\n",
            ">>> \n",
            "Please answer 'yes' or 'no':'\n",
            ">>> \n",
            "Please answer 'yes' or 'no':'\n",
            ">>> \n",
            "Please answer 'yes' or 'no':'\n",
            ">>> \n",
            "Please answer 'yes' or 'no':'\n",
            ">>> \n",
            "Please answer 'yes' or 'no':'\n",
            ">>> \n",
            "\n",
            "Please answer 'yes' or 'no':'\n",
            ">>> Please answer 'yes' or 'no':'\n",
            ">>> \n",
            "Please answer 'yes' or 'no':'\n",
            ">>> \n",
            "Please answer 'yes' or 'no':'\n",
            ">>> \n",
            "Please answer 'yes' or 'no':'\n",
            ">>> \n",
            "Please answer 'yes' or 'no':'\n",
            ">>> \n",
            "Please answer 'yes' or 'no':'\n",
            ">>> \n",
            "Please answer 'yes' or 'no':'\n",
            ">>> \n",
            "Please answer 'yes' or 'no':'\n",
            ">>> \n",
            "Please answer 'yes' or 'no':'\n",
            ">>> \n",
            "Please answer 'yes' or 'no':'\n",
            ">>> \n",
            "Please answer 'yes' or 'no':'\n",
            ">>> \n",
            "Please answer 'yes' or 'no':'\n",
            ">>> \n",
            "Please answer 'yes' or 'no':'\n",
            ">>> \n",
            "Please answer 'yes' or 'no':'\n",
            ">>> \n",
            "Please answer 'yes' or 'no':'\n",
            ">>> \n",
            "Please answer 'yes' or 'no':'\n",
            ">>> \n",
            "Please answer 'yes' or 'no':'\n",
            ">>> \n",
            "Please answer 'yes' or 'no':'\n",
            ">>> \n",
            "Please answer 'yes' or 'no':'\n",
            ">>> \n",
            "Please answer 'yes' or 'no':'\n",
            ">>> \n",
            "Please answer 'yes' or 'no':'\n",
            ">>> \n",
            "Please answer 'yes' or 'no':'\n",
            ">>> \n",
            "Please answer 'yes' or 'no':'\n",
            ">>> \n",
            "Please answer 'yes' or 'no':'\n",
            ">>> \n",
            "Please answer 'yes' or 'no':'\n",
            ">>> \n",
            "Please answer 'yes' or 'no':'\n",
            ">>> \n",
            "Please answer 'yes' or 'no':'\n",
            ">>> \n",
            "Please answer 'yes' or 'no':'\n",
            ">>> \n",
            "Please answer 'yes' or 'no':'\n",
            ">>> \n",
            "Please answer 'yes' or 'no':'\n",
            ">>> \n",
            "Please answer 'yes' or 'no':'\n",
            ">>> \n",
            "Please answer 'yes' or 'no':'\n",
            ">>> \n",
            "Please answer 'yes' or 'no':'\n",
            ">>> \n",
            "Please answer 'yes' or 'no':'\n",
            ">>> \n",
            "Please answer 'yes' or 'no':'\n",
            ">>> \n",
            "Please answer 'yes' or 'no':'\n",
            ">>> \n",
            "Please answer 'yes' or 'no':'\n",
            ">>> \n",
            "Please answer 'yes' or 'no':'\n",
            ">>> \n",
            "Please answer 'yes' or 'no':'\n",
            ">>> \n",
            "Please answer 'yes' or 'no':'\n",
            ">>> \n",
            "Please answer 'yes' or 'no':'\n",
            ">>> \n",
            "Please answer 'yes' or 'no':'\n",
            ">>> \n",
            "Please answer 'yes' or 'no':'\n",
            ">>> \n",
            "Please answer 'yes' or 'no':'\n",
            ">>> \n",
            "Please answer 'yes' or 'no':'\n",
            ">>> \n",
            "Please answer 'yes' or 'no':'\n",
            ">>> \n",
            "Please answer 'yes' or 'no':'\n",
            ">>> \n",
            "Please answer 'yes' or 'no':'\n",
            ">>> \n",
            "Please answer 'yes' or 'no':'\n",
            ">>> \n",
            "Please answer 'yes' or 'no':'\n",
            ">>> \n",
            "Please answer 'yes' or 'no':'\n",
            ">>> \n",
            "Please answer 'yes' or 'no':'\n",
            ">>> \n",
            "Please answer 'yes' or 'no':'\n",
            ">>> \n",
            "Please answer 'yes' or 'no':'\n",
            ">>> \n",
            "Please answer 'yes' or 'no':'\n",
            ">>> \n",
            "Please answer 'yes' or 'no':'\n",
            ">>> \n",
            "Please answer 'yes' or 'no':'\n",
            ">>> \n",
            "Please answer 'yes' or 'no':'\n",
            ">>> \n",
            "Please answer 'yes' or 'no':'\n",
            ">>> \n",
            "Please answer 'yes' or 'no':'\n",
            ">>> \n",
            "Please answer 'yes' or 'no':'\n",
            ">>> \n",
            "Please answer 'yes' or 'no':'\n",
            ">>> \n",
            "Please answer 'yes' or 'no':'\n",
            ">>> \n",
            "Please answer 'yes' or 'no':'\n",
            ">>> \n",
            "Please answer 'yes' or 'no':'\n",
            ">>> \n",
            "Please answer 'yes' or 'no':'\n",
            ">>> \n",
            "Please answer 'yes' or 'no':'\n",
            ">>> \n",
            "Please answer 'yes' or 'no':'\n",
            ">>> \n",
            "Please answer 'yes' or 'no':'\n",
            ">>> \n",
            "Please answer 'yes' or 'no':'\n",
            ">>> \n",
            "Please answer 'yes' or 'no':'\n",
            ">>> \n",
            "Please answer 'yes' or 'no':'\n",
            ">>> \n",
            "Please answer 'yes' or 'no':'\n",
            ">>> \n",
            "Please answer 'yes' or 'no':'\n",
            ">>> \n",
            "Please answer 'yes' or 'no':'\n",
            ">>> \n",
            "Please answer 'yes' or 'no':'\n",
            ">>> \n",
            "Please answer 'yes' or 'no':'\n",
            ">>> \n",
            "Please answer 'yes' or 'no':'\n",
            ">>> \n",
            "Please answer 'yes' or 'no':'\n",
            ">>> \n",
            "Please answer 'yes' or 'no':'\n",
            ">>> \n",
            "Please answer 'yes' or 'no':'\n",
            ">>> \n",
            "Please answer 'yes' or 'no':'\n",
            ">>> \n",
            "Please answer 'yes' or 'no':'\n",
            ">>> \n",
            "Please answer 'yes' or 'no':'\n",
            ">>> \n",
            "Please answer 'yes' or 'no':'\n",
            ">>> \n",
            "Please answer 'yes' or 'no':'\n",
            ">>> \n",
            "Please answer 'yes' or 'no':'\n",
            ">>> \n",
            "Please answer 'yes' or 'no':'\n",
            ">>> \n",
            "Please answer 'yes' or 'no':'\n",
            ">>> \n",
            "Please answer 'yes' or 'no':'\n",
            ">>> \n",
            "Please answer 'yes' or 'no':'\n",
            ">>> \n",
            "Please answer 'yes' or 'no':'\n",
            ">>> \n",
            "Please answer 'yes' or 'no':'\n",
            ">>> \n",
            "Please answer 'yes' or 'no':'\n",
            ">>> \n",
            "Please answer 'yes' or 'no':'\n",
            ">>> \n",
            "Please answer 'yes' or 'no':'\n",
            ">>> \n",
            "Please answer 'yes' or 'no':'\n",
            ">>> \n",
            "Please answer 'yes' or 'no':'\n",
            ">>> \n",
            "Please answer 'yes' or 'no':'\n",
            ">>> \n",
            "Please answer 'yes' or 'no':'\n",
            ">>> \n",
            "Please answer 'yes' or 'no':'\n",
            ">>> \n",
            "Please answer 'yes' or 'no':'\n",
            ">>> \n",
            "Please answer 'yes' or 'no':'\n",
            ">>> \n",
            "Please answer 'yes' or 'no':'\n",
            ">>> \n",
            "Please answer 'yes' or 'no':'\n",
            ">>> \n",
            "Please answer 'yes' or 'no':'\n",
            ">>> \n",
            "Please answer 'yes' or 'no':'\n",
            ">>> \n",
            "Please answer 'yes' or 'no':'\n",
            ">>> \n",
            "Please answer 'yes' or 'no':'\n",
            ">>> \n",
            "Please answer 'yes' or 'no':'\n",
            ">>> \n",
            "Please answer 'yes' or 'no':'\n",
            ">>> \n",
            "Please answer 'yes' or 'no':'\n",
            ">>> \n",
            "Please answer 'yes' or 'no':'\n",
            ">>> \n",
            "Please answer 'yes' or 'no':'\n",
            ">>> \n",
            "Please answer 'yes' or 'no':'\n",
            ">>> \n",
            "Please answer 'yes' or 'no':'\n",
            ">>> \n",
            "Please answer 'yes' or 'no':'\n",
            ">>> \n",
            "Please answer 'yes' or 'no':'\n",
            ">>> \n",
            "Please answer 'yes' or 'no':'\n",
            ">>> \n",
            "Please answer 'yes' or 'no':'\n",
            ">>> \n",
            "Please answer 'yes' or 'no':'\n",
            ">>> \n",
            "Please answer 'yes' or 'no':'\n",
            ">>> \n",
            "Please answer 'yes' or 'no':'\n",
            ">>> \n",
            "Please answer 'yes' or 'no':'\n",
            ">>> \n",
            "Please answer 'yes' or 'no':'\n",
            ">>> \n",
            "Please answer 'yes' or 'no':'\n",
            ">>> \n",
            "Please answer 'yes' or 'no':'\n",
            ">>> \n",
            "Please answer 'yes' or 'no':'\n",
            ">>> \n",
            "Please answer 'yes' or 'no':'\n",
            ">>> \n",
            "Please answer 'yes' or 'no':'\n",
            ">>> \n",
            "Please answer 'yes' or 'no':'\n",
            ">>> \n",
            "Please answer 'yes' or 'no':'\n",
            ">>> \n",
            "Please answer 'yes' or 'no':'\n",
            ">>> \n",
            "Please answer 'yes' or 'no':'\n",
            ">>> \n",
            "Please answer 'yes' or 'no':'\n",
            ">>> \n",
            "Please answer 'yes' or 'no':'\n",
            ">>> \n",
            "Please answer 'yes' or 'no':'\n",
            ">>> \n",
            "Please answer 'yes' or 'no':'\n",
            ">>> \n",
            "Please answer 'yes' or 'no':'\n",
            ">>> \n",
            "Please answer 'yes' or 'no':'\n",
            ">>> \n",
            "Please answer 'yes' or 'no':'\n",
            ">>> \n",
            "Please answer 'yes' or 'no':'\n",
            ">>> \n",
            "Please answer 'yes' or 'no':'\n",
            ">>> \n",
            "Please answer 'yes' or 'no':'\n",
            ">>> \n",
            "Please answer 'yes' or 'no':'\n",
            ">>> \n",
            "Please answer 'yes' or 'no':'\n",
            ">>> \n",
            "Please answer 'yes' or 'no':'\n",
            ">>> \n",
            "Please answer 'yes' or 'no':'\n",
            ">>> \n",
            "Please answer 'yes' or 'no':'\n",
            ">>> \n",
            "Please answer 'yes' or 'no':'\n",
            ">>> \n",
            "Please answer 'yes' or 'no':'\n",
            ">>> \n",
            "Please answer 'yes' or 'no':'\n",
            ">>> \n",
            "Please answer 'yes' or 'no':'\n",
            ">>> \n",
            "Please answer 'yes' or 'no':'\n",
            ">>> \n",
            "Please answer 'yes' or 'no':'\n",
            ">>> \n",
            "Please answer 'yes' or 'no':'\n",
            ">>> \n",
            "Please answer 'yes' or 'no':'\n",
            ">>> \n",
            "Please answer 'yes' or 'no':'\n",
            ">>> \n",
            "Please answer 'yes' or 'no':'\n",
            ">>> \n",
            "Please answer 'yes' or 'no':'\n",
            ">>> \n",
            "Please answer 'yes' or 'no':'\n",
            ">>> \n",
            "Please answer 'yes' or 'no':'\n",
            ">>> \n",
            "Please answer 'yes' or 'no':'\n",
            ">>> \n",
            "Please answer 'yes' or 'no':'\n",
            ">>> \n",
            "Please answer 'yes' or 'no':'\n",
            ">>> \n",
            "Please answer 'yes' or 'no':'\n",
            ">>> \n",
            "Please answer 'yes' or 'no':'\n",
            ">>> \n",
            "Please answer 'yes' or 'no':'\n",
            ">>> \n",
            "Please answer 'yes' or 'no':'\n",
            ">>> \n",
            "Please answer 'yes' or 'no':'\n",
            ">>> \n",
            "Please answer 'yes' or 'no':'\n",
            ">>> \n",
            "Please answer 'yes' or 'no':'\n",
            ">>> \n",
            "Please answer 'yes' or 'no':'\n",
            ">>> \n",
            "Please answer 'yes' or 'no':'\n",
            ">>> \n",
            "Please answer 'yes' or 'no':'\n",
            ">>> \n",
            "Please answer 'yes' or 'no':'\n",
            ">>> \n",
            "Please answer 'yes' or 'no':'\n",
            ">>> \n",
            "Please answer 'yes' or 'no':'\n",
            ">>> \n",
            "Please answer 'yes' or 'no':'\n",
            ">>> \n",
            "Please answer 'yes' or 'no':'\n",
            ">>> \n",
            "Please answer 'yes' or 'no':'\n",
            ">>> \n",
            "Please answer 'yes' or 'no':'\n",
            ">>> \n",
            "Please answer 'yes' or 'no':'\n",
            ">>> \n",
            "Please answer 'yes' or 'no':'\n",
            ">>> \n",
            "Please answer 'yes' or 'no':'\n",
            ">>> \n",
            "Please answer 'yes' or 'no':'\n",
            ">>> \n",
            "Please answer 'yes' or 'no':'\n",
            ">>> \n",
            "Please answer 'yes' or 'no':'\n",
            ">>> \n",
            "Please answer 'yes' or 'no':'\n",
            ">>> \n",
            "Please answer 'yes' or 'no':'\n",
            ">>> \n",
            "Please answer 'yes' or 'no':'\n",
            ">>> \n",
            "Please answer 'yes' or 'no':'\n",
            ">>> \n",
            "Please answer 'yes' or 'no':'\n",
            ">>> \n",
            "Please answer 'yes' or 'no':'\n",
            ">>> \n",
            "Please answer 'yes' or 'no':'\n",
            ">>> \n",
            "Please answer 'yes' or 'no':'\n",
            ">>> \n",
            "Please answer 'yes' or 'no':'\n",
            ">>> \n",
            "Please answer 'yes' or 'no':'\n",
            ">>> \n",
            "Please answer 'yes' or 'no':'\n",
            ">>> \n",
            "Please answer 'yes' or 'no':'\n",
            ">>> \n",
            "Please answer 'yes' or 'no':'\n",
            ">>> \n",
            "Please answer 'yes' or 'no':'\n",
            ">>> \n",
            "Please answer 'yes' or 'no':'\n",
            ">>> \n",
            "Please answer 'yes' or 'no':'\n",
            ">>> \n",
            "Please answer 'yes' or 'no':'\n",
            ">>> \n",
            "Please answer 'yes' or 'no':'\n",
            ">>> \n",
            "Please answer 'yes' or 'no':'\n",
            ">>> \n",
            "Please answer 'yes' or 'no':'\n",
            ">>> \n",
            "Please answer 'yes' or 'no':'\n",
            ">>> \n",
            "Please answer 'yes' or 'no':'\n",
            ">>> \n",
            "Please answer 'yes' or 'no':'\n",
            ">>> \n",
            "Please answer 'yes' or 'no':'\n",
            ">>> \n",
            "Please answer 'yes' or 'no':'\n",
            ">>> \n",
            "Please answer 'yes' or 'no':'\n",
            ">>> \n",
            "Please answer 'yes' or 'no':'\n",
            ">>> \n",
            "Please answer 'yes' or 'no':'\n",
            ">>> \n",
            "Please answer 'yes' or 'no':'\n",
            ">>> \n",
            "Please answer 'yes' or 'no':'\n",
            ">>> \n",
            "Please answer 'yes' or 'no':'\n",
            ">>> \n",
            "Please answer 'yes' or 'no':'\n",
            ">>> \n",
            "Please answer 'yes' or 'no':'\n",
            ">>> \n",
            "Please answer 'yes' or 'no':'\n",
            ">>> \n",
            "Please answer 'yes' or 'no':'\n",
            ">>> \n",
            "Please answer 'yes' or 'no':'\n",
            ">>> \n",
            "Please answer 'yes' or 'no':'\n",
            ">>> \n",
            "Please answer 'yes' or 'no':'\n",
            ">>> \n",
            "Please answer 'yes' or 'no':'\n",
            ">>> \n",
            "Please answer 'yes' or 'no':'\n",
            ">>> \n",
            "Please answer 'yes' or 'no':'\n",
            ">>> \n",
            "Please answer 'yes' or 'no':'\n",
            ">>> \n",
            "Please answer 'yes' or 'no':'\n",
            ">>> \n",
            "Please answer 'yes' or 'no':'\n",
            ">>> \n",
            "Please answer 'yes' or 'no':'\n",
            ">>> \n",
            "Please answer 'yes' or 'no':'\n",
            ">>> \n",
            "Please answer 'yes' or 'no':'\n",
            ">>> \n",
            "Please answer 'yes' or 'no':'\n",
            ">>> \n",
            "Please answer 'yes' or 'no':'\n",
            ">>> \n",
            "Please answer 'yes' or 'no':'\n",
            ">>> \n",
            "Please answer 'yes' or 'no':'\n",
            ">>> \n",
            "Please answer 'yes' or 'no':'\n",
            ">>> \n",
            "Please answer 'yes' or 'no':'\n",
            ">>> \n",
            "Please answer 'yes' or 'no':'\n",
            ">>> \n",
            "Please answer 'yes' or 'no':'\n",
            ">>> \n",
            "Please answer 'yes' or 'no':'\n",
            ">>> \n",
            "Please answer 'yes' or 'no':'\n",
            ">>> \n",
            "Please answer 'yes' or 'no':'\n",
            ">>> \n",
            "Please answer 'yes' or 'no':'\n",
            ">>> \n",
            "Please answer 'yes' or 'no':'\n",
            ">>> \n",
            "Please answer 'yes' or 'no':'\n",
            ">>> \n",
            "Please answer 'yes' or 'no':'\n",
            ">>> \n",
            "Please answer 'yes' or 'no':'\n",
            ">>> \n",
            "Please answer 'yes' or 'no':'\n",
            ">>> \n",
            "Please answer 'yes' or 'no':'\n",
            ">>> \n",
            "Please answer 'yes' or 'no':'\n",
            ">>> \n",
            "Please answer 'yes' or 'no':'\n",
            ">>> \n",
            "Please answer 'yes' or 'no':'\n",
            ">>> \n",
            "Please answer 'yes' or 'no':'\n",
            ">>> \n",
            "Please answer 'yes' or 'no':'\n",
            ">>> \n",
            "Please answer 'yes' or 'no':'\n",
            ">>> \n",
            "Please answer 'yes' or 'no':'\n",
            ">>> \n",
            "Please answer 'yes' or 'no':'\n",
            ">>> \n",
            "Please answer 'yes' or 'no':'\n",
            ">>> \n",
            "Please answer 'yes' or 'no':'\n",
            ">>> \n",
            "Please answer 'yes' or 'no':'\n",
            ">>> \n",
            "Please answer 'yes' or 'no':'\n",
            ">>> \n",
            "Please answer 'yes' or 'no':'\n",
            ">>> \n",
            "Please answer 'yes' or 'no':'\n",
            ">>> \n",
            "Please answer 'yes' or 'no':'\n",
            ">>> \n",
            "Please answer 'yes' or 'no':'\n",
            ">>> \n",
            "Please answer 'yes' or 'no':'\n",
            ">>> \n",
            "Please answer 'yes' or 'no':'\n",
            ">>> \n",
            "\n",
            "Please answer 'yes' or 'no':'\n",
            ">>> Please answer 'yes' or 'no':'\n",
            ">>> \n",
            "Please answer 'yes' or 'no':'\n",
            ">>> \n",
            "Please answer 'yes' or 'no':'\n",
            ">>> \n",
            "Please answer 'yes' or 'no':'\n",
            ">>> \n",
            "Please answer 'yes' or 'no':'\n",
            ">>> \n",
            "Please answer 'yes' or 'no':'\n",
            ">>> \n",
            "Please answer 'yes' or 'no':'\n",
            ">>> \n",
            "Please answer 'yes' or 'no':'\n",
            ">>> \n",
            "Please answer 'yes' or 'no':'\n",
            ">>> \n",
            "Please answer 'yes' or 'no':'\n",
            ">>> \n",
            "Please answer 'yes' or 'no':'\n",
            ">>> \n",
            "Please answer 'yes' or 'no':'\n",
            ">>> \n",
            "Please answer 'yes' or 'no':'\n",
            ">>> \n",
            "Please answer 'yes' or 'no':'\n",
            ">>> \n",
            "Please answer 'yes' or 'no':'\n",
            ">>> \n",
            "Please answer 'yes' or 'no':'\n",
            ">>> \n",
            "Please answer 'yes' or 'no':'\n",
            ">>> \n",
            "Please answer 'yes' or 'no':'\n",
            ">>> \n",
            "Please answer 'yes' or 'no':'\n",
            ">>> \n",
            "Please answer 'yes' or 'no':'\n",
            ">>> \n",
            "Please answer 'yes' or 'no':'\n",
            ">>> \n",
            "Please answer 'yes' or 'no':'\n",
            ">>> \n",
            "Please answer 'yes' or 'no':'\n",
            ">>> \n",
            "Please answer 'yes' or 'no':'\n",
            ">>> \n",
            "Please answer 'yes' or 'no':'\n",
            ">>> \n",
            "Please answer 'yes' or 'no':'\n",
            ">>> \n",
            "Please answer 'yes' or 'no':'\n",
            ">>> \n",
            "Please answer 'yes' or 'no':'\n",
            ">>> \n",
            "Please answer 'yes' or 'no':'\n",
            ">>> \n",
            "Please answer 'yes' or 'no':'\n",
            ">>> \n",
            "Please answer 'yes' or 'no':'\n",
            ">>> \n",
            "Please answer 'yes' or 'no':'\n",
            ">>> \n",
            "Please answer 'yes' or 'no':'\n",
            ">>> \n",
            "Please answer 'yes' or 'no':'\n",
            ">>> \n",
            "Please answer 'yes' or 'no':'\n",
            ">>> \n",
            "Please answer 'yes' or 'no':'\n",
            ">>> \n",
            "Please answer 'yes' or 'no':'\n",
            ">>> \n",
            "Please answer 'yes' or 'no':'\n",
            ">>> \n",
            "Please answer 'yes' or 'no':'\n",
            ">>> \n",
            "Please answer 'yes' or 'no':'\n",
            ">>> \n",
            "Please answer 'yes' or 'no':'\n",
            ">>> \n",
            "Please answer 'yes' or 'no':'\n",
            ">>> \n",
            "Please answer 'yes' or 'no':'\n",
            ">>> \n",
            "Please answer 'yes' or 'no':'\n",
            ">>> \n",
            "Please answer 'yes' or 'no':'\n",
            ">>> \n",
            "Please answer 'yes' or 'no':'\n",
            ">>> \n",
            "Please answer 'yes' or 'no':'\n",
            ">>> \n",
            "Please answer 'yes' or 'no':'\n",
            ">>> \n",
            "Please answer 'yes' or 'no':'\n",
            ">>> \n",
            "Please answer 'yes' or 'no':'\n",
            ">>> \n",
            "Please answer 'yes' or 'no':'\n",
            ">>> \n",
            "Please answer 'yes' or 'no':'\n",
            ">>> \n",
            "Please answer 'yes' or 'no':'\n",
            ">>> \n",
            "Please answer 'yes' or 'no':'\n",
            ">>> \n",
            "Please answer 'yes' or 'no':'\n",
            ">>> \n",
            "Please answer 'yes' or 'no':'\n",
            ">>> \n",
            "Please answer 'yes' or 'no':'\n",
            ">>> \n",
            "Please answer 'yes' or 'no':'\n",
            ">>> \n",
            "Please answer 'yes' or 'no':'\n",
            ">>> \n",
            "Please answer 'yes' or 'no':'\n",
            ">>> \n",
            "Please answer 'yes' or 'no':'\n",
            ">>> \n",
            "Please answer 'yes' or 'no':'\n",
            ">>> \n",
            "Please answer 'yes' or 'no':'\n",
            ">>> \n",
            "Please answer 'yes' or 'no':'\n",
            ">>> \n",
            "Please answer 'yes' or 'no':'\n",
            ">>> \n",
            "Please answer 'yes' or 'no':'\n",
            ">>> \n",
            "Please answer 'yes' or 'no':'\n",
            ">>> \n",
            "Please answer 'yes' or 'no':'\n",
            ">>> \n",
            "Please answer 'yes' or 'no':'\n",
            ">>> \n",
            "Please answer 'yes' or 'no':'\n",
            ">>> \n",
            "Please answer 'yes' or 'no':'\n",
            ">>> \n",
            "Please answer 'yes' or 'no':'\n",
            ">>> \n",
            "Please answer 'yes' or 'no':'\n",
            ">>> \n",
            "Please answer 'yes' or 'no':'\n",
            ">>> \n",
            "Please answer 'yes' or 'no':'\n",
            ">>> \n",
            "Please answer 'yes' or 'no':'\n",
            ">>> \n",
            "Please answer 'yes' or 'no':'\n",
            ">>> \n",
            "Please answer 'yes' or 'no':'\n",
            ">>> \n",
            "Please answer 'yes' or 'no':'\n",
            ">>> \n",
            "Please answer 'yes' or 'no':'\n",
            ">>> \n",
            "Please answer 'yes' or 'no':'\n",
            ">>> \n",
            "Please answer 'yes' or 'no':'\n",
            ">>> \n",
            "Please answer 'yes' or 'no':'\n",
            ">>> \n",
            "Please answer 'yes' or 'no':'\n",
            ">>> \n",
            "Please answer 'yes' or 'no':'\n",
            ">>> \n",
            "Please answer 'yes' or 'no':'\n",
            ">>> \n",
            "Please answer 'yes' or 'no':'\n",
            ">>> \n",
            "Please answer 'yes' or 'no':'\n",
            ">>> \n",
            "Please answer 'yes' or 'no':'\n",
            ">>> \n",
            "Please answer 'yes' or 'no':'\n",
            ">>> \n",
            "Please answer 'yes' or 'no':'\n",
            ">>> \n",
            "Please answer 'yes' or 'no':'\n",
            ">>> \n",
            "Please answer 'yes' or 'no':'\n",
            ">>> \n",
            "Please answer 'yes' or 'no':'\n",
            ">>> \n",
            "Please answer 'yes' or 'no':'\n",
            ">>> \n",
            "Please answer 'yes' or 'no':'\n",
            ">>> \n",
            "Please answer 'yes' or 'no':'\n",
            ">>> \n",
            "Please answer 'yes' or 'no':'\n",
            ">>> \n",
            "Please answer 'yes' or 'no':'\n",
            ">>> \n",
            "Please answer 'yes' or 'no':'\n",
            ">>> \n",
            "Please answer 'yes' or 'no':'\n",
            ">>> \n",
            "Please answer 'yes' or 'no':'\n",
            ">>> \n",
            "Please answer 'yes' or 'no':'\n",
            ">>> \n",
            "Please answer 'yes' or 'no':'\n",
            ">>> \n",
            "Please answer 'yes' or 'no':'\n",
            ">>> \n",
            "Please answer 'yes' or 'no':'\n",
            ">>> \n",
            "Please answer 'yes' or 'no':'\n",
            ">>> \n",
            "Please answer 'yes' or 'no':'\n",
            ">>> \n",
            "Please answer 'yes' or 'no':'\n",
            ">>> \n",
            "Please answer 'yes' or 'no':'\n",
            ">>> \n",
            "Please answer 'yes' or 'no':'\n",
            ">>> \n",
            "Please answer 'yes' or 'no':'\n",
            ">>> \n",
            "Please answer 'yes' or 'no':'\n",
            ">>> \n",
            "Please answer 'yes' or 'no':'\n",
            ">>> \n",
            "Please answer 'yes' or 'no':'\n",
            ">>> \n",
            "Please answer 'yes' or 'no':'\n",
            ">>> \n",
            "Please answer 'yes' or 'no':'\n",
            ">>> \n",
            "Please answer 'yes' or 'no':'\n",
            ">>> \n",
            "Please answer 'yes' or 'no':'\n",
            ">>> \n",
            "Please answer 'yes' or 'no':'\n",
            ">>> \n",
            "Please answer 'yes' or 'no':'\n",
            ">>> \n",
            "Please answer 'yes' or 'no':'\n",
            ">>> \n",
            "Please answer 'yes' or 'no':'\n",
            ">>> \n",
            "Please answer 'yes' or 'no':'\n",
            ">>> \n",
            "Please answer 'yes' or 'no':'\n",
            ">>> \n",
            "Please answer 'yes' or 'no':'\n",
            ">>> \n",
            "Please answer 'yes' or 'no':'\n",
            ">>> \n",
            "Please answer 'yes' or 'no':'\n",
            ">>> \n",
            "Please answer 'yes' or 'no':'\n",
            ">>> \n",
            "Please answer 'yes' or 'no':'\n",
            ">>> \n",
            "Please answer 'yes' or 'no':'\n",
            ">>> \n",
            "Please answer 'yes' or 'no':'\n",
            ">>> \n",
            "Please answer 'yes' or 'no':'\n",
            ">>> \n",
            "Please answer 'yes' or 'no':'\n",
            ">>> \n",
            "Please answer 'yes' or 'no':'\n",
            ">>> \n",
            "Please answer 'yes' or 'no':'\n",
            ">>> \n",
            "Please answer 'yes' or 'no':'\n",
            ">>> \n",
            "Please answer 'yes' or 'no':'\n",
            ">>> \n",
            "Please answer 'yes' or 'no':'\n",
            ">>> \n",
            "Please answer 'yes' or 'no':'\n",
            ">>> \n",
            "Please answer 'yes' or 'no':'\n",
            ">>> \n",
            "Please answer 'yes' or 'no':'\n",
            ">>> \n",
            "Please answer 'yes' or 'no':'\n",
            ">>> \n",
            "Please answer 'yes' or 'no':'\n",
            ">>> \n",
            "Please answer 'yes' or 'no':'\n",
            ">>> \n",
            "Please answer 'yes' or 'no':'\n",
            ">>> \n",
            "Please answer 'yes' or 'no':'\n",
            ">>> \n",
            "Please answer 'yes' or 'no':'\n",
            ">>> \n",
            "Please answer 'yes' or 'no':'\n",
            ">>> \n",
            "Please answer 'yes' or 'no':'\n",
            ">>> \n",
            "Please answer 'yes' or 'no':'\n",
            ">>> \n",
            "Please answer 'yes' or 'no':'\n",
            ">>> \n",
            "Please answer 'yes' or 'no':'\n",
            ">>> \n",
            "Please answer 'yes' or 'no':'\n",
            ">>> \n",
            "Please answer 'yes' or 'no':'\n",
            ">>> \n",
            "Please answer 'yes' or 'no':'\n",
            ">>> \n",
            "Please answer 'yes' or 'no':'\n",
            ">>> yes\n",
            "\n",
            "Miniconda3 will now be installed into this location:\n",
            "/root/miniconda3\n",
            "\n",
            "  - Press ENTER to confirm the location\n",
            "  - Press CTRL-C to abort the installation\n",
            "  - Or specify a different location below\n",
            "\n",
            "[/root/miniconda3] >>> yes\n",
            "PREFIX=/content/yes\n",
            "yes\n",
            "Unpacking payload ...\n",
            "Collecting package metadata (current_repodata.json): - \b\b\\ \b\bdone\n",
            "Solving environment: / \b\b- \b\bdone\n",
            "\n",
            "## Package Plan ##\n",
            "\n",
            "  environment location: /content/yes\n",
            "\n",
            "  added / updated specs:\n",
            "    - _libgcc_mutex==0.1=main\n",
            "    - asn1crypto==1.2.0=py37_0\n",
            "    - ca-certificates==2019.10.16=0\n",
            "    - certifi==2019.9.11=py37_0\n",
            "    - cffi==1.13.0=py37h2e261b9_0\n",
            "    - chardet==3.0.4=py37_1003\n",
            "    - conda-package-handling==1.6.0=py37h7b6447c_0\n",
            "    - conda==4.7.12=py37_0\n",
            "    - cryptography==2.8=py37h1ba5d50_0\n",
            "    - idna==2.8=py37_0\n",
            "    - libedit==3.1.20181209=hc058e9b_0\n",
            "    - libffi==3.2.1=hd88cf55_4\n",
            "    - libgcc-ng==9.1.0=hdf63c60_0\n",
            "    - libstdcxx-ng==9.1.0=hdf63c60_0\n",
            "    - ncurses==6.1=he6710b0_1\n",
            "    - openssl==1.1.1d=h7b6447c_3\n",
            "    - pip==19.3.1=py37_0\n",
            "    - pycosat==0.6.3=py37h14c3975_0\n",
            "    - pycparser==2.19=py37_0\n",
            "    - pyopenssl==19.0.0=py37_0\n",
            "    - pysocks==1.7.1=py37_0\n",
            "    - python==3.7.4=h265db76_1\n",
            "    - readline==7.0=h7b6447c_5\n",
            "    - requests==2.22.0=py37_0\n",
            "    - ruamel_yaml==0.15.46=py37h14c3975_0\n",
            "    - setuptools==41.4.0=py37_0\n",
            "    - six==1.12.0=py37_0\n",
            "    - sqlite==3.30.0=h7b6447c_0\n",
            "    - tk==8.6.8=hbc83047_0\n",
            "    - tqdm==4.36.1=py_0\n",
            "    - urllib3==1.24.2=py37_0\n",
            "    - wheel==0.33.6=py37_0\n",
            "    - xz==5.2.4=h14c3975_4\n",
            "    - yaml==0.1.7=had09818_2\n",
            "    - zlib==1.2.11=h7b6447c_3\n",
            "\n",
            "\n",
            "The following NEW packages will be INSTALLED:\n",
            "\n",
            "  _libgcc_mutex      pkgs/main/linux-64::_libgcc_mutex-0.1-main\n",
            "  asn1crypto         pkgs/main/linux-64::asn1crypto-1.2.0-py37_0\n",
            "  ca-certificates    pkgs/main/linux-64::ca-certificates-2019.10.16-0\n",
            "  certifi            pkgs/main/linux-64::certifi-2019.9.11-py37_0\n",
            "  cffi               pkgs/main/linux-64::cffi-1.13.0-py37h2e261b9_0\n",
            "  chardet            pkgs/main/linux-64::chardet-3.0.4-py37_1003\n",
            "  conda              pkgs/main/linux-64::conda-4.7.12-py37_0\n",
            "  conda-package-han~ pkgs/main/linux-64::conda-package-handling-1.6.0-py37h7b6447c_0\n",
            "  cryptography       pkgs/main/linux-64::cryptography-2.8-py37h1ba5d50_0\n",
            "  idna               pkgs/main/linux-64::idna-2.8-py37_0\n",
            "  libedit            pkgs/main/linux-64::libedit-3.1.20181209-hc058e9b_0\n",
            "  libffi             pkgs/main/linux-64::libffi-3.2.1-hd88cf55_4\n",
            "  libgcc-ng          pkgs/main/linux-64::libgcc-ng-9.1.0-hdf63c60_0\n",
            "  libstdcxx-ng       pkgs/main/linux-64::libstdcxx-ng-9.1.0-hdf63c60_0\n",
            "  ncurses            pkgs/main/linux-64::ncurses-6.1-he6710b0_1\n",
            "  openssl            pkgs/main/linux-64::openssl-1.1.1d-h7b6447c_3\n",
            "  pip                pkgs/main/linux-64::pip-19.3.1-py37_0\n",
            "  pycosat            pkgs/main/linux-64::pycosat-0.6.3-py37h14c3975_0\n",
            "  pycparser          pkgs/main/linux-64::pycparser-2.19-py37_0\n",
            "  pyopenssl          pkgs/main/linux-64::pyopenssl-19.0.0-py37_0\n",
            "  pysocks            pkgs/main/linux-64::pysocks-1.7.1-py37_0\n",
            "  python             pkgs/main/linux-64::python-3.7.4-h265db76_1\n",
            "  readline           pkgs/main/linux-64::readline-7.0-h7b6447c_5\n",
            "  requests           pkgs/main/linux-64::requests-2.22.0-py37_0\n",
            "  ruamel_yaml        pkgs/main/linux-64::ruamel_yaml-0.15.46-py37h14c3975_0\n",
            "  setuptools         pkgs/main/linux-64::setuptools-41.4.0-py37_0\n",
            "  six                pkgs/main/linux-64::six-1.12.0-py37_0\n",
            "  sqlite             pkgs/main/linux-64::sqlite-3.30.0-h7b6447c_0\n",
            "  tk                 pkgs/main/linux-64::tk-8.6.8-hbc83047_0\n",
            "  tqdm               pkgs/main/noarch::tqdm-4.36.1-py_0\n",
            "  urllib3            pkgs/main/linux-64::urllib3-1.24.2-py37_0\n",
            "  wheel              pkgs/main/linux-64::wheel-0.33.6-py37_0\n",
            "  xz                 pkgs/main/linux-64::xz-5.2.4-h14c3975_4\n",
            "  yaml               pkgs/main/linux-64::yaml-0.1.7-had09818_2\n",
            "  zlib               pkgs/main/linux-64::zlib-1.2.11-h7b6447c_3\n",
            "\n",
            "\n",
            "Preparing transaction: | \b\b/ \b\b- \b\b\\ \b\bdone\n",
            "Executing transaction: / \b\b- \b\b\\ \b\b| \b\b/ \b\b- \b\b\\ \b\b| \b\b/ \b\bdone\n",
            "installation finished.\n",
            "WARNING:\n",
            "    You currently have a PYTHONPATH environment variable set. This may cause\n",
            "    unexpected behavior when running the Python interpreter in Miniconda3.\n",
            "    For best results, please verify that your PYTHONPATH only points to\n",
            "    directories of packages that are compatible with the Python interpreter\n",
            "    in Miniconda3: /content/yes\n",
            "Do you wish the installer to initialize Miniconda3\n",
            "by running conda init? [yes|no]\n",
            "[no] >>> no change     /content/yes/condabin/conda\n",
            "no change     /content/yes/bin/conda\n",
            "no change     /content/yes/bin/conda-env\n",
            "no change     /content/yes/bin/activate\n",
            "no change     /content/yes/bin/deactivate\n",
            "no change     /content/yes/etc/profile.d/conda.sh\n",
            "no change     /content/yes/etc/fish/conf.d/conda.fish\n",
            "no change     /content/yes/shell/condabin/Conda.psm1\n",
            "no change     /content/yes/shell/condabin/conda-hook.ps1\n",
            "no change     /content/yes/lib/python3.7/site-packages/xontrib/conda.xsh\n",
            "no change     /content/yes/etc/profile.d/conda.csh\n",
            "modified      /root/.bashrc\n",
            "\n",
            "==> For changes to take effect, close and re-open your current shell. <==\n",
            "\n",
            "If you'd prefer that conda's base environment not be activated on startup, \n",
            "   set the auto_activate_base parameter to false: \n",
            "\n",
            "conda config --set auto_activate_base false\n",
            "\n",
            "Thank you for installing Miniconda3!\n"
          ],
          "name": "stdout"
        }
      ]
    },
    {
      "cell_type": "code",
      "metadata": {
        "id": "313Pf7DDRJ2i",
        "colab_type": "code",
        "outputId": "509f10cb-4195-46a2-93f4-aa9158e53095",
        "colab": {
          "base_uri": "https://localhost:8080/",
          "height": 852
        }
      },
      "source": [
        "#!/content/yes/bin/conda update conda"
      ],
      "execution_count": 0,
      "outputs": [
        {
          "output_type": "stream",
          "text": [
            "Collecting package metadata (current_repodata.json): - \b\b\\ \b\b| \b\b/ \b\b- \b\b\\ \b\b| \b\b/ \b\b- \b\b\\ \b\b| \b\b/ \b\b- \b\b\\ \b\b| \b\bdone\n",
            "Solving environment: - \b\b\\ \b\b| \b\b/ \b\b- \b\b\\ \b\b| \b\b/ \b\bdone\n",
            "\n",
            "## Package Plan ##\n",
            "\n",
            "  environment location: /content/yes\n",
            "\n",
            "  added / updated specs:\n",
            "    - conda\n",
            "\n",
            "\n",
            "The following packages will be downloaded:\n",
            "\n",
            "    package                    |            build\n",
            "    ---------------------------|-----------------\n",
            "    cffi-1.13.2                |   py37h2e261b9_0         225 KB\n",
            "    pyopenssl-19.1.0           |           py37_0          87 KB\n",
            "    setuptools-41.6.0          |           py37_0         652 KB\n",
            "    six-1.13.0                 |           py37_0          27 KB\n",
            "    sqlite-3.30.1              |       h7b6447c_0         1.9 MB\n",
            "    tqdm-4.38.0                |             py_0          51 KB\n",
            "    ------------------------------------------------------------\n",
            "                                           Total:         2.9 MB\n",
            "\n",
            "The following packages will be UPDATED:\n",
            "\n",
            "  cffi                                1.13.0-py37h2e261b9_0 --> 1.13.2-py37h2e261b9_0\n",
            "  pyopenssl                                   19.0.0-py37_0 --> 19.1.0-py37_0\n",
            "  setuptools                                  41.4.0-py37_0 --> 41.6.0-py37_0\n",
            "  six                                         1.12.0-py37_0 --> 1.13.0-py37_0\n",
            "  sqlite                                  3.30.0-h7b6447c_0 --> 3.30.1-h7b6447c_0\n",
            "  tqdm                                          4.36.1-py_0 --> 4.38.0-py_0\n",
            "\n",
            "\n",
            "Proceed ([y]/n)? y\n",
            "\n",
            "\n",
            "Downloading and Extracting Packages\n",
            "tqdm-4.38.0          | 51 KB     | : 100% 1.0/1 [00:00<00:00, 16.02it/s]\n",
            "setuptools-41.6.0    | 652 KB    | : 100% 1.0/1 [00:00<00:00,  6.23it/s]\n",
            "six-1.13.0           | 27 KB     | : 100% 1.0/1 [00:00<00:00, 49.85it/s]\n",
            "pyopenssl-19.1.0     | 87 KB     | : 100% 1.0/1 [00:00<00:00, 27.33it/s]\n",
            "sqlite-3.30.1        | 1.9 MB    | : 100% 1.0/1 [00:00<00:00,  3.14it/s]\n",
            "cffi-1.13.2          | 225 KB    | : 100% 1.0/1 [00:00<00:00, 16.23it/s]\n",
            "Preparing transaction: \\ \b\bdone\n",
            "Verifying transaction: / \b\bdone\n",
            "Executing transaction: \\ \b\b| \b\b/ \b\b- \b\b\\ \b\bdone\n"
          ],
          "name": "stdout"
        }
      ]
    },
    {
      "cell_type": "code",
      "metadata": {
        "colab_type": "code",
        "outputId": "509f10cb-4195-46a2-93f4-aa9158e53095",
        "id": "PUxBdecnSj3x",
        "colab": {
          "base_uri": "https://localhost:8080/",
          "height": 852
        }
      },
      "source": [
        "#!/content/yes/bin/conda update conda"
      ],
      "execution_count": 0,
      "outputs": [
        {
          "output_type": "stream",
          "text": [
            "Collecting package metadata (current_repodata.json): - \b\b\\ \b\b| \b\b/ \b\b- \b\b\\ \b\b| \b\b/ \b\b- \b\b\\ \b\b| \b\b/ \b\b- \b\b\\ \b\b| \b\bdone\n",
            "Solving environment: - \b\b\\ \b\b| \b\b/ \b\b- \b\b\\ \b\b| \b\b/ \b\bdone\n",
            "\n",
            "## Package Plan ##\n",
            "\n",
            "  environment location: /content/yes\n",
            "\n",
            "  added / updated specs:\n",
            "    - conda\n",
            "\n",
            "\n",
            "The following packages will be downloaded:\n",
            "\n",
            "    package                    |            build\n",
            "    ---------------------------|-----------------\n",
            "    cffi-1.13.2                |   py37h2e261b9_0         225 KB\n",
            "    pyopenssl-19.1.0           |           py37_0          87 KB\n",
            "    setuptools-41.6.0          |           py37_0         652 KB\n",
            "    six-1.13.0                 |           py37_0          27 KB\n",
            "    sqlite-3.30.1              |       h7b6447c_0         1.9 MB\n",
            "    tqdm-4.38.0                |             py_0          51 KB\n",
            "    ------------------------------------------------------------\n",
            "                                           Total:         2.9 MB\n",
            "\n",
            "The following packages will be UPDATED:\n",
            "\n",
            "  cffi                                1.13.0-py37h2e261b9_0 --> 1.13.2-py37h2e261b9_0\n",
            "  pyopenssl                                   19.0.0-py37_0 --> 19.1.0-py37_0\n",
            "  setuptools                                  41.4.0-py37_0 --> 41.6.0-py37_0\n",
            "  six                                         1.12.0-py37_0 --> 1.13.0-py37_0\n",
            "  sqlite                                  3.30.0-h7b6447c_0 --> 3.30.1-h7b6447c_0\n",
            "  tqdm                                          4.36.1-py_0 --> 4.38.0-py_0\n",
            "\n",
            "\n",
            "Proceed ([y]/n)? y\n",
            "\n",
            "\n",
            "Downloading and Extracting Packages\n",
            "tqdm-4.38.0          | 51 KB     | : 100% 1.0/1 [00:00<00:00, 16.02it/s]\n",
            "setuptools-41.6.0    | 652 KB    | : 100% 1.0/1 [00:00<00:00,  6.23it/s]\n",
            "six-1.13.0           | 27 KB     | : 100% 1.0/1 [00:00<00:00, 49.85it/s]\n",
            "pyopenssl-19.1.0     | 87 KB     | : 100% 1.0/1 [00:00<00:00, 27.33it/s]\n",
            "sqlite-3.30.1        | 1.9 MB    | : 100% 1.0/1 [00:00<00:00,  3.14it/s]\n",
            "cffi-1.13.2          | 225 KB    | : 100% 1.0/1 [00:00<00:00, 16.23it/s]\n",
            "Preparing transaction: \\ \b\bdone\n",
            "Verifying transaction: / \b\bdone\n",
            "Executing transaction: \\ \b\b| \b\b/ \b\b- \b\b\\ \b\bdone\n"
          ],
          "name": "stdout"
        }
      ]
    },
    {
      "cell_type": "code",
      "metadata": {
        "id": "XMgYSSn3TfGE",
        "colab_type": "code",
        "outputId": "b6b4d152-6566-461f-fa24-39b88bcefb60",
        "colab": {
          "base_uri": "https://localhost:8080/",
          "height": 159
        }
      },
      "source": [
        "#!git clone https://github.com/fastai/fastai.git"
      ],
      "execution_count": 0,
      "outputs": [
        {
          "output_type": "stream",
          "text": [
            "Cloning into 'fastai'...\n",
            "remote: Enumerating objects: 48, done.\u001b[K\n",
            "remote: Counting objects:   2% (1/48)\u001b[K\rremote: Counting objects:   4% (2/48)\u001b[K\rremote: Counting objects:   6% (3/48)\u001b[K\rremote: Counting objects:   8% (4/48)\u001b[K\rremote: Counting objects:  10% (5/48)\u001b[K\rremote: Counting objects:  12% (6/48)\u001b[K\rremote: Counting objects:  14% (7/48)\u001b[K\rremote: Counting objects:  16% (8/48)\u001b[K\rremote: Counting objects:  18% (9/48)\u001b[K\rremote: Counting objects:  20% (10/48)\u001b[K\rremote: Counting objects:  22% (11/48)\u001b[K\rremote: Counting objects:  25% (12/48)\u001b[K\rremote: Counting objects:  27% (13/48)\u001b[K\rremote: Counting objects:  29% (14/48)\u001b[K\rremote: Counting objects:  31% (15/48)\u001b[K\rremote: Counting objects:  33% (16/48)\u001b[K\rremote: Counting objects:  35% (17/48)\u001b[K\rremote: Counting objects:  37% (18/48)\u001b[K\rremote: Counting objects:  39% (19/48)\u001b[K\rremote: Counting objects:  41% (20/48)\u001b[K\rremote: Counting objects:  43% (21/48)\u001b[K\rremote: Counting objects:  45% (22/48)\u001b[K\rremote: Counting objects:  47% (23/48)\u001b[K\rremote: Counting objects:  50% (24/48)\u001b[K\rremote: Counting objects:  52% (25/48)\u001b[K\rremote: Counting objects:  54% (26/48)\u001b[K\rremote: Counting objects:  56% (27/48)\u001b[K\rremote: Counting objects:  58% (28/48)\u001b[K\rremote: Counting objects:  60% (29/48)\u001b[K\rremote: Counting objects:  62% (30/48)\u001b[K\rremote: Counting objects:  64% (31/48)\u001b[K\rremote: Counting objects:  66% (32/48)\u001b[K\rremote: Counting objects:  68% (33/48)\u001b[K\rremote: Counting objects:  70% (34/48)\u001b[K\rremote: Counting objects:  72% (35/48)\u001b[K\rremote: Counting objects:  75% (36/48)\u001b[K\rremote: Counting objects:  77% (37/48)\u001b[K\rremote: Counting objects:  79% (38/48)\u001b[K\rremote: Counting objects:  81% (39/48)\u001b[K\rremote: Counting objects:  83% (40/48)\u001b[K\rremote: Counting objects:  85% (41/48)\u001b[K\rremote: Counting objects:  87% (42/48)\u001b[K\rremote: Counting objects:  89% (43/48)\u001b[K\rremote: Counting objects:  91% (44/48)\u001b[K\rremote: Counting objects:  93% (45/48)\u001b[K\rremote: Counting objects:  95% (46/48)\u001b[K\rremote: Counting objects:  97% (47/48)\u001b[K\rremote: Counting objects: 100% (48/48)\u001b[K\rremote: Counting objects: 100% (48/48), done.\u001b[K\n",
            "remote: Compressing objects: 100% (41/41), done.\u001b[K\n",
            "remote: Total 31930 (delta 22), reused 19 (delta 7), pack-reused 31882\u001b[K\n",
            "Receiving objects: 100% (31930/31930), 434.73 MiB | 14.39 MiB/s, done.\n",
            "Resolving deltas: 100% (23241/23241), done.\n",
            "Checking out files: 100% (817/817), done.\n"
          ],
          "name": "stdout"
        }
      ]
    },
    {
      "cell_type": "code",
      "metadata": {
        "id": "StuRvSQ6Tu32",
        "colab_type": "code",
        "outputId": "0684ecb0-c982-4425-b441-c5aece7a5c31",
        "colab": {
          "base_uri": "https://localhost:8080/",
          "height": 1000
        }
      },
      "source": [
        "#!cd fastai\n",
        "#!/content/yes/bin/conda env create -f /content/fastai/environment.yml"
      ],
      "execution_count": 0,
      "outputs": [
        {
          "output_type": "stream",
          "text": [
            "Collecting package metadata (repodata.json): - \b\b\\ \b\b| \b\b/ \b\b- \b\b\\ \b\b| \b\b/ \b\b- \b\b\\ \b\b| \b\b/ \b\b- \b\b\\ \b\b| \b\b/ \b\b- \b\b\\ \b\b| \b\b/ \b\b- \b\b\\ \b\b| \b\b/ \b\b- \b\b\\ \b\b| \b\b/ \b\b- \b\b\\ \b\b| \b\b/ \b\b- \b\b\\ \b\b| \b\b/ \b\b- \b\b\\ \b\b| \b\b/ \b\b- \b\b\\ \b\b| \b\b/ \b\b- \b\b\\ \b\b| \b\b/ \b\b- \b\b\\ \b\b| \b\bdone\n",
            "Solving environment: - \b\b\\ \b\b| \b\b/ \b\b- \b\b\\ \b\b| \b\b/ \b\b- \b\b\\ \b\b| \b\b/ \b\b- \b\b\\ \b\b| \b\b/ \b\b- \b\b\\ \b\b| \b\b/ \b\b- \b\b\\ \b\b| \b\b/ \b\b- \b\b\\ \b\b| \b\b/ \b\b- \b\b\\ \b\b| \b\b/ \b\b- \b\b\\ \b\b| \b\b/ \b\b- \b\b\\ \b\b| \b\b/ \b\b- \b\b\\ \b\b| \b\b/ \b\b- \b\b\\ \b\b| \b\bdone\n",
            "\n",
            "Downloading and Extracting Packages\n",
            "ipykernel-5.1.3      | 167 KB    | : 100% 1.0/1 [00:00<00:00, 10.52it/s]\n",
            "plac-0.9.6           | 38 KB     | : 100% 1.0/1 [00:00<00:00, 21.78it/s]\n",
            "locket-0.2.0         | 9 KB      | : 100% 1.0/1 [00:00<00:00, 25.58it/s]\n",
            "fontconfig-2.13.0    | 227 KB    | : 100% 1.0/1 [00:00<00:00, 19.90it/s]\n",
            "toolz-0.10.0         | 50 KB     | : 100% 1.0/1 [00:00<00:00, 31.05it/s]\n",
            "widgetsnbextension-3 | 862 KB    | : 100% 1.0/1 [00:00<00:00, 13.15it/s]\n",
            "defusedxml-0.6.0     | 23 KB     | : 100% 1.0/1 [00:00<00:00, 39.25it/s]\n",
            "jupyter-1.0.0        | 6 KB      | : 100% 1.0/1 [00:00<00:00, 27.62it/s]\n",
            "dask-core-1.1.4      | 1.1 MB    | : 100% 1.0/1 [00:00<00:00, 10.30it/s]\n",
            "pickleshare-0.7.5    | 13 KB     | : 100% 1.0/1 [00:00<00:00, 21.73it/s]\n",
            "ptyprocess-0.6.0     | 23 KB     | : 100% 1.0/1 [00:00<00:00, 25.05it/s]\n",
            "jupyter_client-5.3.4 | 136 KB    | : 100% 1.0/1 [00:00<00:00, 20.91it/s]\n",
            "expat-2.2.6          | 146 KB    | : 100% 1.0/1 [00:00<00:00, 21.67it/s]\n",
            "libgfortran-ng-7.3.0 | 1006 KB   | : 100% 1.0/1 [00:00<00:00, 15.40it/s]\n",
            "cryptography-2.8     | 620 KB    | : 100% 1.0/1 [00:00<00:00,  6.32it/s]\n",
            "zeromq-4.3.1         | 496 KB    | : 100% 1.0/1 [00:00<00:00, 16.35it/s]\n",
            "cloudpickle-1.2.2    | 29 KB     | : 100% 1.0/1 [00:00<00:00, 51.62it/s]\n",
            "icu-58.2             | 10.3 MB   | : 100% 1.0/1 [00:00<00:00,  2.19it/s]               \n",
            "qt-5.9.7             | 68.5 MB   | : 100% 1.0/1 [00:03<00:00,  3.02s/it]               \n",
            "dbus-1.13.12         | 611 KB    | : 100% 1.0/1 [00:00<00:00,  8.29it/s]\n",
            "urllib3-1.24.2       | 156 KB    | : 100% 1.0/1 [00:00<00:00, 16.52it/s]\n",
            "numpy-1.17.3         | 4 KB      | : 100% 1.0/1 [00:00<00:00, 59.50it/s]\n",
            "asn1crypto-1.2.0     | 162 KB    | : 100% 1.0/1 [00:00<00:00, 15.49it/s]\n",
            "tornado-4.5.3        | 583 KB    | : 100% 1.0/1 [00:00<00:00, 12.91it/s]\n",
            "gst-plugins-base-1.1 | 4.8 MB    | : 100% 1.0/1 [00:00<00:00,  1.49it/s]\n",
            "bokeh-1.4.0          | 13.6 MB   | : 100% 1.0/1 [00:03<00:00,  2.55s/it]               \n",
            "cymem-2.0.2          | 40 KB     | : 100% 1.0/1 [00:01<00:00,  1.98s/it]               \n",
            "distributed-1.26.0   | 802 KB    | : 100% 1.0/1 [00:00<00:00,  7.80it/s]\n",
            "zict-1.0.0           | 12 KB     | : 100% 1.0/1 [00:00<00:00, 41.80it/s]\n",
            "spacy-2.1.8          | 92.8 MB   | : 100% 1.0/1 [00:25<00:00, 25.90s/it]               \n",
            "six-1.13.0           | 27 KB     | : 100% 1.0/1 [00:00<00:00, 45.10it/s]\n",
            "wheel-0.33.6         | 40 KB     | : 100% 1.0/1 [00:00<00:00, 43.71it/s]\n",
            "libtiff-4.1.0        | 589 KB    | : 100% 1.0/1 [00:00<00:00,  8.31it/s]\n",
            "sortedcontainers-2.1 | 43 KB     | : 100% 1.0/1 [00:00<00:00, 20.24it/s]\n",
            "requests-2.22.0      | 91 KB     | : 100% 1.0/1 [00:00<00:00, 16.38it/s]\n",
            "pillow-6.2.1         | 640 KB    | : 100% 1.0/1 [00:00<00:00,  6.40it/s]\n",
            "matplotlib-2.2.3     | 4.8 MB    | : 100% 1.0/1 [00:00<00:00,  4.31it/s]\n",
            "prompt_toolkit-2.0.1 | 227 KB    | : 100% 1.0/1 [00:00<00:00, 11.60it/s]\n",
            "patsy-0.5.1          | 274 KB    | : 100% 1.0/1 [00:00<00:00, 17.55it/s]\n",
            "cffi-1.13.2          | 224 KB    | : 100% 1.0/1 [00:00<00:00, 17.38it/s]\n",
            "preshed-2.0.1        | 78 KB     | : 100% 1.0/1 [00:00<00:00, 23.20it/s]\n",
            "importlib_metadata-0 | 43 KB     | : 100% 1.0/1 [00:00<00:00, 35.27it/s]\n",
            "glib-2.63.1          | 3.4 MB    | : 100% 1.0/1 [00:00<00:00,  1.19it/s]\n",
            "libxcb-1.13          | 421 KB    | : 100% 1.0/1 [00:00<00:00, 13.31it/s]\n",
            "python-dateutil-2.8. | 224 KB    | : 100% 1.0/1 [00:00<00:00, 20.57it/s]\n",
            "sip-4.19.8           | 274 KB    | : 100% 1.0/1 [00:00<00:00, 17.54it/s]\n",
            "mock-3.0.5           | 49 KB     | : 100% 1.0/1 [00:00<00:00, 23.77it/s]\n",
            "ipywidgets-7.5.1     | 107 KB    | : 100% 1.0/1 [00:00<00:00, 27.82it/s]\n",
            "dask-1.1.4           | 11 KB     | : 100% 1.0/1 [00:00<00:00, 22.69it/s]\n",
            "scipy-1.3.1          | 14.0 MB   | : 100% 1.0/1 [00:00<00:00,  2.07it/s]               \n",
            "gstreamer-1.14.0     | 3.1 MB    | : 100% 1.0/1 [00:00<00:00,  6.50it/s]\n",
            "pyopenssl-19.1.0     | 87 KB     | : 100% 1.0/1 [00:00<00:00, 29.03it/s]\n",
            "pytables-3.6.1       | 1.5 MB    | : 100% 1.0/1 [00:00<00:00,  3.06it/s]\n",
            "send2trash-1.5.0     | 16 KB     | : 100% 1.0/1 [00:00<00:00, 22.93it/s]\n",
            "cudnn-7.6.4          | 250.8 MB  | : 100% 1.0/1 [00:34<00:00, 34.07s/it]               \n",
            "pandas-0.25.3        | 11.5 MB   | : 100% 1.0/1 [00:02<00:00,  2.52s/it]               \n",
            "libuuid-1.0.3        | 15 KB     | : 100% 1.0/1 [00:00<00:00, 24.21it/s]\n",
            "zstd-1.3.7           | 401 KB    | : 100% 1.0/1 [00:00<00:00, 17.02it/s]\n",
            "prometheus_client-0. | 42 KB     | : 100% 1.0/1 [00:00<00:00, 39.58it/s]\n",
            "blas-1.0             | 6 KB      | : 100% 1.0/1 [00:00<00:00, 18.37it/s]\n",
            "wasabi-0.2.2         | 18 KB     | : 100% 1.0/1 [00:01<00:00,  1.89s/it]               \n",
            "path.py-12.0.2       | 23 KB     | : 100% 1.0/1 [00:00<00:00, 52.75it/s]\n",
            "idna-2.8             | 112 KB    | : 100% 1.0/1 [00:00<00:00, 20.71it/s]\n",
            "pyzmq-18.1.0         | 453 KB    | : 100% 1.0/1 [00:00<00:00, 11.27it/s]\n",
            "qtconsole-4.6.0      | 95 KB     | : 100% 1.0/1 [00:00<00:00, 28.27it/s]\n",
            "libsodium-1.0.16     | 214 KB    | : 100% 1.0/1 [00:00<00:00, 18.13it/s]\n",
            "murmurhash-1.0.2     | 27 KB     | : 100% 1.0/1 [00:00<00:00, 20.17it/s]\n",
            "hdf5-1.10.4          | 3.9 MB    | : 100% 1.0/1 [00:00<00:00,  6.08it/s]\n",
            "freetype-2.9.1       | 550 KB    | : 100% 1.0/1 [00:00<00:00, 16.80it/s]\n",
            "more-itertools-7.2.0 | 101 KB    | : 100% 1.0/1 [00:00<00:00, 22.13it/s]\n",
            "lz4-c-1.8.1.2        | 130 KB    | : 100% 1.0/1 [00:00<00:00, 20.59it/s]\n",
            "pygments-2.4.2       | 664 KB    | : 100% 1.0/1 [00:00<00:00,  6.51it/s]\n",
            "partd-1.0.0          | 19 KB     | : 100% 1.0/1 [00:00<00:00, 54.51it/s]\n",
            "thinc-7.0.8          | 1.7 MB    | : 100% 1.0/1 [00:02<00:00,  2.07s/it]               \n",
            "pytz-2019.3          | 231 KB    | : 100% 1.0/1 [00:00<00:00, 10.17it/s]\n",
            "libxml2-2.9.9        | 1.6 MB    | : 100% 1.0/1 [00:00<00:00,  8.51it/s]\n",
            "backcall-0.1.0       | 20 KB     | : 100% 1.0/1 [00:00<00:00,  3.20it/s]               \n",
            "cython-0.29.14       | 2.2 MB    | : 100% 1.0/1 [00:00<00:00,  2.18it/s]\n",
            "traitlets-4.3.3      | 137 KB    | : 100% 1.0/1 [00:00<00:00, 21.77it/s]\n",
            "jsonschema-3.2.0     | 93 KB     | : 100% 1.0/1 [00:00<00:00, 28.72it/s]\n",
            "cuda90-1.0           | 3 KB      | : 100% 1.0/1 [00:01<00:00,  1.11s/it]\n",
            "cytoolz-0.10.1       | 437 KB    | : 100% 1.0/1 [00:00<00:00, 11.00it/s]\n",
            "gmp-6.1.2            | 514 KB    | : 100% 1.0/1 [00:00<00:00, 16.15it/s]\n",
            "tblib-1.5.0          | 14 KB     | : 100% 1.0/1 [00:00<00:00, 45.76it/s]\n",
            "webencodings-0.5.1   | 19 KB     | : 100% 1.0/1 [00:00<00:00, 21.20it/s]\n",
            "cudatoolkit-10.1.243 | 347.4 MB  | : 100% 1.0/1 [00:09<00:00,  9.46s/it]               \n",
            "zipp-0.6.0           | 9 KB      | : 100% 1.0/1 [00:00<00:00, 48.70it/s]\n",
            "snappy-1.1.7         | 35 KB     | : 100% 1.0/1 [00:00<00:00, 23.02it/s]\n",
            "decorator-4.4.1      | 13 KB     | : 100% 1.0/1 [00:00<00:00, 63.76it/s]\n",
            "pip-19.3.1           | 1.9 MB    | : 100% 1.0/1 [00:00<00:00,  2.29it/s]\n",
            "seaborn-0.9.0        | 164 KB    | : 100% 1.0/1 [00:00<00:00, 19.03it/s]\n",
            "jpeg-9b              | 214 KB    | : 100% 1.0/1 [00:00<00:00, 21.46it/s]\n",
            "python-3.6.9         | 30.2 MB   | : 100% 1.0/1 [00:00<00:00,  1.00it/s]               \n",
            "mkl_random-1.1.0     | 324 KB    | : 100% 1.0/1 [00:00<00:00, 17.90it/s]\n",
            "wcwidth-0.1.7        | 24 KB     | : 100% 1.0/1 [00:00<00:00, 21.97it/s]\n",
            "pytorch-0.3.1        | 486.5 MB  | : 100% 1.0/1 [01:44<00:00, 4085.82s/it]             \n",
            "pyyaml-5.1.2         | 179 KB    | : 100% 1.0/1 [00:00<00:00, 20.50it/s]\n",
            "bleach-3.1.0         | 221 KB    | : 100% 1.0/1 [00:00<00:00, 16.83it/s]\n",
            "entrypoints-0.3      | 12 KB     | : 100% 1.0/1 [00:00<00:00, 30.47it/s]\n",
            "pysocks-1.7.1        | 30 KB     | : 100% 1.0/1 [00:00<00:00, 52.23it/s]\n",
            "packaging-19.2       | 30 KB     | : 100% 1.0/1 [00:00<00:00, 51.50it/s]\n",
            "certifi-2019.9.11    | 154 KB    | : 100% 1.0/1 [00:00<00:00, 20.38it/s]\n",
            "jinja2-2.10.3        | 95 KB     | : 100% 1.0/1 [00:00<00:00, 29.80it/s]\n",
            "mkl-service-2.3.0    | 219 KB    | : 100% 1.0/1 [00:00<00:00, 22.52it/s]\n",
            "mistune-0.8.4        | 55 KB     | : 100% 1.0/1 [00:00<00:00, 22.68it/s]\n",
            "cython-blis-0.2.4    | 3.1 MB    | : 100% 1.0/1 [00:03<00:00, 25.47s/it]               \n",
            "jupyter_console-6.0. | 37 KB     | : 100% 1.0/1 [00:00<00:00, 20.69it/s]\n",
            "mkl-2019.4           | 131.2 MB  | : 100% 1.0/1 [00:05<00:00,  5.64s/it]               \n",
            "numexpr-2.7.0        | 183 KB    | : 100% 1.0/1 [00:00<00:00, 15.08it/s]\n",
            "heapdict-1.0.1       | 9 KB      | : 100% 1.0/1 [00:00<00:00, 24.26it/s]\n",
            "pyqt-5.9.2           | 4.5 MB    | : 100% 1.0/1 [00:00<00:00,  3.99it/s]\n",
            "pexpect-4.7.0        | 80 KB     | : 100% 1.0/1 [00:00<00:00, 19.29it/s]\n",
            "nbconvert-5.6.1      | 493 KB    | : 100% 1.0/1 [00:00<00:00,  7.87it/s]\n",
            "statsmodels-0.10.1   | 7.4 MB    | : 100% 1.0/1 [00:00<00:00,  1.76it/s]\n",
            "pyparsing-2.4.5      | 62 KB     | : 100% 1.0/1 [00:00<00:00, 32.56it/s]\n",
            "jupyter_core-4.6.1   | 74 KB     | : 100% 1.0/1 [00:00<00:00, 26.34it/s]\n",
            "lzo-2.10             | 182 KB    | : 100% 1.0/1 [00:00<00:00, 20.27it/s]\n",
            "bcolz-1.2.1          | 707 KB    | : 100% 1.0/1 [00:00<00:00, 14.53it/s]\n",
            "terminado-0.8.3      | 25 KB     | : 100% 1.0/1 [00:00<00:00, 41.18it/s]\n",
            "libiconv-1.15        | 721 KB    | : 100% 1.0/1 [00:00<00:00, 14.21it/s]\n",
            "markupsafe-1.1.1     | 29 KB     | : 100% 1.0/1 [00:00<00:00, 24.43it/s]\n",
            "msgpack-python-0.6.1 | 87 KB     | : 100% 1.0/1 [00:00<00:00, 21.12it/s]\n",
            "bzip2-1.0.8          | 78 KB     | : 100% 1.0/1 [00:00<00:00, 22.54it/s]\n",
            "html5lib-1.0.1       | 187 KB    | : 100% 1.0/1 [00:00<00:00, 19.54it/s]\n",
            "srsly-0.1.0          | 209 KB    | : 100% 1.0/1 [00:02<00:00,  2.32s/it]               \n",
            "pycparser-2.19       | 170 KB    | : 100% 1.0/1 [00:00<00:00, 17.16it/s]\n",
            "notebook-5.7.8       | 4.1 MB    | : 100% 1.0/1 [00:00<00:00,  2.80it/s]\n",
            "kiwisolver-1.1.0     | 82 KB     | : 100% 1.0/1 [00:00<00:00, 22.60it/s]\n",
            "simplegeneric-0.8.1  | 10 KB     | : 100% 1.0/1 [00:00<00:00, 26.90it/s]\n",
            "click-7.0            | 122 KB    | : 100% 1.0/1 [00:00<00:00, 22.89it/s]\n",
            "attrs-19.3.0         | 39 KB     | : 100% 1.0/1 [00:00<00:00, 47.73it/s]\n",
            "libpng-1.6.37        | 278 KB    | : 100% 1.0/1 [00:00<00:00, 20.61it/s]\n",
            "nbformat-4.4.0       | 128 KB    | : 100% 1.0/1 [00:00<00:00, 17.18it/s]\n",
            "intel-openmp-2019.4  | 729 KB    | : 100% 1.0/1 [00:00<00:00, 16.00it/s]\n",
            "pcre-8.43            | 209 KB    | : 100% 1.0/1 [00:00<00:00, 20.68it/s]\n",
            "psutil-5.6.5         | 329 KB    | : 100% 1.0/1 [00:00<00:00, 11.30it/s]\n",
            "chardet-3.0.4        | 180 KB    | : 100% 1.0/1 [00:00<00:00, 16.07it/s]\n",
            "olefile-0.46         | 48 KB     | : 100% 1.0/1 [00:00<00:00, 23.68it/s]\n",
            "pandocfilters-1.4.2  | 13 KB     | : 100% 1.0/1 [00:00<00:00, 25.22it/s]\n",
            "testfixtures-6.10.2  | 69 KB     | : 100% 1.0/1 [00:00<00:00,  3.68it/s]                \n",
            "pandoc-2.2.3.2       | 14.0 MB   | : 100% 1.0/1 [00:00<00:00,  1.06it/s]               \n",
            "ipython-7.9.0        | 1.1 MB    | : 100% 1.0/1 [00:00<00:00,  3.48it/s]\n",
            "cycler-0.10.0        | 13 KB     | : 100% 1.0/1 [00:00<00:00, 23.76it/s]\n",
            "jedi-0.15.1          | 699 KB    | : 100% 1.0/1 [00:00<00:00,  6.47it/s]\n",
            "blosc-1.16.3         | 71 KB     | : 100% 1.0/1 [00:00<00:00, 24.33it/s]\n",
            "pyrsistent-0.15.5    | 93 KB     | : 100% 1.0/1 [00:00<00:00, 25.19it/s]\n",
            "ipython_genutils-0.2 | 39 KB     | : 100% 1.0/1 [00:00<00:00, 21.53it/s]\n",
            "parso-0.5.1          | 68 KB     | : 100% 1.0/1 [00:00<00:00, 29.59it/s]\n",
            "numpy-base-1.17.3    | 5.3 MB    | : 100% 1.0/1 [00:01<00:00,  1.07s/it]\n",
            "setuptools-41.6.0    | 650 KB    | : 100% 1.0/1 [00:00<00:00,  6.08it/s]\n",
            "testpath-0.4.4       | 88 KB     | : 100% 1.0/1 [00:00<00:00, 39.70it/s]\n",
            "mkl_fft-1.0.15       | 173 KB    | : 100% 1.0/1 [00:00<00:00, 23.02it/s]\n",
            "Preparing transaction: - \b\b\\ \b\b| \b\b/ \b\b- \b\b\\ \b\b| \b\b/ \b\b- \b\b\\ \b\b| \b\b/ \b\b- \b\b\\ \b\b| \b\b/ \b\b- \b\b\\ \b\b| \b\b/ \b\b- \b\bdone\n",
            "Verifying transaction: | \b\b/ \b\b- \b\b\\ \b\b| \b\b/ \b\b- \b\b\\ \b\b| \b\b/ \b\b- \b\b\\ \b\b| \b\b/ \b\b- \b\b\\ \b\b| \b\b/ \b\b- \b\b\\ \b\b| \b\b/ \b\b- \b\b\\ \b\b| \b\b/ \b\b- \b\b\\ \b\b| \b\b/ \b\b- \b\b\\ \b\b| \b\b/ \b\b- \b\b\\ \b\b| \b\b/ \b\b- \b\b\\ \b\b| \b\b/ \b\b- \b\b\\ \b\b| \b\b/ \b\b- \b\b\\ \b\b| \b\b/ \b\b- \b\b\\ \b\b| \b\b/ \b\b- \b\b\\ \b\b| \b\b/ \b\b- \b\b\\ \b\b| \b\b/ \b\b- \b\b\\ \b\b| \b\b/ \b\b- \b\b\\ \b\b| \b\bdone\n",
            "Executing transaction: - \b\b\\ \b\b| \b\b/ \b\b- \b\b\\ \b\b| \b\b/ \b\b- \b\b\\ \b\b| \b\b/ \b\b- \b\b\\ \b\b| \b\b/ \b\b- \b\b\\ \b\b| \b\b/ \b\b- \b\b\\ \b\b| \b\b/ \b\b- \b\b\\ \b\b| \b\b/ \b\b- \b\b\\ \b\b| \b\b/ \b\b- \b\b\\ \b\b| \b\b/ \b\b- \b\b\\ \b\b| \b\b/ \b\b- \b\b\\ \b\b| \b\b/ \b\b- \b\b\\ \b\b| \b\b/ \b\b- \b\b\\ \b\b| \b\b/ \b\b- \b\b\\ \b\b| \b\b/ \b\b- \b\b\\ \b\b| \b\b/ \b\b- \b\b\\ \b\b| \b\bdone\n",
            "Ran pip subprocess with arguments:\n",
            "['/content/yes/envs/fastai/bin/python', '-m', 'pip', 'install', '-U', '-r', '/content/fastai/condaenv.7u2mtopr.requirements.txt']\n",
            "Pip subprocess output:\n",
            "Collecting torchvision==0.1.9\n",
            "  Downloading https://files.pythonhosted.org/packages/e2/56/34a58783d2fefe2da5c4558c213386c810e7b2ab04dd8d6fe474a91b695a/torchvision-0.1.9-py2.py3-none-any.whl (43kB)\n",
            "Collecting opencv-python\n",
            "  Downloading https://files.pythonhosted.org/packages/5e/7e/bd5425f4dacb73367fddc71388a47c1ea570839197c2bcad86478e565186/opencv_python-4.1.1.26-cp36-cp36m-manylinux1_x86_64.whl (28.7MB)\n",
            "Collecting isoweek\n",
            "  Using cached https://files.pythonhosted.org/packages/c2/d4/fe7e2637975c476734fcbf53776e650a29680194eb0dd21dbdc020ca92de/isoweek-1.3.3-py2.py3-none-any.whl\n",
            "Collecting pandas_summary==0.0.5\n",
            "  Downloading https://files.pythonhosted.org/packages/97/55/ea54109a4e7a8e7342bdf23e9382c858224263d984b0d95610568e564f59/pandas_summary-0.0.5-py2.py3-none-any.whl\n",
            "Collecting torchtext==0.2.3\n",
            "  Downloading https://files.pythonhosted.org/packages/78/90/474d5944d43001a6e72b9aaed5c3e4f77516fbef2317002da2096fd8b5ea/torchtext-0.2.3.tar.gz (42kB)\n",
            "Collecting graphviz\n",
            "  Downloading https://files.pythonhosted.org/packages/f5/74/dbed754c0abd63768d3a7a7b472da35b08ac442cf87d73d5850a6f32391e/graphviz-0.13.2-py2.py3-none-any.whl\n",
            "Collecting sklearn_pandas\n",
            "  Downloading https://files.pythonhosted.org/packages/1f/48/4e1461d828baf41d609efaa720d20090ac6ec346b5daad3c88e243e2207e/sklearn_pandas-1.8.0-py2.py3-none-any.whl\n",
            "Collecting feather-format\n",
            "  Downloading https://files.pythonhosted.org/packages/08/55/940b97cc6f19a19f5dab9efef2f68a0ce43a7632f858b272391f0b851a7e/feather-format-0.4.0.tar.gz\n",
            "Collecting plotnine\n",
            "  Downloading https://files.pythonhosted.org/packages/19/da/4d2f68e7436e76a3c26ccd804e1bfc5c58fca7a6cba06c71bab68b25e825/plotnine-0.6.0-py3-none-any.whl (4.1MB)\n",
            "Collecting kaggle-cli\n",
            "  Downloading https://files.pythonhosted.org/packages/67/61/710d02460bc4367ffd1f5e71cd9c031fb278f78aa0e8e32ca9dd99a2add8/kaggle-cli-0.12.13.tar.gz\n",
            "Requirement already up-to-date: ipywidgets in /content/yes/envs/fastai/lib/python3.6/site-packages (from -r /content/fastai/condaenv.7u2mtopr.requirements.txt (line 11)) (7.5.1)\n",
            "Requirement already up-to-date: nbconvert in /content/yes/envs/fastai/lib/python3.6/site-packages (from -r /content/fastai/condaenv.7u2mtopr.requirements.txt (line 12)) (5.6.1)\n",
            "Collecting PyHamcrest\n",
            "  Downloading https://files.pythonhosted.org/packages/9a/d5/d37fd731b7d0e91afcc84577edeccf4638b4f9b82f5ffe2f8b62e2ddc609/PyHamcrest-1.9.0-py2.py3-none-any.whl (52kB)\n",
            "Collecting pdpbox==0.1.0\n",
            "  Downloading https://files.pythonhosted.org/packages/14/a3/115a50dd8730aa1f8e1b403594bebd87e67ea9239381dfbfcb96895b85d6/PDPbox-0.1.tar.gz\n",
            "Collecting scikit-misc\n",
            "  Downloading https://files.pythonhosted.org/packages/52/12/5a3f2148c131b3d9830ef3508e597cbfc790c3e704d7aa80cc1620485495/scikit_misc-0.1.1-cp36-cp36m-manylinux1_x86_64.whl (9.2MB)\n",
            "Requirement already satisfied, skipping upgrade: pillow in /content/yes/envs/fastai/lib/python3.6/site-packages (from torchvision==0.1.9->-r /content/fastai/condaenv.7u2mtopr.requirements.txt (line 1)) (6.2.1)\n",
            "Requirement already satisfied, skipping upgrade: numpy in /content/yes/envs/fastai/lib/python3.6/site-packages (from torchvision==0.1.9->-r /content/fastai/condaenv.7u2mtopr.requirements.txt (line 1)) (1.17.3)\n",
            "Requirement already satisfied, skipping upgrade: torch in /content/yes/envs/fastai/lib/python3.6/site-packages (from torchvision==0.1.9->-r /content/fastai/condaenv.7u2mtopr.requirements.txt (line 1)) (0.3.1.post2)\n",
            "Requirement already satisfied, skipping upgrade: six in /content/yes/envs/fastai/lib/python3.6/site-packages (from torchvision==0.1.9->-r /content/fastai/condaenv.7u2mtopr.requirements.txt (line 1)) (1.13.0)\n",
            "Requirement already satisfied, skipping upgrade: pandas in /content/yes/envs/fastai/lib/python3.6/site-packages (from pandas_summary==0.0.5->-r /content/fastai/condaenv.7u2mtopr.requirements.txt (line 4)) (0.25.3)\n",
            "Requirement already satisfied, skipping upgrade: tqdm in /content/yes/envs/fastai/lib/python3.6/site-packages (from torchtext==0.2.3->-r /content/fastai/condaenv.7u2mtopr.requirements.txt (line 5)) (4.38.0)\n",
            "Requirement already satisfied, skipping upgrade: requests in /content/yes/envs/fastai/lib/python3.6/site-packages (from torchtext==0.2.3->-r /content/fastai/condaenv.7u2mtopr.requirements.txt (line 5)) (2.22.0)\n",
            "Requirement already satisfied, skipping upgrade: scipy>=0.14 in /content/yes/envs/fastai/lib/python3.6/site-packages (from sklearn_pandas->-r /content/fastai/condaenv.7u2mtopr.requirements.txt (line 7)) (1.3.1)\n",
            "Collecting scikit-learn>=0.15.0\n",
            "  Downloading https://files.pythonhosted.org/packages/a0/c5/d2238762d780dde84a20b8c761f563fe882b88c5a5fb03c056547c442a19/scikit_learn-0.21.3-cp36-cp36m-manylinux1_x86_64.whl (6.7MB)\n",
            "Collecting pyarrow>=0.4.0\n",
            "  Downloading https://files.pythonhosted.org/packages/6c/32/ce1926f05679ea5448fd3b98fbd9419d8c7a65f87d1a12ee5fb9577e3a8e/pyarrow-0.15.1-cp36-cp36m-manylinux2010_x86_64.whl (59.2MB)\n",
            "Requirement already satisfied, skipping upgrade: statsmodels>=0.9.0 in /content/yes/envs/fastai/lib/python3.6/site-packages (from plotnine->-r /content/fastai/condaenv.7u2mtopr.requirements.txt (line 9)) (0.10.1)\n",
            "Collecting mizani>=0.6.0\n",
            "  Downloading https://files.pythonhosted.org/packages/e3/76/7a2c9094547ee592f9f43f651ab824aa6599af5e1456250c3f4cc162aece/mizani-0.6.0-py2.py3-none-any.whl (61kB)\n",
            "Requirement already satisfied, skipping upgrade: patsy>=0.4.1 in /content/yes/envs/fastai/lib/python3.6/site-packages (from plotnine->-r /content/fastai/condaenv.7u2mtopr.requirements.txt (line 9)) (0.5.1)\n",
            "Collecting matplotlib>=3.1.1\n",
            "  Downloading https://files.pythonhosted.org/packages/4e/11/06958a2b895a3853206dea1fb2a5b11bf044f626f90745987612af9c8f2c/matplotlib-3.1.2-cp36-cp36m-manylinux1_x86_64.whl (13.1MB)\n",
            "Collecting descartes>=1.1.0\n",
            "  Downloading https://files.pythonhosted.org/packages/e5/b6/1ed2eb03989ae574584664985367ba70cd9cf8b32ee8cad0e8aaeac819f3/descartes-1.1.0-py3-none-any.whl\n",
            "Collecting cliff<2.9,>=2.8.0\n",
            "  Downloading https://files.pythonhosted.org/packages/04/66/8a21911dd5f3369e75a6d5eb53802787e01d2f0fea01af8d6a83532d8397/cliff-2.8.3-py2.py3-none-any.whl (74kB)\n",
            "Collecting MechanicalSoup<0.9,>=0.7.0\n",
            "  Downloading https://files.pythonhosted.org/packages/5c/2e/f63ed26b51e36efa4cc22cad18187fcb0a253f756d548c96bb931f13de98/MechanicalSoup-0.8.0-py2.py3-none-any.whl\n",
            "Collecting lxml<4.1,>=4.0.0\n",
            "  Downloading https://files.pythonhosted.org/packages/a0/b5/4c6995f8f259f0858f79460e6d277888f8498ce1c1a466dfbb24f06ba83f/lxml-4.0.0-cp36-cp36m-manylinux1_x86_64.whl (5.3MB)\n",
            "Collecting cssselect<1.1,>=1.0.1\n",
            "  Downloading https://files.pythonhosted.org/packages/7b/44/25b7283e50585f0b4156960691d951b05d061abf4a714078393e51929b30/cssselect-1.0.3-py2.py3-none-any.whl\n",
            "Collecting configparser\n",
            "  Downloading https://files.pythonhosted.org/packages/7a/2a/95ed0501cf5d8709490b1d3a3f9b5cf340da6c433f896bbe9ce08dbe6785/configparser-4.0.2-py2.py3-none-any.whl\n",
            "Collecting progressbar2<3.35,>=3.34.3\n",
            "  Downloading https://files.pythonhosted.org/packages/87/31/b984e17bcc7491c1baeda3906fe3abc14cb5cd5dbd046ab46d9fc7a2edfd/progressbar2-3.34.3-py2.py3-none-any.whl\n",
            "Collecting beautifulsoup4<4.7,>=4.6.0\n",
            "  Downloading https://files.pythonhosted.org/packages/21/0a/47fdf541c97fd9b6a610cb5fd518175308a7cc60569962e776ac52420387/beautifulsoup4-4.6.3-py3-none-any.whl (90kB)\n",
            "Requirement already satisfied, skipping upgrade: traitlets>=4.3.1 in /content/yes/envs/fastai/lib/python3.6/site-packages (from ipywidgets->-r /content/fastai/condaenv.7u2mtopr.requirements.txt (line 11)) (4.3.3)\n",
            "Requirement already satisfied, skipping upgrade: ipykernel>=4.5.1 in /content/yes/envs/fastai/lib/python3.6/site-packages (from ipywidgets->-r /content/fastai/condaenv.7u2mtopr.requirements.txt (line 11)) (5.1.3)\n",
            "Requirement already satisfied, skipping upgrade: nbformat>=4.2.0 in /content/yes/envs/fastai/lib/python3.6/site-packages (from ipywidgets->-r /content/fastai/condaenv.7u2mtopr.requirements.txt (line 11)) (4.4.0)\n",
            "Requirement already satisfied, skipping upgrade: widgetsnbextension~=3.5.0 in /content/yes/envs/fastai/lib/python3.6/site-packages (from ipywidgets->-r /content/fastai/condaenv.7u2mtopr.requirements.txt (line 11)) (3.5.1)\n",
            "Requirement already satisfied, skipping upgrade: ipython>=4.0.0; python_version >= \"3.3\" in /content/yes/envs/fastai/lib/python3.6/site-packages (from ipywidgets->-r /content/fastai/condaenv.7u2mtopr.requirements.txt (line 11)) (7.9.0)\n",
            "Requirement already satisfied, skipping upgrade: jinja2>=2.4 in /content/yes/envs/fastai/lib/python3.6/site-packages (from nbconvert->-r /content/fastai/condaenv.7u2mtopr.requirements.txt (line 12)) (2.10.3)\n",
            "Requirement already satisfied, skipping upgrade: jupyter-core in /content/yes/envs/fastai/lib/python3.6/site-packages (from nbconvert->-r /content/fastai/condaenv.7u2mtopr.requirements.txt (line 12)) (4.6.1)\n",
            "Requirement already satisfied, skipping upgrade: bleach in /content/yes/envs/fastai/lib/python3.6/site-packages (from nbconvert->-r /content/fastai/condaenv.7u2mtopr.requirements.txt (line 12)) (3.1.0)\n",
            "Requirement already satisfied, skipping upgrade: testpath in /content/yes/envs/fastai/lib/python3.6/site-packages (from nbconvert->-r /content/fastai/condaenv.7u2mtopr.requirements.txt (line 12)) (0.4.4)\n",
            "Requirement already satisfied, skipping upgrade: entrypoints>=0.2.2 in /content/yes/envs/fastai/lib/python3.6/site-packages (from nbconvert->-r /content/fastai/condaenv.7u2mtopr.requirements.txt (line 12)) (0.3)\n",
            "Requirement already satisfied, skipping upgrade: pygments in /content/yes/envs/fastai/lib/python3.6/site-packages (from nbconvert->-r /content/fastai/condaenv.7u2mtopr.requirements.txt (line 12)) (2.4.2)\n",
            "Requirement already satisfied, skipping upgrade: pandocfilters>=1.4.1 in /content/yes/envs/fastai/lib/python3.6/site-packages (from nbconvert->-r /content/fastai/condaenv.7u2mtopr.requirements.txt (line 12)) (1.4.2)\n",
            "Requirement already satisfied, skipping upgrade: mistune<2,>=0.8.1 in /content/yes/envs/fastai/lib/python3.6/site-packages (from nbconvert->-r /content/fastai/condaenv.7u2mtopr.requirements.txt (line 12)) (0.8.4)\n",
            "Requirement already satisfied, skipping upgrade: defusedxml in /content/yes/envs/fastai/lib/python3.6/site-packages (from nbconvert->-r /content/fastai/condaenv.7u2mtopr.requirements.txt (line 12)) (0.6.0)\n",
            "Requirement already satisfied, skipping upgrade: setuptools in /content/yes/envs/fastai/lib/python3.6/site-packages (from PyHamcrest->-r /content/fastai/condaenv.7u2mtopr.requirements.txt (line 13)) (41.6.0.post20191030)\n",
            "Requirement already satisfied, skipping upgrade: pyyaml in /content/yes/envs/fastai/lib/python3.6/site-packages (from torch->torchvision==0.1.9->-r /content/fastai/condaenv.7u2mtopr.requirements.txt (line 1)) (5.1.2)\n",
            "Requirement already satisfied, skipping upgrade: python-dateutil>=2.6.1 in /content/yes/envs/fastai/lib/python3.6/site-packages (from pandas->pandas_summary==0.0.5->-r /content/fastai/condaenv.7u2mtopr.requirements.txt (line 4)) (2.8.1)\n",
            "Requirement already satisfied, skipping upgrade: pytz>=2017.2 in /content/yes/envs/fastai/lib/python3.6/site-packages (from pandas->pandas_summary==0.0.5->-r /content/fastai/condaenv.7u2mtopr.requirements.txt (line 4)) (2019.3)\n",
            "Requirement already satisfied, skipping upgrade: idna<2.9,>=2.5 in /content/yes/envs/fastai/lib/python3.6/site-packages (from requests->torchtext==0.2.3->-r /content/fastai/condaenv.7u2mtopr.requirements.txt (line 5)) (2.8)\n",
            "Requirement already satisfied, skipping upgrade: chardet<3.1.0,>=3.0.2 in /content/yes/envs/fastai/lib/python3.6/site-packages (from requests->torchtext==0.2.3->-r /content/fastai/condaenv.7u2mtopr.requirements.txt (line 5)) (3.0.4)\n",
            "Requirement already satisfied, skipping upgrade: urllib3!=1.25.0,!=1.25.1,<1.26,>=1.21.1 in /content/yes/envs/fastai/lib/python3.6/site-packages (from requests->torchtext==0.2.3->-r /content/fastai/condaenv.7u2mtopr.requirements.txt (line 5)) (1.24.2)\n",
            "Requirement already satisfied, skipping upgrade: certifi>=2017.4.17 in /content/yes/envs/fastai/lib/python3.6/site-packages (from requests->torchtext==0.2.3->-r /content/fastai/condaenv.7u2mtopr.requirements.txt (line 5)) (2019.9.11)\n",
            "Collecting joblib>=0.11\n",
            "  Downloading https://files.pythonhosted.org/packages/8f/42/155696f85f344c066e17af287359c9786b436b1bf86029bb3411283274f3/joblib-0.14.0-py2.py3-none-any.whl (294kB)\n",
            "Collecting palettable\n",
            "  Downloading https://files.pythonhosted.org/packages/ca/46/5198aa24e61bb7eef28d06cb69e56bfa1942f4b6807d95a0b5ce361fe09b/palettable-3.3.0-py2.py3-none-any.whl (111kB)\n",
            "Requirement already satisfied, skipping upgrade: kiwisolver>=1.0.1 in /content/yes/envs/fastai/lib/python3.6/site-packages (from matplotlib>=3.1.1->plotnine->-r /content/fastai/condaenv.7u2mtopr.requirements.txt (line 9)) (1.1.0)\n",
            "Requirement already satisfied, skipping upgrade: cycler>=0.10 in /content/yes/envs/fastai/lib/python3.6/site-packages (from matplotlib>=3.1.1->plotnine->-r /content/fastai/condaenv.7u2mtopr.requirements.txt (line 9)) (0.10.0)\n",
            "Requirement already satisfied, skipping upgrade: pyparsing!=2.0.4,!=2.1.2,!=2.1.6,>=2.0.1 in /content/yes/envs/fastai/lib/python3.6/site-packages (from matplotlib>=3.1.1->plotnine->-r /content/fastai/condaenv.7u2mtopr.requirements.txt (line 9)) (2.4.5)\n",
            "Collecting pbr!=2.1.0,>=2.0.0\n",
            "  Downloading https://files.pythonhosted.org/packages/46/a4/d5c83831a3452713e4b4f126149bc4fbda170f7cb16a86a00ce57ce0e9ad/pbr-5.4.3-py2.py3-none-any.whl (110kB)\n",
            "Collecting PrettyTable<0.8,>=0.7.1\n",
            "  Downloading https://files.pythonhosted.org/packages/ef/30/4b0746848746ed5941f052479e7c23d2b56d174b82f4fd34a25e389831f5/prettytable-0.7.2.tar.bz2\n",
            "Collecting stevedore>=1.20.0\n",
            "  Downloading https://files.pythonhosted.org/packages/b1/e1/f5ddbd83f60b03f522f173c03e406c1bff8343f0232a292ac96aa633b47a/stevedore-1.31.0-py2.py3-none-any.whl (43kB)\n",
            "Collecting cmd2>=0.6.7; python_version >= \"3.0\"\n",
            "  Downloading https://files.pythonhosted.org/packages/de/b4/d24126cade96948e5d27d14243be0b3791742060ed01c595e841774a7629/cmd2-0.9.20-py3-none-any.whl (103kB)\n",
            "Collecting python-utils>=2.1.0\n",
            "  Downloading https://files.pythonhosted.org/packages/eb/a0/19119d8b7c05be49baf6c593f11c432d571b70d805f2fe94c0585e55e4c8/python_utils-2.3.0-py2.py3-none-any.whl\n",
            "Requirement already satisfied, skipping upgrade: ipython-genutils in /content/yes/envs/fastai/lib/python3.6/site-packages (from traitlets>=4.3.1->ipywidgets->-r /content/fastai/condaenv.7u2mtopr.requirements.txt (line 11)) (0.2.0)\n",
            "Requirement already satisfied, skipping upgrade: decorator in /content/yes/envs/fastai/lib/python3.6/site-packages (from traitlets>=4.3.1->ipywidgets->-r /content/fastai/condaenv.7u2mtopr.requirements.txt (line 11)) (4.4.1)\n",
            "Requirement already satisfied, skipping upgrade: jupyter-client in /content/yes/envs/fastai/lib/python3.6/site-packages (from ipykernel>=4.5.1->ipywidgets->-r /content/fastai/condaenv.7u2mtopr.requirements.txt (line 11)) (5.3.4)\n",
            "Requirement already satisfied, skipping upgrade: tornado>=4.2 in /content/yes/envs/fastai/lib/python3.6/site-packages (from ipykernel>=4.5.1->ipywidgets->-r /content/fastai/condaenv.7u2mtopr.requirements.txt (line 11)) (4.5.3)\n",
            "Requirement already satisfied, skipping upgrade: jsonschema!=2.5.0,>=2.4 in /content/yes/envs/fastai/lib/python3.6/site-packages (from nbformat>=4.2.0->ipywidgets->-r /content/fastai/condaenv.7u2mtopr.requirements.txt (line 11)) (3.2.0)\n",
            "Requirement already satisfied, skipping upgrade: notebook>=4.4.1 in /content/yes/envs/fastai/lib/python3.6/site-packages (from widgetsnbextension~=3.5.0->ipywidgets->-r /content/fastai/condaenv.7u2mtopr.requirements.txt (line 11)) (5.7.8)\n",
            "Requirement already satisfied, skipping upgrade: jedi>=0.10 in /content/yes/envs/fastai/lib/python3.6/site-packages (from ipython>=4.0.0; python_version >= \"3.3\"->ipywidgets->-r /content/fastai/condaenv.7u2mtopr.requirements.txt (line 11)) (0.15.1)\n",
            "Requirement already satisfied, skipping upgrade: prompt-toolkit<2.1.0,>=2.0.0 in /content/yes/envs/fastai/lib/python3.6/site-packages (from ipython>=4.0.0; python_version >= \"3.3\"->ipywidgets->-r /content/fastai/condaenv.7u2mtopr.requirements.txt (line 11)) (2.0.10)\n",
            "Requirement already satisfied, skipping upgrade: backcall in /content/yes/envs/fastai/lib/python3.6/site-packages (from ipython>=4.0.0; python_version >= \"3.3\"->ipywidgets->-r /content/fastai/condaenv.7u2mtopr.requirements.txt (line 11)) (0.1.0)\n",
            "Requirement already satisfied, skipping upgrade: pexpect; sys_platform != \"win32\" in /content/yes/envs/fastai/lib/python3.6/site-packages (from ipython>=4.0.0; python_version >= \"3.3\"->ipywidgets->-r /content/fastai/condaenv.7u2mtopr.requirements.txt (line 11)) (4.7.0)\n",
            "Requirement already satisfied, skipping upgrade: pickleshare in /content/yes/envs/fastai/lib/python3.6/site-packages (from ipython>=4.0.0; python_version >= \"3.3\"->ipywidgets->-r /content/fastai/condaenv.7u2mtopr.requirements.txt (line 11)) (0.7.5)\n",
            "Requirement already satisfied, skipping upgrade: MarkupSafe>=0.23 in /content/yes/envs/fastai/lib/python3.6/site-packages (from jinja2>=2.4->nbconvert->-r /content/fastai/condaenv.7u2mtopr.requirements.txt (line 12)) (1.1.1)\n",
            "Requirement already satisfied, skipping upgrade: webencodings in /content/yes/envs/fastai/lib/python3.6/site-packages (from bleach->nbconvert->-r /content/fastai/condaenv.7u2mtopr.requirements.txt (line 12)) (0.5.1)\n",
            "Requirement already satisfied, skipping upgrade: attrs>=16.3.0 in /content/yes/envs/fastai/lib/python3.6/site-packages (from cmd2>=0.6.7; python_version >= \"3.0\"->cliff<2.9,>=2.8.0->kaggle-cli->-r /content/fastai/condaenv.7u2mtopr.requirements.txt (line 10)) (19.3.0)\n",
            "Collecting pyperclip>=1.6\n",
            "  Downloading https://files.pythonhosted.org/packages/2d/0f/4eda562dffd085945d57c2d9a5da745cfb5228c02bc90f2c74bbac746243/pyperclip-1.7.0.tar.gz\n",
            "Collecting colorama>=0.3.7\n",
            "  Downloading https://files.pythonhosted.org/packages/4f/a6/728666f39bfff1719fc94c481890b2106837da9318031f71a8424b662e12/colorama-0.4.1-py2.py3-none-any.whl\n",
            "Requirement already satisfied, skipping upgrade: wcwidth>=0.1.7 in /content/yes/envs/fastai/lib/python3.6/site-packages (from cmd2>=0.6.7; python_version >= \"3.0\"->cliff<2.9,>=2.8.0->kaggle-cli->-r /content/fastai/condaenv.7u2mtopr.requirements.txt (line 10)) (0.1.7)\n",
            "Requirement already satisfied, skipping upgrade: pyzmq>=13 in /content/yes/envs/fastai/lib/python3.6/site-packages (from jupyter-client->ipykernel>=4.5.1->ipywidgets->-r /content/fastai/condaenv.7u2mtopr.requirements.txt (line 11)) (18.1.0)\n",
            "Requirement already satisfied, skipping upgrade: importlib-metadata; python_version < \"3.8\" in /content/yes/envs/fastai/lib/python3.6/site-packages (from jsonschema!=2.5.0,>=2.4->nbformat>=4.2.0->ipywidgets->-r /content/fastai/condaenv.7u2mtopr.requirements.txt (line 11)) (0.23)\n",
            "Requirement already satisfied, skipping upgrade: pyrsistent>=0.14.0 in /content/yes/envs/fastai/lib/python3.6/site-packages (from jsonschema!=2.5.0,>=2.4->nbformat>=4.2.0->ipywidgets->-r /content/fastai/condaenv.7u2mtopr.requirements.txt (line 11)) (0.15.5)\n",
            "Requirement already satisfied, skipping upgrade: Send2Trash in /content/yes/envs/fastai/lib/python3.6/site-packages (from notebook>=4.4.1->widgetsnbextension~=3.5.0->ipywidgets->-r /content/fastai/condaenv.7u2mtopr.requirements.txt (line 11)) (1.5.0)\n",
            "Requirement already satisfied, skipping upgrade: prometheus-client in /content/yes/envs/fastai/lib/python3.6/site-packages (from notebook>=4.4.1->widgetsnbextension~=3.5.0->ipywidgets->-r /content/fastai/condaenv.7u2mtopr.requirements.txt (line 11)) (0.7.1)\n",
            "Requirement already satisfied, skipping upgrade: terminado>=0.8.1 in /content/yes/envs/fastai/lib/python3.6/site-packages (from notebook>=4.4.1->widgetsnbextension~=3.5.0->ipywidgets->-r /content/fastai/condaenv.7u2mtopr.requirements.txt (line 11)) (0.8.3)\n",
            "Requirement already satisfied, skipping upgrade: parso>=0.5.0 in /content/yes/envs/fastai/lib/python3.6/site-packages (from jedi>=0.10->ipython>=4.0.0; python_version >= \"3.3\"->ipywidgets->-r /content/fastai/condaenv.7u2mtopr.requirements.txt (line 11)) (0.5.1)\n",
            "Requirement already satisfied, skipping upgrade: ptyprocess>=0.5 in /content/yes/envs/fastai/lib/python3.6/site-packages (from pexpect; sys_platform != \"win32\"->ipython>=4.0.0; python_version >= \"3.3\"->ipywidgets->-r /content/fastai/condaenv.7u2mtopr.requirements.txt (line 11)) (0.6.0)\n",
            "Requirement already satisfied, skipping upgrade: zipp>=0.5 in /content/yes/envs/fastai/lib/python3.6/site-packages (from importlib-metadata; python_version < \"3.8\"->jsonschema!=2.5.0,>=2.4->nbformat>=4.2.0->ipywidgets->-r /content/fastai/condaenv.7u2mtopr.requirements.txt (line 11)) (0.6.0)\n",
            "Requirement already satisfied, skipping upgrade: more-itertools in /content/yes/envs/fastai/lib/python3.6/site-packages (from zipp>=0.5->importlib-metadata; python_version < \"3.8\"->jsonschema!=2.5.0,>=2.4->nbformat>=4.2.0->ipywidgets->-r /content/fastai/condaenv.7u2mtopr.requirements.txt (line 11)) (7.2.0)\n",
            "Building wheels for collected packages: torchtext, feather-format, kaggle-cli, pdpbox, PrettyTable, pyperclip\n",
            "  Building wheel for torchtext (setup.py): started\n",
            "  Building wheel for torchtext (setup.py): finished with status 'done'\n",
            "  Created wheel for torchtext: filename=torchtext-0.2.3-cp36-none-any.whl size=40134 sha256=7cd70cd8584625a2eb752d1bc0310b487da20521786f0e08ddb6f6b79fe7298d\n",
            "  Stored in directory: /root/.cache/pip/wheels/42/a6/f4/b267328bde6bb680094a0c173e8e5627ccc99543abded97204\n",
            "  Building wheel for feather-format (setup.py): started\n",
            "  Building wheel for feather-format (setup.py): finished with status 'done'\n",
            "  Created wheel for feather-format: filename=feather_format-0.4.0-cp36-none-any.whl size=3006 sha256=10db84126c217c0d12163cffe8e707e6bd20ef82c51de990aeb6cda5bae51def\n",
            "  Stored in directory: /root/.cache/pip/wheels/85/7d/12/2dfa5c0195f921ac935f5e8f27deada74972edc0ae9988a9c1\n",
            "  Building wheel for kaggle-cli (setup.py): started\n",
            "  Building wheel for kaggle-cli (setup.py): finished with status 'done'\n",
            "  Created wheel for kaggle-cli: filename=kaggle_cli-0.12.13-cp36-none-any.whl size=9488 sha256=e7cc2c36af6735b26940f8bf07a59b346e8fe5b29130b4b67a4fba99ce0537a0\n",
            "  Stored in directory: /root/.cache/pip/wheels/d5/bb/10/c1dd1b08c7433c943cb55c46367ae3f891415e8a37300ff8a7\n",
            "  Building wheel for pdpbox (setup.py): started\n",
            "  Building wheel for pdpbox (setup.py): finished with status 'done'\n",
            "  Created wheel for pdpbox: filename=PDPbox-0.1-cp36-none-any.whl size=12606 sha256=36c49c350a97dba084ecc6a08b29b8e1911c3eb55e4fba074e73d28283d6b9d0\n",
            "  Stored in directory: /root/.cache/pip/wheels/16/89/b4/336be8a5baaf9dadd8140adbd5f1c1555423e9be1dd9395361\n",
            "  Building wheel for PrettyTable (setup.py): started\n",
            "  Building wheel for PrettyTable (setup.py): finished with status 'done'\n",
            "  Created wheel for PrettyTable: filename=prettytable-0.7.2-cp36-none-any.whl size=13700 sha256=fdfd591113d5b18b24a07e372f2a17af2e01cfc54b71f23923ec812ffefdecb5\n",
            "  Stored in directory: /root/.cache/pip/wheels/80/34/1c/3967380d9676d162cb59513bd9dc862d0584e045a162095606\n",
            "  Building wheel for pyperclip (setup.py): started\n",
            "  Building wheel for pyperclip (setup.py): finished with status 'done'\n",
            "  Created wheel for pyperclip: filename=pyperclip-1.7.0-cp36-none-any.whl size=8359 sha256=9c4b2bd1304e2c6497f984c00574f12dd4e4c2f90b0cb2bdff6696fc8848ca40\n",
            "  Stored in directory: /root/.cache/pip/wheels/92/f0/ac/2ba2972034e98971c3654ece337ac61e546bdeb34ca960dc8c\n",
            "Successfully built torchtext feather-format kaggle-cli pdpbox PrettyTable pyperclip\n",
            "Installing collected packages: torchvision, opencv-python, isoweek, pandas-summary, torchtext, graphviz, joblib, scikit-learn, sklearn-pandas, pyarrow, feather-format, palettable, matplotlib, mizani, descartes, plotnine, pbr, PrettyTable, stevedore, pyperclip, colorama, cmd2, cliff, beautifulsoup4, MechanicalSoup, lxml, cssselect, configparser, python-utils, progressbar2, kaggle-cli, PyHamcrest, pdpbox, scikit-misc\n",
            "  Found existing installation: matplotlib 2.2.3\n",
            "    Uninstalling matplotlib-2.2.3:\n",
            "      Successfully uninstalled matplotlib-2.2.3\n",
            "Successfully installed MechanicalSoup-0.8.0 PrettyTable-0.7.2 PyHamcrest-1.9.0 beautifulsoup4-4.6.3 cliff-2.8.3 cmd2-0.9.20 colorama-0.4.1 configparser-4.0.2 cssselect-1.0.3 descartes-1.1.0 feather-format-0.4.0 graphviz-0.13.2 isoweek-1.3.3 joblib-0.14.0 kaggle-cli-0.12.13 lxml-4.0.0 matplotlib-3.1.2 mizani-0.6.0 opencv-python-4.1.1.26 palettable-3.3.0 pandas-summary-0.0.5 pbr-5.4.3 pdpbox-0.1 plotnine-0.6.0 progressbar2-3.34.3 pyarrow-0.15.1 pyperclip-1.7.0 python-utils-2.3.0 scikit-learn-0.21.3 scikit-misc-0.1.1 sklearn-pandas-1.8.0 stevedore-1.31.0 torchtext-0.2.3 torchvision-0.1.9\n",
            "\n",
            "#\n",
            "# To activate this environment, use\n",
            "#\n",
            "#     $ conda activate fastai\n",
            "#\n",
            "# To deactivate an active environment, use\n",
            "#\n",
            "#     $ conda deactivate\n",
            "\n"
          ],
          "name": "stdout"
        }
      ]
    },
    {
      "cell_type": "code",
      "metadata": {
        "id": "yr82J83PUsYX",
        "colab_type": "code",
        "outputId": "81f06da3-8795-4246-842f-934e37d5c499",
        "colab": {
          "base_uri": "https://localhost:8080/",
          "height": 586
        }
      },
      "source": [
        "#!/content/yes/bin/conda init bash\n",
        "#!/content/yes/bin/conda activate fastai"
      ],
      "execution_count": 0,
      "outputs": [
        {
          "output_type": "stream",
          "text": [
            "no change     /content/yes/condabin/conda\n",
            "no change     /content/yes/bin/conda\n",
            "no change     /content/yes/bin/conda-env\n",
            "no change     /content/yes/bin/activate\n",
            "no change     /content/yes/bin/deactivate\n",
            "no change     /content/yes/etc/profile.d/conda.sh\n",
            "no change     /content/yes/etc/fish/conf.d/conda.fish\n",
            "no change     /content/yes/shell/condabin/Conda.psm1\n",
            "no change     /content/yes/shell/condabin/conda-hook.ps1\n",
            "no change     /content/yes/lib/python3.7/site-packages/xontrib/conda.xsh\n",
            "no change     /content/yes/etc/profile.d/conda.csh\n",
            "no change     /root/.bashrc\n",
            "No action taken.\n",
            "\n",
            "CommandNotFoundError: Your shell has not been properly configured to use 'conda activate'.\n",
            "To initialize your shell, run\n",
            "\n",
            "    $ conda init <SHELL_NAME>\n",
            "\n",
            "Currently supported shells are:\n",
            "  - bash\n",
            "  - fish\n",
            "  - tcsh\n",
            "  - xonsh\n",
            "  - zsh\n",
            "  - powershell\n",
            "\n",
            "See 'conda init --help' for more information and options.\n",
            "\n",
            "IMPORTANT: You may need to close and restart your shell after running 'conda init'.\n",
            "\n",
            "\n"
          ],
          "name": "stdout"
        }
      ]
    },
    {
      "cell_type": "code",
      "metadata": {
        "id": "zNtsd7E8-WLm",
        "colab_type": "code",
        "outputId": "54ef0b90-a105-4edd-8f65-66c10ccfb664",
        "colab": {
          "base_uri": "https://localhost:8080/",
          "height": 141
        }
      },
      "source": [
        "#!pip3 install torch torchvision"
      ],
      "execution_count": 0,
      "outputs": [
        {
          "output_type": "stream",
          "text": [
            "Requirement already satisfied: torch in /usr/local/lib/python3.6/dist-packages (0.3.1)\n",
            "Requirement already satisfied: torchvision in /usr/local/lib/python3.6/dist-packages (0.4.0)\n",
            "Requirement already satisfied: numpy in /usr/local/lib/python3.6/dist-packages (from torch) (1.17.4)\n",
            "Requirement already satisfied: pyyaml in /usr/local/lib/python3.6/dist-packages (from torch) (3.13)\n",
            "Requirement already satisfied: pillow>=4.1.1 in /usr/local/lib/python3.6/dist-packages (from torchvision) (4.3.0)\n",
            "Requirement already satisfied: six in /usr/local/lib/python3.6/dist-packages (from torchvision) (1.12.0)\n",
            "Requirement already satisfied: olefile in /usr/local/lib/python3.6/dist-packages (from pillow>=4.1.1->torchvision) (0.46)\n"
          ],
          "name": "stdout"
        }
      ]
    },
    {
      "cell_type": "code",
      "metadata": {
        "id": "0_7gaF-L-9pi",
        "colab_type": "code",
        "outputId": "f9285703-187d-4118-9f8d-be414b5a5fa5",
        "colab": {
          "base_uri": "https://localhost:8080/",
          "height": 35
        }
      },
      "source": [
        "#!conda install pytorch torchvision cudatoolkit=10.1 -c pytorch\n"
      ],
      "execution_count": 0,
      "outputs": [
        {
          "output_type": "stream",
          "text": [
            "/bin/bash: conda: command not found\n"
          ],
          "name": "stdout"
        }
      ]
    },
    {
      "cell_type": "markdown",
      "metadata": {
        "id": "ZS4ewO3D-6fD",
        "colab_type": "text"
      },
      "source": [
        "### Fast.AI"
      ]
    },
    {
      "cell_type": "code",
      "metadata": {
        "id": "afHaz1jEOArj",
        "colab_type": "code",
        "colab": {}
      },
      "source": [
        "#!pip install -q fastai"
      ],
      "execution_count": 0,
      "outputs": []
    },
    {
      "cell_type": "code",
      "metadata": {
        "id": "mbw_8m3gm4lk",
        "colab_type": "code",
        "colab": {}
      },
      "source": [
        "#!git clone https://github.com/fastai/fastai.git\n",
        "#import os\n",
        "#os.chdir(\"fastai\")\n",
        "#!git pull\n",
        "#!git checkout tags/v0.7.2 -b v0.7.2"
      ],
      "execution_count": 0,
      "outputs": []
    },
    {
      "cell_type": "code",
      "metadata": {
        "id": "HLpl6fVt_sRU",
        "colab_type": "code",
        "colab": {}
      },
      "source": [
        "#os.chdir(\"..\")\n",
        "#!pip install -q https://github.com/fastai/fastai/archive/v0.7.2.zip"
      ],
      "execution_count": 0,
      "outputs": []
    },
    {
      "cell_type": "code",
      "metadata": {
        "id": "CTOIOhCJJn-k",
        "colab_type": "code",
        "outputId": "cd7a1191-bf6a-4154-a19b-73d891285557",
        "colab": {
          "base_uri": "https://localhost:8080/",
          "height": 52
        }
      },
      "source": [
        "#!pip install -q ipywidgets==7.0.0"
      ],
      "execution_count": 0,
      "outputs": [
        {
          "output_type": "stream",
          "text": [
            "\u001b[?25l\r\u001b[K     |█████▏                          | 10kB 22.3MB/s eta 0:00:01\r\u001b[K     |██████████▎                     | 20kB 4.3MB/s eta 0:00:01\r\u001b[K     |███████████████▍                | 30kB 6.1MB/s eta 0:00:01\r\u001b[K     |████████████████████▌           | 40kB 7.9MB/s eta 0:00:01\r\u001b[K     |█████████████████████████▋      | 51kB 5.1MB/s eta 0:00:01\r\u001b[K     |██████████████████████████████▊ | 61kB 6.0MB/s eta 0:00:01\r\u001b[K     |████████████████████████████████| 71kB 4.0MB/s \n",
            "\u001b[?25h\u001b[?25l\r\u001b[K     |▏                               | 10kB 22.7MB/s eta 0:00:01\r\u001b[K     |▎                               | 20kB 29.8MB/s eta 0:00:01\r\u001b[K     |▌                               | 30kB 34.4MB/s eta 0:00:01\r\u001b[K     |▋                               | 40kB 37.2MB/s eta 0:00:01\r\u001b[K     |▊                               | 51kB 37.4MB/s eta 0:00:01\r\u001b[K     |█                               | 61kB 39.3MB/s eta 0:00:01\r\u001b[K     |█                               | 71kB 15.6MB/s eta 0:00:01\r\u001b[K     |█▏                              | 81kB 16.8MB/s eta 0:00:01\r\u001b[K     |█▍                              | 92kB 18.1MB/s eta 0:00:01\r\u001b[K     |█▌                              | 102kB 19.2MB/s eta 0:00:01\r\u001b[K     |█▋                              | 112kB 19.2MB/s eta 0:00:01\r\u001b[K     |█▉                              | 122kB 19.2MB/s eta 0:00:01\r\u001b[K     |██                              | 133kB 19.2MB/s eta 0:00:01\r\u001b[K     |██                              | 143kB 19.2MB/s eta 0:00:01\r\u001b[K     |██▎                             | 153kB 19.2MB/s eta 0:00:01\r\u001b[K     |██▍                             | 163kB 19.2MB/s eta 0:00:01\r\u001b[K     |██▌                             | 174kB 19.2MB/s eta 0:00:01\r\u001b[K     |██▊                             | 184kB 19.2MB/s eta 0:00:01\r\u001b[K     |██▉                             | 194kB 19.2MB/s eta 0:00:01\r\u001b[K     |███                             | 204kB 19.2MB/s eta 0:00:01\r\u001b[K     |███▏                            | 215kB 19.2MB/s eta 0:00:01\r\u001b[K     |███▎                            | 225kB 19.2MB/s eta 0:00:01\r\u001b[K     |███▌                            | 235kB 19.2MB/s eta 0:00:01\r\u001b[K     |███▋                            | 245kB 19.2MB/s eta 0:00:01\r\u001b[K     |███▊                            | 256kB 19.2MB/s eta 0:00:01\r\u001b[K     |████                            | 266kB 19.2MB/s eta 0:00:01\r\u001b[K     |████                            | 276kB 19.2MB/s eta 0:00:01\r\u001b[K     |████▏                           | 286kB 19.2MB/s eta 0:00:01\r\u001b[K     |████▍                           | 296kB 19.2MB/s eta 0:00:01\r\u001b[K     |████▌                           | 307kB 19.2MB/s eta 0:00:01\r\u001b[K     |████▋                           | 317kB 19.2MB/s eta 0:00:01\r\u001b[K     |████▉                           | 327kB 19.2MB/s eta 0:00:01\r\u001b[K     |█████                           | 337kB 19.2MB/s eta 0:00:01\r\u001b[K     |█████                           | 348kB 19.2MB/s eta 0:00:01\r\u001b[K     |█████▎                          | 358kB 19.2MB/s eta 0:00:01\r\u001b[K     |█████▍                          | 368kB 19.2MB/s eta 0:00:01\r\u001b[K     |█████▌                          | 378kB 19.2MB/s eta 0:00:01\r\u001b[K     |█████▊                          | 389kB 19.2MB/s eta 0:00:01\r\u001b[K     |█████▉                          | 399kB 19.2MB/s eta 0:00:01\r\u001b[K     |██████                          | 409kB 19.2MB/s eta 0:00:01\r\u001b[K     |██████▏                         | 419kB 19.2MB/s eta 0:00:01\r\u001b[K     |██████▎                         | 430kB 19.2MB/s eta 0:00:01\r\u001b[K     |██████▍                         | 440kB 19.2MB/s eta 0:00:01\r\u001b[K     |██████▋                         | 450kB 19.2MB/s eta 0:00:01\r\u001b[K     |██████▊                         | 460kB 19.2MB/s eta 0:00:01\r\u001b[K     |███████                         | 471kB 19.2MB/s eta 0:00:01\r\u001b[K     |███████                         | 481kB 19.2MB/s eta 0:00:01\r\u001b[K     |███████▏                        | 491kB 19.2MB/s eta 0:00:01\r\u001b[K     |███████▍                        | 501kB 19.2MB/s eta 0:00:01\r\u001b[K     |███████▌                        | 512kB 19.2MB/s eta 0:00:01\r\u001b[K     |███████▋                        | 522kB 19.2MB/s eta 0:00:01\r\u001b[K     |███████▉                        | 532kB 19.2MB/s eta 0:00:01\r\u001b[K     |████████                        | 542kB 19.2MB/s eta 0:00:01\r\u001b[K     |████████                        | 552kB 19.2MB/s eta 0:00:01\r\u001b[K     |████████▎                       | 563kB 19.2MB/s eta 0:00:01\r\u001b[K     |████████▍                       | 573kB 19.2MB/s eta 0:00:01\r\u001b[K     |████████▌                       | 583kB 19.2MB/s eta 0:00:01\r\u001b[K     |████████▊                       | 593kB 19.2MB/s eta 0:00:01\r\u001b[K     |████████▉                       | 604kB 19.2MB/s eta 0:00:01\r\u001b[K     |█████████                       | 614kB 19.2MB/s eta 0:00:01\r\u001b[K     |█████████▏                      | 624kB 19.2MB/s eta 0:00:01\r\u001b[K     |█████████▎                      | 634kB 19.2MB/s eta 0:00:01\r\u001b[K     |█████████▍                      | 645kB 19.2MB/s eta 0:00:01\r\u001b[K     |█████████▋                      | 655kB 19.2MB/s eta 0:00:01\r\u001b[K     |█████████▊                      | 665kB 19.2MB/s eta 0:00:01\r\u001b[K     |█████████▉                      | 675kB 19.2MB/s eta 0:00:01\r\u001b[K     |██████████                      | 686kB 19.2MB/s eta 0:00:01\r\u001b[K     |██████████▏                     | 696kB 19.2MB/s eta 0:00:01\r\u001b[K     |██████████▍                     | 706kB 19.2MB/s eta 0:00:01\r\u001b[K     |██████████▌                     | 716kB 19.2MB/s eta 0:00:01\r\u001b[K     |██████████▋                     | 727kB 19.2MB/s eta 0:00:01\r\u001b[K     |██████████▉                     | 737kB 19.2MB/s eta 0:00:01\r\u001b[K     |███████████                     | 747kB 19.2MB/s eta 0:00:01\r\u001b[K     |███████████                     | 757kB 19.2MB/s eta 0:00:01\r\u001b[K     |███████████▎                    | 768kB 19.2MB/s eta 0:00:01\r\u001b[K     |███████████▍                    | 778kB 19.2MB/s eta 0:00:01\r\u001b[K     |███████████▌                    | 788kB 19.2MB/s eta 0:00:01\r\u001b[K     |███████████▊                    | 798kB 19.2MB/s eta 0:00:01\r\u001b[K     |███████████▉                    | 808kB 19.2MB/s eta 0:00:01\r\u001b[K     |████████████                    | 819kB 19.2MB/s eta 0:00:01\r\u001b[K     |████████████▏                   | 829kB 19.2MB/s eta 0:00:01\r\u001b[K     |████████████▎                   | 839kB 19.2MB/s eta 0:00:01\r\u001b[K     |████████████▍                   | 849kB 19.2MB/s eta 0:00:01\r\u001b[K     |████████████▋                   | 860kB 19.2MB/s eta 0:00:01\r\u001b[K     |████████████▊                   | 870kB 19.2MB/s eta 0:00:01\r\u001b[K     |████████████▉                   | 880kB 19.2MB/s eta 0:00:01\r\u001b[K     |█████████████                   | 890kB 19.2MB/s eta 0:00:01\r\u001b[K     |█████████████▏                  | 901kB 19.2MB/s eta 0:00:01\r\u001b[K     |█████████████▎                  | 911kB 19.2MB/s eta 0:00:01\r\u001b[K     |█████████████▌                  | 921kB 19.2MB/s eta 0:00:01\r\u001b[K     |█████████████▋                  | 931kB 19.2MB/s eta 0:00:01\r\u001b[K     |█████████████▉                  | 942kB 19.2MB/s eta 0:00:01\r\u001b[K     |██████████████                  | 952kB 19.2MB/s eta 0:00:01\r\u001b[K     |██████████████                  | 962kB 19.2MB/s eta 0:00:01\r\u001b[K     |██████████████▎                 | 972kB 19.2MB/s eta 0:00:01\r\u001b[K     |██████████████▍                 | 983kB 19.2MB/s eta 0:00:01\r\u001b[K     |██████████████▌                 | 993kB 19.2MB/s eta 0:00:01\r\u001b[K     |██████████████▊                 | 1.0MB 19.2MB/s eta 0:00:01\r\u001b[K     |██████████████▉                 | 1.0MB 19.2MB/s eta 0:00:01\r\u001b[K     |███████████████                 | 1.0MB 19.2MB/s eta 0:00:01\r\u001b[K     |███████████████▏                | 1.0MB 19.2MB/s eta 0:00:01\r\u001b[K     |███████████████▎                | 1.0MB 19.2MB/s eta 0:00:01\r\u001b[K     |███████████████▍                | 1.1MB 19.2MB/s eta 0:00:01\r\u001b[K     |███████████████▋                | 1.1MB 19.2MB/s eta 0:00:01\r\u001b[K     |███████████████▊                | 1.1MB 19.2MB/s eta 0:00:01\r\u001b[K     |███████████████▉                | 1.1MB 19.2MB/s eta 0:00:01\r\u001b[K     |████████████████                | 1.1MB 19.2MB/s eta 0:00:01\r\u001b[K     |████████████████▏               | 1.1MB 19.2MB/s eta 0:00:01\r\u001b[K     |████████████████▎               | 1.1MB 19.2MB/s eta 0:00:01\r\u001b[K     |████████████████▌               | 1.1MB 19.2MB/s eta 0:00:01\r\u001b[K     |████████████████▋               | 1.1MB 19.2MB/s eta 0:00:01\r\u001b[K     |████████████████▉               | 1.1MB 19.2MB/s eta 0:00:01\r\u001b[K     |█████████████████               | 1.2MB 19.2MB/s eta 0:00:01\r\u001b[K     |█████████████████               | 1.2MB 19.2MB/s eta 0:00:01\r\u001b[K     |█████████████████▎              | 1.2MB 19.2MB/s eta 0:00:01\r\u001b[K     |█████████████████▍              | 1.2MB 19.2MB/s eta 0:00:01\r\u001b[K     |█████████████████▌              | 1.2MB 19.2MB/s eta 0:00:01\r\u001b[K     |█████████████████▊              | 1.2MB 19.2MB/s eta 0:00:01\r\u001b[K     |█████████████████▉              | 1.2MB 19.2MB/s eta 0:00:01\r\u001b[K     |██████████████████              | 1.2MB 19.2MB/s eta 0:00:01\r\u001b[K     |██████████████████▏             | 1.2MB 19.2MB/s eta 0:00:01\r\u001b[K     |██████████████████▎             | 1.2MB 19.2MB/s eta 0:00:01\r\u001b[K     |██████████████████▍             | 1.3MB 19.2MB/s eta 0:00:01\r\u001b[K     |██████████████████▋             | 1.3MB 19.2MB/s eta 0:00:01\r\u001b[K     |██████████████████▊             | 1.3MB 19.2MB/s eta 0:00:01\r\u001b[K     |██████████████████▉             | 1.3MB 19.2MB/s eta 0:00:01\r\u001b[K     |███████████████████             | 1.3MB 19.2MB/s eta 0:00:01\r\u001b[K     |███████████████████▏            | 1.3MB 19.2MB/s eta 0:00:01\r\u001b[K     |███████████████████▎            | 1.3MB 19.2MB/s eta 0:00:01\r\u001b[K     |███████████████████▌            | 1.3MB 19.2MB/s eta 0:00:01\r\u001b[K     |███████████████████▋            | 1.3MB 19.2MB/s eta 0:00:01\r\u001b[K     |███████████████████▊            | 1.4MB 19.2MB/s eta 0:00:01\r\u001b[K     |████████████████████            | 1.4MB 19.2MB/s eta 0:00:01\r\u001b[K     |████████████████████            | 1.4MB 19.2MB/s eta 0:00:01\r\u001b[K     |████████████████████▎           | 1.4MB 19.2MB/s eta 0:00:01\r\u001b[K     |████████████████████▍           | 1.4MB 19.2MB/s eta 0:00:01\r\u001b[K     |████████████████████▌           | 1.4MB 19.2MB/s eta 0:00:01\r\u001b[K     |████████████████████▊           | 1.4MB 19.2MB/s eta 0:00:01\r\u001b[K     |████████████████████▉           | 1.4MB 19.2MB/s eta 0:00:01\r\u001b[K     |█████████████████████           | 1.4MB 19.2MB/s eta 0:00:01\r\u001b[K     |█████████████████████▏          | 1.4MB 19.2MB/s eta 0:00:01\r\u001b[K     |█████████████████████▎          | 1.5MB 19.2MB/s eta 0:00:01\r\u001b[K     |█████████████████████▍          | 1.5MB 19.2MB/s eta 0:00:01\r\u001b[K     |█████████████████████▋          | 1.5MB 19.2MB/s eta 0:00:01\r\u001b[K     |█████████████████████▊          | 1.5MB 19.2MB/s eta 0:00:01\r\u001b[K     |█████████████████████▉          | 1.5MB 19.2MB/s eta 0:00:01\r\u001b[K     |██████████████████████          | 1.5MB 19.2MB/s eta 0:00:01\r\u001b[K     |██████████████████████▏         | 1.5MB 19.2MB/s eta 0:00:01\r\u001b[K     |██████████████████████▎         | 1.5MB 19.2MB/s eta 0:00:01\r\u001b[K     |██████████████████████▌         | 1.5MB 19.2MB/s eta 0:00:01\r\u001b[K     |██████████████████████▋         | 1.5MB 19.2MB/s eta 0:00:01\r\u001b[K     |██████████████████████▊         | 1.6MB 19.2MB/s eta 0:00:01\r\u001b[K     |███████████████████████         | 1.6MB 19.2MB/s eta 0:00:01\r\u001b[K     |███████████████████████         | 1.6MB 19.2MB/s eta 0:00:01\r\u001b[K     |███████████████████████▏        | 1.6MB 19.2MB/s eta 0:00:01\r\u001b[K     |███████████████████████▍        | 1.6MB 19.2MB/s eta 0:00:01\r\u001b[K     |███████████████████████▌        | 1.6MB 19.2MB/s eta 0:00:01\r\u001b[K     |███████████████████████▊        | 1.6MB 19.2MB/s eta 0:00:01\r\u001b[K     |███████████████████████▉        | 1.6MB 19.2MB/s eta 0:00:01\r\u001b[K     |████████████████████████        | 1.6MB 19.2MB/s eta 0:00:01\r\u001b[K     |████████████████████████▏       | 1.6MB 19.2MB/s eta 0:00:01\r\u001b[K     |████████████████████████▎       | 1.7MB 19.2MB/s eta 0:00:01\r\u001b[K     |████████████████████████▍       | 1.7MB 19.2MB/s eta 0:00:01\r\u001b[K     |████████████████████████▋       | 1.7MB 19.2MB/s eta 0:00:01\r\u001b[K     |████████████████████████▊       | 1.7MB 19.2MB/s eta 0:00:01\r\u001b[K     |████████████████████████▉       | 1.7MB 19.2MB/s eta 0:00:01\r\u001b[K     |█████████████████████████       | 1.7MB 19.2MB/s eta 0:00:01\r\u001b[K     |█████████████████████████▏      | 1.7MB 19.2MB/s eta 0:00:01\r\u001b[K     |█████████████████████████▎      | 1.7MB 19.2MB/s eta 0:00:01\r\u001b[K     |█████████████████████████▌      | 1.7MB 19.2MB/s eta 0:00:01\r\u001b[K     |█████████████████████████▋      | 1.8MB 19.2MB/s eta 0:00:01\r\u001b[K     |█████████████████████████▊      | 1.8MB 19.2MB/s eta 0:00:01\r\u001b[K     |██████████████████████████      | 1.8MB 19.2MB/s eta 0:00:01\r\u001b[K     |██████████████████████████      | 1.8MB 19.2MB/s eta 0:00:01\r\u001b[K     |██████████████████████████▏     | 1.8MB 19.2MB/s eta 0:00:01\r\u001b[K     |██████████████████████████▍     | 1.8MB 19.2MB/s eta 0:00:01\r\u001b[K     |██████████████████████████▌     | 1.8MB 19.2MB/s eta 0:00:01\r\u001b[K     |██████████████████████████▋     | 1.8MB 19.2MB/s eta 0:00:01\r\u001b[K     |██████████████████████████▉     | 1.8MB 19.2MB/s eta 0:00:01\r\u001b[K     |███████████████████████████     | 1.8MB 19.2MB/s eta 0:00:01\r\u001b[K     |███████████████████████████▏    | 1.9MB 19.2MB/s eta 0:00:01\r\u001b[K     |███████████████████████████▎    | 1.9MB 19.2MB/s eta 0:00:01\r\u001b[K     |███████████████████████████▍    | 1.9MB 19.2MB/s eta 0:00:01\r\u001b[K     |███████████████████████████▋    | 1.9MB 19.2MB/s eta 0:00:01\r\u001b[K     |███████████████████████████▊    | 1.9MB 19.2MB/s eta 0:00:01\r\u001b[K     |███████████████████████████▉    | 1.9MB 19.2MB/s eta 0:00:01\r\u001b[K     |████████████████████████████    | 1.9MB 19.2MB/s eta 0:00:01\r\u001b[K     |████████████████████████████▏   | 1.9MB 19.2MB/s eta 0:00:01\r\u001b[K     |████████████████████████████▎   | 1.9MB 19.2MB/s eta 0:00:01\r\u001b[K     |████████████████████████████▌   | 1.9MB 19.2MB/s eta 0:00:01\r\u001b[K     |████████████████████████████▋   | 2.0MB 19.2MB/s eta 0:00:01\r\u001b[K     |████████████████████████████▊   | 2.0MB 19.2MB/s eta 0:00:01\r\u001b[K     |█████████████████████████████   | 2.0MB 19.2MB/s eta 0:00:01\r\u001b[K     |█████████████████████████████   | 2.0MB 19.2MB/s eta 0:00:01\r\u001b[K     |█████████████████████████████▏  | 2.0MB 19.2MB/s eta 0:00:01\r\u001b[K     |█████████████████████████████▍  | 2.0MB 19.2MB/s eta 0:00:01\r\u001b[K     |█████████████████████████████▌  | 2.0MB 19.2MB/s eta 0:00:01\r\u001b[K     |█████████████████████████████▋  | 2.0MB 19.2MB/s eta 0:00:01\r\u001b[K     |█████████████████████████████▉  | 2.0MB 19.2MB/s eta 0:00:01\r\u001b[K     |██████████████████████████████  | 2.0MB 19.2MB/s eta 0:00:01\r\u001b[K     |██████████████████████████████▏ | 2.1MB 19.2MB/s eta 0:00:01\r\u001b[K     |██████████████████████████████▎ | 2.1MB 19.2MB/s eta 0:00:01\r\u001b[K     |██████████████████████████████▍ | 2.1MB 19.2MB/s eta 0:00:01\r\u001b[K     |██████████████████████████████▋ | 2.1MB 19.2MB/s eta 0:00:01\r\u001b[K     |██████████████████████████████▊ | 2.1MB 19.2MB/s eta 0:00:01\r\u001b[K     |██████████████████████████████▉ | 2.1MB 19.2MB/s eta 0:00:01\r\u001b[K     |███████████████████████████████ | 2.1MB 19.2MB/s eta 0:00:01\r\u001b[K     |███████████████████████████████▏| 2.1MB 19.2MB/s eta 0:00:01\r\u001b[K     |███████████████████████████████▎| 2.1MB 19.2MB/s eta 0:00:01\r\u001b[K     |███████████████████████████████▌| 2.2MB 19.2MB/s eta 0:00:01\r\u001b[K     |███████████████████████████████▋| 2.2MB 19.2MB/s eta 0:00:01\r\u001b[K     |███████████████████████████████▊| 2.2MB 19.2MB/s eta 0:00:01\r\u001b[K     |████████████████████████████████| 2.2MB 19.2MB/s eta 0:00:01\r\u001b[K     |████████████████████████████████| 2.2MB 19.2MB/s \n",
            "\u001b[?25h"
          ],
          "name": "stdout"
        }
      ]
    },
    {
      "cell_type": "markdown",
      "metadata": {
        "id": "YMIR9I9w4XmJ",
        "colab_type": "text"
      },
      "source": [
        "### Instalacja PyDrive"
      ]
    },
    {
      "cell_type": "code",
      "metadata": {
        "id": "f1QfUX25K5hL",
        "colab_type": "code",
        "colab": {}
      },
      "source": [
        "# Install the PyDrive wrapper & import libraries.\n",
        "# This only needs to be done once per notebook.\n",
        "!pip install -U -q PyDrive\n",
        "\n",
        "from pydrive.auth import GoogleAuth\n",
        "from pydrive.drive import GoogleDrive\n",
        "from google.colab import auth\n",
        "from oauth2client.client import GoogleCredentials\n",
        "\n",
        "# Authenticate and create the PyDrive client.\n",
        "# This only needs to be done once per notebook.\n",
        "auth.authenticate_user()\n",
        "gauth = GoogleAuth()\n",
        "gauth.credentials = GoogleCredentials.get_application_default()\n",
        "drive = GoogleDrive(gauth)\n",
        "\n",
        "from pathlib import Path\n",
        "import os\n",
        "\n",
        "def download_and_save(file_name, file_id):\n",
        "  downloaded = drive.CreateFile({'id': file_id})\n",
        "  # fetch file\n",
        "  downloaded.FetchContent()\n",
        "  # write file\n",
        "  with open(file_name,'wb') as f:\n",
        "       f.write(downloaded.content.read())\n",
        "      \n",
        "  print(f'Saved {file_name}')\n",
        "  \n",
        "FILE_NAME, FILE_ID = ['file_name', 'file_id']"
      ],
      "execution_count": 0,
      "outputs": []
    },
    {
      "cell_type": "markdown",
      "metadata": {
        "id": "1rQGlnaqHBds",
        "colab_type": "text"
      },
      "source": [
        "### Pobierz modyfikacje Fast.AI\n"
      ]
    },
    {
      "cell_type": "code",
      "metadata": {
        "id": "cRaA4XnZHBdx",
        "colab_type": "code",
        "colab": {}
      },
      "source": [
        "from pathlib import Path\n",
        "\n",
        "home_path = Path('/content/')"
      ],
      "execution_count": 0,
      "outputs": []
    },
    {
      "cell_type": "code",
      "metadata": {
        "id": "YLfcHNgTE9qg",
        "colab_type": "code",
        "outputId": "372cf8a3-4ccf-4da7-c8cb-50f2eb80a9fa",
        "colab": {
          "base_uri": "https://localhost:8080/",
          "height": 34
        }
      },
      "source": [
        "# plots_wcz.py, https://drive.google.com/file/d/1CIc_hlYNzypzZFnFi4iQXtoyLj1C7-vS\n",
        "download_and_save(home_path / 'plots.py', '1CIc_hlYNzypzZFnFi4iQXtoyLj1C7-vS')\n",
        "!cp {home_path}/plots.py /usr/local/lib/python3.6/dist-packages/fastai"
      ],
      "execution_count": 5,
      "outputs": [
        {
          "output_type": "stream",
          "text": [
            "Saved /content/plots.py\n"
          ],
          "name": "stdout"
        }
      ]
    },
    {
      "cell_type": "code",
      "metadata": {
        "id": "FU-r-GgwEKNu",
        "colab_type": "code",
        "outputId": "e61c5982-e67b-4493-e34d-5acefc8a3c95",
        "colab": {
          "base_uri": "https://localhost:8080/",
          "height": 34
        }
      },
      "source": [
        "#model_wcz.py, https://drive.google.com/file/d/1ODoXeYCssSAZzaiZFUFSwjiZUI7YX2Ci\n",
        "download_and_save(home_path / 'model.py', '1ODoXeYCssSAZzaiZFUFSwjiZUI7YX2Ci')\n",
        "!cp {home_path}/model.py /usr/local/lib/python3.6/dist-packages/fastai"
      ],
      "execution_count": 6,
      "outputs": [
        {
          "output_type": "stream",
          "text": [
            "Saved /content/model.py\n"
          ],
          "name": "stdout"
        }
      ]
    },
    {
      "cell_type": "code",
      "metadata": {
        "id": "A9iRTXgxENUN",
        "colab_type": "code",
        "outputId": "5d22e0d2-654f-4adc-9a9c-1c004fff6f6f",
        "colab": {
          "base_uri": "https://localhost:8080/",
          "height": 34
        }
      },
      "source": [
        "# imports_wcz.py, https://drive.google.com/file/d/1OtLXbO7v-11QRSZmVuFACJPZFP1e3RYM\n",
        "download_and_save(home_path / 'imports.py', '1OtLXbO7v-11QRSZmVuFACJPZFP1e3RYM')\n",
        "!cp {home_path}/imports.py /usr/local/lib/python3.6/dist-packages/fastai"
      ],
      "execution_count": 7,
      "outputs": [
        {
          "output_type": "stream",
          "text": [
            "Saved /content/imports.py\n"
          ],
          "name": "stdout"
        }
      ]
    },
    {
      "cell_type": "markdown",
      "metadata": {
        "id": "5ZXypyBX-JB-",
        "colab_type": "text"
      },
      "source": [
        "### Pobierz zbiory danych"
      ]
    },
    {
      "cell_type": "code",
      "metadata": {
        "id": "5TL75Rydtgp4",
        "colab_type": "code",
        "outputId": "a91f1e1e-ac5a-4979-f90f-23a9b11c38f0",
        "colab": {
          "base_uri": "https://localhost:8080/",
          "height": 67
        }
      },
      "source": [
        "dataset_path = Path('/content/data/old_polish_cars'); dataset_path\n",
        "!mkdir -p $dataset_path\n",
        "!ls -la $dataset_path"
      ],
      "execution_count": 8,
      "outputs": [
        {
          "output_type": "stream",
          "text": [
            "total 8\n",
            "drwxr-xr-x 2 root root 4096 Dec 27 02:17 .\n",
            "drwxr-xr-x 3 root root 4096 Dec 27 02:17 ..\n"
          ],
          "name": "stdout"
        }
      ]
    },
    {
      "cell_type": "markdown",
      "metadata": {
        "id": "b-A_m90b9izf",
        "colab_type": "text"
      },
      "source": [
        "###  old_polish_cars_v5-split dataset"
      ]
    },
    {
      "cell_type": "code",
      "metadata": {
        "id": "PE5Bf1Op980l",
        "colab_type": "code",
        "outputId": "daaaf2c5-ce13-4405-d51a-5d4ff536999c",
        "colab": {
          "base_uri": "https://localhost:8080/",
          "height": 34
        }
      },
      "source": [
        "# old_polish_cars_v5_photos-512-split.tgz, https://drive.google.com/open?id=1kq3odh47lAAOK8MmeckHeCh1pTk6ga0i\n",
        "old_polish_cars_v5_split = {FILE_NAME: 'old_polish_cars_v5_photos-512-split.tgz', FILE_ID: '1kq3odh47lAAOK8MmeckHeCh1pTk6ga0i'}\n",
        "old_polish_cars_v5_split_path = dataset_path / old_polish_cars_v5_split[FILE_NAME]\n",
        "download_and_save(old_polish_cars_v5_split_path, old_polish_cars_v5_split[FILE_ID])"
      ],
      "execution_count": 9,
      "outputs": [
        {
          "output_type": "stream",
          "text": [
            "Saved /content/data/old_polish_cars/old_polish_cars_v5_photos-512-split.tgz\n"
          ],
          "name": "stdout"
        }
      ]
    },
    {
      "cell_type": "code",
      "metadata": {
        "id": "gu1mfxS8-1sV",
        "colab_type": "code",
        "colab": {}
      },
      "source": [
        "# unpack\n",
        "!tar -xf $old_polish_cars_v5_split_path -C $dataset_path"
      ],
      "execution_count": 0,
      "outputs": []
    },
    {
      "cell_type": "markdown",
      "metadata": {
        "id": "koUXEbYGnXjI",
        "colab_type": "text"
      },
      "source": [
        "## Opcjonalnie"
      ]
    },
    {
      "cell_type": "markdown",
      "metadata": {
        "id": "Rb6O8s41Y--d",
        "colab_type": "text"
      },
      "source": [
        "### (opcjonalnie) old_polish_cars_v5 dataset"
      ]
    },
    {
      "cell_type": "code",
      "metadata": {
        "id": "79yyzkqYY_R7",
        "colab_type": "code",
        "colab": {
          "base_uri": "https://localhost:8080/",
          "height": 34
        },
        "outputId": "297a62d9-0119-48bc-a0ab-626c0bdf2b57"
      },
      "source": [
        "# old_polish_cars_v5_photos-512.tgz, https://drive.google.com/open?id=1q0O5cOgzg8R65nnMAQehviJVU45CwOJ8\n",
        "old_polish_cars_v5 = {FILE_NAME: 'old_polish_cars_v5_photos-512.tgz', FILE_ID: '1q0O5cOgzg8R65nnMAQehviJVU45CwOJ8'}\n",
        "old_polish_cars_v5_path = dataset_path / old_polish_cars_v5[FILE_NAME]\n",
        "download_and_save(old_polish_cars_v5_path, old_polish_cars_v5[FILE_ID])"
      ],
      "execution_count": 11,
      "outputs": [
        {
          "output_type": "stream",
          "text": [
            "Saved /content/data/old_polish_cars/old_polish_cars_v5_photos-512.tgz\n"
          ],
          "name": "stdout"
        }
      ]
    },
    {
      "cell_type": "code",
      "metadata": {
        "id": "EiqkvbbdZBsm",
        "colab_type": "code",
        "colab": {}
      },
      "source": [
        "# unpack\n",
        "!tar -xf $old_polish_cars_v5_path -C $dataset_path"
      ],
      "execution_count": 0,
      "outputs": []
    },
    {
      "cell_type": "markdown",
      "metadata": {
        "id": "S1ysBtt3ufRE",
        "colab_type": "text"
      },
      "source": [
        "### (opcjonalnie) old_polish_cars_v4 dataset"
      ]
    },
    {
      "cell_type": "code",
      "metadata": {
        "id": "vfOwOQ0mz2bp",
        "colab_type": "code",
        "colab": {
          "base_uri": "https://localhost:8080/",
          "height": 34
        },
        "outputId": "5a1845de-98f6-4d49-d76c-e735a49e7637"
      },
      "source": [
        "# old_polish_cars_v4_photos-512.tgz, https://drive.google.com/open?id=1awht15dL2t3G4e8HWKwIyad0MebpdcgI\n",
        "old_polish_cars_v4 = {FILE_NAME: 'old_polish_cars_v4_photos-512.tgz', FILE_ID: '1awht15dL2t3G4e8HWKwIyad0MebpdcgI'}\n",
        "old_polish_cars_v4_path = dataset_path / old_polish_cars_v4[FILE_NAME]\n",
        "\n",
        "download_and_save(old_polish_cars_v4_path, old_polish_cars_v4[FILE_ID])"
      ],
      "execution_count": 13,
      "outputs": [
        {
          "output_type": "stream",
          "text": [
            "Saved /content/data/old_polish_cars/old_polish_cars_v4_photos-512.tgz\n"
          ],
          "name": "stdout"
        }
      ]
    },
    {
      "cell_type": "code",
      "metadata": {
        "id": "WfTHTIhI10i7",
        "colab_type": "code",
        "colab": {}
      },
      "source": [
        "# unpack\n",
        "\n",
        "!tar -xf $old_polish_cars_v4_path -C $dataset_path"
      ],
      "execution_count": 0,
      "outputs": []
    },
    {
      "cell_type": "markdown",
      "metadata": {
        "id": "SBV6Qm8a5rBj",
        "colab_type": "text"
      },
      "source": [
        "### (opcjonalnie) models"
      ]
    },
    {
      "cell_type": "code",
      "metadata": {
        "id": "tIN0KqSY9be7",
        "colab_type": "code",
        "colab": {}
      },
      "source": [
        "models_path = dataset_path / 'old_polish_cars_v5_photos-512-split/models'\n",
        "!mkdir -p $models_path"
      ],
      "execution_count": 0,
      "outputs": []
    },
    {
      "cell_type": "code",
      "metadata": {
        "id": "YcgJdsZD5p6x",
        "colab_type": "code",
        "outputId": "942c9bad-a930-4e0e-bf42-46a6b0cfd73c",
        "colab": {
          "base_uri": "https://localhost:8080/",
          "height": 34
        }
      },
      "source": [
        "# 224_lastlayer.h5, https://drive.google.com/open?id=1avcGo8__1eMTjXMwQT8atKrQLel75hHm\n",
        "m224_lastlayer = {FILE_NAME: '224_lastlayer.h5', FILE_ID: '1avcGo8__1eMTjXMwQT8atKrQLel75hHm'}\n",
        "download_and_save(models_path / m224_lastlayer[FILE_NAME], m224_lastlayer[FILE_ID])"
      ],
      "execution_count": 16,
      "outputs": [
        {
          "output_type": "stream",
          "text": [
            "Saved /content/data/old_polish_cars/old_polish_cars_v5_photos-512-split/models/224_lastlayer.h5\n"
          ],
          "name": "stdout"
        }
      ]
    },
    {
      "cell_type": "code",
      "metadata": {
        "id": "dBY_aXyT6LL5",
        "colab_type": "code",
        "outputId": "ed44bd72-61c0-4b50-a179-bf4d2771a474",
        "colab": {
          "base_uri": "https://localhost:8080/",
          "height": 34
        }
      },
      "source": [
        "# 224_all.h5, https://drive.google.com/open?id=17qRBfyG96SW2uO2WIwhdhMk44-pW8HmO\n",
        "m224_all = {FILE_NAME: '224_all.h5', FILE_ID: '17qRBfyG96SW2uO2WIwhdhMk44-pW8HmO'}\n",
        "download_and_save(models_path / m224_all[FILE_NAME], m224_all[FILE_ID])"
      ],
      "execution_count": 17,
      "outputs": [
        {
          "output_type": "stream",
          "text": [
            "Saved /content/data/old_polish_cars/old_polish_cars_v5_photos-512-split/models/224_all.h5\n"
          ],
          "name": "stdout"
        }
      ]
    },
    {
      "cell_type": "code",
      "metadata": {
        "id": "YysfB4K8-xyj",
        "colab_type": "code",
        "colab": {
          "base_uri": "https://localhost:8080/",
          "height": 168
        },
        "outputId": "7e7e3f48-2045-40b4-a253-f279a398cc20"
      },
      "source": [
        "ls -lah $dataset_path"
      ],
      "execution_count": 18,
      "outputs": [
        {
          "output_type": "stream",
          "text": [
            "total 987M\n",
            "drwxr-xr-x  5 root root  4.0K Dec 27 02:18 \u001b[0m\u001b[01;34m.\u001b[0m/\n",
            "drwxr-xr-x  3 root root  4.0K Dec 27 02:17 \u001b[01;34m..\u001b[0m/\n",
            "drwx------ 12  501 staff 4.0K Mar 14  2017 \u001b[01;34mold_polish_cars_v4_photos-512\u001b[0m/\n",
            "-rw-r--r--  1 root root  347M Dec 27 02:18 old_polish_cars_v4_photos-512.tgz\n",
            "drwxr-xr-x 12  501 staff 4.0K Apr  8  2018 \u001b[01;34mold_polish_cars_v5_photos-512\u001b[0m/\n",
            "drwxr-xr-x  5  501 staff 4.0K Dec 27 02:18 \u001b[01;34mold_polish_cars_v5_photos-512-split\u001b[0m/\n",
            "-rw-r--r--  1 root root  349M Dec 27 02:18 old_polish_cars_v5_photos-512-split.tgz\n",
            "-rw-r--r--  1 root root  291M Dec 27 02:18 old_polish_cars_v5_photos-512.tgz\n"
          ],
          "name": "stdout"
        }
      ]
    },
    {
      "cell_type": "code",
      "metadata": {
        "id": "RcP_x9UlTtNs",
        "colab_type": "code",
        "colab": {
          "base_uri": "https://localhost:8080/",
          "height": 101
        },
        "outputId": "867929ce-8d74-4ab9-ec4b-20fea569cac8"
      },
      "source": [
        "ls -lah $models_path"
      ],
      "execution_count": 19,
      "outputs": [
        {
          "output_type": "stream",
          "text": [
            "total 167M\n",
            "drwxr-xr-x 2 root root  4.0K Dec 27 02:18 \u001b[0m\u001b[01;34m.\u001b[0m/\n",
            "drwxr-xr-x 5  501 staff 4.0K Dec 27 02:18 \u001b[01;34m..\u001b[0m/\n",
            "-rw-r--r-- 1 root root   84M Dec 27 02:18 224_all.h5\n",
            "-rw-r--r-- 1 root root   84M Dec 27 02:18 224_lastlayer.h5\n"
          ],
          "name": "stdout"
        }
      ]
    },
    {
      "cell_type": "markdown",
      "metadata": {
        "id": "og-0W-o8-rQQ",
        "colab_type": "text"
      },
      "source": [
        "### (Opcjonalnie) Setup Google Drive Integration"
      ]
    },
    {
      "cell_type": "code",
      "metadata": {
        "id": "S9deSL8xmtub",
        "colab_type": "code",
        "colab": {
          "base_uri": "https://localhost:8080/",
          "height": 222
        },
        "outputId": "974d5b1e-6963-439a-9a86-1dd8e3094e52"
      },
      "source": [
        "!apt-get install -y -qq software-properties-common python-software-properties module-init-tools\n",
        "!add-apt-repository -y ppa:alessandro-strada/ppa 2>&1 > /dev/null\n",
        "!apt-get update -qq 2>&1 > /dev/null\n",
        "!apt-get -y install -qq google-drive-ocamlfuse fuse\n",
        "from google.colab import auth\n",
        "auth.authenticate_user()\n",
        "from oauth2client.client import GoogleCredentials\n",
        "creds = GoogleCredentials.get_application_default()\n",
        "import getpass\n",
        "!google-drive-ocamlfuse -headless -id={creds.client_id} -secret={creds.client_secret} < /dev/null 2>&1 | grep URL\n",
        "vcode = getpass.getpass()\n",
        "!echo {vcode} | google-drive-ocamlfuse -headless -id={creds.client_id} -secret={creds.client_secret}\n",
        "\n",
        "!mkdir -p drive\n",
        "!google-drive-ocamlfuse drive -o nonempty"
      ],
      "execution_count": 20,
      "outputs": [
        {
          "output_type": "stream",
          "text": [
            "E: Package 'python-software-properties' has no installation candidate\n",
            "Selecting previously unselected package google-drive-ocamlfuse.\n",
            "(Reading database ... 145674 files and directories currently installed.)\n",
            "Preparing to unpack .../google-drive-ocamlfuse_0.7.14-0ubuntu1~ubuntu18.04.1_amd64.deb ...\n",
            "Unpacking google-drive-ocamlfuse (0.7.14-0ubuntu1~ubuntu18.04.1) ...\n",
            "Setting up google-drive-ocamlfuse (0.7.14-0ubuntu1~ubuntu18.04.1) ...\n",
            "Processing triggers for man-db (2.8.3-2ubuntu0.1) ...\n",
            "Please, open the following URL in a web browser: https://accounts.google.com/o/oauth2/auth?client_id=32555940559.apps.googleusercontent.com&redirect_uri=urn%3Aietf%3Awg%3Aoauth%3A2.0%3Aoob&scope=https%3A%2F%2Fwww.googleapis.com%2Fauth%2Fdrive&response_type=code&access_type=offline&approval_prompt=force\n",
            "··········\n",
            "Please, open the following URL in a web browser: https://accounts.google.com/o/oauth2/auth?client_id=32555940559.apps.googleusercontent.com&redirect_uri=urn%3Aietf%3Awg%3Aoauth%3A2.0%3Aoob&scope=https%3A%2F%2Fwww.googleapis.com%2Fauth%2Fdrive&response_type=code&access_type=offline&approval_prompt=force\n",
            "Please enter the verification code: Access token retrieved correctly.\n"
          ],
          "name": "stdout"
        }
      ]
    },
    {
      "cell_type": "markdown",
      "metadata": {
        "id": "nCZbfBq96BBT",
        "colab_type": "text"
      },
      "source": [
        "### Monitoring"
      ]
    },
    {
      "cell_type": "code",
      "metadata": {
        "id": "Uh0F8bWKFY_n",
        "colab_type": "code",
        "colab": {
          "base_uri": "https://localhost:8080/",
          "height": 151
        },
        "outputId": "f5f9470e-41b6-4413-fedb-f163d69456a5"
      },
      "source": [
        "ls -lh"
      ],
      "execution_count": 21,
      "outputs": [
        {
          "output_type": "stream",
          "text": [
            "total 36K\n",
            "-rw-r--r-- 1 root root 2.7K Dec 27 02:17 adc.json\n",
            "drwxr-xr-x 3 root root 4.0K Dec 27 02:17 \u001b[0m\u001b[01;34mdata\u001b[0m/\n",
            "drwxr-xr-x 2 root root 4.0K Dec 27 02:19 \u001b[01;34mdrive\u001b[0m/\n",
            "-rw-r--r-- 1 root root 2.0K Dec 27 02:17 imports.py\n",
            "-rw-r--r-- 1 root root  12K Dec 27 02:17 model.py\n",
            "-rw-r--r-- 1 root root 2.3K Dec 27 02:17 plots.py\n",
            "drwxr-xr-x 1 root root 4.0K Dec 18 16:52 \u001b[01;34msample_data\u001b[0m/\n"
          ],
          "name": "stdout"
        }
      ]
    },
    {
      "cell_type": "code",
      "metadata": {
        "id": "nm03bS_8H8S5",
        "colab_type": "code",
        "colab": {
          "base_uri": "https://localhost:8080/",
          "height": 87
        },
        "outputId": "59edc051-cb3e-434e-cad4-5c902c1e8aff"
      },
      "source": [
        "who"
      ],
      "execution_count": 22,
      "outputs": [
        {
          "output_type": "stream",
          "text": [
            "FILE_ID\t FILE_NAME\t GoogleAuth\t GoogleCredentials\t GoogleDrive\t Path\t auth\t creds\t dataset_path\t \n",
            "download_and_save\t drive\t gauth\t getpass\t home_path\t m224_all\t m224_lastlayer\t models_path\t old_polish_cars_v4\t \n",
            "old_polish_cars_v4_path\t old_polish_cars_v5\t old_polish_cars_v5_path\t old_polish_cars_v5_split\t old_polish_cars_v5_split_path\t os\t vcode\t \n"
          ],
          "name": "stdout"
        }
      ]
    },
    {
      "cell_type": "code",
      "metadata": {
        "id": "Q69oELsC5-go",
        "colab_type": "code",
        "colab": {
          "base_uri": "https://localhost:8080/",
          "height": 34
        },
        "outputId": "76ed0494-b4c5-4d26-be58-09be10fa34b5"
      },
      "source": [
        "!uptime"
      ],
      "execution_count": 23,
      "outputs": [
        {
          "output_type": "stream",
          "text": [
            " 02:19:46 up 8 min,  0 users,  load average: 0.41, 0.35, 0.21\n"
          ],
          "name": "stdout"
        }
      ]
    },
    {
      "cell_type": "code",
      "metadata": {
        "id": "2bQa46jj6DE7",
        "colab_type": "code",
        "colab": {
          "base_uri": "https://localhost:8080/",
          "height": 50
        },
        "outputId": "d641045f-6a73-4001-d5b9-8f3aa2ad675d"
      },
      "source": [
        "cd fastai"
      ],
      "execution_count": 24,
      "outputs": [
        {
          "output_type": "stream",
          "text": [
            "[Errno 2] No such file or directory: 'fastai'\n",
            "/content\n"
          ],
          "name": "stdout"
        }
      ]
    },
    {
      "cell_type": "code",
      "metadata": {
        "id": "OOrHXXns6Yb9",
        "colab_type": "code",
        "colab": {
          "base_uri": "https://localhost:8080/",
          "height": 302
        },
        "outputId": "aa8d8e8a-a29c-486b-e8c7-b22b9357361f"
      },
      "source": [
        "!/opt/bin/nvidia-smi"
      ],
      "execution_count": 25,
      "outputs": [
        {
          "output_type": "stream",
          "text": [
            "Fri Dec 27 02:19:49 2019       \n",
            "+-----------------------------------------------------------------------------+\n",
            "| NVIDIA-SMI 418.67       Driver Version: 418.67       CUDA Version: 10.1     |\n",
            "|-------------------------------+----------------------+----------------------+\n",
            "| GPU  Name        Persistence-M| Bus-Id        Disp.A | Volatile Uncorr. ECC |\n",
            "| Fan  Temp  Perf  Pwr:Usage/Cap|         Memory-Usage | GPU-Util  Compute M. |\n",
            "|===============================+======================+======================|\n",
            "|   0  Tesla P100-PCIE...  Off  | 00000000:00:04.0 Off |                    0 |\n",
            "| N/A   35C    P0    25W / 250W |      0MiB / 16280MiB |      0%      Default |\n",
            "+-------------------------------+----------------------+----------------------+\n",
            "                                                                               \n",
            "+-----------------------------------------------------------------------------+\n",
            "| Processes:                                                       GPU Memory |\n",
            "|  GPU       PID   Type   Process name                             Usage      |\n",
            "|=============================================================================|\n",
            "|  No running processes found                                                 |\n",
            "+-----------------------------------------------------------------------------+\n"
          ],
          "name": "stdout"
        }
      ]
    },
    {
      "cell_type": "code",
      "metadata": {
        "id": "UZmqalcuXsEg",
        "colab_type": "code",
        "colab": {
          "base_uri": "https://localhost:8080/",
          "height": 773
        },
        "outputId": "82e760ab-b3ce-4bf3-d4cf-7b3bca62d41b"
      },
      "source": [
        "for i in range(3):\n",
        "  !top -n 1"
      ],
      "execution_count": 26,
      "outputs": [
        {
          "output_type": "stream",
          "text": [
            "\u001b[?1h\u001b=\u001b[H\u001b[2J\u001b[mtop - 02:19:52 up 8 min,  0 users,  load average: 0.38, 0.35, 0.21\u001b[m\u001b[m\u001b[m\u001b[m\u001b[K\n",
            "Tasks:\u001b[m\u001b[m\u001b[1m   7 \u001b[m\u001b[mtotal,\u001b[m\u001b[m\u001b[1m   1 \u001b[m\u001b[mrunning,\u001b[m\u001b[m\u001b[1m   6 \u001b[m\u001b[msleeping,\u001b[m\u001b[m\u001b[1m   0 \u001b[m\u001b[mstopped,\u001b[m\u001b[m\u001b[1m   0 \u001b[m\u001b[mzombie\u001b[m\u001b[m\u001b[m\u001b[m\u001b[K\n",
            "%Cpu(s):\u001b[m\u001b[m\u001b[1m 10.6 \u001b[m\u001b[mus,\u001b[m\u001b[m\u001b[1m  3.5 \u001b[m\u001b[msy,\u001b[m\u001b[m\u001b[1m  0.0 \u001b[m\u001b[mni,\u001b[m\u001b[m\u001b[1m 82.1 \u001b[m\u001b[mid,\u001b[m\u001b[m\u001b[1m  3.7 \u001b[m\u001b[mwa,\u001b[m\u001b[m\u001b[1m  0.0 \u001b[m\u001b[mhi,\u001b[m\u001b[m\u001b[1m  0.1 \u001b[m\u001b[msi,\u001b[m\u001b[m\u001b[1m  0.0 \u001b[m\u001b[mst\u001b[m\u001b[m\u001b[m\u001b[m\u001b[K\n",
            "KiB Mem :\u001b[m\u001b[m\u001b[1m 13335188 \u001b[m\u001b[mtotal,\u001b[m\u001b[m\u001b[1m  4125836 \u001b[m\u001b[mfree,\u001b[m\u001b[m\u001b[1m  1328140 \u001b[m\u001b[mused,\u001b[m\u001b[m\u001b[1m  7881212 \u001b[m\u001b[mbuff/cache\u001b[m\u001b[m\u001b[m\u001b[m\u001b[K\n",
            "KiB Swap:\u001b[m\u001b[m\u001b[1m        0 \u001b[m\u001b[mtotal,\u001b[m\u001b[m\u001b[1m        0 \u001b[m\u001b[mfree,\u001b[m\u001b[m\u001b[1m        0 \u001b[m\u001b[mused.\u001b[m\u001b[m\u001b[1m 12442164 \u001b[m\u001b[mavail Mem \u001b[m\u001b[m\u001b[m\u001b[m\u001b[K\n",
            "\u001b[K\n",
            "\u001b[7m    PID USER      PR  NI    VIRT    RES    SHR S  %CPU %MEM     TIME+ COMMAND   \u001b[m\u001b[m\u001b[K\n",
            "\u001b[m      1 root      20   0   39196   6332   4828 S   0.0  0.0   0:00.03 run.sh    \u001b[m\u001b[m\u001b[K\n",
            "\u001b[m     10 root      20   0  681616  46512  24888 S   0.0  0.3   0:01.19 node      \u001b[m\u001b[m\u001b[K\n",
            "\u001b[m     25 root      20   0  406492 102624  26764 S   0.0  0.8   0:02.59 jupyter-+ \u001b[m\u001b[m\u001b[K\n",
            "\u001b[m    123 root      20   0   35888   4856   3748 S   0.0  0.0   0:00.05 tail      \u001b[m\u001b[m\u001b[K\n",
            "\u001b[m    503 root      20   0 1372416 878244  62512 S   0.0  6.6   0:07.26 python3   \u001b[m\u001b[m\u001b[K\n",
            "\u001b[m   2445 root      20   0  196536  31320  10112 S   0.0  0.2   0:00.09 google-d+ \u001b[m\u001b[m\u001b[K\n",
            "\u001b[m\u001b[1m   2461 root      20   0   63180   6772   5044 R   0.0  0.1   0:00.01 top       \u001b[m\u001b[m\u001b[K\n",
            "\u001b[J\u001b[?1l\u001b>\u001b[25;1H\n",
            "\u001b[K\u001b[?1h\u001b=\u001b[H\u001b[2J\u001b[mtop - 02:19:55 up 9 min,  0 users,  load average: 0.35, 0.34, 0.21\u001b[m\u001b[m\u001b[m\u001b[m\u001b[K\n",
            "Tasks:\u001b[m\u001b[m\u001b[1m   7 \u001b[m\u001b[mtotal,\u001b[m\u001b[m\u001b[1m   1 \u001b[m\u001b[mrunning,\u001b[m\u001b[m\u001b[1m   6 \u001b[m\u001b[msleeping,\u001b[m\u001b[m\u001b[1m   0 \u001b[m\u001b[mstopped,\u001b[m\u001b[m\u001b[1m   0 \u001b[m\u001b[mzombie\u001b[m\u001b[m\u001b[m\u001b[m\u001b[K\n",
            "%Cpu(s):\u001b[m\u001b[m\u001b[1m 10.6 \u001b[m\u001b[mus,\u001b[m\u001b[m\u001b[1m  3.5 \u001b[m\u001b[msy,\u001b[m\u001b[m\u001b[1m  0.0 \u001b[m\u001b[mni,\u001b[m\u001b[m\u001b[1m 82.2 \u001b[m\u001b[mid,\u001b[m\u001b[m\u001b[1m  3.7 \u001b[m\u001b[mwa,\u001b[m\u001b[m\u001b[1m  0.0 \u001b[m\u001b[mhi,\u001b[m\u001b[m\u001b[1m  0.1 \u001b[m\u001b[msi,\u001b[m\u001b[m\u001b[1m  0.0 \u001b[m\u001b[mst\u001b[m\u001b[m\u001b[m\u001b[m\u001b[K\n",
            "KiB Mem :\u001b[m\u001b[m\u001b[1m 13335188 \u001b[m\u001b[mtotal,\u001b[m\u001b[m\u001b[1m  4125464 \u001b[m\u001b[mfree,\u001b[m\u001b[m\u001b[1m  1328376 \u001b[m\u001b[mused,\u001b[m\u001b[m\u001b[1m  7881348 \u001b[m\u001b[mbuff/cache\u001b[m\u001b[m\u001b[m\u001b[m\u001b[K\n",
            "KiB Swap:\u001b[m\u001b[m\u001b[1m        0 \u001b[m\u001b[mtotal,\u001b[m\u001b[m\u001b[1m        0 \u001b[m\u001b[mfree,\u001b[m\u001b[m\u001b[1m        0 \u001b[m\u001b[mused.\u001b[m\u001b[m\u001b[1m 12442036 \u001b[m\u001b[mavail Mem \u001b[m\u001b[m\u001b[m\u001b[m\u001b[K\n",
            "\u001b[K\n",
            "\u001b[7m    PID USER      PR  NI    VIRT    RES    SHR S  %CPU %MEM     TIME+ COMMAND   \u001b[m\u001b[m\u001b[K\n",
            "\u001b[m     25 root      20   0  406492 102624  26764 S   6.2  0.8   0:02.61 jupyter-+ \u001b[m\u001b[m\u001b[K\n",
            "\u001b[m      1 root      20   0   39196   6332   4828 S   0.0  0.0   0:00.03 run.sh    \u001b[m\u001b[m\u001b[K\n",
            "\u001b[m     10 root      20   0  682640  47032  24892 S   0.0  0.4   0:01.22 node      \u001b[m\u001b[m\u001b[K\n",
            "\u001b[m    123 root      20   0   35888   4856   3748 S   0.0  0.0   0:00.05 tail      \u001b[m\u001b[m\u001b[K\n",
            "\u001b[m    503 root      20   0 1372416 878244  62512 S   0.0  6.6   0:07.30 python3   \u001b[m\u001b[m\u001b[K\n",
            "\u001b[m   2445 root      20   0  196536  31320  10112 S   0.0  0.2   0:00.09 google-d+ \u001b[m\u001b[m\u001b[K\n",
            "\u001b[m\u001b[1m   2462 root      20   0   63180   6724   4984 R   0.0  0.1   0:00.01 top       \u001b[m\u001b[m\u001b[K\n",
            "\u001b[J\u001b[?1l\u001b>\u001b[25;1H\n",
            "\u001b[K\u001b[?1h\u001b=\u001b[H\u001b[2J\u001b[mtop - 02:19:57 up 9 min,  0 users,  load average: 0.35, 0.34, 0.21\u001b[m\u001b[m\u001b[m\u001b[m\u001b[K\n",
            "Tasks:\u001b[m\u001b[m\u001b[1m   7 \u001b[m\u001b[mtotal,\u001b[m\u001b[m\u001b[1m   1 \u001b[m\u001b[mrunning,\u001b[m\u001b[m\u001b[1m   6 \u001b[m\u001b[msleeping,\u001b[m\u001b[m\u001b[1m   0 \u001b[m\u001b[mstopped,\u001b[m\u001b[m\u001b[1m   0 \u001b[m\u001b[mzombie\u001b[m\u001b[m\u001b[m\u001b[m\u001b[K\n",
            "%Cpu(s):\u001b[m\u001b[m\u001b[1m 10.6 \u001b[m\u001b[mus,\u001b[m\u001b[m\u001b[1m  3.5 \u001b[m\u001b[msy,\u001b[m\u001b[m\u001b[1m  0.0 \u001b[m\u001b[mni,\u001b[m\u001b[m\u001b[1m 82.3 \u001b[m\u001b[mid,\u001b[m\u001b[m\u001b[1m  3.7 \u001b[m\u001b[mwa,\u001b[m\u001b[m\u001b[1m  0.0 \u001b[m\u001b[mhi,\u001b[m\u001b[m\u001b[1m  0.1 \u001b[m\u001b[msi,\u001b[m\u001b[m\u001b[1m  0.0 \u001b[m\u001b[mst\u001b[m\u001b[m\u001b[m\u001b[m\u001b[K\n",
            "KiB Mem :\u001b[m\u001b[m\u001b[1m 13335188 \u001b[m\u001b[mtotal,\u001b[m\u001b[m\u001b[1m  4126152 \u001b[m\u001b[mfree,\u001b[m\u001b[m\u001b[1m  1327604 \u001b[m\u001b[mused,\u001b[m\u001b[m\u001b[1m  7881432 \u001b[m\u001b[mbuff/cache\u001b[m\u001b[m\u001b[m\u001b[m\u001b[K\n",
            "KiB Swap:\u001b[m\u001b[m\u001b[1m        0 \u001b[m\u001b[mtotal,\u001b[m\u001b[m\u001b[1m        0 \u001b[m\u001b[mfree,\u001b[m\u001b[m\u001b[1m        0 \u001b[m\u001b[mused.\u001b[m\u001b[m\u001b[1m 12442884 \u001b[m\u001b[mavail Mem \u001b[m\u001b[m\u001b[m\u001b[m\u001b[K\n",
            "\u001b[K\n",
            "\u001b[7m    PID USER      PR  NI    VIRT    RES    SHR S  %CPU %MEM     TIME+ COMMAND   \u001b[m\u001b[m\u001b[K\n",
            "\u001b[m      1 root      20   0   39196   6332   4828 S   0.0  0.0   0:00.03 run.sh    \u001b[m\u001b[m\u001b[K\n",
            "\u001b[m     10 root      20   0  682640  47296  24892 S   0.0  0.4   0:01.23 node      \u001b[m\u001b[m\u001b[K\n",
            "\u001b[m     25 root      20   0  406492 102624  26764 S   0.0  0.8   0:02.62 jupyter-+ \u001b[m\u001b[m\u001b[K\n",
            "\u001b[m    123 root      20   0   35888   4856   3748 S   0.0  0.0   0:00.05 tail      \u001b[m\u001b[m\u001b[K\n",
            "\u001b[m    503 root      20   0 1372416 878244  62512 S   0.0  6.6   0:07.34 python3   \u001b[m\u001b[m\u001b[K\n",
            "\u001b[m   2445 root      20   0  196536  31320  10112 S   0.0  0.2   0:00.09 google-d+ \u001b[m\u001b[m\u001b[K\n",
            "\u001b[m\u001b[1m   2466 root      20   0   63176   6812   5084 R   0.0  0.1   0:00.01 top       \u001b[m\u001b[m\u001b[K\n",
            "\u001b[J\u001b[?1l\u001b>\u001b[25;1H\n",
            "\u001b[K"
          ],
          "name": "stdout"
        }
      ]
    },
    {
      "cell_type": "code",
      "metadata": {
        "id": "MrMh9qEIXmds",
        "colab_type": "code",
        "colab": {
          "base_uri": "https://localhost:8080/",
          "height": 67
        },
        "outputId": "f26372d6-31b6-44ea-cd79-74bf8452b590"
      },
      "source": [
        "!top -h"
      ],
      "execution_count": 27,
      "outputs": [
        {
          "output_type": "stream",
          "text": [
            "  procps-ng 3.3.12\n",
            "Usage:\n",
            "  top -hv | -bcHiOSs -d secs -n max -u|U user -p pid(s) -o field -w [cols]\n"
          ],
          "name": "stdout"
        }
      ]
    },
    {
      "cell_type": "code",
      "metadata": {
        "id": "VaLG8jhT6U3Y",
        "colab_type": "code",
        "colab": {
          "base_uri": "https://localhost:8080/",
          "height": 34
        },
        "outputId": "5d30f7f2-be5a-4dc1-95f9-dc39112472dd"
      },
      "source": [
        "import os\n",
        "import psutil\n",
        "\n",
        "def print_memsize():\n",
        "  process = psutil.Process(os.getpid())\n",
        "  print(f'{process.memory_info().rss / 1024**3:.5} GB')\n",
        "  \n",
        "print_memsize()"
      ],
      "execution_count": 28,
      "outputs": [
        {
          "output_type": "stream",
          "text": [
            "0.83811 GB\n"
          ],
          "name": "stdout"
        }
      ]
    },
    {
      "cell_type": "code",
      "metadata": {
        "id": "D-UWeMDf7m3-",
        "colab_type": "code",
        "colab": {
          "base_uri": "https://localhost:8080/",
          "height": 118
        },
        "outputId": "1d1105d0-f4fa-458b-bce1-285629584859"
      },
      "source": [
        "print_memsize()\n",
        "!lsb_release -a"
      ],
      "execution_count": 29,
      "outputs": [
        {
          "output_type": "stream",
          "text": [
            "0.83811 GB\n",
            "No LSB modules are available.\n",
            "Distributor ID:\tUbuntu\n",
            "Description:\tUbuntu 18.04.3 LTS\n",
            "Release:\t18.04\n",
            "Codename:\tbionic\n"
          ],
          "name": "stdout"
        }
      ]
    },
    {
      "cell_type": "markdown",
      "metadata": {
        "id": "kvTWzC8sN0KV",
        "colab_type": "text"
      },
      "source": [
        "## Załadowanie bibliotek"
      ]
    },
    {
      "cell_type": "code",
      "metadata": {
        "id": "79hWOztlxLcZ",
        "colab_type": "code",
        "outputId": "eb941a2f-6188-4e4e-dc8b-c2b4246131f4",
        "colab": {
          "base_uri": "https://localhost:8080/",
          "height": 84
        }
      },
      "source": [
        "!ln -s /content/plots_wcz.py /content/fastai/fastai/plots_wcz.py\n",
        "!ln -s /content/imports_wcz.py /content/fastai/fastai/imports_wcz.py\n",
        "!ln -s /content/model_wcz.py /content/fastai/fastai/model_wcz.py\n",
        "!cd /content/fastai"
      ],
      "execution_count": 30,
      "outputs": [
        {
          "output_type": "stream",
          "text": [
            "ln: failed to create symbolic link '/content/fastai/fastai/plots_wcz.py': No such file or directory\n",
            "ln: failed to create symbolic link '/content/fastai/fastai/imports_wcz.py': No such file or directory\n",
            "ln: failed to create symbolic link '/content/fastai/fastai/model_wcz.py': No such file or directory\n",
            "/bin/bash: line 0: cd: /content/fastai: No such file or directory\n"
          ],
          "name": "stdout"
        }
      ]
    },
    {
      "cell_type": "code",
      "metadata": {
        "id": "cPJ-VLzaN0KW",
        "colab_type": "code",
        "colab": {}
      },
      "source": [
        "# Umieść je na górze każdego notatnika, aby uzyskać automatyczne ponowne ładowanie\n",
        "%reload_ext autoreload\n",
        "%autoreload 2\n",
        "\n",
        "#matplotlib setup\n",
        "import matplotlib.pyplot as plt\n",
        "import matplotlib.ticker as ticker\n",
        "\n",
        "import matplotlib.style\n",
        "import matplotlib as mpl\n",
        "mpl.style.use('default')\n",
        "mpl.style.use('seaborn-ticks')\n",
        "# %config InlineBackend.figure_format = 'retina'\n",
        "\n",
        "import warnings\n",
        "warnings.filterwarnings('ignore')\n",
        "from pathlib import Path\n",
        "import shutil as sh\n",
        "\n",
        "# Ten plik zawiera wszystkie główne biblioteki zewnętrzne, których użyjemy\n",
        "from fastai.imports import *\n",
        "\n",
        "from fastai.transforms import *\n",
        "from fastai.conv_learner import *\n",
        "from fastai.model import *\n",
        "from fastai.dataset import *\n",
        "from fastai.sgdr import *\n",
        "from fastai.plots import *"
      ],
      "execution_count": 0,
      "outputs": []
    },
    {
      "cell_type": "code",
      "metadata": {
        "id": "uKjZ00qiVab5",
        "colab_type": "code",
        "colab": {}
      },
      "source": [
        "# cd /content"
      ],
      "execution_count": 0,
      "outputs": []
    },
    {
      "cell_type": "code",
      "metadata": {
        "id": "3VH-B7PuIXoU",
        "colab_type": "code",
        "colab": {}
      },
      "source": [
        "# This file contains all the main external libs we'll use\n",
        "from fastai.imports import *\n",
        "\n",
        "from fastai.transforms import *\n",
        "from fastai.conv_learner import *\n",
        "from fastai.model import *\n",
        "from fastai.dataset import *\n",
        "from fastai.sgdr import *\n",
        "from fastai.plots import *"
      ],
      "execution_count": 0,
      "outputs": []
    },
    {
      "cell_type": "markdown",
      "metadata": {
        "id": "ZiZkVLRHN0Kn",
        "colab_type": "text"
      },
      "source": [
        "# Proste kroki do wytrenowania światowej klasy klasyfikatora obrazu"
      ]
    },
    {
      "cell_type": "markdown",
      "metadata": {
        "id": "_oY9LhNaN0Kn",
        "colab_type": "text"
      },
      "source": [
        "1. Włącz augmentację danych oraz cache aktywacji (precompute=True)\n",
        "1. Użyj `lr_find()`, aby znaleźć najwyższe tempo uczenia się, przy którym strata (loss) jeszcze maleje\n",
        "1. Trenuj ostatnią warstwę na cache'owanych aktywacjach przez 1-2 epoki\n",
        "1. Trenuj ostatnią warstwę z augmentacją danych (tj. precompute=False) przez 2-3 epoki z cycle_len=1\n",
        "1. Odblokuj wszystkie warstwy, używając `unfreeze()`\n",
        "1. Ustaw dla wcześniejszych warstw 3x-10x mniejsze tempo uczenia się niż dla kolejnych wyższych warstw\n",
        "1. Ponownie użyj `lr_find()`\n",
        "1. Trenuj całą sieć z cycle_mult=2 aż do przetrenowania (over-fitting)"
      ]
    },
    {
      "cell_type": "markdown",
      "metadata": {
        "id": "gxwl4X3WABjA",
        "colab_type": "text"
      },
      "source": [
        "# Idea strojenia wytrenowanej sieci (fine-tuning)"
      ]
    },
    {
      "cell_type": "markdown",
      "metadata": {
        "id": "YUUJk8H3ABYn",
        "colab_type": "text"
      },
      "source": [
        "`ConvLearner.pretrained` buduje *ucznia*, który zawiera wcześniej wytrenowany model. Ostatnia warstwa modelu musi zostać zastąpiona warstwą odpowiednich wymiarów. Ten model został wytrenowany dla 1000 klas, a ostateczna warstwa prognozuje wektor z 1000-cem prawdopodobieństw. Model dla old polish cars musi oddać wektor dwuwymiarowy. Poniższy schemat pokazuje na przykładzie, w jaki sposób zostało to zrobione w jednej z najwcześniej odnoszących sukces sieci konwolucyjnych CNN. Warstwa \"FC8\" zostanie tutaj zastąpiona nową warstwą z 10 wyjściami.\n",
        "\n",
        "<img src=\"https://image.slidesharecdn.com/practicaldeeplearning-160329181459/95/practical-deep-learning-16-638.jpg\" width=\"500\">\n",
        "[original image](https://image.slidesharecdn.com/practicaldeeplearning-160329181459/95/practical-deep-learning-16-638.jpg)"
      ]
    },
    {
      "cell_type": "markdown",
      "metadata": {
        "id": "dqPxxvliABNR",
        "colab_type": "text"
      },
      "source": [
        "Uczymy się *parametrów* poprzez dopasowanie modelu do danych. *Hiperparametr* to inny rodzaj parametru, którego nie można bezpośrednio nauczyć się ze zwykłego procesu treningowego. Parametry te wyrażają właściwości modelu \"wyższego poziomu\", takie jak jego złożoność, czy jak szybko ma się uczyć. Dwa przykłady hiperparametrów to *tempo uczenia się* i *liczba epok*.\n",
        "\n",
        "Podczas iteracyjnego trenowania sieci neuronowej, *wsad (batch)* lub *mini-wsad (mini-batch)* jest podzbiorem treningowych próbek użytych w jednej iteracji metody stochastycznego gradientu prostego, ang. Stochastic Gradient Descent (SGD). *Epoka* to pojedyncze przejście przez cały zestaw treningowy, na nią składa się wiele iteracji SGD.\n",
        "\n",
        "Możemy teraz *dopasować (fit)* model; to znaczy, użyć *metody gradientu prostego (gradient descent)*, aby znaleźć najlepsze parametry dla *w pełni połączonej warstwy (fully connected layer - FC)*, którą dodaliśmy, aby oddzielać zdjęcia marek samochodów od siebie. Musimy podać dwa hipertermery: *tempo uczenia się (learning rate)* (zazwyczaj 1e-2 lub 1e-3 jest dobrym punktem wyjścia, później przyjrzymy się temu bliżej) i *liczbę epok* (możesz podać większą liczbę i po prostu przerwij trening, gdy zauważysz, że dokładność (accuracy) już się nie poprawia, a następnie uruchom ponownie trening z liczbą epok, którą ustaliłeś)."
      ]
    },
    {
      "cell_type": "markdown",
      "metadata": {
        "id": "XoW-vP8EGmYg",
        "colab_type": "text"
      },
      "source": [
        "## Mój dataset: 'Old Polish Cars v5'"
      ]
    },
    {
      "cell_type": "markdown",
      "metadata": {
        "id": "t9T5MKd4Ttrd",
        "colab_type": "text"
      },
      "source": [
        "Tym razem wytrenujemy model, który pozwoli rozróżnić 10 marek starych polskich samochodów. Dostępne jest 7300 oznakowanych zdjęć samochodów do trenowania i 800 w zestawie testowym, które musimy spróbować oznakować."
      ]
    },
    {
      "cell_type": "code",
      "metadata": {
        "id": "v-G9Y395N0Ki",
        "colab_type": "code",
        "colab": {}
      },
      "source": [
        "PATH = \"/content/data/old_polish_cars/old_polish_cars_v5_photos-512-split/\""
      ],
      "execution_count": 0,
      "outputs": []
    },
    {
      "cell_type": "code",
      "metadata": {
        "id": "MQWyXTBLfQCd",
        "colab_type": "code",
        "outputId": "a5570e5c-8e3d-4e09-af15-a39f69f9d468",
        "colab": {
          "base_uri": "https://localhost:8080/",
          "height": 168
        }
      },
      "source": [
        "ls -lah /content/data/old_polish_cars"
      ],
      "execution_count": 35,
      "outputs": [
        {
          "output_type": "stream",
          "text": [
            "total 987M\n",
            "drwxr-xr-x  5 root root  4.0K Dec 27 02:18 \u001b[0m\u001b[01;34m.\u001b[0m/\n",
            "drwxr-xr-x  3 root root  4.0K Dec 27 02:17 \u001b[01;34m..\u001b[0m/\n",
            "drwx------ 12  501 staff 4.0K Mar 14  2017 \u001b[01;34mold_polish_cars_v4_photos-512\u001b[0m/\n",
            "-rw-r--r--  1 root root  347M Dec 27 02:18 old_polish_cars_v4_photos-512.tgz\n",
            "drwxr-xr-x 12  501 staff 4.0K Apr  8  2018 \u001b[01;34mold_polish_cars_v5_photos-512\u001b[0m/\n",
            "drwxr-xr-x  5  501 staff 4.0K Dec 27 02:18 \u001b[01;34mold_polish_cars_v5_photos-512-split\u001b[0m/\n",
            "-rw-r--r--  1 root root  349M Dec 27 02:18 old_polish_cars_v5_photos-512-split.tgz\n",
            "-rw-r--r--  1 root root  291M Dec 27 02:18 old_polish_cars_v5_photos-512.tgz\n"
          ],
          "name": "stdout"
        }
      ]
    },
    {
      "cell_type": "markdown",
      "metadata": {
        "id": "A_1OPnDuN0Ko",
        "colab_type": "text"
      },
      "source": [
        "## Sprawdzenie, czy dataset jest dostępny"
      ]
    },
    {
      "cell_type": "code",
      "metadata": {
        "id": "aZX7z9-3N0Ko",
        "colab_type": "code",
        "outputId": "a1a0c088-8cc8-4621-a711-180e366d917b",
        "colab": {
          "base_uri": "https://localhost:8080/",
          "height": 34
        }
      },
      "source": [
        "!ls {PATH}"
      ],
      "execution_count": 36,
      "outputs": [
        {
          "output_type": "stream",
          "text": [
            "models\ttrain  valid\n"
          ],
          "name": "stdout"
        }
      ]
    },
    {
      "cell_type": "code",
      "metadata": {
        "id": "NtENZQHxN0Kq",
        "colab_type": "code",
        "outputId": "a0f91cf2-cfc3-4771-d855-451381eacbee",
        "colab": {
          "base_uri": "https://localhost:8080/",
          "height": 67
        }
      },
      "source": [
        "!ls {PATH}valid"
      ],
      "execution_count": 37,
      "outputs": [
        {
          "output_type": "stream",
          "text": [
            "'Autobus Jelcz MZK'\t'Fiat 126p Maluch'  'FSO Warszawa'  'ZSD Nysa'\n",
            "'Autobus Jelcz Ogorek'\t'FSC Zuk'\t     Gazik\n",
            "'Fiat 125p'\t\t'FSO Polonez'\t    'Syrena 105'\n"
          ],
          "name": "stdout"
        }
      ]
    },
    {
      "cell_type": "code",
      "metadata": {
        "id": "4zdDO1ELN0Ks",
        "colab_type": "code",
        "outputId": "68cc24bc-8d9b-4ae3-ad80-20885d4b9547",
        "colab": {
          "base_uri": "https://localhost:8080/",
          "height": 185
        }
      },
      "source": [
        "files = !ls {PATH}valid/\"FSO Warszawa\" | head\n",
        "files"
      ],
      "execution_count": 38,
      "outputs": [
        {
          "output_type": "execute_result",
          "data": {
            "text/plain": [
              "['15_1487453323.84.jpg',\n",
              " '21_1487453327.45.jpg',\n",
              " '32_1487453346.6_ddd.jpg',\n",
              " '33_1487453347.16_ddd_ddd.jpg',\n",
              " '44_1487453358.99_ddd.jpg',\n",
              " '46_1487453360.68_ddd.jpg',\n",
              " '48_1487453364.29_ddd_ddd.jpg',\n",
              " '56_1487453384.48_ddd_ddd.jpg',\n",
              " '63_1487453393.01_ddd_ddd.jpg',\n",
              " '67_1487453399.4.jpg']"
            ]
          },
          "metadata": {
            "tags": []
          },
          "execution_count": 38
        }
      ]
    },
    {
      "cell_type": "code",
      "metadata": {
        "id": "_PVVryHbN0Ku",
        "colab_type": "code",
        "outputId": "c9488127-480d-45d6-ebb1-9c3dbda321b3",
        "colab": {
          "base_uri": "https://localhost:8080/",
          "height": 34
        }
      },
      "source": [
        "files[9]"
      ],
      "execution_count": 39,
      "outputs": [
        {
          "output_type": "execute_result",
          "data": {
            "text/plain": [
              "'67_1487453399.4.jpg'"
            ]
          },
          "metadata": {
            "tags": []
          },
          "execution_count": 39
        }
      ]
    },
    {
      "cell_type": "code",
      "metadata": {
        "id": "PTOE6qY7N0Kv",
        "colab_type": "code",
        "outputId": "7f2dfcd4-c3b0-4c35-980a-e8d213efc9a5",
        "colab": {
          "base_uri": "https://localhost:8080/",
          "height": 399
        }
      },
      "source": [
        "img = plt.imread(f'{PATH}valid/FSO Warszawa/{files[7]}')\n",
        "plt.imshow(img);"
      ],
      "execution_count": 40,
      "outputs": [
        {
          "output_type": "display_data",
          "data": {
            "image/png": "[encoded data removed]",
            "text/plain": [
              "<Figure size 640x480 with 1 Axes>"
            ]
          },
          "metadata": {
            "tags": []
          }
        }
      ]
    },
    {
      "cell_type": "markdown",
      "metadata": {
        "id": "chuttw65VkE_",
        "colab_type": "text"
      },
      "source": [
        "# Trenowanie klasyfikatora"
      ]
    },
    {
      "cell_type": "markdown",
      "metadata": {
        "id": "cVUTSwKEN0K6",
        "colab_type": "text"
      },
      "source": [
        "## 1) Włącz augmentację danych oraz cache aktywacji\n",
        "\n",
        "augmentacja danych: `aug_tfms=transforms_side_on, max_zoom=1.1`\n",
        "\n",
        "cache aktywacji: `precompute=True`"
      ]
    },
    {
      "cell_type": "code",
      "metadata": {
        "id": "Aou7_3c3N0K6",
        "colab_type": "code",
        "outputId": "1a955666-9317-4ecb-ebe9-ac260740eaea",
        "colab": {
          "base_uri": "https://localhost:8080/",
          "height": 84
        }
      },
      "source": [
        "sz=224  # sz=128\n",
        "arch=resnet34\n",
        "\n",
        "tfms = tfms_from_model(arch, sz, aug_tfms=transforms_side_on, max_zoom=1.1)\n",
        "\n",
        "data = ImageClassifierData.from_paths(PATH, tfms=tfms)\n",
        "learn = ConvLearner.pretrained(arch, data, precompute=True)"
      ],
      "execution_count": 41,
      "outputs": [
        {
          "output_type": "stream",
          "text": [
            "Downloading: \"https://download.pytorch.org/models/resnet34-333f7ec4.pth\" to /root/.cache/torch/checkpoints/resnet34-333f7ec4.pth\n",
            "100%|██████████| 83.3M/83.3M [00:03<00:00, 28.6MB/s]\n"
          ],
          "name": "stderr"
        },
        {
          "output_type": "stream",
          "text": [
            "100%|██████████| 138/138 [00:51<00:00,  2.69it/s]\n",
            "100%|██████████| 16/16 [00:06<00:00,  2.66it/s]\n"
          ],
          "name": "stdout"
        }
      ]
    },
    {
      "cell_type": "markdown",
      "metadata": {
        "id": "P99dhksePxcc",
        "colab_type": "text"
      },
      "source": [
        "## 2) Znajdź tempo uczenia się"
      ]
    },
    {
      "cell_type": "markdown",
      "metadata": {
        "id": "o8l-9-ylCzI7",
        "colab_type": "text"
      },
      "source": [
        "*Tempo uczenia się* określa, jak szybko lub jak wolno chcesz aktualizować *wagi* (lub *parametry*). Tempo uczenia się jest jednym z najtrudniejszych parametrów do ustawienia, ponieważ ma znaczący wpływ na wydajność modelu.\n",
        "\n",
        "Metoda `learn.lr_find()` pomaga znaleźć optymalne tempo uczenia się. Wykorzystuje technikę opracowaną w 2015 roku, opisaną w publikacji [Cyclical Learning Rates for Training Neural Networks](http://arxiv.org/abs/1506.01186), gdzie po prostu ciągle zwiększamy tempo uczenia się, zaczynając od bardzo małej wartości, kończąc kiedy strata przestaje maleć. Możemy stworzyć wykres tempa uczenia się poprzez wszystkie porcje danych jednej epoki, aby zobaczyć, jak to wygląda.\n",
        "\n",
        "Najpierw tworzymy nowego ucznia `learn`, ponieważ chcemy wiedzieć, jak ustawić tempo uczenia się dla nowego (niewytrenowanego) modelu."
      ]
    },
    {
      "cell_type": "code",
      "metadata": {
        "id": "WFf-bAtON0K2",
        "colab_type": "code",
        "outputId": "0188e602-f5fd-4ff0-8816-94596b6415c3",
        "colab": {
          "base_uri": "https://localhost:8080/",
          "height": 34
        }
      },
      "source": [
        "lrf = learn.lr_find()"
      ],
      "execution_count": 42,
      "outputs": [
        {
          "output_type": "stream",
          "text": [
            "Epoch:   0%|          | 0/1 [00:00<?, ?it/s]\n"
          ],
          "name": "stdout"
        }
      ]
    },
    {
      "cell_type": "markdown",
      "metadata": {
        "id": "VOGUwhufCzI-",
        "colab_type": "text"
      },
      "source": [
        "Nasz obiekt `learn` ma atrybut `sched`, który zawiera naszego 'planistę' szybkości uczenia się i ma kilka przydatnych wykresów, w tym:\n",
        "\n"
      ]
    },
    {
      "cell_type": "code",
      "metadata": {
        "id": "glNC5fjtN0K3",
        "colab_type": "code",
        "outputId": "95a3a137-638e-450c-c3b8-e96e032964af",
        "colab": {
          "base_uri": "https://localhost:8080/",
          "height": 446
        }
      },
      "source": [
        "mpl.style.use('bmh')\n",
        "learn.sched.plot_lr()"
      ],
      "execution_count": 43,
      "outputs": [
        {
          "output_type": "display_data",
          "data": {
            "image/png": "[encoded data removed]",
            "text/plain": [
              "<Figure size 640x480 with 1 Axes>"
            ]
          },
          "metadata": {
            "tags": []
          }
        }
      ]
    },
    {
      "cell_type": "markdown",
      "metadata": {
        "id": "kuCGacHKCzJA",
        "colab_type": "text"
      },
      "source": [
        "Zauważ, że na poprzednim wykresie jedna *iteracja* to iteracja (lub 'mini-batch') algorytmu SGD. W jednej epoce mamy `num_batch_samples/num_samples` iteracji SGD.\n",
        "\n",
        "Możemy rzucić okiem wykres straty (loss) w stosunku do tempa uczenia się (learning rate), aby zobaczyć, gdzie zmniejsza się nasza strata:"
      ]
    },
    {
      "cell_type": "code",
      "metadata": {
        "id": "1n_cd1VcN0K5",
        "colab_type": "code",
        "outputId": "56d679b2-4573-4dd0-ff83-92b4436eb084",
        "colab": {
          "base_uri": "https://localhost:8080/",
          "height": 450
        }
      },
      "source": [
        "learn.sched.plot()"
      ],
      "execution_count": 44,
      "outputs": [
        {
          "output_type": "display_data",
          "data": {
            "image/png": "[encoded data removed]",
            "text/plain": [
              "<Figure size 640x480 with 1 Axes>"
            ]
          },
          "metadata": {
            "tags": []
          }
        }
      ]
    },
    {
      "cell_type": "markdown",
      "metadata": {
        "id": "JufM7FUHCzJB",
        "colab_type": "text"
      },
      "source": [
        "Strata wciąż wyraźnie maleje dla `lr=1e-2 (0.01)`, więc tego użyjemy. Zwróć uwagę, że optymalne tempo uczenia się może się zmieniać podczas treningu modelu, więc możesz chcieć ponownie uruchomić tę funkcję co jakiś czas."
      ]
    },
    {
      "cell_type": "markdown",
      "metadata": {
        "id": "2WGkoFzXN0K5",
        "colab_type": "text"
      },
      "source": [
        "wybrany lr=0.08"
      ]
    },
    {
      "cell_type": "code",
      "metadata": {
        "id": "Iz-fHzUpVJJk",
        "colab_type": "code",
        "outputId": "5af1d909-9d2e-4e45-c98f-c49389092ab2",
        "colab": {
          "base_uri": "https://localhost:8080/",
          "height": 34
        }
      },
      "source": [
        "0.8*10**-1"
      ],
      "execution_count": 45,
      "outputs": [
        {
          "output_type": "execute_result",
          "data": {
            "text/plain": [
              "0.08000000000000002"
            ]
          },
          "metadata": {
            "tags": []
          },
          "execution_count": 45
        }
      ]
    },
    {
      "cell_type": "markdown",
      "metadata": {
        "id": "kxj7N0QFmgR-",
        "colab_type": "text"
      },
      "source": [
        "## 3) Wstępnie wytrenuj ostatnią warstwę\n",
        "Trenuj ostatnią warstwę na cache'owanych aktywacjach przez 1-2 epoki."
      ]
    },
    {
      "cell_type": "markdown",
      "metadata": {
        "id": "Mja3GPXiAecl",
        "colab_type": "text"
      },
      "source": [
        "Domyślnie, gdy tworzymy ucznia (`learn`), ustawia on wszystkie oprócz ostatniej warstwy na *zamrożone* (ang. frozen). Oznacza to, że kiedy wywołujemy `fit()`, uczeń aktualizuje wagi tylko w ostatniej warstwie."
      ]
    },
    {
      "cell_type": "code",
      "metadata": {
        "id": "tEbfxt1EN0LA",
        "colab_type": "code",
        "outputId": "b104b5aa-b2ae-4745-a058-182758e56183",
        "colab": {
          "base_uri": "https://localhost:8080/",
          "height": 354
        }
      },
      "source": [
        "learn.fit(0.08, 3)  # stałe tempo uczenia się\n",
        "\n"
      ],
      "execution_count": 52,
      "outputs": [
        {
          "output_type": "stream",
          "text": [
            "Epoch:   0%|          | 0/3 [00:00<?, ?it/s]\n"
          ],
          "name": "stdout"
        },
        {
          "output_type": "error",
          "ename": "NameError",
          "evalue": "ignored",
          "traceback": [
            "\u001b[0;31m---------------------------------------------------------------------------\u001b[0m",
            "\u001b[0;31mNameError\u001b[0m                                 Traceback (most recent call last)",
            "\u001b[0;32m<ipython-input-52-4bfa8eff8d0d>\u001b[0m in \u001b[0;36m<module>\u001b[0;34m()\u001b[0m\n\u001b[1;32m      1\u001b[0m \u001b[0mlearn\u001b[0m\u001b[0;34m.\u001b[0m\u001b[0mmetrics\u001b[0m \u001b[0;34m=\u001b[0m \u001b[0;34m[\u001b[0m\u001b[0;34m]\u001b[0m\u001b[0;34m\u001b[0m\u001b[0;34m\u001b[0m\u001b[0m\n\u001b[0;32m----> 2\u001b[0;31m \u001b[0mlearn\u001b[0m\u001b[0;34m.\u001b[0m\u001b[0mfit\u001b[0m\u001b[0;34m(\u001b[0m\u001b[0;36m0.08\u001b[0m\u001b[0;34m,\u001b[0m \u001b[0;36m3\u001b[0m\u001b[0;34m)\u001b[0m  \u001b[0;31m# stałe tempo uczenia się\u001b[0m\u001b[0;34m\u001b[0m\u001b[0;34m\u001b[0m\u001b[0m\n\u001b[0m\u001b[1;32m      3\u001b[0m \u001b[0;34m\u001b[0m\u001b[0m\n",
            "\u001b[0;32m/usr/local/lib/python3.6/dist-packages/fastai/learner.py\u001b[0m in \u001b[0;36mfit\u001b[0;34m(self, lrs, n_cycle, wds, **kwargs)\u001b[0m\n\u001b[1;32m    285\u001b[0m         \u001b[0mself\u001b[0m\u001b[0;34m.\u001b[0m\u001b[0msched\u001b[0m \u001b[0;34m=\u001b[0m \u001b[0;32mNone\u001b[0m\u001b[0;34m\u001b[0m\u001b[0;34m\u001b[0m\u001b[0m\n\u001b[1;32m    286\u001b[0m         \u001b[0mlayer_opt\u001b[0m \u001b[0;34m=\u001b[0m \u001b[0mself\u001b[0m\u001b[0;34m.\u001b[0m\u001b[0mget_layer_opt\u001b[0m\u001b[0;34m(\u001b[0m\u001b[0mlrs\u001b[0m\u001b[0;34m,\u001b[0m \u001b[0mwds\u001b[0m\u001b[0;34m)\u001b[0m\u001b[0;34m\u001b[0m\u001b[0;34m\u001b[0m\u001b[0m\n\u001b[0;32m--> 287\u001b[0;31m         \u001b[0;32mreturn\u001b[0m \u001b[0mself\u001b[0m\u001b[0;34m.\u001b[0m\u001b[0mfit_gen\u001b[0m\u001b[0;34m(\u001b[0m\u001b[0mself\u001b[0m\u001b[0;34m.\u001b[0m\u001b[0mmodel\u001b[0m\u001b[0;34m,\u001b[0m \u001b[0mself\u001b[0m\u001b[0;34m.\u001b[0m\u001b[0mdata\u001b[0m\u001b[0;34m,\u001b[0m \u001b[0mlayer_opt\u001b[0m\u001b[0;34m,\u001b[0m \u001b[0mn_cycle\u001b[0m\u001b[0;34m,\u001b[0m \u001b[0;34m**\u001b[0m\u001b[0mkwargs\u001b[0m\u001b[0;34m)\u001b[0m\u001b[0;34m\u001b[0m\u001b[0;34m\u001b[0m\u001b[0m\n\u001b[0m\u001b[1;32m    288\u001b[0m \u001b[0;34m\u001b[0m\u001b[0m\n\u001b[1;32m    289\u001b[0m     \u001b[0;32mdef\u001b[0m \u001b[0mwarm_up\u001b[0m\u001b[0;34m(\u001b[0m\u001b[0mself\u001b[0m\u001b[0;34m,\u001b[0m \u001b[0mlr\u001b[0m\u001b[0;34m,\u001b[0m \u001b[0mwds\u001b[0m\u001b[0;34m=\u001b[0m\u001b[0;32mNone\u001b[0m\u001b[0;34m)\u001b[0m\u001b[0;34m:\u001b[0m\u001b[0;34m\u001b[0m\u001b[0;34m\u001b[0m\u001b[0m\n",
            "\u001b[0;32m/usr/local/lib/python3.6/dist-packages/fastai/learner.py\u001b[0m in \u001b[0;36mfit_gen\u001b[0;34m(self, model, data, layer_opt, n_cycle, cycle_len, cycle_mult, cycle_save_name, best_save_name, use_clr, use_clr_beta, metrics, callbacks, use_wd_sched, norm_wds, wds_sched_mult, use_swa, swa_start, swa_eval_freq, **kwargs)\u001b[0m\n\u001b[1;32m    232\u001b[0m             \u001b[0mmetrics\u001b[0m\u001b[0;34m=\u001b[0m\u001b[0mmetrics\u001b[0m\u001b[0;34m,\u001b[0m \u001b[0mcallbacks\u001b[0m\u001b[0;34m=\u001b[0m\u001b[0mcallbacks\u001b[0m\u001b[0;34m,\u001b[0m \u001b[0mreg_fn\u001b[0m\u001b[0;34m=\u001b[0m\u001b[0mself\u001b[0m\u001b[0;34m.\u001b[0m\u001b[0mreg_fn\u001b[0m\u001b[0;34m,\u001b[0m \u001b[0mclip\u001b[0m\u001b[0;34m=\u001b[0m\u001b[0mself\u001b[0m\u001b[0;34m.\u001b[0m\u001b[0mclip\u001b[0m\u001b[0;34m,\u001b[0m \u001b[0mfp16\u001b[0m\u001b[0;34m=\u001b[0m\u001b[0mself\u001b[0m\u001b[0;34m.\u001b[0m\u001b[0mfp16\u001b[0m\u001b[0;34m,\u001b[0m\u001b[0;34m\u001b[0m\u001b[0;34m\u001b[0m\u001b[0m\n\u001b[1;32m    233\u001b[0m             \u001b[0mswa_model\u001b[0m\u001b[0;34m=\u001b[0m\u001b[0mself\u001b[0m\u001b[0;34m.\u001b[0m\u001b[0mswa_model\u001b[0m \u001b[0;32mif\u001b[0m \u001b[0muse_swa\u001b[0m \u001b[0;32melse\u001b[0m \u001b[0;32mNone\u001b[0m\u001b[0;34m,\u001b[0m \u001b[0mswa_start\u001b[0m\u001b[0;34m=\u001b[0m\u001b[0mswa_start\u001b[0m\u001b[0;34m,\u001b[0m\u001b[0;34m\u001b[0m\u001b[0;34m\u001b[0m\u001b[0m\n\u001b[0;32m--> 234\u001b[0;31m             swa_eval_freq=swa_eval_freq, **kwargs)\n\u001b[0m\u001b[1;32m    235\u001b[0m \u001b[0;34m\u001b[0m\u001b[0m\n\u001b[1;32m    236\u001b[0m     \u001b[0;32mdef\u001b[0m \u001b[0mget_layer_groups\u001b[0m\u001b[0;34m(\u001b[0m\u001b[0mself\u001b[0m\u001b[0;34m)\u001b[0m\u001b[0;34m:\u001b[0m \u001b[0;32mreturn\u001b[0m \u001b[0mself\u001b[0m\u001b[0;34m.\u001b[0m\u001b[0mmodels\u001b[0m\u001b[0;34m.\u001b[0m\u001b[0mget_layer_groups\u001b[0m\u001b[0;34m(\u001b[0m\u001b[0;34m)\u001b[0m\u001b[0;34m\u001b[0m\u001b[0;34m\u001b[0m\u001b[0m\n",
            "\u001b[0;32m/usr/local/lib/python3.6/dist-packages/fastai/model.py\u001b[0m in \u001b[0;36mfit\u001b[0;34m(model, data, n_epochs, opt, crit, metrics, callbacks, stepper, swa_model, swa_start, swa_eval_freq, **kwargs)\u001b[0m\n\u001b[1;32m    161\u001b[0m \u001b[0;34m\u001b[0m\u001b[0m\n\u001b[1;32m    162\u001b[0m         \u001b[0;32mif\u001b[0m \u001b[0;32mnot\u001b[0m \u001b[0mall_val\u001b[0m\u001b[0;34m:\u001b[0m\u001b[0;34m\u001b[0m\u001b[0;34m\u001b[0m\u001b[0m\n\u001b[0;32m--> 163\u001b[0;31m             \u001b[0mvals\u001b[0m \u001b[0;34m=\u001b[0m \u001b[0mvalidate\u001b[0m\u001b[0;34m(\u001b[0m\u001b[0mmodel_stepper\u001b[0m\u001b[0;34m,\u001b[0m \u001b[0mcur_data\u001b[0m\u001b[0;34m.\u001b[0m\u001b[0mval_dl\u001b[0m\u001b[0;34m,\u001b[0m \u001b[0mmetrics\u001b[0m\u001b[0;34m,\u001b[0m \u001b[0mseq_first\u001b[0m\u001b[0;34m=\u001b[0m\u001b[0mseq_first\u001b[0m\u001b[0;34m)\u001b[0m\u001b[0;34m\u001b[0m\u001b[0;34m\u001b[0m\u001b[0m\n\u001b[0m\u001b[1;32m    164\u001b[0m             \u001b[0mstop\u001b[0m\u001b[0;34m=\u001b[0m\u001b[0;32mFalse\u001b[0m\u001b[0;34m\u001b[0m\u001b[0;34m\u001b[0m\u001b[0m\n\u001b[1;32m    165\u001b[0m             \u001b[0;32mfor\u001b[0m \u001b[0mcb\u001b[0m \u001b[0;32min\u001b[0m \u001b[0mcallbacks\u001b[0m\u001b[0;34m:\u001b[0m \u001b[0mstop\u001b[0m \u001b[0;34m=\u001b[0m \u001b[0mstop\u001b[0m \u001b[0;32mor\u001b[0m \u001b[0mcb\u001b[0m\u001b[0;34m.\u001b[0m\u001b[0mon_epoch_end\u001b[0m\u001b[0;34m(\u001b[0m\u001b[0mvals\u001b[0m\u001b[0;34m)\u001b[0m\u001b[0;34m\u001b[0m\u001b[0;34m\u001b[0m\u001b[0m\n",
            "\u001b[0;32m/usr/local/lib/python3.6/dist-packages/fastai/model.py\u001b[0m in \u001b[0;36mvalidate\u001b[0;34m(stepper, dl, metrics, seq_first)\u001b[0m\n\u001b[1;32m    222\u001b[0m     \u001b[0mbatch_cnts\u001b[0m\u001b[0;34m,\u001b[0m\u001b[0mloss\u001b[0m\u001b[0;34m,\u001b[0m\u001b[0mres\u001b[0m \u001b[0;34m=\u001b[0m \u001b[0;34m[\u001b[0m\u001b[0;34m]\u001b[0m\u001b[0;34m,\u001b[0m\u001b[0;34m[\u001b[0m\u001b[0;34m]\u001b[0m\u001b[0;34m,\u001b[0m\u001b[0;34m[\u001b[0m\u001b[0;34m]\u001b[0m\u001b[0;34m\u001b[0m\u001b[0;34m\u001b[0m\u001b[0m\n\u001b[1;32m    223\u001b[0m     \u001b[0mstepper\u001b[0m\u001b[0;34m.\u001b[0m\u001b[0mreset\u001b[0m\u001b[0;34m(\u001b[0m\u001b[0;32mFalse\u001b[0m\u001b[0;34m)\u001b[0m\u001b[0;34m\u001b[0m\u001b[0;34m\u001b[0m\u001b[0m\n\u001b[0;32m--> 224\u001b[0;31m     \u001b[0;32mwith\u001b[0m \u001b[0mno_grad_context\u001b[0m\u001b[0;34m(\u001b[0m\u001b[0;34m)\u001b[0m\u001b[0;34m:\u001b[0m\u001b[0;34m\u001b[0m\u001b[0;34m\u001b[0m\u001b[0m\n\u001b[0m\u001b[1;32m    225\u001b[0m         \u001b[0;32mfor\u001b[0m \u001b[0;34m(\u001b[0m\u001b[0;34m*\u001b[0m\u001b[0mx\u001b[0m\u001b[0;34m,\u001b[0m\u001b[0my\u001b[0m\u001b[0;34m)\u001b[0m \u001b[0;32min\u001b[0m \u001b[0miter\u001b[0m\u001b[0;34m(\u001b[0m\u001b[0mdl\u001b[0m\u001b[0;34m)\u001b[0m\u001b[0;34m:\u001b[0m\u001b[0;34m\u001b[0m\u001b[0;34m\u001b[0m\u001b[0m\n\u001b[1;32m    226\u001b[0m             \u001b[0mpreds\u001b[0m\u001b[0;34m,\u001b[0m \u001b[0ml\u001b[0m \u001b[0;34m=\u001b[0m \u001b[0mstepper\u001b[0m\u001b[0;34m.\u001b[0m\u001b[0mevaluate\u001b[0m\u001b[0;34m(\u001b[0m\u001b[0mVV\u001b[0m\u001b[0;34m(\u001b[0m\u001b[0mx\u001b[0m\u001b[0;34m)\u001b[0m\u001b[0;34m,\u001b[0m \u001b[0mVV\u001b[0m\u001b[0;34m(\u001b[0m\u001b[0my\u001b[0m\u001b[0;34m)\u001b[0m\u001b[0;34m)\u001b[0m\u001b[0;34m\u001b[0m\u001b[0;34m\u001b[0m\u001b[0m\n",
            "\u001b[0;31mNameError\u001b[0m: name 'no_grad_context' is not defined"
          ]
        }
      ]
    },
    {
      "cell_type": "code",
      "metadata": {
        "id": "pnArxaOsgNte",
        "colab_type": "code",
        "colab": {}
      },
      "source": [
        "learn.save('224_initial')"
      ],
      "execution_count": 0,
      "outputs": []
    },
    {
      "cell_type": "code",
      "metadata": {
        "id": "F6NgJbGHgP4e",
        "colab_type": "code",
        "colab": {}
      },
      "source": [
        "learn.load('224_initial')"
      ],
      "execution_count": 0,
      "outputs": []
    },
    {
      "cell_type": "markdown",
      "metadata": {
        "id": "1gxMhCXCmoQq",
        "colab_type": "text"
      },
      "source": [
        "## 4) Trenuj ostatnią warstwę z augmentacją danych i wyżarzanie tempa uczenia się"
      ]
    },
    {
      "cell_type": "markdown",
      "metadata": {
        "id": "RVI6rjNkCzJB",
        "colab_type": "text"
      },
      "source": [
        "### Augmentacja danych"
      ]
    },
    {
      "cell_type": "markdown",
      "metadata": {
        "id": "xtuzFyxJCzJC",
        "colab_type": "text"
      },
      "source": [
        "Jeśli spróbujesz trenować przez więcej epok, zauważysz, że zaczynamy *przetrenowywać*, co oznacza, że nasz model uczy się rozpoznawać konkretne obrazy w zbiorze treningowym, zamiast generalizować tak, że uzyskamy dobre wyniki również na zestawie walidacyjnym. Jednym ze sposobów rozwiązania tego problemu jest faktyczne stworzenie większej ilości danych, dzięki *augmentacji danych*. Chodzi o losową modyfikację obrazów w sposób, który nie powinien wpływać na ich interpretację, takich jak poziome odbijanie, powiększanie i obracanie.\n",
        "\n",
        "Możemy to zrobić, przekazując `aug_tfms` (*augmentation transforms*) do `tfms_from_model()`, z listą funkcji do zastosowania, które losowo zmieniają obraz, jak tylko chcemy. W przypadku zdjęć, które są w dużej mierze robione z boku (np. większość zdjęć samochodów, w przeciwieństwie do zdjęć zrobionych od góry, takich jak zdjęcia satelitarne), możemy użyć wstępnie zdefiniowanej listy funkcji `transforms_side_on`. Możemy również określić losowe powiększanie obrazów do określonej skali, dodając parametr `max_zoom`."
      ]
    },
    {
      "cell_type": "code",
      "metadata": {
        "id": "wH31z6CXCzJC",
        "colab_type": "code",
        "colab": {}
      },
      "source": [
        "# tfms = tfms_from_model(resnet34, sz, aug_tfms=transforms_side_on, max_zoom=1.1)"
      ],
      "execution_count": 0,
      "outputs": []
    },
    {
      "cell_type": "code",
      "metadata": {
        "id": "ptzuOJCUbjOf",
        "colab_type": "code",
        "colab": {}
      },
      "source": [
        "# transformers for training\n",
        "tfms[0].tfms"
      ],
      "execution_count": 0,
      "outputs": []
    },
    {
      "cell_type": "code",
      "metadata": {
        "id": "oyoT0DL6cZZ_",
        "colab_type": "code",
        "colab": {}
      },
      "source": [
        "# transformers for validation\n",
        "tfms[1].tfms"
      ],
      "execution_count": 0,
      "outputs": []
    },
    {
      "cell_type": "code",
      "metadata": {
        "id": "QpaEcsgdCzJC",
        "colab_type": "code",
        "colab": {}
      },
      "source": [
        "def get_augs():\n",
        "    data = ImageClassifierData.from_paths(PATH, bs=2, tfms=tfms, num_workers=1)\n",
        "    x,_ = next(iter(data.aug_dl))\n",
        "    return data.trn_ds.denorm(x)[1]"
      ],
      "execution_count": 0,
      "outputs": []
    },
    {
      "cell_type": "code",
      "metadata": {
        "id": "Qdczm-uKCzJD",
        "colab_type": "code",
        "colab": {}
      },
      "source": [
        "ims = np.stack([get_augs() for i in range(6)])"
      ],
      "execution_count": 0,
      "outputs": []
    },
    {
      "cell_type": "code",
      "metadata": {
        "id": "ZfF5tf0BCzJE",
        "colab_type": "code",
        "colab": {}
      },
      "source": [
        "plots(ims, rows=2)"
      ],
      "execution_count": 0,
      "outputs": []
    },
    {
      "cell_type": "markdown",
      "metadata": {
        "id": "nrXsYPyZemws",
        "colab_type": "text"
      },
      "source": [
        "Trenuj ostatnią warstwę z augmentacją danych (tj. `precompute=False`) przez 2-3 epoki z `cycle_len=1`"
      ]
    },
    {
      "cell_type": "code",
      "metadata": {
        "id": "FBSdh4SzN0LC",
        "colab_type": "code",
        "colab": {}
      },
      "source": [
        "learn.precompute=False  # użyj augmentacji danych\n",
        "learn.fit(0.08, 3, cycle_len=1)"
      ],
      "execution_count": 0,
      "outputs": []
    },
    {
      "cell_type": "markdown",
      "metadata": {
        "id": "85-qZhRFdRve",
        "colab_type": "text"
      },
      "source": [
        "### Metoda stochastycznego gradientu prostego z restartami"
      ]
    },
    {
      "cell_type": "markdown",
      "metadata": {
        "id": "ZN33GPY4A-x-",
        "colab_type": "text"
      },
      "source": [
        "Co to jest parametr `cycle_len`? To, co tutaj robimy, to metoda *stochastycznego gradientu prostego z restartami (ang. stochastic gradient descent with restarts - SGDR)*, jest to wariant *hartowania szybkości uczenia (ang. learning rate annealing)*, która stopniowo zmniejsza tempo uczenia się w miarę postępu treningu. To pomaga, bo gdy zbliżamy się do optymalnych wag, chcemy podejść tam mniejszymi krokami.\n",
        "\n",
        "Jednakże możemy znaleźć się w części przestrzeni wag, która nie jest bardzo odporna - to znaczy niewielkie zmiany wag mogą spowodować duże zmiany w stracie. Chcemy zachęcić nasz model do znalezienia części przestrzeni wag, które są zarówno dokładne, jak i stabilne. Dlatego od czasu do czasu zwiększamy szybkość uczenia się (jest to \"restart\" w \"SGDR\"), co zmusi model do przejścia do innej części przestrzeni wag, jeśli obecny obszar jest \"spiczasty\". Oto wykres tego, jak to może wyglądać, jeśli zresetujemy tempo uczenia się 3 razy (w tej publikacji nazywają to \"cyklicznym harmonogramem LR\", ang. 'cyclic LR schedule'):\n",
        "\n",
        "![SGDR](https://raw.githubusercontent.com/fastai/fastai/master/courses/dl1/images/sgdr.png)\n",
        "(Z publikacji [Snapshot Ensembles](https://arxiv.org/abs/1704.00109)).\n",
        "\n",
        "Liczba epok pomiędzy resetowaniem tempa uczenia się jest ustalana przez `cycle_len`, a liczba razy, kiedy to się dzieje, jest określana jako *liczba cykli*, i jest tym, co faktycznie przekazujemy jako drugi parametr do `fit()`. Oto jak wyglądało nasze rzeczywiste tempo uczenia się:"
      ]
    },
    {
      "cell_type": "code",
      "metadata": {
        "id": "IYCHhGBvN0LE",
        "colab_type": "code",
        "colab": {}
      },
      "source": [
        "learn.sched.plot_lr()"
      ],
      "execution_count": 0,
      "outputs": []
    },
    {
      "cell_type": "markdown",
      "metadata": {
        "id": "xVQnNWxTBdXx",
        "colab_type": "text"
      },
      "source": [
        "Nasza strata na zestawie walidacyjnym nie ulega znacznej poprawie, więc prawdopodobnie nie ma potrzeby dalszego trenowania samej ostatniej warstwy."
      ]
    },
    {
      "cell_type": "markdown",
      "metadata": {
        "id": "lLtqUoXjBhaQ",
        "colab_type": "text"
      },
      "source": [
        "Ponieważ w tym momencie mamy już całkiem niezły model, możemy chcieć go zapisać, abyśmy mogli go załadować ponownie później bez trenowania od początku."
      ]
    },
    {
      "cell_type": "code",
      "metadata": {
        "id": "pPXiU-SYN0LG",
        "colab_type": "code",
        "colab": {}
      },
      "source": [
        "learn.save('224_lastlayer')"
      ],
      "execution_count": 0,
      "outputs": []
    },
    {
      "cell_type": "code",
      "metadata": {
        "id": "giPWHzJvN0LG",
        "colab_type": "code",
        "colab": {}
      },
      "source": [
        "learn.load('224_lastlayer')"
      ],
      "execution_count": 0,
      "outputs": []
    },
    {
      "cell_type": "markdown",
      "metadata": {
        "id": "o2VHM_AuN0LH",
        "colab_type": "text"
      },
      "source": [
        "## 5) Dostrój (fine-tune) wcześniejsze warstwy i 6) różnicowo hartuj tempa uczenia się\n",
        "Odblokuj wszystkie warstwy, używając `unfreeze()`.<br/>\n",
        "Ustaw dla wcześniejszych warstw 3x-10x mniejsze tempo uczenia się niż dla kolejnych wyższych warstw."
      ]
    },
    {
      "cell_type": "markdown",
      "metadata": {
        "id": "03tO31fqBnSA",
        "colab_type": "text"
      },
      "source": [
        "Teraz, gdy mamy już wytrenowaną dobrą warstwę końcową, możemy spróbować dostroić pozostałe warstwy. Aby powiedzieć uczniowi, że chcemy odblokować pozostałe warstwy, wystarczy użyć `unfreeze()`."
      ]
    },
    {
      "cell_type": "code",
      "metadata": {
        "id": "KI86IvcRB1s5",
        "colab_type": "code",
        "colab": {}
      },
      "source": [
        "learn.unfreeze()"
      ],
      "execution_count": 0,
      "outputs": []
    },
    {
      "cell_type": "markdown",
      "metadata": {
        "id": "nWBq76hpB0TE",
        "colab_type": "text"
      },
      "source": [
        "Zauważ, że pozostałe warstwy zostały *już wcześniej* wytrenowane do rozpoznawania zdjęć imagenetowych (podczas gdy nasze końcowe warstwy zostały losowo zainicjowane), więc chcemy zadbać o to, aby nie zniszczyć dokładnie wyregulowanych wag, które już tam są.\n",
        "\n",
        "Ogólnie mówiąc, wcześniejsze warstwy (jak już widzieliśmy) mają funkcje działające bardziej ogólnie. Dlatego spodziewamy się, że będą potrzebowały mniejszego dostrojenia dla nowego zestawu danych. Z tego powodu użyjemy różnych temp uczenia się dla różnych warstw: pierwsze kilka warstw będzie na poziomie 1e-4, środkowe warstwy na 1e-3, a nasze warstwy FC pozostawimy na 1e-2, tak jak poprzednio. Nazywamy to *zróżnicowanymi tempami uczenia się* ang. \"differential learning rates\", chociaż, o ile nam wiadomo, nie ma standardowej nazwy dla tej technologii w literaturze."
      ]
    },
    {
      "cell_type": "code",
      "metadata": {
        "id": "PEuKPBkJN0LJ",
        "colab_type": "code",
        "colab": {}
      },
      "source": [
        "lr = np.array([0.0008, 0.008, 0.08])\n",
        "learn.fit(lr, 3, cycle_len=1, cycle_mult=2)"
      ],
      "execution_count": 0,
      "outputs": []
    },
    {
      "cell_type": "markdown",
      "metadata": {
        "id": "Ft1Ml-naCAYM",
        "colab_type": "text"
      },
      "source": [
        "Kolejną sztuczką, której tutaj użyliśmy jest dodanie parametru `cycle_mult`. \n",
        "\n",
        "Rzuć okiem na poniższy wykres i sprawdź, czy dojdziesz, co ten parametr robi:"
      ]
    },
    {
      "cell_type": "code",
      "metadata": {
        "id": "LrGXtDcJN0LK",
        "colab_type": "code",
        "colab": {}
      },
      "source": [
        "learn.sched.plot_lr()"
      ],
      "execution_count": 0,
      "outputs": []
    },
    {
      "cell_type": "markdown",
      "metadata": {
        "id": "oO7HKbe2CSWX",
        "colab_type": "text"
      },
      "source": [
        "Zauważ, że to, co wykreślono powyżej, to tempo uczenia się *ostatnich warstw*. Współczynniki uczenia się wcześniejszych warstw są ustalane na mnożnikach względem wybranego wcześniej tempa dla ostatnich warstw (tj. pierwsze warstwy mają 100x mniejsze, a warstwy średnie 10x mniejsze tempo uczenia się, skoro ustawiamy `lr=np.array([1e-4,1e-3,1e-2])`."
      ]
    },
    {
      "cell_type": "code",
      "metadata": {
        "id": "tIalpvusN0LL",
        "colab_type": "code",
        "colab": {}
      },
      "source": [
        "learn.save('224_all')"
      ],
      "execution_count": 0,
      "outputs": []
    },
    {
      "cell_type": "code",
      "metadata": {
        "id": "nczDgdZcN0LM",
        "colab_type": "code",
        "colab": {}
      },
      "source": [
        "learn.load('224_all')"
      ],
      "execution_count": 0,
      "outputs": []
    },
    {
      "cell_type": "markdown",
      "metadata": {
        "id": "ycidCLJj4H12",
        "colab_type": "text"
      },
      "source": [
        "## 7) Ponownie użyj lr_find()"
      ]
    },
    {
      "cell_type": "code",
      "metadata": {
        "id": "wg0SO-Jy4Ijw",
        "colab_type": "code",
        "colab": {}
      },
      "source": [
        "lrf = learn.lr_find()"
      ],
      "execution_count": 0,
      "outputs": []
    },
    {
      "cell_type": "code",
      "metadata": {
        "id": "Lv3viSxo4U11",
        "colab_type": "code",
        "colab": {}
      },
      "source": [
        "learn.sched.plot()"
      ],
      "execution_count": 0,
      "outputs": []
    },
    {
      "cell_type": "code",
      "metadata": {
        "id": "ckodbTFLDZxA",
        "colab_type": "code",
        "colab": {}
      },
      "source": [
        "lr = np.array([0.00001, 0.0001, 0.001])"
      ],
      "execution_count": 0,
      "outputs": []
    },
    {
      "cell_type": "markdown",
      "metadata": {
        "id": "BwDmV0yv4bU8",
        "colab_type": "text"
      },
      "source": [
        "## 8) Trenuj całą sieć z cycle_mult=2 aż do przetrenowania (over-fitting)"
      ]
    },
    {
      "cell_type": "code",
      "metadata": {
        "id": "LXMxNawd4kJg",
        "colab_type": "code",
        "colab": {}
      },
      "source": [
        "learn.fit(lr, 3, cycle_len=1, cycle_mult=2)"
      ],
      "execution_count": 0,
      "outputs": []
    },
    {
      "cell_type": "code",
      "metadata": {
        "id": "kOIa2P0h44A4",
        "colab_type": "code",
        "colab": {}
      },
      "source": [
        "learn.save('224_final')"
      ],
      "execution_count": 0,
      "outputs": []
    },
    {
      "cell_type": "code",
      "metadata": {
        "id": "kZSZQ_aX46ee",
        "colab_type": "code",
        "colab": {}
      },
      "source": [
        "learn.load('224_final')"
      ],
      "execution_count": 0,
      "outputs": []
    },
    {
      "cell_type": "markdown",
      "metadata": {
        "id": "hgH7kpNn6N97",
        "colab_type": "text"
      },
      "source": [
        "# Kontrola jakości na zestawie walidacyjnym"
      ]
    },
    {
      "cell_type": "markdown",
      "metadata": {
        "id": "T1ae1eZyN0LN",
        "colab_type": "text"
      },
      "source": [
        "### Prognoza z użyciem TTA (Test Time Augmentation)"
      ]
    },
    {
      "cell_type": "markdown",
      "metadata": {
        "id": "EgFe3WScCZoG",
        "colab_type": "text"
      },
      "source": [
        "Jest jeszcze coś, co możemy zrobić z augmentacją danych: użyj jej podczas *wnioskowania* (czy *testowania*). Nic dziwnego, że jest to znane jako *augmentacja podczas testowania*, ang. \"test time augmentation\" lub po prostu *TTA*.\n",
        "\n",
        "TTA po prostu tworzy prognozy nie tylko na obrazach z twojego zbioru walidacyjnego, ale także tworzy prognozy dla pewnej liczby losowo augmentowanych ich wersji (domyślnie używa oryginalnego obrazu wraz z 4 losowo augmentowanymi wersjami). Następnie liczy i używa średniej prognozy z tych obrazów. Aby użyć TTA na zestawie walidacyjnym, możemy skorzystać z metody `TTA()` ucznia."
      ]
    },
    {
      "cell_type": "code",
      "metadata": {
        "id": "Z466Lks3N0LN",
        "colab_type": "code",
        "colab": {}
      },
      "source": [
        "log_preds_tta, y_tta = learn.TTA()"
      ],
      "execution_count": 0,
      "outputs": []
    },
    {
      "cell_type": "code",
      "metadata": {
        "id": "tNPICfTKDeaz",
        "colab_type": "code",
        "colab": {}
      },
      "source": [
        "probs_tta = np.mean(np.exp(log_preds_tta),0)\n",
        "preds_tta = np.argmax(probs_tta, axis=1)  # from log probabilities to 0 or 1"
      ],
      "execution_count": 0,
      "outputs": []
    },
    {
      "cell_type": "code",
      "metadata": {
        "id": "-3hRFOlkES1E",
        "colab_type": "code",
        "colab": {}
      },
      "source": [
        "probs_tta[0:3, :]"
      ],
      "execution_count": 0,
      "outputs": []
    },
    {
      "cell_type": "code",
      "metadata": {
        "id": "c6PMaDVGDehF",
        "colab_type": "code",
        "colab": {}
      },
      "source": [
        "# preds_tta[:3]"
      ],
      "execution_count": 0,
      "outputs": []
    },
    {
      "cell_type": "code",
      "metadata": {
        "id": "RTu09M5NDedw",
        "colab_type": "code",
        "colab": {}
      },
      "source": [
        "accuracy_np(probs_tta, y_tta)"
      ],
      "execution_count": 0,
      "outputs": []
    },
    {
      "cell_type": "markdown",
      "metadata": {
        "id": "HtBobdOSCie4",
        "colab_type": "text"
      },
      "source": [
        "Zwykle widać 10-20 procentowy spadek błędu na tym zestawie danych podczas korzystania z TTA w tym momencie, co jest niesamowitym wynikiem dla tak szybkiej i prostej techniki!"
      ]
    },
    {
      "cell_type": "markdown",
      "metadata": {
        "id": "flu26xIrN0LP",
        "colab_type": "text"
      },
      "source": [
        "### Prognoza bez TTA"
      ]
    },
    {
      "cell_type": "code",
      "metadata": {
        "id": "foTBmO-2N0LP",
        "colab_type": "code",
        "colab": {}
      },
      "source": [
        "# to tworzy prognozę dla zestawu walidacyjnego. Prognozy są w skali logarytmicznej\n",
        "log_preds = learn.predict()\n",
        "y = data.val_y"
      ],
      "execution_count": 0,
      "outputs": []
    },
    {
      "cell_type": "code",
      "metadata": {
        "id": "Uz5y8RCIFAVW",
        "colab_type": "code",
        "colab": {}
      },
      "source": [
        "preds = np.argmax(log_preds, axis=1)  # od logarytmu prawdopodobieństwa do 0, 1, ... lub 9\n",
        "probs = np.exp(log_preds);            # pr(car)"
      ],
      "execution_count": 0,
      "outputs": []
    },
    {
      "cell_type": "code",
      "metadata": {
        "id": "uf5yEmlRFAXT",
        "colab_type": "code",
        "colab": {}
      },
      "source": [
        "probs[0:3, :]"
      ],
      "execution_count": 0,
      "outputs": []
    },
    {
      "cell_type": "code",
      "metadata": {
        "id": "iUWpcMhhGnnm",
        "colab_type": "code",
        "colab": {}
      },
      "source": [
        "preds[:150]"
      ],
      "execution_count": 0,
      "outputs": []
    },
    {
      "cell_type": "code",
      "metadata": {
        "id": "o_dXm2dcFAaA",
        "colab_type": "code",
        "colab": {}
      },
      "source": [
        "print('preds: ', len(preds), preds[0:10], '\\nprobs: ', len(probs), probs[0:10])"
      ],
      "execution_count": 0,
      "outputs": []
    },
    {
      "cell_type": "code",
      "metadata": {
        "id": "Ym53Rqq5D9DH",
        "colab_type": "code",
        "colab": {}
      },
      "source": [
        "accuracy_np(probs, y)"
      ],
      "execution_count": 0,
      "outputs": []
    },
    {
      "cell_type": "markdown",
      "metadata": {
        "id": "Iw-YHwfHN0LQ",
        "colab_type": "text"
      },
      "source": [
        "## Analiza wyników - tablica pomyłek"
      ]
    },
    {
      "cell_type": "code",
      "metadata": {
        "id": "_QOuVgzyN0LR",
        "colab_type": "code",
        "colab": {}
      },
      "source": [
        "from sklearn.metrics import confusion_matrix"
      ],
      "execution_count": 0,
      "outputs": []
    },
    {
      "cell_type": "code",
      "metadata": {
        "id": "iKoZ4Dz6N0LR",
        "colab_type": "code",
        "colab": {}
      },
      "source": [
        "# use to check TTA predictions\n",
        "# y = y_tta\n",
        "# preds = preds_tta"
      ],
      "execution_count": 0,
      "outputs": []
    },
    {
      "cell_type": "code",
      "metadata": {
        "id": "XB993L0pN0LU",
        "colab_type": "code",
        "colab": {}
      },
      "source": [
        "cm = confusion_matrix(y, preds)\n",
        "\n",
        "mpl.style.use('default')\n",
        "mpl.style.use('seaborn-ticks')\n",
        "plot_confusion_matrix(cm, data.classes)"
      ],
      "execution_count": 0,
      "outputs": []
    },
    {
      "cell_type": "markdown",
      "metadata": {
        "id": "bRnb1GfYEQmo",
        "colab_type": "text"
      },
      "source": [
        "# Koniec"
      ]
    }
  ]
}