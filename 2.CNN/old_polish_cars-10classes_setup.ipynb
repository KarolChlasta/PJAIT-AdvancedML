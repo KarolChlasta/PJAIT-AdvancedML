{
  "nbformat": 4,
  "nbformat_minor": 0,
  "metadata": {
    "colab": {
      "name": "old_polish_cars-10classes_setup.ipynb",
      "provenance": [],
      "private_outputs": true,
      "collapsed_sections": [],
      "toc_visible": true,
      "include_colab_link": true
    },
    "kernelspec": {
      "name": "python3",
      "display_name": "Python 3"
    },
    "accelerator": "GPU"
  },
  "cells": [
    {
      "cell_type": "markdown",
      "metadata": {
        "id": "view-in-github",
        "colab_type": "text"
      },
      "source": [
        "<a href=\"https://colab.research.google.com/github/KarolChlasta/PJAIT-AdvancedML/blob/master/2.CNN/old_polish_cars-10classes_setup.ipynb\" target=\"_parent\"><img src=\"https://colab.research.google.com/assets/colab-badge.svg\" alt=\"Open In Colab\"/></a>"
      ]
    },
    {
      "cell_type": "markdown",
      "metadata": {
        "id": "KluF-OoH7j0m",
        "colab_type": "text"
      },
      "source": [
        "# Konfiugracja old_polish_cars 10 classes"
      ]
    },
    {
      "cell_type": "markdown",
      "metadata": {
        "id": "zVAenoU1GnVS",
        "colab_type": "text"
      },
      "source": [
        "## PyTorch\n",
        "http://pytorch.org/"
      ]
    },
    {
      "cell_type": "code",
      "metadata": {
        "id": "yaRSc_k_YmEm",
        "colab_type": "code",
        "colab": {}
      },
      "source": [
        "!pip install -q torchtext==0.4.0"
      ],
      "execution_count": 0,
      "outputs": []
    },
    {
      "cell_type": "code",
      "metadata": {
        "id": "-z_AZ7-rm0xd",
        "colab_type": "code",
        "colab": {}
      },
      "source": [
        "from os import path\n",
        "from wheel.pep425tags import get_abbr_impl, get_impl_ver, get_abi_tag\n",
        "platform = '{}{}-{}'.format(get_abbr_impl(), get_impl_ver(), get_abi_tag())\n",
        "\n",
        "accelerator = 'cu100' if path.exists('/opt/bin/nvidia-smi') else 'cpu'\n",
        "\n",
        "!pip install -q https://download.pytorch.org/whl/cu100/torch-1.3.0%2B{accelerator}-{platform}-linux_x86_64.whl torchvision\n",
        "\n",
        "import torch"
      ],
      "execution_count": 0,
      "outputs": []
    },
    {
      "cell_type": "markdown",
      "metadata": {
        "id": "ZS4ewO3D-6fD",
        "colab_type": "text"
      },
      "source": [
        "## Fast.AI"
      ]
    },
    {
      "cell_type": "code",
      "metadata": {
        "id": "afHaz1jEOArj",
        "colab_type": "code",
        "colab": {}
      },
      "source": [
        "!pip install -q fastai"
      ],
      "execution_count": 0,
      "outputs": []
    },
    {
      "cell_type": "code",
      "metadata": {
        "id": "mbw_8m3gm4lk",
        "colab_type": "code",
        "colab": {}
      },
      "source": [
        "#!git clone https://github.com/fastai/fastai.git\n",
        "#import os\n",
        "#os.chdir(\"fastai\")\n",
        "#!git pull\n",
        "#!git checkout tags/v0.7.2 -b v0.7.2"
      ],
      "execution_count": 0,
      "outputs": []
    },
    {
      "cell_type": "code",
      "metadata": {
        "id": "HLpl6fVt_sRU",
        "colab_type": "code",
        "colab": {}
      },
      "source": [
        "#os.chdir(\"..\")\n",
        "#!pip install -q https://github.com/fastai/fastai/archive/v0.7.2.zip"
      ],
      "execution_count": 0,
      "outputs": []
    },
    {
      "cell_type": "code",
      "metadata": {
        "id": "CTOIOhCJJn-k",
        "colab_type": "code",
        "colab": {}
      },
      "source": [
        "!pip install -q ipywidgets==6.0.0"
      ],
      "execution_count": 0,
      "outputs": []
    },
    {
      "cell_type": "markdown",
      "metadata": {
        "id": "1rQGlnaqHBds",
        "colab_type": "text"
      },
      "source": [
        "## Pobierz modyfikacje Fast.AI\n"
      ]
    },
    {
      "cell_type": "code",
      "metadata": {
        "id": "cRaA4XnZHBdx",
        "colab_type": "code",
        "colab": {}
      },
      "source": [
        "home_path = Path('/content/')"
      ],
      "execution_count": 0,
      "outputs": []
    },
    {
      "cell_type": "code",
      "metadata": {
        "id": "YLfcHNgTE9qg",
        "colab_type": "code",
        "colab": {}
      },
      "source": [
        "# plots_wcz.py, https://drive.google.com/file/d/1CIc_hlYNzypzZFnFi4iQXtoyLj1C7-vS\n",
        "download_and_save(home_path / 'plots.py', '1CIc_hlYNzypzZFnFi4iQXtoyLj1C7-vS')\n",
        "!cp {home_path}/plots.py /usr/local/lib/python3.6/dist-packages/fastai"
      ],
      "execution_count": 0,
      "outputs": []
    },
    {
      "cell_type": "code",
      "metadata": {
        "id": "FU-r-GgwEKNu",
        "colab_type": "code",
        "colab": {}
      },
      "source": [
        "#model_wcz.py, https://drive.google.com/file/d/1ODoXeYCssSAZzaiZFUFSwjiZUI7YX2Ci\n",
        "download_and_save(home_path / 'model.py', '1ODoXeYCssSAZzaiZFUFSwjiZUI7YX2Ci')\n",
        "!cp {home_path}/model.py /usr/local/lib/python3.6/dist-packages/fastai"
      ],
      "execution_count": 0,
      "outputs": []
    },
    {
      "cell_type": "code",
      "metadata": {
        "id": "A9iRTXgxENUN",
        "colab_type": "code",
        "colab": {}
      },
      "source": [
        "# imports_wcz.py, https://drive.google.com/file/d/1OtLXbO7v-11QRSZmVuFACJPZFP1e3RYM\n",
        "download_and_save(home_path / 'imports.py', '1OtLXbO7v-11QRSZmVuFACJPZFP1e3RYM')\n",
        "!cp {home_path}/imports.py /usr/local/lib/python3.6/dist-packages/fastai"
      ],
      "execution_count": 0,
      "outputs": []
    },
    {
      "cell_type": "code",
      "metadata": {
        "id": "XSp_A3OjT5so",
        "colab_type": "code",
        "colab": {}
      },
      "source": [
        "# Install the PyDrive wrapper & import libraries.\n",
        "# This only needs to be done once per notebook.\n",
        "!pip install -U -q PyDrive\n",
        "\n",
        "from pydrive.auth import GoogleAuth\n",
        "from pydrive.drive import GoogleDrive\n",
        "from google.colab import auth\n",
        "from oauth2client.client import GoogleCredentials\n",
        "\n",
        "# Authenticate and create the PyDrive client.\n",
        "# This only needs to be done once per notebook.\n",
        "auth.authenticate_user()\n",
        "gauth = GoogleAuth()\n",
        "gauth.credentials = GoogleCredentials.get_application_default()\n",
        "drive = GoogleDrive(gauth)\n",
        "\n",
        "from pathlib import Path\n",
        "import os\n",
        "\n",
        "def download_and_save(file_name, file_id):\n",
        "  downloaded = drive.CreateFile({'id': file_id})\n",
        "  # fetch file\n",
        "  downloaded.FetchContent()\n",
        "  # write file\n",
        "  with open(file_name,'wb') as f:\n",
        "       f.write(downloaded.content.read())\n",
        "      \n",
        "  print(f'Saved {file_name}')\n",
        "  \n",
        "FILE_NAME, FILE_ID = ['file_name', 'file_id']"
      ],
      "execution_count": 0,
      "outputs": []
    },
    {
      "cell_type": "markdown",
      "metadata": {
        "id": "YMIR9I9w4XmJ",
        "colab_type": "text"
      },
      "source": [
        "## Instalacja PyDrive"
      ]
    },
    {
      "cell_type": "code",
      "metadata": {
        "id": "f1QfUX25K5hL",
        "colab_type": "code",
        "colab": {}
      },
      "source": [
        "# Install the PyDrive wrapper & import libraries.\n",
        "# This only needs to be done once per notebook.\n",
        "!pip install -U -q PyDrive\n",
        "\n",
        "from pydrive.auth import GoogleAuth\n",
        "from pydrive.drive import GoogleDrive\n",
        "from google.colab import auth\n",
        "from oauth2client.client import GoogleCredentials\n",
        "\n",
        "# Authenticate and create the PyDrive client.\n",
        "# This only needs to be done once per notebook.\n",
        "auth.authenticate_user()\n",
        "gauth = GoogleAuth()\n",
        "gauth.credentials = GoogleCredentials.get_application_default()\n",
        "drive = GoogleDrive(gauth)\n",
        "\n",
        "from pathlib import Path\n",
        "import os\n",
        "\n",
        "def download_and_save(file_name, file_id):\n",
        "  downloaded = drive.CreateFile({'id': file_id})\n",
        "  # fetch file\n",
        "  downloaded.FetchContent()\n",
        "  # write file\n",
        "  with open(file_name,'wb') as f:\n",
        "       f.write(downloaded.content.read())\n",
        "      \n",
        "  print(f'Saved {file_name}')\n",
        "  \n",
        "FILE_NAME, FILE_ID = ['file_name', 'file_id']"
      ],
      "execution_count": 0,
      "outputs": []
    },
    {
      "cell_type": "markdown",
      "metadata": {
        "id": "5ZXypyBX-JB-",
        "colab_type": "text"
      },
      "source": [
        "# Pobierz zbiory danych"
      ]
    },
    {
      "cell_type": "code",
      "metadata": {
        "id": "5TL75Rydtgp4",
        "colab_type": "code",
        "colab": {}
      },
      "source": [
        "from pathlib import Path\n",
        "\n",
        "dataset_path = Path('/content/data/old_polish_cars'); dataset_path\n",
        "!mkdir -p $dataset_path\n",
        "!ls -la $dataset_path"
      ],
      "execution_count": 0,
      "outputs": []
    },
    {
      "cell_type": "markdown",
      "metadata": {
        "id": "b-A_m90b9izf",
        "colab_type": "text"
      },
      "source": [
        "##  old_polish_cars_v5-split dataset"
      ]
    },
    {
      "cell_type": "code",
      "metadata": {
        "id": "PE5Bf1Op980l",
        "colab_type": "code",
        "colab": {}
      },
      "source": [
        "# old_polish_cars_v5_photos-512-split.tgz, https://drive.google.com/open?id=1kq3odh47lAAOK8MmeckHeCh1pTk6ga0i\n",
        "old_polish_cars_v5_split = {FILE_NAME: 'old_polish_cars_v5_photos-512-split.tgz', FILE_ID: '1kq3odh47lAAOK8MmeckHeCh1pTk6ga0i'}\n",
        "old_polish_cars_v5_split_path = dataset_path / old_polish_cars_v5_split[FILE_NAME]\n",
        "download_and_save(old_polish_cars_v5_split_path, old_polish_cars_v5_split[FILE_ID])"
      ],
      "execution_count": 0,
      "outputs": []
    },
    {
      "cell_type": "code",
      "metadata": {
        "id": "gu1mfxS8-1sV",
        "colab_type": "code",
        "colab": {}
      },
      "source": [
        "# unpack\n",
        "!tar -xf $old_polish_cars_v5_split_path -C $dataset_path"
      ],
      "execution_count": 0,
      "outputs": []
    },
    {
      "cell_type": "markdown",
      "metadata": {
        "id": "koUXEbYGnXjI",
        "colab_type": "text"
      },
      "source": [
        "# Opcjonalnie"
      ]
    },
    {
      "cell_type": "markdown",
      "metadata": {
        "id": "Rb6O8s41Y--d",
        "colab_type": "text"
      },
      "source": [
        "## (opcjonalnie) old_polish_cars_v5 dataset"
      ]
    },
    {
      "cell_type": "code",
      "metadata": {
        "id": "79yyzkqYY_R7",
        "colab_type": "code",
        "colab": {}
      },
      "source": [
        "# old_polish_cars_v5_photos-512.tgz, https://drive.google.com/open?id=1q0O5cOgzg8R65nnMAQehviJVU45CwOJ8\n",
        "old_polish_cars_v5 = {FILE_NAME: 'old_polish_cars_v5_photos-512.tgz', FILE_ID: '1q0O5cOgzg8R65nnMAQehviJVU45CwOJ8'}\n",
        "old_polish_cars_v5_path = dataset_path / old_polish_cars_v5[FILE_NAME]\n",
        "download_and_save(old_polish_cars_v5_path, old_polish_cars_v5[FILE_ID])"
      ],
      "execution_count": 0,
      "outputs": []
    },
    {
      "cell_type": "code",
      "metadata": {
        "id": "EiqkvbbdZBsm",
        "colab_type": "code",
        "colab": {}
      },
      "source": [
        "# unpack\n",
        "!tar -xf $old_polish_cars_v5_path -C $dataset_path"
      ],
      "execution_count": 0,
      "outputs": []
    },
    {
      "cell_type": "markdown",
      "metadata": {
        "id": "S1ysBtt3ufRE",
        "colab_type": "text"
      },
      "source": [
        "## (opcjonalnie) old_polish_cars_v4 dataset"
      ]
    },
    {
      "cell_type": "code",
      "metadata": {
        "id": "vfOwOQ0mz2bp",
        "colab_type": "code",
        "colab": {}
      },
      "source": [
        "# old_polish_cars_v4_photos-512.tgz, https://drive.google.com/open?id=1awht15dL2t3G4e8HWKwIyad0MebpdcgI\n",
        "old_polish_cars_v4 = {FILE_NAME: 'old_polish_cars_v4_photos-512.tgz', FILE_ID: '1awht15dL2t3G4e8HWKwIyad0MebpdcgI'}\n",
        "old_polish_cars_v4_path = dataset_path / old_polish_cars_v4[FILE_NAME]\n",
        "\n",
        "download_and_save(old_polish_cars_v4_path, old_polish_cars_v4[FILE_ID])"
      ],
      "execution_count": 0,
      "outputs": []
    },
    {
      "cell_type": "code",
      "metadata": {
        "id": "WfTHTIhI10i7",
        "colab_type": "code",
        "colab": {}
      },
      "source": [
        "# unpack\n",
        "\n",
        "!tar -xf $old_polish_cars_v4_path -C $dataset_path"
      ],
      "execution_count": 0,
      "outputs": []
    },
    {
      "cell_type": "markdown",
      "metadata": {
        "id": "SBV6Qm8a5rBj",
        "colab_type": "text"
      },
      "source": [
        "## (opcjonalnie) models"
      ]
    },
    {
      "cell_type": "code",
      "metadata": {
        "id": "tIN0KqSY9be7",
        "colab_type": "code",
        "colab": {}
      },
      "source": [
        "models_path = dataset_path / 'old_polish_cars_v5_photos-512-split/models'\n",
        "!mkdir -p $models_path"
      ],
      "execution_count": 0,
      "outputs": []
    },
    {
      "cell_type": "code",
      "metadata": {
        "id": "YcgJdsZD5p6x",
        "colab_type": "code",
        "colab": {}
      },
      "source": [
        "# 224_lastlayer.h5, https://drive.google.com/open?id=1avcGo8__1eMTjXMwQT8atKrQLel75hHm\n",
        "m224_lastlayer = {FILE_NAME: '224_lastlayer.h5', FILE_ID: '1avcGo8__1eMTjXMwQT8atKrQLel75hHm'}\n",
        "download_and_save(models_path / m224_lastlayer[FILE_NAME], m224_lastlayer[FILE_ID])"
      ],
      "execution_count": 0,
      "outputs": []
    },
    {
      "cell_type": "code",
      "metadata": {
        "id": "dBY_aXyT6LL5",
        "colab_type": "code",
        "colab": {}
      },
      "source": [
        "# 224_all.h5, https://drive.google.com/open?id=17qRBfyG96SW2uO2WIwhdhMk44-pW8HmO\n",
        "m224_all = {FILE_NAME: '224_all.h5', FILE_ID: '17qRBfyG96SW2uO2WIwhdhMk44-pW8HmO'}\n",
        "download_and_save(models_path / m224_all[FILE_NAME], m224_all[FILE_ID])"
      ],
      "execution_count": 0,
      "outputs": []
    },
    {
      "cell_type": "code",
      "metadata": {
        "id": "YysfB4K8-xyj",
        "colab_type": "code",
        "colab": {}
      },
      "source": [
        "ls -lah $dataset_path"
      ],
      "execution_count": 0,
      "outputs": []
    },
    {
      "cell_type": "code",
      "metadata": {
        "id": "RcP_x9UlTtNs",
        "colab_type": "code",
        "colab": {}
      },
      "source": [
        "ls -lah $models_path"
      ],
      "execution_count": 0,
      "outputs": []
    },
    {
      "cell_type": "markdown",
      "metadata": {
        "id": "og-0W-o8-rQQ",
        "colab_type": "text"
      },
      "source": [
        "## (Opcjonalnie) Setup Google Drive Integration"
      ]
    },
    {
      "cell_type": "code",
      "metadata": {
        "id": "S9deSL8xmtub",
        "colab_type": "code",
        "colab": {}
      },
      "source": [
        "!apt-get install -y -qq software-properties-common python-software-properties module-init-tools\n",
        "!add-apt-repository -y ppa:alessandro-strada/ppa 2>&1 > /dev/null\n",
        "!apt-get update -qq 2>&1 > /dev/null\n",
        "!apt-get -y install -qq google-drive-ocamlfuse fuse\n",
        "from google.colab import auth\n",
        "auth.authenticate_user()\n",
        "from oauth2client.client import GoogleCredentials\n",
        "creds = GoogleCredentials.get_application_default()\n",
        "import getpass\n",
        "!google-drive-ocamlfuse -headless -id={creds.client_id} -secret={creds.client_secret} < /dev/null 2>&1 | grep URL\n",
        "vcode = getpass.getpass()\n",
        "!echo {vcode} | google-drive-ocamlfuse -headless -id={creds.client_id} -secret={creds.client_secret}\n",
        "\n",
        "!mkdir -p drive\n",
        "!google-drive-ocamlfuse drive -o nonempty"
      ],
      "execution_count": 0,
      "outputs": []
    },
    {
      "cell_type": "markdown",
      "metadata": {
        "id": "nCZbfBq96BBT",
        "colab_type": "text"
      },
      "source": [
        "# Monitoring"
      ]
    },
    {
      "cell_type": "code",
      "metadata": {
        "id": "Uh0F8bWKFY_n",
        "colab_type": "code",
        "colab": {}
      },
      "source": [
        "ls -lh"
      ],
      "execution_count": 0,
      "outputs": []
    },
    {
      "cell_type": "code",
      "metadata": {
        "id": "nm03bS_8H8S5",
        "colab_type": "code",
        "colab": {}
      },
      "source": [
        "who"
      ],
      "execution_count": 0,
      "outputs": []
    },
    {
      "cell_type": "code",
      "metadata": {
        "id": "Q69oELsC5-go",
        "colab_type": "code",
        "colab": {}
      },
      "source": [
        "!uptime"
      ],
      "execution_count": 0,
      "outputs": []
    },
    {
      "cell_type": "code",
      "metadata": {
        "id": "2bQa46jj6DE7",
        "colab_type": "code",
        "colab": {}
      },
      "source": [
        "cd fastai"
      ],
      "execution_count": 0,
      "outputs": []
    },
    {
      "cell_type": "code",
      "metadata": {
        "id": "OOrHXXns6Yb9",
        "colab_type": "code",
        "colab": {}
      },
      "source": [
        "!/opt/bin/nvidia-smi"
      ],
      "execution_count": 0,
      "outputs": []
    },
    {
      "cell_type": "code",
      "metadata": {
        "id": "UZmqalcuXsEg",
        "colab_type": "code",
        "colab": {}
      },
      "source": [
        "for i in range(3):\n",
        "  !top -n 1"
      ],
      "execution_count": 0,
      "outputs": []
    },
    {
      "cell_type": "code",
      "metadata": {
        "id": "MrMh9qEIXmds",
        "colab_type": "code",
        "colab": {}
      },
      "source": [
        "!top -h"
      ],
      "execution_count": 0,
      "outputs": []
    },
    {
      "cell_type": "code",
      "metadata": {
        "id": "VaLG8jhT6U3Y",
        "colab_type": "code",
        "colab": {}
      },
      "source": [
        "import os\n",
        "import psutil\n",
        "\n",
        "def print_memsize():\n",
        "  process = psutil.Process(os.getpid())\n",
        "  print(f'{process.memory_info().rss / 1024**3:.5} GB')\n",
        "  \n",
        "print_memsize()"
      ],
      "execution_count": 0,
      "outputs": []
    },
    {
      "cell_type": "code",
      "metadata": {
        "id": "D-UWeMDf7m3-",
        "colab_type": "code",
        "colab": {}
      },
      "source": [
        "print_memsize()\n",
        "!lsb_release -a"
      ],
      "execution_count": 0,
      "outputs": []
    }
  ]
}