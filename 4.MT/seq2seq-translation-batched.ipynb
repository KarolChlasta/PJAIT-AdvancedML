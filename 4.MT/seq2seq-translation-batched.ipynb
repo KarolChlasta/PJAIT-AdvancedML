{
  "nbformat": 4,
  "nbformat_minor": 0,
  "metadata": {
    "colab": {
      "name": "seq2seq-translation-batched.ipynb",
      "provenance": [],
      "collapsed_sections": [
        "yHtNHu50jM_O"
      ],
      "toc_visible": true,
      "include_colab_link": true
    },
    "kernelspec": {
      "display_name": "Python 3",
      "language": "python",
      "name": "python3"
    },
    "accelerator": "GPU"
  },
  "cells": [
    {
      "cell_type": "markdown",
      "metadata": {
        "id": "view-in-github",
        "colab_type": "text"
      },
      "source": [
        "<a href=\"https://colab.research.google.com/github/KarolChlasta/PJAIT-AdvancedML/blob/master/4.MT/seq2seq-translation-batched.ipynb\" target=\"_parent\"><img src=\"https://colab.research.google.com/assets/colab-badge.svg\" alt=\"Open In Colab\"/></a>"
      ]
    },
    {
      "cell_type": "markdown",
      "metadata": {
        "id": "0pi0-vQzjM-a",
        "colab_type": "text"
      },
      "source": [
        "![](https://i.imgur.com/eBRPvWB.png)\n",
        "\n",
        "# Tłumaczenie z użyciem sieci Sequence to Sequence z koncentracją\n",
        "\n",
        "\n",
        "W tym projekcie nauczymy sieć neuronową, jak tłumaczyć z angielskiego na polski.\n",
        "\n",
        "```\n",
        "[KEY: > input, = target, < output]\n",
        "\n",
        "> there are pretty flowers in the garden .\n",
        "= w ogrodzie są piękne kwiaty .\n",
        "< w ogrodzie są piękne kwiaty .\n",
        "\n",
        "> i can't translate this sentence .\n",
        "= nie potrafię przetłumaczyć tego zdania .\n",
        "< nie potrafię przetłumaczyć tego zdania .\n",
        "\n",
        "> how come you know english so well ?\n",
        "= jak to się stało , że tak dobrze znasz angielski ?\n",
        "< skąd znasz angielskiego tak dobrze ? \n",
        "\n",
        "> things have gotten better now .\n",
        "= sytuacja się poprawiła .\n",
        "< to się jeszcze jeszcze teraz lepiej .\n",
        "```\n",
        "\n",
        "\n",
        "... z różnym powodzeniem.\n",
        "\n",
        "Jest to możliwe dzięki prostej, ale potężnej idei sieci [sequence to sequence](http://arxiv.org/abs/1409.3215), w której dwie rekurencyjne sieci neuronowe współpracują ze sobą, aby przekształcić jedną sekwencję w drugą. Sieć kodera kondensuje sekwencję wejściową do pojedynczego wektora, a sieć dekodera rozwija ten wektor w nową sekwencję.\n",
        "\n",
        "Aby ulepszyć ten model, użyjemy [mechanizmu koncentracji](https://arxiv.org/abs/1409.0473), który pozwoli dekoderowi nauczyć się skupiać na pewnej części sekwencji wejściowej."
      ]
    },
    {
      "cell_type": "markdown",
      "metadata": {
        "id": "bO8jBTPCjM-b",
        "colab_type": "text"
      },
      "source": [
        "## Sieć Sequence to Sequence\n",
        "\n",
        "\n",
        "Sieć [Sequence to Sequence](http://arxiv.org/abs/1409.3215) lub sieć seq2seq, lub sieć [Encoder Decoder](https://arxiv.org/pdf/1406.1078v3.pdf), jest to model składający się z dwóch oddzielnych RNN'ów zwanych **koderem** i **dekoderem**. W każdym kroku koder odczytuje sekwencję wejściową po jednym elemencie a oddaje wektor. Końcowy wynik kodera jest utrzymywany jako wektor **kontekstu**. Dekoder wykorzystuje ten wektor kontekstu, aby wytworzyć sekwencję wyjść krok po kroku.\n",
        "\n",
        "![](https://github.com/wojtekcz/ml_seminars/blob/master/wyklad_nmt/images2/encoder-decoder.png?raw=true)\n",
        "\n",
        "Podczas korzystania z pojedynczego RNN istnieje relacja jeden do jednego pomiędzy wejściami i wyjściami. Szybko napotkalibyśmy problemy z różnymi kolejnościami sekwencji i długościami, które są częste podczas tłumaczenia. Rozważ proste zdanie \"Je ne suis pas le chat noir\" & rarr; \"I am not the black cat\" (\"Nie jestem czarnym kotem\"). Wiele słów ma całkiem jednoznaczne tłumaczenie, na przykład \"cat\" &rarr; \"kot\". Jednak różne gramatyki powodują, że słowa występują w różnych kolejnościach, np. \"black cat\" &rarr; \"kot czarny\". Istnieją również konstrukcje \"... have gotten better\" &rarr; \"... się poprawiła\", które sprawiają, że dwa zdania mają różne długości.\n",
        "\n",
        "Model seq2seq, kodując wiele wejść do jednego wektora i dekodując z jednego wektora na wiele wyjść,  uwalnia nas od ograniczeń kolejności i długości sekwencji. Zakodowana sekwencja jest reprezentowana przez pojedynczy wektor, pojedynczy punkt w N-wymiarowej przestrzeni sekwencji. W idealnym przypadku punkt ten można uznać za \"znaczenie\" sekwencji.\n",
        "\n",
        "Ten pomysł może zostać przedłużony poza sekwencje. Zadania opisywania obrazów pobierają [obraz jako dane wejściowe i produkują opis](https://arxiv.org/abs/1411.4555) obrazu (img2seq). Niektóre zadania generowania obrazów pobierają [opis jako dane wyjściowe i generują obraz](https://arxiv.org/abs/1511.02793) (seq2img). Takie modele można ogólnie nazwać sieciami \"koder dekoder\"."
      ]
    },
    {
      "cell_type": "markdown",
      "metadata": {
        "id": "FgcvjusvjM-c",
        "colab_type": "text"
      },
      "source": [
        "## Mechanizm koncentracji (Attention)\n",
        "\n",
        "Wektor o stałej długości jest odpowiedzialny za zakodowanie całego \"znaczenia\" sekwencji wejściowej, bez względu na jej długość. Z powodu rożnorodności językowej jest to bardzo trudny problem. Wyobraź sobie dwa prawie identyczne zdania, dwadzieścia słów, różniące się jednym tylko słowem. Zarówno kodery, jak i dekodery muszą być wystarczająco zniuansowane, aby reprezentować tę zmianę jako nieznacznie inny punkt w przestrzeni.\n",
        "\n",
        "**Mechanizm koncentracji** [wprowadzony przez Bahdanau i innych](https://arxiv.org/abs/1409.0473) rozwiązuje ten problem, dając dekoderowi możliwość \"koncentrowania się\" na fragmentach danych wejściowych, zamiast polegania na na pojedynczym wektorze. W każdym kroku dekoder może wybrać inny fragment sekwencji wejściowej do rozważenia.\n",
        "\n",
        "![](https://github.com/wojtekcz/ml_seminars/blob/master/wyklad_nmt/images2/encoder-inputs-decoder-outputs.png?raw=true)\n",
        "\n",
        "Koncentracja jest obliczana przy użyciu bieżącego stanu ukrytego i każdego wyjścia kodera, aby utworzyć nowy wektor, który ma taki sam rozmiar jak sekwencja wejściowa nazwany *wagami koncentracji*. Te wagi są mnożone przez wyjścia koderów w celu utworzenia nowego wektora *kontekstu*. Wektor kontekstu i stan ukryty jest następnie wykorzystywany do predykcji kolejnego elementu wyjścia.\n",
        "\n",
        "![](https://github.com/wojtekcz/ml_seminars/blob/master/wyklad_nmt/images2/attention-module-input-output.png?raw=true)"
      ]
    },
    {
      "cell_type": "markdown",
      "metadata": {
        "id": "CH3K-upNE28D",
        "colab_type": "text"
      },
      "source": [
        "# Konfiguracja środowiska dla seq2seq"
      ]
    },
    {
      "cell_type": "markdown",
      "metadata": {
        "id": "71gU7PngExlh",
        "colab_type": "text"
      },
      "source": [
        "## Instalacja PyTorch"
      ]
    },
    {
      "cell_type": "code",
      "metadata": {
        "id": "NTQYNZFKG_a5",
        "colab_type": "code",
        "colab": {
          "base_uri": "https://localhost:8080/",
          "height": 303
        },
        "outputId": "817bd6d3-ece4-4ffa-c682-733cb078b023"
      },
      "source": [
        "# http://pytorch.org/\n",
        "from os import path\n",
        "from wheel.pep425tags import get_abbr_impl, get_impl_ver, get_abi_tag\n",
        "platform = '{}{}-{}'.format(get_abbr_impl(), get_impl_ver(), get_abi_tag())\n",
        "\n",
        "accelerator = 'cu80' if path.exists('/opt/bin/nvidia-smi') else 'cpu'\n",
        "\n",
        "!pip install torch==1.0.1 -f https://download.pytorch.org/whl/cu100/stable\n",
        "#pip install -q http://download.pytorch.org/whl/{accelerator}/torch-0.4.0-{platform}-linux_x86_64.whl torchvision\n",
        "\n",
        "import torch"
      ],
      "execution_count": 17,
      "outputs": [
        {
          "output_type": "stream",
          "text": [
            "Looking in links: https://download.pytorch.org/whl/cu100/stable\n",
            "Collecting torch==1.0.1\n",
            "\u001b[?25l  Downloading https://files.pythonhosted.org/packages/f7/92/1ae072a56665e36e81046d5fb8a2f39c7728c25c21df1777486c49b179ae/torch-1.0.1-cp36-cp36m-manylinux1_x86_64.whl (560.0MB)\n",
            "\u001b[K     |████████████████████████████████| 560.1MB 28kB/s \n",
            "\u001b[31mERROR: torchvision 0.4.2 has requirement torch==1.3.1, but you'll have torch 1.0.1 which is incompatible.\u001b[0m\n",
            "\u001b[?25hInstalling collected packages: torch\n",
            "  Found existing installation: torch 0.4.0\n",
            "    Uninstalling torch-0.4.0:\n",
            "      Successfully uninstalled torch-0.4.0\n",
            "Successfully installed torch-1.0.1\n"
          ],
          "name": "stdout"
        },
        {
          "output_type": "display_data",
          "data": {
            "application/vnd.colab-display-data+json": {
              "pip_warning": {
                "packages": [
                  "torch"
                ]
              }
            }
          },
          "metadata": {
            "tags": []
          }
        }
      ]
    },
    {
      "cell_type": "markdown",
      "metadata": {
        "id": "cdLsetH6JBes",
        "colab_type": "text"
      },
      "source": [
        "## Instalacja bibliotek"
      ]
    },
    {
      "cell_type": "code",
      "metadata": {
        "id": "HNwsxvdnJDw5",
        "colab_type": "code",
        "colab": {
          "base_uri": "https://localhost:8080/",
          "height": 35
        },
        "outputId": "596329b6-6c06-4b8b-dbf3-9afaee4ab175"
      },
      "source": [
        "# !pip install unidecode tqdm dill pysmi visdom sconce\n",
        "!pip install -q unidecode tqdm"
      ],
      "execution_count": 2,
      "outputs": [
        {
          "output_type": "stream",
          "text": [
            "\u001b[?25l\r\u001b[K     |█▍                              | 10kB 39.2MB/s eta 0:00:01\r\u001b[K     |██▊                             | 20kB 2.9MB/s eta 0:00:01\r\u001b[K     |████▏                           | 30kB 4.2MB/s eta 0:00:01\r\u001b[K     |█████▌                          | 40kB 2.8MB/s eta 0:00:01\r\u001b[K     |██████▉                         | 51kB 3.5MB/s eta 0:00:01\r\u001b[K     |████████▎                       | 61kB 4.1MB/s eta 0:00:01\r\u001b[K     |█████████▋                      | 71kB 4.7MB/s eta 0:00:01\r\u001b[K     |███████████                     | 81kB 5.3MB/s eta 0:00:01\r\u001b[K     |████████████▍                   | 92kB 5.9MB/s eta 0:00:01\r\u001b[K     |█████████████▊                  | 102kB 4.7MB/s eta 0:00:01\r\u001b[K     |███████████████▏                | 112kB 4.7MB/s eta 0:00:01\r\u001b[K     |████████████████▌               | 122kB 4.7MB/s eta 0:00:01\r\u001b[K     |█████████████████▉              | 133kB 4.7MB/s eta 0:00:01\r\u001b[K     |███████████████████▎            | 143kB 4.7MB/s eta 0:00:01\r\u001b[K     |████████████████████▋           | 153kB 4.7MB/s eta 0:00:01\r\u001b[K     |██████████████████████          | 163kB 4.7MB/s eta 0:00:01\r\u001b[K     |███████████████████████▍        | 174kB 4.7MB/s eta 0:00:01\r\u001b[K     |████████████████████████▊       | 184kB 4.7MB/s eta 0:00:01\r\u001b[K     |██████████████████████████▏     | 194kB 4.7MB/s eta 0:00:01\r\u001b[K     |███████████████████████████▌    | 204kB 4.7MB/s eta 0:00:01\r\u001b[K     |████████████████████████████▉   | 215kB 4.7MB/s eta 0:00:01\r\u001b[K     |██████████████████████████████▎ | 225kB 4.7MB/s eta 0:00:01\r\u001b[K     |███████████████████████████████▋| 235kB 4.7MB/s eta 0:00:01\r\u001b[K     |████████████████████████████████| 245kB 4.7MB/s \n",
            "\u001b[?25h"
          ],
          "name": "stdout"
        }
      ]
    },
    {
      "cell_type": "code",
      "metadata": {
        "id": "VEHXEnEoUs8I",
        "colab_type": "code",
        "colab": {
          "base_uri": "https://localhost:8080/",
          "height": 70
        },
        "outputId": "3702c15b-e839-458a-b51c-b40ea55296ec"
      },
      "source": [
        "# install visdom\n",
        "#!pip install --upgrade git+https://github.com/facebookresearch/visdom.git@master\n",
        "!pip install -q --upgrade git+https://github.com/facebookresearch/visdom.git@64c0ca624f0cd3c358a3e64f47933649ea1ed1cd"
      ],
      "execution_count": 3,
      "outputs": [
        {
          "output_type": "stream",
          "text": [
            "\u001b[?25l\r\u001b[K     |█▋                              | 10kB 28.5MB/s eta 0:00:01\r\u001b[K     |███▎                            | 20kB 3.0MB/s eta 0:00:01\r\u001b[K     |█████                           | 30kB 4.4MB/s eta 0:00:01\r\u001b[K     |██████▌                         | 40kB 2.9MB/s eta 0:00:01\r\u001b[K     |████████▏                       | 51kB 3.6MB/s eta 0:00:01\r\u001b[K     |█████████▉                      | 61kB 4.2MB/s eta 0:00:01\r\u001b[K     |███████████▍                    | 71kB 4.9MB/s eta 0:00:01\r\u001b[K     |█████████████                   | 81kB 5.5MB/s eta 0:00:01\r\u001b[K     |██████████████▊                 | 92kB 6.1MB/s eta 0:00:01\r\u001b[K     |████████████████▍               | 102kB 4.7MB/s eta 0:00:01\r\u001b[K     |██████████████████              | 112kB 4.7MB/s eta 0:00:01\r\u001b[K     |███████████████████▋            | 122kB 4.7MB/s eta 0:00:01\r\u001b[K     |█████████████████████▎          | 133kB 4.7MB/s eta 0:00:01\r\u001b[K     |██████████████████████▉         | 143kB 4.7MB/s eta 0:00:01\r\u001b[K     |████████████████████████▌       | 153kB 4.7MB/s eta 0:00:01\r\u001b[K     |██████████████████████████▏     | 163kB 4.7MB/s eta 0:00:01\r\u001b[K     |███████████████████████████▊    | 174kB 4.7MB/s eta 0:00:01\r\u001b[K     |█████████████████████████████▍  | 184kB 4.7MB/s eta 0:00:01\r\u001b[K     |███████████████████████████████ | 194kB 4.7MB/s eta 0:00:01\r\u001b[K     |████████████████████████████████| 204kB 4.7MB/s \n",
            "\u001b[?25h  Building wheel for visdom (setup.py) ... \u001b[?25l\u001b[?25hdone\n",
            "  Building wheel for torchfile (setup.py) ... \u001b[?25l\u001b[?25hdone\n"
          ],
          "name": "stdout"
        }
      ]
    },
    {
      "cell_type": "code",
      "metadata": {
        "id": "6zEOcBv1U4MT",
        "colab_type": "code",
        "colab": {
          "base_uri": "https://localhost:8080/",
          "height": 35
        },
        "outputId": "3ca1e8cc-beb1-4264-8ac2-7c6d13b4bec1"
      },
      "source": [
        "# install tnt\n",
        "!pip install -q git+https://github.com/pytorch/tnt.git@master"
      ],
      "execution_count": 4,
      "outputs": [
        {
          "output_type": "stream",
          "text": [
            "  Building wheel for torchnet (setup.py) ... \u001b[?25l\u001b[?25hdone\n"
          ],
          "name": "stdout"
        }
      ]
    },
    {
      "cell_type": "markdown",
      "metadata": {
        "id": "1Kk5FdvHFDeu",
        "colab_type": "text"
      },
      "source": [
        "## Instalacja bibliotek PyDrive wrapper & import"
      ]
    },
    {
      "cell_type": "code",
      "metadata": {
        "id": "AmbL-sxAFERR",
        "colab_type": "code",
        "colab": {}
      },
      "source": [
        "# This only needs to be done once per notebook.\n",
        "!pip install -U -q PyDrive\n",
        "\n",
        "from pydrive.auth import GoogleAuth\n",
        "from pydrive.drive import GoogleDrive\n",
        "from google.colab import auth\n",
        "from oauth2client.client import GoogleCredentials\n",
        "\n",
        "# Authenticate and create the PyDrive client.\n",
        "# This only needs to be done once per notebook.\n",
        "auth.authenticate_user()\n",
        "gauth = GoogleAuth()\n",
        "gauth.credentials = GoogleCredentials.get_application_default()\n",
        "drive = GoogleDrive(gauth)\n",
        "\n",
        "from pathlib import Path\n",
        "import os\n",
        "\n",
        "def download_and_save(file_name, file_id):\n",
        "  downloaded = drive.CreateFile({'id': file_id})\n",
        "  # fetch file\n",
        "  downloaded.FetchContent()\n",
        "  # write file\n",
        "  with open(file_name,'wb') as f:\n",
        "       f.write(downloaded.content.read())\n",
        "      \n",
        "  print(f'Saved {file_name}')\n",
        "  \n",
        "FILE_NAME, FILE_ID = ['file_name', 'file_id']"
      ],
      "execution_count": 0,
      "outputs": []
    },
    {
      "cell_type": "markdown",
      "metadata": {
        "id": "6a-q1f8LFI5y",
        "colab_type": "text"
      },
      "source": [
        "## Pobranie danych"
      ]
    },
    {
      "cell_type": "code",
      "metadata": {
        "id": "YLHSxEQmFe_u",
        "colab_type": "code",
        "colab": {
          "base_uri": "https://localhost:8080/",
          "height": 70
        },
        "outputId": "b715a9ef-369d-479a-ca68-e6fac39232cb"
      },
      "source": [
        "from pathlib import Path\n",
        "dataset_path = Path('/content/data/old_polish_cars'); dataset_path\n",
        "!mkdir -p $dataset_path\n",
        "!ls -la $dataset_path/"
      ],
      "execution_count": 6,
      "outputs": [
        {
          "output_type": "stream",
          "text": [
            "total 8\n",
            "drwxr-xr-x 2 root root 4096 Nov 22 21:33 .\n",
            "drwxr-xr-x 3 root root 4096 Nov 22 21:33 ..\n"
          ],
          "name": "stdout"
        }
      ]
    },
    {
      "cell_type": "markdown",
      "metadata": {
        "id": "ihRsb3C_FeG0",
        "colab_type": "text"
      },
      "source": [
        "## Pobranie datasetu"
      ]
    },
    {
      "cell_type": "code",
      "metadata": {
        "id": "Zl_zASTIF9KN",
        "colab_type": "code",
        "colab": {
          "base_uri": "https://localhost:8080/",
          "height": 35
        },
        "outputId": "967374f8-fcae-4f39-f750-a8605f3a10c6"
      },
      "source": [
        "# eng-pol.txt, https://drive.google.com/open?id=1vXMWySvI0mVcyqQZQeQUsk9vSmXYvIYw\n",
        "eng_pol = {FILE_NAME: 'eng-pol.txt', FILE_ID: '1vXMWySvI0mVcyqQZQeQUsk9vSmXYvIYw'}\n",
        "download_and_save(dataset_path / eng_pol[FILE_NAME], eng_pol[FILE_ID])"
      ],
      "execution_count": 7,
      "outputs": [
        {
          "output_type": "stream",
          "text": [
            "Saved /content/data/old_polish_cars/eng-pol.txt\n"
          ],
          "name": "stdout"
        }
      ]
    },
    {
      "cell_type": "markdown",
      "metadata": {
        "id": "PGlh9W0pXMvO",
        "colab_type": "text"
      },
      "source": [
        "## Pobranie masked_cross_entropy.py"
      ]
    },
    {
      "cell_type": "code",
      "metadata": {
        "id": "_xZcyCd2g0tu",
        "colab_type": "code",
        "colab": {
          "base_uri": "https://localhost:8080/",
          "height": 35
        },
        "outputId": "06edf462-b2b9-4d31-f956-6a0203a7606e"
      },
      "source": [
        "# masked_cross_entropy.py, https://drive.google.com/open?id=1YbNcZHWn7F0bUPDcgsKdHrj8HHr8QBXS\n",
        "masked_cross_entropy = {FILE_NAME: 'masked_cross_entropy.py', FILE_ID: '1YbNcZHWn7F0bUPDcgsKdHrj8HHr8QBXS'}\n",
        "download_and_save(Path('/content/') / masked_cross_entropy[FILE_NAME], masked_cross_entropy[FILE_ID])"
      ],
      "execution_count": 8,
      "outputs": [
        {
          "output_type": "stream",
          "text": [
            "Saved /content/masked_cross_entropy.py\n"
          ],
          "name": "stdout"
        }
      ]
    },
    {
      "cell_type": "code",
      "metadata": {
        "id": "LBjvOVCPmWwn",
        "colab_type": "code",
        "colab": {
          "base_uri": "https://localhost:8080/",
          "height": 106
        },
        "outputId": "9515b4cc-6bb8-4c26-b833-d535e45634fa"
      },
      "source": [
        "!ls -la $dataset_path/\n",
        "!pwd"
      ],
      "execution_count": 9,
      "outputs": [
        {
          "output_type": "stream",
          "text": [
            "total 2404\n",
            "drwxr-xr-x 2 root root    4096 Nov 22 21:34 .\n",
            "drwxr-xr-x 3 root root    4096 Nov 22 21:33 ..\n",
            "-rw-r--r-- 1 root root 2449657 Nov 22 21:34 eng-pol.txt\n",
            "/content\n"
          ],
          "name": "stdout"
        }
      ]
    },
    {
      "cell_type": "markdown",
      "metadata": {
        "id": "pvNsvobjFNKz",
        "colab_type": "text"
      },
      "source": [
        "## (opcja) Ustawienia integracji z Google Drive"
      ]
    },
    {
      "cell_type": "code",
      "metadata": {
        "id": "PZlXy_NvFN9i",
        "colab_type": "code",
        "colab": {
          "base_uri": "https://localhost:8080/",
          "height": 232
        },
        "outputId": "c784f34f-bc01-4e0e-cf31-d870d4d3244f"
      },
      "source": [
        "!apt-get install -y -qq software-properties-common python-software-properties module-init-tools\n",
        "!add-apt-repository -y ppa:alessandro-strada/ppa 2>&1 > /dev/null\n",
        "!apt-get update -qq 2>&1 > /dev/null\n",
        "!apt-get -y install -qq google-drive-ocamlfuse fuse\n",
        "from google.colab import auth\n",
        "auth.authenticate_user()\n",
        "from oauth2client.client import GoogleCredentials\n",
        "creds = GoogleCredentials.get_application_default()\n",
        "import getpass\n",
        "!google-drive-ocamlfuse -headless -id={creds.client_id} -secret={creds.client_secret} < /dev/null 2>&1 | grep URL\n",
        "vcode = getpass.getpass()\n",
        "!echo {vcode} | google-drive-ocamlfuse -headless -id={creds.client_id} -secret={creds.client_secret}\n",
        "\n",
        "!mkdir -p drive\n",
        "!google-drive-ocamlfuse drive -o nonempty"
      ],
      "execution_count": 11,
      "outputs": [
        {
          "output_type": "stream",
          "text": [
            "E: Package 'python-software-properties' has no installation candidate\n",
            "Selecting previously unselected package google-drive-ocamlfuse.\n",
            "(Reading database ... 145605 files and directories currently installed.)\n",
            "Preparing to unpack .../google-drive-ocamlfuse_0.7.13-0ubuntu1~ubuntu18.04.1_amd64.deb ...\n",
            "Unpacking google-drive-ocamlfuse (0.7.13-0ubuntu1~ubuntu18.04.1) ...\n",
            "Setting up google-drive-ocamlfuse (0.7.13-0ubuntu1~ubuntu18.04.1) ...\n",
            "Processing triggers for man-db (2.8.3-2ubuntu0.1) ...\n",
            "Please, open the following URL in a web browser: https://accounts.google.com/o/oauth2/auth?client_id=32555940559.apps.googleusercontent.com&redirect_uri=urn%3Aietf%3Awg%3Aoauth%3A2.0%3Aoob&scope=https%3A%2F%2Fwww.googleapis.com%2Fauth%2Fdrive&response_type=code&access_type=offline&approval_prompt=force\n",
            "··········\n",
            "Please, open the following URL in a web browser: https://accounts.google.com/o/oauth2/auth?client_id=32555940559.apps.googleusercontent.com&redirect_uri=urn%3Aietf%3Awg%3Aoauth%3A2.0%3Aoob&scope=https%3A%2F%2Fwww.googleapis.com%2Fauth%2Fdrive&response_type=code&access_type=offline&approval_prompt=force\n",
            "Please enter the verification code: Access token retrieved correctly.\n"
          ],
          "name": "stdout"
        }
      ]
    },
    {
      "cell_type": "markdown",
      "metadata": {
        "id": "USMDLfIuo6Fd",
        "colab_type": "text"
      },
      "source": [
        "## (opcja) monitorowanie wirtualnej maszyny"
      ]
    },
    {
      "cell_type": "code",
      "metadata": {
        "id": "fPB9Yk66qHtz",
        "colab_type": "code",
        "colab": {
          "base_uri": "https://localhost:8080/",
          "height": 35
        },
        "outputId": "85b5b41f-82c7-443a-b3cd-b4fb08e36c35"
      },
      "source": [
        "!uptime"
      ],
      "execution_count": 10,
      "outputs": [
        {
          "output_type": "stream",
          "text": [
            " 21:34:26 up 3 min,  0 users,  load average: 0.26, 0.30, 0.14\n"
          ],
          "name": "stdout"
        }
      ]
    },
    {
      "cell_type": "code",
      "metadata": {
        "id": "35beNZ9htRpj",
        "colab_type": "code",
        "colab": {
          "base_uri": "https://localhost:8080/",
          "height": 319
        },
        "outputId": "89a95ff0-8748-4c61-bd97-1bc74c5b6c0e"
      },
      "source": [
        "!/opt/bin/nvidia-smi"
      ],
      "execution_count": 12,
      "outputs": [
        {
          "output_type": "stream",
          "text": [
            "Fri Nov 22 21:35:21 2019       \n",
            "+-----------------------------------------------------------------------------+\n",
            "| NVIDIA-SMI 418.67       Driver Version: 418.67       CUDA Version: 10.1     |\n",
            "|-------------------------------+----------------------+----------------------+\n",
            "| GPU  Name        Persistence-M| Bus-Id        Disp.A | Volatile Uncorr. ECC |\n",
            "| Fan  Temp  Perf  Pwr:Usage/Cap|         Memory-Usage | GPU-Util  Compute M. |\n",
            "|===============================+======================+======================|\n",
            "|   0  Tesla P100-PCIE...  Off  | 00000000:00:04.0 Off |                    0 |\n",
            "| N/A   37C    P0    26W / 250W |      0MiB / 16280MiB |      0%      Default |\n",
            "+-------------------------------+----------------------+----------------------+\n",
            "                                                                               \n",
            "+-----------------------------------------------------------------------------+\n",
            "| Processes:                                                       GPU Memory |\n",
            "|  GPU       PID   Type   Process name                             Usage      |\n",
            "|=============================================================================|\n",
            "|  No running processes found                                                 |\n",
            "+-----------------------------------------------------------------------------+\n"
          ],
          "name": "stdout"
        }
      ]
    },
    {
      "cell_type": "code",
      "metadata": {
        "id": "pShMua6ztVj7",
        "colab_type": "code",
        "colab": {}
      },
      "source": [
        "import os\n",
        "import psutil\n",
        "\n",
        "def print_memsize():\n",
        "  process = psutil.Process(os.getpid())\n",
        "  print(f'{process.memory_info().rss / 1024**3:.5} GB')"
      ],
      "execution_count": 0,
      "outputs": []
    },
    {
      "cell_type": "code",
      "metadata": {
        "id": "egKePv4zfk3M",
        "colab_type": "code",
        "colab": {
          "base_uri": "https://localhost:8080/",
          "height": 35
        },
        "outputId": "17f1b3bc-f61f-4e8a-f64f-ac6cc9d4c630"
      },
      "source": [
        "print_memsize()"
      ],
      "execution_count": 14,
      "outputs": [
        {
          "output_type": "stream",
          "text": [
            "0.23012 GB\n"
          ],
          "name": "stdout"
        }
      ]
    },
    {
      "cell_type": "markdown",
      "metadata": {
        "id": "KS7kfyXRZsFx",
        "colab_type": "text"
      },
      "source": [
        "## (opcja) uruchomienie visdom server"
      ]
    },
    {
      "cell_type": "code",
      "metadata": {
        "id": "MPshctwRfmm9",
        "colab_type": "code",
        "colab": {}
      },
      "source": [
        "!python -m visdom.server -port 8890 -logging_level ERROR"
      ],
      "execution_count": 0,
      "outputs": []
    },
    {
      "cell_type": "markdown",
      "metadata": {
        "id": "DzYe2wPrjM-c",
        "colab_type": "text"
      },
      "source": [
        "# Wymagania\n",
        "\n",
        "Będziesz potrzebował [PyTorch](http://pytorch.org/), aby zbudować i wyszkolić modele, i [matplotlib](https://matplotlib.org/), aby wykreślić postęp treningu, a później zwizualizować wyniki koncentracji."
      ]
    },
    {
      "cell_type": "code",
      "metadata": {
        "id": "HapeGWyXjM-e",
        "colab_type": "code",
        "colab": {}
      },
      "source": [
        "import unicodedata\n",
        "import string\n",
        "import re\n",
        "import random\n",
        "import time\n",
        "import datetime\n",
        "import math\n",
        "import socket\n",
        "hostname = socket.gethostname()\n",
        "\n",
        "import torch\n",
        "import torch.nn as nn\n",
        "from torch.autograd import Variable\n",
        "from torch import optim\n",
        "import torch.nn.functional as F\n",
        "from torch.nn.utils.rnn import pad_packed_sequence, pack_padded_sequence\n",
        "from masked_cross_entropy import *\n",
        "\n",
        "import matplotlib.pyplot as plt\n",
        "import matplotlib.ticker as ticker\n",
        "import matplotlib as mpl\n",
        "import numpy as np\n",
        "# %matplotlib inline\n",
        "\n",
        "from pathlib import Path\n",
        "import pickle\n",
        "import warnings\n",
        "\n",
        "import io\n",
        "import torchvision\n",
        "from PIL import Image\n",
        "\n",
        "from torchnet.logger import VisdomPlotLogger, VisdomLogger, VisdomTextLogger\n",
        "from tqdm import tqdm\n",
        "import io\n",
        "import json\n",
        "import visdom"
      ],
      "execution_count": 0,
      "outputs": []
    },
    {
      "cell_type": "markdown",
      "metadata": {
        "id": "Qk60_vl_jM-h",
        "colab_type": "text"
      },
      "source": [
        "Tutaj również zdefiniujemy stałą, aby zdecydować, czy użyć GPU (w szczególności z CUDA), czy procesora. **Jeśli nie masz GPU, ustaw tę wartość na `False`**. Później, kiedy stworzymy tensory, zmienna ta będzie używana do decydowania o tym, czy zachowamy je na procesorze, czy przeniesiemy na GPU."
      ]
    },
    {
      "cell_type": "code",
      "metadata": {
        "id": "TXlXt0dGjM-h",
        "colab_type": "code",
        "colab": {}
      },
      "source": [
        "USE_CUDA = True"
      ],
      "execution_count": 0,
      "outputs": []
    },
    {
      "cell_type": "markdown",
      "metadata": {
        "id": "FCNzsA7ujM-k",
        "colab_type": "text"
      },
      "source": [
        "# Ładowanie plików danych\n",
        "\n",
        "Dane do tego projektu to zbiór wielu tysięcy par tłumaczeń z angielskiego na polski.\n",
        "\n",
        "[To pytanie na temat Open Data Stack Exchange](http://opendata.stackexchange.com/questions/3888/dataset-of-sentences-translated-into-many-languages) kieruje na serwis ze zbiorem tłumaczeń http://tatoeba.org/ który ma pliki do pobrania dostępne na stronie http://tatoeba.org/eng/downloads - a dodatkowo, ktoś wykonał pracę polegającą na podzieleniu par językowych na poszczególne pliki tekstowe tutaj: http://www.manythings.org/anki/\n",
        "\n",
        "Potrzebny angielsko-polski plik pobierz używając naszego notebooka konfiguracyjnego. Plik składa się z oddzielonych tabulatorami par tłumaczeń:\n",
        "\n",
        "```\n",
        "The cat is black.     Kot jest czarny.\n",
        "```"
      ]
    },
    {
      "cell_type": "markdown",
      "metadata": {
        "id": "DJoHRQsMjM-k",
        "colab_type": "text"
      },
      "source": [
        "Podobnie jak w przypadku kodowania znakowego, używanego w tutorialach \"char-rnn-\\*\", będziemy reprezentować każde słowo w języku jako wektor *1 z n* (ang. one-hot), czyli gigantyczny wektor zer, z wyjątkiem jednej jedynki (na indeksie słowa). W porównaniu z kilkoma dziesiątkami liter, które mogą istnieć w języku, słów istnieje o wiele wiele więcej, więc i wektor kodowania jest znacznie większy. Trochę jednak oszukamy i strymujemy dane, aby użyć tylko kilku tysięcy słów na język."
      ]
    },
    {
      "cell_type": "markdown",
      "metadata": {
        "id": "eVdtUNzxjM-l",
        "colab_type": "text"
      },
      "source": [
        "### Indeksowanie słów\n",
        "\n",
        "Będziemy potrzebować unikalny indeks dla każdego słowa, który później posłuży jako dane wejściowe i wyjściowe. Aby śledzić to wszystko, użyjemy klasę pomocniczą o nazwie `Lang`, która ma słowniki słowo &rarr; indeks (`word2index`) i indeks &rarr; słowo (`index2word`), a także licznik każdego słowa `word2count`, który można użyć do późniejszego zastąpienia rzadko występujących słów."
      ]
    },
    {
      "cell_type": "code",
      "metadata": {
        "id": "38CWcoJijM-m",
        "colab_type": "code",
        "colab": {}
      },
      "source": [
        "PAD_token = 0\n",
        "SOS_token = 1\n",
        "EOS_token = 2\n",
        "\n",
        "class Lang:\n",
        "    def __init__(self, name):\n",
        "        self.name = name\n",
        "        self.trimmed = False\n",
        "        self.word2index = {}\n",
        "        self.word2count = {}\n",
        "        self.index2word = {0: \"PAD\", 1: \"SOS\", 2: \"EOS\"}\n",
        "        self.n_words = 3 # Count default tokens\n",
        "\n",
        "    def index_words(self, sentence):\n",
        "        for word in sentence.split(' '):\n",
        "            self.index_word(word)\n",
        "\n",
        "    def index_word(self, word):\n",
        "        if word not in self.word2index:\n",
        "            self.word2index[word] = self.n_words\n",
        "            self.word2count[word] = 1\n",
        "            self.index2word[self.n_words] = word\n",
        "            self.n_words += 1\n",
        "        else:\n",
        "            self.word2count[word] += 1\n",
        "\n",
        "    # Remove words below a certain count threshold\n",
        "    def trim(self, min_count):\n",
        "        if self.trimmed: return\n",
        "        self.trimmed = True\n",
        "        \n",
        "        keep_words = []\n",
        "        \n",
        "        for k, v in self.word2count.items():\n",
        "            if v >= min_count:\n",
        "                keep_words.append(k)\n",
        "\n",
        "        print('keep_words %s / %s = %.4f' % (\n",
        "            len(keep_words), len(self.word2index), len(keep_words) / len(self.word2index)\n",
        "        ))\n",
        "\n",
        "        # Reinitialize dictionaries\n",
        "        self.word2index = {}\n",
        "        self.word2count = {}\n",
        "        self.index2word = {0: \"PAD\", 1: \"SOS\", 2: \"EOS\"}\n",
        "        self.n_words = 3 # Count default tokens\n",
        "\n",
        "        for word in keep_words:\n",
        "            self.index_word(word)"
      ],
      "execution_count": 0,
      "outputs": []
    },
    {
      "cell_type": "markdown",
      "metadata": {
        "id": "MrjDYa90jM-o",
        "colab_type": "text"
      },
      "source": [
        "### Czytanie i dekodowanie plików\n",
        "\n",
        "Wszystkie pliki są w Unicode, dla uproszczenia robimy wszystko małymi literami i wycinamy większość znaków interpunkcyjnych."
      ]
    },
    {
      "cell_type": "code",
      "metadata": {
        "id": "y-uANRyqjM-p",
        "colab_type": "code",
        "outputId": "f77181f0-f674-4fb8-ddcf-8cd2327df434",
        "colab": {
          "base_uri": "https://localhost:8080/",
          "height": 35
        }
      },
      "source": [
        "# Lowercase, trim, and remove non-letter characters\n",
        "def normalize_string(s):\n",
        "    s = s.lower().strip()\n",
        "    s = re.sub(r\"([,.!?])\", r\" \\1 \", s)\n",
        "    s = re.sub(r\"\\s+\", r\" \", s).strip()\n",
        "    return s\n",
        "  \n",
        "normalize_string('ala ma kota ąćęłńóśźż ĄĆĘŁŃÓŚŹŻ')"
      ],
      "execution_count": 4,
      "outputs": [
        {
          "output_type": "execute_result",
          "data": {
            "text/plain": [
              "'ala ma kota ąćęłńóśźż ąćęłńóśźż'"
            ]
          },
          "metadata": {
            "tags": []
          },
          "execution_count": 4
        }
      ]
    },
    {
      "cell_type": "markdown",
      "metadata": {
        "id": "L3_B-7AgjM-r",
        "colab_type": "text"
      },
      "source": [
        "Aby odczytać plik danych, podzielimy go na linie, a następnie podzielimy linie na pary. Wszystkie pliki są \"angielski  &rarr; inny język\", więc jeśli chcemy przetłumaczyć z innego języka &rarr; angielski, dodana została flaga `reverse`, aby odwrócić pary."
      ]
    },
    {
      "cell_type": "code",
      "metadata": {
        "id": "Be5PbEG6jM-r",
        "colab_type": "code",
        "colab": {}
      },
      "source": [
        "def read_langs(lang1, lang2, reverse=False):\n",
        "    print(\"Reading lines...\")\n",
        "\n",
        "    # Read the file and split into lines\n",
        "    filename = '/content/data/old_polish_cars/%s-%s.txt' % (lang1, lang2)\n",
        "    lines = open(filename).read().strip().split('\\n')\n",
        "\n",
        "    # Split every line into pairs and normalize\n",
        "    pairs = [[normalize_string(s) for s in l.split('\\t')] for l in lines]\n",
        "\n",
        "    # Reverse pairs, make Lang instances\n",
        "    if reverse:\n",
        "        pairs = [list(reversed(p)) for p in pairs]\n",
        "        input_lang = Lang(lang2)\n",
        "        output_lang = Lang(lang1)\n",
        "    else:\n",
        "        input_lang = Lang(lang1)\n",
        "        output_lang = Lang(lang2)\n",
        "\n",
        "    return input_lang, output_lang, pairs"
      ],
      "execution_count": 0,
      "outputs": []
    },
    {
      "cell_type": "code",
      "metadata": {
        "id": "gbR0LICajM-u",
        "colab_type": "code",
        "colab": {}
      },
      "source": [
        "# MIN_LENGTH = 3\n",
        "# MAX_LENGTH = 25\n",
        "MIN_LENGTH = 1\n",
        "MAX_LENGTH = 100\n",
        "\n",
        "def filter_pairs(pairs):\n",
        "    filtered_pairs = []\n",
        "    for pair in pairs:\n",
        "        if len(pair[0]) >= MIN_LENGTH and len(pair[0]) <= MAX_LENGTH \\\n",
        "            and len(pair[1]) >= MIN_LENGTH and len(pair[1]) <= MAX_LENGTH:\n",
        "                filtered_pairs.append(pair)\n",
        "    return filtered_pairs"
      ],
      "execution_count": 0,
      "outputs": []
    },
    {
      "cell_type": "markdown",
      "metadata": {
        "id": "3d4PanL1jM-x",
        "colab_type": "text"
      },
      "source": [
        "Pełny proces przygotowywania danych to:\n",
        "\n",
        "* Odczytaj plik tekstowy i podziel na linie, \n",
        "* Podziel linie na pary i znormalizuj, \n",
        "* Przefiltruj do par o maksymalnej długości\n",
        "* Stwórz listy słów ze zdań w parach"
      ]
    },
    {
      "cell_type": "code",
      "metadata": {
        "id": "gMHfcrOhjM-x",
        "colab_type": "code",
        "outputId": "6ebd2ca7-2f37-42fb-e786-6dff7fa3f734",
        "colab": {
          "base_uri": "https://localhost:8080/",
          "height": 106
        }
      },
      "source": [
        "def prepare_data(lang1_name, lang2_name, reverse=False):\n",
        "    input_lang, output_lang, pairs = read_langs(lang1_name, lang2_name, reverse)\n",
        "    print(\"Read %d sentence pairs\" % len(pairs))\n",
        "    \n",
        "    pairs = filter_pairs(pairs)\n",
        "    print(\"Filtered to %d pairs\" % len(pairs))\n",
        "    \n",
        "    print(\"Indexing words...\")\n",
        "    for pair in pairs:\n",
        "        input_lang.index_words(pair[0])\n",
        "        output_lang.index_words(pair[1])\n",
        "    \n",
        "    print('Indexed %d words in input language, %d words in output' % (input_lang.n_words, output_lang.n_words))\n",
        "    return input_lang, output_lang, pairs\n",
        "\n",
        "input_lang, output_lang, pairs = prepare_data('eng', 'pol', False)"
      ],
      "execution_count": 7,
      "outputs": [
        {
          "output_type": "stream",
          "text": [
            "Reading lines...\n",
            "Read 36856 sentence pairs\n",
            "Filtered to 36756 pairs\n",
            "Indexing words...\n",
            "Indexed 8235 words in input language, 20176 words in output\n"
          ],
          "name": "stdout"
        }
      ]
    },
    {
      "cell_type": "markdown",
      "metadata": {
        "id": "BjKDGSYHjM-2",
        "colab_type": "text"
      },
      "source": [
        "### Filtrowanie słowników\n",
        "\n",
        "Aby coś wytrenować w krócej niż godzinę, strymujmy nieco zestaw danych. Najpierw użyjemy funkcję `trim` w każdym języku (zdefiniowaną wcześniej), aby zachować tylko słowa, które powtarzają się przynajmniej pewną liczbę razy w zestawie danych (co zmniejszy trudność nauczenia się poprawnego tłumaczenia słów, które nie występują często)."
      ]
    },
    {
      "cell_type": "code",
      "metadata": {
        "id": "L8uPxAvUjM-2",
        "colab_type": "code",
        "outputId": "58896138-5ba3-4fbc-a559-54f2550ff498",
        "colab": {
          "base_uri": "https://localhost:8080/",
          "height": 52
        }
      },
      "source": [
        "MIN_COUNT = 3  # 5\n",
        "# MIN_COUNT = 2\n",
        "\n",
        "input_lang.trim(MIN_COUNT)\n",
        "output_lang.trim(MIN_COUNT)"
      ],
      "execution_count": 8,
      "outputs": [
        {
          "output_type": "stream",
          "text": [
            "keep_words 3713 / 8232 = 0.4510\n",
            "keep_words 6401 / 20173 = 0.3173\n"
          ],
          "name": "stdout"
        }
      ]
    },
    {
      "cell_type": "markdown",
      "metadata": {
        "id": "_batj5qjjM-5",
        "colab_type": "text"
      },
      "source": [
        "### Filtrowanie par\n",
        "\n",
        "Teraz wrócimy do zbioru wszystkich par zdań i usuniemy te z nieznanymi słowami."
      ]
    },
    {
      "cell_type": "code",
      "metadata": {
        "id": "3Ht7UIxjjM-6",
        "colab_type": "code",
        "outputId": "c9958298-0b20-46f3-8f43-cb7dc5398368",
        "colab": {
          "base_uri": "https://localhost:8080/",
          "height": 35
        }
      },
      "source": [
        "keep_pairs = []\n",
        "\n",
        "for pair in pairs:\n",
        "    input_sentence = pair[0]\n",
        "    output_sentence = pair[1]\n",
        "    keep_input = True\n",
        "    keep_output = True\n",
        "    \n",
        "    for word in input_sentence.split(' '):\n",
        "        if word not in input_lang.word2index:\n",
        "            keep_input = False\n",
        "            break\n",
        "\n",
        "    for word in output_sentence.split(' '):\n",
        "        if word not in output_lang.word2index:\n",
        "            keep_output = False\n",
        "            break\n",
        "\n",
        "    # Remove if pair doesn't match input and output conditions\n",
        "    if keep_input and keep_output:\n",
        "        keep_pairs.append(pair)\n",
        "\n",
        "print(\"Trimmed from %d pairs to %d, %.4f of total\" % (len(pairs), len(keep_pairs), len(keep_pairs) / len(pairs)))\n",
        "pairs = keep_pairs"
      ],
      "execution_count": 9,
      "outputs": [
        {
          "output_type": "stream",
          "text": [
            "Trimmed from 36756 pairs to 23041, 0.6269 of total\n"
          ],
          "name": "stdout"
        }
      ]
    },
    {
      "cell_type": "markdown",
      "metadata": {
        "id": "KBXR6h89jM-9",
        "colab_type": "text"
      },
      "source": [
        "## Zamiana danych treningowych na tensory\n",
        "\n",
        "Aby trenować, musimy przekształcić zdania w coś, co sieć neuronowa może zrozumieć, co oczywiście oznacza liczby. Każde zdanie zostanie podzielone na słowa i przekształcone w Tensor, gdzie każde słowo zostanie zastąpione indeksem (z wcześniej przygotowanych indeksów językowych). Podczas tworzenia tych tensorów dodamy również token EOS, aby zasygnalizować, że zdanie jest skończone.\n",
        "\n",
        "![](https://i.imgur.com/LzocpGH.png)"
      ]
    },
    {
      "cell_type": "code",
      "metadata": {
        "id": "wtOXR7IkjM--",
        "colab_type": "code",
        "colab": {}
      },
      "source": [
        "# Return a list of indexes, one for each word in the sentence, plus EOS\n",
        "def indexes_from_sentence(lang, sentence):\n",
        "    return [lang.word2index[word] for word in sentence.split(' ')] + [EOS_token]"
      ],
      "execution_count": 0,
      "outputs": []
    },
    {
      "cell_type": "markdown",
      "metadata": {
        "id": "d4cwKAbhjM_D",
        "colab_type": "text"
      },
      "source": [
        "Możemy lepiej wykorzystać GPU, trenując **wsady** (ang. batches) wielu sekwencji naraz, ale czyniąc to, pojawia się pytanie, jak radzić sobie z sekwencjami o różnych długościach. Prostym rozwiązaniem jest \"dopełnienie\" (ang. padding) krótszych zdań pewnym symbolem dopełnienia (w tym przypadku `0`) i ignorowanie tych dopełnionych miejsc podczas obliczania straty.\n",
        "\n",
        "![](https://i.imgur.com/gGlkEEF.png)"
      ]
    },
    {
      "cell_type": "code",
      "metadata": {
        "id": "X_n5XY_wjM_D",
        "colab_type": "code",
        "colab": {}
      },
      "source": [
        "# Pad a with the PAD symbol\n",
        "def pad_seq(seq, max_length):\n",
        "    seq += [PAD_token for i in range(max_length - len(seq))]\n",
        "    return seq"
      ],
      "execution_count": 0,
      "outputs": []
    },
    {
      "cell_type": "markdown",
      "metadata": {
        "id": "hjbE-NkajM_F",
        "colab_type": "text"
      },
      "source": [
        "Aby utworzyć zmienną dla pełnego wsadu wejść (i docelowych wyjść), pobieramy losową próbkę sekwencji i dopełniamy je wszystkie do długości najdłuższej sekwencji. Będziemy śledzić długości wszystkich wsadów, aby później usunąć dopełnienie.\n",
        "\n",
        "Inicjowanie `LongTensor` za pomocą tablicy (wsadów) tablic (sekwencyj) daje nam  `(batch_size x max_len)` tensor - wybór pierwszego wymiaru daje pojedynczy element, który jest pełną sekwencją. Podczas szkolenia modelu będziemy potrzebować jednego kroku naraz, więc przetransponujmy go do `(max_len x batch_size)`. Teraz wybieranie wzdłuż pierwszego wymiaru zwraca jeden krok poprzez wsad.\n",
        "\n",
        "\n",
        "![](https://github.com/wojtekcz/ml_seminars/blob/master/wyklad_nmt/images2/batch-transpose.png?raw=true)"
      ]
    },
    {
      "cell_type": "code",
      "metadata": {
        "id": "QV-eXwgPjM_G",
        "colab_type": "code",
        "colab": {}
      },
      "source": [
        "def random_batch(batch_size):\n",
        "    input_seqs = []\n",
        "    target_seqs = []\n",
        "\n",
        "    # Choose random pairs\n",
        "    for i in range(batch_size):\n",
        "        pair = random.choice(pairs)\n",
        "        input_seqs.append(indexes_from_sentence(input_lang, pair[0]))\n",
        "        target_seqs.append(indexes_from_sentence(output_lang, pair[1]))\n",
        "\n",
        "    # Zip into pairs, sort by length (descending), unzip\n",
        "    seq_pairs = sorted(zip(input_seqs, target_seqs), key=lambda p: len(p[0]), reverse=True)\n",
        "    input_seqs, target_seqs = zip(*seq_pairs)\n",
        "    \n",
        "    # For input and target sequences, get array of lengths and pad with 0s to max length\n",
        "    input_lengths = [len(s) for s in input_seqs]\n",
        "    input_padded = [pad_seq(s, max(input_lengths)) for s in input_seqs]\n",
        "    target_lengths = [len(s) for s in target_seqs]\n",
        "    target_padded = [pad_seq(s, max(target_lengths)) for s in target_seqs]\n",
        "\n",
        "    # Turn padded arrays into (batch_size x max_len) tensors, transpose into (max_len x batch_size)\n",
        "    input_var = Variable(torch.LongTensor(input_padded)).transpose(0, 1)\n",
        "    target_var = Variable(torch.LongTensor(target_padded)).transpose(0, 1)\n",
        "    \n",
        "    if USE_CUDA:\n",
        "        input_var = input_var.cuda()\n",
        "        target_var = target_var.cuda()\n",
        "        \n",
        "    return input_var, input_lengths, target_var, target_lengths"
      ],
      "execution_count": 0,
      "outputs": []
    },
    {
      "cell_type": "markdown",
      "metadata": {
        "id": "4mFgcJcnjM_I",
        "colab_type": "text"
      },
      "source": [
        "Możemy przetestować to, aby zobaczyć, że zwróci on tensor `(max_len x batch_size)` dla zdań źródłowych i docelowych, wraz z odpowiadającą im listą długości sekwencji (które wykorzystamy później do maskowania)."
      ]
    },
    {
      "cell_type": "code",
      "metadata": {
        "id": "SRQMhAnnjM_J",
        "colab_type": "code",
        "outputId": "f479614e-a365-4b14-95a7-0dade9be180d",
        "colab": {
          "base_uri": "https://localhost:8080/",
          "height": 301
        }
      },
      "source": [
        "random_batch(2)"
      ],
      "execution_count": 13,
      "outputs": [
        {
          "output_type": "execute_result",
          "data": {
            "text/plain": [
              "(tensor([[ 88,  41],\n",
              "         [403, 647],\n",
              "         [400,   4],\n",
              "         [ 15,   2],\n",
              "         [195,   0],\n",
              "         [677,   0],\n",
              "         [428,   0],\n",
              "         [338,   0],\n",
              "         [  4,   0],\n",
              "         [  2,   0]], device='cuda:0'), [10, 4], tensor([[1065,  802],\n",
              "         [ 968,    4],\n",
              "         [ 216,    2],\n",
              "         [  60,    0],\n",
              "         [ 850,    0],\n",
              "         [   4,    0],\n",
              "         [   2,    0]], device='cuda:0'), [7, 3])"
            ]
          },
          "metadata": {
            "tags": []
          },
          "execution_count": 13
        }
      ]
    },
    {
      "cell_type": "markdown",
      "metadata": {
        "id": "YKx3SlwgjM_K",
        "colab_type": "text"
      },
      "source": [
        "# Budowanie modeli"
      ]
    },
    {
      "cell_type": "markdown",
      "metadata": {
        "id": "LFIBysF3jM_L",
        "colab_type": "text"
      },
      "source": [
        "## Koder\n",
        "\n",
        "<img src=\"https://github.com/spro/practical-pytorch/blob/master/seq2seq-translation/images/encoder-network.png?raw=true\" style=\"float: right\" />\n",
        "\n",
        "Koder pobierze wsad sekwencji słów, `LongTensor` o rozmiarze `(max_len x batch_size)` i odda kodowanie dla każdego słowa, `FloatTensor` o rozmiarze `(max_len x batch_size x hidden_size)`.\n",
        "\n",
        "Słowne dane wejściowe są podawane przez [warstwę osadzającą `nn.Embedding`](http://pytorch.org/docs/nn.html#embedding) w celu utworzenia osadzenia dla każdego słowa, o rozmiarze `seq_len x hidden_size` (jakby to był wsad słów). Jest to zmieniane na `seq_len x 1 x hidden_size`, aby pasowało do oczekiwanego wejścia [warstwy GRU `nn.GRU`](http://pytorch.org/docs/nn.html#gru). GRU zwróci zarówno sekwencję wyjściową o rozmiarze `seq_len x hidden_size` jak i ukryty stan.\n",
        "\n"
      ]
    },
    {
      "cell_type": "code",
      "metadata": {
        "id": "CWtfwbnwjM_M",
        "colab_type": "code",
        "colab": {}
      },
      "source": [
        "class EncoderRNN(nn.Module):\n",
        "    def __init__(self, input_size, hidden_size, n_layers=1, dropout=0.1):\n",
        "        super(EncoderRNN, self).__init__()\n",
        "        \n",
        "        self.input_size = input_size\n",
        "        self.hidden_size = hidden_size\n",
        "        self.n_layers = n_layers\n",
        "        self.dropout = dropout\n",
        "        \n",
        "        self.embedding = nn.Embedding(input_size, hidden_size)\n",
        "        self.gru = nn.GRU(hidden_size, hidden_size, n_layers, dropout=self.dropout, bidirectional=True)\n",
        "        \n",
        "    def forward(self, input_seqs, input_lengths, hidden=None):\n",
        "        # Note: we run this all at once (over multiple batches of multiple sequences)\n",
        "        embedded = self.embedding(input_seqs)\n",
        "        packed = torch.nn.utils.rnn.pack_padded_sequence(embedded, input_lengths)\n",
        "        outputs, hidden = self.gru(packed, hidden)\n",
        "        outputs, output_lengths = torch.nn.utils.rnn.pad_packed_sequence(outputs) # unpack (back to padded)\n",
        "        outputs = outputs[:, :, :self.hidden_size] + outputs[:, : ,self.hidden_size:] # Sum bidirectional outputs\n",
        "        return outputs, hidden"
      ],
      "execution_count": 0,
      "outputs": []
    },
    {
      "cell_type": "markdown",
      "metadata": {
        "id": "BLWVsv1VjM_O",
        "colab_type": "text"
      },
      "source": [
        "## Dekoder z koncentracją"
      ]
    },
    {
      "cell_type": "markdown",
      "metadata": {
        "id": "yHtNHu50jM_O",
        "colab_type": "text"
      },
      "source": [
        "### Interpretacja modelu Bahdanau\n",
        "\n",
        "Publikacja [Neural Machine Translation by Jointly Learning to Align and Translate](https://arxiv.org/abs/1409.0473) (Dzmitry Bahdanau, Kyunghyun Cho, Yoshua Bengio) wprowadziła ideę użycia koncentracji przy tłumaczeniu seq2seq.\n",
        "\n",
        "Każde wyjście dekodera jest uwarunkowane poprzednimi wyjściami i pewnym $\\mathbf x$, gdzie $\\mathbf x$ składa się z bieżącego stanu ukrytego (który bierze pod uwagę poprzednie wyjścia) i \"kontekstu\" koncentracji, który jest obliczany poniżej. Funkcja $g$ jest w pełni połączoną warstwą z nieliniową aktywacją, która jako dane wejściowe przyjmuje połączone wartości $y_{i-1}$, $s_i$ i $c_i$.\n",
        "\n",
        "\n",
        "$$\n",
        "p(y_i \\mid \\{y_1,...,y_{i-1}\\},\\mathbf{x}) = g(y_{i-1}, s_i, c_i)\n",
        "$$\n",
        "\n",
        "Bieżący stan ukryty $s_i$ jest obliczany przez RNN $f$ z ostatnim ukrytym stanem $s_{i-1}$, ostatnią wartością wyjściową dekodera $y_{i-1}$  i wektorem kontekstu $c_i$.\n",
        "W kodzie RNN będzie warstwą `nn.GRU`, ukryty stan $s_i$ będzie nazywany `hidden`, wyjście $y_i$ zwane `output` oraz kontekst $c_i$ zwany `context`.\n",
        "\n",
        "\n",
        "$$\n",
        "s_i = f(s_{i-1}, y_{i-1}, c_i)\n",
        "$$\n",
        "\n",
        "Wektor kontekstu $c_i$ jest sumą ważoną wszystkich wyników kodera, gdzie każda waga $a_{ij}$ jest ilością \"koncentracji\" przekazanej na odpowiednie wyjście kodera $h_j$.\n",
        "\n",
        "\n",
        "$$\n",
        "c_i = \\sum_{j=1}^{T_x} a_{ij} h_j\n",
        "$$\n",
        "\n",
        "... gdzie każda waga $a_{ij}$ to znormalizowana (poprzez wszystkie kroki) \"energia\" koncentracji $e_{ij}$ ...\n",
        "\n",
        "$$\n",
        "a_{ij} = \\dfrac{exp(e_{ij})}{\\sum_{k=1}^{T} exp(e_{ik})}\n",
        "$$\n",
        "\n",
        "... gdzie każda energia koncentracji jest obliczana za pomocą funkcji $a$ (takiej jak inna warstwa liniowa) przy użyciu ostatniego ukrytego stanu $s_{i-1}$ i tego konkretnego wyjścia kodera $h_j$:\n",
        "\n",
        "$$\n",
        "e_{ij} = a(s_{i-1}, h_j)\n",
        "$$"
      ]
    },
    {
      "cell_type": "markdown",
      "metadata": {
        "id": "tVGfY39sjM_O",
        "colab_type": "text"
      },
      "source": [
        "### Interpretacja modelu Luonga"
      ]
    },
    {
      "cell_type": "markdown",
      "metadata": {
        "id": "079wjeknjM_P",
        "colab_type": "text"
      },
      "source": [
        "[Effective Approaches to Attention-based Neural Machine Translation](https://arxiv.org/abs/1508.04025) autorstwa Luonga i innych opisuje kilka modeli koncentracji, które oferują ulepszenia i uproszczenia. Autorzy opisują kilka modeli \"globalnej koncentracji\", rozróżnianych przez sposób obliczania wyników koncentracji.\n",
        "\n",
        "Ogólna forma obliczania koncentracji opiera się na ukrytym stanie po stronie docelowej (dekodera) i odpowiednim stanie bocznym źródła (kodera), znormalizowanym dla wszystkich stanów, aby uzyskać wartości zsumowane do 1:\n",
        "\n",
        "$$\n",
        "a_t(s) = align(h_t, \\bar h_s)  = \\dfrac{exp(score(h_t, \\bar h_s))}{\\sum_{s'} exp(score(h_t, \\bar h_{s'}))}\n",
        "$$\n",
        "\n",
        "Konkretną funkcją \"oceny\" (score), która porównuje dwa stany, jest albo *dot*, iloczyn skalarny między stanami; *general*, iloczyn skalarny między ukrytym stanem dekodera a liniową transformacją stanu kodera; lub *concat*, iloczyn skalarny między nowym parametrem $v_a$ a liniową transformacją stanów połączonych ze sobą.\n",
        "\n",
        "\n",
        "$$\n",
        "score(h_t, \\bar h_s) =\n",
        "\\begin{cases}\n",
        "h_t ^\\top \\bar h_s & dot \\\\\n",
        "h_t ^\\top \\textbf{W}_a \\bar h_s & general \\\\\n",
        "v_a ^\\top \\textbf{W}_a [ h_t ; \\bar h_s ] & concat\n",
        "\\end{cases}\n",
        "$$\n",
        "\n",
        "Modularna definicja tych funkcji ewaluacji daje nam możliwość zbudowania specjalnego modułu koncentracji, który może przełączać się między różnymi metodami oceny. Wejście do tego modułu to zawsze stan ukryty (dekodera RNN) i zestaw wyjść kodera.\n"
      ]
    },
    {
      "cell_type": "markdown",
      "metadata": {
        "id": "8tvHPEhbjM_Q",
        "colab_type": "text"
      },
      "source": [
        "### Implementacja modułu koncentracji"
      ]
    },
    {
      "cell_type": "code",
      "metadata": {
        "id": "tvQQ9_O6jM_Q",
        "colab_type": "code",
        "colab": {}
      },
      "source": [
        "class Attn(nn.Module):\n",
        "    def __init__(self, method, hidden_size):\n",
        "        super(Attn, self).__init__()\n",
        "        \n",
        "        self.method = method\n",
        "        self.hidden_size = hidden_size\n",
        "        \n",
        "        if self.method == 'general':\n",
        "            self.attn = nn.Linear(self.hidden_size, hidden_size)\n",
        "\n",
        "        elif self.method == 'concat':\n",
        "            self.attn = nn.Linear(self.hidden_size * 2, hidden_size)\n",
        "            self.v = nn.Parameter(torch.FloatTensor(1, hidden_size))\n",
        "\n",
        "#     def forward(self, hidden, encoder_outputs):\n",
        "#         max_len = encoder_outputs.size(0)\n",
        "#         this_batch_size = encoder_outputs.size(1)\n",
        "\n",
        "#         # Create variable to store attention energies\n",
        "#         attn_energies = Variable(torch.zeros(this_batch_size, max_len)) # B x S\n",
        "\n",
        "#         if USE_CUDA:\n",
        "#             attn_energies = attn_energies.cuda()\n",
        "\n",
        "#         # For each batch of encoder outputs\n",
        "#         for b in range(this_batch_size):\n",
        "#             # Calculate energy for each encoder output\n",
        "#             for i in range(max_len):\n",
        "#                 attn_energies[b, i] = self.score(hidden[:, b], encoder_outputs[i, b].unsqueeze(0))\n",
        "\n",
        "#         # Normalize energies to weights in range 0 to 1, resize to 1 x B x S\n",
        "#         return F.softmax(attn_energies, dim=-1).unsqueeze(1)\n",
        "\n",
        "    # batched seq2seq: Compute attention as matrix ops instead of for loops #83\n",
        "    # https://github.com/spro/practical-pytorch/pull/83\n",
        "    # works for attn methods general and concat\n",
        "    def forward(self, hidden, encoder_outputs):\n",
        "        energy = self.attn(encoder_outputs).transpose(0, 1)  # S X B X N -> B X S X N\n",
        "        e = energy.bmm(hidden.transpose(0, 1).transpose(1, 2)) # B X S X 1\n",
        "        attn_energies = e.squeeze(2)  # B X S\n",
        "        return F.softmax(attn_energies, 1).unsqueeze(1)  # B X 1 X S      \n",
        "    \n",
        "    def score(self, hidden, encoder_output):\n",
        "        if self.method == 'dot':\n",
        "            energy = torch.dot(hidden.view(-1), encoder_output.view(-1))\n",
        "        elif self.method == 'general':\n",
        "            energy = self.attn(encoder_output)\n",
        "            energy = torch.dot(hidden.view(-1), energy.view(-1))\n",
        "        elif self.method == 'concat':\n",
        "            energy = self.attn(torch.cat((hidden, encoder_output), 1))\n",
        "            energy = torch.dot(self.v.view(-1), energy.view(-1))\n",
        "        return energy"
      ],
      "execution_count": 0,
      "outputs": []
    },
    {
      "cell_type": "markdown",
      "metadata": {
        "id": "CdQV7jCLjM_R",
        "colab_type": "text"
      },
      "source": [
        "### Implementacja modelu Bahdanau\n",
        "\n",
        "Podsumowując, nasz dekoder powinien składać się z czterech głównych części - warstwy osadzającej, zamieniającej słowo wejściowe w wektor; warstwy do obliczenia energii koncentracji na wyjście kodera; warstwy RNN; i warstwt wyjściowej.\n",
        "\n",
        "Wejścia dekodera to ostatni ukryty stan RNN $s_{i-1}$, ostatnie wyjście $y_{i-1}$ oraz wszystkie wyjścia kodera $h_*$.\n",
        "\n",
        "* warstwa osadzająca z wejściami $y_{i-1}$\n",
        "    * `embedded = embedding(last_rnn_output)`\n",
        "* warstwa koncentracji $a$ z wejściami $(s_{i-1}, h_j)$ i wyjściami $e_{ij}$, znormalizowanymi w celu utworzenia $a_{ij}$\n",
        "    * `attn_energies[j] = attn_layer(last_hidden, encoder_outputs[j])`\n",
        "    * `attn_weights = normalize(attn_energies)`\n",
        "* wektor kontekstowy $c_i$ jako średnia ważona wyjść kodera\n",
        "    * `context = sum(attn_weights * encoder_outputs)`\n",
        "* warstwa (warstwy) RNN $f$ z wejściami $(s_{i-1}, y_{i-1}, c_i)$ i wewnętrznym stanem ukrytym, oddaje $s_i$\n",
        "    * `rnn_input = concat(embedded, context)`\n",
        "    * `rnn_output, rnn_hidden = rnn(rnn_input, last_hidden)`\n",
        "* warstwa wyjściowa $g$ z wejściami $(y_{i-1}, s_i, c_i)$, oddaje $y_i$\n",
        "    * `output = out(embedded, rnn_output, context)`\n",
        "\n"
      ]
    },
    {
      "cell_type": "code",
      "metadata": {
        "id": "Cq2AurVKjM_S",
        "colab_type": "code",
        "colab": {}
      },
      "source": [
        "class BahdanauAttnDecoderRNN(nn.Module):\n",
        "    def __init__(self, hidden_size, output_size, n_layers=1, dropout_p=0.1):\n",
        "        super(BahdanauAttnDecoderRNN, self).__init__()\n",
        "        \n",
        "        # Define parameters\n",
        "        self.hidden_size = hidden_size\n",
        "        self.output_size = output_size\n",
        "        self.n_layers = n_layers\n",
        "        self.dropout_p = dropout_p\n",
        "        self.max_length = max_length\n",
        "        \n",
        "        # Define layers\n",
        "        self.embedding = nn.Embedding(output_size, hidden_size)\n",
        "        self.dropout = nn.Dropout(dropout_p)\n",
        "        self.attn = Attn('concat', hidden_size)\n",
        "        self.gru = nn.GRU(hidden_size, hidden_size, n_layers, dropout=dropout_p)\n",
        "        self.out = nn.Linear(hidden_size, output_size)\n",
        "    \n",
        "    def forward(self, word_input, last_hidden, encoder_outputs):\n",
        "        # Note: we run this one step at a time\n",
        "        # TODO: FIX BATCHING\n",
        "        \n",
        "        # Get the embedding of the current input word (last output word)\n",
        "        word_embedded = self.embedding(word_input).view(1, 1, -1) # S=1 x B x N\n",
        "        word_embedded = self.dropout(word_embedded)\n",
        "        \n",
        "        # Calculate attention weights and apply to encoder outputs\n",
        "        attn_weights = self.attn(last_hidden[-1], encoder_outputs)\n",
        "        context = attn_weights.bmm(encoder_outputs.transpose(0, 1)) # B x 1 x N\n",
        "        context = context.transpose(0, 1) # 1 x B x N\n",
        "        \n",
        "        # Combine embedded input word and attended context, run through RNN\n",
        "        rnn_input = torch.cat((word_embedded, context), 2)\n",
        "        output, hidden = self.gru(rnn_input, last_hidden)\n",
        "        \n",
        "        # Final output layer\n",
        "        output = output.squeeze(0) # B x N\n",
        "        output = F.log_softmax(self.out(torch.cat((output, context), 1)), dim=-1)\n",
        "        \n",
        "        # Return final output, hidden state, and attention weights (for visualization)\n",
        "        return output, hidden, attn_weights"
      ],
      "execution_count": 0,
      "outputs": []
    },
    {
      "cell_type": "markdown",
      "metadata": {
        "id": "qq9r0senjM_U",
        "colab_type": "text"
      },
      "source": [
        "Teraz możemy zbudować dekoder, który podłącza ten moduł Attn za RNN, aby obliczyć wagi koncentracji, i zastosować te wagi do wyjść kodera, aby uzyskać wektor kontekstu.\n"
      ]
    },
    {
      "cell_type": "code",
      "metadata": {
        "id": "8WQ5ZymQjM_U",
        "colab_type": "code",
        "colab": {}
      },
      "source": [
        "class LuongAttnDecoderRNN(nn.Module):\n",
        "    def __init__(self, attn_model, hidden_size, output_size, n_layers=1, dropout=0.1):\n",
        "        super(LuongAttnDecoderRNN, self).__init__()\n",
        "\n",
        "        # Keep for reference\n",
        "        self.attn_model = attn_model\n",
        "        self.hidden_size = hidden_size\n",
        "        self.output_size = output_size\n",
        "        self.n_layers = n_layers\n",
        "        self.dropout = dropout\n",
        "\n",
        "        # Define layers\n",
        "        self.embedding = nn.Embedding(output_size, hidden_size)\n",
        "        self.embedding_dropout = nn.Dropout(dropout)\n",
        "        self.gru = nn.GRU(hidden_size, hidden_size, n_layers, dropout=dropout)\n",
        "        self.concat = nn.Linear(hidden_size * 2, hidden_size)\n",
        "        self.out = nn.Linear(hidden_size, output_size)\n",
        "        \n",
        "        # Choose attention model\n",
        "        if attn_model != 'none':\n",
        "            self.attn = Attn(attn_model, hidden_size)\n",
        "\n",
        "    def forward(self, input_seq, last_hidden, encoder_outputs):\n",
        "        # Note: we run this one step at a time\n",
        "\n",
        "        # Get the embedding of the current input word (last output word)\n",
        "        batch_size = input_seq.size(0)\n",
        "        embedded = self.embedding(input_seq)\n",
        "        embedded = self.embedding_dropout(embedded)\n",
        "        embedded = embedded.view(1, batch_size, self.hidden_size) # S=1 x B x N\n",
        "\n",
        "        # Get current hidden state from input word and last hidden state\n",
        "        rnn_output, hidden = self.gru(embedded, last_hidden)\n",
        "\n",
        "        # Calculate attention from current RNN state and all encoder outputs;\n",
        "        # apply to encoder outputs to get weighted average\n",
        "        attn_weights = self.attn(rnn_output, encoder_outputs)\n",
        "        context = attn_weights.bmm(encoder_outputs.transpose(0, 1)) # B x S=1 x N\n",
        "\n",
        "        # Attentional vector using the RNN hidden state and context vector\n",
        "        # concatenated together (Luong eq. 5)\n",
        "        rnn_output = rnn_output.squeeze(0) # S=1 x B x N -> B x N\n",
        "        context = context.squeeze(1)       # B x S=1 x N -> B x N\n",
        "        concat_input = torch.cat((rnn_output, context), 1)\n",
        "        concat_output = F.tanh(self.concat(concat_input))\n",
        "\n",
        "        # Finally predict next token (Luong eq. 6, without softmax)\n",
        "        output = self.out(concat_output)\n",
        "\n",
        "        # Return final output, hidden state, and attention weights (for visualization)\n",
        "        return output, hidden, attn_weights"
      ],
      "execution_count": 0,
      "outputs": []
    },
    {
      "cell_type": "markdown",
      "metadata": {
        "id": "4GlQFiBXjM_W",
        "colab_type": "text"
      },
      "source": [
        "## Testowanie modeli\n",
        "\n",
        "Aby upewnić się, że moduły kodera i dekodera działają (i współpracują ze sobą), wykonamy pełny test przy pomocy małego wsadu."
      ]
    },
    {
      "cell_type": "code",
      "metadata": {
        "id": "1Jl3G8A3jM_W",
        "colab_type": "code",
        "outputId": "7d378420-ba55-4a4d-b5aa-4363079bbaf3",
        "colab": {
          "base_uri": "https://localhost:8080/",
          "height": 52
        }
      },
      "source": [
        "small_batch_size = 3\n",
        "input_batches, input_lengths, target_batches, target_lengths = random_batch(small_batch_size)\n",
        "\n",
        "print('input_batches', input_batches.size()) # (max_len x batch_size)\n",
        "print('target_batches', target_batches.size()) # (max_len x batch_size)"
      ],
      "execution_count": 18,
      "outputs": [
        {
          "output_type": "stream",
          "text": [
            "input_batches torch.Size([8, 3])\n",
            "target_batches torch.Size([8, 3])\n"
          ],
          "name": "stdout"
        }
      ]
    },
    {
      "cell_type": "markdown",
      "metadata": {
        "id": "eFNjmpOZjM_Z",
        "colab_type": "text"
      },
      "source": [
        "Twórz modele o małym rozmiarze (można je kontrolować wzrokowo):"
      ]
    },
    {
      "cell_type": "code",
      "metadata": {
        "id": "nS0S6358jM_c",
        "colab_type": "code",
        "colab": {}
      },
      "source": [
        "small_hidden_size = 8\n",
        "small_n_layers = 2\n",
        "\n",
        "encoder_test = EncoderRNN(input_lang.n_words, small_hidden_size, small_n_layers)\n",
        "decoder_test = LuongAttnDecoderRNN('general', small_hidden_size, output_lang.n_words, small_n_layers)\n",
        "\n",
        "if USE_CUDA:\n",
        "    encoder_test.cuda()\n",
        "    decoder_test.cuda()"
      ],
      "execution_count": 0,
      "outputs": []
    },
    {
      "cell_type": "markdown",
      "metadata": {
        "id": "yJLRqxZQjM_g",
        "colab_type": "text"
      },
      "source": [
        "Aby przetestować, przepuść przez koder wsad wejściowy, aby uzyskać wyjścia kodera per-wsad:"
      ]
    },
    {
      "cell_type": "code",
      "metadata": {
        "id": "_biyc0SPjM_h",
        "colab_type": "code",
        "outputId": "05a0986b-e9ac-4867-cb75-8009244a3271",
        "colab": {
          "base_uri": "https://localhost:8080/",
          "height": 52
        }
      },
      "source": [
        "encoder_outputs, encoder_hidden = encoder_test(input_batches, input_lengths, None)\n",
        "\n",
        "print('encoder_outputs', encoder_outputs.size()) # max_len x batch_size x hidden_size\n",
        "print('encoder_hidden', encoder_hidden.size()) # n_layers * 2 x batch_size x hidden_size"
      ],
      "execution_count": 20,
      "outputs": [
        {
          "output_type": "stream",
          "text": [
            "encoder_outputs torch.Size([8, 3, 8])\n",
            "encoder_hidden torch.Size([4, 3, 8])\n"
          ],
          "name": "stdout"
        }
      ]
    },
    {
      "cell_type": "markdown",
      "metadata": {
        "id": "ambBXpSVjM_m",
        "colab_type": "text"
      },
      "source": [
        "Następnie zaczynając od tokena SOS, przepuść słowne tokeny przez dekoder, aby uzyskać każdy następny token. Zamiast robić to z całą sekwencją, robi się to po jednym tokenie na raz, aby wesprzeć używanie jego własnych prognoz do wykonania następnej prognozy. Będzie to tylko jeden krok, ale obejmujący cały wsad. Aby to zadziałało w przypadku krótkich sekwencji, wielkość wsadu będzie się zmniejszać za każdym razem."
      ]
    },
    {
      "cell_type": "code",
      "metadata": {
        "id": "j6Vc_e9fjM_n",
        "colab_type": "code",
        "outputId": "cd8eec29-fe2e-4e9a-b28b-e3dda59a797c",
        "colab": {
          "base_uri": "https://localhost:8080/",
          "height": 126
        }
      },
      "source": [
        "max_target_length = max(target_lengths)\n",
        "\n",
        "# Prepare decoder input and outputs\n",
        "decoder_input = Variable(torch.LongTensor([SOS_token] * small_batch_size))\n",
        "decoder_hidden = encoder_hidden[:decoder_test.n_layers] # Use last (forward) hidden state from encoder\n",
        "all_decoder_outputs = Variable(torch.zeros(max_target_length, small_batch_size, decoder_test.output_size))\n",
        "\n",
        "if USE_CUDA:\n",
        "    all_decoder_outputs = all_decoder_outputs.cuda()\n",
        "    decoder_input = decoder_input.cuda()\n",
        "\n",
        "# Run through decoder one time step at a time\n",
        "for t in range(max_target_length):\n",
        "    decoder_output, decoder_hidden, decoder_attn = decoder_test(\n",
        "        decoder_input, decoder_hidden, encoder_outputs\n",
        "    )\n",
        "    all_decoder_outputs[t] = decoder_output # Store this step's outputs\n",
        "    decoder_input = target_batches[t] # Next input is current target\n",
        "\n",
        "# Test masked cross entropy loss\n",
        "loss = masked_cross_entropy(\n",
        "    all_decoder_outputs.transpose(0, 1).contiguous(),\n",
        "    target_batches.transpose(0, 1).contiguous(),\n",
        "    target_lengths\n",
        ")\n",
        "print('loss', loss.item())"
      ],
      "execution_count": 21,
      "outputs": [
        {
          "output_type": "stream",
          "text": [
            "loss 8.775863647460938\n"
          ],
          "name": "stdout"
        },
        {
          "output_type": "stream",
          "text": [
            "/usr/local/lib/python3.6/dist-packages/torch/nn/functional.py:1320: UserWarning: nn.functional.tanh is deprecated. Use torch.tanh instead.\n",
            "  warnings.warn(\"nn.functional.tanh is deprecated. Use torch.tanh instead.\")\n",
            "/content/masked_cross_entropy.py:9: UserWarning: torch.range is deprecated in favor of torch.arange and will be removed in 0.5. Note that arange generates values in [start; end), not [start; end].\n",
            "  seq_range = torch.range(0, max_len - 1).long()\n"
          ],
          "name": "stderr"
        }
      ]
    },
    {
      "cell_type": "markdown",
      "metadata": {
        "id": "dXDizgVajM_p",
        "colab_type": "text"
      },
      "source": [
        "# Trening\n",
        "\n",
        "## Definiowanie iteracji treningu\n",
        "\n",
        "Aby trenować, najpierw przepuszczamy zdanie wejściowe przez koder słowo po słowie i śledzimy każde wyjście i ostatni stan ukryty. Następnie dekoder otrzymuje ostatni ukryty stan dekodera jako swój pierwszy ukryty stan, a token `<SOS>` jako pierwsze wejście. Następnie iterujemy aby prognozować następny token z dekodera.\n",
        "\n",
        "### \"Teacher Forcing\" kontra Scheduled Sampling\n",
        "\n",
        "\"Teacher Forcing\" lub pobieranie próbek o największej wiarygodności oznacza wykorzystanie rzeczywistych wyników docelowych jako każdego następnego wejścia podczas treningu. Alternatywą jest użycie własnego odgadnięcia przez dekoder jako następnego wejścia. Korzystanie z wymuszania nauczyciela może spowodować szybsze zbieganie się sieci, ale [kiedy wyszkolona sieć jest wykorzystywana, może wykazywać niestabilność](http://minds.jacobs-university.de/sites/default/files/uploads/papers/ESNTutorialRev.pdf).\n",
        "\n",
        "Możesz obserwować wyniki wymuszonych przez nauczyciela sieci, które czytają ze spójną gramatyką, ale oddalają się od prawidłowego tłumaczenia - możesz myśleć o tym, że nauczyłeś się słuchać instrukcji nauczyciela, nie ucząc się samodzielnego wyjścia.\n",
        "\n",
        "Rozwiązanie \"problemu\" teacher-forcing jest znane jako [Zaplanowane próbkowanie (ang. Scheduled Sampling)](https://arxiv.org/abs/1506.03099), które po prostu przełącza się między wartościami docelowymi i prognozowanymi wartościami podczas trenowania. My losowo wybieramy użycie wymuszania nauczyciela instrukcją if podczas treningu - czasami będziemy podawać rzeczywisty cel jako wejście (ignorując wyjście dekodera), czasami użyjemy wyjścia dekodera.\n"
      ]
    },
    {
      "cell_type": "code",
      "metadata": {
        "id": "LkxmrG0GjM_q",
        "colab_type": "code",
        "colab": {}
      },
      "source": [
        "def train(input_batches, input_lengths, target_batches, target_lengths, encoder, decoder, encoder_optimizer, decoder_optimizer, criterion, max_length=MAX_LENGTH):\n",
        "    \n",
        "    # Zero gradients of both optimizers\n",
        "    encoder_optimizer.zero_grad()\n",
        "    decoder_optimizer.zero_grad()\n",
        "    loss = 0 # Added onto for each word\n",
        "\n",
        "    # Run words through encoder\n",
        "    encoder_outputs, encoder_hidden = encoder(input_batches, input_lengths, None)\n",
        "    \n",
        "    # Prepare input and output variables\n",
        "    decoder_input = Variable(torch.LongTensor([SOS_token] * batch_size))\n",
        "    decoder_hidden = encoder_hidden[:decoder.n_layers] # Use last (forward) hidden state from encoder\n",
        "\n",
        "    max_target_length = max(target_lengths)\n",
        "    all_decoder_outputs = Variable(torch.zeros(max_target_length, batch_size, decoder.output_size))\n",
        "\n",
        "    # Move new Variables to CUDA\n",
        "    if USE_CUDA:\n",
        "        decoder_input = decoder_input.cuda()\n",
        "        all_decoder_outputs = all_decoder_outputs.cuda()\n",
        "\n",
        "    # Run through decoder one time step at a time\n",
        "    for t in range(max_target_length):\n",
        "        decoder_output, decoder_hidden, decoder_attn = decoder(\n",
        "            decoder_input, decoder_hidden, encoder_outputs\n",
        "        )\n",
        "\n",
        "        all_decoder_outputs[t] = decoder_output\n",
        "        decoder_input = target_batches[t] # Next input is current target\n",
        "\n",
        "    # Loss calculation and backpropagation\n",
        "    loss = masked_cross_entropy(\n",
        "        all_decoder_outputs.transpose(0, 1).contiguous(), # -> batch x seq\n",
        "        target_batches.transpose(0, 1).contiguous(), # -> batch x seq\n",
        "        target_lengths\n",
        "    )\n",
        "    loss.backward()\n",
        "    \n",
        "    # Clip gradient norms\n",
        "    ec = torch.nn.utils.clip_grad_norm_(encoder.parameters(), clip)\n",
        "    dc = torch.nn.utils.clip_grad_norm_(decoder.parameters(), clip)\n",
        "\n",
        "    # Update parameters with optimizers\n",
        "    encoder_optimizer.step()\n",
        "    decoder_optimizer.step()\n",
        "    \n",
        "    return loss.item(), ec, dc  "
      ],
      "execution_count": 0,
      "outputs": []
    },
    {
      "cell_type": "markdown",
      "metadata": {
        "id": "fm2GZxu2jM_s",
        "colab_type": "text"
      },
      "source": [
        "## Przygotowanie treningu\n",
        "\n",
        "Gdy wszystko jest gotowe, możemy zainicjować sieć i rozpocząć trening.\n",
        "\n",
        "Na początek inicjujemy modele, optymalizatory, funkcję straty (kryterium), i ustawiamy zmienne dla kreślenia i śledzenia postępu."
      ]
    },
    {
      "cell_type": "code",
      "metadata": {
        "id": "y8QsdydpjM_s",
        "colab_type": "code",
        "colab": {}
      },
      "source": [
        "# Configure models\n",
        "# attn_model = 'dot'\n",
        "attn_model = 'general'\n",
        "hidden_size = 500\n",
        "n_layers = 2\n",
        "dropout = 0.1\n",
        "batch_size = 100 # 1600  # 100\n",
        "# batch_size = 50\n",
        "\n",
        "# Configure training/optimization\n",
        "clip = 50.0\n",
        "teacher_forcing_ratio = 0.5\n",
        "learning_rate = 0.0001\n",
        "decoder_learning_ratio = 5.0\n",
        "\n",
        "n_epochs = 10  # 120\n",
        "n_samples = len(pairs) // batch_size\n",
        "n_iters = n_epochs * n_samples\n",
        "it = 0\n",
        "\n",
        "plot_every = 10\n",
        "print_every = 100\n",
        "evaluate_every = 200 # 1000\n",
        "\n",
        "# Initialize models\n",
        "encoder = EncoderRNN(input_lang.n_words, hidden_size, n_layers, dropout=dropout)\n",
        "decoder = LuongAttnDecoderRNN(attn_model, hidden_size, output_lang.n_words, n_layers, dropout=dropout)\n",
        "\n",
        "# Initialize optimizers and criterion\n",
        "encoder_optimizer = optim.Adam(encoder.parameters(), lr=learning_rate)\n",
        "decoder_optimizer = optim.Adam(decoder.parameters(), lr=learning_rate * decoder_learning_ratio)\n",
        "criterion = nn.CrossEntropyLoss()\n",
        "\n",
        "# Move models to GPU\n",
        "if USE_CUDA:\n",
        "    encoder.cuda()\n",
        "    decoder.cuda()"
      ],
      "execution_count": 0,
      "outputs": []
    },
    {
      "cell_type": "markdown",
      "metadata": {
        "id": "xemiEUVOfg-d",
        "colab_type": "text"
      },
      "source": [
        "## Monitoring treningu"
      ]
    },
    {
      "cell_type": "code",
      "metadata": {
        "id": "Acf9r_OyN5gV",
        "colab_type": "code",
        "colab": {}
      },
      "source": [
        "USE_VISDOM = False"
      ],
      "execution_count": 0,
      "outputs": []
    },
    {
      "cell_type": "code",
      "metadata": {
        "id": "mEGr4sQnYXSG",
        "colab_type": "code",
        "colab": {}
      },
      "source": [
        "# Start a job\n",
        "\n",
        "class Job:\n",
        "    def __init__(self, name, params={}, hostname='localhost', port=8890, n_iters=10, USE_VISDOM=False):\n",
        "        self.name = name\n",
        "        self.params = params\n",
        "        self.hostname = hostname\n",
        "        self.port = port\n",
        "        self.USE_VISDOM = USE_VISDOM\n",
        "\n",
        "        self.pbar = tqdm(total=n_iters, ncols=60, mininterval=1.0, ascii=True, file=io.StringIO())\n",
        "        \n",
        "        if USE_VISDOM:\n",
        "            self.avg_train_loss_logger = VisdomPlotLogger('line', port=port, opts={'title': f'{name}_Train Loss'})\n",
        "            self.job_logger = VisdomTextLogger(port=port, opts={'title': f'{name}_Job Info'})\n",
        "            self.log_logger = VisdomTextLogger(port=port, opts={'title': f'{name}_Train Loss Log'}, update_type='APPEND')\n",
        "            self.progress_logger = VisdomTextLogger(port=port, opts=dict(title=f'{name}_Progress Bar', width=500, height=50))\n",
        "            self.vis = visdom.Visdom(port=port)\n",
        "\n",
        "        self.start()        \n",
        "\n",
        "    def start(self):\n",
        "        j_str = json.dumps(self.params, indent=4)\n",
        "        j_str = j_str.replace('\\n', '<br/>\\n').replace(' ', '&nbsp;')\n",
        "        if self.USE_VISDOM:\n",
        "            self.job_logger.log(f'{j_str}')\n",
        "\n",
        "        self.job_id = '#job_id'# body['id']\n",
        "        print(\"Starting job %s at %s\" % (self.job_id, time.strftime('%Y-%m-%d %H:%M:%S', time.localtime())))\n",
        "        self.start_time = time.time()\n",
        "\n",
        "        self.log_every = 50\n",
        "        self.plot_every = 50\n",
        "        self.loss_avg = 0\n",
        "\n",
        "    def stop(self, ):\n",
        "        j = {'status': 'done'}\n",
        "        print(j)\n",
        "\n",
        "    def log(self, l):\n",
        "        if not self.USE_VISDOM: return\n",
        "        def time_since(since):\n",
        "            now = time.time()\n",
        "            s = now - since\n",
        "            m = math.floor(s / 60)\n",
        "            s -= m * 60\n",
        "            return '%dm %ds' % (m, s)\n",
        "        self.log_logger.log(l)\n",
        "\n",
        "    def plot(self, x, y):\n",
        "        if not self.USE_VISDOM: return\n",
        "        self.avg_train_loss_logger.log(x, y)\n",
        "\n",
        "    def record(self, e, loss):\n",
        "        self.loss_avg += loss\n",
        "\n",
        "        if e > 0 and e % self.log_every == 0:\n",
        "            if self.USE_VISDOM:\n",
        "                self.log('(%s) %.4f' % (e, loss))\n",
        "\n",
        "        if e > 0 and e % self.plot_every == 0:\n",
        "            if self.USE_VISDOM:\n",
        "                self.plot(e, self.loss_avg / self.plot_every)\n",
        "            self.loss_avg = 0\n",
        "\n",
        "    def update_progress(self, ):\n",
        "        self.pbar.update(1)\n",
        "        if not self.USE_VISDOM: return\n",
        "        text = f'{self.pbar}'.replace(' ', '<font color=\"white\">#</font>')\n",
        "        self.progress_logger.log(text)\n",
        "        \n",
        "    def plot_attention(self, img):\n",
        "        if not self.USE_VISDOM: return\n",
        "        attn_win = 'attention (%s)' % self.hostname\n",
        "        self.vis.image(img, win=attn_win, opts={'title': attn_win})\n",
        "        \n",
        "    def print_evaluated(self, text):\n",
        "        if not self.USE_VISDOM: return\n",
        "        win = 'evaluated (%s)' % self.hostname        \n",
        "        self.vis.text(text, win=win, opts={'title': win})\n",
        "        \n",
        "    def plot_cs(self, cs, xcoder):\n",
        "        if not self.USE_VISDOM: return\n",
        "        cs_win = '%s grad (%s)' % (xcoder, self.hostname)\n",
        "        self.vis.line(cs, win=cs_win, opts={'title': cs_win})      "
      ],
      "execution_count": 0,
      "outputs": []
    },
    {
      "cell_type": "code",
      "metadata": {
        "id": "N2cXAJPC-Epg",
        "colab_type": "code",
        "outputId": "b0883310-a630-4565-8f42-5c5627c0e751",
        "colab": {
          "base_uri": "https://localhost:8080/",
          "height": 35
        }
      },
      "source": [
        "job = Job('seq2seq-translate', {\n",
        "    'attn_model': attn_model,\n",
        "    'n_layers': n_layers,\n",
        "    'dropout': dropout,\n",
        "    'hidden_size': hidden_size,\n",
        "    'learning_rate': learning_rate,\n",
        "    'clip': clip,\n",
        "    'teacher_forcing_ratio': teacher_forcing_ratio,\n",
        "    'decoder_learning_ratio': decoder_learning_ratio,\n",
        "}, n_iters=n_iters, USE_VISDOM=USE_VISDOM)\n",
        "job.plot_every = plot_every\n",
        "job.log_every = print_every\n",
        "\n",
        "# Keep track of time elapsed and running averages\n",
        "start = time.time()\n",
        "plot_losses = []\n",
        "print_loss_total = 0 # Reset every print_every\n",
        "plot_loss_total = 0 # Reset every plot_every"
      ],
      "execution_count": 26,
      "outputs": [
        {
          "output_type": "stream",
          "text": [
            "Starting job #job_id at 2019-11-22 21:41:36\n"
          ],
          "name": "stdout"
        }
      ]
    },
    {
      "cell_type": "code",
      "metadata": {
        "id": "MDT8rrLFjM_u",
        "colab_type": "code",
        "colab": {}
      },
      "source": [
        "def as_minutes(s):\n",
        "    m = math.floor(s / 60)\n",
        "    s -= m * 60\n",
        "    return '%dm %ds' % (m, s)\n",
        "\n",
        "def time_since(since, percent):\n",
        "    now = time.time()\n",
        "    s = now - since\n",
        "    es = s / (percent)\n",
        "    rs = es - s\n",
        "    return '%s (- %s)' % (as_minutes(s), as_minutes(rs))"
      ],
      "execution_count": 0,
      "outputs": []
    },
    {
      "cell_type": "markdown",
      "metadata": {
        "id": "vMjoLgjRjM_v",
        "colab_type": "text"
      },
      "source": [
        "## Ewaluacja sieci\n",
        "\n",
        "Ewaluacja jest w większości taka sama jak trening, z tym że bez danych docelowych. Zamiast tego zawsze podajemy prognozy dekodera z powrotem do niego. Za każdym razem, gdy prognozuje słowo, dodajemy je do łańcucha wyjściowego. Jeśli dekoder prognozuje token EOS, kończymy. Przechowujemy także wyniki koncentracji dekodera dla każdego kroku, aby je później wyświetlić.\n"
      ]
    },
    {
      "cell_type": "code",
      "metadata": {
        "id": "cZyepm7XjM_v",
        "colab_type": "code",
        "colab": {}
      },
      "source": [
        "def evaluate(input_seq, max_length=MAX_LENGTH):\n",
        "    input_seqs = [indexes_from_sentence(input_lang, input_seq)]\n",
        "    input_lengths = [len(input_seqs[0])]\n",
        "\n",
        "    input_batches = Variable(torch.LongTensor(input_seqs)).transpose(0, 1)\n",
        "\n",
        "    if USE_CUDA:\n",
        "        input_batches = input_batches.cuda()\n",
        "\n",
        "    # Set to not-training mode to disable dropout\n",
        "    encoder.train(False)\n",
        "    decoder.train(False)\n",
        "\n",
        "    # Run through encoder\n",
        "    with torch.no_grad():\n",
        "        encoder_outputs, encoder_hidden = encoder(input_batches, input_lengths, None)\n",
        "\n",
        "    # Create starting vectors for decoder\n",
        "    decoder_input = Variable(torch.LongTensor([SOS_token])) # SOS\n",
        "    decoder_hidden = encoder_hidden[:decoder.n_layers] # Use last (forward) hidden state from encoder\n",
        "\n",
        "    if USE_CUDA:\n",
        "        decoder_input = decoder_input.cuda()\n",
        "\n",
        "    # Store output words and attention states\n",
        "    decoded_words = []\n",
        "    decoder_attentions = torch.zeros(max_length + 1, max_length + 1)\n",
        "\n",
        "    # Run through decoder\n",
        "    for di in range(max_length):\n",
        "        with torch.no_grad():\n",
        "            decoder_output, decoder_hidden, decoder_attention = decoder(\n",
        "                decoder_input, decoder_hidden, encoder_outputs\n",
        "            )\n",
        "        decoder_attentions[di,:decoder_attention.size(2)] += decoder_attention.squeeze(0).squeeze(0).cpu().data\n",
        "\n",
        "        # Choose top word from output\n",
        "        topv, topi = decoder_output.data.topk(1)\n",
        "        ni = topi[0][0]\n",
        "        if ni == EOS_token:\n",
        "            decoded_words.append('<EOS>')\n",
        "            break\n",
        "        else:\n",
        "            decoded_words.append(output_lang.index2word[ni.item()])\n",
        "\n",
        "        # Next input is chosen word\n",
        "        decoder_input = Variable(torch.LongTensor([ni]))\n",
        "        if USE_CUDA: decoder_input = decoder_input.cuda()\n",
        "\n",
        "    # Set back to training mode\n",
        "    encoder.train(True)\n",
        "    decoder.train(True)\n",
        "    \n",
        "    return decoded_words, decoder_attentions[:di+1, :len(encoder_outputs)]"
      ],
      "execution_count": 0,
      "outputs": []
    },
    {
      "cell_type": "markdown",
      "metadata": {
        "id": "kyY9aX0mjM_y",
        "colab_type": "text"
      },
      "source": [
        "Możemy oceniać losowo wybrane zdania z zestawu treningowego i wyświetlić dane wejściowe, docelowe i wyjściowe w celu dokonania subiektywnej oceny jakości:"
      ]
    },
    {
      "cell_type": "code",
      "metadata": {
        "id": "CpGS1t6AjM_z",
        "colab_type": "code",
        "colab": {}
      },
      "source": [
        "def evaluate_randomly():\n",
        "    [input_sentence, target_sentence] = random.choice(pairs)\n",
        "    evaluate_and_show_attention(input_sentence, target_sentence)"
      ],
      "execution_count": 0,
      "outputs": []
    },
    {
      "cell_type": "markdown",
      "metadata": {
        "id": "MVBji1kAjM_1",
        "colab_type": "text"
      },
      "source": [
        "## Wizualizacja koncentracji\n",
        "\n",
        "Użyteczną właściwością mechanizmu koncentracji są jego wysoce interpretowalne wyniki. Ponieważ jest on używany do \"ważenia\" poszczególnych wyjść kodera dla sekwencji wejściowej, możemy sobie wyobrazić, na czym sieć skupia się w każdym kroku.\n",
        "\n",
        "Możesz po prostu wywołać `plt.matshow(attentions)`, aby zobaczyć wyniki koncentracji wyświetlone jako matryca, z kolumnami będącymi krokami wejściowymi i wierszami będącymi krokami wyjściowymi:"
      ]
    },
    {
      "cell_type": "markdown",
      "metadata": {
        "id": "-M099fekjM_3",
        "colab_type": "text"
      },
      "source": [
        "Aby uzyskać lepszy efekt wizualny, dodamy osie i etykiety:"
      ]
    },
    {
      "cell_type": "code",
      "metadata": {
        "id": "vM8VYNy5d-BX",
        "colab_type": "code",
        "colab": {}
      },
      "source": [
        "def show_plot_visdom():\n",
        "    buf = io.BytesIO()\n",
        "    plt.savefig(buf)\n",
        "    buf.seek(0)\n",
        "    job.plot_attention(torchvision.transforms.ToTensor()(Image.open(buf)))"
      ],
      "execution_count": 0,
      "outputs": []
    },
    {
      "cell_type": "code",
      "metadata": {
        "id": "bjgNvhWrjM_3",
        "colab_type": "code",
        "colab": {}
      },
      "source": [
        "def show_attention(input_sentence, output_words, attentions):\n",
        "    mpl.style.use('default')\n",
        "    # Set up figure with colorbar\n",
        "    fig = plt.figure()\n",
        "    ax = fig.add_subplot(111)    \n",
        "    cax = ax.matshow(attentions.numpy(), cmap='jet')\n",
        "    fig.colorbar(cax)\n",
        "\n",
        "    # Set up axes\n",
        "    ax.set_xticklabels([''] + input_sentence.split(' ') + ['<EOS>'], rotation=90)\n",
        "    ax.set_yticklabels([''] + output_words)\n",
        "\n",
        "    # Show label at every tick\n",
        "    ax.xaxis.set_major_locator(ticker.MultipleLocator(1))\n",
        "    ax.yaxis.set_major_locator(ticker.MultipleLocator(1))\n",
        "\n",
        "    show_plot_visdom()\n",
        "    plt.show()\n",
        "    plt.close()"
      ],
      "execution_count": 0,
      "outputs": []
    },
    {
      "cell_type": "code",
      "metadata": {
        "id": "46Dts5BjjM_5",
        "colab_type": "code",
        "colab": {}
      },
      "source": [
        "def evaluate_and_show_attention(input_sentence, target_sentence=None):\n",
        "    output_words, attentions = evaluate(input_sentence)\n",
        "    output_sentence = ' '.join(output_words)\n",
        "    print('>', input_sentence)\n",
        "    if target_sentence is not None:\n",
        "        print('=', target_sentence)\n",
        "    print('<', output_sentence)\n",
        "    \n",
        "    show_attention(input_sentence, output_words, attentions)\n",
        "    \n",
        "    # Show input, target, output text in visdom\n",
        "    text = '<p>&gt; %s</p><p>= %s</p><p>&lt; %s</p>' % (input_sentence, target_sentence, output_sentence)\n",
        "    job.print_evaluated(text)"
      ],
      "execution_count": 0,
      "outputs": []
    },
    {
      "cell_type": "markdown",
      "metadata": {
        "id": "4-BmvDLCjM_6",
        "colab_type": "text"
      },
      "source": [
        "## Składamy wszystko razem i trenujemy"
      ]
    },
    {
      "cell_type": "markdown",
      "metadata": {
        "id": "od07gsWkjM_7",
        "colab_type": "text"
      },
      "source": [
        "Żeby przeprowadzić właściwy trening, wielokrotnie wywołujemy funkcję treningową i wyświetlamy podsumowanie w trakcie.\n",
        "\n",
        "*Zauważ:* w trakcie pracy z tyme notatnikiem możesz **trenować, przerywać, ewaluować i wracać tutaj, by kontynuować trening**. Po prostu wykonaj pozostałą część notatnika zaczynając od następnej komórki (wykonanie od poprzedniej komórki zresetuje modele)."
      ]
    },
    {
      "cell_type": "code",
      "metadata": {
        "id": "0ahWiXo5jM_7",
        "colab_type": "code",
        "outputId": "f413cf8f-69d9-49cb-ea50-22ad3ce677ff",
        "colab": {
          "base_uri": "https://localhost:8080/",
          "height": 1000
        }
      },
      "source": [
        "# Begin!\n",
        "ecs = []\n",
        "dcs = []\n",
        "eca = 0\n",
        "dca = 0\n",
        "\n",
        "while it < n_iters:\n",
        "    it += 1\n",
        "    epoch = int(1 + it // n_samples)\n",
        "    \n",
        "    # Get training data for this cycle\n",
        "    input_batches, input_lengths, target_batches, target_lengths = random_batch(batch_size)\n",
        "\n",
        "    # Run the train function\n",
        "    loss, ec, dc = train(\n",
        "        input_batches, input_lengths, target_batches, target_lengths,\n",
        "        encoder, decoder,\n",
        "        encoder_optimizer, decoder_optimizer, criterion\n",
        "    )\n",
        "\n",
        "    # Keep track of loss\n",
        "    print_loss_total += loss\n",
        "    plot_loss_total += loss\n",
        "    eca += ec\n",
        "    dca += dc\n",
        "    \n",
        "    job.record(it, loss)\n",
        "    job.update_progress()\n",
        "\n",
        "    if it % print_every == 0:\n",
        "        print(f'{job.pbar}')\n",
        "        print_loss_avg = print_loss_total / print_every\n",
        "        print_loss_total = 0\n",
        "#         print_summary = '%s (%d %d%%) %.4f' % (time_since(start, it / n_iters), epoch, it / n_iters * 100, print_loss_avg)\n",
        "        print_summary = f'{time_since(start, it / n_iters)}, epoch={epoch}, loss={print_loss_avg:0.3}'\n",
        "        print(print_summary)\n",
        "        \n",
        "    if it % evaluate_every == 0:\n",
        "        evaluate_randomly()\n",
        "\n",
        "    if it % plot_every == 0:\n",
        "        plot_loss_avg = plot_loss_total / plot_every\n",
        "        plot_losses.append(plot_loss_avg)\n",
        "        plot_loss_total = 0\n",
        "        \n",
        "        # TODO: Running average helper\n",
        "        ecs.append(eca / plot_every)\n",
        "        dcs.append(dca / plot_every)\n",
        "        job.plot_cs(np.array(ecs), 'encoder')\n",
        "        job.plot_cs(np.array(dcs), 'decoder')\n",
        "        eca = 0\n",
        "        dca = 0"
      ],
      "execution_count": 38,
      "outputs": [
        {
          "output_type": "stream",
          "text": [
            "/usr/local/lib/python3.6/dist-packages/torch/nn/functional.py:1320: UserWarning: nn.functional.tanh is deprecated. Use torch.tanh instead.\n",
            "  warnings.warn(\"nn.functional.tanh is deprecated. Use torch.tanh instead.\")\n",
            "/content/masked_cross_entropy.py:9: UserWarning: torch.range is deprecated in favor of torch.arange and will be removed in 0.5. Note that arange generates values in [start; end), not [start; end].\n",
            "  seq_range = torch.range(0, max_len - 1).long()\n"
          ],
          "name": "stderr"
        },
        {
          "output_type": "stream",
          "text": [
            "  9%|#7                  | 200/2300 [02:30<15:29,  2.26it/s]\n",
            "2m 30s (- 26m 22s), epoch=1, loss=4.25\n",
            "> i played tennis all day .\n",
            "= cały dzień grałem w tenisa .\n",
            "< mam w domu . <EOS>\n"
          ],
          "name": "stdout"
        },
        {
          "output_type": "display_data",
          "data": {
            "image/png": "[encoded data removed]",
            "text/plain": [
              "<Figure size 640x480 with 2 Axes>"
            ]
          },
          "metadata": {
            "tags": []
          }
        },
        {
          "output_type": "stream",
          "text": [
            "/usr/local/lib/python3.6/dist-packages/torch/nn/functional.py:1320: UserWarning: nn.functional.tanh is deprecated. Use torch.tanh instead.\n",
            "  warnings.warn(\"nn.functional.tanh is deprecated. Use torch.tanh instead.\")\n",
            "/content/masked_cross_entropy.py:9: UserWarning: torch.range is deprecated in favor of torch.arange and will be removed in 0.5. Note that arange generates values in [start; end), not [start; end].\n",
            "  seq_range = torch.range(0, max_len - 1).long()\n"
          ],
          "name": "stderr"
        },
        {
          "output_type": "stream",
          "text": [
            " 13%|##6                 | 300/2300 [02:39<03:30,  9.52it/s]\n",
            "2m 39s (- 17m 42s), epoch=2, loss=3.74\n",
            " 17%|###4                | 400/2300 [02:47<02:36, 12.18it/s]\n",
            "2m 47s (- 13m 15s), epoch=2, loss=3.3\n",
            "> that was tom's fault .\n",
            "= to była wina tom'a .\n",
            "< to było było toma . <EOS>\n"
          ],
          "name": "stdout"
        },
        {
          "output_type": "display_data",
          "data": {
            "image/png": "[encoded data removed]",
            "text/plain": [
              "<Figure size 640x480 with 2 Axes>"
            ]
          },
          "metadata": {
            "tags": []
          }
        },
        {
          "output_type": "stream",
          "text": [
            "/usr/local/lib/python3.6/dist-packages/torch/nn/functional.py:1320: UserWarning: nn.functional.tanh is deprecated. Use torch.tanh instead.\n",
            "  warnings.warn(\"nn.functional.tanh is deprecated. Use torch.tanh instead.\")\n",
            "/content/masked_cross_entropy.py:9: UserWarning: torch.range is deprecated in favor of torch.arange and will be removed in 0.5. Note that arange generates values in [start; end), not [start; end].\n",
            "  seq_range = torch.range(0, max_len - 1).long()\n"
          ],
          "name": "stderr"
        },
        {
          "output_type": "stream",
          "text": [
            " 22%|####3               | 500/2300 [02:55<02:26, 12.26it/s]\n",
            "2m 55s (- 10m 33s), epoch=3, loss=2.9\n",
            " 26%|#####2              | 600/2300 [03:04<02:19, 12.18it/s]\n",
            "3m 4s (- 8m 41s), epoch=3, loss=2.62\n",
            "> they say that she quit her job .\n",
            "= mówią , że rzuciła pracę .\n",
            "< powiedzieli , że jej jej nie żyje . <EOS>\n"
          ],
          "name": "stdout"
        },
        {
          "output_type": "display_data",
          "data": {
            "image/png": "[encoded data removed]",
            "text/plain": [
              "<Figure size 640x480 with 2 Axes>"
            ]
          },
          "metadata": {
            "tags": []
          }
        },
        {
          "output_type": "stream",
          "text": [
            "/usr/local/lib/python3.6/dist-packages/torch/nn/functional.py:1320: UserWarning: nn.functional.tanh is deprecated. Use torch.tanh instead.\n",
            "  warnings.warn(\"nn.functional.tanh is deprecated. Use torch.tanh instead.\")\n",
            "/content/masked_cross_entropy.py:9: UserWarning: torch.range is deprecated in favor of torch.arange and will be removed in 0.5. Note that arange generates values in [start; end), not [start; end].\n",
            "  seq_range = torch.range(0, max_len - 1).long()\n"
          ],
          "name": "stderr"
        },
        {
          "output_type": "stream",
          "text": [
            " 30%|######              | 700/2300 [03:12<02:12, 12.05it/s]\n",
            "3m 12s (- 7m 20s), epoch=4, loss=2.34\n",
            " 35%|######9             | 800/2300 [03:20<02:03, 12.11it/s]\n",
            "3m 20s (- 6m 16s), epoch=4, loss=2.1\n",
            "> do you own a house in italy ?\n",
            "= mają państwo dom we włoszech ?\n",
            "< czy masz dom w włoszech ? <EOS>\n"
          ],
          "name": "stdout"
        },
        {
          "output_type": "display_data",
          "data": {
            "image/png": "[encoded data removed]",
            "text/plain": [
              "<Figure size 640x480 with 2 Axes>"
            ]
          },
          "metadata": {
            "tags": []
          }
        },
        {
          "output_type": "stream",
          "text": [
            "/usr/local/lib/python3.6/dist-packages/torch/nn/functional.py:1320: UserWarning: nn.functional.tanh is deprecated. Use torch.tanh instead.\n",
            "  warnings.warn(\"nn.functional.tanh is deprecated. Use torch.tanh instead.\")\n",
            "/content/masked_cross_entropy.py:9: UserWarning: torch.range is deprecated in favor of torch.arange and will be removed in 0.5. Note that arange generates values in [start; end), not [start; end].\n",
            "  seq_range = torch.range(0, max_len - 1).long()\n"
          ],
          "name": "stderr"
        },
        {
          "output_type": "stream",
          "text": [
            " 39%|#######8            | 900/2300 [03:29<01:57, 11.90it/s]\n",
            "3m 29s (- 5m 25s), epoch=4, loss=1.92\n",
            " 43%|########2          | 1000/2300 [03:37<01:50, 11.80it/s]\n",
            "3m 37s (- 4m 43s), epoch=5, loss=1.75\n",
            "> it wasn't fun .\n",
            "= to nie było zabawne .\n",
            "< to nie było zabawne . <EOS>\n"
          ],
          "name": "stdout"
        },
        {
          "output_type": "display_data",
          "data": {
            "image/png": "[encoded data removed]",
            "text/plain": [
              "<Figure size 640x480 with 2 Axes>"
            ]
          },
          "metadata": {
            "tags": []
          }
        },
        {
          "output_type": "stream",
          "text": [
            "/usr/local/lib/python3.6/dist-packages/torch/nn/functional.py:1320: UserWarning: nn.functional.tanh is deprecated. Use torch.tanh instead.\n",
            "  warnings.warn(\"nn.functional.tanh is deprecated. Use torch.tanh instead.\")\n",
            "/content/masked_cross_entropy.py:9: UserWarning: torch.range is deprecated in favor of torch.arange and will be removed in 0.5. Note that arange generates values in [start; end), not [start; end].\n",
            "  seq_range = torch.range(0, max_len - 1).long()\n"
          ],
          "name": "stderr"
        },
        {
          "output_type": "stream",
          "text": [
            " 48%|#########          | 1100/2300 [03:46<01:40, 11.99it/s]\n",
            "3m 46s (- 4m 6s), epoch=5, loss=1.59\n",
            " 52%|#########9         | 1200/2300 [03:54<01:30, 12.12it/s]\n",
            "3m 54s (- 3m 34s), epoch=6, loss=1.45\n",
            "> you look stupid .\n",
            "= wyglądasz głupio .\n",
            "< wyglądasz głupio . <EOS>\n"
          ],
          "name": "stdout"
        },
        {
          "output_type": "display_data",
          "data": {
            "image/png": "[encoded data removed]",
            "text/plain": [
              "<Figure size 640x480 with 2 Axes>"
            ]
          },
          "metadata": {
            "tags": []
          }
        },
        {
          "output_type": "stream",
          "text": [
            "/usr/local/lib/python3.6/dist-packages/torch/nn/functional.py:1320: UserWarning: nn.functional.tanh is deprecated. Use torch.tanh instead.\n",
            "  warnings.warn(\"nn.functional.tanh is deprecated. Use torch.tanh instead.\")\n",
            "/content/masked_cross_entropy.py:9: UserWarning: torch.range is deprecated in favor of torch.arange and will be removed in 0.5. Note that arange generates values in [start; end), not [start; end].\n",
            "  seq_range = torch.range(0, max_len - 1).long()\n"
          ],
          "name": "stderr"
        },
        {
          "output_type": "stream",
          "text": [
            " 57%|##########7        | 1300/2300 [04:02<01:22, 12.13it/s]\n",
            "4m 2s (- 3m 6s), epoch=6, loss=1.34\n",
            " 61%|###########5       | 1400/2300 [04:11<01:14, 12.08it/s]\n",
            "4m 11s (- 2m 41s), epoch=7, loss=1.24\n",
            "> tom drove away .\n",
            "= tom odjechał .\n",
            "< tom wrócił . <EOS>\n"
          ],
          "name": "stdout"
        },
        {
          "output_type": "display_data",
          "data": {
            "image/png": "[encoded data removed]",
            "text/plain": [
              "<Figure size 640x480 with 2 Axes>"
            ]
          },
          "metadata": {
            "tags": []
          }
        },
        {
          "output_type": "stream",
          "text": [
            "/usr/local/lib/python3.6/dist-packages/torch/nn/functional.py:1320: UserWarning: nn.functional.tanh is deprecated. Use torch.tanh instead.\n",
            "  warnings.warn(\"nn.functional.tanh is deprecated. Use torch.tanh instead.\")\n",
            "/content/masked_cross_entropy.py:9: UserWarning: torch.range is deprecated in favor of torch.arange and will be removed in 0.5. Note that arange generates values in [start; end), not [start; end].\n",
            "  seq_range = torch.range(0, max_len - 1).long()\n"
          ],
          "name": "stderr"
        },
        {
          "output_type": "stream",
          "text": [
            " 65%|############3      | 1500/2300 [04:19<01:07, 11.90it/s]\n",
            "4m 19s (- 2m 18s), epoch=7, loss=1.1\n",
            " 70%|#############2     | 1600/2300 [04:28<00:58, 12.06it/s]\n",
            "4m 28s (- 1m 57s), epoch=7, loss=1.04\n",
            "> we don't know anything about tom .\n",
            "= nie wiemy nic o tomie .\n",
            "< nie wiemy nic o tomie . <EOS>\n"
          ],
          "name": "stdout"
        },
        {
          "output_type": "display_data",
          "data": {
            "image/png": "[encoded data removed]",
            "text/plain": [
              "<Figure size 640x480 with 2 Axes>"
            ]
          },
          "metadata": {
            "tags": []
          }
        },
        {
          "output_type": "stream",
          "text": [
            "/usr/local/lib/python3.6/dist-packages/torch/nn/functional.py:1320: UserWarning: nn.functional.tanh is deprecated. Use torch.tanh instead.\n",
            "  warnings.warn(\"nn.functional.tanh is deprecated. Use torch.tanh instead.\")\n",
            "/content/masked_cross_entropy.py:9: UserWarning: torch.range is deprecated in favor of torch.arange and will be removed in 0.5. Note that arange generates values in [start; end), not [start; end].\n",
            "  seq_range = torch.range(0, max_len - 1).long()\n"
          ],
          "name": "stderr"
        },
        {
          "output_type": "stream",
          "text": [
            " 74%|##############     | 1700/2300 [04:36<00:48, 12.26it/s]\n",
            "4m 36s (- 1m 37s), epoch=8, loss=0.96\n",
            " 78%|##############8    | 1800/2300 [04:44<00:40, 12.36it/s]\n",
            "4m 44s (- 1m 19s), epoch=8, loss=0.873\n",
            "> i thought you might want to see tom .\n",
            "= pomyślałem , że może chciałbyś zobaczyć toma .\n",
            "< myślałem , że chcesz chcieć zobaczyć toma . <EOS>\n"
          ],
          "name": "stdout"
        },
        {
          "output_type": "display_data",
          "data": {
            "image/png": "[encoded data removed]",
            "text/plain": [
              "<Figure size 640x480 with 2 Axes>"
            ]
          },
          "metadata": {
            "tags": []
          }
        },
        {
          "output_type": "stream",
          "text": [
            "/usr/local/lib/python3.6/dist-packages/torch/nn/functional.py:1320: UserWarning: nn.functional.tanh is deprecated. Use torch.tanh instead.\n",
            "  warnings.warn(\"nn.functional.tanh is deprecated. Use torch.tanh instead.\")\n",
            "/content/masked_cross_entropy.py:9: UserWarning: torch.range is deprecated in favor of torch.arange and will be removed in 0.5. Note that arange generates values in [start; end), not [start; end].\n",
            "  seq_range = torch.range(0, max_len - 1).long()\n"
          ],
          "name": "stderr"
        },
        {
          "output_type": "stream",
          "text": [
            " 83%|###############6   | 1900/2300 [04:53<00:34, 11.75it/s]\n",
            "4m 53s (- 1m 1s), epoch=9, loss=0.828\n",
            " 87%|################5  | 2000/2300 [05:02<00:24, 12.15it/s]\n",
            "5m 2s (- 0m 45s), epoch=9, loss=0.759\n",
            "> i couldn't refuse .\n",
            "= nie mogłem odmówić .\n",
            "< nie mogłem odrzucić . <EOS>\n"
          ],
          "name": "stdout"
        },
        {
          "output_type": "display_data",
          "data": {
            "image/png": "[encoded data removed]",
            "text/plain": [
              "<Figure size 640x480 with 2 Axes>"
            ]
          },
          "metadata": {
            "tags": []
          }
        },
        {
          "output_type": "stream",
          "text": [
            "/usr/local/lib/python3.6/dist-packages/torch/nn/functional.py:1320: UserWarning: nn.functional.tanh is deprecated. Use torch.tanh instead.\n",
            "  warnings.warn(\"nn.functional.tanh is deprecated. Use torch.tanh instead.\")\n",
            "/content/masked_cross_entropy.py:9: UserWarning: torch.range is deprecated in favor of torch.arange and will be removed in 0.5. Note that arange generates values in [start; end), not [start; end].\n",
            "  seq_range = torch.range(0, max_len - 1).long()\n"
          ],
          "name": "stderr"
        },
        {
          "output_type": "stream",
          "text": [
            " 91%|#################3 | 2100/2300 [05:10<00:17, 11.75it/s]\n",
            "5m 10s (- 0m 29s), epoch=10, loss=0.699\n",
            " 96%|##################1| 2200/2300 [05:18<00:08, 12.21it/s]\n",
            "5m 18s (- 0m 14s), epoch=10, loss=0.658\n",
            "> did you understand what he said ?\n",
            "= zrozumiałeś , co powiedział ?\n",
            "< zrozumiałeś , co powiedział ? <EOS>\n"
          ],
          "name": "stdout"
        },
        {
          "output_type": "display_data",
          "data": {
            "image/png": "[encoded data removed]",
            "text/plain": [
              "<Figure size 640x480 with 2 Axes>"
            ]
          },
          "metadata": {
            "tags": []
          }
        },
        {
          "output_type": "stream",
          "text": [
            "/usr/local/lib/python3.6/dist-packages/torch/nn/functional.py:1320: UserWarning: nn.functional.tanh is deprecated. Use torch.tanh instead.\n",
            "  warnings.warn(\"nn.functional.tanh is deprecated. Use torch.tanh instead.\")\n",
            "/content/masked_cross_entropy.py:9: UserWarning: torch.range is deprecated in favor of torch.arange and will be removed in 0.5. Note that arange generates values in [start; end), not [start; end].\n",
            "  seq_range = torch.range(0, max_len - 1).long()\n"
          ],
          "name": "stderr"
        },
        {
          "output_type": "stream",
          "text": [
            "100%|###################| 2300/2300 [05:27<00:00, 12.15it/s]\n",
            "5m 27s (- 0m 0s), epoch=11, loss=0.622\n"
          ],
          "name": "stdout"
        }
      ]
    },
    {
      "cell_type": "markdown",
      "metadata": {
        "id": "YpEnUGovjNAA",
        "colab_type": "text"
      },
      "source": [
        "# Wyrysowywanie strat treningowych\n",
        "\n",
        "Wykreślanie odbywa się za pomocą matplotlib, przy użyciu tablicy `plot_losses`, która została utworzona podczas treningu.\n"
      ]
    },
    {
      "cell_type": "code",
      "metadata": {
        "id": "E4uxpB9ljNAB",
        "colab_type": "code",
        "outputId": "9b0972fb-50bc-497e-d651-b808864b836d",
        "colab": {
          "base_uri": "https://localhost:8080/",
          "height": 448
        }
      },
      "source": [
        "def show_plot(points):\n",
        "    plt.figure()\n",
        "    fig, ax = plt.subplots()\n",
        "    loc = ticker.MultipleLocator(base=0.2) # put ticks at regular intervals\n",
        "    ax.yaxis.set_major_locator(loc)\n",
        "    plt.plot(points)\n",
        "\n",
        "show_plot(plot_losses)"
      ],
      "execution_count": 39,
      "outputs": [
        {
          "output_type": "display_data",
          "data": {
            "text/plain": [
              "<Figure size 640x480 with 0 Axes>"
            ]
          },
          "metadata": {
            "tags": []
          }
        },
        {
          "output_type": "display_data",
          "data": {
            "image/png": "[encoded data removed]",
            "text/plain": [
              "<Figure size 640x480 with 1 Axes>"
            ]
          },
          "metadata": {
            "tags": []
          }
        }
      ]
    },
    {
      "cell_type": "code",
      "metadata": {
        "id": "TQFXl0RuYXSs",
        "colab_type": "code",
        "outputId": "11dda8af-a636-43d9-ffe1-a401367f17f0",
        "colab": {
          "base_uri": "https://localhost:8080/",
          "height": 195
        }
      },
      "source": [
        "MIN_COUNT = 3  # 5\n",
        "xxx=[print(random.choice(pairs)) for i in range(10)]"
      ],
      "execution_count": 40,
      "outputs": [
        {
          "output_type": "stream",
          "text": [
            "['can you give me a hand ?', 'pomożesz mi ?']\n",
            "['who did you have in mind when you made those remarks ?', 'kogo miałeś na myśli mówiąc to ?']\n",
            "[\"you're probably mistaken .\", 'prawdopodobnie się mylisz .']\n",
            "['tom wore a hat .', 'tom miał na sobie kapelusz .']\n",
            "['is tom one of your friends ?', 'czy tom jest jednym z twoich przyjaciół ?']\n",
            "['tom told me that you like to eat spicy food .', 'tom powiedział mi , że lubisz ostre jedzenie .']\n",
            "[\"i don't have any children .\", 'nie mam dzieci .']\n",
            "[\"i'm looking for my pen .\", 'szukam mojego długopisu .']\n",
            "[\"please don't tell anyone .\", 'proszę , nie mów nikomu .']\n",
            "[\"mom , i'm hungry .\", 'mamo , jestem głodny .']\n"
          ],
          "name": "stdout"
        }
      ]
    },
    {
      "cell_type": "code",
      "metadata": {
        "id": "vQoeHfjfjNAC",
        "colab_type": "code",
        "outputId": "fce6f80e-62de-41b1-e3e1-fd8baad10d01",
        "colab": {
          "base_uri": "https://localhost:8080/",
          "height": 473
        }
      },
      "source": [
        "output_words, attentions = evaluate(\"it's time for lunch .\")\n",
        "plt.matshow(attentions.numpy())\n",
        "show_plot_visdom()"
      ],
      "execution_count": 41,
      "outputs": [
        {
          "output_type": "stream",
          "text": [
            "/usr/local/lib/python3.6/dist-packages/torch/nn/functional.py:1320: UserWarning: nn.functional.tanh is deprecated. Use torch.tanh instead.\n",
            "  warnings.warn(\"nn.functional.tanh is deprecated. Use torch.tanh instead.\")\n"
          ],
          "name": "stderr"
        },
        {
          "output_type": "display_data",
          "data": {
            "image/png": "[encoded data removed]",
            "text/plain": [
              "<Figure size 576x480 with 1 Axes>"
            ]
          },
          "metadata": {
            "tags": []
          }
        }
      ]
    },
    {
      "cell_type": "markdown",
      "metadata": {
        "id": "yt5xbOUMYXSy",
        "colab_type": "raw"
      },
      "source": [
        "['i failed after all .', 'nie udało mi się jednak .']\n",
        "['i like you very much .', 'bardzo cię lubię .']\n",
        "[\"i can't leave .\", 'nie mogę wyjść .']\n",
        "['i feel very good .', 'czuję się bardzo dobrze .']\n",
        "[\"we've been here an hour .\", 'jesteśmy tutaj godzinę .']\n",
        "[\"i don't like it .\", 'nie lubię tego .']\n",
        "['tom likes boston .', 'tom lubi boston .']\n",
        "['that works .', 'to działa .']\n",
        "['i will try it again .', 'spróbuję ponownie .']\n",
        "['tom drank some beer .', 'tom wypił piwo .']"
      ]
    },
    {
      "cell_type": "code",
      "metadata": {
        "id": "Mb-wKK0yjNAE",
        "colab_type": "code",
        "outputId": "fee663cf-d4ff-45c7-9b06-4014bfb0f956",
        "colab": {
          "base_uri": "https://localhost:8080/",
          "height": 565
        }
      },
      "source": [
        "evaluate_and_show_attention('i failed after all .', 'nie udało mi się jednak .')"
      ],
      "execution_count": 42,
      "outputs": [
        {
          "output_type": "stream",
          "text": [
            "/usr/local/lib/python3.6/dist-packages/torch/nn/functional.py:1320: UserWarning: nn.functional.tanh is deprecated. Use torch.tanh instead.\n",
            "  warnings.warn(\"nn.functional.tanh is deprecated. Use torch.tanh instead.\")\n"
          ],
          "name": "stderr"
        },
        {
          "output_type": "stream",
          "text": [
            "> i failed after all .\n",
            "= nie udało mi się jednak .\n",
            "< ostatecznie mi nie wyszło . <EOS>\n"
          ],
          "name": "stdout"
        },
        {
          "output_type": "display_data",
          "data": {
            "image/png": "[encoded data removed]",
            "text/plain": [
              "<Figure size 640x480 with 2 Axes>"
            ]
          },
          "metadata": {
            "tags": []
          }
        }
      ]
    },
    {
      "cell_type": "code",
      "metadata": {
        "id": "MjIOvXDajNAG",
        "colab_type": "code",
        "outputId": "3d8f4665-f8cb-44c5-e8cf-189c0ac4716b",
        "colab": {
          "base_uri": "https://localhost:8080/",
          "height": 522
        }
      },
      "source": [
        "evaluate_and_show_attention('i like you very much .', 'bardzo cię lubię .')"
      ],
      "execution_count": 43,
      "outputs": [
        {
          "output_type": "stream",
          "text": [
            "/usr/local/lib/python3.6/dist-packages/torch/nn/functional.py:1320: UserWarning: nn.functional.tanh is deprecated. Use torch.tanh instead.\n",
            "  warnings.warn(\"nn.functional.tanh is deprecated. Use torch.tanh instead.\")\n"
          ],
          "name": "stderr"
        },
        {
          "output_type": "stream",
          "text": [
            "> i like you very much .\n",
            "= bardzo cię lubię .\n",
            "< bardzo cię lubię . <EOS>\n"
          ],
          "name": "stdout"
        },
        {
          "output_type": "display_data",
          "data": {
            "image/png": "[encoded data removed]",
            "text/plain": [
              "<Figure size 640x480 with 2 Axes>"
            ]
          },
          "metadata": {
            "tags": []
          }
        }
      ]
    },
    {
      "cell_type": "code",
      "metadata": {
        "id": "KygYF6nwjNAH",
        "colab_type": "code",
        "outputId": "d0a3576d-e333-4160-8fee-9fdd110e82a4",
        "colab": {
          "base_uri": "https://localhost:8080/",
          "height": 565
        }
      },
      "source": [
        "evaluate_and_show_attention(\"i can't leave .\", 'nie mogę wyjść .')"
      ],
      "execution_count": 44,
      "outputs": [
        {
          "output_type": "stream",
          "text": [
            "/usr/local/lib/python3.6/dist-packages/torch/nn/functional.py:1320: UserWarning: nn.functional.tanh is deprecated. Use torch.tanh instead.\n",
            "  warnings.warn(\"nn.functional.tanh is deprecated. Use torch.tanh instead.\")\n"
          ],
          "name": "stderr"
        },
        {
          "output_type": "stream",
          "text": [
            "> i can't leave .\n",
            "= nie mogę wyjść .\n",
            "< nie mogę wyjść . <EOS>\n"
          ],
          "name": "stdout"
        },
        {
          "output_type": "display_data",
          "data": {
            "image/png": "[encoded data removed]",
            "text/plain": [
              "<Figure size 640x480 with 2 Axes>"
            ]
          },
          "metadata": {
            "tags": []
          }
        }
      ]
    },
    {
      "cell_type": "code",
      "metadata": {
        "id": "2hL33p-mjNAK",
        "colab_type": "code",
        "outputId": "b7278ab7-6b8a-4a29-8eb6-2e4e089b7da8",
        "colab": {
          "base_uri": "https://localhost:8080/",
          "height": 565
        }
      },
      "source": [
        "evaluate_and_show_attention('i feel very good .', 'czuję się bardzo dobrze .')"
      ],
      "execution_count": 45,
      "outputs": [
        {
          "output_type": "stream",
          "text": [
            "/usr/local/lib/python3.6/dist-packages/torch/nn/functional.py:1320: UserWarning: nn.functional.tanh is deprecated. Use torch.tanh instead.\n",
            "  warnings.warn(\"nn.functional.tanh is deprecated. Use torch.tanh instead.\")\n"
          ],
          "name": "stderr"
        },
        {
          "output_type": "stream",
          "text": [
            "> i feel very good .\n",
            "= czuję się bardzo dobrze .\n",
            "< czuję się bardzo dobrze . <EOS>\n"
          ],
          "name": "stdout"
        },
        {
          "output_type": "display_data",
          "data": {
            "image/png": "[encoded data removed]",
            "text/plain": [
              "<Figure size 640x480 with 2 Axes>"
            ]
          },
          "metadata": {
            "tags": []
          }
        }
      ]
    },
    {
      "cell_type": "code",
      "metadata": {
        "id": "QE9BdY7RjNAL",
        "colab_type": "code",
        "outputId": "0f0d16fa-0476-4d1a-b74b-4a6c5da1b943",
        "colab": {
          "base_uri": "https://localhost:8080/",
          "height": 550
        }
      },
      "source": [
        "evaluate_and_show_attention(\"we've been here an hour .\", 'jesteśmy tutaj godzinę .')"
      ],
      "execution_count": 46,
      "outputs": [
        {
          "output_type": "stream",
          "text": [
            "/usr/local/lib/python3.6/dist-packages/torch/nn/functional.py:1320: UserWarning: nn.functional.tanh is deprecated. Use torch.tanh instead.\n",
            "  warnings.warn(\"nn.functional.tanh is deprecated. Use torch.tanh instead.\")\n"
          ],
          "name": "stderr"
        },
        {
          "output_type": "stream",
          "text": [
            "> we've been here an hour .\n",
            "= jesteśmy tutaj godzinę .\n",
            "< jesteśmy tu już godzinę . <EOS>\n"
          ],
          "name": "stdout"
        },
        {
          "output_type": "display_data",
          "data": {
            "image/png": "[encoded data removed]",
            "text/plain": [
              "<Figure size 640x480 with 2 Axes>"
            ]
          },
          "metadata": {
            "tags": []
          }
        }
      ]
    },
    {
      "cell_type": "code",
      "metadata": {
        "id": "8qyorxdcjNAM",
        "colab_type": "code",
        "outputId": "a5eda8bd-495b-4581-c75e-39e5c0b8d984",
        "colab": {
          "base_uri": "https://localhost:8080/",
          "height": 545
        }
      },
      "source": [
        "evaluate_and_show_attention(\"i don't like it .\", 'nie lubię tego .')"
      ],
      "execution_count": 47,
      "outputs": [
        {
          "output_type": "stream",
          "text": [
            "/usr/local/lib/python3.6/dist-packages/torch/nn/functional.py:1320: UserWarning: nn.functional.tanh is deprecated. Use torch.tanh instead.\n",
            "  warnings.warn(\"nn.functional.tanh is deprecated. Use torch.tanh instead.\")\n"
          ],
          "name": "stderr"
        },
        {
          "output_type": "stream",
          "text": [
            "> i don't like it .\n",
            "= nie lubię tego .\n",
            "< nie lubię tego . <EOS>\n"
          ],
          "name": "stdout"
        },
        {
          "output_type": "display_data",
          "data": {
            "image/png": "[encoded data removed]",
            "text/plain": [
              "<Figure size 640x480 with 2 Axes>"
            ]
          },
          "metadata": {
            "tags": []
          }
        }
      ]
    },
    {
      "cell_type": "markdown",
      "metadata": {
        "id": "NsPR5AvxGR2Z",
        "colab_type": "text"
      },
      "source": [
        "# Zapis modelu"
      ]
    },
    {
      "cell_type": "code",
      "metadata": {
        "id": "SGKUbnuBGR2a",
        "colab_type": "code",
        "colab": {}
      },
      "source": [
        "# model: encoder, decoder, vocab: lang1, lang2"
      ],
      "execution_count": 0,
      "outputs": []
    },
    {
      "cell_type": "code",
      "metadata": {
        "id": "hoiNGMIhGR2b",
        "colab_type": "code",
        "outputId": "b51f2617-290e-4283-ce87-c56f4edf44c3",
        "colab": {
          "base_uri": "https://localhost:8080/",
          "height": 88
        }
      },
      "source": [
        "encoder.state_dict"
      ],
      "execution_count": 49,
      "outputs": [
        {
          "output_type": "execute_result",
          "data": {
            "text/plain": [
              "<bound method Module.state_dict of EncoderRNN(\n",
              "  (embedding): Embedding(3716, 500)\n",
              "  (gru): GRU(500, 500, num_layers=2, dropout=0.1, bidirectional=True)\n",
              ")>"
            ]
          },
          "metadata": {
            "tags": []
          },
          "execution_count": 49
        }
      ]
    },
    {
      "cell_type": "code",
      "metadata": {
        "id": "3SHpy70OGR2e",
        "colab_type": "code",
        "outputId": "de8e0cd6-8c4b-4c5f-b98e-d90fcc120795",
        "colab": {
          "base_uri": "https://localhost:8080/",
          "height": 195
        }
      },
      "source": [
        "decoder.state_dict"
      ],
      "execution_count": 50,
      "outputs": [
        {
          "output_type": "execute_result",
          "data": {
            "text/plain": [
              "<bound method Module.state_dict of LuongAttnDecoderRNN(\n",
              "  (embedding): Embedding(6404, 500)\n",
              "  (embedding_dropout): Dropout(p=0.1)\n",
              "  (gru): GRU(500, 500, num_layers=2, dropout=0.1)\n",
              "  (concat): Linear(in_features=1000, out_features=500, bias=True)\n",
              "  (out): Linear(in_features=500, out_features=6404, bias=True)\n",
              "  (attn): Attn(\n",
              "    (attn): Linear(in_features=500, out_features=500, bias=True)\n",
              "  )\n",
              ")>"
            ]
          },
          "metadata": {
            "tags": []
          },
          "execution_count": 50
        }
      ]
    },
    {
      "cell_type": "code",
      "metadata": {
        "id": "-sA4goeaGR2f",
        "colab_type": "code",
        "outputId": "06dca18f-9524-4659-f6cc-01beb7bbf43a",
        "colab": {
          "base_uri": "https://localhost:8080/",
          "height": 70
        }
      },
      "source": [
        "ls -lah /content/data/seq2seq/tmp"
      ],
      "execution_count": 53,
      "outputs": [
        {
          "output_type": "stream",
          "text": [
            "total 8.0K\n",
            "drwxr-xr-x 2 root root 4.0K Nov 22 21:50 \u001b[0m\u001b[01;34m.\u001b[0m/\n",
            "drwxr-xr-x 3 root root 4.0K Nov 22 21:50 \u001b[01;34m..\u001b[0m/\n"
          ],
          "name": "stdout"
        }
      ]
    },
    {
      "cell_type": "code",
      "metadata": {
        "id": "XrhzilzDGR2h",
        "colab_type": "code",
        "colab": {}
      },
      "source": [
        "dataset_path = Path('data/seq2seq')\n",
        "tmp_path = dataset_path / 'tmp/'\n",
        "!mkdir -p $tmp_path"
      ],
      "execution_count": 0,
      "outputs": []
    },
    {
      "cell_type": "code",
      "metadata": {
        "id": "xAkaHdO6GR2i",
        "colab_type": "code",
        "colab": {}
      },
      "source": [
        "VOCAB, ENCODER, DECODER = ['vocab', 'encoder', 'decoder']\n",
        "fn_trn1 = {VOCAB: 'eng-pol.vocab.1.p', \\\n",
        "           ENCODER: 'batched.encoder.h500.l2.e10000.gpu.torch', \\\n",
        "           DECODER: 'batched.decoder.h500.l2.e10000.gpu.torch'\n",
        "          }\n",
        "fn_dict = fn_trn1"
      ],
      "execution_count": 0,
      "outputs": []
    },
    {
      "cell_type": "code",
      "metadata": {
        "id": "cG532kFwGR2l",
        "colab_type": "code",
        "colab": {}
      },
      "source": [
        "warnings.filterwarnings('ignore')\n",
        "\n",
        "torch.save(encoder, tmp_path / fn_dict[ENCODER])\n",
        "torch.save(decoder, tmp_path / fn_dict[DECODER])"
      ],
      "execution_count": 0,
      "outputs": []
    },
    {
      "cell_type": "code",
      "metadata": {
        "id": "Yzhp7KgjGR2n",
        "colab_type": "code",
        "colab": {}
      },
      "source": [
        "# save vocab\n",
        "\n",
        "vocab = {'input_lang': input_lang, 'output_lang': output_lang}\n",
        "\n",
        "pickle.dump(vocab, open(tmp_path / fn_dict[VOCAB], 'wb'))"
      ],
      "execution_count": 0,
      "outputs": []
    },
    {
      "cell_type": "code",
      "metadata": {
        "id": "SLsYCGo2GR2o",
        "colab_type": "code",
        "outputId": "5573028a-ba93-4e6b-f8d5-67d293413f14",
        "colab": {
          "base_uri": "https://localhost:8080/",
          "height": 124
        }
      },
      "source": [
        "ls -lah $tmp_path"
      ],
      "execution_count": 58,
      "outputs": [
        {
          "output_type": "stream",
          "text": [
            "total 75M\n",
            "drwxr-xr-x 2 root root 4.0K Nov 22 21:51 \u001b[0m\u001b[01;34m.\u001b[0m/\n",
            "drwxr-xr-x 3 root root 4.0K Nov 22 21:50 \u001b[01;34m..\u001b[0m/\n",
            "-rw-r--r-- 1 root root  39M Nov 22 21:51 batched.decoder.h500.l2.e10000.gpu.torch\n",
            "-rw-r--r-- 1 root root  36M Nov 22 21:51 batched.encoder.h500.l2.e10000.gpu.torch\n",
            "-rw-r--r-- 1 root root 346K Nov 22 21:51 eng-pol.vocab.1.p\n"
          ],
          "name": "stdout"
        }
      ]
    },
    {
      "cell_type": "markdown",
      "metadata": {
        "id": "8zBBVHQXjNAS",
        "colab_type": "text"
      },
      "source": [
        "# Ćwiczenia\n",
        "\n",
        "* Spróbuj użyć inny zestaw danych\n",
        "    * Inna para języków\n",
        "    * Człowiek &rarr; Maszyna (np. Komendy IOT)\n",
        "    * Czat &rarr; Odpowiedź\n",
        "    * Pytanie &rarr; Odpowiedź\n",
        "* Zastąp zastosowane osadzenie przetrenowanymi wcześniej osadzeniami, takimi jak word2vec lub GloVe\n",
        "* Wypróbuj więcej warstw, więcej ukrytych jednostek i więcej zdań. Porównaj czas trenowania i wyniki.\n",
        "* Jeśli używasz pliku tłumaczenia, w którym pary mają dwie takie same frazy (`I am test \\t I am test`), możesz użyć tego jako autoencoder. Spróbuj tego:\n",
        "    * Trenuj jako autoencoder\n",
        "    * Zapisz tylko sieć kodera\n",
        "    * Wytrenuj nowy dekoder do tłumaczenia, wykorzystując wcześniej wytrenowany koder\n"
      ]
    }
  ]
}